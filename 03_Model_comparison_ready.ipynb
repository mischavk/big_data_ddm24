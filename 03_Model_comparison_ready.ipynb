{
 "cells": [
  {
   "cell_type": "code",
   "execution_count": 1,
   "id": "bb599040",
   "metadata": {},
   "outputs": [
    {
     "name": "stderr",
     "output_type": "stream",
     "text": [
      "2024-11-11 13:43:05.973544: I tensorflow/core/util/port.cc:110] oneDNN custom operations are on. You may see slightly different numerical results due to floating-point round-off errors from different computation orders. To turn them off, set the environment variable `TF_ENABLE_ONEDNN_OPTS=0`.\n",
      "2024-11-11 13:43:05.996236: I tensorflow/core/platform/cpu_feature_guard.cc:182] This TensorFlow binary is optimized to use available CPU instructions in performance-critical operations.\n",
      "To enable the following instructions: AVX2 AVX_VNNI FMA, in other operations, rebuild TensorFlow with the appropriate compiler flags.\n",
      "2024-11-11 13:43:06.302390: W tensorflow/compiler/tf2tensorrt/utils/py_utils.cc:38] TF-TRT Warning: Could not find TensorRT\n",
      "/home/mischa/miniconda3/envs/bf/lib/python3.10/site-packages/bayesflow/trainers.py:27: TqdmExperimentalWarning: Using `tqdm.autonotebook.tqdm` in notebook mode. Use `tqdm.tqdm` instead to force console mode (e.g. in jupyter console)\n",
      "  from tqdm.autonotebook import tqdm\n"
     ]
    }
   ],
   "source": [
    "import os\n",
    "import numpy as np\n",
    "import bayesflow as bf\n",
    "import pandas as pd\n",
    "import pickle\n",
    "import tensorflow as tf\n",
    "import priors_and_simulators as ps\n",
    "import seaborn as sns\n",
    "import matplotlib.pyplot as plt\n",
    "from multiprocessing import Pool\n",
    "\n",
    "# Suppress scientific notation for floats\n",
    "np.set_printoptions(suppress=True)\n",
    "\n",
    "# Define settings\n",
    "PATH = '/home/mischa/Documents/bayesflow/prj_real_life_ddm/git/data/prepared_data/'\n",
    "PATH_TO_SAVE = '/home/mischa/Documents/bayesflow/prj_real_life_ddm/git/data/pickle_model_comparison/'\n",
    "\n",
    "NUM_ITERATIONS_PER_EPOCH = 10000\n",
    "BATCH_SIZE = 32\n",
    "NUM_EPOCHS = 100\n",
    "\n",
    "model_names = [\"DDM\", r\"$DDM_{s\\tau s\\nu}$\", \"Levy\", \"GSR\"]\n",
    "\n",
    "simple_PARAM_NAMES = [\n",
    "    r\"$\\nu_{congruent}$\",\n",
    "    r\"$\\nu_{incongruent}$\",\n",
    "    r\"$a_{congruent}$\",\n",
    "    r\"$a_{incongruent}$\",\n",
    "    r\"$\\tau_{correct}$\",\n",
    "    r\"$\\tau_{error}$\"\n",
    "]\n",
    "\n",
    "levy_PARAM_NAMES = [\n",
    "    r\"$\\nu_{congruent}$\",\n",
    "    r\"$\\nu_{incongruent}$\",\n",
    "    r\"$a_{congruent}$\",\n",
    "    r\"$a_{incongruent}$\",\n",
    "    r\"$\\tau_{correct}$\",\n",
    "    r\"$\\tau_{error}$\",\n",
    "    r\"$\\alpha$\"\n",
    "]\n",
    "\n",
    "\n",
    "sv_st0_PARAM_NAMES = [\n",
    "    r\"$\\nu_{congruent}$\",\n",
    "    r\"$\\nu_{incongruent}$\",\n",
    "    r\"$a_{congruent}$\",\n",
    "    r\"$a_{incongruent}$\",\n",
    "    r\"$\\tau_{correct}$\",\n",
    "    r\"$\\tau_{error}$\",\n",
    "    r\"$s_{\\tau}$\",\n",
    "    r\"$s_{\\nu}$\"\n",
    "]\n",
    "\n",
    "gsr_PARAM_NAMES = [\n",
    "    r\"$\\gamma$\",\n",
    "    r\"$\\nu_{word}$\",\n",
    "    r\"$\\nu_{picture}$\",\n",
    "    r\"$a_{congruent}$\",\n",
    "    r\"$a_{incongruent}$\",\n",
    "\n",
    "    r\"$\\tau_{correct}$\",\n",
    "    r\"$\\tau_{error}$\",\n",
    "    r\"$s_{\\nu}$\",\n",
    "    r\"$s_{\\tau}\"\n",
    "]"
   ]
  },
  {
   "cell_type": "code",
   "execution_count": 2,
   "id": "578512db",
   "metadata": {},
   "outputs": [],
   "source": [
    "#Load prior functions, simulators\n",
    "\n",
    "simple_ddm_prior = bf.simulation.Prior(prior_fun=ps.simple_ddm_prior_fun, param_names=simple_PARAM_NAMES)\n",
    "levy_prior = bf.simulation.Prior(prior_fun=ps.levy_prior_fun, param_names=levy_PARAM_NAMES)\n",
    "sv_st0_ddm_prior = bf.simulation.Prior(prior_fun=ps.sv_st0_ddm_prior_fun, param_names=sv_st0_PARAM_NAMES)\n",
    "gsr_ddm_prior = bf.simulation.Prior(prior_fun=ps.gsr_ddm_prior_fun, param_names=gsr_PARAM_NAMES)\n",
    "\n",
    "simple_ddm_simulator = bf.simulation.Simulator(simulator_fun=ps.simple_ddm_simulator_fun)\n",
    "sv_st0_ddm_simulator = bf.simulation.Simulator(simulator_fun=ps.sv_st0_ddm_simulator_fun)\n",
    "levy_simulator = bf.simulation.Simulator(simulator_fun=ps.levy_simulator_fun)\n",
    "gsr_ddm_simulator = bf.simulation.Simulator(simulator_fun=ps.gsr_ddm_simulator_fun)"
   ]
  },
  {
   "cell_type": "code",
   "execution_count": 3,
   "id": "9dd877af",
   "metadata": {},
   "outputs": [
    {
     "name": "stderr",
     "output_type": "stream",
     "text": [
      "INFO:root:Performing 2 pilot runs with the simple_ddm model...\n",
      "INFO:root:Shape of parameter batch after 2 pilot simulations: (batch_size = 2, 6)\n",
      "INFO:root:Shape of simulation batch after 2 pilot simulations: (batch_size = 2, 120, 4)\n",
      "INFO:root:No optional prior non-batchable context provided.\n",
      "INFO:root:No optional prior batchable context provided.\n",
      "INFO:root:No optional simulation non-batchable context provided.\n",
      "INFO:root:No optional simulation batchable context provided.\n",
      "INFO:root:Performing 2 pilot runs with the sv_st0_ddm model...\n",
      "INFO:root:Shape of parameter batch after 2 pilot simulations: (batch_size = 2, 8)\n",
      "INFO:root:Shape of simulation batch after 2 pilot simulations: (batch_size = 2, 120, 4)\n",
      "INFO:root:No optional prior non-batchable context provided.\n",
      "INFO:root:No optional prior batchable context provided.\n",
      "INFO:root:No optional simulation non-batchable context provided.\n",
      "INFO:root:No optional simulation batchable context provided.\n",
      "INFO:root:Performing 2 pilot runs with the levy model...\n",
      "INFO:root:Shape of parameter batch after 2 pilot simulations: (batch_size = 2, 7)\n",
      "INFO:root:Shape of simulation batch after 2 pilot simulations: (batch_size = 2, 120, 4)\n",
      "INFO:root:No optional prior non-batchable context provided.\n",
      "INFO:root:No optional prior batchable context provided.\n",
      "INFO:root:No optional simulation non-batchable context provided.\n",
      "INFO:root:No optional simulation batchable context provided.\n",
      "INFO:root:Performing 2 pilot runs with the GSR_ddm model...\n",
      "INFO:root:Shape of parameter batch after 2 pilot simulations: (batch_size = 2, 9)\n",
      "INFO:root:Shape of simulation batch after 2 pilot simulations: (batch_size = 2, 120, 4)\n",
      "INFO:root:No optional prior non-batchable context provided.\n",
      "INFO:root:No optional prior batchable context provided.\n",
      "INFO:root:No optional simulation non-batchable context provided.\n",
      "INFO:root:No optional simulation batchable context provided.\n"
     ]
    }
   ],
   "source": [
    "#Define generative models\n",
    "\n",
    "model_simple_ddm = bf.simulation.GenerativeModel(\n",
    "    prior=simple_ddm_prior,\n",
    "    simulator=simple_ddm_simulator,\n",
    "    name=\"simple_ddm\")\n",
    "\n",
    "model_sv_st0_ddm = bf.simulation.GenerativeModel(\n",
    "    prior=sv_st0_ddm_prior,\n",
    "    simulator=sv_st0_ddm_simulator,\n",
    "    name=\"sv_st0_ddm\")\n",
    "\n",
    "model_levy= bf.simulation.GenerativeModel(\n",
    "    prior=levy_prior,\n",
    "    simulator=levy_simulator,\n",
    "    name=\"levy\")\n",
    "\n",
    "model_gsr_ddm = bf.simulation.GenerativeModel(\n",
    "    prior=gsr_ddm_prior,\n",
    "    simulator=gsr_ddm_simulator,\n",
    "    name=\"GSR_ddm\")\n",
    "\n",
    "generative_models = bf.simulation.MultiGenerativeModel([model_simple_ddm,\n",
    "                                                        model_sv_st0_ddm,\n",
    "                                                        model_levy,\n",
    "                                                       model_gsr_ddm])\n",
    "                                                          "
   ]
  },
  {
   "cell_type": "code",
   "execution_count": 4,
   "id": "c714b018",
   "metadata": {},
   "outputs": [
    {
     "name": "stderr",
     "output_type": "stream",
     "text": [
      "2024-11-11 13:43:08.942479: I tensorflow/compiler/xla/stream_executor/cuda/cuda_gpu_executor.cc:995] successful NUMA node read from SysFS had negative value (-1), but there must be at least one NUMA node, so returning NUMA node zero. See more at https://github.com/torvalds/linux/blob/v6.0/Documentation/ABI/testing/sysfs-bus-pci#L344-L355\n",
      "2024-11-11 13:43:08.958808: I tensorflow/compiler/xla/stream_executor/cuda/cuda_gpu_executor.cc:995] successful NUMA node read from SysFS had negative value (-1), but there must be at least one NUMA node, so returning NUMA node zero. See more at https://github.com/torvalds/linux/blob/v6.0/Documentation/ABI/testing/sysfs-bus-pci#L344-L355\n",
      "2024-11-11 13:43:08.958912: I tensorflow/compiler/xla/stream_executor/cuda/cuda_gpu_executor.cc:995] successful NUMA node read from SysFS had negative value (-1), but there must be at least one NUMA node, so returning NUMA node zero. See more at https://github.com/torvalds/linux/blob/v6.0/Documentation/ABI/testing/sysfs-bus-pci#L344-L355\n",
      "2024-11-11 13:43:08.960390: I tensorflow/compiler/xla/stream_executor/cuda/cuda_gpu_executor.cc:995] successful NUMA node read from SysFS had negative value (-1), but there must be at least one NUMA node, so returning NUMA node zero. See more at https://github.com/torvalds/linux/blob/v6.0/Documentation/ABI/testing/sysfs-bus-pci#L344-L355\n",
      "2024-11-11 13:43:08.960460: I tensorflow/compiler/xla/stream_executor/cuda/cuda_gpu_executor.cc:995] successful NUMA node read from SysFS had negative value (-1), but there must be at least one NUMA node, so returning NUMA node zero. See more at https://github.com/torvalds/linux/blob/v6.0/Documentation/ABI/testing/sysfs-bus-pci#L344-L355\n",
      "2024-11-11 13:43:08.960504: I tensorflow/compiler/xla/stream_executor/cuda/cuda_gpu_executor.cc:995] successful NUMA node read from SysFS had negative value (-1), but there must be at least one NUMA node, so returning NUMA node zero. See more at https://github.com/torvalds/linux/blob/v6.0/Documentation/ABI/testing/sysfs-bus-pci#L344-L355\n",
      "2024-11-11 13:43:09.009182: I tensorflow/compiler/xla/stream_executor/cuda/cuda_gpu_executor.cc:995] successful NUMA node read from SysFS had negative value (-1), but there must be at least one NUMA node, so returning NUMA node zero. See more at https://github.com/torvalds/linux/blob/v6.0/Documentation/ABI/testing/sysfs-bus-pci#L344-L355\n",
      "2024-11-11 13:43:09.009254: I tensorflow/compiler/xla/stream_executor/cuda/cuda_gpu_executor.cc:995] successful NUMA node read from SysFS had negative value (-1), but there must be at least one NUMA node, so returning NUMA node zero. See more at https://github.com/torvalds/linux/blob/v6.0/Documentation/ABI/testing/sysfs-bus-pci#L344-L355\n",
      "2024-11-11 13:43:09.009302: I tensorflow/compiler/xla/stream_executor/cuda/cuda_gpu_executor.cc:995] successful NUMA node read from SysFS had negative value (-1), but there must be at least one NUMA node, so returning NUMA node zero. See more at https://github.com/torvalds/linux/blob/v6.0/Documentation/ABI/testing/sysfs-bus-pci#L344-L355\n",
      "2024-11-11 13:43:09.009345: I tensorflow/core/common_runtime/gpu/gpu_device.cc:1639] Created device /job:localhost/replica:0/task:0/device:GPU:0 with 7750 MB memory:  -> device: 0, name: NVIDIA GeForce RTX 3080, pci bus id: 0000:01:00.0, compute capability: 8.6\n",
      "INFO:root:Loaded loss history from model_comparison_checks/history_100.pkl.\n",
      "INFO:root:Networks loaded from model_comparison_checks/ckpt-100\n",
      "INFO:root:Performing a consistency check with provided components...\n",
      "2024-11-11 13:43:09.560049: I tensorflow/compiler/xla/stream_executor/cuda/cuda_blas.cc:606] TensorFloat-32 will be used for the matrix multiplication. This will only be logged once.\n",
      "INFO:root:Done.\n"
     ]
    }
   ],
   "source": [
    "#Define networks, amortizer, trainer\n",
    "\n",
    "summary_net = bf.summary_networks.SetTransformer(input_dim=4,summary_dim=20)\n",
    "\n",
    "inference_net = bf.inference_networks.PMPNetwork(num_models=4, dropout=False)\n",
    "\n",
    "amortizer = bf.amortizers.AmortizedModelComparison(inference_net, summary_net)\n",
    "\n",
    "trainer = bf.trainers.Trainer(\n",
    "    amortizer=amortizer,\n",
    "    generative_model=generative_models,\n",
    "    checkpoint_path = \"model_comparison_checks\"\n",
    ")"
   ]
  },
  {
   "cell_type": "markdown",
   "id": "2a52e6ef",
   "metadata": {},
   "source": [
    "# Train model comparison network"
   ]
  },
  {
   "cell_type": "code",
   "execution_count": 7,
   "id": "d6147b0b",
   "metadata": {},
   "outputs": [],
   "source": [
    "def presimulator(x):\n",
    "    file_list = [{} for _ in range(NUM_ITERATIONS_PER_EPOCH)]\n",
    "\n",
    "    for k in range(NUM_ITERATIONS_PER_EPOCH):\n",
    "        file_list[k] = generative_models(BATCH_SIZE)       \n",
    "        \n",
    "    with open('comparison_sims/presim_file_'+str(x)+'.pkl', 'wb+') as f:\n",
    "        pickle.dump(file_list, f)\n",
    "        \n",
    "# Pre-simulate data for offline training (much faster due to parallel processing)        \n",
    "if __name__ == '__main__':\n",
    "    with Pool(processes=25) as pool:       \n",
    "        pool.map(presimulator, range(NUM_EPOCHS))"
   ]
  },
  {
   "cell_type": "code",
   "execution_count": 8,
   "id": "01fd4934",
   "metadata": {},
   "outputs": [
    {
     "data": {
      "application/vnd.jupyter.widget-view+json": {
       "model_id": "b746819a89dd4381a5d32354ce953b16",
       "version_major": 2,
       "version_minor": 0
      },
      "text/plain": [
       "Training epoch 1:   0%|          | 0/10000 [00:00<?, ?it/s]"
      ]
     },
     "metadata": {},
     "output_type": "display_data"
    },
    {
     "name": "stderr",
     "output_type": "stream",
     "text": [
      "2024-09-17 12:17:37.994959: I tensorflow/compiler/xla/service/service.cc:168] XLA service 0x7f9094100a80 initialized for platform CUDA (this does not guarantee that XLA will be used). Devices:\n",
      "2024-09-17 12:17:37.994974: I tensorflow/compiler/xla/service/service.cc:176]   StreamExecutor device (0): NVIDIA GeForce RTX 3080, Compute Capability 8.6\n",
      "2024-09-17 12:17:37.997840: I tensorflow/compiler/mlir/tensorflow/utils/dump_mlir_util.cc:255] disabling MLIR crash reproducer, set env var `MLIR_CRASH_REPRODUCER_DIRECTORY` to enable.\n",
      "2024-09-17 12:17:38.005271: I tensorflow/compiler/xla/stream_executor/cuda/cuda_dnn.cc:432] Loaded cuDNN version 8600\n",
      "2024-09-17 12:17:38.074225: I ./tensorflow/compiler/jit/device_compiler.h:186] Compiled cluster using XLA!  This line is logged at most once for the lifetime of the process.\n"
     ]
    },
    {
     "data": {
      "application/vnd.jupyter.widget-view+json": {
       "model_id": "48999a94c6864d659bc630a3d3998d95",
       "version_major": 2,
       "version_minor": 0
      },
      "text/plain": [
       "Training epoch 2:   0%|          | 0/10000 [00:00<?, ?it/s]"
      ]
     },
     "metadata": {},
     "output_type": "display_data"
    },
    {
     "data": {
      "application/vnd.jupyter.widget-view+json": {
       "model_id": "0b262a1a8e4a4dd6b2f4599ad27da9ad",
       "version_major": 2,
       "version_minor": 0
      },
      "text/plain": [
       "Training epoch 3:   0%|          | 0/10000 [00:00<?, ?it/s]"
      ]
     },
     "metadata": {},
     "output_type": "display_data"
    },
    {
     "data": {
      "application/vnd.jupyter.widget-view+json": {
       "model_id": "567370320caa4fcda9d8ffb5231b5a7b",
       "version_major": 2,
       "version_minor": 0
      },
      "text/plain": [
       "Training epoch 4:   0%|          | 0/10000 [00:00<?, ?it/s]"
      ]
     },
     "metadata": {},
     "output_type": "display_data"
    },
    {
     "data": {
      "application/vnd.jupyter.widget-view+json": {
       "model_id": "cdfe481b57b94a10b07b4f5d686521c7",
       "version_major": 2,
       "version_minor": 0
      },
      "text/plain": [
       "Training epoch 5:   0%|          | 0/10000 [00:00<?, ?it/s]"
      ]
     },
     "metadata": {},
     "output_type": "display_data"
    },
    {
     "data": {
      "application/vnd.jupyter.widget-view+json": {
       "model_id": "1dab2e749297458e954a7ed1e1b2d7a3",
       "version_major": 2,
       "version_minor": 0
      },
      "text/plain": [
       "Training epoch 6:   0%|          | 0/10000 [00:00<?, ?it/s]"
      ]
     },
     "metadata": {},
     "output_type": "display_data"
    },
    {
     "data": {
      "application/vnd.jupyter.widget-view+json": {
       "model_id": "e18d897b0f1c40748f699ae5ef67cf08",
       "version_major": 2,
       "version_minor": 0
      },
      "text/plain": [
       "Training epoch 7:   0%|          | 0/10000 [00:00<?, ?it/s]"
      ]
     },
     "metadata": {},
     "output_type": "display_data"
    },
    {
     "data": {
      "application/vnd.jupyter.widget-view+json": {
       "model_id": "d26b09c6ae0f4505bb327ca8166d11b2",
       "version_major": 2,
       "version_minor": 0
      },
      "text/plain": [
       "Training epoch 8:   0%|          | 0/10000 [00:00<?, ?it/s]"
      ]
     },
     "metadata": {},
     "output_type": "display_data"
    },
    {
     "data": {
      "application/vnd.jupyter.widget-view+json": {
       "model_id": "9027faf4940c49d69c273fea6eb098e3",
       "version_major": 2,
       "version_minor": 0
      },
      "text/plain": [
       "Training epoch 9:   0%|          | 0/10000 [00:00<?, ?it/s]"
      ]
     },
     "metadata": {},
     "output_type": "display_data"
    },
    {
     "data": {
      "application/vnd.jupyter.widget-view+json": {
       "model_id": "440df87881124379a92dbdf61f1e9e6f",
       "version_major": 2,
       "version_minor": 0
      },
      "text/plain": [
       "Training epoch 10:   0%|          | 0/10000 [00:00<?, ?it/s]"
      ]
     },
     "metadata": {},
     "output_type": "display_data"
    },
    {
     "data": {
      "application/vnd.jupyter.widget-view+json": {
       "model_id": "e881706272114bf383f142d6cf2615c5",
       "version_major": 2,
       "version_minor": 0
      },
      "text/plain": [
       "Training epoch 11:   0%|          | 0/10000 [00:00<?, ?it/s]"
      ]
     },
     "metadata": {},
     "output_type": "display_data"
    },
    {
     "data": {
      "application/vnd.jupyter.widget-view+json": {
       "model_id": "0c46bcd59aea4f36a2651a4f7ad4b06f",
       "version_major": 2,
       "version_minor": 0
      },
      "text/plain": [
       "Training epoch 12:   0%|          | 0/10000 [00:00<?, ?it/s]"
      ]
     },
     "metadata": {},
     "output_type": "display_data"
    },
    {
     "data": {
      "application/vnd.jupyter.widget-view+json": {
       "model_id": "157d4c706c764d6697cdb29bcf5baaa8",
       "version_major": 2,
       "version_minor": 0
      },
      "text/plain": [
       "Training epoch 13:   0%|          | 0/10000 [00:00<?, ?it/s]"
      ]
     },
     "metadata": {},
     "output_type": "display_data"
    },
    {
     "data": {
      "application/vnd.jupyter.widget-view+json": {
       "model_id": "9e2b3ca31b714cf8991ec890cd0a4041",
       "version_major": 2,
       "version_minor": 0
      },
      "text/plain": [
       "Training epoch 14:   0%|          | 0/10000 [00:00<?, ?it/s]"
      ]
     },
     "metadata": {},
     "output_type": "display_data"
    },
    {
     "data": {
      "application/vnd.jupyter.widget-view+json": {
       "model_id": "4a4731c639644914888863a5b77de2b6",
       "version_major": 2,
       "version_minor": 0
      },
      "text/plain": [
       "Training epoch 15:   0%|          | 0/10000 [00:00<?, ?it/s]"
      ]
     },
     "metadata": {},
     "output_type": "display_data"
    },
    {
     "data": {
      "application/vnd.jupyter.widget-view+json": {
       "model_id": "969580037e104c6a95d38745beecdd1c",
       "version_major": 2,
       "version_minor": 0
      },
      "text/plain": [
       "Training epoch 16:   0%|          | 0/10000 [00:00<?, ?it/s]"
      ]
     },
     "metadata": {},
     "output_type": "display_data"
    },
    {
     "data": {
      "application/vnd.jupyter.widget-view+json": {
       "model_id": "1aa45c56d9c747c3902db15d74a40af4",
       "version_major": 2,
       "version_minor": 0
      },
      "text/plain": [
       "Training epoch 17:   0%|          | 0/10000 [00:00<?, ?it/s]"
      ]
     },
     "metadata": {},
     "output_type": "display_data"
    },
    {
     "data": {
      "application/vnd.jupyter.widget-view+json": {
       "model_id": "9c4c3e098e424949ba879398aeeed901",
       "version_major": 2,
       "version_minor": 0
      },
      "text/plain": [
       "Training epoch 18:   0%|          | 0/10000 [00:00<?, ?it/s]"
      ]
     },
     "metadata": {},
     "output_type": "display_data"
    },
    {
     "data": {
      "application/vnd.jupyter.widget-view+json": {
       "model_id": "05021e9e21f84d7aa64cef2055a17691",
       "version_major": 2,
       "version_minor": 0
      },
      "text/plain": [
       "Training epoch 19:   0%|          | 0/10000 [00:00<?, ?it/s]"
      ]
     },
     "metadata": {},
     "output_type": "display_data"
    },
    {
     "data": {
      "application/vnd.jupyter.widget-view+json": {
       "model_id": "59f00aa5b37c4596ad228c498b5a57fc",
       "version_major": 2,
       "version_minor": 0
      },
      "text/plain": [
       "Training epoch 20:   0%|          | 0/10000 [00:00<?, ?it/s]"
      ]
     },
     "metadata": {},
     "output_type": "display_data"
    },
    {
     "data": {
      "application/vnd.jupyter.widget-view+json": {
       "model_id": "99dcb7d6e3fd498c8e3c910d3fb31bb9",
       "version_major": 2,
       "version_minor": 0
      },
      "text/plain": [
       "Training epoch 21:   0%|          | 0/10000 [00:00<?, ?it/s]"
      ]
     },
     "metadata": {},
     "output_type": "display_data"
    },
    {
     "data": {
      "application/vnd.jupyter.widget-view+json": {
       "model_id": "afb64a4509a34b079fd9cc9fdb30c4c0",
       "version_major": 2,
       "version_minor": 0
      },
      "text/plain": [
       "Training epoch 22:   0%|          | 0/10000 [00:00<?, ?it/s]"
      ]
     },
     "metadata": {},
     "output_type": "display_data"
    },
    {
     "data": {
      "application/vnd.jupyter.widget-view+json": {
       "model_id": "6072e90a8dd84cd38252d2bd476c28a9",
       "version_major": 2,
       "version_minor": 0
      },
      "text/plain": [
       "Training epoch 23:   0%|          | 0/10000 [00:00<?, ?it/s]"
      ]
     },
     "metadata": {},
     "output_type": "display_data"
    },
    {
     "data": {
      "application/vnd.jupyter.widget-view+json": {
       "model_id": "9d1a1dae397c49f99be055f380164b13",
       "version_major": 2,
       "version_minor": 0
      },
      "text/plain": [
       "Training epoch 24:   0%|          | 0/10000 [00:00<?, ?it/s]"
      ]
     },
     "metadata": {},
     "output_type": "display_data"
    },
    {
     "data": {
      "application/vnd.jupyter.widget-view+json": {
       "model_id": "b63866a2cd134e7bae014d451f3c6c2d",
       "version_major": 2,
       "version_minor": 0
      },
      "text/plain": [
       "Training epoch 25:   0%|          | 0/10000 [00:00<?, ?it/s]"
      ]
     },
     "metadata": {},
     "output_type": "display_data"
    },
    {
     "data": {
      "application/vnd.jupyter.widget-view+json": {
       "model_id": "301daee6c0584451acbf91df2a23a46c",
       "version_major": 2,
       "version_minor": 0
      },
      "text/plain": [
       "Training epoch 26:   0%|          | 0/10000 [00:00<?, ?it/s]"
      ]
     },
     "metadata": {},
     "output_type": "display_data"
    },
    {
     "data": {
      "application/vnd.jupyter.widget-view+json": {
       "model_id": "7b33d8cf5b5d4ebeaec47b0315bbb971",
       "version_major": 2,
       "version_minor": 0
      },
      "text/plain": [
       "Training epoch 27:   0%|          | 0/10000 [00:00<?, ?it/s]"
      ]
     },
     "metadata": {},
     "output_type": "display_data"
    },
    {
     "data": {
      "application/vnd.jupyter.widget-view+json": {
       "model_id": "9586872683b74f479ad78f5f84579050",
       "version_major": 2,
       "version_minor": 0
      },
      "text/plain": [
       "Training epoch 28:   0%|          | 0/10000 [00:00<?, ?it/s]"
      ]
     },
     "metadata": {},
     "output_type": "display_data"
    },
    {
     "data": {
      "application/vnd.jupyter.widget-view+json": {
       "model_id": "51f8419f908840cf8833be624690ad86",
       "version_major": 2,
       "version_minor": 0
      },
      "text/plain": [
       "Training epoch 29:   0%|          | 0/10000 [00:00<?, ?it/s]"
      ]
     },
     "metadata": {},
     "output_type": "display_data"
    },
    {
     "data": {
      "application/vnd.jupyter.widget-view+json": {
       "model_id": "f650f2e9a138452e9d7ce390431d5ef5",
       "version_major": 2,
       "version_minor": 0
      },
      "text/plain": [
       "Training epoch 30:   0%|          | 0/10000 [00:00<?, ?it/s]"
      ]
     },
     "metadata": {},
     "output_type": "display_data"
    },
    {
     "data": {
      "application/vnd.jupyter.widget-view+json": {
       "model_id": "ce81ed692dff4ee1808df6b7f3d5a385",
       "version_major": 2,
       "version_minor": 0
      },
      "text/plain": [
       "Training epoch 31:   0%|          | 0/10000 [00:00<?, ?it/s]"
      ]
     },
     "metadata": {},
     "output_type": "display_data"
    },
    {
     "data": {
      "application/vnd.jupyter.widget-view+json": {
       "model_id": "b32c2ca254e74f07aefcf873aaef86d1",
       "version_major": 2,
       "version_minor": 0
      },
      "text/plain": [
       "Training epoch 32:   0%|          | 0/10000 [00:00<?, ?it/s]"
      ]
     },
     "metadata": {},
     "output_type": "display_data"
    },
    {
     "data": {
      "application/vnd.jupyter.widget-view+json": {
       "model_id": "70ebd541a90d4938ba1897d56f10fb15",
       "version_major": 2,
       "version_minor": 0
      },
      "text/plain": [
       "Training epoch 33:   0%|          | 0/10000 [00:00<?, ?it/s]"
      ]
     },
     "metadata": {},
     "output_type": "display_data"
    },
    {
     "data": {
      "application/vnd.jupyter.widget-view+json": {
       "model_id": "e9351eccf8b0466a96db4d6af6c44fa6",
       "version_major": 2,
       "version_minor": 0
      },
      "text/plain": [
       "Training epoch 34:   0%|          | 0/10000 [00:00<?, ?it/s]"
      ]
     },
     "metadata": {},
     "output_type": "display_data"
    },
    {
     "data": {
      "application/vnd.jupyter.widget-view+json": {
       "model_id": "2d99dc6072c34cfa924f20169ad6bcee",
       "version_major": 2,
       "version_minor": 0
      },
      "text/plain": [
       "Training epoch 35:   0%|          | 0/10000 [00:00<?, ?it/s]"
      ]
     },
     "metadata": {},
     "output_type": "display_data"
    },
    {
     "data": {
      "application/vnd.jupyter.widget-view+json": {
       "model_id": "67bb8c268f514fa48b7e3b8983d969d6",
       "version_major": 2,
       "version_minor": 0
      },
      "text/plain": [
       "Training epoch 36:   0%|          | 0/10000 [00:00<?, ?it/s]"
      ]
     },
     "metadata": {},
     "output_type": "display_data"
    },
    {
     "data": {
      "application/vnd.jupyter.widget-view+json": {
       "model_id": "1430b755f3c74956acd8b20be594c98e",
       "version_major": 2,
       "version_minor": 0
      },
      "text/plain": [
       "Training epoch 37:   0%|          | 0/10000 [00:00<?, ?it/s]"
      ]
     },
     "metadata": {},
     "output_type": "display_data"
    },
    {
     "data": {
      "application/vnd.jupyter.widget-view+json": {
       "model_id": "65fabf7342a54b2fa878cf71310ed37c",
       "version_major": 2,
       "version_minor": 0
      },
      "text/plain": [
       "Training epoch 38:   0%|          | 0/10000 [00:00<?, ?it/s]"
      ]
     },
     "metadata": {},
     "output_type": "display_data"
    },
    {
     "data": {
      "application/vnd.jupyter.widget-view+json": {
       "model_id": "d0802f44b64f466b839d3bcf5bf1de01",
       "version_major": 2,
       "version_minor": 0
      },
      "text/plain": [
       "Training epoch 39:   0%|          | 0/10000 [00:00<?, ?it/s]"
      ]
     },
     "metadata": {},
     "output_type": "display_data"
    },
    {
     "data": {
      "application/vnd.jupyter.widget-view+json": {
       "model_id": "831935bfb7c34e4f85e4203b0ca0dde5",
       "version_major": 2,
       "version_minor": 0
      },
      "text/plain": [
       "Training epoch 40:   0%|          | 0/10000 [00:00<?, ?it/s]"
      ]
     },
     "metadata": {},
     "output_type": "display_data"
    },
    {
     "data": {
      "application/vnd.jupyter.widget-view+json": {
       "model_id": "3a638f81ff27423282850c1bf9b04c00",
       "version_major": 2,
       "version_minor": 0
      },
      "text/plain": [
       "Training epoch 41:   0%|          | 0/10000 [00:00<?, ?it/s]"
      ]
     },
     "metadata": {},
     "output_type": "display_data"
    },
    {
     "data": {
      "application/vnd.jupyter.widget-view+json": {
       "model_id": "ca5585b8d2c44137944651405566dc0c",
       "version_major": 2,
       "version_minor": 0
      },
      "text/plain": [
       "Training epoch 42:   0%|          | 0/10000 [00:00<?, ?it/s]"
      ]
     },
     "metadata": {},
     "output_type": "display_data"
    },
    {
     "data": {
      "application/vnd.jupyter.widget-view+json": {
       "model_id": "98d52bf08f874b7084098de6909c056d",
       "version_major": 2,
       "version_minor": 0
      },
      "text/plain": [
       "Training epoch 43:   0%|          | 0/10000 [00:00<?, ?it/s]"
      ]
     },
     "metadata": {},
     "output_type": "display_data"
    },
    {
     "data": {
      "application/vnd.jupyter.widget-view+json": {
       "model_id": "ca3d28a6c57745178736ad7150fb9ec6",
       "version_major": 2,
       "version_minor": 0
      },
      "text/plain": [
       "Training epoch 44:   0%|          | 0/10000 [00:00<?, ?it/s]"
      ]
     },
     "metadata": {},
     "output_type": "display_data"
    },
    {
     "data": {
      "application/vnd.jupyter.widget-view+json": {
       "model_id": "46293a1dc8f845f388198b9c47e475e8",
       "version_major": 2,
       "version_minor": 0
      },
      "text/plain": [
       "Training epoch 45:   0%|          | 0/10000 [00:00<?, ?it/s]"
      ]
     },
     "metadata": {},
     "output_type": "display_data"
    },
    {
     "data": {
      "application/vnd.jupyter.widget-view+json": {
       "model_id": "9c58ca3978004b718d1e751698d4a0f9",
       "version_major": 2,
       "version_minor": 0
      },
      "text/plain": [
       "Training epoch 46:   0%|          | 0/10000 [00:00<?, ?it/s]"
      ]
     },
     "metadata": {},
     "output_type": "display_data"
    },
    {
     "data": {
      "application/vnd.jupyter.widget-view+json": {
       "model_id": "cc6b7a7314e1478ca87a7bde101d7e8f",
       "version_major": 2,
       "version_minor": 0
      },
      "text/plain": [
       "Training epoch 47:   0%|          | 0/10000 [00:00<?, ?it/s]"
      ]
     },
     "metadata": {},
     "output_type": "display_data"
    },
    {
     "data": {
      "application/vnd.jupyter.widget-view+json": {
       "model_id": "366b601b572a439a8fe15479589b95b5",
       "version_major": 2,
       "version_minor": 0
      },
      "text/plain": [
       "Training epoch 48:   0%|          | 0/10000 [00:00<?, ?it/s]"
      ]
     },
     "metadata": {},
     "output_type": "display_data"
    },
    {
     "data": {
      "application/vnd.jupyter.widget-view+json": {
       "model_id": "2875023e192b4a76a37ed166df18a362",
       "version_major": 2,
       "version_minor": 0
      },
      "text/plain": [
       "Training epoch 49:   0%|          | 0/10000 [00:00<?, ?it/s]"
      ]
     },
     "metadata": {},
     "output_type": "display_data"
    },
    {
     "data": {
      "application/vnd.jupyter.widget-view+json": {
       "model_id": "11ba68c1d23f4af9aa815a2e6d80b45e",
       "version_major": 2,
       "version_minor": 0
      },
      "text/plain": [
       "Training epoch 50:   0%|          | 0/10000 [00:00<?, ?it/s]"
      ]
     },
     "metadata": {},
     "output_type": "display_data"
    },
    {
     "data": {
      "application/vnd.jupyter.widget-view+json": {
       "model_id": "ce204466e6064fc78552bcbd34f0d1f1",
       "version_major": 2,
       "version_minor": 0
      },
      "text/plain": [
       "Training epoch 51:   0%|          | 0/10000 [00:00<?, ?it/s]"
      ]
     },
     "metadata": {},
     "output_type": "display_data"
    },
    {
     "data": {
      "application/vnd.jupyter.widget-view+json": {
       "model_id": "fd8548ad676148379ae0b3525d4c8a81",
       "version_major": 2,
       "version_minor": 0
      },
      "text/plain": [
       "Training epoch 52:   0%|          | 0/10000 [00:00<?, ?it/s]"
      ]
     },
     "metadata": {},
     "output_type": "display_data"
    },
    {
     "data": {
      "application/vnd.jupyter.widget-view+json": {
       "model_id": "434066f79213433eba0854401a19b876",
       "version_major": 2,
       "version_minor": 0
      },
      "text/plain": [
       "Training epoch 53:   0%|          | 0/10000 [00:00<?, ?it/s]"
      ]
     },
     "metadata": {},
     "output_type": "display_data"
    },
    {
     "data": {
      "application/vnd.jupyter.widget-view+json": {
       "model_id": "b571ad6c080943bea9d2d19c5ededcac",
       "version_major": 2,
       "version_minor": 0
      },
      "text/plain": [
       "Training epoch 54:   0%|          | 0/10000 [00:00<?, ?it/s]"
      ]
     },
     "metadata": {},
     "output_type": "display_data"
    },
    {
     "data": {
      "application/vnd.jupyter.widget-view+json": {
       "model_id": "76383f6145cc4428b2d0894b02b3e8a4",
       "version_major": 2,
       "version_minor": 0
      },
      "text/plain": [
       "Training epoch 55:   0%|          | 0/10000 [00:00<?, ?it/s]"
      ]
     },
     "metadata": {},
     "output_type": "display_data"
    },
    {
     "data": {
      "application/vnd.jupyter.widget-view+json": {
       "model_id": "f4a6d0cbada2434f924f4adbe354b667",
       "version_major": 2,
       "version_minor": 0
      },
      "text/plain": [
       "Training epoch 56:   0%|          | 0/10000 [00:00<?, ?it/s]"
      ]
     },
     "metadata": {},
     "output_type": "display_data"
    },
    {
     "data": {
      "application/vnd.jupyter.widget-view+json": {
       "model_id": "10686ed52e6940bb8869aa2c7788d1d3",
       "version_major": 2,
       "version_minor": 0
      },
      "text/plain": [
       "Training epoch 57:   0%|          | 0/10000 [00:00<?, ?it/s]"
      ]
     },
     "metadata": {},
     "output_type": "display_data"
    },
    {
     "data": {
      "application/vnd.jupyter.widget-view+json": {
       "model_id": "e34e27f430654e099b1d0b8ee91dfefa",
       "version_major": 2,
       "version_minor": 0
      },
      "text/plain": [
       "Training epoch 58:   0%|          | 0/10000 [00:00<?, ?it/s]"
      ]
     },
     "metadata": {},
     "output_type": "display_data"
    },
    {
     "data": {
      "application/vnd.jupyter.widget-view+json": {
       "model_id": "b23385115d544fd88208f03d75342b89",
       "version_major": 2,
       "version_minor": 0
      },
      "text/plain": [
       "Training epoch 59:   0%|          | 0/10000 [00:00<?, ?it/s]"
      ]
     },
     "metadata": {},
     "output_type": "display_data"
    },
    {
     "data": {
      "application/vnd.jupyter.widget-view+json": {
       "model_id": "99ef0c26cb904063a670de53f313d0ed",
       "version_major": 2,
       "version_minor": 0
      },
      "text/plain": [
       "Training epoch 60:   0%|          | 0/10000 [00:00<?, ?it/s]"
      ]
     },
     "metadata": {},
     "output_type": "display_data"
    },
    {
     "data": {
      "application/vnd.jupyter.widget-view+json": {
       "model_id": "85cdd6c85e924363a1b0f1245f6fe1fb",
       "version_major": 2,
       "version_minor": 0
      },
      "text/plain": [
       "Training epoch 61:   0%|          | 0/10000 [00:00<?, ?it/s]"
      ]
     },
     "metadata": {},
     "output_type": "display_data"
    },
    {
     "data": {
      "application/vnd.jupyter.widget-view+json": {
       "model_id": "86df10d44d6f4d0ca8663d77cfe9ecbe",
       "version_major": 2,
       "version_minor": 0
      },
      "text/plain": [
       "Training epoch 62:   0%|          | 0/10000 [00:00<?, ?it/s]"
      ]
     },
     "metadata": {},
     "output_type": "display_data"
    },
    {
     "data": {
      "application/vnd.jupyter.widget-view+json": {
       "model_id": "3785d2aff9564933824319e9f98f2193",
       "version_major": 2,
       "version_minor": 0
      },
      "text/plain": [
       "Training epoch 63:   0%|          | 0/10000 [00:00<?, ?it/s]"
      ]
     },
     "metadata": {},
     "output_type": "display_data"
    },
    {
     "data": {
      "application/vnd.jupyter.widget-view+json": {
       "model_id": "d215ac75a8064928a41cc2ad3588d303",
       "version_major": 2,
       "version_minor": 0
      },
      "text/plain": [
       "Training epoch 64:   0%|          | 0/10000 [00:00<?, ?it/s]"
      ]
     },
     "metadata": {},
     "output_type": "display_data"
    },
    {
     "data": {
      "application/vnd.jupyter.widget-view+json": {
       "model_id": "6262ed7bdf3a4b96a903b8f49510a290",
       "version_major": 2,
       "version_minor": 0
      },
      "text/plain": [
       "Training epoch 65:   0%|          | 0/10000 [00:00<?, ?it/s]"
      ]
     },
     "metadata": {},
     "output_type": "display_data"
    },
    {
     "data": {
      "application/vnd.jupyter.widget-view+json": {
       "model_id": "ef111c1cc67f44e8854fb95ddc2f7183",
       "version_major": 2,
       "version_minor": 0
      },
      "text/plain": [
       "Training epoch 66:   0%|          | 0/10000 [00:00<?, ?it/s]"
      ]
     },
     "metadata": {},
     "output_type": "display_data"
    },
    {
     "data": {
      "application/vnd.jupyter.widget-view+json": {
       "model_id": "7102f76e65b14ef8bd3b0ff473ddec48",
       "version_major": 2,
       "version_minor": 0
      },
      "text/plain": [
       "Training epoch 67:   0%|          | 0/10000 [00:00<?, ?it/s]"
      ]
     },
     "metadata": {},
     "output_type": "display_data"
    },
    {
     "data": {
      "application/vnd.jupyter.widget-view+json": {
       "model_id": "03160cafd07a48c09867d865d3dd1bed",
       "version_major": 2,
       "version_minor": 0
      },
      "text/plain": [
       "Training epoch 68:   0%|          | 0/10000 [00:00<?, ?it/s]"
      ]
     },
     "metadata": {},
     "output_type": "display_data"
    },
    {
     "data": {
      "application/vnd.jupyter.widget-view+json": {
       "model_id": "2e3be99a824442d09f56f7975f604e96",
       "version_major": 2,
       "version_minor": 0
      },
      "text/plain": [
       "Training epoch 69:   0%|          | 0/10000 [00:00<?, ?it/s]"
      ]
     },
     "metadata": {},
     "output_type": "display_data"
    },
    {
     "data": {
      "application/vnd.jupyter.widget-view+json": {
       "model_id": "aa01972119dc4b4cb04e4dbd01d035a9",
       "version_major": 2,
       "version_minor": 0
      },
      "text/plain": [
       "Training epoch 70:   0%|          | 0/10000 [00:00<?, ?it/s]"
      ]
     },
     "metadata": {},
     "output_type": "display_data"
    },
    {
     "data": {
      "application/vnd.jupyter.widget-view+json": {
       "model_id": "48af8050bdc4476594cf9f979e565ff6",
       "version_major": 2,
       "version_minor": 0
      },
      "text/plain": [
       "Training epoch 71:   0%|          | 0/10000 [00:00<?, ?it/s]"
      ]
     },
     "metadata": {},
     "output_type": "display_data"
    },
    {
     "data": {
      "application/vnd.jupyter.widget-view+json": {
       "model_id": "ef8c6b5d6ee5497baf950d0649c4d2d7",
       "version_major": 2,
       "version_minor": 0
      },
      "text/plain": [
       "Training epoch 72:   0%|          | 0/10000 [00:00<?, ?it/s]"
      ]
     },
     "metadata": {},
     "output_type": "display_data"
    },
    {
     "data": {
      "application/vnd.jupyter.widget-view+json": {
       "model_id": "0a9ad2f2382541c2b9693d95743f6192",
       "version_major": 2,
       "version_minor": 0
      },
      "text/plain": [
       "Training epoch 73:   0%|          | 0/10000 [00:00<?, ?it/s]"
      ]
     },
     "metadata": {},
     "output_type": "display_data"
    },
    {
     "data": {
      "application/vnd.jupyter.widget-view+json": {
       "model_id": "069001aa60144825b7b3aaea02f4ee4c",
       "version_major": 2,
       "version_minor": 0
      },
      "text/plain": [
       "Training epoch 74:   0%|          | 0/10000 [00:00<?, ?it/s]"
      ]
     },
     "metadata": {},
     "output_type": "display_data"
    },
    {
     "data": {
      "application/vnd.jupyter.widget-view+json": {
       "model_id": "f2bf15ad933f461c949ffd30de4d652c",
       "version_major": 2,
       "version_minor": 0
      },
      "text/plain": [
       "Training epoch 75:   0%|          | 0/10000 [00:00<?, ?it/s]"
      ]
     },
     "metadata": {},
     "output_type": "display_data"
    },
    {
     "data": {
      "application/vnd.jupyter.widget-view+json": {
       "model_id": "751107db60824a35aeec3feb38a5c3f8",
       "version_major": 2,
       "version_minor": 0
      },
      "text/plain": [
       "Training epoch 76:   0%|          | 0/10000 [00:00<?, ?it/s]"
      ]
     },
     "metadata": {},
     "output_type": "display_data"
    },
    {
     "data": {
      "application/vnd.jupyter.widget-view+json": {
       "model_id": "c903a50d30204a159b96a10929009d3d",
       "version_major": 2,
       "version_minor": 0
      },
      "text/plain": [
       "Training epoch 77:   0%|          | 0/10000 [00:00<?, ?it/s]"
      ]
     },
     "metadata": {},
     "output_type": "display_data"
    },
    {
     "data": {
      "application/vnd.jupyter.widget-view+json": {
       "model_id": "ee6325464b6e48db8c4c0081b5a80d8e",
       "version_major": 2,
       "version_minor": 0
      },
      "text/plain": [
       "Training epoch 78:   0%|          | 0/10000 [00:00<?, ?it/s]"
      ]
     },
     "metadata": {},
     "output_type": "display_data"
    },
    {
     "data": {
      "application/vnd.jupyter.widget-view+json": {
       "model_id": "d2318863d7fc43e5bb22f01cf01a25a3",
       "version_major": 2,
       "version_minor": 0
      },
      "text/plain": [
       "Training epoch 79:   0%|          | 0/10000 [00:00<?, ?it/s]"
      ]
     },
     "metadata": {},
     "output_type": "display_data"
    },
    {
     "data": {
      "application/vnd.jupyter.widget-view+json": {
       "model_id": "0d86108a05c44ed2bbdaf91d0eda0c5b",
       "version_major": 2,
       "version_minor": 0
      },
      "text/plain": [
       "Training epoch 80:   0%|          | 0/10000 [00:00<?, ?it/s]"
      ]
     },
     "metadata": {},
     "output_type": "display_data"
    },
    {
     "data": {
      "application/vnd.jupyter.widget-view+json": {
       "model_id": "98202ad626dc4c6aa40252fb1d07278b",
       "version_major": 2,
       "version_minor": 0
      },
      "text/plain": [
       "Training epoch 81:   0%|          | 0/10000 [00:00<?, ?it/s]"
      ]
     },
     "metadata": {},
     "output_type": "display_data"
    },
    {
     "data": {
      "application/vnd.jupyter.widget-view+json": {
       "model_id": "bca089d211864e1c9ce05c01a1ad3e97",
       "version_major": 2,
       "version_minor": 0
      },
      "text/plain": [
       "Training epoch 82:   0%|          | 0/10000 [00:00<?, ?it/s]"
      ]
     },
     "metadata": {},
     "output_type": "display_data"
    },
    {
     "data": {
      "application/vnd.jupyter.widget-view+json": {
       "model_id": "92eda13d227143d5b0796e97e8578dc6",
       "version_major": 2,
       "version_minor": 0
      },
      "text/plain": [
       "Training epoch 83:   0%|          | 0/10000 [00:00<?, ?it/s]"
      ]
     },
     "metadata": {},
     "output_type": "display_data"
    },
    {
     "data": {
      "application/vnd.jupyter.widget-view+json": {
       "model_id": "cfbd2a862c374f74832cae66f8d16c77",
       "version_major": 2,
       "version_minor": 0
      },
      "text/plain": [
       "Training epoch 84:   0%|          | 0/10000 [00:00<?, ?it/s]"
      ]
     },
     "metadata": {},
     "output_type": "display_data"
    },
    {
     "data": {
      "application/vnd.jupyter.widget-view+json": {
       "model_id": "8445eb55e93f48da8d92aa7609da1a60",
       "version_major": 2,
       "version_minor": 0
      },
      "text/plain": [
       "Training epoch 85:   0%|          | 0/10000 [00:00<?, ?it/s]"
      ]
     },
     "metadata": {},
     "output_type": "display_data"
    },
    {
     "data": {
      "application/vnd.jupyter.widget-view+json": {
       "model_id": "7e69290de0404bcc9ac1e8e1834c62b3",
       "version_major": 2,
       "version_minor": 0
      },
      "text/plain": [
       "Training epoch 86:   0%|          | 0/10000 [00:00<?, ?it/s]"
      ]
     },
     "metadata": {},
     "output_type": "display_data"
    },
    {
     "data": {
      "application/vnd.jupyter.widget-view+json": {
       "model_id": "e0b0038c63054b7f98e707d0b840a300",
       "version_major": 2,
       "version_minor": 0
      },
      "text/plain": [
       "Training epoch 87:   0%|          | 0/10000 [00:00<?, ?it/s]"
      ]
     },
     "metadata": {},
     "output_type": "display_data"
    },
    {
     "data": {
      "application/vnd.jupyter.widget-view+json": {
       "model_id": "e6aae4ac749f4f54bee1c0f162fabbdf",
       "version_major": 2,
       "version_minor": 0
      },
      "text/plain": [
       "Training epoch 88:   0%|          | 0/10000 [00:00<?, ?it/s]"
      ]
     },
     "metadata": {},
     "output_type": "display_data"
    },
    {
     "data": {
      "application/vnd.jupyter.widget-view+json": {
       "model_id": "90c46ac896fc42909cf63f9eda83709b",
       "version_major": 2,
       "version_minor": 0
      },
      "text/plain": [
       "Training epoch 89:   0%|          | 0/10000 [00:00<?, ?it/s]"
      ]
     },
     "metadata": {},
     "output_type": "display_data"
    },
    {
     "data": {
      "application/vnd.jupyter.widget-view+json": {
       "model_id": "9aee6b069b564e9cad2dc4bd008442a1",
       "version_major": 2,
       "version_minor": 0
      },
      "text/plain": [
       "Training epoch 90:   0%|          | 0/10000 [00:00<?, ?it/s]"
      ]
     },
     "metadata": {},
     "output_type": "display_data"
    },
    {
     "data": {
      "application/vnd.jupyter.widget-view+json": {
       "model_id": "aab786bb75c8433086c2fcc6efdd88f4",
       "version_major": 2,
       "version_minor": 0
      },
      "text/plain": [
       "Training epoch 91:   0%|          | 0/10000 [00:00<?, ?it/s]"
      ]
     },
     "metadata": {},
     "output_type": "display_data"
    },
    {
     "data": {
      "application/vnd.jupyter.widget-view+json": {
       "model_id": "b4d8bb138737442e8ab60d1efa209f11",
       "version_major": 2,
       "version_minor": 0
      },
      "text/plain": [
       "Training epoch 92:   0%|          | 0/10000 [00:00<?, ?it/s]"
      ]
     },
     "metadata": {},
     "output_type": "display_data"
    },
    {
     "data": {
      "application/vnd.jupyter.widget-view+json": {
       "model_id": "b13a0fb24bff42c58df32757b73eed49",
       "version_major": 2,
       "version_minor": 0
      },
      "text/plain": [
       "Training epoch 93:   0%|          | 0/10000 [00:00<?, ?it/s]"
      ]
     },
     "metadata": {},
     "output_type": "display_data"
    },
    {
     "data": {
      "application/vnd.jupyter.widget-view+json": {
       "model_id": "75f548cf66f6490dbea315216f1bc8d7",
       "version_major": 2,
       "version_minor": 0
      },
      "text/plain": [
       "Training epoch 94:   0%|          | 0/10000 [00:00<?, ?it/s]"
      ]
     },
     "metadata": {},
     "output_type": "display_data"
    },
    {
     "data": {
      "application/vnd.jupyter.widget-view+json": {
       "model_id": "ec630e6ccee349e29cdee5e3f45650b8",
       "version_major": 2,
       "version_minor": 0
      },
      "text/plain": [
       "Training epoch 95:   0%|          | 0/10000 [00:00<?, ?it/s]"
      ]
     },
     "metadata": {},
     "output_type": "display_data"
    },
    {
     "data": {
      "application/vnd.jupyter.widget-view+json": {
       "model_id": "b7b298e6140b4b6a97b2f1e8fcbe09c8",
       "version_major": 2,
       "version_minor": 0
      },
      "text/plain": [
       "Training epoch 96:   0%|          | 0/10000 [00:00<?, ?it/s]"
      ]
     },
     "metadata": {},
     "output_type": "display_data"
    },
    {
     "data": {
      "application/vnd.jupyter.widget-view+json": {
       "model_id": "d8ce72fa14df4ad7835b586779d7b3c9",
       "version_major": 2,
       "version_minor": 0
      },
      "text/plain": [
       "Training epoch 97:   0%|          | 0/10000 [00:00<?, ?it/s]"
      ]
     },
     "metadata": {},
     "output_type": "display_data"
    },
    {
     "data": {
      "application/vnd.jupyter.widget-view+json": {
       "model_id": "147245d6fae1404cae67d7b6cfb48f29",
       "version_major": 2,
       "version_minor": 0
      },
      "text/plain": [
       "Training epoch 98:   0%|          | 0/10000 [00:00<?, ?it/s]"
      ]
     },
     "metadata": {},
     "output_type": "display_data"
    },
    {
     "data": {
      "application/vnd.jupyter.widget-view+json": {
       "model_id": "462f2a75275f4726bca06ae3159fd314",
       "version_major": 2,
       "version_minor": 0
      },
      "text/plain": [
       "Training epoch 99:   0%|          | 0/10000 [00:00<?, ?it/s]"
      ]
     },
     "metadata": {},
     "output_type": "display_data"
    },
    {
     "data": {
      "application/vnd.jupyter.widget-view+json": {
       "model_id": "6d171f18b72045038f586aed63d55a68",
       "version_major": 2,
       "version_minor": 0
      },
      "text/plain": [
       "Training epoch 100:   0%|          | 0/10000 [00:00<?, ?it/s]"
      ]
     },
     "metadata": {},
     "output_type": "display_data"
    }
   ],
   "source": [
    "optimizer = tf.keras.optimizers.Adam(learning_rate=\n",
    "                                     tf.keras.optimizers.schedules.CosineDecay(\n",
    "                                         1e-4, NUM_ITERATIONS_PER_EPOCH*NUM_EPOCHS, alpha=1e-8, name=None))\n",
    "losses = trainer.train_from_presimulation('comparison_sims', optimizer = optimizer,\n",
    "                                         reuse_optimizer=True)"
   ]
  },
  {
   "cell_type": "markdown",
   "id": "6818c04f",
   "metadata": {},
   "source": [
    "# Diagnostics"
   ]
  },
  {
   "cell_type": "code",
   "execution_count": 5,
   "id": "c549ccb4",
   "metadata": {},
   "outputs": [],
   "source": [
    "# Generate 10000 validation data sets\n",
    "sim_data = generative_models(10000)\n",
    "\n",
    "# Use the configurator to transform the data structure\n",
    "sim_data_transformed = trainer.configurator(sim_data)\n",
    "\n",
    "# Get true indices and predicted PMPs from the trained network\n",
    "sim_indices = sim_data_transformed[\"model_indices\"]\n",
    "sim_preds = amortizer(sim_data_transformed)"
   ]
  },
  {
   "cell_type": "code",
   "execution_count": 6,
   "id": "613ffca2",
   "metadata": {},
   "outputs": [
    {
     "data": {
      "image/png": "[encoded data removed]",
      "text/plain": [
       "<Figure size 1000x1000 with 4 Axes>"
      ]
     },
     "metadata": {},
     "output_type": "display_data"
    }
   ],
   "source": [
    "# Calibration plot\n",
    "cal_curves = bf.diagnostics.plot_calibration_curves(true_models=sim_indices, pred_models=sim_preds,\n",
    "                                                   model_names = model_names, n_row=2, n_col=2)"
   ]
  },
  {
   "cell_type": "code",
   "execution_count": 11,
   "id": "0a6166a2",
   "metadata": {},
   "outputs": [
    {
     "data": {
      "image/png": "[encoded data removed]",
      "text/plain": [
       "<Figure size 500x500 with 2 Axes>"
      ]
     },
     "metadata": {},
     "output_type": "display_data"
    }
   ],
   "source": [
    "# Confusion matrix plot\n",
    "conf_matrix = bf.diagnostics.plot_confusion_matrix(true_models=sim_indices, pred_models=sim_preds,\n",
    "                                                   model_names = model_names)"
   ]
  },
  {
   "cell_type": "code",
   "execution_count": 12,
   "id": "79c4034d",
   "metadata": {},
   "outputs": [
    {
     "data": {
      "image/png": "[encoded data removed]",
      "text/plain": [
       "<Figure size 1200x800 with 2 Axes>"
      ]
     },
     "metadata": {},
     "output_type": "display_data"
    }
   ],
   "source": [
    "# Combined both plots for manuscript\n",
    "\n",
    "from io import BytesIO\n",
    "# Function to convert a figure to an image (with proper layout)\n",
    "def figure_to_image(fig, dpi=600):\n",
    "    # Adjust the layout to ensure nothing is cut off\n",
    "    fig.tight_layout(pad=0.0)  # This adds extra space around the figure\n",
    "    \n",
    "    # Create a BytesIO buffer to hold the image data\n",
    "    buf = BytesIO()\n",
    "\n",
    "    # Save the figure to the buffer with tight bounding box and extra padding\n",
    "    fig.savefig(buf, format='png', bbox_inches='tight', pad_inches=0.1, dpi=dpi)\n",
    "    \n",
    "    buf.seek(0)  # Reset the buffer position to the beginning\n",
    "    \n",
    "    # Read the image data from the buffer\n",
    "    img = plt.imread(buf)\n",
    "    return img\n",
    "\n",
    "# Create the original figures\n",
    "fig1 = conf_matrix\n",
    "fig2 = cal_curves\n",
    "\n",
    "# Convert the figures to images\n",
    "img1 = figure_to_image(fig1)\n",
    "img2 = figure_to_image(fig2)\n",
    "\n",
    "# Create a new figure with subplots (1 row, 2 columns)\n",
    "fig_combined, (ax_combined1, ax_combined2) = plt.subplots(1, 2, figsize=(12, 8))\n",
    "\n",
    "# Display the images using imshow\n",
    "ax_combined1.imshow(img1)\n",
    "ax_combined2.imshow(img2)\n",
    "\n",
    "# Hide the axes (we only want to show the images)\n",
    "ax_combined1.axis('off')\n",
    "ax_combined2.axis('off')\n",
    "\n",
    "# Adjust layout to avoid clipping\n",
    "fig_combined.subplots_adjust(wspace=0.1)\n",
    "\n",
    "# Show the combined figure\n",
    "plt.show()"
   ]
  },
  {
   "cell_type": "markdown",
   "id": "e5982700",
   "metadata": {},
   "source": [
    "# Apply model comparison to Project Implicit data"
   ]
  },
  {
   "cell_type": "code",
   "execution_count": 16,
   "id": "8fd1b232",
   "metadata": {},
   "outputs": [
    {
     "name": "stdout",
     "output_type": "stream",
     "text": [
      "[0.05652964 0.32689817 0.24353999 0.3730322 ]prepared_False2003iat.p\n",
      "[0.05814886 0.36015637 0.225927   0.35576777]prepared_False2004iat.p\n",
      "[0.05879164 0.36838282 0.2211776  0.35164794]prepared_False2004iat2.p\n",
      "[0.0608835  0.37577408 0.2156675  0.34767491]prepared_False2005iat.p\n",
      "[0.06162061 0.38153219 0.21116025 0.34568695]prepared_False2005iat2.p\n",
      "[0.06188356 0.38578496 0.20683462 0.34549686]prepared_False2005iat3.p\n",
      "[0.06295463 0.38790117 0.20733691 0.34180729]prepared_False2005iat4.p\n",
      "[0.06354957 0.38899688 0.20910492 0.33834862]prepared_False2005iat5.p\n",
      "[0.06361691 0.38900811 0.20904173 0.33833325]prepared_False2005iat6.p\n",
      "[0.06420855 0.38900314 0.20930713 0.33748118]prepared_False2006iat.p\n",
      "[0.0644564  0.39061996 0.21053539 0.33438825]prepared_False2006iat2.p\n",
      "[0.06439267 0.39215024 0.2113347  0.33212239]prepared_False2006iat3.p\n",
      "[0.06448859 0.39378052 0.21249557 0.32923533]prepared_False2006iat4.p\n",
      "[0.06500562 0.39522454 0.21238061 0.32738923]prepared_False2006iat5.p\n",
      "[0.06577026 0.39788077 0.20837125 0.32797772]prepared_False2006iat6.p\n",
      "[0.06600759 0.39949262 0.20869872 0.32580107]prepared_False2007iat.p\n",
      "[0.06626542 0.40090487 0.20770052 0.32512919]prepared_False2007iat2.p\n",
      "[0.0665032  0.40246152 0.2058554  0.32517988]prepared_False2007iat3.p\n",
      "[0.06671998 0.40349066 0.20502682 0.32476253]prepared_False2007iat4.p\n",
      "[0.06731868 0.40482411 0.2037941  0.32406311]prepared_False2007iat5.p\n",
      "[0.0671419  0.40570972 0.20432128 0.3228271 ]prepared_False2007iat6.p\n",
      "[0.06691733 0.40601874 0.20542832 0.32163561]prepared_False2007iat7.p\n",
      "[0.06691831 0.4060967  0.20545657 0.32152842]prepared_False2007iat8.p\n",
      "[0.06677842 0.4065937  0.20568963 0.32093825]prepared_False2008iat.p\n",
      "[0.0665679  0.40703954 0.20637723 0.32001532]prepared_False2008iat2.p\n",
      "[0.06642615 0.40768848 0.20646607 0.3194193 ]prepared_False2008iat3.p\n",
      "[0.0663666  0.40810741 0.20682992 0.31869608]prepared_False2008iat4.p\n",
      "[0.06637006 0.40877244 0.20654155 0.31831595]prepared_False2008iat5.p\n",
      "[0.06629569 0.40877696 0.20682717 0.31810018]prepared_False2008iat6.p\n",
      "[0.06644336 0.40949956 0.2063021  0.31775499]prepared_False2009iat.p\n",
      "[0.066558   0.41020068 0.20587955 0.31736177]prepared_False2009iat2.p\n",
      "[0.06629766 0.41048823 0.20652573 0.31668838]prepared_False2009iat3.p\n",
      "[0.06628999 0.41084915 0.20646508 0.31639578]prepared_False2009iat4.p\n",
      "[0.06622445 0.41129982 0.20658469 0.31589104]prepared_False2009iat5.p\n",
      "[0.06620672 0.41163586 0.20634688 0.31581055]prepared_False2009iat6.p\n",
      "[0.06625841 0.41294867 0.20484763 0.31594529]prepared_False2009iat7.p\n",
      "[0.06608553 0.41320369 0.20517134 0.31553944]prepared_False2009iat8.p\n",
      "[0.06601766 0.41337232 0.20542927 0.31518075]prepared_False2010iat.p\n",
      "[0.0658789  0.41362002 0.20576637 0.31473471]prepared_False2010iat2.p\n",
      "[0.0657389  0.41379637 0.2060762  0.31438853]prepared_False2010iat3.p\n",
      "[0.06571469 0.41410614 0.20608906 0.31409011]prepared_False2010iat4.p\n",
      "[0.06561711 0.41413124 0.20662176 0.31362989]prepared_False2010iat5.p\n",
      "[0.06549104 0.41411422 0.20701118 0.31338355]prepared_False2010iat6.p\n",
      "[0.06542283 0.41433357 0.20716581 0.31307779]prepared_False2011iat.p\n",
      "[0.06529702 0.41448541 0.20750909 0.31270849]prepared_False2011iat2.p\n",
      "[0.06522307 0.41451416 0.2076678  0.31259498]prepared_False2011iat3.p\n",
      "[0.0651845  0.41455906 0.20789778 0.31235867]prepared_False2011iat4.p\n",
      "[0.06503063 0.4136883  0.20856021 0.31272086]prepared_False2011iat5.p\n",
      "[0.06496222 0.41326376 0.20877211 0.31300191]prepared_False2011iat6.p\n",
      "[0.06489473 0.41281905 0.20938505 0.31290117]prepared_False2012iat.p\n",
      "[0.06490004 0.41227393 0.20988183 0.31294419]prepared_False2012iat2.p\n",
      "[0.06488914 0.41219387 0.21000072 0.31291626]prepared_False2012iat3.p\n",
      "[0.06483945 0.41165832 0.21058125 0.31292098]prepared_False2012iat4.p\n",
      "[0.06473847 0.41099253 0.21155503 0.31271396]prepared_False2012iat5.p\n",
      "[0.06468036 0.41065843 0.21202287 0.31263834]prepared_False2012iat6.p\n",
      "[0.06462259 0.41010218 0.21277789 0.31249734]prepared_False2013iat.p\n",
      "[0.06452251 0.40953355 0.21358311 0.31236083]prepared_False2013iat2.p\n",
      "[0.06455535 0.40928803 0.2136857  0.31247092]prepared_False2013iat3.p\n",
      "[0.06450847 0.40889498 0.21439771 0.31219883]prepared_False2013iat4.p\n",
      "[0.06443337 0.40836387 0.21520389 0.31199887]prepared_False2013iat5.p\n",
      "[0.06443205 0.4083349  0.21521629 0.31201677]prepared_False2013iat6.p\n",
      "[0.06437242 0.4081552  0.2155167  0.31195567]prepared_False2014JanOctiat.p\n",
      "[0.06427143 0.40788009 0.21598466 0.31186382]prepared_False2014JanOctiat2.p\n",
      "[0.06429481 0.40755375 0.21617443 0.31197701]prepared_False2014JanOctiat3.p\n",
      "[0.06423834 0.40722351 0.2167001  0.31183805]prepared_False2014JanOctiat4.p\n",
      "[0.06422881 0.40714717 0.21680063 0.31182339]prepared_False2014JanOctiat5.p\n",
      "[0.06432497 0.40647835 0.21699634 0.31220034]prepared_False2014Oct2015Janiat.p\n",
      "[0.06432996 0.40621476 0.21724578 0.3122095 ]prepared_False2015FebMariat.p\n",
      "[0.06429561 0.40605099 0.21748988 0.31216352]prepared_False2015MarDeciat.p\n",
      "[0.0642674  0.40587414 0.21776415 0.31209431]prepared_False2015MarDeciat2.p\n",
      "[0.06439504 0.40575946 0.21761266 0.31223284]prepared_False2015MarDeciat3.p\n",
      "[0.06445378 0.40561934 0.21766358 0.31226331]prepared_False2015MarDeciat4.p\n",
      "[0.0644055  0.40556649 0.2179787  0.3120493 ]prepared_False2015MarDeciat5.p\n",
      "[0.06436625 0.40546447 0.21828201 0.31188727]prepared_False2015MarDeciat6.p\n",
      "[0.06433878 0.4053686  0.21858018 0.31171243]prepared_False2015MarDeciat7.p\n",
      "[0.06431107 0.40523608 0.21883462 0.31161823]prepared_False2015MarDeciat8.p\n",
      "[0.06428308 0.40514048 0.21899419 0.31158225]prepared_False2015MarDeciat9.p\n",
      "[0.06428882 0.40507777 0.21915431 0.31147909]prepared_False2016JanSepiat.p\n",
      "[0.06428463 0.40496337 0.21934463 0.31140737]prepared_False2016JanSepiat2.p\n",
      "[0.06428561 0.40496217 0.21942062 0.3113316 ]prepared_False2016JanSepiat3.p\n",
      "[0.06428483 0.40491815 0.21951517 0.31128186]prepared_False2016JanSepiat4.p\n",
      "[0.0642939  0.40484689 0.21963639 0.31122282]prepared_False2016JanSepiat5.p\n",
      "[0.06439982 0.40473134 0.21950859 0.31136026]prepared_False2016JanSepiat6.p\n",
      "[0.06450381 0.40467584 0.21937196 0.31144839]prepared_False2016JanSepiat7.p\n",
      "[0.06454519 0.40463196 0.21931477 0.31150808]prepared_False2016JanSepiat8.p\n",
      "[0.06454598 0.40463381 0.21931567 0.31150453]prepared_False2016JanSepiat9.p\n",
      "[0.06455257 0.40469962 0.21903384 0.31171397]prepared_False2016iat.p\n",
      "[0.06455042 0.40476922 0.21880389 0.31187646]prepared_False2016iat2.p\n",
      "[0.06454993 0.40482653 0.21859503 0.31202852]prepared_False2016iat3.p\n",
      "[0.06455333 0.40486848 0.21837991 0.31219829]prepared_False2016iat4.p\n",
      "[0.06455555 0.40487323 0.21835248 0.31221875]prepared_False2016iat5.p\n",
      "[0.06456744 0.40492112 0.21810897 0.31240248]prepared_False2017iat.p\n",
      "[0.06455331 0.40504088 0.21786188 0.31254393]prepared_False2017iat10.p\n",
      "[0.06453754 0.40512234 0.21764223 0.31269789]prepared_False2017iat11.p\n",
      "[0.06452054 0.40521715 0.21741302 0.31284928]prepared_False2017iat12.p\n",
      "[0.06450489 0.40529875 0.21717307 0.31302329]prepared_False2017iat13.p\n",
      "[0.0645072  0.40529323 0.21716012 0.31303945]prepared_False2017iat14.p\n",
      "[0.06452445 0.40532723 0.21694595 0.31320238]prepared_False2017iat2.p\n",
      "[0.06452746 0.40536383 0.21675352 0.31335519]prepared_False2017iat3.p\n",
      "[0.06451906 0.40542622 0.21655777 0.31349695]prepared_False2017iat4.p\n",
      "[0.06450882 0.40549455 0.21639877 0.31359787]prepared_False2017iat5.p\n",
      "[0.06450216 0.40554809 0.21619487 0.31375489]prepared_False2017iat6.p\n",
      "[0.06453455 0.40558274 0.21593887 0.31394383]prepared_False2017iat7.p\n",
      "[0.06456771 0.4056767  0.21563112 0.31412447]prepared_False2017iat8.p\n",
      "[0.06456311 0.40575002 0.2154613  0.31422557]prepared_False2017iat9.p\n",
      "[0.06456673 0.40581909 0.21523941 0.31437476]prepared_False2018iat.p\n",
      "[0.06455874 0.40594086 0.2149916  0.3145088 ]prepared_False2018iat10.p\n",
      "[0.06455974 0.40602971 0.21477198 0.31463858]prepared_False2018iat11.p\n",
      "[0.06455755 0.40614016 0.21455595 0.31474633]prepared_False2018iat12.p\n",
      "[0.06456382 0.40617044 0.21447855 0.31478719]prepared_False2018iat13.p\n",
      "[0.06455231 0.40626588 0.2142639  0.31491791]prepared_False2018iat2.p\n",
      "[0.0645519  0.40634868 0.21404546 0.31505396]prepared_False2018iat3.p\n",
      "[0.06454432 0.40641639 0.21385959 0.3151797 ]prepared_False2018iat4.p\n",
      "[0.06454696 0.40647011 0.21366118 0.31532176]prepared_False2018iat5.p\n",
      "[0.06455451 0.40653701 0.21343355 0.31547494]prepared_False2018iat6.p\n"
     ]
    },
    {
     "name": "stdout",
     "output_type": "stream",
     "text": [
      "[0.06459291 0.40660109 0.21315244 0.31565356]prepared_False2018iat7.p\n",
      "[0.06460084 0.40666515 0.21294844 0.31578557]prepared_False2018iat8.p\n",
      "[0.06458687 0.40674528 0.21275303 0.31591482]prepared_False2018iat9.p\n",
      "[0.06460558 0.40685048 0.21251864 0.3160253 ]prepared_False2019iat.p\n",
      "[0.06458551 0.40695834 0.21228513 0.31617103]prepared_False2019iat10.p\n",
      "[0.06456712 0.40709019 0.21207228 0.31627041]prepared_False2019iat11.p\n",
      "[0.06453926 0.40721979 0.21185084 0.31639012]prepared_False2019iat12.p\n",
      "[0.06451809 0.40731799 0.2116533  0.31651062]prepared_False2019iat13.p\n",
      "[0.06452076 0.4073991  0.21145931 0.31662082]prepared_False2019iat2.p\n",
      "[0.06450748 0.40747721 0.21126489 0.31675042]prepared_False2019iat3.p\n",
      "[0.06450248 0.40759287 0.21108039 0.31682426]prepared_False2019iat4.p\n",
      "[0.06448767 0.40769119 0.210892   0.31692914]prepared_False2019iat5.p\n",
      "[0.06449705 0.40778886 0.21060588 0.31710821]prepared_False2019iat6.p\n",
      "[0.06453261 0.40788345 0.21031015 0.31727379]prepared_False2019iat7.p\n",
      "[0.06455364 0.4079335  0.21013471 0.31737816]prepared_False2019iat8.p\n",
      "[0.06455243 0.4080048  0.21000769 0.31743507]prepared_False2019iat9.p\n",
      "[0.06455538 0.40811328 0.2098008  0.31753054]prepared_False2020iat.p\n",
      "[0.06461636 0.40822716 0.20945832 0.31769815]prepared_False2020iat10.p\n",
      "[0.06467549 0.40832401 0.20911555 0.31788495]prepared_False2020iat11.p\n",
      "[0.06473947 0.40846255 0.20873186 0.31806612]prepared_False2020iat12.p\n",
      "[0.06480744 0.40859543 0.20837381 0.31822332]prepared_False2020iat13.p\n",
      "[0.06485763 0.40874459 0.20804412 0.31835366]prepared_False2020iat14.p\n",
      "[0.06488201 0.40892251 0.20771289 0.31848259]prepared_False2020iat15.p\n",
      "[0.06490021 0.40908071 0.20743427 0.31858481]prepared_False2020iat16.p\n",
      "[0.06490377 0.40926359 0.20715024 0.31868239]prepared_False2020iat17.p\n",
      "[0.06492783 0.40939981 0.20685915 0.31881321]prepared_False2020iat18.p\n",
      "[0.06493878 0.40954038 0.20660207 0.31891877]prepared_False2020iat19.p\n",
      "[0.06493291 0.40962657 0.2064193  0.31902122]prepared_False2020iat2.p\n",
      "[0.06494693 0.40976918 0.20615436 0.31912953]prepared_False2020iat20.p\n",
      "[0.06495311 0.40992624 0.20589867 0.31922198]prepared_False2020iat21.p\n",
      "[0.06496883 0.41006022 0.20563679 0.31933416]prepared_False2020iat22.p\n",
      "[0.06497695 0.41020865 0.20536365 0.31945075]prepared_False2020iat23.p\n",
      "[0.06498667 0.41034363 0.20509939 0.31957031]prepared_False2020iat24.p\n",
      "[0.06499428 0.41040569 0.20495847 0.31964156]prepared_False2020iat25.p\n",
      "[0.06497217 0.4104996  0.20478353 0.3197447 ]prepared_False2020iat3.p\n",
      "[0.06496052 0.41057818 0.20463527 0.31982603]prepared_False2020iat4.p\n",
      "[0.06495782 0.41065595 0.20443394 0.31995228]prepared_False2020iat5.p\n",
      "[0.06501488 0.410751   0.20418619 0.32004793]prepared_False2020iat6.p\n",
      "[0.0650776  0.41082906 0.20391789 0.32017546]prepared_False2020iat7.p\n",
      "[0.06514348 0.41087722 0.20364802 0.32033128]prepared_False2020iat8.p\n",
      "[0.0651985  0.41094155 0.20337249 0.32048746]prepared_False2020iat9.p\n",
      "[0.0652264  0.41105221 0.20312983 0.32059156]prepared_False2021iat.p\n",
      "[0.0652328  0.41116828 0.20292368 0.32067524]prepared_False2021iat10.p\n",
      "[0.06525948 0.41128077 0.20270324 0.32075651]prepared_False2021iat11.p\n",
      "[0.06528456 0.41138701 0.20248856 0.32083986]prepared_False2021iat12.p\n",
      "[0.06531246 0.4114808  0.2022775  0.32092924]prepared_False2021iat13.p\n",
      "[0.06530309 0.41158944 0.20211405 0.32099343]prepared_False2021iat14.p\n",
      "[0.06529465 0.41169457 0.2019567  0.32105409]prepared_False2021iat15.p\n",
      "[0.06528444 0.4117995  0.20178926 0.3211268 ]prepared_False2021iat16.p\n",
      "[0.0652757  0.41189472 0.20163536 0.32119422]prepared_False2021iat17.p\n",
      "[0.06527074 0.41198799 0.20149269 0.32124859]prepared_False2021iat18.p\n",
      "[0.0652703  0.41207899 0.20134332 0.32130739]prepared_False2021iat19.p\n",
      "[0.06529282 0.41216712 0.20115337 0.32138669]prepared_False2021iat2.p\n",
      "[0.06529593 0.41223407 0.2010546  0.3214154 ]prepared_False2021iat20.p\n",
      "[0.0653023  0.41233605 0.20088197 0.32147967]prepared_False2021iat3.p\n",
      "[0.06532174 0.41243384 0.20068963 0.32155479]prepared_False2021iat4.p\n",
      "[0.06533615 0.41252546 0.2005247  0.32161369]prepared_False2021iat5.p\n",
      "[0.06534839 0.41262738 0.20034414 0.32168009]prepared_False2021iat6.p\n",
      "[0.06535689 0.4127058  0.20019609 0.32174122]prepared_False2021iat7.p\n",
      "[0.06536379 0.41280057 0.20002052 0.32181513]prepared_False2021iat8.p\n",
      "[0.06536471 0.41288135 0.19985301 0.32190094]prepared_False2021iat9.p\n",
      "[0.06537529 0.41298021 0.19969981 0.32194469]prepared_False20221iat.p\n",
      "[0.0653747  0.41307502 0.19955592 0.32199437]prepared_False20221iat2.p\n",
      "[0.06535682 0.41328951 0.19929604 0.32205764]prepared_False20221iat3.p\n",
      "[0.0653515  0.41340342 0.19913627 0.32210882]prepared_False20221iat4.p\n",
      "[0.06533769 0.41352481 0.19898096 0.32215654]prepared_False20221iat5.p\n",
      "[0.06532474 0.41371038 0.19868957 0.32227531]prepared_False20221iat6.p\n",
      "[0.06533068 0.41393638 0.19834859 0.32238434]prepared_False20221iat7.p\n",
      "[0.0653324  0.4139655  0.19831262 0.32238947]prepared_False20221iat8.p\n",
      "[0.06534511 0.41414636 0.19799058 0.32251795]prepared_False20222iat.p\n",
      "[0.06533459 0.41434606 0.19772888 0.32259047]prepared_False20222iat2.p\n",
      "[0.06531267 0.41454902 0.19749616 0.32264215]prepared_False20222iat3.p\n",
      "[0.06528737 0.41473873 0.19727712 0.32269678]prepared_False20222iat4.p\n",
      "[0.06525281 0.4148974  0.19708138 0.32276841]prepared_False20222iat5.p\n",
      "[0.06522245 0.41503773 0.19690355 0.32283627]prepared_False20222iat6.p\n",
      "[0.06521484 0.4152014  0.19667922 0.32290454]prepared_False20231iat.p\n",
      "[0.06518271 0.41534537 0.1964893  0.32298261]prepared_False20231iat2.p\n",
      "[0.06514341 0.41550762 0.19627761 0.32307135]prepared_False20231iat3.p\n",
      "[0.06510383 0.415656   0.19609249 0.32314768]prepared_False20231iat4.p\n",
      "[0.06508905 0.41581681 0.19587414 0.32322   ]prepared_False20231iat5.p\n",
      "[0.06508882 0.41587212 0.19580368 0.32323538]prepared_False20231iat6.p\n",
      "[0.06509408 0.41601356 0.1955787  0.32331366]prepared_False20232iat.p\n",
      "[0.06498651 0.4157895  0.19595186 0.32327213]prepared_False20232iat2.p\n",
      "[0.06487325 0.41551378 0.19637794 0.32323503]prepared_False20232iat3.p\n",
      "[0.06475309 0.41522992 0.19683177 0.32318521]prepared_False20232iat4.p\n",
      "[0.06468187 0.41507069 0.1970777  0.32316974]prepared_False20232iat5.p\n",
      "[0.0646722  0.41496446 0.19707373 0.32328961]prepared_True2003iat.p\n",
      "[0.06466509 0.41486421 0.19706093 0.32340977]prepared_True2004iat.p\n",
      "[0.06466139 0.41481405 0.19705313 0.32347143]prepared_True2004iat2.p\n",
      "[0.06467002 0.41468206 0.19704248 0.32360544]prepared_True2005iat.p\n",
      "[0.06466589 0.41456093 0.19699708 0.3237761 ]prepared_True2005iat2.p\n",
      "[0.06466457 0.41447273 0.19694514 0.32391756]prepared_True2005iat3.p\n",
      "[0.06468769 0.41429393 0.19701855 0.32399983]prepared_True2005iat4.p\n",
      "[0.06471232 0.41412026 0.1971353  0.32403212]prepared_True2005iat5.p\n",
      "[0.06471471 0.41411183 0.19713253 0.32404093]prepared_True2005iat6.p\n",
      "[0.06474677 0.4138618  0.19721205 0.32417938]prepared_True2006iat.p\n",
      "[0.06475455 0.41371834 0.19736399 0.32416312]prepared_True2006iat2.p\n",
      "[0.0647549  0.41360992 0.19745644 0.32417875]prepared_True2006iat3.p\n",
      "[0.06476667 0.41354288 0.19749539 0.32419506]prepared_True2006iat4.p\n",
      "[0.06478695 0.41351011 0.19741335 0.32428959]prepared_True2016iat.p\n",
      "[0.0647897  0.41348195 0.19734731 0.32438104]prepared_True2016iat2.p\n",
      "[0.06478839 0.41346283 0.19730105 0.32444773]prepared_True2016iat3.p\n",
      "[0.06479442 0.41343649 0.19724904 0.32452006]prepared_True2016iat4.p\n",
      "[0.06479609 0.41343534 0.19723963 0.32452893]prepared_True2016iat5.p\n",
      "[0.06481167 0.41340359 0.19717489 0.32460985]prepared_True2017iat.p\n",
      "[0.06482318 0.41339869 0.19711729 0.32466084]prepared_True2017iat10.p\n",
      "[0.06483245 0.41339094 0.19704812 0.32472849]prepared_True2017iat11.p\n",
      "[0.06483254 0.41337659 0.19699891 0.32479196]prepared_True2017iat12.p\n",
      "[0.06482951 0.41336459 0.19691541 0.32489049]prepared_True2017iat13.p\n",
      "[0.06482931 0.4133632  0.19691084 0.32489665]prepared_True2017iat14.p\n",
      "[0.06484754 0.4133406  0.19683317 0.32497869]prepared_True2017iat2.p\n",
      "[0.06484939 0.41331769 0.19678482 0.32504811]prepared_True2017iat3.p\n",
      "[0.0648501  0.41330104 0.19671521 0.32513365]prepared_True2017iat4.p\n",
      "[0.06485429 0.41330011 0.19667819 0.32516741]prepared_True2017iat5.p\n",
      "[0.06486715 0.41328186 0.1966093  0.32524169]prepared_True2017iat6.p\n",
      "[0.06489084 0.41323939 0.19651646 0.32535332]prepared_True2017iat7.p\n",
      "[0.06492505 0.4132151  0.19641295 0.32544691]prepared_True2017iat8.p\n"
     ]
    },
    {
     "name": "stdout",
     "output_type": "stream",
     "text": [
      "[0.0649369  0.41318072 0.19636852 0.32551386]prepared_True2017iat9.p\n",
      "[0.0649492  0.41316424 0.19629212 0.32559444]prepared_True2018iat.p\n",
      "[0.06494691 0.41317368 0.19620736 0.32567205]prepared_True2018iat10.p\n",
      "[0.06494586 0.41318626 0.19612365 0.32574423]prepared_True2018iat11.p\n",
      "[0.06494017 0.41319454 0.19606126 0.32580403]prepared_True2018iat12.p\n",
      "[0.06494473 0.41319564 0.19602821 0.32583142]prepared_True2018iat13.p\n",
      "[0.0649429  0.41318979 0.19597018 0.32589713]prepared_True2018iat2.p\n",
      "[0.06494442 0.41318815 0.19589742 0.32597002]prepared_True2018iat3.p\n",
      "[0.06494627 0.41317849 0.19584204 0.3260332 ]prepared_True2018iat4.p\n",
      "[0.06495015 0.41317644 0.195771   0.32610241]prepared_True2018iat5.p\n",
      "[0.06496889 0.41319369 0.19565209 0.32618532]prepared_True2018iat6.p\n",
      "[0.06499753 0.41318944 0.19553773 0.3262753 ]prepared_True2018iat7.p\n",
      "[0.06501341 0.41318214 0.19547255 0.3263319 ]prepared_True2018iat8.p\n",
      "[0.06501331 0.41319066 0.19541344 0.32638259]prepared_True2018iat9.p\n",
      "[0.06502828 0.41321025 0.19530989 0.32645158]prepared_True2019iat.p\n",
      "[0.06503165 0.41323908 0.19522461 0.32650466]prepared_True2019iat10.p\n",
      "[0.06502706 0.41326648 0.1951492  0.32655726]prepared_True2019iat11.p\n",
      "[0.06501371 0.41328983 0.1950741  0.32662235]prepared_True2019iat12.p\n",
      "[0.06501179 0.41330313 0.19500056 0.32668453]prepared_True2019iat13.p\n",
      "[0.06501189 0.41330441 0.19492949 0.3267542 ]prepared_True2019iat2.p\n",
      "[0.0650115  0.41333503 0.19484777 0.3268057 ]prepared_True2019iat3.p\n",
      "[0.06500785 0.41333688 0.19478883 0.32686644]prepared_True2019iat4.p\n",
      "[0.06500648 0.41336306 0.19471956 0.32691091]prepared_True2019iat5.p\n",
      "[0.06502363 0.41337836 0.19460486 0.32699314]prepared_True2019iat6.p\n",
      "[0.06505578 0.41338725 0.19446745 0.32708952]prepared_True2019iat7.p\n",
      "[0.06507211 0.41340553 0.1943934  0.32712897]prepared_True2019iat8.p\n",
      "[0.06507757 0.41340686 0.19434272 0.32717285]prepared_True2019iat9.p\n",
      "[0.06508076 0.41343306 0.19423097 0.32725521]prepared_True2020iat.p\n",
      "[0.06512861 0.41345618 0.19407047 0.32734474]prepared_True2020iat10.p\n",
      "[0.06517523 0.41347595 0.19391698 0.32743185]prepared_True2020iat11.p\n",
      "[0.06521807 0.41349398 0.19374484 0.3275431 ]prepared_True2020iat12.p\n",
      "[0.06526418 0.41351762 0.19357001 0.32764819]prepared_True2020iat13.p\n",
      "[0.06530472 0.41356171 0.19338804 0.32774552]prepared_True2020iat14.p\n",
      "[0.06533645 0.41362147 0.19322435 0.32781773]prepared_True2020iat15.p\n",
      "[0.06535114 0.41367585 0.19310765 0.32786536]prepared_True2020iat16.p\n",
      "[0.06536355 0.41372385 0.19296861 0.327944  ]prepared_True2020iat17.p\n",
      "[0.06538786 0.41376661 0.1928321  0.32801342]prepared_True2020iat18.p\n",
      "[0.06540326 0.41379717 0.19271142 0.32808815]prepared_True2020iat19.p\n",
      "[0.06540138 0.41382467 0.1926399  0.32813405]prepared_True2020iat2.p\n",
      "[0.06541877 0.41385725 0.19252258 0.3282014 ]prepared_True2020iat20.p\n",
      "[0.06543827 0.41390974 0.19240075 0.32825125]prepared_True2020iat21.p\n",
      "[0.06546145 0.41395254 0.19227307 0.32831294]prepared_True2020iat22.p\n",
      "[0.06546941 0.41400471 0.19214968 0.32837621]prepared_True2020iat23.p\n",
      "[0.06548318 0.41405541 0.19201199 0.32844942]prepared_True2020iat24.p\n",
      "[0.06549409 0.41406525 0.19194947 0.32849119]prepared_True2020iat25.p\n",
      "[0.06549282 0.41408125 0.19187848 0.32854746]prepared_True2020iat3.p\n",
      "[0.06549434 0.41409341 0.19180922 0.32860304]prepared_True2020iat4.p\n",
      "[0.0655082  0.41411006 0.19170608 0.32867566]prepared_True2020iat5.p\n",
      "[0.06555435 0.41412318 0.19156985 0.32875262]prepared_True2020iat6.p\n",
      "[0.06560754 0.41412421 0.19144705 0.32882121]prepared_True2020iat7.p\n",
      "[0.06565622 0.41411219 0.19129934 0.32893225]prepared_True2020iat8.p\n",
      "[0.06570168 0.41411933 0.19114693 0.32903205]prepared_True2020iat9.p\n",
      "[0.06573018 0.41415811 0.19101781 0.3290939 ]prepared_True2021iat.p\n",
      "[0.06574755 0.41420186 0.19090577 0.32914482]prepared_True2021iat10.p\n",
      "[0.06576783 0.41424584 0.19078502 0.32920131]prepared_True2021iat11.p\n",
      "[0.0657874  0.41428381 0.19067286 0.32925593]prepared_True2021iat12.p\n",
      "[0.06580441 0.41431667 0.19056969 0.32930922]prepared_True2021iat13.p\n",
      "[0.06580976 0.41436642 0.19047711 0.32934671]prepared_True2021iat14.p\n",
      "[0.06581713 0.41440956 0.1903975  0.32937582]prepared_True2021iat15.p\n",
      "[0.06581927 0.41444903 0.19032294 0.32940876]prepared_True2021iat16.p\n",
      "[0.06582129 0.41448911 0.19024254 0.32944707]prepared_True2021iat17.p\n",
      "[0.06582242 0.414522   0.19016313 0.32949245]prepared_True2021iat18.p\n",
      "[0.06582333 0.41456242 0.19007003 0.32954422]prepared_True2021iat19.p\n",
      "[0.06583921 0.4145888  0.18997126 0.32960073]prepared_True2021iat2.p\n",
      "[0.06584307 0.41461564 0.18991736 0.32962392]prepared_True2021iat20.p\n",
      "[0.06585702 0.41466708 0.18981386 0.32966204]prepared_True2021iat3.p\n",
      "[0.06587146 0.41470704 0.18971426 0.32970724]prepared_True2021iat4.p\n",
      "[0.06588584 0.41474276 0.18961972 0.32975168]prepared_True2021iat5.p\n",
      "[0.06590211 0.41479586 0.18952552 0.32977651]prepared_True2021iat6.p\n",
      "[0.0659158  0.41483052 0.18943993 0.32981375]prepared_True2021iat7.p\n",
      "[0.06592576 0.41485969 0.18936043 0.32985411]prepared_True2021iat8.p\n",
      "[0.06593447 0.41489539 0.18927318 0.32989695]prepared_True2021iat9.p\n",
      "[0.06594278 0.41492706 0.1891919  0.32993826]prepared_True20221iat.p\n",
      "[0.0659458  0.41496455 0.18912023 0.32996941]prepared_True20221iat2.p\n",
      "[0.06595094 0.41505814 0.18897296 0.33001797]prepared_True20221iat3.p\n",
      "[0.06594382 0.41512734 0.18888551 0.33004333]prepared_True20221iat4.p\n",
      "[0.06594436 0.41517727 0.18880235 0.33007603]prepared_True20221iat5.p\n",
      "[0.065948   0.41524671 0.18866294 0.33014236]prepared_True20221iat6.p\n",
      "[0.06595773 0.41534874 0.18847487 0.33021866]prepared_True20221iat7.p\n",
      "[0.0659614  0.41536335 0.1884455  0.33022976]prepared_True20221iat8.p\n",
      "[0.06598031 0.41544976 0.18826049 0.33030944]prepared_True20222iat.p\n",
      "[0.06598766 0.41554184 0.18812139 0.33034911]prepared_True20222iat2.p\n",
      "[0.06597993 0.41563216 0.18799621 0.3303917 ]prepared_True20222iat3.p\n",
      "[0.06597552 0.41571091 0.18788165 0.33043192]prepared_True20222iat4.p\n",
      "[0.06595987 0.41578262 0.18778301 0.33047449]prepared_True20222iat5.p\n",
      "[0.06594811 0.4158427  0.18767942 0.33052977]prepared_True20222iat6.p\n",
      "[0.06595515 0.41589972 0.18755729 0.33058784]prepared_True20231iat.p\n",
      "[0.06594188 0.4159615  0.1874569  0.33063971]prepared_True20231iat2.p\n",
      "[0.06593001 0.4160069  0.18736114 0.33070195]prepared_True20231iat3.p\n",
      "[0.06591076 0.41606653 0.18727165 0.33075106]prepared_True20231iat4.p\n",
      "[0.06590604 0.41613722 0.18715085 0.33080589]prepared_True20231iat5.p\n",
      "[0.06590892 0.41615957 0.18711366 0.33081785]prepared_True20231iat6.p\n",
      "[0.06592163 0.41621658 0.18698579 0.33087601]prepared_True20232iat.p\n",
      "[0.06586179 0.41599333 0.18727748 0.3308674 ]prepared_True20232iat2.p\n",
      "[0.06578966 0.4157372  0.1876046  0.33086854]prepared_True20232iat3.p\n",
      "[0.06571262 0.41547874 0.1879346  0.33087404]prepared_True20232iat4.p\n",
      "[0.0656671  0.4153419  0.18810956 0.33088144]prepared_True20232iat5.p\n"
     ]
    },
    {
     "ename": "KeyError",
     "evalue": "\"None of [Index(['0', '1', '2', '3'], dtype='object')] are in the [columns]\"",
     "output_type": "error",
     "traceback": [
      "\u001b[0;31m---------------------------------------------------------------------------\u001b[0m",
      "\u001b[0;31mKeyError\u001b[0m                                  Traceback (most recent call last)",
      "Cell \u001b[0;32mIn[16], line 42\u001b[0m\n\u001b[1;32m     39\u001b[0m fig\u001b[38;5;241m.\u001b[39msavefig(\u001b[38;5;124m'\u001b[39m\u001b[38;5;124mmodel_probs.png\u001b[39m\u001b[38;5;124m'\u001b[39m)    \n\u001b[1;32m     41\u001b[0m fig, ax \u001b[38;5;241m=\u001b[39m plt\u001b[38;5;241m.\u001b[39msubplots()\n\u001b[0;32m---> 42\u001b[0m sns\u001b[38;5;241m.\u001b[39mpointplot(\u001b[43mdf\u001b[49m\u001b[43m[\u001b[49m\u001b[43m[\u001b[49m\u001b[38;5;124;43m\"\u001b[39;49m\u001b[38;5;124;43m0\u001b[39;49m\u001b[38;5;124;43m\"\u001b[39;49m\u001b[43m,\u001b[49m\u001b[43m \u001b[49m\u001b[38;5;124;43m\"\u001b[39;49m\u001b[38;5;124;43m1\u001b[39;49m\u001b[38;5;124;43m\"\u001b[39;49m\u001b[43m,\u001b[49m\u001b[43m \u001b[49m\u001b[38;5;124;43m\"\u001b[39;49m\u001b[38;5;124;43m2\u001b[39;49m\u001b[38;5;124;43m\"\u001b[39;49m\u001b[43m,\u001b[49m\u001b[43m \u001b[49m\u001b[38;5;124;43m\"\u001b[39;49m\u001b[38;5;124;43m3\u001b[39;49m\u001b[38;5;124;43m\"\u001b[39;49m\u001b[43m]\u001b[49m\u001b[43m]\u001b[49m, estimator \u001b[38;5;241m=\u001b[39m np\u001b[38;5;241m.\u001b[39mmean, errorbar\u001b[38;5;241m=\u001b[39m(\u001b[38;5;124m\"\u001b[39m\u001b[38;5;124mpi\u001b[39m\u001b[38;5;124m\"\u001b[39m, \u001b[38;5;241m90\u001b[39m))\n\u001b[1;32m     43\u001b[0m ax\u001b[38;5;241m.\u001b[39mset_xticklabels([\u001b[38;5;124m'\u001b[39m\u001b[38;5;124mSimple DDM\u001b[39m\u001b[38;5;124m'\u001b[39m,\u001b[38;5;124m'\u001b[39m\u001b[38;5;124msv/st0 DDM\u001b[39m\u001b[38;5;124m'\u001b[39m, \u001b[38;5;124m'\u001b[39m\u001b[38;5;124mLevy model\u001b[39m\u001b[38;5;124m'\u001b[39m, \u001b[38;5;124m'\u001b[39m\u001b[38;5;124mGSR model\u001b[39m\u001b[38;5;124m'\u001b[39m])\n\u001b[1;32m     44\u001b[0m ax\u001b[38;5;241m.\u001b[39mset_ylim(\u001b[38;5;241m0\u001b[39m, \u001b[38;5;241m1\u001b[39m)\n",
      "File \u001b[0;32m~/miniconda3/envs/bf/lib/python3.10/site-packages/pandas/core/frame.py:3813\u001b[0m, in \u001b[0;36mDataFrame.__getitem__\u001b[0;34m(self, key)\u001b[0m\n\u001b[1;32m   3811\u001b[0m     \u001b[38;5;28;01mif\u001b[39;00m is_iterator(key):\n\u001b[1;32m   3812\u001b[0m         key \u001b[38;5;241m=\u001b[39m \u001b[38;5;28mlist\u001b[39m(key)\n\u001b[0;32m-> 3813\u001b[0m     indexer \u001b[38;5;241m=\u001b[39m \u001b[38;5;28;43mself\u001b[39;49m\u001b[38;5;241;43m.\u001b[39;49m\u001b[43mcolumns\u001b[49m\u001b[38;5;241;43m.\u001b[39;49m\u001b[43m_get_indexer_strict\u001b[49m\u001b[43m(\u001b[49m\u001b[43mkey\u001b[49m\u001b[43m,\u001b[49m\u001b[43m \u001b[49m\u001b[38;5;124;43m\"\u001b[39;49m\u001b[38;5;124;43mcolumns\u001b[39;49m\u001b[38;5;124;43m\"\u001b[39;49m\u001b[43m)\u001b[49m[\u001b[38;5;241m1\u001b[39m]\n\u001b[1;32m   3815\u001b[0m \u001b[38;5;66;03m# take() does not accept boolean indexers\u001b[39;00m\n\u001b[1;32m   3816\u001b[0m \u001b[38;5;28;01mif\u001b[39;00m \u001b[38;5;28mgetattr\u001b[39m(indexer, \u001b[38;5;124m\"\u001b[39m\u001b[38;5;124mdtype\u001b[39m\u001b[38;5;124m\"\u001b[39m, \u001b[38;5;28;01mNone\u001b[39;00m) \u001b[38;5;241m==\u001b[39m \u001b[38;5;28mbool\u001b[39m:\n",
      "File \u001b[0;32m~/miniconda3/envs/bf/lib/python3.10/site-packages/pandas/core/indexes/base.py:6070\u001b[0m, in \u001b[0;36mIndex._get_indexer_strict\u001b[0;34m(self, key, axis_name)\u001b[0m\n\u001b[1;32m   6067\u001b[0m \u001b[38;5;28;01melse\u001b[39;00m:\n\u001b[1;32m   6068\u001b[0m     keyarr, indexer, new_indexer \u001b[38;5;241m=\u001b[39m \u001b[38;5;28mself\u001b[39m\u001b[38;5;241m.\u001b[39m_reindex_non_unique(keyarr)\n\u001b[0;32m-> 6070\u001b[0m \u001b[38;5;28;43mself\u001b[39;49m\u001b[38;5;241;43m.\u001b[39;49m\u001b[43m_raise_if_missing\u001b[49m\u001b[43m(\u001b[49m\u001b[43mkeyarr\u001b[49m\u001b[43m,\u001b[49m\u001b[43m \u001b[49m\u001b[43mindexer\u001b[49m\u001b[43m,\u001b[49m\u001b[43m \u001b[49m\u001b[43maxis_name\u001b[49m\u001b[43m)\u001b[49m\n\u001b[1;32m   6072\u001b[0m keyarr \u001b[38;5;241m=\u001b[39m \u001b[38;5;28mself\u001b[39m\u001b[38;5;241m.\u001b[39mtake(indexer)\n\u001b[1;32m   6073\u001b[0m \u001b[38;5;28;01mif\u001b[39;00m \u001b[38;5;28misinstance\u001b[39m(key, Index):\n\u001b[1;32m   6074\u001b[0m     \u001b[38;5;66;03m# GH 42790 - Preserve name from an Index\u001b[39;00m\n",
      "File \u001b[0;32m~/miniconda3/envs/bf/lib/python3.10/site-packages/pandas/core/indexes/base.py:6130\u001b[0m, in \u001b[0;36mIndex._raise_if_missing\u001b[0;34m(self, key, indexer, axis_name)\u001b[0m\n\u001b[1;32m   6128\u001b[0m     \u001b[38;5;28;01mif\u001b[39;00m use_interval_msg:\n\u001b[1;32m   6129\u001b[0m         key \u001b[38;5;241m=\u001b[39m \u001b[38;5;28mlist\u001b[39m(key)\n\u001b[0;32m-> 6130\u001b[0m     \u001b[38;5;28;01mraise\u001b[39;00m \u001b[38;5;167;01mKeyError\u001b[39;00m(\u001b[38;5;124mf\u001b[39m\u001b[38;5;124m\"\u001b[39m\u001b[38;5;124mNone of [\u001b[39m\u001b[38;5;132;01m{\u001b[39;00mkey\u001b[38;5;132;01m}\u001b[39;00m\u001b[38;5;124m] are in the [\u001b[39m\u001b[38;5;132;01m{\u001b[39;00maxis_name\u001b[38;5;132;01m}\u001b[39;00m\u001b[38;5;124m]\u001b[39m\u001b[38;5;124m\"\u001b[39m)\n\u001b[1;32m   6132\u001b[0m not_found \u001b[38;5;241m=\u001b[39m \u001b[38;5;28mlist\u001b[39m(ensure_index(key)[missing_mask\u001b[38;5;241m.\u001b[39mnonzero()[\u001b[38;5;241m0\u001b[39m]]\u001b[38;5;241m.\u001b[39munique())\n\u001b[1;32m   6133\u001b[0m \u001b[38;5;28;01mraise\u001b[39;00m \u001b[38;5;167;01mKeyError\u001b[39;00m(\u001b[38;5;124mf\u001b[39m\u001b[38;5;124m\"\u001b[39m\u001b[38;5;132;01m{\u001b[39;00mnot_found\u001b[38;5;132;01m}\u001b[39;00m\u001b[38;5;124m not in index\u001b[39m\u001b[38;5;124m\"\u001b[39m)\n",
      "\u001b[0;31mKeyError\u001b[0m: \"None of [Index(['0', '1', '2', '3'], dtype='object')] are in the [columns]\""
     ]
    },
    {
     "data": {
      "image/png": "[encoded data removed]",
      "text/plain": [
       "<Figure size 640x480 with 1 Axes>"
      ]
     },
     "metadata": {},
     "output_type": "display_data"
    },
    {
     "data": {
      "image/png": "[encoded data removed]",
      "text/plain": [
       "<Figure size 640x480 with 1 Axes>"
      ]
     },
     "metadata": {},
     "output_type": "display_data"
    }
   ],
   "source": [
    "# 1. Create list of all data subsets/chunks, initialize np.array to be filled during inference\n",
    "\n",
    "datasets = sorted(os.listdir(PATH))\n",
    "\n",
    "all_probs_and_ids = np.empty((1,6))\n",
    "\n",
    "# 2. For each chunk\n",
    "\n",
    "   \n",
    "for dataset_name in datasets:\n",
    "    \n",
    "        # 2.1 Load chunk\n",
    "        loaded_pickle = pickle.load(open(PATH +str(dataset_name), \"rb\" ))\n",
    "        \n",
    "        X_test = loaded_pickle['data_array']\n",
    "        y_test = loaded_pickle['outcome_array']\n",
    "\n",
    "        # 2.2 Estimate chunk\n",
    "        \n",
    "        model_probs = np.concatenate([\n",
    "            amortizer.posterior_probs({\"summary_conditions\": x}) for x in np.array_split(X_test, 50)], axis=0)\n",
    "        \n",
    "        probs_and_ids = np.concatenate([model_probs, y_test], axis=1)  \n",
    "        \n",
    "        all_probs_and_ids =  np.concatenate([all_probs_and_ids, probs_and_ids], axis=0)\n",
    "\n",
    "        print(str(np.mean(all_probs_and_ids[1:,0:4] ,axis=0)) + str(dataset_name))\n",
    "               \n",
    "# 3. Save all model probabilites in csv and create figures\n",
    "\n",
    "df = pd.DataFrame(all_probs_and_ids[1:,:])\n",
    "\n",
    "df.to_csv(\"all_model_probabilites.csv\")\n",
    "\n",
    "ax = sns.violinplot(data=all_probs_and_ids[1:,0:4])\n",
    "ax.set_xticklabels(['Simple DDM','sv/st0 DDM', 'Levy model', 'GSR model'])\n",
    "ax.set(ylim=(0, 1))\n",
    "fig = ax.get_figure()\n",
    "fig.savefig('model_probs.png')    \n",
    "\n",
    "df = pd.read_csv(\"all_model_probabilites.csv\")\n",
    "\n",
    "fig, ax = plt.subplots()\n",
    "sns.pointplot(df[[\"0\", \"1\", \"2\", \"3\"]], estimator = np.mean, errorbar=(\"pi\", 90))\n",
    "ax.set_xticklabels(['Simple DDM','sv/st0 DDM', 'Levy model', 'GSR model'])\n",
    "ax.set_ylim(0, 1)\n",
    "fig = ax.get_figure()\n",
    "fig.savefig('model_probs2.png')  "
   ]
  },
  {
   "cell_type": "code",
   "execution_count": 10,
   "id": "7d4e180a",
   "metadata": {},
   "outputs": [
    {
     "data": {
      "text/plain": [
       "262362"
      ]
     },
     "execution_count": 10,
     "metadata": {},
     "output_type": "execute_result"
    }
   ],
   "source": [
    "# Simple DDM is best for this number of people:\n",
    "\n",
    "np.sum((df[\"0\"]>df[\"1\"])& (df[\"0\"]>df[\"2\"])& (df[\"0\"]>df[\"3\"]))"
   ]
  },
  {
   "cell_type": "code",
   "execution_count": 11,
   "id": "5912fca6",
   "metadata": {},
   "outputs": [
    {
     "data": {
      "text/plain": [
       "2764901"
      ]
     },
     "execution_count": 11,
     "metadata": {},
     "output_type": "execute_result"
    }
   ],
   "source": [
    "# st0/sv DDM is best for this number of people:\n",
    "\n",
    "np.sum((df[\"1\"]>df[\"0\"])& (df[\"1\"]>df[\"2\"])& (df[\"1\"]>df[\"3\"]))"
   ]
  },
  {
   "cell_type": "code",
   "execution_count": 12,
   "id": "25e6679f",
   "metadata": {},
   "outputs": [
    {
     "data": {
      "text/plain": [
       "1036646"
      ]
     },
     "execution_count": 12,
     "metadata": {},
     "output_type": "execute_result"
    }
   ],
   "source": [
    "# Levy model is best for this number of people:\n",
    "\n",
    "np.sum((df[\"2\"]>df[\"0\"])& (df[\"2\"]>df[\"1\"])& (df[\"2\"]>df[\"3\"]))"
   ]
  },
  {
   "cell_type": "code",
   "execution_count": 14,
   "id": "e6e65790",
   "metadata": {},
   "outputs": [
    {
     "data": {
      "text/plain": [
       "1512229"
      ]
     },
     "execution_count": 14,
     "metadata": {},
     "output_type": "execute_result"
    }
   ],
   "source": [
    "# GSR model is best for this number of people:\n",
    "\n",
    "np.sum((df[\"3\"]>df[\"0\"])& (df[\"3\"]>df[\"1\"])& (df[\"3\"]>df[\"2\"]))"
   ]
  }
 ],
 "metadata": {
  "kernelspec": {
   "display_name": "Python 3 (ipykernel)",
   "language": "python",
   "name": "python3"
  },
  "language_info": {
   "codemirror_mode": {
    "name": "ipython",
    "version": 3
   },
   "file_extension": ".py",
   "mimetype": "text/x-python",
   "name": "python",
   "nbconvert_exporter": "python",
   "pygments_lexer": "ipython3",
   "version": "3.10.0"
  }
 },
 "nbformat": 4,
 "nbformat_minor": 5
}
