{
 "cells": [
  {
   "cell_type": "code",
   "execution_count": 1,
   "id": "bb599040",
   "metadata": {},
   "outputs": [
    {
     "name": "stderr",
     "output_type": "stream",
     "text": [
      "2024-08-07 16:44:22.901747: I tensorflow/core/util/port.cc:110] oneDNN custom operations are on. You may see slightly different numerical results due to floating-point round-off errors from different computation orders. To turn them off, set the environment variable `TF_ENABLE_ONEDNN_OPTS=0`.\n",
      "2024-08-07 16:44:22.926731: I tensorflow/core/platform/cpu_feature_guard.cc:182] This TensorFlow binary is optimized to use available CPU instructions in performance-critical operations.\n",
      "To enable the following instructions: AVX2 AVX_VNNI FMA, in other operations, rebuild TensorFlow with the appropriate compiler flags.\n",
      "2024-08-07 16:44:23.341760: W tensorflow/compiler/tf2tensorrt/utils/py_utils.cc:38] TF-TRT Warning: Could not find TensorRT\n",
      "/home/mischa/miniconda3/envs/bf/lib/python3.10/site-packages/bayesflow/trainers.py:27: TqdmExperimentalWarning: Using `tqdm.autonotebook.tqdm` in notebook mode. Use `tqdm.tqdm` instead to force console mode (e.g. in jupyter console)\n",
      "  from tqdm.autonotebook import tqdm\n"
     ]
    }
   ],
   "source": [
    "import os\n",
    "import numpy as np\n",
    "import bayesflow as bf\n",
    "import pandas as pd\n",
    "import pickle\n",
    "import tensorflow as tf\n",
    "import priors_and_simulators as ps\n",
    "import seaborn as sns\n",
    "import matplotlib.pyplot as plt\n",
    "from multiprocessing import Pool\n",
    "\n",
    "# Suppress scientific notation for floats\n",
    "np.set_printoptions(suppress=True)\n",
    "\n",
    "# Define settings\n",
    "PATH = '/home/mischa/Documents/bayesflow/prj_real_life_ddm/data/prepared_data/'\n",
    "PATH_TO_SAVE = '/home/mischa/Documents/bayesflow/prj_real_life_ddm/data/pickle_model_comparison/'\n",
    "\n",
    "NUM_ITERATIONS_PER_EPOCH = 10000\n",
    "BATCH_SIZE = 32\n",
    "NUM_EPOCHS = 150\n",
    "\n",
    "model_names = [\"DDM\", \"sv/st0\", \"Levy\", \"GSR\"]\n",
    "\n",
    "simple_PARAM_NAMES = [\n",
    "    r\"$v_{congruent}$\",\n",
    "    r\"$v_{incongruent}$\",\n",
    "    r\"$a_{congruent}$\",\n",
    "    r\"$a_{incongruent}$\",\n",
    "    r\"$\\tau_{correct}$\",\n",
    "    r\"$\\tau_{error}$\"\n",
    "]\n",
    "\n",
    "levy_PARAM_NAMES = [\n",
    "    r\"$v_{congruent}$\",\n",
    "    r\"$v_{incongruent}$\",\n",
    "    r\"$a_{congruent}$\",\n",
    "    r\"$a_{incongruent}$\",\n",
    "    r\"$\\tau_{correct}$\",\n",
    "    r\"$\\tau_{error}$\",\n",
    "    r\"$\\alpha$\"\n",
    "]\n",
    "\n",
    "\n",
    "sv_st0_PARAM_NAMES = [\n",
    "    r\"$v_{congruent}$\",\n",
    "    r\"$v_{incongruent}$\",\n",
    "    r\"$a_{congruent}$\",\n",
    "    r\"$a_{incongruent}$\",\n",
    "    r\"$\\tau_{correct}$\",\n",
    "    r\"$\\tau_{error}$\",\n",
    "    r\"$s_{tau}$\",\n",
    "    r\"$s_{v}$\"\n",
    "]\n",
    "\n",
    "gsr_PARAM_NAMES = [\n",
    "    r\"$\\gamma$\",\n",
    "    r\"$v_{word}$\",\n",
    "    r\"$v_{picture}$\",\n",
    "    r\"$a_{congruent}$\",\n",
    "    r\"$a_{incongruent}$\",\n",
    "\n",
    "    r\"$\\tau_{correct}$\",\n",
    "    r\"$\\tau_{error}$\",\n",
    "    r\"$s_{v}$\",\n",
    "    r\"$s_{ndt}\"\n",
    "]"
   ]
  },
  {
   "cell_type": "code",
   "execution_count": 2,
   "id": "578512db",
   "metadata": {},
   "outputs": [],
   "source": [
    "#Load prior functions, simulators\n",
    "\n",
    "simple_ddm_prior = bf.simulation.Prior(prior_fun=ps.simple_ddm_prior_fun, param_names=simple_PARAM_NAMES)\n",
    "levy_prior = bf.simulation.Prior(prior_fun=ps.levy_prior_fun, param_names=levy_PARAM_NAMES)\n",
    "sv_st0_ddm_prior = bf.simulation.Prior(prior_fun=ps.sv_st0_ddm_prior_fun, param_names=sv_st0_PARAM_NAMES)\n",
    "gsr_ddm_prior = bf.simulation.Prior(prior_fun=ps.gsr_ddm_prior_fun, param_names=gsr_PARAM_NAMES)\n",
    "\n",
    "simple_ddm_simulator = bf.simulation.Simulator(simulator_fun=ps.simple_ddm_simulator_fun)\n",
    "sv_st0_ddm_simulator = bf.simulation.Simulator(simulator_fun=ps.sv_st0_ddm_simulator_fun)\n",
    "levy_simulator = bf.simulation.Simulator(simulator_fun=ps.levy_simulator_fun)\n",
    "gsr_ddm_simulator = bf.simulation.Simulator(simulator_fun=ps.gsr_ddm_simulator_fun)"
   ]
  },
  {
   "cell_type": "code",
   "execution_count": 8,
   "id": "9dd877af",
   "metadata": {},
   "outputs": [
    {
     "name": "stderr",
     "output_type": "stream",
     "text": [
      "INFO:root:Performing 2 pilot runs with the simple_ddm model...\n",
      "INFO:root:Shape of parameter batch after 2 pilot simulations: (batch_size = 2, 6)\n",
      "INFO:root:Shape of simulation batch after 2 pilot simulations: (batch_size = 2, 120, 4)\n",
      "INFO:root:No optional prior non-batchable context provided.\n",
      "INFO:root:No optional prior batchable context provided.\n",
      "INFO:root:No optional simulation non-batchable context provided.\n",
      "INFO:root:No optional simulation batchable context provided.\n",
      "INFO:root:Performing 2 pilot runs with the sv_st0_ddm model...\n",
      "INFO:root:Shape of parameter batch after 2 pilot simulations: (batch_size = 2, 8)\n",
      "INFO:root:Shape of simulation batch after 2 pilot simulations: (batch_size = 2, 120, 4)\n",
      "INFO:root:No optional prior non-batchable context provided.\n",
      "INFO:root:No optional prior batchable context provided.\n",
      "INFO:root:No optional simulation non-batchable context provided.\n",
      "INFO:root:No optional simulation batchable context provided.\n",
      "INFO:root:Performing 2 pilot runs with the levy model...\n",
      "INFO:root:Shape of parameter batch after 2 pilot simulations: (batch_size = 2, 7)\n",
      "INFO:root:Shape of simulation batch after 2 pilot simulations: (batch_size = 2, 120, 4)\n",
      "INFO:root:No optional prior non-batchable context provided.\n",
      "INFO:root:No optional prior batchable context provided.\n",
      "INFO:root:No optional simulation non-batchable context provided.\n",
      "INFO:root:No optional simulation batchable context provided.\n",
      "INFO:root:Performing 2 pilot runs with the GSR_ddm model...\n",
      "INFO:root:Shape of parameter batch after 2 pilot simulations: (batch_size = 2, 9)\n",
      "INFO:root:Shape of simulation batch after 2 pilot simulations: (batch_size = 2, 120, 4)\n",
      "INFO:root:No optional prior non-batchable context provided.\n",
      "INFO:root:No optional prior batchable context provided.\n",
      "INFO:root:No optional simulation non-batchable context provided.\n",
      "INFO:root:No optional simulation batchable context provided.\n"
     ]
    }
   ],
   "source": [
    "#Define generative models\n",
    "\n",
    "model_simple_ddm = bf.simulation.GenerativeModel(\n",
    "    prior=simple_ddm_prior,\n",
    "    simulator=simple_ddm_simulator,\n",
    "    name=\"simple_ddm\")\n",
    "\n",
    "model_sv_st0_ddm = bf.simulation.GenerativeModel(\n",
    "    prior=sv_st0_ddm_prior,\n",
    "    simulator=sv_st0_ddm_simulator,\n",
    "    name=\"sv_st0_ddm\")\n",
    "\n",
    "model_levy= bf.simulation.GenerativeModel(\n",
    "    prior=levy_prior,\n",
    "    simulator=levy_simulator,\n",
    "    name=\"levy\")\n",
    "\n",
    "model_gsr_ddm = bf.simulation.GenerativeModel(\n",
    "    prior=gsr_ddm_prior,\n",
    "    simulator=gsr_ddm_simulator,\n",
    "    name=\"GSR_ddm\")\n",
    "\n",
    "generative_models = bf.simulation.MultiGenerativeModel([model_simple_ddm,\n",
    "                                                        model_sv_st0_ddm,\n",
    "                                                        model_levy,\n",
    "                                                       model_gsr_ddm])\n",
    "                                                          "
   ]
  },
  {
   "cell_type": "code",
   "execution_count": 15,
   "id": "c714b018",
   "metadata": {},
   "outputs": [
    {
     "name": "stderr",
     "output_type": "stream",
     "text": [
      "INFO:root:Initialized empty loss history.\n",
      "INFO:root:Initialized networks from scratch.\n",
      "INFO:root:Performing a consistency check with provided components...\n",
      "INFO:root:Done.\n"
     ]
    }
   ],
   "source": [
    "#Define networks, amortizer, trainer\n",
    "\n",
    "summary_net = bf.summary_networks.SetTransformer(input_dim=4)\n",
    "\n",
    "inference_net = bf.inference_networks.PMPNetwork(num_models=4, dropout=False)\n",
    "\n",
    "amortizer = bf.amortizers.AmortizedModelComparison(inference_net, summary_net)\n",
    "\n",
    "trainer = bf.trainers.Trainer(\n",
    "    amortizer=amortizer,\n",
    "    generative_model=generative_models,\n",
    "    checkpoint_path = \"model_comparison_checks\"\n",
    ")"
   ]
  },
  {
   "cell_type": "markdown",
   "id": "2a52e6ef",
   "metadata": {},
   "source": [
    "# Train model comparison network"
   ]
  },
  {
   "cell_type": "code",
   "execution_count": 7,
   "id": "d6147b0b",
   "metadata": {},
   "outputs": [],
   "source": [
    "# Pre-simulate data for offline training (much faster due to parallel processing)        \n",
    "#if __name__ == '__main__':\n",
    "#    with Pool(processes=30) as pool:       \n",
    "#        pool.map(ps.presimulator, range(NUM_EPOCHS))"
   ]
  },
  {
   "cell_type": "code",
   "execution_count": 16,
   "id": "01fd4934",
   "metadata": {},
   "outputs": [
    {
     "data": {
      "application/vnd.jupyter.widget-view+json": {
       "model_id": "f8dfac0e3f1a49cbb53d9f8561ce96c5",
       "version_major": 2,
       "version_minor": 0
      },
      "text/plain": [
       "Training epoch 1:   0%|          | 0/10000 [00:00<?, ?it/s]"
      ]
     },
     "metadata": {},
     "output_type": "display_data"
    },
    {
     "data": {
      "application/vnd.jupyter.widget-view+json": {
       "model_id": "06f2612c11fa4532aacdc93f039d8468",
       "version_major": 2,
       "version_minor": 0
      },
      "text/plain": [
       "Training epoch 2:   0%|          | 0/10000 [00:00<?, ?it/s]"
      ]
     },
     "metadata": {},
     "output_type": "display_data"
    },
    {
     "data": {
      "application/vnd.jupyter.widget-view+json": {
       "model_id": "b14f303c46904098bcbd0d726362335e",
       "version_major": 2,
       "version_minor": 0
      },
      "text/plain": [
       "Training epoch 3:   0%|          | 0/10000 [00:00<?, ?it/s]"
      ]
     },
     "metadata": {},
     "output_type": "display_data"
    },
    {
     "data": {
      "application/vnd.jupyter.widget-view+json": {
       "model_id": "9d8ba5492d7f4c2795cb7e9276882fc0",
       "version_major": 2,
       "version_minor": 0
      },
      "text/plain": [
       "Training epoch 4:   0%|          | 0/10000 [00:00<?, ?it/s]"
      ]
     },
     "metadata": {},
     "output_type": "display_data"
    },
    {
     "data": {
      "application/vnd.jupyter.widget-view+json": {
       "model_id": "59efc15b8f1344e19492b0f4a20e0352",
       "version_major": 2,
       "version_minor": 0
      },
      "text/plain": [
       "Training epoch 5:   0%|          | 0/10000 [00:00<?, ?it/s]"
      ]
     },
     "metadata": {},
     "output_type": "display_data"
    },
    {
     "data": {
      "application/vnd.jupyter.widget-view+json": {
       "model_id": "60243af1065c401da03526ac2a0e9eb4",
       "version_major": 2,
       "version_minor": 0
      },
      "text/plain": [
       "Training epoch 6:   0%|          | 0/10000 [00:00<?, ?it/s]"
      ]
     },
     "metadata": {},
     "output_type": "display_data"
    },
    {
     "data": {
      "application/vnd.jupyter.widget-view+json": {
       "model_id": "1ab0267161364bb1b0d3d4bde9e1e828",
       "version_major": 2,
       "version_minor": 0
      },
      "text/plain": [
       "Training epoch 7:   0%|          | 0/10000 [00:00<?, ?it/s]"
      ]
     },
     "metadata": {},
     "output_type": "display_data"
    },
    {
     "data": {
      "application/vnd.jupyter.widget-view+json": {
       "model_id": "f35f29aff96f40b1bb00acfe783ded6b",
       "version_major": 2,
       "version_minor": 0
      },
      "text/plain": [
       "Training epoch 8:   0%|          | 0/10000 [00:00<?, ?it/s]"
      ]
     },
     "metadata": {},
     "output_type": "display_data"
    },
    {
     "data": {
      "application/vnd.jupyter.widget-view+json": {
       "model_id": "a5c22fd4379347a69310fedc1c8f1631",
       "version_major": 2,
       "version_minor": 0
      },
      "text/plain": [
       "Training epoch 9:   0%|          | 0/10000 [00:00<?, ?it/s]"
      ]
     },
     "metadata": {},
     "output_type": "display_data"
    },
    {
     "data": {
      "application/vnd.jupyter.widget-view+json": {
       "model_id": "051ef6e4ded34e068394a1a11b6d9de3",
       "version_major": 2,
       "version_minor": 0
      },
      "text/plain": [
       "Training epoch 10:   0%|          | 0/10000 [00:00<?, ?it/s]"
      ]
     },
     "metadata": {},
     "output_type": "display_data"
    },
    {
     "data": {
      "application/vnd.jupyter.widget-view+json": {
       "model_id": "5284c02d111c444ab4559e6eb3564925",
       "version_major": 2,
       "version_minor": 0
      },
      "text/plain": [
       "Training epoch 11:   0%|          | 0/10000 [00:00<?, ?it/s]"
      ]
     },
     "metadata": {},
     "output_type": "display_data"
    },
    {
     "data": {
      "application/vnd.jupyter.widget-view+json": {
       "model_id": "0522ba37a87346ed86b7f396d84b25f0",
       "version_major": 2,
       "version_minor": 0
      },
      "text/plain": [
       "Training epoch 12:   0%|          | 0/10000 [00:00<?, ?it/s]"
      ]
     },
     "metadata": {},
     "output_type": "display_data"
    },
    {
     "data": {
      "application/vnd.jupyter.widget-view+json": {
       "model_id": "347b35a666534ec0a7b7b99ff7f6a629",
       "version_major": 2,
       "version_minor": 0
      },
      "text/plain": [
       "Training epoch 13:   0%|          | 0/10000 [00:00<?, ?it/s]"
      ]
     },
     "metadata": {},
     "output_type": "display_data"
    },
    {
     "data": {
      "application/vnd.jupyter.widget-view+json": {
       "model_id": "d42115cf56564f3eb5d55499ca2e084c",
       "version_major": 2,
       "version_minor": 0
      },
      "text/plain": [
       "Training epoch 14:   0%|          | 0/10000 [00:00<?, ?it/s]"
      ]
     },
     "metadata": {},
     "output_type": "display_data"
    },
    {
     "data": {
      "application/vnd.jupyter.widget-view+json": {
       "model_id": "80b14d797dd94dc58fdb92a8132f1dce",
       "version_major": 2,
       "version_minor": 0
      },
      "text/plain": [
       "Training epoch 15:   0%|          | 0/10000 [00:00<?, ?it/s]"
      ]
     },
     "metadata": {},
     "output_type": "display_data"
    },
    {
     "data": {
      "application/vnd.jupyter.widget-view+json": {
       "model_id": "3fc6c5d285c94fa285597dea4029a63c",
       "version_major": 2,
       "version_minor": 0
      },
      "text/plain": [
       "Training epoch 16:   0%|          | 0/10000 [00:00<?, ?it/s]"
      ]
     },
     "metadata": {},
     "output_type": "display_data"
    },
    {
     "data": {
      "application/vnd.jupyter.widget-view+json": {
       "model_id": "a1b363c67f1f4beaa23ed06b7e39e293",
       "version_major": 2,
       "version_minor": 0
      },
      "text/plain": [
       "Training epoch 17:   0%|          | 0/10000 [00:00<?, ?it/s]"
      ]
     },
     "metadata": {},
     "output_type": "display_data"
    },
    {
     "data": {
      "application/vnd.jupyter.widget-view+json": {
       "model_id": "9cdce0b304db4a169c7aa8beae69b577",
       "version_major": 2,
       "version_minor": 0
      },
      "text/plain": [
       "Training epoch 18:   0%|          | 0/10000 [00:00<?, ?it/s]"
      ]
     },
     "metadata": {},
     "output_type": "display_data"
    },
    {
     "data": {
      "application/vnd.jupyter.widget-view+json": {
       "model_id": "f627bf682c804a9391ec1e6448cedce1",
       "version_major": 2,
       "version_minor": 0
      },
      "text/plain": [
       "Training epoch 19:   0%|          | 0/10000 [00:00<?, ?it/s]"
      ]
     },
     "metadata": {},
     "output_type": "display_data"
    },
    {
     "data": {
      "application/vnd.jupyter.widget-view+json": {
       "model_id": "69b24d8820734fec939bb40b2884b5fc",
       "version_major": 2,
       "version_minor": 0
      },
      "text/plain": [
       "Training epoch 20:   0%|          | 0/10000 [00:00<?, ?it/s]"
      ]
     },
     "metadata": {},
     "output_type": "display_data"
    },
    {
     "data": {
      "application/vnd.jupyter.widget-view+json": {
       "model_id": "f72c651bdfa045289e62ef02e1bf19c1",
       "version_major": 2,
       "version_minor": 0
      },
      "text/plain": [
       "Training epoch 21:   0%|          | 0/10000 [00:00<?, ?it/s]"
      ]
     },
     "metadata": {},
     "output_type": "display_data"
    },
    {
     "data": {
      "application/vnd.jupyter.widget-view+json": {
       "model_id": "7823e8e59b4b48129b6e4c57038ae58e",
       "version_major": 2,
       "version_minor": 0
      },
      "text/plain": [
       "Training epoch 22:   0%|          | 0/10000 [00:00<?, ?it/s]"
      ]
     },
     "metadata": {},
     "output_type": "display_data"
    },
    {
     "data": {
      "application/vnd.jupyter.widget-view+json": {
       "model_id": "6a6bd2e42fba42d6b5e0c40ac8858c1a",
       "version_major": 2,
       "version_minor": 0
      },
      "text/plain": [
       "Training epoch 23:   0%|          | 0/10000 [00:00<?, ?it/s]"
      ]
     },
     "metadata": {},
     "output_type": "display_data"
    },
    {
     "data": {
      "application/vnd.jupyter.widget-view+json": {
       "model_id": "1d31d2d7bbf24de1b1c37f170bce4ded",
       "version_major": 2,
       "version_minor": 0
      },
      "text/plain": [
       "Training epoch 24:   0%|          | 0/10000 [00:00<?, ?it/s]"
      ]
     },
     "metadata": {},
     "output_type": "display_data"
    },
    {
     "data": {
      "application/vnd.jupyter.widget-view+json": {
       "model_id": "cd0c330af0614b23a13ce1701cd10f65",
       "version_major": 2,
       "version_minor": 0
      },
      "text/plain": [
       "Training epoch 25:   0%|          | 0/10000 [00:00<?, ?it/s]"
      ]
     },
     "metadata": {},
     "output_type": "display_data"
    },
    {
     "data": {
      "application/vnd.jupyter.widget-view+json": {
       "model_id": "279d0d99d3ab4e2783d992b7cd0805bb",
       "version_major": 2,
       "version_minor": 0
      },
      "text/plain": [
       "Training epoch 26:   0%|          | 0/10000 [00:00<?, ?it/s]"
      ]
     },
     "metadata": {},
     "output_type": "display_data"
    },
    {
     "data": {
      "application/vnd.jupyter.widget-view+json": {
       "model_id": "daae2f44435a4aaf9c2e979dd0bedca1",
       "version_major": 2,
       "version_minor": 0
      },
      "text/plain": [
       "Training epoch 27:   0%|          | 0/10000 [00:00<?, ?it/s]"
      ]
     },
     "metadata": {},
     "output_type": "display_data"
    },
    {
     "data": {
      "application/vnd.jupyter.widget-view+json": {
       "model_id": "0851cdb475204ab39acffa990f362a2c",
       "version_major": 2,
       "version_minor": 0
      },
      "text/plain": [
       "Training epoch 28:   0%|          | 0/10000 [00:00<?, ?it/s]"
      ]
     },
     "metadata": {},
     "output_type": "display_data"
    },
    {
     "data": {
      "application/vnd.jupyter.widget-view+json": {
       "model_id": "7ff3937044b3455a89f2488307b2b8c7",
       "version_major": 2,
       "version_minor": 0
      },
      "text/plain": [
       "Training epoch 29:   0%|          | 0/10000 [00:00<?, ?it/s]"
      ]
     },
     "metadata": {},
     "output_type": "display_data"
    },
    {
     "data": {
      "application/vnd.jupyter.widget-view+json": {
       "model_id": "380395f83b35458c8a6c839a6a4f7f26",
       "version_major": 2,
       "version_minor": 0
      },
      "text/plain": [
       "Training epoch 30:   0%|          | 0/10000 [00:00<?, ?it/s]"
      ]
     },
     "metadata": {},
     "output_type": "display_data"
    },
    {
     "data": {
      "application/vnd.jupyter.widget-view+json": {
       "model_id": "f5a0e6a53d7d4c88ad4cf71f658f775e",
       "version_major": 2,
       "version_minor": 0
      },
      "text/plain": [
       "Training epoch 31:   0%|          | 0/10000 [00:00<?, ?it/s]"
      ]
     },
     "metadata": {},
     "output_type": "display_data"
    },
    {
     "data": {
      "application/vnd.jupyter.widget-view+json": {
       "model_id": "c1d2e0dff79a4ce38958d320dac21858",
       "version_major": 2,
       "version_minor": 0
      },
      "text/plain": [
       "Training epoch 32:   0%|          | 0/10000 [00:00<?, ?it/s]"
      ]
     },
     "metadata": {},
     "output_type": "display_data"
    },
    {
     "data": {
      "application/vnd.jupyter.widget-view+json": {
       "model_id": "30bbd1042fd9493c854dc916891e6188",
       "version_major": 2,
       "version_minor": 0
      },
      "text/plain": [
       "Training epoch 33:   0%|          | 0/10000 [00:00<?, ?it/s]"
      ]
     },
     "metadata": {},
     "output_type": "display_data"
    },
    {
     "data": {
      "application/vnd.jupyter.widget-view+json": {
       "model_id": "dd53a2271f394b2686f8d195970d33ef",
       "version_major": 2,
       "version_minor": 0
      },
      "text/plain": [
       "Training epoch 34:   0%|          | 0/10000 [00:00<?, ?it/s]"
      ]
     },
     "metadata": {},
     "output_type": "display_data"
    },
    {
     "data": {
      "application/vnd.jupyter.widget-view+json": {
       "model_id": "115e30abda2d440e819c9a929bee9846",
       "version_major": 2,
       "version_minor": 0
      },
      "text/plain": [
       "Training epoch 35:   0%|          | 0/10000 [00:00<?, ?it/s]"
      ]
     },
     "metadata": {},
     "output_type": "display_data"
    },
    {
     "data": {
      "application/vnd.jupyter.widget-view+json": {
       "model_id": "67480f4825bc4da0abfee549309a331b",
       "version_major": 2,
       "version_minor": 0
      },
      "text/plain": [
       "Training epoch 36:   0%|          | 0/10000 [00:00<?, ?it/s]"
      ]
     },
     "metadata": {},
     "output_type": "display_data"
    },
    {
     "data": {
      "application/vnd.jupyter.widget-view+json": {
       "model_id": "9281058c79a0423997b43eefaa2b51a6",
       "version_major": 2,
       "version_minor": 0
      },
      "text/plain": [
       "Training epoch 37:   0%|          | 0/10000 [00:00<?, ?it/s]"
      ]
     },
     "metadata": {},
     "output_type": "display_data"
    },
    {
     "data": {
      "application/vnd.jupyter.widget-view+json": {
       "model_id": "5235ec029d604e519063888513b3f21f",
       "version_major": 2,
       "version_minor": 0
      },
      "text/plain": [
       "Training epoch 38:   0%|          | 0/10000 [00:00<?, ?it/s]"
      ]
     },
     "metadata": {},
     "output_type": "display_data"
    },
    {
     "data": {
      "application/vnd.jupyter.widget-view+json": {
       "model_id": "e5a0c60cea2e45c4bc1d5f82f87aeca1",
       "version_major": 2,
       "version_minor": 0
      },
      "text/plain": [
       "Training epoch 39:   0%|          | 0/10000 [00:00<?, ?it/s]"
      ]
     },
     "metadata": {},
     "output_type": "display_data"
    },
    {
     "data": {
      "application/vnd.jupyter.widget-view+json": {
       "model_id": "a04f3584369342c6acd44be9ebaf49a9",
       "version_major": 2,
       "version_minor": 0
      },
      "text/plain": [
       "Training epoch 40:   0%|          | 0/10000 [00:00<?, ?it/s]"
      ]
     },
     "metadata": {},
     "output_type": "display_data"
    },
    {
     "data": {
      "application/vnd.jupyter.widget-view+json": {
       "model_id": "107d1571b54a4424ac3e797e7bad1da2",
       "version_major": 2,
       "version_minor": 0
      },
      "text/plain": [
       "Training epoch 41:   0%|          | 0/10000 [00:00<?, ?it/s]"
      ]
     },
     "metadata": {},
     "output_type": "display_data"
    },
    {
     "data": {
      "application/vnd.jupyter.widget-view+json": {
       "model_id": "3d43e74bebf54de8b14b2e1675d18c14",
       "version_major": 2,
       "version_minor": 0
      },
      "text/plain": [
       "Training epoch 42:   0%|          | 0/10000 [00:00<?, ?it/s]"
      ]
     },
     "metadata": {},
     "output_type": "display_data"
    },
    {
     "data": {
      "application/vnd.jupyter.widget-view+json": {
       "model_id": "974e44569a0f48619fe9b53b96586dfd",
       "version_major": 2,
       "version_minor": 0
      },
      "text/plain": [
       "Training epoch 43:   0%|          | 0/10000 [00:00<?, ?it/s]"
      ]
     },
     "metadata": {},
     "output_type": "display_data"
    },
    {
     "data": {
      "application/vnd.jupyter.widget-view+json": {
       "model_id": "ea653912c07040fdbcf0b0bebb58129e",
       "version_major": 2,
       "version_minor": 0
      },
      "text/plain": [
       "Training epoch 44:   0%|          | 0/10000 [00:00<?, ?it/s]"
      ]
     },
     "metadata": {},
     "output_type": "display_data"
    },
    {
     "data": {
      "application/vnd.jupyter.widget-view+json": {
       "model_id": "414dfbf3f53e49729e4466d69629d839",
       "version_major": 2,
       "version_minor": 0
      },
      "text/plain": [
       "Training epoch 45:   0%|          | 0/10000 [00:00<?, ?it/s]"
      ]
     },
     "metadata": {},
     "output_type": "display_data"
    },
    {
     "data": {
      "application/vnd.jupyter.widget-view+json": {
       "model_id": "5c69a4142e074d82a583b338deec23ee",
       "version_major": 2,
       "version_minor": 0
      },
      "text/plain": [
       "Training epoch 46:   0%|          | 0/10000 [00:00<?, ?it/s]"
      ]
     },
     "metadata": {},
     "output_type": "display_data"
    },
    {
     "data": {
      "application/vnd.jupyter.widget-view+json": {
       "model_id": "2b3bbee6bbbb4d2cb07f07ca96495eeb",
       "version_major": 2,
       "version_minor": 0
      },
      "text/plain": [
       "Training epoch 47:   0%|          | 0/10000 [00:00<?, ?it/s]"
      ]
     },
     "metadata": {},
     "output_type": "display_data"
    },
    {
     "data": {
      "application/vnd.jupyter.widget-view+json": {
       "model_id": "98ad57be6f364c1a96a5d089498af1c7",
       "version_major": 2,
       "version_minor": 0
      },
      "text/plain": [
       "Training epoch 48:   0%|          | 0/10000 [00:00<?, ?it/s]"
      ]
     },
     "metadata": {},
     "output_type": "display_data"
    },
    {
     "data": {
      "application/vnd.jupyter.widget-view+json": {
       "model_id": "e08b836246fa4d70b8a87b759af131b3",
       "version_major": 2,
       "version_minor": 0
      },
      "text/plain": [
       "Training epoch 49:   0%|          | 0/10000 [00:00<?, ?it/s]"
      ]
     },
     "metadata": {},
     "output_type": "display_data"
    },
    {
     "data": {
      "application/vnd.jupyter.widget-view+json": {
       "model_id": "084477b3fd4a4c959db48cf67289c89d",
       "version_major": 2,
       "version_minor": 0
      },
      "text/plain": [
       "Training epoch 50:   0%|          | 0/10000 [00:00<?, ?it/s]"
      ]
     },
     "metadata": {},
     "output_type": "display_data"
    },
    {
     "data": {
      "application/vnd.jupyter.widget-view+json": {
       "model_id": "7c0319f4bc8a4be0b5845e635e57affe",
       "version_major": 2,
       "version_minor": 0
      },
      "text/plain": [
       "Training epoch 51:   0%|          | 0/10000 [00:00<?, ?it/s]"
      ]
     },
     "metadata": {},
     "output_type": "display_data"
    },
    {
     "data": {
      "application/vnd.jupyter.widget-view+json": {
       "model_id": "7ee76d08e35a465ca16a55ad46c0114e",
       "version_major": 2,
       "version_minor": 0
      },
      "text/plain": [
       "Training epoch 52:   0%|          | 0/10000 [00:00<?, ?it/s]"
      ]
     },
     "metadata": {},
     "output_type": "display_data"
    },
    {
     "data": {
      "application/vnd.jupyter.widget-view+json": {
       "model_id": "7b320a4b5ac74c018558a1db6c27e70c",
       "version_major": 2,
       "version_minor": 0
      },
      "text/plain": [
       "Training epoch 53:   0%|          | 0/10000 [00:00<?, ?it/s]"
      ]
     },
     "metadata": {},
     "output_type": "display_data"
    },
    {
     "data": {
      "application/vnd.jupyter.widget-view+json": {
       "model_id": "bdaa8bdcfd18453dbd70ba8a9087662e",
       "version_major": 2,
       "version_minor": 0
      },
      "text/plain": [
       "Training epoch 54:   0%|          | 0/10000 [00:00<?, ?it/s]"
      ]
     },
     "metadata": {},
     "output_type": "display_data"
    },
    {
     "data": {
      "application/vnd.jupyter.widget-view+json": {
       "model_id": "082a7eb6d2c54d6f80d1ef569d1c160c",
       "version_major": 2,
       "version_minor": 0
      },
      "text/plain": [
       "Training epoch 55:   0%|          | 0/10000 [00:00<?, ?it/s]"
      ]
     },
     "metadata": {},
     "output_type": "display_data"
    },
    {
     "data": {
      "application/vnd.jupyter.widget-view+json": {
       "model_id": "cbd1027e20454a448544e06e53f97b0b",
       "version_major": 2,
       "version_minor": 0
      },
      "text/plain": [
       "Training epoch 56:   0%|          | 0/10000 [00:00<?, ?it/s]"
      ]
     },
     "metadata": {},
     "output_type": "display_data"
    },
    {
     "data": {
      "application/vnd.jupyter.widget-view+json": {
       "model_id": "ca24a197bb9e4dc2a2efdc72b02782c7",
       "version_major": 2,
       "version_minor": 0
      },
      "text/plain": [
       "Training epoch 57:   0%|          | 0/10000 [00:00<?, ?it/s]"
      ]
     },
     "metadata": {},
     "output_type": "display_data"
    },
    {
     "data": {
      "application/vnd.jupyter.widget-view+json": {
       "model_id": "b7d15f105a3547e5ba35f7d91e4637f1",
       "version_major": 2,
       "version_minor": 0
      },
      "text/plain": [
       "Training epoch 58:   0%|          | 0/10000 [00:00<?, ?it/s]"
      ]
     },
     "metadata": {},
     "output_type": "display_data"
    },
    {
     "data": {
      "application/vnd.jupyter.widget-view+json": {
       "model_id": "f2ad712b10f246bd8d73dcf2d51d84c8",
       "version_major": 2,
       "version_minor": 0
      },
      "text/plain": [
       "Training epoch 59:   0%|          | 0/10000 [00:00<?, ?it/s]"
      ]
     },
     "metadata": {},
     "output_type": "display_data"
    },
    {
     "data": {
      "application/vnd.jupyter.widget-view+json": {
       "model_id": "845dacb452274f59898707d31979c888",
       "version_major": 2,
       "version_minor": 0
      },
      "text/plain": [
       "Training epoch 60:   0%|          | 0/10000 [00:00<?, ?it/s]"
      ]
     },
     "metadata": {},
     "output_type": "display_data"
    },
    {
     "data": {
      "application/vnd.jupyter.widget-view+json": {
       "model_id": "4061aa6c97ed4619b0e415bb624dc799",
       "version_major": 2,
       "version_minor": 0
      },
      "text/plain": [
       "Training epoch 61:   0%|          | 0/10000 [00:00<?, ?it/s]"
      ]
     },
     "metadata": {},
     "output_type": "display_data"
    },
    {
     "data": {
      "application/vnd.jupyter.widget-view+json": {
       "model_id": "e57ee0eaac8a43dbb87cd613c6ef50a8",
       "version_major": 2,
       "version_minor": 0
      },
      "text/plain": [
       "Training epoch 62:   0%|          | 0/10000 [00:00<?, ?it/s]"
      ]
     },
     "metadata": {},
     "output_type": "display_data"
    },
    {
     "data": {
      "application/vnd.jupyter.widget-view+json": {
       "model_id": "61367e1c602e45748ae4bd3ef695fa32",
       "version_major": 2,
       "version_minor": 0
      },
      "text/plain": [
       "Training epoch 63:   0%|          | 0/10000 [00:00<?, ?it/s]"
      ]
     },
     "metadata": {},
     "output_type": "display_data"
    },
    {
     "data": {
      "application/vnd.jupyter.widget-view+json": {
       "model_id": "f453337775e84659b07588e6fc4126b9",
       "version_major": 2,
       "version_minor": 0
      },
      "text/plain": [
       "Training epoch 64:   0%|          | 0/10000 [00:00<?, ?it/s]"
      ]
     },
     "metadata": {},
     "output_type": "display_data"
    },
    {
     "data": {
      "application/vnd.jupyter.widget-view+json": {
       "model_id": "e1b574f29ae24d93b75b5c0d67d038af",
       "version_major": 2,
       "version_minor": 0
      },
      "text/plain": [
       "Training epoch 65:   0%|          | 0/10000 [00:00<?, ?it/s]"
      ]
     },
     "metadata": {},
     "output_type": "display_data"
    },
    {
     "data": {
      "application/vnd.jupyter.widget-view+json": {
       "model_id": "c9998011161a40ccb0e489e4050ebce8",
       "version_major": 2,
       "version_minor": 0
      },
      "text/plain": [
       "Training epoch 66:   0%|          | 0/10000 [00:00<?, ?it/s]"
      ]
     },
     "metadata": {},
     "output_type": "display_data"
    },
    {
     "data": {
      "application/vnd.jupyter.widget-view+json": {
       "model_id": "b59f4ed5f097438c96e45061bfaa0234",
       "version_major": 2,
       "version_minor": 0
      },
      "text/plain": [
       "Training epoch 67:   0%|          | 0/10000 [00:00<?, ?it/s]"
      ]
     },
     "metadata": {},
     "output_type": "display_data"
    },
    {
     "data": {
      "application/vnd.jupyter.widget-view+json": {
       "model_id": "757cde9820154b92ba9907326ee5472b",
       "version_major": 2,
       "version_minor": 0
      },
      "text/plain": [
       "Training epoch 68:   0%|          | 0/10000 [00:00<?, ?it/s]"
      ]
     },
     "metadata": {},
     "output_type": "display_data"
    },
    {
     "data": {
      "application/vnd.jupyter.widget-view+json": {
       "model_id": "619f6a70b09d45e8a421e4e9f824728a",
       "version_major": 2,
       "version_minor": 0
      },
      "text/plain": [
       "Training epoch 69:   0%|          | 0/10000 [00:00<?, ?it/s]"
      ]
     },
     "metadata": {},
     "output_type": "display_data"
    },
    {
     "data": {
      "application/vnd.jupyter.widget-view+json": {
       "model_id": "af5c3db3937b40a1b5d807fdd56c3f28",
       "version_major": 2,
       "version_minor": 0
      },
      "text/plain": [
       "Training epoch 70:   0%|          | 0/10000 [00:00<?, ?it/s]"
      ]
     },
     "metadata": {},
     "output_type": "display_data"
    },
    {
     "data": {
      "application/vnd.jupyter.widget-view+json": {
       "model_id": "48f149a0d15947348ab6d9456167c90a",
       "version_major": 2,
       "version_minor": 0
      },
      "text/plain": [
       "Training epoch 71:   0%|          | 0/10000 [00:00<?, ?it/s]"
      ]
     },
     "metadata": {},
     "output_type": "display_data"
    },
    {
     "data": {
      "application/vnd.jupyter.widget-view+json": {
       "model_id": "237ad04076934de2ac760ab996fca256",
       "version_major": 2,
       "version_minor": 0
      },
      "text/plain": [
       "Training epoch 72:   0%|          | 0/10000 [00:00<?, ?it/s]"
      ]
     },
     "metadata": {},
     "output_type": "display_data"
    },
    {
     "data": {
      "application/vnd.jupyter.widget-view+json": {
       "model_id": "4ab250d195ca492fa8361174e5447209",
       "version_major": 2,
       "version_minor": 0
      },
      "text/plain": [
       "Training epoch 73:   0%|          | 0/10000 [00:00<?, ?it/s]"
      ]
     },
     "metadata": {},
     "output_type": "display_data"
    },
    {
     "data": {
      "application/vnd.jupyter.widget-view+json": {
       "model_id": "00f31b30c7ff4de1a5c312d0b88583bc",
       "version_major": 2,
       "version_minor": 0
      },
      "text/plain": [
       "Training epoch 74:   0%|          | 0/10000 [00:00<?, ?it/s]"
      ]
     },
     "metadata": {},
     "output_type": "display_data"
    },
    {
     "data": {
      "application/vnd.jupyter.widget-view+json": {
       "model_id": "0848cbb6428f418da20ef5362653a717",
       "version_major": 2,
       "version_minor": 0
      },
      "text/plain": [
       "Training epoch 75:   0%|          | 0/10000 [00:00<?, ?it/s]"
      ]
     },
     "metadata": {},
     "output_type": "display_data"
    },
    {
     "data": {
      "application/vnd.jupyter.widget-view+json": {
       "model_id": "abac81d5fae34f69859915dd7f870116",
       "version_major": 2,
       "version_minor": 0
      },
      "text/plain": [
       "Training epoch 76:   0%|          | 0/10000 [00:00<?, ?it/s]"
      ]
     },
     "metadata": {},
     "output_type": "display_data"
    },
    {
     "data": {
      "application/vnd.jupyter.widget-view+json": {
       "model_id": "fa5ee32cb678480fa08b1b4d4b797746",
       "version_major": 2,
       "version_minor": 0
      },
      "text/plain": [
       "Training epoch 77:   0%|          | 0/10000 [00:00<?, ?it/s]"
      ]
     },
     "metadata": {},
     "output_type": "display_data"
    },
    {
     "data": {
      "application/vnd.jupyter.widget-view+json": {
       "model_id": "3e0f36a4689f4ba8a3ef06456a0162ef",
       "version_major": 2,
       "version_minor": 0
      },
      "text/plain": [
       "Training epoch 78:   0%|          | 0/10000 [00:00<?, ?it/s]"
      ]
     },
     "metadata": {},
     "output_type": "display_data"
    },
    {
     "data": {
      "application/vnd.jupyter.widget-view+json": {
       "model_id": "482aae6040fe4131929552e7c3ca9477",
       "version_major": 2,
       "version_minor": 0
      },
      "text/plain": [
       "Training epoch 79:   0%|          | 0/10000 [00:00<?, ?it/s]"
      ]
     },
     "metadata": {},
     "output_type": "display_data"
    },
    {
     "data": {
      "application/vnd.jupyter.widget-view+json": {
       "model_id": "36ada0217ec9406b9c96cbad964f1253",
       "version_major": 2,
       "version_minor": 0
      },
      "text/plain": [
       "Training epoch 80:   0%|          | 0/10000 [00:00<?, ?it/s]"
      ]
     },
     "metadata": {},
     "output_type": "display_data"
    },
    {
     "data": {
      "application/vnd.jupyter.widget-view+json": {
       "model_id": "9f31abd13814416c85a8325cb5662ace",
       "version_major": 2,
       "version_minor": 0
      },
      "text/plain": [
       "Training epoch 81:   0%|          | 0/10000 [00:00<?, ?it/s]"
      ]
     },
     "metadata": {},
     "output_type": "display_data"
    },
    {
     "data": {
      "application/vnd.jupyter.widget-view+json": {
       "model_id": "f128c1497e3e4e5fb15e5e5e5d27cf6f",
       "version_major": 2,
       "version_minor": 0
      },
      "text/plain": [
       "Training epoch 82:   0%|          | 0/10000 [00:00<?, ?it/s]"
      ]
     },
     "metadata": {},
     "output_type": "display_data"
    },
    {
     "data": {
      "application/vnd.jupyter.widget-view+json": {
       "model_id": "a5b37fba87fc4d5fb940c84c6de9d3dc",
       "version_major": 2,
       "version_minor": 0
      },
      "text/plain": [
       "Training epoch 83:   0%|          | 0/10000 [00:00<?, ?it/s]"
      ]
     },
     "metadata": {},
     "output_type": "display_data"
    },
    {
     "data": {
      "application/vnd.jupyter.widget-view+json": {
       "model_id": "d69958c9ca2d4c0a88dcb1c09b01b93e",
       "version_major": 2,
       "version_minor": 0
      },
      "text/plain": [
       "Training epoch 84:   0%|          | 0/10000 [00:00<?, ?it/s]"
      ]
     },
     "metadata": {},
     "output_type": "display_data"
    },
    {
     "data": {
      "application/vnd.jupyter.widget-view+json": {
       "model_id": "05a47e5bc6a94c49a3e19718e8ca9ac6",
       "version_major": 2,
       "version_minor": 0
      },
      "text/plain": [
       "Training epoch 85:   0%|          | 0/10000 [00:00<?, ?it/s]"
      ]
     },
     "metadata": {},
     "output_type": "display_data"
    },
    {
     "data": {
      "application/vnd.jupyter.widget-view+json": {
       "model_id": "503d36f8715542f3afa9fbc622320562",
       "version_major": 2,
       "version_minor": 0
      },
      "text/plain": [
       "Training epoch 86:   0%|          | 0/10000 [00:00<?, ?it/s]"
      ]
     },
     "metadata": {},
     "output_type": "display_data"
    },
    {
     "data": {
      "application/vnd.jupyter.widget-view+json": {
       "model_id": "9c6bd1d5b5b8451b9397b482f7605504",
       "version_major": 2,
       "version_minor": 0
      },
      "text/plain": [
       "Training epoch 87:   0%|          | 0/10000 [00:00<?, ?it/s]"
      ]
     },
     "metadata": {},
     "output_type": "display_data"
    },
    {
     "data": {
      "application/vnd.jupyter.widget-view+json": {
       "model_id": "659a2d8b5ace457a8bd26c5c687d9428",
       "version_major": 2,
       "version_minor": 0
      },
      "text/plain": [
       "Training epoch 88:   0%|          | 0/10000 [00:00<?, ?it/s]"
      ]
     },
     "metadata": {},
     "output_type": "display_data"
    },
    {
     "data": {
      "application/vnd.jupyter.widget-view+json": {
       "model_id": "c40ebed954af4309bd26bf3a02f18022",
       "version_major": 2,
       "version_minor": 0
      },
      "text/plain": [
       "Training epoch 89:   0%|          | 0/10000 [00:00<?, ?it/s]"
      ]
     },
     "metadata": {},
     "output_type": "display_data"
    },
    {
     "data": {
      "application/vnd.jupyter.widget-view+json": {
       "model_id": "5fcb32d54cc64ea5a5aae79821e8fc35",
       "version_major": 2,
       "version_minor": 0
      },
      "text/plain": [
       "Training epoch 90:   0%|          | 0/10000 [00:00<?, ?it/s]"
      ]
     },
     "metadata": {},
     "output_type": "display_data"
    },
    {
     "data": {
      "application/vnd.jupyter.widget-view+json": {
       "model_id": "2d1b0c0884e74245b31248fb4158c52e",
       "version_major": 2,
       "version_minor": 0
      },
      "text/plain": [
       "Training epoch 91:   0%|          | 0/10000 [00:00<?, ?it/s]"
      ]
     },
     "metadata": {},
     "output_type": "display_data"
    },
    {
     "data": {
      "application/vnd.jupyter.widget-view+json": {
       "model_id": "ce26165046a34c90a0c08f4abc4e091d",
       "version_major": 2,
       "version_minor": 0
      },
      "text/plain": [
       "Training epoch 92:   0%|          | 0/10000 [00:00<?, ?it/s]"
      ]
     },
     "metadata": {},
     "output_type": "display_data"
    },
    {
     "data": {
      "application/vnd.jupyter.widget-view+json": {
       "model_id": "35ce0b17269b4e6facb8596567be0bda",
       "version_major": 2,
       "version_minor": 0
      },
      "text/plain": [
       "Training epoch 93:   0%|          | 0/10000 [00:00<?, ?it/s]"
      ]
     },
     "metadata": {},
     "output_type": "display_data"
    },
    {
     "data": {
      "application/vnd.jupyter.widget-view+json": {
       "model_id": "1ce8348598d34c3bbc23b4224f2d0210",
       "version_major": 2,
       "version_minor": 0
      },
      "text/plain": [
       "Training epoch 94:   0%|          | 0/10000 [00:00<?, ?it/s]"
      ]
     },
     "metadata": {},
     "output_type": "display_data"
    },
    {
     "data": {
      "application/vnd.jupyter.widget-view+json": {
       "model_id": "44ad960463fa4735a535e849ca6588f9",
       "version_major": 2,
       "version_minor": 0
      },
      "text/plain": [
       "Training epoch 95:   0%|          | 0/10000 [00:00<?, ?it/s]"
      ]
     },
     "metadata": {},
     "output_type": "display_data"
    },
    {
     "data": {
      "application/vnd.jupyter.widget-view+json": {
       "model_id": "3d11298b16194db585037974fd0ae590",
       "version_major": 2,
       "version_minor": 0
      },
      "text/plain": [
       "Training epoch 96:   0%|          | 0/10000 [00:00<?, ?it/s]"
      ]
     },
     "metadata": {},
     "output_type": "display_data"
    },
    {
     "data": {
      "application/vnd.jupyter.widget-view+json": {
       "model_id": "818d955c4c0a4e789577ca8a709791e8",
       "version_major": 2,
       "version_minor": 0
      },
      "text/plain": [
       "Training epoch 97:   0%|          | 0/10000 [00:00<?, ?it/s]"
      ]
     },
     "metadata": {},
     "output_type": "display_data"
    },
    {
     "data": {
      "application/vnd.jupyter.widget-view+json": {
       "model_id": "9057a720718a4140b28c54d27662e3a8",
       "version_major": 2,
       "version_minor": 0
      },
      "text/plain": [
       "Training epoch 98:   0%|          | 0/10000 [00:00<?, ?it/s]"
      ]
     },
     "metadata": {},
     "output_type": "display_data"
    },
    {
     "data": {
      "application/vnd.jupyter.widget-view+json": {
       "model_id": "f69045f642344dd5be385530b1e1bf77",
       "version_major": 2,
       "version_minor": 0
      },
      "text/plain": [
       "Training epoch 99:   0%|          | 0/10000 [00:00<?, ?it/s]"
      ]
     },
     "metadata": {},
     "output_type": "display_data"
    },
    {
     "data": {
      "application/vnd.jupyter.widget-view+json": {
       "model_id": "5f3d2c819d1e473b99b911b5bdb0d8de",
       "version_major": 2,
       "version_minor": 0
      },
      "text/plain": [
       "Training epoch 100:   0%|          | 0/10000 [00:00<?, ?it/s]"
      ]
     },
     "metadata": {},
     "output_type": "display_data"
    },
    {
     "data": {
      "application/vnd.jupyter.widget-view+json": {
       "model_id": "5e9a8d7fe1434b2b92c587271d16fb46",
       "version_major": 2,
       "version_minor": 0
      },
      "text/plain": [
       "Training epoch 101:   0%|          | 0/10000 [00:00<?, ?it/s]"
      ]
     },
     "metadata": {},
     "output_type": "display_data"
    },
    {
     "data": {
      "application/vnd.jupyter.widget-view+json": {
       "model_id": "ab8f2699e38340c186033f80fef3d8d5",
       "version_major": 2,
       "version_minor": 0
      },
      "text/plain": [
       "Training epoch 102:   0%|          | 0/10000 [00:00<?, ?it/s]"
      ]
     },
     "metadata": {},
     "output_type": "display_data"
    },
    {
     "data": {
      "application/vnd.jupyter.widget-view+json": {
       "model_id": "b43892a57fbf4c54933a725cd50406f1",
       "version_major": 2,
       "version_minor": 0
      },
      "text/plain": [
       "Training epoch 103:   0%|          | 0/10000 [00:00<?, ?it/s]"
      ]
     },
     "metadata": {},
     "output_type": "display_data"
    },
    {
     "data": {
      "application/vnd.jupyter.widget-view+json": {
       "model_id": "4e2e6fddee6b4af4bc70c2e22508fd23",
       "version_major": 2,
       "version_minor": 0
      },
      "text/plain": [
       "Training epoch 104:   0%|          | 0/10000 [00:00<?, ?it/s]"
      ]
     },
     "metadata": {},
     "output_type": "display_data"
    },
    {
     "data": {
      "application/vnd.jupyter.widget-view+json": {
       "model_id": "0479920d03674d13b38643c24c76dac6",
       "version_major": 2,
       "version_minor": 0
      },
      "text/plain": [
       "Training epoch 105:   0%|          | 0/10000 [00:00<?, ?it/s]"
      ]
     },
     "metadata": {},
     "output_type": "display_data"
    },
    {
     "data": {
      "application/vnd.jupyter.widget-view+json": {
       "model_id": "b062373077414189bd2d86266142118f",
       "version_major": 2,
       "version_minor": 0
      },
      "text/plain": [
       "Training epoch 106:   0%|          | 0/10000 [00:00<?, ?it/s]"
      ]
     },
     "metadata": {},
     "output_type": "display_data"
    },
    {
     "data": {
      "application/vnd.jupyter.widget-view+json": {
       "model_id": "485c7c7786d946ba842f8e270b8dc6e4",
       "version_major": 2,
       "version_minor": 0
      },
      "text/plain": [
       "Training epoch 107:   0%|          | 0/10000 [00:00<?, ?it/s]"
      ]
     },
     "metadata": {},
     "output_type": "display_data"
    },
    {
     "data": {
      "application/vnd.jupyter.widget-view+json": {
       "model_id": "fc0efaea768442bb8e3c3238a698f456",
       "version_major": 2,
       "version_minor": 0
      },
      "text/plain": [
       "Training epoch 108:   0%|          | 0/10000 [00:00<?, ?it/s]"
      ]
     },
     "metadata": {},
     "output_type": "display_data"
    },
    {
     "data": {
      "application/vnd.jupyter.widget-view+json": {
       "model_id": "17d6466d42cd42788864cc3d646a194e",
       "version_major": 2,
       "version_minor": 0
      },
      "text/plain": [
       "Training epoch 109:   0%|          | 0/10000 [00:00<?, ?it/s]"
      ]
     },
     "metadata": {},
     "output_type": "display_data"
    },
    {
     "data": {
      "application/vnd.jupyter.widget-view+json": {
       "model_id": "0049b8b5aa2949769b76c5243da9e604",
       "version_major": 2,
       "version_minor": 0
      },
      "text/plain": [
       "Training epoch 110:   0%|          | 0/10000 [00:00<?, ?it/s]"
      ]
     },
     "metadata": {},
     "output_type": "display_data"
    },
    {
     "data": {
      "application/vnd.jupyter.widget-view+json": {
       "model_id": "4bb21a2900a94aa6a6ac9df302c94118",
       "version_major": 2,
       "version_minor": 0
      },
      "text/plain": [
       "Training epoch 111:   0%|          | 0/10000 [00:00<?, ?it/s]"
      ]
     },
     "metadata": {},
     "output_type": "display_data"
    },
    {
     "data": {
      "application/vnd.jupyter.widget-view+json": {
       "model_id": "bfeb17cc02914c6b8c47cd366eaa13cd",
       "version_major": 2,
       "version_minor": 0
      },
      "text/plain": [
       "Training epoch 112:   0%|          | 0/10000 [00:00<?, ?it/s]"
      ]
     },
     "metadata": {},
     "output_type": "display_data"
    },
    {
     "data": {
      "application/vnd.jupyter.widget-view+json": {
       "model_id": "8ec8ff1b07c24bbe95e92508d06a1e67",
       "version_major": 2,
       "version_minor": 0
      },
      "text/plain": [
       "Training epoch 113:   0%|          | 0/10000 [00:00<?, ?it/s]"
      ]
     },
     "metadata": {},
     "output_type": "display_data"
    },
    {
     "data": {
      "application/vnd.jupyter.widget-view+json": {
       "model_id": "29f823aa8b0a4fa1829939e070e4fda1",
       "version_major": 2,
       "version_minor": 0
      },
      "text/plain": [
       "Training epoch 114:   0%|          | 0/10000 [00:00<?, ?it/s]"
      ]
     },
     "metadata": {},
     "output_type": "display_data"
    },
    {
     "data": {
      "application/vnd.jupyter.widget-view+json": {
       "model_id": "6016bb0cc70e4ed49e7becff0ec4cd59",
       "version_major": 2,
       "version_minor": 0
      },
      "text/plain": [
       "Training epoch 115:   0%|          | 0/10000 [00:00<?, ?it/s]"
      ]
     },
     "metadata": {},
     "output_type": "display_data"
    },
    {
     "data": {
      "application/vnd.jupyter.widget-view+json": {
       "model_id": "539d04ed1b62410b8b06bcbb65f9df78",
       "version_major": 2,
       "version_minor": 0
      },
      "text/plain": [
       "Training epoch 116:   0%|          | 0/10000 [00:00<?, ?it/s]"
      ]
     },
     "metadata": {},
     "output_type": "display_data"
    },
    {
     "data": {
      "application/vnd.jupyter.widget-view+json": {
       "model_id": "bbe514a90ae24b819ae4a4ae0595cc36",
       "version_major": 2,
       "version_minor": 0
      },
      "text/plain": [
       "Training epoch 117:   0%|          | 0/10000 [00:00<?, ?it/s]"
      ]
     },
     "metadata": {},
     "output_type": "display_data"
    },
    {
     "data": {
      "application/vnd.jupyter.widget-view+json": {
       "model_id": "8e934fd0994346ab9b723dca342cd323",
       "version_major": 2,
       "version_minor": 0
      },
      "text/plain": [
       "Training epoch 118:   0%|          | 0/10000 [00:00<?, ?it/s]"
      ]
     },
     "metadata": {},
     "output_type": "display_data"
    },
    {
     "data": {
      "application/vnd.jupyter.widget-view+json": {
       "model_id": "514a1a63626242cb905a7cb2136285f0",
       "version_major": 2,
       "version_minor": 0
      },
      "text/plain": [
       "Training epoch 119:   0%|          | 0/10000 [00:00<?, ?it/s]"
      ]
     },
     "metadata": {},
     "output_type": "display_data"
    },
    {
     "data": {
      "application/vnd.jupyter.widget-view+json": {
       "model_id": "e044374f2293456496d25213ac1b1bdb",
       "version_major": 2,
       "version_minor": 0
      },
      "text/plain": [
       "Training epoch 120:   0%|          | 0/10000 [00:00<?, ?it/s]"
      ]
     },
     "metadata": {},
     "output_type": "display_data"
    },
    {
     "data": {
      "application/vnd.jupyter.widget-view+json": {
       "model_id": "4e38471ed7294c11ae8a1aa85fc5f271",
       "version_major": 2,
       "version_minor": 0
      },
      "text/plain": [
       "Training epoch 121:   0%|          | 0/10000 [00:00<?, ?it/s]"
      ]
     },
     "metadata": {},
     "output_type": "display_data"
    },
    {
     "data": {
      "application/vnd.jupyter.widget-view+json": {
       "model_id": "04658b7e3b0f40159530b1af89e974eb",
       "version_major": 2,
       "version_minor": 0
      },
      "text/plain": [
       "Training epoch 122:   0%|          | 0/10000 [00:00<?, ?it/s]"
      ]
     },
     "metadata": {},
     "output_type": "display_data"
    },
    {
     "data": {
      "application/vnd.jupyter.widget-view+json": {
       "model_id": "a75845b8414a4cd8b0bffd53dcdf24a1",
       "version_major": 2,
       "version_minor": 0
      },
      "text/plain": [
       "Training epoch 123:   0%|          | 0/10000 [00:00<?, ?it/s]"
      ]
     },
     "metadata": {},
     "output_type": "display_data"
    },
    {
     "data": {
      "application/vnd.jupyter.widget-view+json": {
       "model_id": "82aff188a72e4a86b8a439c1a1ba95b9",
       "version_major": 2,
       "version_minor": 0
      },
      "text/plain": [
       "Training epoch 124:   0%|          | 0/10000 [00:00<?, ?it/s]"
      ]
     },
     "metadata": {},
     "output_type": "display_data"
    },
    {
     "data": {
      "application/vnd.jupyter.widget-view+json": {
       "model_id": "716fdda5f8ae46b782d6040ba4314198",
       "version_major": 2,
       "version_minor": 0
      },
      "text/plain": [
       "Training epoch 125:   0%|          | 0/10000 [00:00<?, ?it/s]"
      ]
     },
     "metadata": {},
     "output_type": "display_data"
    },
    {
     "data": {
      "application/vnd.jupyter.widget-view+json": {
       "model_id": "e92d68a6cf1b40dba8e4136af69d8868",
       "version_major": 2,
       "version_minor": 0
      },
      "text/plain": [
       "Training epoch 126:   0%|          | 0/10000 [00:00<?, ?it/s]"
      ]
     },
     "metadata": {},
     "output_type": "display_data"
    },
    {
     "data": {
      "application/vnd.jupyter.widget-view+json": {
       "model_id": "2aac53df14294af5a5427d964ce74b57",
       "version_major": 2,
       "version_minor": 0
      },
      "text/plain": [
       "Training epoch 127:   0%|          | 0/10000 [00:00<?, ?it/s]"
      ]
     },
     "metadata": {},
     "output_type": "display_data"
    },
    {
     "data": {
      "application/vnd.jupyter.widget-view+json": {
       "model_id": "4e0f4620b4814287834572bdd6ced004",
       "version_major": 2,
       "version_minor": 0
      },
      "text/plain": [
       "Training epoch 128:   0%|          | 0/10000 [00:00<?, ?it/s]"
      ]
     },
     "metadata": {},
     "output_type": "display_data"
    },
    {
     "data": {
      "application/vnd.jupyter.widget-view+json": {
       "model_id": "07798da6618045048033423e027b2214",
       "version_major": 2,
       "version_minor": 0
      },
      "text/plain": [
       "Training epoch 129:   0%|          | 0/10000 [00:00<?, ?it/s]"
      ]
     },
     "metadata": {},
     "output_type": "display_data"
    },
    {
     "data": {
      "application/vnd.jupyter.widget-view+json": {
       "model_id": "aa193e47edda46a4852382448648632d",
       "version_major": 2,
       "version_minor": 0
      },
      "text/plain": [
       "Training epoch 130:   0%|          | 0/10000 [00:00<?, ?it/s]"
      ]
     },
     "metadata": {},
     "output_type": "display_data"
    },
    {
     "data": {
      "application/vnd.jupyter.widget-view+json": {
       "model_id": "37825fe99a1c401fa2e9a497b563bed6",
       "version_major": 2,
       "version_minor": 0
      },
      "text/plain": [
       "Training epoch 131:   0%|          | 0/10000 [00:00<?, ?it/s]"
      ]
     },
     "metadata": {},
     "output_type": "display_data"
    },
    {
     "data": {
      "application/vnd.jupyter.widget-view+json": {
       "model_id": "b7517abb4dbd4134949149d1d392cc10",
       "version_major": 2,
       "version_minor": 0
      },
      "text/plain": [
       "Training epoch 132:   0%|          | 0/10000 [00:00<?, ?it/s]"
      ]
     },
     "metadata": {},
     "output_type": "display_data"
    },
    {
     "data": {
      "application/vnd.jupyter.widget-view+json": {
       "model_id": "4369f085bbb9441c95583bbd0327f14f",
       "version_major": 2,
       "version_minor": 0
      },
      "text/plain": [
       "Training epoch 133:   0%|          | 0/10000 [00:00<?, ?it/s]"
      ]
     },
     "metadata": {},
     "output_type": "display_data"
    },
    {
     "data": {
      "application/vnd.jupyter.widget-view+json": {
       "model_id": "cce32cbcc7234dc18d438237680e160b",
       "version_major": 2,
       "version_minor": 0
      },
      "text/plain": [
       "Training epoch 134:   0%|          | 0/10000 [00:00<?, ?it/s]"
      ]
     },
     "metadata": {},
     "output_type": "display_data"
    },
    {
     "data": {
      "application/vnd.jupyter.widget-view+json": {
       "model_id": "a5caaa1152624c13a39cde27e3120e46",
       "version_major": 2,
       "version_minor": 0
      },
      "text/plain": [
       "Training epoch 135:   0%|          | 0/10000 [00:00<?, ?it/s]"
      ]
     },
     "metadata": {},
     "output_type": "display_data"
    },
    {
     "data": {
      "application/vnd.jupyter.widget-view+json": {
       "model_id": "97930237d1c04478adbe04731c6f75f0",
       "version_major": 2,
       "version_minor": 0
      },
      "text/plain": [
       "Training epoch 136:   0%|          | 0/10000 [00:00<?, ?it/s]"
      ]
     },
     "metadata": {},
     "output_type": "display_data"
    },
    {
     "data": {
      "application/vnd.jupyter.widget-view+json": {
       "model_id": "ac3ac01581624b6abd1933126522d70b",
       "version_major": 2,
       "version_minor": 0
      },
      "text/plain": [
       "Training epoch 137:   0%|          | 0/10000 [00:00<?, ?it/s]"
      ]
     },
     "metadata": {},
     "output_type": "display_data"
    },
    {
     "data": {
      "application/vnd.jupyter.widget-view+json": {
       "model_id": "3fd78ca2c00e4ead8aebef69c210473c",
       "version_major": 2,
       "version_minor": 0
      },
      "text/plain": [
       "Training epoch 138:   0%|          | 0/10000 [00:00<?, ?it/s]"
      ]
     },
     "metadata": {},
     "output_type": "display_data"
    },
    {
     "data": {
      "application/vnd.jupyter.widget-view+json": {
       "model_id": "79f0072e6c2d4e3f88a99da4e9d78afe",
       "version_major": 2,
       "version_minor": 0
      },
      "text/plain": [
       "Training epoch 139:   0%|          | 0/10000 [00:00<?, ?it/s]"
      ]
     },
     "metadata": {},
     "output_type": "display_data"
    },
    {
     "data": {
      "application/vnd.jupyter.widget-view+json": {
       "model_id": "a06649675f0d402a93fc30515605252f",
       "version_major": 2,
       "version_minor": 0
      },
      "text/plain": [
       "Training epoch 140:   0%|          | 0/10000 [00:00<?, ?it/s]"
      ]
     },
     "metadata": {},
     "output_type": "display_data"
    },
    {
     "data": {
      "application/vnd.jupyter.widget-view+json": {
       "model_id": "31229828265e4c64bd1fc6daa9c60d1b",
       "version_major": 2,
       "version_minor": 0
      },
      "text/plain": [
       "Training epoch 141:   0%|          | 0/10000 [00:00<?, ?it/s]"
      ]
     },
     "metadata": {},
     "output_type": "display_data"
    },
    {
     "data": {
      "application/vnd.jupyter.widget-view+json": {
       "model_id": "6c58d7fdabc745d8961a51cfa5ea6c25",
       "version_major": 2,
       "version_minor": 0
      },
      "text/plain": [
       "Training epoch 142:   0%|          | 0/10000 [00:00<?, ?it/s]"
      ]
     },
     "metadata": {},
     "output_type": "display_data"
    },
    {
     "data": {
      "application/vnd.jupyter.widget-view+json": {
       "model_id": "3b8be7307d694b16b5475771775a019b",
       "version_major": 2,
       "version_minor": 0
      },
      "text/plain": [
       "Training epoch 143:   0%|          | 0/10000 [00:00<?, ?it/s]"
      ]
     },
     "metadata": {},
     "output_type": "display_data"
    },
    {
     "data": {
      "application/vnd.jupyter.widget-view+json": {
       "model_id": "d568a25f918947e8b36051841e324ac6",
       "version_major": 2,
       "version_minor": 0
      },
      "text/plain": [
       "Training epoch 144:   0%|          | 0/10000 [00:00<?, ?it/s]"
      ]
     },
     "metadata": {},
     "output_type": "display_data"
    },
    {
     "data": {
      "application/vnd.jupyter.widget-view+json": {
       "model_id": "5d7228dfce8440d5aaf043f040d18f56",
       "version_major": 2,
       "version_minor": 0
      },
      "text/plain": [
       "Training epoch 145:   0%|          | 0/10000 [00:00<?, ?it/s]"
      ]
     },
     "metadata": {},
     "output_type": "display_data"
    },
    {
     "data": {
      "application/vnd.jupyter.widget-view+json": {
       "model_id": "60353fb3c63045e6bb312575360defdb",
       "version_major": 2,
       "version_minor": 0
      },
      "text/plain": [
       "Training epoch 146:   0%|          | 0/10000 [00:00<?, ?it/s]"
      ]
     },
     "metadata": {},
     "output_type": "display_data"
    },
    {
     "data": {
      "application/vnd.jupyter.widget-view+json": {
       "model_id": "74d3d8a23e774f599276b47a6339acce",
       "version_major": 2,
       "version_minor": 0
      },
      "text/plain": [
       "Training epoch 147:   0%|          | 0/10000 [00:00<?, ?it/s]"
      ]
     },
     "metadata": {},
     "output_type": "display_data"
    },
    {
     "data": {
      "application/vnd.jupyter.widget-view+json": {
       "model_id": "feb4339a06d34f6890f47891697d4615",
       "version_major": 2,
       "version_minor": 0
      },
      "text/plain": [
       "Training epoch 148:   0%|          | 0/10000 [00:00<?, ?it/s]"
      ]
     },
     "metadata": {},
     "output_type": "display_data"
    },
    {
     "data": {
      "application/vnd.jupyter.widget-view+json": {
       "model_id": "e02051b5a9854efe9fd31578c6844692",
       "version_major": 2,
       "version_minor": 0
      },
      "text/plain": [
       "Training epoch 149:   0%|          | 0/10000 [00:00<?, ?it/s]"
      ]
     },
     "metadata": {},
     "output_type": "display_data"
    },
    {
     "data": {
      "application/vnd.jupyter.widget-view+json": {
       "model_id": "9f5868a9593941699e5d780e5986e73f",
       "version_major": 2,
       "version_minor": 0
      },
      "text/plain": [
       "Training epoch 150:   0%|          | 0/10000 [00:00<?, ?it/s]"
      ]
     },
     "metadata": {},
     "output_type": "display_data"
    }
   ],
   "source": [
    "optimizer = tf.keras.optimizers.Adam(learning_rate=\n",
    "                                     tf.keras.optimizers.schedules.CosineDecay(\n",
    "                                         0.00025, NUM_ITERATIONS_PER_EPOCH*NUM_EPOCHS, alpha=0.0, name=None))\n",
    "losses = trainer.train_from_presimulation('model_comparison_sims', optimizer = optimizer,\n",
    "                                         reuse_optimizer=True)"
   ]
  },
  {
   "cell_type": "markdown",
   "id": "6818c04f",
   "metadata": {},
   "source": [
    "# Diagnostics"
   ]
  },
  {
   "cell_type": "code",
   "execution_count": 17,
   "id": "c549ccb4",
   "metadata": {},
   "outputs": [],
   "source": [
    "# Generate 10000 validation data sets\n",
    "sim_data = generative_models(10000)\n",
    "\n",
    "# Use the configurator to transform the data structure\n",
    "sim_data_transformed = trainer.configurator(sim_data)\n",
    "\n",
    "# Get true indices and predicted PMPs from the trained network\n",
    "sim_indices = sim_data_transformed[\"model_indices\"]\n",
    "sim_preds = amortizer(sim_data_transformed)"
   ]
  },
  {
   "cell_type": "code",
   "execution_count": 20,
   "id": "613ffca2",
   "metadata": {},
   "outputs": [
    {
     "data": {
      "image/png": "[encoded data removed]",
      "text/plain": [
       "<Figure size 2000x500 with 4 Axes>"
      ]
     },
     "metadata": {},
     "output_type": "display_data"
    }
   ],
   "source": [
    "cal_curves = bf.diagnostics.plot_calibration_curves(true_models=sim_indices, pred_models=sim_preds,\n",
    "                                                   model_names = model_names)"
   ]
  },
  {
   "cell_type": "code",
   "execution_count": 21,
   "id": "0a6166a2",
   "metadata": {},
   "outputs": [
    {
     "data": {
      "image/png": "[encoded data removed]",
      "text/plain": [
       "<Figure size 500x500 with 2 Axes>"
      ]
     },
     "metadata": {},
     "output_type": "display_data"
    }
   ],
   "source": [
    "conf_matrix = bf.diagnostics.plot_confusion_matrix(true_models=sim_indices, pred_models=sim_preds,\n",
    "                                                   model_names = model_names)"
   ]
  },
  {
   "cell_type": "markdown",
   "id": "e5982700",
   "metadata": {},
   "source": [
    "# Apply model comparison to Project Implicit data"
   ]
  },
  {
   "cell_type": "code",
   "execution_count": 36,
   "id": "8fd1b232",
   "metadata": {},
   "outputs": [
    {
     "name": "stdout",
     "output_type": "stream",
     "text": [
      "[0.05620413 0.35988258 0.23320779 0.3507055 ]prepared_False2003iat.p\n",
      "[0.05696606 0.3675634  0.22894117 0.34652937]prepared_False2004iat.p\n",
      "[0.06059157 0.39132294 0.21362229 0.3344632 ]prepared_False2005iat.p\n",
      "[0.06170231 0.40493197 0.2046067  0.32875903]prepared_False2005iat2.p\n",
      "[0.06191193 0.41340215 0.19754445 0.32714147]prepared_False2005iat3.p\n",
      "[0.06316453 0.41762214 0.19721171 0.32200162]prepared_False2005iat4.p\n",
      "[0.06387197 0.42009462 0.19830787 0.31772554]prepared_False2005iat5.p\n",
      "[0.06394377 0.42013095 0.19821662 0.31770865]prepared_False2005iat6.p\n",
      "[0.06455501 0.42085277 0.19801268 0.31657954]prepared_False2006iat.p\n",
      "[0.06465463 0.42364875 0.19830385 0.31339278]prepared_False2006iat2.p\n",
      "[0.06450021 0.42579523 0.19858763 0.31111693]prepared_False2006iat3.p\n",
      "[0.06448164 0.42775824 0.19924377 0.30851635]prepared_False2006iat4.p\n",
      "[0.06501256 0.42953251 0.19864146 0.30681347]prepared_False2006iat5.p\n",
      "[0.06581962 0.43262327 0.19418372 0.30737338]prepared_False2006iat6.p\n",
      "[0.06594696 0.43459425 0.19410309 0.3053557 ]prepared_False2007iat.p\n",
      "[0.06615349 0.43633264 0.19283398 0.30467989]prepared_False2007iat2.p\n",
      "[0.06640098 0.43823033 0.19074052 0.30462817]prepared_False2007iat3.p\n",
      "[0.06663499 0.43947439 0.18973262 0.304158  ]prepared_False2007iat4.p\n",
      "[0.06717756 0.44088163 0.18845607 0.30348473]prepared_False2007iat5.p\n",
      "[0.06696514 0.44178447 0.18872621 0.30252418]prepared_False2007iat6.p\n",
      "[0.0667206  0.44215807 0.18958831 0.30153302]prepared_False2007iat7.p\n",
      "[0.06671686 0.44221925 0.18961273 0.30145116]prepared_False2007iat8.p\n",
      "[0.06653048 0.44276656 0.18970403 0.30099894]prepared_False2008iat.p\n",
      "[0.06626732 0.4432598  0.19017064 0.30030224]prepared_False2008iat2.p\n",
      "[0.06609326 0.44392044 0.19013865 0.29984765]prepared_False2008iat3.p\n",
      "[0.06599386 0.44437699 0.19036257 0.29926658]prepared_False2008iat4.p\n",
      "[0.06597559 0.44498731 0.19003252 0.29900458]prepared_False2008iat5.p\n",
      "[0.06589024 0.4449959  0.19025861 0.29885525]prepared_False2008iat6.p\n",
      "[0.06603529 0.44580627 0.18963843 0.29852   ]prepared_False2009iat.p\n",
      "[0.06614083 0.44640831 0.18920083 0.29825003]prepared_False2009iat2.p\n",
      "[0.06586474 0.44669119 0.18964789 0.29779618]prepared_False2009iat3.p\n",
      "[0.06582596 0.44710804 0.18948779 0.29757821]prepared_False2009iat4.p\n",
      "[0.06573212 0.44756223 0.18951285 0.2971928 ]prepared_False2009iat5.p\n",
      "[0.06568493 0.44795711 0.18924424 0.29711372]prepared_False2009iat6.p\n",
      "[0.06572398 0.4493612  0.18776244 0.29715238]prepared_False2009iat7.p\n",
      "[0.06555639 0.44959528 0.18800515 0.29684318]prepared_False2009iat8.p\n",
      "[0.06548078 0.4497855  0.18814882 0.29658491]prepared_False2010iat.p\n",
      "[0.06532091 0.45001338 0.18839712 0.29626859]prepared_False2010iat2.p\n",
      "[0.06517761 0.45023677 0.1886153  0.29597032]prepared_False2010iat3.p\n",
      "[0.06513548 0.45054378 0.18858514 0.2957356 ]prepared_False2010iat4.p\n",
      "[0.0650237  0.45053583 0.18906394 0.29537654]prepared_False2010iat5.p\n",
      "[0.06488686 0.4504971  0.18938593 0.2952301 ]prepared_False2010iat6.p\n",
      "[0.06480816 0.45070296 0.18950575 0.29498313]prepared_False2011iat.p\n",
      "[0.06467746 0.45083325 0.18978175 0.29470754]prepared_False2011iat2.p\n",
      "[0.06458797 0.45083185 0.18991176 0.29466842]prepared_False2011iat3.p\n",
      "[0.06454103 0.45087204 0.19011582 0.29447111]prepared_False2011iat4.p\n",
      "[0.0643791  0.44994773 0.19078265 0.29489052]prepared_False2011iat5.p\n",
      "[0.06430772 0.44950051 0.19098135 0.29521042]prepared_False2011iat6.p\n",
      "[0.06423039 0.44899681 0.19160454 0.29516826]prepared_False2012iat.p\n",
      "[0.06423238 0.44838771 0.19212551 0.29525441]prepared_False2012iat2.p\n",
      "[0.06422205 0.44830589 0.19223362 0.29523845]prepared_False2012iat3.p\n",
      "[0.06415833 0.44768592 0.19286076 0.295295  ]prepared_False2012iat4.p\n",
      "[0.06404936 0.44694316 0.19383612 0.29517136]prepared_False2012iat5.p\n",
      "[0.06398946 0.44657654 0.19429838 0.29513562]prepared_False2012iat6.p\n",
      "[0.06391964 0.44591947 0.19509594 0.29506495]prepared_False2013iat.p\n",
      "[0.06380587 0.44528115 0.1959156  0.29499738]prepared_False2013iat2.p\n",
      "[0.06383043 0.44499865 0.19605297 0.29511795]prepared_False2013iat3.p\n",
      "[0.06378606 0.44457063 0.19673975 0.29490356]prepared_False2013iat4.p\n",
      "[0.063711   0.44400211 0.19750888 0.29477801]prepared_False2013iat5.p\n",
      "[0.06370905 0.44397015 0.19752243 0.29479837]prepared_False2013iat6.p\n",
      "[0.06364362 0.44374567 0.19780804 0.29480268]prepared_False2014JanOctiat.p\n",
      "[0.06354353 0.443447   0.19825439 0.29475507]prepared_False2014JanOctiat2.p\n",
      "[0.06356424 0.443108   0.19843295 0.29489481]prepared_False2014JanOctiat3.p\n",
      "[0.06351403 0.44271171 0.19896507 0.29480919]prepared_False2014JanOctiat4.p\n",
      "[0.0635026  0.44262974 0.19906428 0.29480339]prepared_False2014JanOctiat5.p\n",
      "[0.06360663 0.4419087  0.19927032 0.29521435]prepared_False2014Oct2015Janiat.p\n",
      "[0.06361362 0.4416205  0.19951945 0.29524643]prepared_False2015FebMariat.p\n",
      "[0.06358053 0.4414269  0.19974297 0.29524959]prepared_False2015MarDeciat.p\n",
      "[0.06355645 0.44123724 0.19999629 0.29521003]prepared_False2015MarDeciat2.p\n",
      "[0.06368453 0.4411046  0.19986996 0.29534091]prepared_False2015MarDeciat3.p\n",
      "[0.06374461 0.44093929 0.19994078 0.29537533]prepared_False2015MarDeciat4.p\n",
      "[0.06369407 0.4409005  0.20018525 0.29522018]prepared_False2015MarDeciat5.p\n",
      "[0.06365419 0.44079805 0.20044562 0.29510214]prepared_False2015MarDeciat6.p\n",
      "[0.06362424 0.44067901 0.20070683 0.29498992]prepared_False2015MarDeciat7.p\n",
      "[0.06359541 0.4405106  0.20094892 0.29494507]prepared_False2015MarDeciat8.p\n",
      "[0.06356591 0.44041044 0.20108957 0.29493409]prepared_False2015MarDeciat9.p\n",
      "[0.06357542 0.44033328 0.20119888 0.29489242]prepared_False2016JanSepiat.p\n",
      "[0.06357744 0.44021084 0.20136077 0.29485095]prepared_False2016JanSepiat2.p\n",
      "[0.06358458 0.44016929 0.2014341  0.29481203]prepared_False2016JanSepiat3.p\n",
      "[0.06358134 0.44011246 0.20151742 0.29478878]prepared_False2016JanSepiat4.p\n",
      "[0.0635921  0.44001872 0.20163169 0.29475749]prepared_False2016JanSepiat5.p\n",
      "[0.06370728 0.43988338 0.20153631 0.29487303]prepared_False2016JanSepiat6.p\n",
      "[0.06382093 0.43979801 0.20142377 0.29495729]prepared_False2016JanSepiat7.p\n",
      "[0.0638653  0.43972414 0.20138501 0.29502555]prepared_False2016JanSepiat8.p\n",
      "[0.06386542 0.43972719 0.20138406 0.29502332]prepared_False2016JanSepiat9.p\n",
      "[0.06387638 0.43974382 0.20110058 0.29527922]prepared_False2016iat.p\n",
      "[0.06388102 0.43978107 0.20084764 0.29549027]prepared_False2016iat2.p\n",
      "[0.06388525 0.43980198 0.20062301 0.29568975]prepared_False2016iat3.p\n",
      "[0.06389502 0.4398233  0.20038245 0.29589924]prepared_False2016iat4.p\n",
      "[0.06389764 0.43982641 0.20035721 0.29591873]prepared_False2016iat5.p\n",
      "[0.06391157 0.43983742 0.20010626 0.29614475]prepared_False2017iat.p\n",
      "[0.06390219 0.43991893 0.19984681 0.29633208]prepared_False2017iat10.p\n",
      "[0.06389389 0.43997137 0.19961086 0.29652388]prepared_False2017iat11.p\n",
      "[0.06388108 0.44003417 0.19936573 0.29671902]prepared_False2017iat12.p\n",
      "[0.06386826 0.44009197 0.19911717 0.29692259]prepared_False2017iat13.p\n",
      "[0.06387092 0.44008486 0.19910596 0.29693826]prepared_False2017iat14.p\n",
      "[0.06389076 0.44009271 0.19887397 0.29714256]prepared_False2017iat2.p\n",
      "[0.06389254 0.44011875 0.19866521 0.2973235 ]prepared_False2017iat3.p\n",
      "[0.06388859 0.44015308 0.19845544 0.29750289]prepared_False2017iat4.p\n",
      "[0.06388332 0.44019233 0.19828394 0.2976404 ]prepared_False2017iat5.p\n",
      "[0.0638772  0.44022196 0.19807592 0.29782491]prepared_False2017iat6.p\n",
      "[0.06391265 0.44023213 0.19781936 0.29803585]prepared_False2017iat7.p\n",
      "[0.06394795 0.44029462 0.19750609 0.29825134]prepared_False2017iat8.p\n",
      "[0.06395007 0.44033778 0.19732193 0.29839022]prepared_False2017iat9.p\n",
      "[0.06395716 0.44037139 0.19709655 0.2985749 ]prepared_False2018iat.p\n",
      "[0.0639485  0.44046406 0.19684543 0.29874201]prepared_False2018iat10.p\n",
      "[0.06395476 0.44053375 0.19660863 0.29890286]prepared_False2018iat11.p\n",
      "[0.0639567  0.4406145  0.19637295 0.29905585]prepared_False2018iat12.p\n",
      "[0.06396295 0.44063592 0.19629362 0.2991075 ]prepared_False2018iat13.p\n",
      "[0.06395344 0.44070301 0.19607053 0.29927302]prepared_False2018iat2.p\n",
      "[0.06395624 0.4407573  0.19584608 0.29944038]prepared_False2018iat3.p\n",
      "[0.06394984 0.44080062 0.19564602 0.29960352]prepared_False2018iat4.p\n",
      "[0.06395307 0.44083436 0.19542973 0.29978284]prepared_False2018iat5.p\n",
      "[0.06396344 0.44087197 0.19519794 0.29996665]prepared_False2018iat6.p\n",
      "[0.06400879 0.44091171 0.19491474 0.30016476]prepared_False2018iat7.p\n"
     ]
    },
    {
     "name": "stdout",
     "output_type": "stream",
     "text": [
      "[0.06401922 0.44093986 0.19470851 0.30033241]prepared_False2018iat8.p\n",
      "[0.06401103 0.44099138 0.19450457 0.30049302]prepared_False2018iat9.p\n",
      "[0.06403141 0.4410545  0.19426097 0.30065312]prepared_False2019iat.p\n",
      "[0.06401876 0.44114818 0.19400252 0.30083054]prepared_False2019iat10.p\n",
      "[0.06400494 0.44124769 0.19377262 0.30097476]prepared_False2019iat11.p\n",
      "[0.06397884 0.44134933 0.19353381 0.30113802]prepared_False2019iat12.p\n",
      "[0.06396144 0.44142236 0.19333595 0.30128025]prepared_False2019iat13.p\n",
      "[0.06396341 0.44147906 0.19313097 0.30142656]prepared_False2019iat2.p\n",
      "[0.06395527 0.4415225  0.19293073 0.30159149]prepared_False2019iat3.p\n",
      "[0.06395542 0.44161107 0.19272721 0.3017063 ]prepared_False2019iat4.p\n",
      "[0.06394414 0.44168305 0.192527   0.30184581]prepared_False2019iat5.p\n",
      "[0.06395765 0.44175794 0.19224443 0.30203997]prepared_False2019iat6.p\n",
      "[0.06400054 0.44181597 0.19195513 0.30222836]prepared_False2019iat7.p\n",
      "[0.06402545 0.44183265 0.19177666 0.30236525]prepared_False2019iat8.p\n",
      "[0.06402643 0.44188547 0.19163549 0.30245262]prepared_False2019iat9.p\n",
      "[0.06402797 0.44196844 0.19141095 0.30259264]prepared_False2020iat.p\n",
      "[0.0640936  0.44205011 0.19108173 0.30277456]prepared_False2020iat10.p\n",
      "[0.06415977 0.44211807 0.19075825 0.3029639 ]prepared_False2020iat11.p\n",
      "[0.06422833 0.4422176  0.19039089 0.30316317]prepared_False2020iat12.p\n",
      "[0.06430259 0.44231271 0.19004364 0.30334106]prepared_False2020iat13.p\n",
      "[0.06435894 0.4424205  0.18972308 0.30349749]prepared_False2020iat14.p\n",
      "[0.06438925 0.44256962 0.18939316 0.30364797]prepared_False2020iat15.p\n",
      "[0.06441104 0.44269615 0.18910796 0.30378484]prepared_False2020iat16.p\n",
      "[0.06441997 0.44285157 0.18881582 0.30391263]prepared_False2020iat17.p\n",
      "[0.0644481  0.44295418 0.1885308  0.30406692]prepared_False2020iat18.p\n",
      "[0.06446139 0.4430606  0.1882738  0.30420421]prepared_False2020iat19.p\n",
      "[0.06445801 0.4431243  0.18808058 0.3043371 ]prepared_False2020iat2.p\n",
      "[0.06447354 0.44323698 0.18781624 0.30447324]prepared_False2020iat20.p\n",
      "[0.06448413 0.44336273 0.18756106 0.30459209]prepared_False2020iat21.p\n",
      "[0.0645054  0.44345832 0.18729594 0.30474035]prepared_False2020iat22.p\n",
      "[0.06451781 0.44357854 0.18701414 0.30488952]prepared_False2020iat23.p\n",
      "[0.06453194 0.44368115 0.18675252 0.30503439]prepared_False2020iat24.p\n",
      "[0.06454149 0.44372681 0.1866088  0.30512291]prepared_False2020iat25.p\n",
      "[0.06452296 0.44379613 0.18641871 0.3052622 ]prepared_False2020iat3.p\n",
      "[0.06451966 0.44385302 0.18626077 0.30536655]prepared_False2020iat4.p\n",
      "[0.06452154 0.44391204 0.18605579 0.30551064]prepared_False2020iat5.p\n",
      "[0.06458587 0.44397672 0.18581343 0.30562398]prepared_False2020iat6.p\n",
      "[0.06465183 0.4440304  0.18555425 0.30576353]prepared_False2020iat7.p\n",
      "[0.06472233 0.44405613 0.18529432 0.30592723]prepared_False2020iat8.p\n",
      "[0.06477878 0.44409757 0.18503792 0.30608573]prepared_False2020iat9.p\n",
      "[0.06481161 0.44418606 0.18479444 0.30620789]prepared_False2021iat.p\n",
      "[0.06481985 0.44428493 0.18459054 0.30630468]prepared_False2021iat10.p\n",
      "[0.0648483  0.44437538 0.18437144 0.30640488]prepared_False2021iat11.p\n",
      "[0.06487487 0.44446043 0.1841651  0.30649961]prepared_False2021iat12.p\n",
      "[0.06490554 0.44453397 0.18395965 0.30660084]prepared_False2021iat13.p\n",
      "[0.06489831 0.44462529 0.18378593 0.30669047]prepared_False2021iat14.p\n",
      "[0.06489265 0.44470727 0.18362259 0.3067775 ]prepared_False2021iat15.p\n",
      "[0.06488539 0.4448004  0.18344794 0.30686628]prepared_False2021iat16.p\n",
      "[0.06487927 0.44487559 0.18328801 0.30695713]prepared_False2021iat17.p\n",
      "[0.06487573 0.44495072 0.18313636 0.30703719]prepared_False2021iat18.p\n",
      "[0.06487669 0.44503185 0.18297513 0.30711634]prepared_False2021iat19.p\n",
      "[0.06490245 0.44509913 0.18279187 0.30720655]prepared_False2021iat2.p\n",
      "[0.06490704 0.44515385 0.18269209 0.30724702]prepared_False2021iat20.p\n",
      "[0.06491755 0.44523488 0.18251839 0.30732917]prepared_False2021iat3.p\n",
      "[0.06493905 0.44531641 0.18233226 0.30741228]prepared_False2021iat4.p\n",
      "[0.06495347 0.44538786 0.18216915 0.30748952]prepared_False2021iat5.p\n",
      "[0.06496676 0.44546631 0.18199066 0.30757626]prepared_False2021iat6.p\n",
      "[0.06497669 0.44552352 0.18184242 0.30765737]prepared_False2021iat7.p\n",
      "[0.06498228 0.44559886 0.18167049 0.30774837]prepared_False2021iat8.p\n",
      "[0.06498607 0.44566648 0.18150442 0.30784304]prepared_False2021iat9.p\n",
      "[0.06499761 0.44575382 0.1813503  0.30789826]prepared_False20221iat.p\n",
      "[0.06499739 0.44583319 0.18120269 0.30796673]prepared_False20221iat2.p\n",
      "[0.06498273 0.44600882 0.18093423 0.30807422]prepared_False20221iat3.p\n",
      "[0.06497807 0.44610466 0.18077317 0.30814409]prepared_False20221iat4.p\n",
      "[0.06496485 0.44620966 0.18060978 0.30821571]prepared_False20221iat5.p\n",
      "[0.06495801 0.44636366 0.1803057  0.30837263]prepared_False20221iat6.p\n",
      "[0.06496914 0.44655045 0.17997176 0.30850865]prepared_False20221iat7.p\n",
      "[0.06497022 0.44657459 0.17993598 0.30851922]prepared_False20221iat8.p\n",
      "[0.06498467 0.44672625 0.17960108 0.308688  ]prepared_False20222iat.p\n",
      "[0.06497561 0.44689848 0.17932267 0.30880323]prepared_False20222iat2.p\n",
      "[0.06495413 0.44707512 0.17907028 0.30890047]prepared_False20222iat3.p\n",
      "[0.06493165 0.44722825 0.17884301 0.3089971 ]prepared_False20222iat4.p\n",
      "[0.06489847 0.44735896 0.1786281  0.30911446]prepared_False20222iat5.p\n",
      "[0.06486968 0.44748242 0.1784349  0.30921299]prepared_False20222iat6.p\n",
      "[0.06486261 0.44761659 0.17819462 0.30932618]prepared_False20231iat.p\n",
      "[0.06483495 0.44773116 0.17798877 0.30944512]prepared_False20231iat2.p\n",
      "[0.06480124 0.44786538 0.17776085 0.30957253]prepared_False20231iat3.p\n",
      "[0.06476889 0.44799111 0.17755099 0.30968902]prepared_False20231iat4.p\n",
      "[0.06475582 0.44812253 0.17731341 0.30980823]prepared_False20231iat5.p\n",
      "[0.06475546 0.44817124 0.17723916 0.30983414]prepared_False20231iat6.p\n",
      "[0.06476781 0.448275   0.1770157  0.30994149]prepared_False20232iat.p\n",
      "[0.06465972 0.44803064 0.17735919 0.30995046]prepared_False20232iat2.p\n",
      "[0.06454381 0.44774446 0.17775485 0.30995689]prepared_False20232iat3.p\n",
      "[0.06442461 0.44746121 0.17816916 0.30994502]prepared_False20232iat4.p\n",
      "[0.06435193 0.44729555 0.17839396 0.30995855]prepared_False20232iat5.p\n",
      "[0.06434398 0.44718952 0.17840163 0.31006487]prepared_True2003iat.p\n",
      "[0.06434178 0.44715617 0.1784069  0.31009515]prepared_True2004iat.p\n",
      "[0.06435362 0.4470412  0.17841429 0.31019088]prepared_True2005iat.p\n",
      "[0.06435241 0.44693318 0.17839115 0.31032327]prepared_True2005iat2.p\n",
      "[0.06435263 0.44686027 0.1783505  0.31043659]prepared_True2005iat3.p\n",
      "[0.06437568 0.44669569 0.17845479 0.31047384]prepared_True2005iat4.p\n",
      "[0.06440395 0.44654055 0.17859553 0.31045996]prepared_True2005iat5.p\n",
      "[0.06440643 0.44653312 0.17859475 0.3104657 ]prepared_True2005iat6.p\n",
      "[0.06443834 0.44630687 0.17869753 0.31055726]prepared_True2006iat.p\n",
      "[0.06444378 0.44619112 0.1788583  0.31050681]prepared_True2006iat2.p\n",
      "[0.06444166 0.44611129 0.17895541 0.31049164]prepared_True2006iat3.p\n",
      "[0.06445385 0.44605347 0.17900183 0.31049085]prepared_True2006iat4.p\n",
      "[0.06447299 0.44600053 0.17892941 0.31059707]prepared_True2016iat.p\n",
      "[0.06447618 0.4459561  0.17886963 0.31069808]prepared_True2016iat2.p\n",
      "[0.06447505 0.445922   0.17882402 0.31077894]prepared_True2016iat3.p\n",
      "[0.06447997 0.44587633 0.17877824 0.31086545]prepared_True2016iat4.p\n",
      "[0.06448142 0.445873   0.1787698  0.31087579]prepared_True2016iat5.p\n",
      "[0.06449776 0.44582373 0.17871072 0.31096779]prepared_True2017iat.p\n",
      "[0.06450792 0.44580065 0.1786534  0.31103803]prepared_True2017iat10.p\n",
      "[0.06451618 0.44578256 0.17857905 0.3111222 ]prepared_True2017iat11.p\n",
      "[0.06451284 0.44575911 0.17852755 0.3112005 ]prepared_True2017iat12.p\n",
      "[0.06451115 0.44573635 0.17844564 0.31130686]prepared_True2017iat13.p\n",
      "[0.06451096 0.44573367 0.17844275 0.31131262]prepared_True2017iat14.p\n",
      "[0.06452945 0.44570114 0.17836547 0.31140394]prepared_True2017iat2.p\n",
      "[0.06453178 0.44566714 0.17831786 0.31148322]prepared_True2017iat3.p\n",
      "[0.06452895 0.44564737 0.17824005 0.31158363]prepared_True2017iat4.p\n",
      "[0.06453233 0.4456372  0.17819514 0.31163533]prepared_True2017iat5.p\n",
      "[0.06454368 0.44560768 0.17812631 0.31172234]prepared_True2017iat6.p\n",
      "[0.06456746 0.44555872 0.17803961 0.31183421]prepared_True2017iat7.p\n",
      "[0.06460007 0.44552296 0.17794301 0.31193396]prepared_True2017iat8.p\n",
      "[0.06461372 0.44547344 0.17790129 0.31201155]prepared_True2017iat9.p\n",
      "[0.06462855 0.44544037 0.17783274 0.31209835]prepared_True2018iat.p\n"
     ]
    },
    {
     "name": "stdout",
     "output_type": "stream",
     "text": [
      "[0.06462539 0.44543617 0.1777442  0.31219424]prepared_True2018iat10.p\n",
      "[0.0646233  0.4454332  0.17765826 0.31228523]prepared_True2018iat11.p\n",
      "[0.06461738 0.4454272  0.17759456 0.31236086]prepared_True2018iat12.p\n",
      "[0.06462189 0.44542403 0.17756479 0.31238929]prepared_True2018iat13.p\n",
      "[0.06461891 0.44540675 0.17750494 0.31246939]prepared_True2018iat2.p\n",
      "[0.06462089 0.44538816 0.17743409 0.31255685]prepared_True2018iat3.p\n",
      "[0.06462383 0.44536761 0.17738107 0.3126275 ]prepared_True2018iat4.p\n",
      "[0.06462721 0.44535759 0.1773078  0.31270741]prepared_True2018iat5.p\n",
      "[0.06464599 0.445362   0.17719192 0.31280009]prepared_True2018iat6.p\n",
      "[0.06467494 0.44534175 0.17708204 0.31290127]prepared_True2018iat7.p\n",
      "[0.06468851 0.44531759 0.17701925 0.31297465]prepared_True2018iat8.p\n",
      "[0.06469175 0.44531589 0.17696336 0.31302901]prepared_True2018iat9.p\n",
      "[0.06470783 0.44531785 0.17686471 0.31310961]prepared_True2019iat.p\n",
      "[0.06470798 0.44533844 0.17677382 0.31317977]prepared_True2019iat10.p\n",
      "[0.06470335 0.44534988 0.17669933 0.31324745]prepared_True2019iat11.p\n",
      "[0.06469225 0.44536213 0.17662009 0.31332553]prepared_True2019iat12.p\n",
      "[0.06469004 0.44536725 0.1765453  0.31339741]prepared_True2019iat13.p\n",
      "[0.06468969 0.44535778 0.17647298 0.31347955]prepared_True2019iat2.p\n",
      "[0.0646906  0.44537163 0.17639466 0.31354311]prepared_True2019iat3.p\n",
      "[0.0646869  0.44536156 0.17633466 0.31361688]prepared_True2019iat4.p\n",
      "[0.06468479 0.44537547 0.1762697  0.31367005]prepared_True2019iat5.p\n",
      "[0.06470199 0.44538123 0.17615794 0.31375884]prepared_True2019iat6.p\n",
      "[0.06473286 0.44537839 0.17603206 0.3138567 ]prepared_True2019iat7.p\n",
      "[0.06474874 0.44538011 0.17596108 0.31391006]prepared_True2019iat8.p\n",
      "[0.06475316 0.44537308 0.17590883 0.31396493]prepared_True2019iat9.p\n",
      "[0.06475644 0.44538712 0.17579472 0.31406172]prepared_True2020iat.p\n",
      "[0.0648044  0.44539437 0.17564404 0.31415719]prepared_True2020iat10.p\n",
      "[0.06485403 0.4453946  0.17550235 0.31424903]prepared_True2020iat11.p\n",
      "[0.06489426 0.44539938 0.17533935 0.31436701]prepared_True2020iat12.p\n",
      "[0.06493944 0.44541133 0.17517271 0.31447653]prepared_True2020iat13.p\n",
      "[0.0649806  0.44543849 0.17500151 0.31457939]prepared_True2020iat14.p\n",
      "[0.06501094 0.44547717 0.17484944 0.31466246]prepared_True2020iat15.p\n",
      "[0.06502597 0.44551358 0.17473644 0.314724  ]prepared_True2020iat16.p\n",
      "[0.06503856 0.44554302 0.17460358 0.31481484]prepared_True2020iat17.p\n",
      "[0.06505944 0.44557307 0.17447171 0.31489577]prepared_True2020iat18.p\n",
      "[0.06507503 0.4455945  0.17434847 0.314982  ]prepared_True2020iat19.p\n",
      "[0.06507365 0.44560634 0.17427812 0.3150419 ]prepared_True2020iat2.p\n",
      "[0.06509168 0.44562632 0.17416049 0.31512152]prepared_True2020iat20.p\n",
      "[0.06511008 0.44566311 0.17404426 0.31518255]prepared_True2020iat21.p\n",
      "[0.06513203 0.44569167 0.17391927 0.31525703]prepared_True2020iat22.p\n",
      "[0.06514019 0.44572841 0.17379922 0.31533218]prepared_True2020iat23.p\n",
      "[0.06515579 0.44576292 0.173665   0.31541629]prepared_True2020iat24.p\n",
      "[0.06516521 0.44577139 0.17360226 0.31546115]prepared_True2020iat25.p\n",
      "[0.06516481 0.44577547 0.17352684 0.31553288]prepared_True2020iat3.p\n",
      "[0.06516626 0.44577707 0.17345971 0.31559696]prepared_True2020iat4.p\n",
      "[0.06518082 0.44578342 0.17335957 0.31567619]prepared_True2020iat5.p\n",
      "[0.06523104 0.44578575 0.17322997 0.31575324]prepared_True2020iat6.p\n",
      "[0.06528347 0.4457776  0.17311526 0.31582367]prepared_True2020iat7.p\n",
      "[0.06533329 0.44575237 0.17297882 0.31593552]prepared_True2020iat8.p\n",
      "[0.0653807  0.4457468  0.17283704 0.31603545]prepared_True2020iat9.p\n",
      "[0.06540838 0.44577332 0.17271429 0.31610401]prepared_True2021iat.p\n",
      "[0.06542457 0.44580276 0.17260755 0.31616512]prepared_True2021iat10.p\n",
      "[0.06544358 0.44584017 0.17249213 0.31622412]prepared_True2021iat11.p\n",
      "[0.06546405 0.44586577 0.17238643 0.31628375]prepared_True2021iat12.p\n",
      "[0.06548173 0.44589029 0.17228733 0.31634066]prepared_True2021iat13.p\n",
      "[0.06548649 0.44592654 0.17219408 0.31639288]prepared_True2021iat14.p\n",
      "[0.06549445 0.44595865 0.17211574 0.31643115]prepared_True2021iat15.p\n",
      "[0.06549861 0.44598268 0.17204112 0.31647759]prepared_True2021iat16.p\n",
      "[0.06550151 0.44601128 0.1719613  0.31652591]prepared_True2021iat17.p\n",
      "[0.06550431 0.44603435 0.17187942 0.31658192]prepared_True2021iat18.p\n",
      "[0.06550578 0.4460675  0.17179012 0.3166366 ]prepared_True2021iat19.p\n",
      "[0.06552022 0.44608623 0.17169399 0.31669955]prepared_True2021iat2.p\n",
      "[0.06552439 0.44610563 0.17164408 0.3167259 ]prepared_True2021iat20.p\n",
      "[0.06553791 0.44614659 0.17154507 0.31677043]prepared_True2021iat3.p\n",
      "[0.06555298 0.44617718 0.17144647 0.31682338]prepared_True2021iat4.p\n",
      "[0.06556648 0.44620383 0.1713564  0.3168733 ]prepared_True2021iat5.p\n",
      "[0.06558041 0.44624954 0.17126521 0.31690484]prepared_True2021iat6.p\n",
      "[0.06559327 0.44627532 0.17118374 0.31694768]prepared_True2021iat7.p\n",
      "[0.06560511 0.44629803 0.17110445 0.31699241]prepared_True2021iat8.p\n",
      "[0.06561259 0.44632456 0.17102059 0.31704226]prepared_True2021iat9.p\n",
      "[0.06562028 0.44634932 0.17094208 0.31708831]prepared_True20221iat.p\n",
      "[0.06562303 0.4463773  0.17087044 0.31712923]prepared_True20221iat2.p\n",
      "[0.06562688 0.44645699 0.17072391 0.31719221]prepared_True20221iat3.p\n",
      "[0.06561907 0.44651173 0.17063461 0.31723459]prepared_True20221iat4.p\n",
      "[0.06561897 0.44654902 0.17054999 0.31728203]prepared_True20221iat5.p\n",
      "[0.06562093 0.44660081 0.17041498 0.31736328]prepared_True20221iat6.p\n",
      "[0.06563077 0.44668515 0.17022788 0.3174562 ]prepared_True20221iat7.p\n",
      "[0.06563345 0.44669694 0.17019961 0.31746999]prepared_True20221iat8.p\n",
      "[0.06565137 0.44676458 0.17002195 0.3175621 ]prepared_True20222iat.p\n",
      "[0.06566101 0.44682926 0.16988711 0.31762262]prepared_True20222iat2.p\n",
      "[0.06565403 0.44689851 0.16975684 0.31769062]prepared_True20222iat3.p\n",
      "[0.06564955 0.44696062 0.16963899 0.31775084]prepared_True20222iat4.p\n",
      "[0.0656327  0.44701715 0.16953458 0.31781557]prepared_True20222iat5.p\n",
      "[0.06562151 0.44706731 0.16942459 0.31788659]prepared_True20222iat6.p\n",
      "[0.06562768 0.44710954 0.16929999 0.31796279]prepared_True20231iat.p\n",
      "[0.06561622 0.44715917 0.16919013 0.31803448]prepared_True20231iat2.p\n",
      "[0.06560386 0.44719163 0.16908745 0.31811706]prepared_True20231iat3.p\n",
      "[0.06558238 0.44723856 0.16899528 0.31818378]prepared_True20231iat4.p\n",
      "[0.06557525 0.44729483 0.16887245 0.31825748]prepared_True20231iat5.p\n",
      "[0.06557814 0.4473124  0.16883453 0.31827493]prepared_True20231iat6.p\n",
      "[0.06559067 0.44735498 0.16870742 0.31834693]prepared_True20232iat.p\n",
      "[0.06552686 0.44712676 0.16897897 0.31836741]prepared_True20232iat2.p\n",
      "[0.06545193 0.44686695 0.16928811 0.31839301]prepared_True20232iat3.p\n",
      "[0.06537134 0.44660852 0.16960136 0.31841878]prepared_True20232iat4.p\n",
      "[0.06532514 0.44647421 0.16976237 0.31843828]prepared_True20232iat5.p\n"
     ]
    },
    {
     "data": {
      "image/png": "[encoded data removed]",
      "text/plain": [
       "<Figure size 640x480 with 1 Axes>"
      ]
     },
     "metadata": {},
     "output_type": "display_data"
    },
    {
     "data": {
      "image/png": "[encoded data removed]",
      "text/plain": [
       "<Figure size 640x480 with 1 Axes>"
      ]
     },
     "metadata": {},
     "output_type": "display_data"
    }
   ],
   "source": [
    "# 1. Create list of all data subsets/chunks, initialize np.array to be filled during inference\n",
    "\n",
    "datasets = sorted(os.listdir(PATH))\n",
    "\n",
    "all_probs_and_ids = np.empty((1,6))\n",
    "\n",
    "# 2. For each chunk\n",
    "\n",
    "   \n",
    "for dataset_name in datasets:\n",
    "    \n",
    "        # 2.1 Load chunk\n",
    "        loaded_pickle = pickle.load(open(PATH +str(dataset_name), \"rb\" ))\n",
    "        \n",
    "        X_test = loaded_pickle['data_array']\n",
    "        y_test = loaded_pickle['outcome_array']\n",
    "\n",
    "        # 2.2 Estimate chunk\n",
    "        \n",
    "        model_probs = np.concatenate([\n",
    "            amortizer.posterior_probs({\"summary_conditions\": x}) for x in np.array_split(X_test, 50)], axis=0)\n",
    "        \n",
    "        probs_and_ids = np.concatenate([model_probs, y_test], axis=1)  \n",
    "        \n",
    "        all_probs_and_ids =  np.concatenate([all_probs_and_ids, probs_and_ids], axis=0)\n",
    "\n",
    "        print(str(np.mean(all_probs_and_ids[1:,0:4] ,axis=0)) + str(dataset_name))\n",
    "               \n",
    "# 3. Save all model probabilites in csv and create figures\n",
    "\n",
    "df = pd.DataFrame(all_probs_and_ids[1:,:])\n",
    "\n",
    "df.to_csv(\"all_model_probabilites.csv\")\n",
    "\n",
    "ax = sns.violinplot(data=all_probs_and_ids[1:,0:4])\n",
    "ax.set_xticklabels(['Simple DDM','sv/st0 DDM', 'Levy model', 'GSR model'])\n",
    "ax.set(ylim=(0, 1))\n",
    "fig = ax.get_figure()\n",
    "fig.savefig('model_probs.png')    \n",
    "\n",
    "fig, ax = plt.subplots()\n",
    "sns.pointplot(df[[\"0\", \"1\", \"2\", \"3\"]], estimator = np.mean, errorbar=(\"pi\", 90))\n",
    "ax.set_xticklabels(['Simple DDM','sv/st0 DDM', 'Levy model', 'GSR model'])\n",
    "ax.set_ylim(0, 1)\n",
    "fig = ax.get_figure()\n",
    "fig.savefig('model_probs2.png')  "
   ]
  },
  {
   "cell_type": "code",
   "execution_count": 41,
   "id": "7d4e180a",
   "metadata": {},
   "outputs": [
    {
     "data": {
      "text/plain": [
       "251806"
      ]
     },
     "execution_count": 41,
     "metadata": {},
     "output_type": "execute_result"
    }
   ],
   "source": [
    "# Simple DDM is best for this number of people:\n",
    "\n",
    "np.sum((df[0]>df[1])& (df[0]>df[2])& (df[0]>df[3]))"
   ]
  },
  {
   "cell_type": "code",
   "execution_count": 42,
   "id": "5912fca6",
   "metadata": {},
   "outputs": [
    {
     "data": {
      "text/plain": [
       "3003284"
      ]
     },
     "execution_count": 42,
     "metadata": {},
     "output_type": "execute_result"
    }
   ],
   "source": [
    "# st0/sv DDM is best for this number of people:\n",
    "\n",
    "np.sum((df[1]>df[0])& (df[1]>df[2])& (df[1]>df[3]))"
   ]
  },
  {
   "cell_type": "code",
   "execution_count": 43,
   "id": "25e6679f",
   "metadata": {},
   "outputs": [
    {
     "data": {
      "text/plain": [
       "920357"
      ]
     },
     "execution_count": 43,
     "metadata": {},
     "output_type": "execute_result"
    }
   ],
   "source": [
    "# Levy model is best for this number of people:\n",
    "\n",
    "np.sum((df[2]>df[0])& (df[2]>df[1])& (df[2]>df[3]))"
   ]
  },
  {
   "cell_type": "code",
   "execution_count": 44,
   "id": "e6e65790",
   "metadata": {},
   "outputs": [
    {
     "data": {
      "text/plain": [
       "1363588"
      ]
     },
     "execution_count": 44,
     "metadata": {},
     "output_type": "execute_result"
    }
   ],
   "source": [
    "# GSR model is best for this number of people:\n",
    "\n",
    "np.sum((df[3]>df[0])& (df[3]>df[1])& (df[3]>df[2]))"
   ]
  },
  {
   "cell_type": "code",
   "execution_count": 2,
   "id": "a0601133",
   "metadata": {},
   "outputs": [],
   "source": [
    "df = pd.read_csv(\"all_model_probabilites.csv\")"
   ]
  },
  {
   "cell_type": "code",
   "execution_count": 17,
   "id": "f1d92a37",
   "metadata": {},
   "outputs": [
    {
     "data": {
      "image/png": "[encoded data removed]",
      "text/plain": [
       "<Figure size 640x480 with 1 Axes>"
      ]
     },
     "metadata": {},
     "output_type": "display_data"
    }
   ],
   "source": []
  }
 ],
 "metadata": {
  "kernelspec": {
   "display_name": "Python 3 (ipykernel)",
   "language": "python",
   "name": "python3"
  },
  "language_info": {
   "codemirror_mode": {
    "name": "ipython",
    "version": 3
   },
   "file_extension": ".py",
   "mimetype": "text/x-python",
   "name": "python",
   "nbconvert_exporter": "python",
   "pygments_lexer": "ipython3",
   "version": "3.10.0"
  }
 },
 "nbformat": 4,
 "nbformat_minor": 5
}
