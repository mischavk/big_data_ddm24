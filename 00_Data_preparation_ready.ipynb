{
 "cells": [
  {
   "cell_type": "code",
   "execution_count": 1,
   "id": "8ffa622e",
   "metadata": {},
   "outputs": [],
   "source": [
    "import pandas as pd\n",
    "import numpy as np\n",
    "import pickle as pickle\n",
    "import os"
   ]
  },
  {
   "cell_type": "code",
   "execution_count": 2,
   "id": "71fdf09b",
   "metadata": {},
   "outputs": [],
   "source": [
    "# Prepare Project Implicit data for diffusion modeling\n",
    "\n",
    "#Settings\n",
    "# Path to data\n",
    "PATH = '/home/mischa/Documents/bayesflow/prj_real_life_ddm/data/rts/'\n",
    "\n",
    "# Path to outcomes (age and session ID)\n",
    "PATH_OUTCOME = '/home/mischa/Documents/bayesflow/prj_real_life_ddm/data/outcomes/'\n",
    "\n",
    "# Where to save prepared files\n",
    "PATH_TO_SAVE = '/home/mischa/Documents/bayesflow/prj_real_life_ddm/data/prepared_data/'"
   ]
  },
  {
   "cell_type": "code",
   "execution_count": 4,
   "id": "f59324d6",
   "metadata": {},
   "outputs": [],
   "source": [
    "def read_iat_rt_file(file_to_read, black_not_african):\n",
    "    \"\"\"\n",
    "    Reads and preprocesses a single IAT file. \"black_not_african\" relates to the stimulus type of the word stimuli.\n",
    "    \"\"\"\n",
    "    \n",
    "    if black_not_african:\n",
    "        pairs_to_retain = ['Black people/Bad,White people/Good', \n",
    "                            'White people/Bad,Black people/Good', \n",
    "                            'White people/Good,Black people/Bad', \n",
    "                            'Black people/Good,White people/Bad'\n",
    "                           \"Black American/Bad,White American/Good\",\n",
    "                           \"Black American/Good,White American/Bad\",\n",
    "                           \"White American/Bad,Black American/Good\",\n",
    "                           \"White American/Good,Black American/Bad\", \n",
    "                          \"White/Bad,Black/Good\", \n",
    "                           \"White/Good,Black/Bad\",\n",
    "                          \"Black/Bad,White/Good\",\n",
    "                          \"Black/Good,White/Bad\"]\n",
    "    else:\n",
    "        pairs_to_retain =['African Americans/Bad,European Americans/Good', \n",
    "                            'European Americans/Bad,African Americans/Good', \n",
    "                            'European Americans/Good,African Americans/Bad', \n",
    "                            'African Americans/Good,European Americans/Bad',\n",
    "                         'African American/Bad,White American/Good',\n",
    "                         'African American/Good,White American/Bad',\n",
    "                         'White American/Bad,African American/Good',\n",
    "                         'White American/Good,African American/Bad',\n",
    "                        'African American/Bad,European American/Good',\n",
    "                         'African American/Good,European American/Bad',\n",
    "                         'European American/Bad,African American/Good',\n",
    "                         'European American/Good,African American/Bad']                                             \n",
    "    \n",
    "    # We only need certain column from the data, so we can indicate pandas to only read\n",
    "    # a subset of them and save memory. The problem is, when the header is read, \n",
    "    # there are whitespaces in the data, so we shall assume\n",
    "    # that all relevant columns have the same order in all datafiles.\n",
    "    cols_to_use_str = ['block_number', 'block_pairing_definition', 'trial_name','trial_latency', 'trial_error', \n",
    "                       'session_id']\n",
    "    cols_to_use_idx = [0, 3, 10, 8, 11, 12]\n",
    "    valid_values_error = [0, 1, '1', '0'] # Use for some datasets containing invalid values\n",
    "    \n",
    "    df = pd.read_csv(PATH + file_to_read, delimiter='\\t', usecols=cols_to_use_idx, low_memory=False)\n",
    "\n",
    "    # Fix data handling \n",
    "    # There are whitespaces in the columns, to we need to get rid of them\n",
    "    df.columns = [c.strip() for c in df.columns]\n",
    "    assert all([c1 == c2 for c1, c2 in zip(df.columns, cols_to_use_str)]), 'Expected column order does not match!'\n",
    " \n",
    "    # Retain only relevant pairs\n",
    "    df = df[df['block_pairing_definition'].isin(pairs_to_retain)]\n",
    "\n",
    "    print('Initial shape:', len(df.groupby('session_id')))\n",
    "\n",
    "    # Remove ids with no age        \n",
    "    df['session_id'] = df['session_id'].astype(\"string\")\n",
    "    df = df[df['session_id'].isin(outcomes['session_id'])]\n",
    "    print('After removing no age IDs:', len(df.groupby('session_id')))\n",
    "   \n",
    "    # Remove invalid ids\n",
    "    df = df[df['trial_error'].isin(valid_values_error)]\n",
    "    print('After removing invalid IDs:', len(df.groupby('session_id')))\n",
    "    \n",
    "    # Ensure correct types\n",
    "    df = df.astype({\"block_number\": int, \n",
    "                    \"block_pairing_definition\": str,\n",
    "                    \"trial_latency\": int,\n",
    "                    \"trial_error\": int})\n",
    "      \n",
    "    # Remove sessions with 0 latency\n",
    "    zero_latency_id = df[df['trial_latency']==0]['session_id'].to_list()\n",
    "    df = df[~df['session_id'].isin(zero_latency_id)]\n",
    "    print('After excluding zero latency IDs:', len(df.groupby('session_id')))\n",
    "    \n",
    "    # Remove sessions with not exactly 120 trials\n",
    "    not120trials_id = df.groupby('session_id').size()\n",
    "    not120trials_id = not120trials_id[not120trials_id != 120].index.to_list()\n",
    "\n",
    "    df = df[~df['session_id'].isin(not120trials_id)]\n",
    "    print('After excluding != 120 trials IDs:', len(df.groupby('session_id')))\n",
    "    \n",
    "    # Remove sessions with >50% errors\n",
    "    fiftypercent_errors_id = df.groupby('session_id').mean(numeric_only=True)\n",
    "    fiftypercent_errors_id = fiftypercent_errors_id[fiftypercent_errors_id['trial_error'] > 0.5].index.to_list()\n",
    "    df = df[~df['session_id'].isin(fiftypercent_errors_id)]\n",
    "    print('After excluding more than 50% error IDs:', len(df.groupby('session_id')))\n",
    "\n",
    "    # Remove sessions with 0 errors\n",
    "    zero_errors_id = df.groupby('session_id').sum(numeric_only=True)\n",
    "    zero_errors_id = zero_errors_id[zero_errors_id['trial_error'] == 0].index.to_list()\n",
    "    df = df[~df['session_id'].isin(zero_errors_id)]\n",
    "    print('After excluding zero error IDs:', len(df.groupby('session_id')))\n",
    "\n",
    "    # Convert RTs in ms\n",
    "    df.loc[:, 'trial_latency'] = df['trial_latency'] / 1000\n",
    "             \n",
    "    # Code compatible vs incompatible\n",
    "    # Changes for different types of stimuli! (black/white vs african american/european american)\n",
    "    if black_not_african:\n",
    "        df['condition_dummy'] =        np.where((df['block_pairing_definition'] == \"Black people/Bad,White people/Good\") |\n",
    "                                                 (df['block_pairing_definition'] == 'White people/Good,Black people/Bad') |\n",
    "                                                 (df['block_pairing_definition'] == 'Black American/Bad,White American/Good') |\n",
    "                                                 (df['block_pairing_definition'] == 'Black/Bad,White/Good') |\n",
    "                                                 (df['block_pairing_definition'] == 'White/Good,Black/Bad') |\n",
    "                                                 (df['block_pairing_definition'] == 'White American/Good,Black American/Bad'), 0, 1)\n",
    "    else:\n",
    "        df['condition_dummy'] =        np.where((df['block_pairing_definition'] == \"African Americans/Bad,European Americans/Good\") |\n",
    "                                                 (df['block_pairing_definition'] == 'European Americans/Good,African Americans/Bad') |\n",
    "                                                 (df['block_pairing_definition'] == \"African American/Bad,European American/Good\") |\n",
    "                                                 (df['block_pairing_definition'] == \"African American/Bad,White American/Good\") |\n",
    "                                                 (df['block_pairing_definition'] == 'European American/Good,African American/Bad')|\n",
    "                                                 (df['block_pairing_definition'] == 'White American/Good,African American/Bad'), 0, 1)\n",
    "        \n",
    "    \n",
    "    # Code word vs. picture, picture == 1, word == 0\n",
    "    df['stimulus'] = np.where((df['trial_name'].str.contains('jpg|gif')), 1, 0)\n",
    "\n",
    "    \n",
    "    # Sort dataframe according to session id\n",
    "    df = df.sort_values('session_id')\n",
    "    \n",
    "    # Convert rt dataset to dictionary (session_id - np.array of rt/errors/compatible/stimulustype)\n",
    "    df_rt_dict = df.groupby('session_id', group_keys=False)['trial_latency'].apply(np.array).to_dict()\n",
    "    df_err_dict = df.groupby('session_id', group_keys=False)['trial_error'].apply(np.array).to_dict()\n",
    "    df_cond_dict = df.groupby('session_id', group_keys=False)['condition_dummy'].apply(np.array).to_dict()\n",
    "    df_stimulus_dict = df.groupby('session_id', group_keys=False)['stimulus'].apply(np.array).to_dict()\n",
    "\n",
    "    \n",
    "    rts_data = {}\n",
    "    for k1, k2, k3, k4 in zip(df_rt_dict, df_err_dict, df_cond_dict,df_stimulus_dict):\n",
    "        assert k1 == k2 == k3 == k4, 'Key mismatch within the same dataset, something went wrong!'\n",
    "        rts_data[k1] = np.c_[df_rt_dict[k1], df_err_dict[k1],df_cond_dict[k1], df_stimulus_dict[k1]]\n",
    "    return rts_data\n",
    "\n",
    "\n",
    "def prepare_data(dataset_name, black_not_african):\n",
    "    \"\"\"\n",
    "    Preprocesses a single IAT file and combines with outcomes. \n",
    "    Remove cases with more than 20 trials < 200 ms or > 10 seconds\n",
    "    \"\"\"    \n",
    "    # Prepare a list for current chunk data/outcomes\n",
    "    # Since we don't know how many will survive the next step\n",
    "    # we initialize lists which we late convert to np.arrays\n",
    "\n",
    "    X_arr = []\n",
    "    y_arr = []\n",
    "    \n",
    "    # Read in file\n",
    "    data_dict = read_iat_rt_file(dataset_name, black_not_african)\n",
    "    print('Successfully read datafile', dataset_name, '.')\n",
    "    print('Converting to X and y arrays...')\n",
    "\n",
    "    # Loop through sessions and get those RT arrays for which we have outcomes\n",
    "    for key in data_dict.keys():\n",
    "        outcome = outcomes_dict.get(key)\n",
    "        \n",
    "        # Add only if outcome for the dataset is present\n",
    "        if outcome is not None:\n",
    "            \n",
    "            # Add only if 120 trials and 2 outcomes (age and ID) present\n",
    "            if (data_dict[key].shape == (120, 4)) and outcomes_dict[key].shape == (2,):\n",
    "                X_arr.append(data_dict[key])\n",
    "                y_arr.append(outcomes_dict[key])\n",
    "            \n",
    "    # X becomes a 3D array (N_datasets x 120 x 4)\n",
    "    # y becomes a 2D array (N_datasets x 2)\n",
    "    X_test = np.stack(X_arr)\n",
    "    y_test = np.stack(y_arr)\n",
    "        \n",
    "    # Get X_test into the correct format:\n",
    "    rts = np.where(X_test[:, :, 1], -X_test[:, :, 0], X_test[:, :, 0])\n",
    "    cond = X_test[:, :, 2]\n",
    "    stimulus = X_test[:, :, 3]\n",
    "\n",
    "    X_test = np.stack((rts, cond, stimulus), axis=2)\n",
    "    \n",
    "    # Set trials with latency <200 ms or >10 seconds to 0\n",
    "    X_test[:,:,0][np.abs(X_test[:,:,0]) < .2] = 0\n",
    "    X_test[:,:,0][np.abs(X_test[:,:,0]) > 10] = 0\n",
    "\n",
    "    # Exclusion criterion (>=20 trials missing)\n",
    "    idx_not_careless = (np.abs(X_test[:, :, 0]) == 0).sum(axis=1) <= 20\n",
    "    X_test = X_test[idx_not_careless, :, :]\n",
    "    print('IDs with less than 20 trials <200 ms or >10 seconds:', X_test.shape)\n",
    "    \n",
    "    # Keep only corresponding y\n",
    "    y_test = y_test[idx_not_careless, :]\n",
    "    \n",
    "    # Exclusion criterion (60 trials for each condition, 60 trials for both picture and word stimuli)\n",
    "    idx_experiment_not_broken = (\n",
    "        ((np.abs(X_test[:, :, 1]) == 0).sum(axis=1) == 60) &\n",
    "        ((np.abs(X_test[:, :, 1]) == 1).sum(axis=1) == 60) &\n",
    "        ((np.abs(X_test[:, :, 2]) == 0).sum(axis=1) == 60) &\n",
    "        ((np.abs(X_test[:, :, 2]) == 1).sum(axis=1) == 60)\n",
    "        )\n",
    "    \n",
    "    X_test = X_test[idx_experiment_not_broken, :, :]\n",
    "    print('IDs with 60 trials for each condition, 60 trials for both picture and word stimuli:', X_test.shape)\n",
    "\n",
    "    # Keep only corresponding y\n",
    "    y_test = y_test[idx_experiment_not_broken, :]\n",
    "    y_test = np.int64(y_test)\n",
    "       \n",
    "    # Create dummy coding for missing data\n",
    "    missings = np.zeros((X_test.shape[0],X_test.shape[1]))\n",
    "    missings[X_test[:,:,0]==0] = 1  \n",
    "\n",
    "    # Concatenate rt, missings, conditions (note that the axis numberings have been changed above)\n",
    "    X_test = np.stack((X_test[:, :, 0], missings,\n",
    "                       X_test[:, :, 1], X_test[:, :, 2]), axis=2).astype(np.float32)\n",
    "\n",
    "    print('Final shape of RTs chunk (after once more excluding cases w/ missing age or trials): ', X_test.shape)\n",
    "    print('Final shape of outcomes chunk: ', X_test.shape)\n",
    "    \n",
    "    return X_test, y_test\n",
    "\n",
    "def process_rt_data(raw_data):\n",
    "    \"\"\"\n",
    "    Create summary statistics for RTs and accuracies\n",
    "    \n",
    "    \"\"\"   \n",
    "    array_for_processed_data = np.zeros(shape=(raw_data.shape[0], 20))\n",
    "    array_for_processed_data[:] = np.nan\n",
    "    \n",
    "    #for loop over people\n",
    "    for person in range(raw_data.shape[0]):\n",
    "        #congruent trials\n",
    "        congruent_rt_correct = np.mean(raw_data[person,\n",
    "                                                   (raw_data[person,:,0]>0)&(raw_data[person,:,2]==0),\n",
    "                                                   0], axis=0)\n",
    "\n",
    "        congruent_rt_correct_sd = np.std(raw_data[person,\n",
    "                                                   (raw_data[person,:,0]>0)&(raw_data[person,:,2]==0),\n",
    "                                                   0], axis=0)\n",
    "            \n",
    "        congruent_rt_error = np.abs(np.mean(raw_data[person,\n",
    "                                                        (raw_data[person,:,0]<0)&(raw_data[person,:,2]==0),\n",
    "                                                        0], axis=0))\n",
    "        \n",
    "        congruent_rt_error_sd = np.abs(np.std(raw_data[person,\n",
    "                                                        (raw_data[person,:,0]<0)&(raw_data[person,:,2]==0),\n",
    "                                                        0], axis=0))\n",
    "        \n",
    "\n",
    "        congruent_accuracy = (np.sum(raw_data[person,raw_data[person,:,2]==0,0]>0, axis=0) /\n",
    "                              np.sum(raw_data[person,raw_data[person,:,2]==0,0]!=0, axis=0))\n",
    "\n",
    "        # incongruent trials\n",
    "\n",
    "        incongruent_rt_correct = np.mean(raw_data[person,\n",
    "                                                   (raw_data[person,:,0]>0)&(raw_data[person,:,2]==1),\n",
    "                                                   0], axis=0)\n",
    "        \n",
    "        incongruent_rt_correct_sd = np.std(raw_data[person,\n",
    "                                                   (raw_data[person,:,0]>0)&(raw_data[person,:,2]==1),\n",
    "                                                   0], axis=0)\n",
    "\n",
    "        incongruent_rt_error = np.abs(np.mean(raw_data[person,\n",
    "                                                        (raw_data[person,:,0]<0)&(raw_data[person,:,2]==1),\n",
    "                                                        0], axis=0))\n",
    "        \n",
    "        incongruent_rt_error_sd = np.abs(np.std(raw_data[person,\n",
    "                                                        (raw_data[person,:,0]<0)&(raw_data[person,:,2]==1),\n",
    "                                                        0], axis=0))\n",
    "\n",
    "        incongruent_accuracy = (np.sum(raw_data[person,raw_data[person,:,2]==1,0] > 0, axis=0) /\n",
    "                              np.sum(raw_data[person,raw_data[person,:,2]==1,0] != 0, axis=0))\n",
    "\n",
    "        # word trials\n",
    "\n",
    "        word_rt_correct = np.mean(raw_data[person,\n",
    "                                                   (raw_data[person,:,0]>0)&(raw_data[person,:,3]==0),\n",
    "                                                   0], axis=0)\n",
    "                                         \n",
    "        word_rt_correct_sd = np.std(raw_data[person,\n",
    "                                                   (raw_data[person,:,0]>0)&(raw_data[person,:,3]==0),\n",
    "                                                   0], axis=0)\n",
    "\n",
    "        word_rt_error = np.abs(np.mean(raw_data[person,\n",
    "                                                        (raw_data[person,:,0]<0)&(raw_data[person,:,3]==0),\n",
    "                                                        0], axis=0))\n",
    "        word_rt_error_sd = np.abs(np.std(raw_data[person,\n",
    "                                                        (raw_data[person,:,0]<0)&(raw_data[person,:,3]==0),\n",
    "                                                        0], axis=0))\n",
    "                                                                                  \n",
    "        word_accuracy = (np.sum(raw_data[person,raw_data[person,:,3]==0,0] > 0, axis=0) /\n",
    "                              np.sum(raw_data[person,raw_data[person,:,3]==0,0] != 0, axis=0))\n",
    "\n",
    "        # picture trials\n",
    "\n",
    "        picture_rt_correct = np.mean(raw_data[person,\n",
    "                                                   (raw_data[person,:,0]>0)&(raw_data[person,:,3]==1),\n",
    "                                                   0], axis=0)\n",
    "                                         \n",
    "        picture_rt_correct_sd = np.std(raw_data[person,\n",
    "                                                   (raw_data[person,:,0]>0)&(raw_data[person,:,3]==1),\n",
    "                                                   0], axis=0)\n",
    "\n",
    "        picture_rt_error = np.abs(np.mean(raw_data[person,\n",
    "                                                        (raw_data[person,:,0]<0)&(raw_data[person,:,3]==1),\n",
    "                                                        0], axis=0))\n",
    "                                         \n",
    "        picture_rt_error_sd = np.abs(np.std(raw_data[person,\n",
    "                                                        (raw_data[person,:,0]<0)&(raw_data[person,:,3]==1),\n",
    "                                                        0], axis=0))\n",
    "\n",
    "        picture_accuracy = (np.sum(raw_data[person,raw_data[person,:,3]==1,0] > 0, axis=0) /\n",
    "                              np.sum(raw_data[person,raw_data[person,:,3]==1,0] != 0, axis=0))\n",
    "\n",
    "        array_for_processed_data[person,:] = (congruent_rt_correct, congruent_rt_correct_sd,\n",
    "                                              congruent_rt_error, congruent_rt_error_sd, congruent_accuracy,\n",
    "                                              incongruent_rt_correct, incongruent_rt_correct_sd,\n",
    "                                              incongruent_rt_error, incongruent_rt_error_sd, incongruent_accuracy,\n",
    "                                              word_rt_correct, word_rt_correct_sd,\n",
    "                                              word_rt_error, word_rt_error_sd, word_accuracy,\n",
    "                                              picture_rt_correct, picture_rt_correct_sd,\n",
    "                                              picture_rt_error, picture_rt_error_sd, picture_accuracy)\n",
    "    return array_for_processed_data"
   ]
  },
  {
   "cell_type": "code",
   "execution_count": 5,
   "id": "ccb7e172",
   "metadata": {},
   "outputs": [],
   "source": [
    "# Convert outcomes to a dictionary for instant lookup; use only cases containing age and session id\n",
    "#outcomes_id2_dict = outcomes.groupby('session_id')['id2'].apply(int).to_dict()\n",
    "#outcomes_age_dict = outcomes.groupby('session_id')['age'].apply(int).to_dict()\n",
    "#outcomes_dict = {}\n",
    "\n",
    "#for k1, k2 in zip(outcomes_id2_dict, outcomes_age_dict):\n",
    "#    assert k1 == k2 \n",
    "#    outcomes_dict[k1] = np.array([outcomes_id2_dict[k1], \n",
    "#                                  outcomes_age_dict[k2]])\n",
    "    \n",
    "# Note, that outcomes dict will be a global dictionary\n",
    "\n",
    "#pickle.dump(outcomes_dict,\n",
    "#                    open(PATH_OUTCOME +'pickle_outcomes.p' ,\"wb\"))\n",
    "\n",
    "\n",
    "# Read in outcomes, drop missing, sort\n",
    "outcomes = pd.read_csv(PATH_OUTCOME + 'outcomes20032023_id_age_only.csv', header=0, na_values='NA')\n",
    "outcomes = outcomes.dropna().drop_duplicates()\n",
    "outcomes = outcomes.sort_values('session_id')\n",
    "outcomes['session_id'] = outcomes['session_id'].astype(\"string\")\n",
    "\n",
    "# Open pre-compiled outcomes dictionary\n",
    "outcomes_dict = pickle.load(open(PATH_OUTCOME +'pickle_outcomes.p' ,\"rb\"))"
   ]
  },
  {
   "cell_type": "code",
   "execution_count": 7,
   "id": "0b173173",
   "metadata": {},
   "outputs": [
    {
     "name": "stdout",
     "output_type": "stream",
     "text": [
      "Initial shape: 37709\n",
      "After removing no age IDs: 31845\n",
      "After removing invalid IDs: 31845\n",
      "After excluding zero latency IDs: 31826\n",
      "After excluding != 120 trials IDs: 31496\n",
      "After excluding more than 50% error IDs: 31447\n",
      "After excluding zero error IDs: 30678\n",
      "Successfully read datafile 2003iat.txt .\n",
      "Converting to X and y arrays...\n",
      "IDs with less than 20 trials <200 ms or >10 seconds: (30649, 120, 3)\n",
      "IDs with 60 trials for each condition, 60 trials for both picture and word stimuli: (30649, 120, 3)\n",
      "Final shape of RTs chunk (after once more excluding cases w/ missing age or trials):  (30649, 120, 4)\n",
      "Final shape of outcomes chunk:  (30649, 120, 4)\n"
     ]
    },
    {
     "name": "stderr",
     "output_type": "stream",
     "text": [
      "/home/mischa/miniconda3/envs/bf/lib/python3.10/site-packages/numpy/core/fromnumeric.py:3432: RuntimeWarning: Mean of empty slice.\n",
      "  return _methods._mean(a, axis=axis, dtype=dtype,\n",
      "/home/mischa/miniconda3/envs/bf/lib/python3.10/site-packages/numpy/core/_methods.py:190: RuntimeWarning: invalid value encountered in divide\n",
      "  ret = ret.dtype.type(ret / rcount)\n",
      "/home/mischa/miniconda3/envs/bf/lib/python3.10/site-packages/numpy/core/_methods.py:265: RuntimeWarning: Degrees of freedom <= 0 for slice\n",
      "  ret = _var(a, axis=axis, dtype=dtype, out=out, ddof=ddof,\n",
      "/home/mischa/miniconda3/envs/bf/lib/python3.10/site-packages/numpy/core/_methods.py:223: RuntimeWarning: invalid value encountered in divide\n",
      "  arrmean = um.true_divide(arrmean, div, out=arrmean, casting='unsafe',\n",
      "/home/mischa/miniconda3/envs/bf/lib/python3.10/site-packages/numpy/core/_methods.py:257: RuntimeWarning: invalid value encountered in divide\n",
      "  ret = ret.dtype.type(ret / rcount)\n"
     ]
    },
    {
     "name": "stdout",
     "output_type": "stream",
     "text": [
      "2003iat.txt done\n",
      "Initial shape: 25524\n",
      "After removing no age IDs: 4067\n",
      "After removing invalid IDs: 4067\n",
      "After excluding zero latency IDs: 4061\n",
      "After excluding != 120 trials IDs: 3986\n",
      "After excluding more than 50% error IDs: 3982\n",
      "After excluding zero error IDs: 3868\n",
      "Successfully read datafile 2004iat.txt .\n",
      "Converting to X and y arrays...\n",
      "IDs with less than 20 trials <200 ms or >10 seconds: (3840, 120, 3)\n",
      "IDs with 60 trials for each condition, 60 trials for both picture and word stimuli: (3840, 120, 3)\n",
      "Final shape of RTs chunk (after once more excluding cases w/ missing age or trials):  (3840, 120, 4)\n",
      "Final shape of outcomes chunk:  (3840, 120, 4)\n"
     ]
    },
    {
     "name": "stderr",
     "output_type": "stream",
     "text": [
      "/home/mischa/miniconda3/envs/bf/lib/python3.10/site-packages/numpy/core/fromnumeric.py:3432: RuntimeWarning: Mean of empty slice.\n",
      "  return _methods._mean(a, axis=axis, dtype=dtype,\n",
      "/home/mischa/miniconda3/envs/bf/lib/python3.10/site-packages/numpy/core/_methods.py:190: RuntimeWarning: invalid value encountered in divide\n",
      "  ret = ret.dtype.type(ret / rcount)\n",
      "/home/mischa/miniconda3/envs/bf/lib/python3.10/site-packages/numpy/core/_methods.py:265: RuntimeWarning: Degrees of freedom <= 0 for slice\n",
      "  ret = _var(a, axis=axis, dtype=dtype, out=out, ddof=ddof,\n",
      "/home/mischa/miniconda3/envs/bf/lib/python3.10/site-packages/numpy/core/_methods.py:223: RuntimeWarning: invalid value encountered in divide\n",
      "  arrmean = um.true_divide(arrmean, div, out=arrmean, casting='unsafe',\n",
      "/home/mischa/miniconda3/envs/bf/lib/python3.10/site-packages/numpy/core/_methods.py:257: RuntimeWarning: invalid value encountered in divide\n",
      "  ret = ret.dtype.type(ret / rcount)\n"
     ]
    },
    {
     "name": "stdout",
     "output_type": "stream",
     "text": [
      "2004iat.txt done\n",
      "Initial shape: 25519\n",
      "After removing no age IDs: 20304\n",
      "After removing invalid IDs: 20304\n",
      "After excluding zero latency IDs: 20293\n",
      "After excluding != 120 trials IDs: 20103\n",
      "After excluding more than 50% error IDs: 20091\n",
      "After excluding zero error IDs: 19389\n",
      "Successfully read datafile 2005iat.txt .\n",
      "Converting to X and y arrays...\n",
      "IDs with less than 20 trials <200 ms or >10 seconds: (19281, 120, 3)\n",
      "IDs with 60 trials for each condition, 60 trials for both picture and word stimuli: (19281, 120, 3)\n",
      "Final shape of RTs chunk (after once more excluding cases w/ missing age or trials):  (19281, 120, 4)\n",
      "Final shape of outcomes chunk:  (19281, 120, 4)\n"
     ]
    },
    {
     "name": "stderr",
     "output_type": "stream",
     "text": [
      "/home/mischa/miniconda3/envs/bf/lib/python3.10/site-packages/numpy/core/fromnumeric.py:3432: RuntimeWarning: Mean of empty slice.\n",
      "  return _methods._mean(a, axis=axis, dtype=dtype,\n",
      "/home/mischa/miniconda3/envs/bf/lib/python3.10/site-packages/numpy/core/_methods.py:190: RuntimeWarning: invalid value encountered in divide\n",
      "  ret = ret.dtype.type(ret / rcount)\n",
      "/home/mischa/miniconda3/envs/bf/lib/python3.10/site-packages/numpy/core/_methods.py:265: RuntimeWarning: Degrees of freedom <= 0 for slice\n",
      "  ret = _var(a, axis=axis, dtype=dtype, out=out, ddof=ddof,\n",
      "/home/mischa/miniconda3/envs/bf/lib/python3.10/site-packages/numpy/core/_methods.py:223: RuntimeWarning: invalid value encountered in divide\n",
      "  arrmean = um.true_divide(arrmean, div, out=arrmean, casting='unsafe',\n",
      "/home/mischa/miniconda3/envs/bf/lib/python3.10/site-packages/numpy/core/_methods.py:257: RuntimeWarning: invalid value encountered in divide\n",
      "  ret = ret.dtype.type(ret / rcount)\n"
     ]
    },
    {
     "name": "stdout",
     "output_type": "stream",
     "text": [
      "2005iat.txt done\n",
      "Initial shape: 25653\n",
      "After removing no age IDs: 20291\n",
      "After removing invalid IDs: 20291\n",
      "After excluding zero latency IDs: 20281\n",
      "After excluding != 120 trials IDs: 20066\n",
      "After excluding more than 50% error IDs: 20042\n",
      "After excluding zero error IDs: 19401\n",
      "Successfully read datafile 2005iat2.txt .\n",
      "Converting to X and y arrays...\n",
      "IDs with less than 20 trials <200 ms or >10 seconds: (19263, 120, 3)\n",
      "IDs with 60 trials for each condition, 60 trials for both picture and word stimuli: (19263, 120, 3)\n",
      "Final shape of RTs chunk (after once more excluding cases w/ missing age or trials):  (19263, 120, 4)\n",
      "Final shape of outcomes chunk:  (19263, 120, 4)\n"
     ]
    },
    {
     "name": "stderr",
     "output_type": "stream",
     "text": [
      "/home/mischa/miniconda3/envs/bf/lib/python3.10/site-packages/numpy/core/fromnumeric.py:3432: RuntimeWarning: Mean of empty slice.\n",
      "  return _methods._mean(a, axis=axis, dtype=dtype,\n",
      "/home/mischa/miniconda3/envs/bf/lib/python3.10/site-packages/numpy/core/_methods.py:190: RuntimeWarning: invalid value encountered in divide\n",
      "  ret = ret.dtype.type(ret / rcount)\n",
      "/home/mischa/miniconda3/envs/bf/lib/python3.10/site-packages/numpy/core/_methods.py:265: RuntimeWarning: Degrees of freedom <= 0 for slice\n",
      "  ret = _var(a, axis=axis, dtype=dtype, out=out, ddof=ddof,\n",
      "/home/mischa/miniconda3/envs/bf/lib/python3.10/site-packages/numpy/core/_methods.py:223: RuntimeWarning: invalid value encountered in divide\n",
      "  arrmean = um.true_divide(arrmean, div, out=arrmean, casting='unsafe',\n",
      "/home/mischa/miniconda3/envs/bf/lib/python3.10/site-packages/numpy/core/_methods.py:257: RuntimeWarning: invalid value encountered in divide\n",
      "  ret = ret.dtype.type(ret / rcount)\n"
     ]
    },
    {
     "name": "stdout",
     "output_type": "stream",
     "text": [
      "2005iat2.txt done\n",
      "Initial shape: 25516\n",
      "After removing no age IDs: 18904\n",
      "After removing invalid IDs: 18904\n",
      "After excluding zero latency IDs: 18901\n",
      "After excluding != 120 trials IDs: 18738\n",
      "After excluding more than 50% error IDs: 18720\n",
      "After excluding zero error IDs: 18045\n",
      "Successfully read datafile 2005iat3.txt .\n",
      "Converting to X and y arrays...\n",
      "IDs with less than 20 trials <200 ms or >10 seconds: (17901, 120, 3)\n",
      "IDs with 60 trials for each condition, 60 trials for both picture and word stimuli: (17901, 120, 3)\n",
      "Final shape of RTs chunk (after once more excluding cases w/ missing age or trials):  (17901, 120, 4)\n",
      "Final shape of outcomes chunk:  (17901, 120, 4)\n"
     ]
    },
    {
     "name": "stderr",
     "output_type": "stream",
     "text": [
      "/home/mischa/miniconda3/envs/bf/lib/python3.10/site-packages/numpy/core/fromnumeric.py:3432: RuntimeWarning: Mean of empty slice.\n",
      "  return _methods._mean(a, axis=axis, dtype=dtype,\n",
      "/home/mischa/miniconda3/envs/bf/lib/python3.10/site-packages/numpy/core/_methods.py:190: RuntimeWarning: invalid value encountered in divide\n",
      "  ret = ret.dtype.type(ret / rcount)\n",
      "/home/mischa/miniconda3/envs/bf/lib/python3.10/site-packages/numpy/core/_methods.py:265: RuntimeWarning: Degrees of freedom <= 0 for slice\n",
      "  ret = _var(a, axis=axis, dtype=dtype, out=out, ddof=ddof,\n",
      "/home/mischa/miniconda3/envs/bf/lib/python3.10/site-packages/numpy/core/_methods.py:223: RuntimeWarning: invalid value encountered in divide\n",
      "  arrmean = um.true_divide(arrmean, div, out=arrmean, casting='unsafe',\n",
      "/home/mischa/miniconda3/envs/bf/lib/python3.10/site-packages/numpy/core/_methods.py:257: RuntimeWarning: invalid value encountered in divide\n",
      "  ret = ret.dtype.type(ret / rcount)\n"
     ]
    },
    {
     "name": "stdout",
     "output_type": "stream",
     "text": [
      "2005iat3.txt done\n",
      "Initial shape: 25280\n",
      "After removing no age IDs: 20721\n",
      "After removing invalid IDs: 20721\n",
      "After excluding zero latency IDs: 20716\n",
      "After excluding != 120 trials IDs: 20624\n",
      "After excluding more than 50% error IDs: 20607\n",
      "After excluding zero error IDs: 19942\n",
      "Successfully read datafile 2005iat4.txt .\n",
      "Converting to X and y arrays...\n",
      "IDs with less than 20 trials <200 ms or >10 seconds: (19849, 120, 3)\n",
      "IDs with 60 trials for each condition, 60 trials for both picture and word stimuli: (19849, 120, 3)\n",
      "Final shape of RTs chunk (after once more excluding cases w/ missing age or trials):  (19849, 120, 4)\n",
      "Final shape of outcomes chunk:  (19849, 120, 4)\n"
     ]
    },
    {
     "name": "stderr",
     "output_type": "stream",
     "text": [
      "/home/mischa/miniconda3/envs/bf/lib/python3.10/site-packages/numpy/core/fromnumeric.py:3432: RuntimeWarning: Mean of empty slice.\n",
      "  return _methods._mean(a, axis=axis, dtype=dtype,\n",
      "/home/mischa/miniconda3/envs/bf/lib/python3.10/site-packages/numpy/core/_methods.py:190: RuntimeWarning: invalid value encountered in divide\n",
      "  ret = ret.dtype.type(ret / rcount)\n",
      "/home/mischa/miniconda3/envs/bf/lib/python3.10/site-packages/numpy/core/_methods.py:265: RuntimeWarning: Degrees of freedom <= 0 for slice\n",
      "  ret = _var(a, axis=axis, dtype=dtype, out=out, ddof=ddof,\n",
      "/home/mischa/miniconda3/envs/bf/lib/python3.10/site-packages/numpy/core/_methods.py:223: RuntimeWarning: invalid value encountered in divide\n",
      "  arrmean = um.true_divide(arrmean, div, out=arrmean, casting='unsafe',\n",
      "/home/mischa/miniconda3/envs/bf/lib/python3.10/site-packages/numpy/core/_methods.py:257: RuntimeWarning: invalid value encountered in divide\n",
      "  ret = ret.dtype.type(ret / rcount)\n"
     ]
    },
    {
     "name": "stdout",
     "output_type": "stream",
     "text": [
      "2005iat4.txt done\n",
      "Initial shape: 25255\n",
      "After removing no age IDs: 19896\n",
      "After removing invalid IDs: 19896\n",
      "After excluding zero latency IDs: 19885\n",
      "After excluding != 120 trials IDs: 19810\n",
      "After excluding more than 50% error IDs: 19778\n",
      "After excluding zero error IDs: 19187\n",
      "Successfully read datafile 2005iat5.txt .\n",
      "Converting to X and y arrays...\n",
      "IDs with less than 20 trials <200 ms or >10 seconds: (19063, 120, 3)\n",
      "IDs with 60 trials for each condition, 60 trials for both picture and word stimuli: (19063, 120, 3)\n",
      "Final shape of RTs chunk (after once more excluding cases w/ missing age or trials):  (19063, 120, 4)\n",
      "Final shape of outcomes chunk:  (19063, 120, 4)\n"
     ]
    },
    {
     "name": "stderr",
     "output_type": "stream",
     "text": [
      "/home/mischa/miniconda3/envs/bf/lib/python3.10/site-packages/numpy/core/fromnumeric.py:3432: RuntimeWarning: Mean of empty slice.\n",
      "  return _methods._mean(a, axis=axis, dtype=dtype,\n",
      "/home/mischa/miniconda3/envs/bf/lib/python3.10/site-packages/numpy/core/_methods.py:190: RuntimeWarning: invalid value encountered in divide\n",
      "  ret = ret.dtype.type(ret / rcount)\n",
      "/home/mischa/miniconda3/envs/bf/lib/python3.10/site-packages/numpy/core/_methods.py:265: RuntimeWarning: Degrees of freedom <= 0 for slice\n",
      "  ret = _var(a, axis=axis, dtype=dtype, out=out, ddof=ddof,\n",
      "/home/mischa/miniconda3/envs/bf/lib/python3.10/site-packages/numpy/core/_methods.py:223: RuntimeWarning: invalid value encountered in divide\n",
      "  arrmean = um.true_divide(arrmean, div, out=arrmean, casting='unsafe',\n",
      "/home/mischa/miniconda3/envs/bf/lib/python3.10/site-packages/numpy/core/_methods.py:257: RuntimeWarning: invalid value encountered in divide\n",
      "  ret = ret.dtype.type(ret / rcount)\n"
     ]
    },
    {
     "name": "stdout",
     "output_type": "stream",
     "text": [
      "2005iat5.txt done\n",
      "Initial shape: 903\n",
      "After removing no age IDs: 753\n",
      "After removing invalid IDs: 753\n",
      "After excluding zero latency IDs: 753\n",
      "After excluding != 120 trials IDs: 750\n",
      "After excluding more than 50% error IDs: 750\n",
      "After excluding zero error IDs: 719\n",
      "Successfully read datafile 2005iat6.txt .\n",
      "Converting to X and y arrays...\n",
      "IDs with less than 20 trials <200 ms or >10 seconds: (717, 120, 3)\n",
      "IDs with 60 trials for each condition, 60 trials for both picture and word stimuli: (717, 120, 3)\n",
      "Final shape of RTs chunk (after once more excluding cases w/ missing age or trials):  (717, 120, 4)\n",
      "Final shape of outcomes chunk:  (717, 120, 4)\n"
     ]
    },
    {
     "name": "stderr",
     "output_type": "stream",
     "text": [
      "/home/mischa/miniconda3/envs/bf/lib/python3.10/site-packages/numpy/core/fromnumeric.py:3432: RuntimeWarning: Mean of empty slice.\n",
      "  return _methods._mean(a, axis=axis, dtype=dtype,\n",
      "/home/mischa/miniconda3/envs/bf/lib/python3.10/site-packages/numpy/core/_methods.py:190: RuntimeWarning: invalid value encountered in divide\n",
      "  ret = ret.dtype.type(ret / rcount)\n",
      "/home/mischa/miniconda3/envs/bf/lib/python3.10/site-packages/numpy/core/_methods.py:265: RuntimeWarning: Degrees of freedom <= 0 for slice\n",
      "  ret = _var(a, axis=axis, dtype=dtype, out=out, ddof=ddof,\n",
      "/home/mischa/miniconda3/envs/bf/lib/python3.10/site-packages/numpy/core/_methods.py:223: RuntimeWarning: invalid value encountered in divide\n",
      "  arrmean = um.true_divide(arrmean, div, out=arrmean, casting='unsafe',\n",
      "/home/mischa/miniconda3/envs/bf/lib/python3.10/site-packages/numpy/core/_methods.py:257: RuntimeWarning: invalid value encountered in divide\n",
      "  ret = ret.dtype.type(ret / rcount)\n"
     ]
    },
    {
     "name": "stdout",
     "output_type": "stream",
     "text": [
      "2005iat6.txt done\n",
      "Initial shape: 25498\n",
      "After removing no age IDs: 20236\n",
      "After removing invalid IDs: 20236\n",
      "After excluding zero latency IDs: 20224\n",
      "After excluding != 120 trials IDs: 20131\n",
      "After excluding more than 50% error IDs: 20117\n",
      "After excluding zero error IDs: 19423\n",
      "Successfully read datafile 2006iat.txt .\n",
      "Converting to X and y arrays...\n",
      "IDs with less than 20 trials <200 ms or >10 seconds: (19342, 120, 3)\n",
      "IDs with 60 trials for each condition, 60 trials for both picture and word stimuli: (19342, 120, 3)\n",
      "Final shape of RTs chunk (after once more excluding cases w/ missing age or trials):  (19342, 120, 4)\n",
      "Final shape of outcomes chunk:  (19342, 120, 4)\n"
     ]
    },
    {
     "name": "stderr",
     "output_type": "stream",
     "text": [
      "/home/mischa/miniconda3/envs/bf/lib/python3.10/site-packages/numpy/core/fromnumeric.py:3432: RuntimeWarning: Mean of empty slice.\n",
      "  return _methods._mean(a, axis=axis, dtype=dtype,\n",
      "/home/mischa/miniconda3/envs/bf/lib/python3.10/site-packages/numpy/core/_methods.py:190: RuntimeWarning: invalid value encountered in divide\n",
      "  ret = ret.dtype.type(ret / rcount)\n",
      "/home/mischa/miniconda3/envs/bf/lib/python3.10/site-packages/numpy/core/_methods.py:265: RuntimeWarning: Degrees of freedom <= 0 for slice\n",
      "  ret = _var(a, axis=axis, dtype=dtype, out=out, ddof=ddof,\n",
      "/home/mischa/miniconda3/envs/bf/lib/python3.10/site-packages/numpy/core/_methods.py:223: RuntimeWarning: invalid value encountered in divide\n",
      "  arrmean = um.true_divide(arrmean, div, out=arrmean, casting='unsafe',\n",
      "/home/mischa/miniconda3/envs/bf/lib/python3.10/site-packages/numpy/core/_methods.py:257: RuntimeWarning: invalid value encountered in divide\n",
      "  ret = ret.dtype.type(ret / rcount)\n"
     ]
    },
    {
     "name": "stdout",
     "output_type": "stream",
     "text": [
      "2006iat.txt done\n",
      "Initial shape: 25280\n",
      "After removing no age IDs: 19938\n",
      "After removing invalid IDs: 19938\n",
      "After excluding zero latency IDs: 19931\n",
      "After excluding != 120 trials IDs: 19783\n",
      "After excluding more than 50% error IDs: 19766\n",
      "After excluding zero error IDs: 19154\n",
      "Successfully read datafile 2006iat2.txt .\n",
      "Converting to X and y arrays...\n",
      "IDs with less than 20 trials <200 ms or >10 seconds: (19017, 120, 3)\n",
      "IDs with 60 trials for each condition, 60 trials for both picture and word stimuli: (19017, 120, 3)\n",
      "Final shape of RTs chunk (after once more excluding cases w/ missing age or trials):  (19017, 120, 4)\n",
      "Final shape of outcomes chunk:  (19017, 120, 4)\n"
     ]
    },
    {
     "name": "stderr",
     "output_type": "stream",
     "text": [
      "/home/mischa/miniconda3/envs/bf/lib/python3.10/site-packages/numpy/core/fromnumeric.py:3432: RuntimeWarning: Mean of empty slice.\n",
      "  return _methods._mean(a, axis=axis, dtype=dtype,\n",
      "/home/mischa/miniconda3/envs/bf/lib/python3.10/site-packages/numpy/core/_methods.py:190: RuntimeWarning: invalid value encountered in divide\n",
      "  ret = ret.dtype.type(ret / rcount)\n",
      "/home/mischa/miniconda3/envs/bf/lib/python3.10/site-packages/numpy/core/_methods.py:265: RuntimeWarning: Degrees of freedom <= 0 for slice\n",
      "  ret = _var(a, axis=axis, dtype=dtype, out=out, ddof=ddof,\n",
      "/home/mischa/miniconda3/envs/bf/lib/python3.10/site-packages/numpy/core/_methods.py:223: RuntimeWarning: invalid value encountered in divide\n",
      "  arrmean = um.true_divide(arrmean, div, out=arrmean, casting='unsafe',\n",
      "/home/mischa/miniconda3/envs/bf/lib/python3.10/site-packages/numpy/core/_methods.py:257: RuntimeWarning: invalid value encountered in divide\n",
      "  ret = ret.dtype.type(ret / rcount)\n"
     ]
    },
    {
     "name": "stdout",
     "output_type": "stream",
     "text": [
      "2006iat2.txt done\n",
      "Initial shape: 25510\n",
      "After removing no age IDs: 20215\n",
      "After removing invalid IDs: 20215\n",
      "After excluding zero latency IDs: 20211\n",
      "After excluding != 120 trials IDs: 20121\n",
      "After excluding more than 50% error IDs: 20101\n",
      "After excluding zero error IDs: 19405\n",
      "Successfully read datafile 2006iat3.txt .\n",
      "Converting to X and y arrays...\n",
      "IDs with less than 20 trials <200 ms or >10 seconds: (19252, 120, 3)\n",
      "IDs with 60 trials for each condition, 60 trials for both picture and word stimuli: (19252, 120, 3)\n",
      "Final shape of RTs chunk (after once more excluding cases w/ missing age or trials):  (19252, 120, 4)\n",
      "Final shape of outcomes chunk:  (19252, 120, 4)\n"
     ]
    },
    {
     "name": "stderr",
     "output_type": "stream",
     "text": [
      "/home/mischa/miniconda3/envs/bf/lib/python3.10/site-packages/numpy/core/fromnumeric.py:3432: RuntimeWarning: Mean of empty slice.\n",
      "  return _methods._mean(a, axis=axis, dtype=dtype,\n",
      "/home/mischa/miniconda3/envs/bf/lib/python3.10/site-packages/numpy/core/_methods.py:190: RuntimeWarning: invalid value encountered in divide\n",
      "  ret = ret.dtype.type(ret / rcount)\n",
      "/home/mischa/miniconda3/envs/bf/lib/python3.10/site-packages/numpy/core/_methods.py:265: RuntimeWarning: Degrees of freedom <= 0 for slice\n",
      "  ret = _var(a, axis=axis, dtype=dtype, out=out, ddof=ddof,\n",
      "/home/mischa/miniconda3/envs/bf/lib/python3.10/site-packages/numpy/core/_methods.py:223: RuntimeWarning: invalid value encountered in divide\n",
      "  arrmean = um.true_divide(arrmean, div, out=arrmean, casting='unsafe',\n",
      "/home/mischa/miniconda3/envs/bf/lib/python3.10/site-packages/numpy/core/_methods.py:257: RuntimeWarning: invalid value encountered in divide\n",
      "  ret = ret.dtype.type(ret / rcount)\n"
     ]
    },
    {
     "name": "stdout",
     "output_type": "stream",
     "text": [
      "2006iat3.txt done\n",
      "Initial shape: 37260\n",
      "After removing no age IDs: 24775\n",
      "After removing invalid IDs: 24774\n",
      "After excluding zero latency IDs: 24767\n",
      "After excluding != 120 trials IDs: 24632\n",
      "After excluding more than 50% error IDs: 24599\n",
      "After excluding zero error IDs: 23771\n",
      "Successfully read datafile 2006iat4.txt .\n",
      "Converting to X and y arrays...\n",
      "IDs with less than 20 trials <200 ms or >10 seconds: (23603, 120, 3)\n",
      "IDs with 60 trials for each condition, 60 trials for both picture and word stimuli: (23603, 120, 3)\n",
      "Final shape of RTs chunk (after once more excluding cases w/ missing age or trials):  (23603, 120, 4)\n",
      "Final shape of outcomes chunk:  (23603, 120, 4)\n"
     ]
    },
    {
     "name": "stderr",
     "output_type": "stream",
     "text": [
      "/home/mischa/miniconda3/envs/bf/lib/python3.10/site-packages/numpy/core/fromnumeric.py:3432: RuntimeWarning: Mean of empty slice.\n",
      "  return _methods._mean(a, axis=axis, dtype=dtype,\n",
      "/home/mischa/miniconda3/envs/bf/lib/python3.10/site-packages/numpy/core/_methods.py:190: RuntimeWarning: invalid value encountered in divide\n",
      "  ret = ret.dtype.type(ret / rcount)\n",
      "/home/mischa/miniconda3/envs/bf/lib/python3.10/site-packages/numpy/core/_methods.py:265: RuntimeWarning: Degrees of freedom <= 0 for slice\n",
      "  ret = _var(a, axis=axis, dtype=dtype, out=out, ddof=ddof,\n",
      "/home/mischa/miniconda3/envs/bf/lib/python3.10/site-packages/numpy/core/_methods.py:223: RuntimeWarning: invalid value encountered in divide\n",
      "  arrmean = um.true_divide(arrmean, div, out=arrmean, casting='unsafe',\n",
      "/home/mischa/miniconda3/envs/bf/lib/python3.10/site-packages/numpy/core/_methods.py:257: RuntimeWarning: invalid value encountered in divide\n",
      "  ret = ret.dtype.type(ret / rcount)\n"
     ]
    },
    {
     "name": "stdout",
     "output_type": "stream",
     "text": [
      "2006iat4.txt done\n",
      "Initial shape: 50722\n",
      "After removing no age IDs: 31304\n",
      "After removing invalid IDs: 31304\n",
      "After excluding zero latency IDs: 31300\n",
      "After excluding != 120 trials IDs: 31194\n",
      "After excluding more than 50% error IDs: 31169\n",
      "After excluding zero error IDs: 29977\n",
      "Successfully read datafile 2006iat5.txt .\n",
      "Converting to X and y arrays...\n",
      "IDs with less than 20 trials <200 ms or >10 seconds: (29835, 120, 3)\n",
      "IDs with 60 trials for each condition, 60 trials for both picture and word stimuli: (29835, 120, 3)\n",
      "Final shape of RTs chunk (after once more excluding cases w/ missing age or trials):  (29835, 120, 4)\n",
      "Final shape of outcomes chunk:  (29835, 120, 4)\n"
     ]
    },
    {
     "name": "stderr",
     "output_type": "stream",
     "text": [
      "/home/mischa/miniconda3/envs/bf/lib/python3.10/site-packages/numpy/core/fromnumeric.py:3432: RuntimeWarning: Mean of empty slice.\n",
      "  return _methods._mean(a, axis=axis, dtype=dtype,\n",
      "/home/mischa/miniconda3/envs/bf/lib/python3.10/site-packages/numpy/core/_methods.py:190: RuntimeWarning: invalid value encountered in divide\n",
      "  ret = ret.dtype.type(ret / rcount)\n",
      "/home/mischa/miniconda3/envs/bf/lib/python3.10/site-packages/numpy/core/_methods.py:265: RuntimeWarning: Degrees of freedom <= 0 for slice\n",
      "  ret = _var(a, axis=axis, dtype=dtype, out=out, ddof=ddof,\n",
      "/home/mischa/miniconda3/envs/bf/lib/python3.10/site-packages/numpy/core/_methods.py:223: RuntimeWarning: invalid value encountered in divide\n",
      "  arrmean = um.true_divide(arrmean, div, out=arrmean, casting='unsafe',\n",
      "/home/mischa/miniconda3/envs/bf/lib/python3.10/site-packages/numpy/core/_methods.py:257: RuntimeWarning: invalid value encountered in divide\n",
      "  ret = ret.dtype.type(ret / rcount)\n"
     ]
    },
    {
     "name": "stdout",
     "output_type": "stream",
     "text": [
      "2006iat5.txt done\n",
      "Initial shape: 41908\n",
      "After removing no age IDs: 24537\n",
      "After removing invalid IDs: 24537\n",
      "After excluding zero latency IDs: 24534\n",
      "After excluding != 120 trials IDs: 24363\n",
      "After excluding more than 50% error IDs: 24345\n",
      "After excluding zero error IDs: 23039\n",
      "Successfully read datafile 2006iat6.txt .\n",
      "Converting to X and y arrays...\n",
      "IDs with less than 20 trials <200 ms or >10 seconds: (22969, 120, 3)\n",
      "IDs with 60 trials for each condition, 60 trials for both picture and word stimuli: (22969, 120, 3)\n",
      "Final shape of RTs chunk (after once more excluding cases w/ missing age or trials):  (22969, 120, 4)\n",
      "Final shape of outcomes chunk:  (22969, 120, 4)\n"
     ]
    },
    {
     "name": "stderr",
     "output_type": "stream",
     "text": [
      "/home/mischa/miniconda3/envs/bf/lib/python3.10/site-packages/numpy/core/fromnumeric.py:3432: RuntimeWarning: Mean of empty slice.\n",
      "  return _methods._mean(a, axis=axis, dtype=dtype,\n",
      "/home/mischa/miniconda3/envs/bf/lib/python3.10/site-packages/numpy/core/_methods.py:190: RuntimeWarning: invalid value encountered in divide\n",
      "  ret = ret.dtype.type(ret / rcount)\n",
      "/home/mischa/miniconda3/envs/bf/lib/python3.10/site-packages/numpy/core/_methods.py:265: RuntimeWarning: Degrees of freedom <= 0 for slice\n",
      "  ret = _var(a, axis=axis, dtype=dtype, out=out, ddof=ddof,\n",
      "/home/mischa/miniconda3/envs/bf/lib/python3.10/site-packages/numpy/core/_methods.py:223: RuntimeWarning: invalid value encountered in divide\n",
      "  arrmean = um.true_divide(arrmean, div, out=arrmean, casting='unsafe',\n",
      "/home/mischa/miniconda3/envs/bf/lib/python3.10/site-packages/numpy/core/_methods.py:257: RuntimeWarning: invalid value encountered in divide\n",
      "  ret = ret.dtype.type(ret / rcount)\n"
     ]
    },
    {
     "name": "stdout",
     "output_type": "stream",
     "text": [
      "2006iat6.txt done\n",
      "Initial shape: 50758\n",
      "After removing no age IDs: 31548\n",
      "After removing invalid IDs: 31548\n",
      "After excluding zero latency IDs: 31540\n",
      "After excluding != 120 trials IDs: 31422\n",
      "After excluding more than 50% error IDs: 31399\n",
      "After excluding zero error IDs: 30267\n",
      "Successfully read datafile 2007iat.txt .\n",
      "Converting to X and y arrays...\n",
      "IDs with less than 20 trials <200 ms or >10 seconds: (30130, 120, 3)\n",
      "IDs with 60 trials for each condition, 60 trials for both picture and word stimuli: (30130, 120, 3)\n",
      "Final shape of RTs chunk (after once more excluding cases w/ missing age or trials):  (30130, 120, 4)\n",
      "Final shape of outcomes chunk:  (30130, 120, 4)\n"
     ]
    },
    {
     "name": "stderr",
     "output_type": "stream",
     "text": [
      "/home/mischa/miniconda3/envs/bf/lib/python3.10/site-packages/numpy/core/fromnumeric.py:3432: RuntimeWarning: Mean of empty slice.\n",
      "  return _methods._mean(a, axis=axis, dtype=dtype,\n",
      "/home/mischa/miniconda3/envs/bf/lib/python3.10/site-packages/numpy/core/_methods.py:190: RuntimeWarning: invalid value encountered in divide\n",
      "  ret = ret.dtype.type(ret / rcount)\n",
      "/home/mischa/miniconda3/envs/bf/lib/python3.10/site-packages/numpy/core/_methods.py:265: RuntimeWarning: Degrees of freedom <= 0 for slice\n",
      "  ret = _var(a, axis=axis, dtype=dtype, out=out, ddof=ddof,\n",
      "/home/mischa/miniconda3/envs/bf/lib/python3.10/site-packages/numpy/core/_methods.py:223: RuntimeWarning: invalid value encountered in divide\n",
      "  arrmean = um.true_divide(arrmean, div, out=arrmean, casting='unsafe',\n",
      "/home/mischa/miniconda3/envs/bf/lib/python3.10/site-packages/numpy/core/_methods.py:257: RuntimeWarning: invalid value encountered in divide\n",
      "  ret = ret.dtype.type(ret / rcount)\n"
     ]
    },
    {
     "name": "stdout",
     "output_type": "stream",
     "text": [
      "2007iat.txt done\n",
      "Initial shape: 50880\n",
      "After removing no age IDs: 31131\n",
      "After removing invalid IDs: 31131\n",
      "After excluding zero latency IDs: 31121\n",
      "After excluding != 120 trials IDs: 30998\n",
      "After excluding more than 50% error IDs: 30976\n",
      "After excluding zero error IDs: 29676\n",
      "Successfully read datafile 2007iat2.txt .\n",
      "Converting to X and y arrays...\n",
      "IDs with less than 20 trials <200 ms or >10 seconds: (29556, 120, 3)\n",
      "IDs with 60 trials for each condition, 60 trials for both picture and word stimuli: (29556, 120, 3)\n",
      "Final shape of RTs chunk (after once more excluding cases w/ missing age or trials):  (29556, 120, 4)\n",
      "Final shape of outcomes chunk:  (29556, 120, 4)\n"
     ]
    },
    {
     "name": "stderr",
     "output_type": "stream",
     "text": [
      "/home/mischa/miniconda3/envs/bf/lib/python3.10/site-packages/numpy/core/fromnumeric.py:3432: RuntimeWarning: Mean of empty slice.\n",
      "  return _methods._mean(a, axis=axis, dtype=dtype,\n",
      "/home/mischa/miniconda3/envs/bf/lib/python3.10/site-packages/numpy/core/_methods.py:190: RuntimeWarning: invalid value encountered in divide\n",
      "  ret = ret.dtype.type(ret / rcount)\n",
      "/home/mischa/miniconda3/envs/bf/lib/python3.10/site-packages/numpy/core/_methods.py:265: RuntimeWarning: Degrees of freedom <= 0 for slice\n",
      "  ret = _var(a, axis=axis, dtype=dtype, out=out, ddof=ddof,\n",
      "/home/mischa/miniconda3/envs/bf/lib/python3.10/site-packages/numpy/core/_methods.py:223: RuntimeWarning: invalid value encountered in divide\n",
      "  arrmean = um.true_divide(arrmean, div, out=arrmean, casting='unsafe',\n",
      "/home/mischa/miniconda3/envs/bf/lib/python3.10/site-packages/numpy/core/_methods.py:257: RuntimeWarning: invalid value encountered in divide\n",
      "  ret = ret.dtype.type(ret / rcount)\n"
     ]
    },
    {
     "name": "stdout",
     "output_type": "stream",
     "text": [
      "2007iat2.txt done\n",
      "Initial shape: 51012\n",
      "After removing no age IDs: 29271\n",
      "After removing invalid IDs: 29271\n",
      "After excluding zero latency IDs: 29267\n",
      "After excluding != 120 trials IDs: 29150\n",
      "After excluding more than 50% error IDs: 29130\n",
      "After excluding zero error IDs: 27768\n",
      "Successfully read datafile 2007iat3.txt .\n",
      "Converting to X and y arrays...\n",
      "IDs with less than 20 trials <200 ms or >10 seconds: (27654, 120, 3)\n",
      "IDs with 60 trials for each condition, 60 trials for both picture and word stimuli: (27654, 120, 3)\n",
      "Final shape of RTs chunk (after once more excluding cases w/ missing age or trials):  (27654, 120, 4)\n",
      "Final shape of outcomes chunk:  (27654, 120, 4)\n"
     ]
    },
    {
     "name": "stderr",
     "output_type": "stream",
     "text": [
      "/home/mischa/miniconda3/envs/bf/lib/python3.10/site-packages/numpy/core/fromnumeric.py:3432: RuntimeWarning: Mean of empty slice.\n",
      "  return _methods._mean(a, axis=axis, dtype=dtype,\n",
      "/home/mischa/miniconda3/envs/bf/lib/python3.10/site-packages/numpy/core/_methods.py:190: RuntimeWarning: invalid value encountered in divide\n",
      "  ret = ret.dtype.type(ret / rcount)\n",
      "/home/mischa/miniconda3/envs/bf/lib/python3.10/site-packages/numpy/core/_methods.py:265: RuntimeWarning: Degrees of freedom <= 0 for slice\n",
      "  ret = _var(a, axis=axis, dtype=dtype, out=out, ddof=ddof,\n",
      "/home/mischa/miniconda3/envs/bf/lib/python3.10/site-packages/numpy/core/_methods.py:223: RuntimeWarning: invalid value encountered in divide\n",
      "  arrmean = um.true_divide(arrmean, div, out=arrmean, casting='unsafe',\n",
      "/home/mischa/miniconda3/envs/bf/lib/python3.10/site-packages/numpy/core/_methods.py:257: RuntimeWarning: invalid value encountered in divide\n",
      "  ret = ret.dtype.type(ret / rcount)\n"
     ]
    },
    {
     "name": "stdout",
     "output_type": "stream",
     "text": [
      "2007iat3.txt done\n",
      "Initial shape: 51283\n",
      "After removing no age IDs: 28042\n",
      "After removing invalid IDs: 28042\n",
      "After excluding zero latency IDs: 28040\n",
      "After excluding != 120 trials IDs: 27897\n",
      "After excluding more than 50% error IDs: 27882\n",
      "After excluding zero error IDs: 26787\n",
      "Successfully read datafile 2007iat4.txt .\n",
      "Converting to X and y arrays...\n",
      "IDs with less than 20 trials <200 ms or >10 seconds: (26711, 120, 3)\n",
      "IDs with 60 trials for each condition, 60 trials for both picture and word stimuli: (26711, 120, 3)\n",
      "Final shape of RTs chunk (after once more excluding cases w/ missing age or trials):  (26711, 120, 4)\n",
      "Final shape of outcomes chunk:  (26711, 120, 4)\n"
     ]
    },
    {
     "name": "stderr",
     "output_type": "stream",
     "text": [
      "/home/mischa/miniconda3/envs/bf/lib/python3.10/site-packages/numpy/core/fromnumeric.py:3432: RuntimeWarning: Mean of empty slice.\n",
      "  return _methods._mean(a, axis=axis, dtype=dtype,\n",
      "/home/mischa/miniconda3/envs/bf/lib/python3.10/site-packages/numpy/core/_methods.py:190: RuntimeWarning: invalid value encountered in divide\n",
      "  ret = ret.dtype.type(ret / rcount)\n",
      "/home/mischa/miniconda3/envs/bf/lib/python3.10/site-packages/numpy/core/_methods.py:265: RuntimeWarning: Degrees of freedom <= 0 for slice\n",
      "  ret = _var(a, axis=axis, dtype=dtype, out=out, ddof=ddof,\n",
      "/home/mischa/miniconda3/envs/bf/lib/python3.10/site-packages/numpy/core/_methods.py:223: RuntimeWarning: invalid value encountered in divide\n",
      "  arrmean = um.true_divide(arrmean, div, out=arrmean, casting='unsafe',\n",
      "/home/mischa/miniconda3/envs/bf/lib/python3.10/site-packages/numpy/core/_methods.py:257: RuntimeWarning: invalid value encountered in divide\n",
      "  ret = ret.dtype.type(ret / rcount)\n"
     ]
    },
    {
     "name": "stdout",
     "output_type": "stream",
     "text": [
      "2007iat4.txt done\n",
      "Initial shape: 50914\n",
      "After removing no age IDs: 30664\n",
      "After removing invalid IDs: 30664\n",
      "After excluding zero latency IDs: 30656\n",
      "After excluding != 120 trials IDs: 30451\n",
      "After excluding more than 50% error IDs: 30437\n",
      "After excluding zero error IDs: 29124\n",
      "Successfully read datafile 2007iat5.txt .\n",
      "Converting to X and y arrays...\n",
      "IDs with less than 20 trials <200 ms or >10 seconds: (29057, 120, 3)\n",
      "IDs with 60 trials for each condition, 60 trials for both picture and word stimuli: (29057, 120, 3)\n",
      "Final shape of RTs chunk (after once more excluding cases w/ missing age or trials):  (29057, 120, 4)\n",
      "Final shape of outcomes chunk:  (29057, 120, 4)\n"
     ]
    },
    {
     "name": "stderr",
     "output_type": "stream",
     "text": [
      "/home/mischa/miniconda3/envs/bf/lib/python3.10/site-packages/numpy/core/fromnumeric.py:3432: RuntimeWarning: Mean of empty slice.\n",
      "  return _methods._mean(a, axis=axis, dtype=dtype,\n",
      "/home/mischa/miniconda3/envs/bf/lib/python3.10/site-packages/numpy/core/_methods.py:190: RuntimeWarning: invalid value encountered in divide\n",
      "  ret = ret.dtype.type(ret / rcount)\n",
      "/home/mischa/miniconda3/envs/bf/lib/python3.10/site-packages/numpy/core/_methods.py:265: RuntimeWarning: Degrees of freedom <= 0 for slice\n",
      "  ret = _var(a, axis=axis, dtype=dtype, out=out, ddof=ddof,\n",
      "/home/mischa/miniconda3/envs/bf/lib/python3.10/site-packages/numpy/core/_methods.py:223: RuntimeWarning: invalid value encountered in divide\n",
      "  arrmean = um.true_divide(arrmean, div, out=arrmean, casting='unsafe',\n",
      "/home/mischa/miniconda3/envs/bf/lib/python3.10/site-packages/numpy/core/_methods.py:257: RuntimeWarning: invalid value encountered in divide\n",
      "  ret = ret.dtype.type(ret / rcount)\n"
     ]
    },
    {
     "name": "stdout",
     "output_type": "stream",
     "text": [
      "2007iat5.txt done\n",
      "Initial shape: 50813\n",
      "After removing no age IDs: 31576\n",
      "After removing invalid IDs: 31576\n",
      "After excluding zero latency IDs: 31573\n",
      "After excluding != 120 trials IDs: 31356\n",
      "After excluding more than 50% error IDs: 31326\n",
      "After excluding zero error IDs: 30286\n",
      "Successfully read datafile 2007iat6.txt .\n",
      "Converting to X and y arrays...\n",
      "IDs with less than 20 trials <200 ms or >10 seconds: (30119, 120, 3)\n",
      "IDs with 60 trials for each condition, 60 trials for both picture and word stimuli: (30119, 120, 3)\n",
      "Final shape of RTs chunk (after once more excluding cases w/ missing age or trials):  (30119, 120, 4)\n",
      "Final shape of outcomes chunk:  (30119, 120, 4)\n"
     ]
    },
    {
     "name": "stderr",
     "output_type": "stream",
     "text": [
      "/home/mischa/miniconda3/envs/bf/lib/python3.10/site-packages/numpy/core/fromnumeric.py:3432: RuntimeWarning: Mean of empty slice.\n",
      "  return _methods._mean(a, axis=axis, dtype=dtype,\n",
      "/home/mischa/miniconda3/envs/bf/lib/python3.10/site-packages/numpy/core/_methods.py:190: RuntimeWarning: invalid value encountered in divide\n",
      "  ret = ret.dtype.type(ret / rcount)\n",
      "/home/mischa/miniconda3/envs/bf/lib/python3.10/site-packages/numpy/core/_methods.py:265: RuntimeWarning: Degrees of freedom <= 0 for slice\n",
      "  ret = _var(a, axis=axis, dtype=dtype, out=out, ddof=ddof,\n",
      "/home/mischa/miniconda3/envs/bf/lib/python3.10/site-packages/numpy/core/_methods.py:223: RuntimeWarning: invalid value encountered in divide\n",
      "  arrmean = um.true_divide(arrmean, div, out=arrmean, casting='unsafe',\n",
      "/home/mischa/miniconda3/envs/bf/lib/python3.10/site-packages/numpy/core/_methods.py:257: RuntimeWarning: invalid value encountered in divide\n",
      "  ret = ret.dtype.type(ret / rcount)\n"
     ]
    },
    {
     "name": "stdout",
     "output_type": "stream",
     "text": [
      "2007iat6.txt done\n",
      "Initial shape: 50816\n",
      "After removing no age IDs: 30729\n",
      "After removing invalid IDs: 30729\n",
      "After excluding zero latency IDs: 30722\n",
      "After excluding != 120 trials IDs: 30500\n",
      "After excluding more than 50% error IDs: 30476\n",
      "After excluding zero error IDs: 29577\n",
      "Successfully read datafile 2007iat7.txt .\n",
      "Converting to X and y arrays...\n",
      "IDs with less than 20 trials <200 ms or >10 seconds: (29414, 120, 3)\n",
      "IDs with 60 trials for each condition, 60 trials for both picture and word stimuli: (29414, 120, 3)\n",
      "Final shape of RTs chunk (after once more excluding cases w/ missing age or trials):  (29414, 120, 4)\n",
      "Final shape of outcomes chunk:  (29414, 120, 4)\n"
     ]
    },
    {
     "name": "stderr",
     "output_type": "stream",
     "text": [
      "/home/mischa/miniconda3/envs/bf/lib/python3.10/site-packages/numpy/core/fromnumeric.py:3432: RuntimeWarning: Mean of empty slice.\n",
      "  return _methods._mean(a, axis=axis, dtype=dtype,\n",
      "/home/mischa/miniconda3/envs/bf/lib/python3.10/site-packages/numpy/core/_methods.py:190: RuntimeWarning: invalid value encountered in divide\n",
      "  ret = ret.dtype.type(ret / rcount)\n",
      "/home/mischa/miniconda3/envs/bf/lib/python3.10/site-packages/numpy/core/_methods.py:265: RuntimeWarning: Degrees of freedom <= 0 for slice\n",
      "  ret = _var(a, axis=axis, dtype=dtype, out=out, ddof=ddof,\n",
      "/home/mischa/miniconda3/envs/bf/lib/python3.10/site-packages/numpy/core/_methods.py:223: RuntimeWarning: invalid value encountered in divide\n",
      "  arrmean = um.true_divide(arrmean, div, out=arrmean, casting='unsafe',\n",
      "/home/mischa/miniconda3/envs/bf/lib/python3.10/site-packages/numpy/core/_methods.py:257: RuntimeWarning: invalid value encountered in divide\n",
      "  ret = ret.dtype.type(ret / rcount)\n"
     ]
    },
    {
     "name": "stdout",
     "output_type": "stream",
     "text": [
      "2007iat7.txt done\n",
      "Initial shape: 4861\n",
      "After removing no age IDs: 2553\n",
      "After removing invalid IDs: 2553\n",
      "After excluding zero latency IDs: 2552\n",
      "After excluding != 120 trials IDs: 2526\n",
      "After excluding more than 50% error IDs: 2524\n",
      "After excluding zero error IDs: 2430\n",
      "Successfully read datafile 2007iat8.txt .\n",
      "Converting to X and y arrays...\n",
      "IDs with less than 20 trials <200 ms or >10 seconds: (2418, 120, 3)\n",
      "IDs with 60 trials for each condition, 60 trials for both picture and word stimuli: (2418, 120, 3)\n",
      "Final shape of RTs chunk (after once more excluding cases w/ missing age or trials):  (2418, 120, 4)\n",
      "Final shape of outcomes chunk:  (2418, 120, 4)\n"
     ]
    },
    {
     "name": "stderr",
     "output_type": "stream",
     "text": [
      "/home/mischa/miniconda3/envs/bf/lib/python3.10/site-packages/numpy/core/fromnumeric.py:3432: RuntimeWarning: Mean of empty slice.\n",
      "  return _methods._mean(a, axis=axis, dtype=dtype,\n",
      "/home/mischa/miniconda3/envs/bf/lib/python3.10/site-packages/numpy/core/_methods.py:190: RuntimeWarning: invalid value encountered in divide\n",
      "  ret = ret.dtype.type(ret / rcount)\n",
      "/home/mischa/miniconda3/envs/bf/lib/python3.10/site-packages/numpy/core/_methods.py:265: RuntimeWarning: Degrees of freedom <= 0 for slice\n",
      "  ret = _var(a, axis=axis, dtype=dtype, out=out, ddof=ddof,\n",
      "/home/mischa/miniconda3/envs/bf/lib/python3.10/site-packages/numpy/core/_methods.py:223: RuntimeWarning: invalid value encountered in divide\n",
      "  arrmean = um.true_divide(arrmean, div, out=arrmean, casting='unsafe',\n",
      "/home/mischa/miniconda3/envs/bf/lib/python3.10/site-packages/numpy/core/_methods.py:257: RuntimeWarning: invalid value encountered in divide\n",
      "  ret = ret.dtype.type(ret / rcount)\n"
     ]
    },
    {
     "name": "stdout",
     "output_type": "stream",
     "text": [
      "2007iat8.txt done\n",
      "Initial shape: 50849\n",
      "After removing no age IDs: 31134\n",
      "After removing invalid IDs: 31134\n",
      "After excluding zero latency IDs: 31120\n",
      "After excluding != 120 trials IDs: 30867\n",
      "After excluding more than 50% error IDs: 30832\n",
      "After excluding zero error IDs: 29717\n",
      "Successfully read datafile 2008iat.txt .\n",
      "Converting to X and y arrays...\n",
      "IDs with less than 20 trials <200 ms or >10 seconds: (29594, 120, 3)\n",
      "IDs with 60 trials for each condition, 60 trials for both picture and word stimuli: (29594, 120, 3)\n",
      "Final shape of RTs chunk (after once more excluding cases w/ missing age or trials):  (29594, 120, 4)\n",
      "Final shape of outcomes chunk:  (29594, 120, 4)\n"
     ]
    },
    {
     "name": "stderr",
     "output_type": "stream",
     "text": [
      "/home/mischa/miniconda3/envs/bf/lib/python3.10/site-packages/numpy/core/fromnumeric.py:3432: RuntimeWarning: Mean of empty slice.\n",
      "  return _methods._mean(a, axis=axis, dtype=dtype,\n",
      "/home/mischa/miniconda3/envs/bf/lib/python3.10/site-packages/numpy/core/_methods.py:190: RuntimeWarning: invalid value encountered in divide\n",
      "  ret = ret.dtype.type(ret / rcount)\n",
      "/home/mischa/miniconda3/envs/bf/lib/python3.10/site-packages/numpy/core/_methods.py:265: RuntimeWarning: Degrees of freedom <= 0 for slice\n",
      "  ret = _var(a, axis=axis, dtype=dtype, out=out, ddof=ddof,\n",
      "/home/mischa/miniconda3/envs/bf/lib/python3.10/site-packages/numpy/core/_methods.py:223: RuntimeWarning: invalid value encountered in divide\n",
      "  arrmean = um.true_divide(arrmean, div, out=arrmean, casting='unsafe',\n",
      "/home/mischa/miniconda3/envs/bf/lib/python3.10/site-packages/numpy/core/_methods.py:257: RuntimeWarning: invalid value encountered in divide\n",
      "  ret = ret.dtype.type(ret / rcount)\n"
     ]
    },
    {
     "name": "stdout",
     "output_type": "stream",
     "text": [
      "2008iat.txt done\n",
      "Initial shape: 50793\n",
      "After removing no age IDs: 31632\n",
      "After removing invalid IDs: 31632\n",
      "After excluding zero latency IDs: 31623\n",
      "After excluding != 120 trials IDs: 31420\n",
      "After excluding more than 50% error IDs: 31387\n",
      "After excluding zero error IDs: 30445\n",
      "Successfully read datafile 2008iat2.txt .\n",
      "Converting to X and y arrays...\n",
      "IDs with less than 20 trials <200 ms or >10 seconds: (30305, 120, 3)\n",
      "IDs with 60 trials for each condition, 60 trials for both picture and word stimuli: (30305, 120, 3)\n",
      "Final shape of RTs chunk (after once more excluding cases w/ missing age or trials):  (30305, 120, 4)\n",
      "Final shape of outcomes chunk:  (30305, 120, 4)\n"
     ]
    },
    {
     "name": "stderr",
     "output_type": "stream",
     "text": [
      "/home/mischa/miniconda3/envs/bf/lib/python3.10/site-packages/numpy/core/fromnumeric.py:3432: RuntimeWarning: Mean of empty slice.\n",
      "  return _methods._mean(a, axis=axis, dtype=dtype,\n",
      "/home/mischa/miniconda3/envs/bf/lib/python3.10/site-packages/numpy/core/_methods.py:190: RuntimeWarning: invalid value encountered in divide\n",
      "  ret = ret.dtype.type(ret / rcount)\n",
      "/home/mischa/miniconda3/envs/bf/lib/python3.10/site-packages/numpy/core/_methods.py:265: RuntimeWarning: Degrees of freedom <= 0 for slice\n",
      "  ret = _var(a, axis=axis, dtype=dtype, out=out, ddof=ddof,\n",
      "/home/mischa/miniconda3/envs/bf/lib/python3.10/site-packages/numpy/core/_methods.py:223: RuntimeWarning: invalid value encountered in divide\n",
      "  arrmean = um.true_divide(arrmean, div, out=arrmean, casting='unsafe',\n",
      "/home/mischa/miniconda3/envs/bf/lib/python3.10/site-packages/numpy/core/_methods.py:257: RuntimeWarning: invalid value encountered in divide\n",
      "  ret = ret.dtype.type(ret / rcount)\n"
     ]
    },
    {
     "name": "stdout",
     "output_type": "stream",
     "text": [
      "2008iat2.txt done\n",
      "Initial shape: 50840\n",
      "After removing no age IDs: 32355\n",
      "After removing invalid IDs: 32355\n",
      "After excluding zero latency IDs: 32349\n",
      "After excluding != 120 trials IDs: 32124\n",
      "After excluding more than 50% error IDs: 32087\n",
      "After excluding zero error IDs: 30915\n",
      "Successfully read datafile 2008iat3.txt .\n",
      "Converting to X and y arrays...\n",
      "IDs with less than 20 trials <200 ms or >10 seconds: (30734, 120, 3)\n",
      "IDs with 60 trials for each condition, 60 trials for both picture and word stimuli: (30734, 120, 3)\n",
      "Final shape of RTs chunk (after once more excluding cases w/ missing age or trials):  (30734, 120, 4)\n",
      "Final shape of outcomes chunk:  (30734, 120, 4)\n"
     ]
    },
    {
     "name": "stderr",
     "output_type": "stream",
     "text": [
      "/home/mischa/miniconda3/envs/bf/lib/python3.10/site-packages/numpy/core/fromnumeric.py:3432: RuntimeWarning: Mean of empty slice.\n",
      "  return _methods._mean(a, axis=axis, dtype=dtype,\n",
      "/home/mischa/miniconda3/envs/bf/lib/python3.10/site-packages/numpy/core/_methods.py:190: RuntimeWarning: invalid value encountered in divide\n",
      "  ret = ret.dtype.type(ret / rcount)\n",
      "/home/mischa/miniconda3/envs/bf/lib/python3.10/site-packages/numpy/core/_methods.py:265: RuntimeWarning: Degrees of freedom <= 0 for slice\n",
      "  ret = _var(a, axis=axis, dtype=dtype, out=out, ddof=ddof,\n",
      "/home/mischa/miniconda3/envs/bf/lib/python3.10/site-packages/numpy/core/_methods.py:223: RuntimeWarning: invalid value encountered in divide\n",
      "  arrmean = um.true_divide(arrmean, div, out=arrmean, casting='unsafe',\n",
      "/home/mischa/miniconda3/envs/bf/lib/python3.10/site-packages/numpy/core/_methods.py:257: RuntimeWarning: invalid value encountered in divide\n",
      "  ret = ret.dtype.type(ret / rcount)\n"
     ]
    },
    {
     "name": "stdout",
     "output_type": "stream",
     "text": [
      "2008iat3.txt done\n",
      "Initial shape: 50735\n",
      "After removing no age IDs: 32689\n",
      "After removing invalid IDs: 32689\n",
      "After excluding zero latency IDs: 32671\n",
      "After excluding != 120 trials IDs: 32429\n",
      "After excluding more than 50% error IDs: 32396\n",
      "After excluding zero error IDs: 31254\n",
      "Successfully read datafile 2008iat4.txt .\n",
      "Converting to X and y arrays...\n",
      "IDs with less than 20 trials <200 ms or >10 seconds: (31099, 120, 3)\n",
      "IDs with 60 trials for each condition, 60 trials for both picture and word stimuli: (31099, 120, 3)\n",
      "Final shape of RTs chunk (after once more excluding cases w/ missing age or trials):  (31099, 120, 4)\n",
      "Final shape of outcomes chunk:  (31099, 120, 4)\n"
     ]
    },
    {
     "name": "stderr",
     "output_type": "stream",
     "text": [
      "/home/mischa/miniconda3/envs/bf/lib/python3.10/site-packages/numpy/core/fromnumeric.py:3432: RuntimeWarning: Mean of empty slice.\n",
      "  return _methods._mean(a, axis=axis, dtype=dtype,\n",
      "/home/mischa/miniconda3/envs/bf/lib/python3.10/site-packages/numpy/core/_methods.py:190: RuntimeWarning: invalid value encountered in divide\n",
      "  ret = ret.dtype.type(ret / rcount)\n",
      "/home/mischa/miniconda3/envs/bf/lib/python3.10/site-packages/numpy/core/_methods.py:265: RuntimeWarning: Degrees of freedom <= 0 for slice\n",
      "  ret = _var(a, axis=axis, dtype=dtype, out=out, ddof=ddof,\n",
      "/home/mischa/miniconda3/envs/bf/lib/python3.10/site-packages/numpy/core/_methods.py:223: RuntimeWarning: invalid value encountered in divide\n",
      "  arrmean = um.true_divide(arrmean, div, out=arrmean, casting='unsafe',\n",
      "/home/mischa/miniconda3/envs/bf/lib/python3.10/site-packages/numpy/core/_methods.py:257: RuntimeWarning: invalid value encountered in divide\n",
      "  ret = ret.dtype.type(ret / rcount)\n"
     ]
    },
    {
     "name": "stdout",
     "output_type": "stream",
     "text": [
      "2008iat4.txt done\n",
      "Initial shape: 50802\n",
      "After removing no age IDs: 32258\n",
      "After removing invalid IDs: 32258\n",
      "After excluding zero latency IDs: 32238\n",
      "After excluding != 120 trials IDs: 31809\n",
      "After excluding more than 50% error IDs: 31784\n",
      "After excluding zero error IDs: 30512\n",
      "Successfully read datafile 2008iat5.txt .\n",
      "Converting to X and y arrays...\n",
      "IDs with less than 20 trials <200 ms or >10 seconds: (30379, 120, 3)\n",
      "IDs with 60 trials for each condition, 60 trials for both picture and word stimuli: (30379, 120, 3)\n",
      "Final shape of RTs chunk (after once more excluding cases w/ missing age or trials):  (30379, 120, 4)\n",
      "Final shape of outcomes chunk:  (30379, 120, 4)\n"
     ]
    },
    {
     "name": "stderr",
     "output_type": "stream",
     "text": [
      "/home/mischa/miniconda3/envs/bf/lib/python3.10/site-packages/numpy/core/fromnumeric.py:3432: RuntimeWarning: Mean of empty slice.\n",
      "  return _methods._mean(a, axis=axis, dtype=dtype,\n",
      "/home/mischa/miniconda3/envs/bf/lib/python3.10/site-packages/numpy/core/_methods.py:190: RuntimeWarning: invalid value encountered in divide\n",
      "  ret = ret.dtype.type(ret / rcount)\n",
      "/home/mischa/miniconda3/envs/bf/lib/python3.10/site-packages/numpy/core/_methods.py:265: RuntimeWarning: Degrees of freedom <= 0 for slice\n",
      "  ret = _var(a, axis=axis, dtype=dtype, out=out, ddof=ddof,\n",
      "/home/mischa/miniconda3/envs/bf/lib/python3.10/site-packages/numpy/core/_methods.py:223: RuntimeWarning: invalid value encountered in divide\n",
      "  arrmean = um.true_divide(arrmean, div, out=arrmean, casting='unsafe',\n",
      "/home/mischa/miniconda3/envs/bf/lib/python3.10/site-packages/numpy/core/_methods.py:257: RuntimeWarning: invalid value encountered in divide\n",
      "  ret = ret.dtype.type(ret / rcount)\n"
     ]
    },
    {
     "name": "stdout",
     "output_type": "stream",
     "text": [
      "2008iat5.txt done\n",
      "Initial shape: 26706\n",
      "After removing no age IDs: 16407\n",
      "After removing invalid IDs: 16407\n",
      "After excluding zero latency IDs: 16384\n",
      "After excluding != 120 trials IDs: 16292\n",
      "After excluding more than 50% error IDs: 16277\n",
      "After excluding zero error IDs: 15763\n",
      "Successfully read datafile 2008iat6.txt .\n",
      "Converting to X and y arrays...\n",
      "IDs with less than 20 trials <200 ms or >10 seconds: (15686, 120, 3)\n",
      "IDs with 60 trials for each condition, 60 trials for both picture and word stimuli: (15686, 120, 3)\n",
      "Final shape of RTs chunk (after once more excluding cases w/ missing age or trials):  (15686, 120, 4)\n",
      "Final shape of outcomes chunk:  (15686, 120, 4)\n"
     ]
    },
    {
     "name": "stderr",
     "output_type": "stream",
     "text": [
      "/home/mischa/miniconda3/envs/bf/lib/python3.10/site-packages/numpy/core/fromnumeric.py:3432: RuntimeWarning: Mean of empty slice.\n",
      "  return _methods._mean(a, axis=axis, dtype=dtype,\n",
      "/home/mischa/miniconda3/envs/bf/lib/python3.10/site-packages/numpy/core/_methods.py:190: RuntimeWarning: invalid value encountered in divide\n",
      "  ret = ret.dtype.type(ret / rcount)\n",
      "/home/mischa/miniconda3/envs/bf/lib/python3.10/site-packages/numpy/core/_methods.py:265: RuntimeWarning: Degrees of freedom <= 0 for slice\n",
      "  ret = _var(a, axis=axis, dtype=dtype, out=out, ddof=ddof,\n",
      "/home/mischa/miniconda3/envs/bf/lib/python3.10/site-packages/numpy/core/_methods.py:223: RuntimeWarning: invalid value encountered in divide\n",
      "  arrmean = um.true_divide(arrmean, div, out=arrmean, casting='unsafe',\n",
      "/home/mischa/miniconda3/envs/bf/lib/python3.10/site-packages/numpy/core/_methods.py:257: RuntimeWarning: invalid value encountered in divide\n",
      "  ret = ret.dtype.type(ret / rcount)\n"
     ]
    },
    {
     "name": "stdout",
     "output_type": "stream",
     "text": [
      "2008iat6.txt done\n",
      "Initial shape: 50939\n",
      "After removing no age IDs: 32484\n",
      "After removing invalid IDs: 32484\n",
      "After excluding zero latency IDs: 32445\n",
      "After excluding != 120 trials IDs: 32307\n",
      "After excluding more than 50% error IDs: 32289\n",
      "After excluding zero error IDs: 30779\n",
      "Successfully read datafile 2009iat.txt .\n",
      "Converting to X and y arrays...\n",
      "IDs with less than 20 trials <200 ms or >10 seconds: (30691, 120, 3)\n",
      "IDs with 60 trials for each condition, 60 trials for both picture and word stimuli: (30691, 120, 3)\n",
      "Final shape of RTs chunk (after once more excluding cases w/ missing age or trials):  (30691, 120, 4)\n",
      "Final shape of outcomes chunk:  (30691, 120, 4)\n"
     ]
    },
    {
     "name": "stderr",
     "output_type": "stream",
     "text": [
      "/home/mischa/miniconda3/envs/bf/lib/python3.10/site-packages/numpy/core/fromnumeric.py:3432: RuntimeWarning: Mean of empty slice.\n",
      "  return _methods._mean(a, axis=axis, dtype=dtype,\n",
      "/home/mischa/miniconda3/envs/bf/lib/python3.10/site-packages/numpy/core/_methods.py:190: RuntimeWarning: invalid value encountered in divide\n",
      "  ret = ret.dtype.type(ret / rcount)\n",
      "/home/mischa/miniconda3/envs/bf/lib/python3.10/site-packages/numpy/core/_methods.py:265: RuntimeWarning: Degrees of freedom <= 0 for slice\n",
      "  ret = _var(a, axis=axis, dtype=dtype, out=out, ddof=ddof,\n",
      "/home/mischa/miniconda3/envs/bf/lib/python3.10/site-packages/numpy/core/_methods.py:223: RuntimeWarning: invalid value encountered in divide\n",
      "  arrmean = um.true_divide(arrmean, div, out=arrmean, casting='unsafe',\n",
      "/home/mischa/miniconda3/envs/bf/lib/python3.10/site-packages/numpy/core/_methods.py:257: RuntimeWarning: invalid value encountered in divide\n",
      "  ret = ret.dtype.type(ret / rcount)\n"
     ]
    },
    {
     "name": "stdout",
     "output_type": "stream",
     "text": [
      "2009iat.txt done\n",
      "Initial shape: 50776\n",
      "After removing no age IDs: 32333\n",
      "After removing invalid IDs: 32333\n",
      "After excluding zero latency IDs: 32270\n",
      "After excluding != 120 trials IDs: 32078\n",
      "After excluding more than 50% error IDs: 32049\n",
      "After excluding zero error IDs: 30573\n",
      "Successfully read datafile 2009iat2.txt .\n",
      "Converting to X and y arrays...\n",
      "IDs with less than 20 trials <200 ms or >10 seconds: (30462, 120, 3)\n",
      "IDs with 60 trials for each condition, 60 trials for both picture and word stimuli: (30462, 120, 3)\n",
      "Final shape of RTs chunk (after once more excluding cases w/ missing age or trials):  (30462, 120, 4)\n",
      "Final shape of outcomes chunk:  (30462, 120, 4)\n"
     ]
    },
    {
     "name": "stderr",
     "output_type": "stream",
     "text": [
      "/home/mischa/miniconda3/envs/bf/lib/python3.10/site-packages/numpy/core/fromnumeric.py:3432: RuntimeWarning: Mean of empty slice.\n",
      "  return _methods._mean(a, axis=axis, dtype=dtype,\n",
      "/home/mischa/miniconda3/envs/bf/lib/python3.10/site-packages/numpy/core/_methods.py:190: RuntimeWarning: invalid value encountered in divide\n",
      "  ret = ret.dtype.type(ret / rcount)\n",
      "/home/mischa/miniconda3/envs/bf/lib/python3.10/site-packages/numpy/core/_methods.py:265: RuntimeWarning: Degrees of freedom <= 0 for slice\n",
      "  ret = _var(a, axis=axis, dtype=dtype, out=out, ddof=ddof,\n",
      "/home/mischa/miniconda3/envs/bf/lib/python3.10/site-packages/numpy/core/_methods.py:223: RuntimeWarning: invalid value encountered in divide\n",
      "  arrmean = um.true_divide(arrmean, div, out=arrmean, casting='unsafe',\n",
      "/home/mischa/miniconda3/envs/bf/lib/python3.10/site-packages/numpy/core/_methods.py:257: RuntimeWarning: invalid value encountered in divide\n",
      "  ret = ret.dtype.type(ret / rcount)\n"
     ]
    },
    {
     "name": "stdout",
     "output_type": "stream",
     "text": [
      "2009iat2.txt done\n",
      "Initial shape: 50685\n",
      "After removing no age IDs: 31702\n",
      "After removing invalid IDs: 31702\n",
      "After excluding zero latency IDs: 31611\n",
      "After excluding != 120 trials IDs: 31406\n",
      "After excluding more than 50% error IDs: 31380\n",
      "After excluding zero error IDs: 30433\n",
      "Successfully read datafile 2009iat3.txt .\n",
      "Converting to X and y arrays...\n",
      "IDs with less than 20 trials <200 ms or >10 seconds: (30282, 120, 3)\n",
      "IDs with 60 trials for each condition, 60 trials for both picture and word stimuli: (30282, 120, 3)\n",
      "Final shape of RTs chunk (after once more excluding cases w/ missing age or trials):  (30282, 120, 4)\n",
      "Final shape of outcomes chunk:  (30282, 120, 4)\n"
     ]
    },
    {
     "name": "stderr",
     "output_type": "stream",
     "text": [
      "/home/mischa/miniconda3/envs/bf/lib/python3.10/site-packages/numpy/core/fromnumeric.py:3432: RuntimeWarning: Mean of empty slice.\n",
      "  return _methods._mean(a, axis=axis, dtype=dtype,\n",
      "/home/mischa/miniconda3/envs/bf/lib/python3.10/site-packages/numpy/core/_methods.py:190: RuntimeWarning: invalid value encountered in divide\n",
      "  ret = ret.dtype.type(ret / rcount)\n",
      "/home/mischa/miniconda3/envs/bf/lib/python3.10/site-packages/numpy/core/_methods.py:265: RuntimeWarning: Degrees of freedom <= 0 for slice\n",
      "  ret = _var(a, axis=axis, dtype=dtype, out=out, ddof=ddof,\n",
      "/home/mischa/miniconda3/envs/bf/lib/python3.10/site-packages/numpy/core/_methods.py:223: RuntimeWarning: invalid value encountered in divide\n",
      "  arrmean = um.true_divide(arrmean, div, out=arrmean, casting='unsafe',\n",
      "/home/mischa/miniconda3/envs/bf/lib/python3.10/site-packages/numpy/core/_methods.py:257: RuntimeWarning: invalid value encountered in divide\n",
      "  ret = ret.dtype.type(ret / rcount)\n"
     ]
    },
    {
     "name": "stdout",
     "output_type": "stream",
     "text": [
      "2009iat3.txt done\n",
      "Initial shape: 50666\n",
      "After removing no age IDs: 32809\n",
      "After removing invalid IDs: 32809\n",
      "After excluding zero latency IDs: 32706\n",
      "After excluding != 120 trials IDs: 32494\n",
      "After excluding more than 50% error IDs: 32461\n",
      "After excluding zero error IDs: 31275\n",
      "Successfully read datafile 2009iat4.txt .\n",
      "Converting to X and y arrays...\n",
      "IDs with less than 20 trials <200 ms or >10 seconds: (31170, 120, 3)\n",
      "IDs with 60 trials for each condition, 60 trials for both picture and word stimuli: (31170, 120, 3)\n",
      "Final shape of RTs chunk (after once more excluding cases w/ missing age or trials):  (31170, 120, 4)\n",
      "Final shape of outcomes chunk:  (31170, 120, 4)\n"
     ]
    },
    {
     "name": "stderr",
     "output_type": "stream",
     "text": [
      "/home/mischa/miniconda3/envs/bf/lib/python3.10/site-packages/numpy/core/fromnumeric.py:3432: RuntimeWarning: Mean of empty slice.\n",
      "  return _methods._mean(a, axis=axis, dtype=dtype,\n",
      "/home/mischa/miniconda3/envs/bf/lib/python3.10/site-packages/numpy/core/_methods.py:190: RuntimeWarning: invalid value encountered in divide\n",
      "  ret = ret.dtype.type(ret / rcount)\n",
      "/home/mischa/miniconda3/envs/bf/lib/python3.10/site-packages/numpy/core/_methods.py:265: RuntimeWarning: Degrees of freedom <= 0 for slice\n",
      "  ret = _var(a, axis=axis, dtype=dtype, out=out, ddof=ddof,\n",
      "/home/mischa/miniconda3/envs/bf/lib/python3.10/site-packages/numpy/core/_methods.py:223: RuntimeWarning: invalid value encountered in divide\n",
      "  arrmean = um.true_divide(arrmean, div, out=arrmean, casting='unsafe',\n",
      "/home/mischa/miniconda3/envs/bf/lib/python3.10/site-packages/numpy/core/_methods.py:257: RuntimeWarning: invalid value encountered in divide\n",
      "  ret = ret.dtype.type(ret / rcount)\n"
     ]
    },
    {
     "name": "stdout",
     "output_type": "stream",
     "text": [
      "2009iat4.txt done\n",
      "Initial shape: 50663\n",
      "After removing no age IDs: 33249\n",
      "After removing invalid IDs: 33249\n",
      "After excluding zero latency IDs: 33126\n",
      "After excluding != 120 trials IDs: 32913\n",
      "After excluding more than 50% error IDs: 32894\n",
      "After excluding zero error IDs: 31718\n",
      "Successfully read datafile 2009iat5.txt .\n",
      "Converting to X and y arrays...\n",
      "IDs with less than 20 trials <200 ms or >10 seconds: (31617, 120, 3)\n",
      "IDs with 60 trials for each condition, 60 trials for both picture and word stimuli: (31617, 120, 3)\n",
      "Final shape of RTs chunk (after once more excluding cases w/ missing age or trials):  (31617, 120, 4)\n",
      "Final shape of outcomes chunk:  (31617, 120, 4)\n"
     ]
    },
    {
     "name": "stderr",
     "output_type": "stream",
     "text": [
      "/home/mischa/miniconda3/envs/bf/lib/python3.10/site-packages/numpy/core/fromnumeric.py:3432: RuntimeWarning: Mean of empty slice.\n",
      "  return _methods._mean(a, axis=axis, dtype=dtype,\n",
      "/home/mischa/miniconda3/envs/bf/lib/python3.10/site-packages/numpy/core/_methods.py:190: RuntimeWarning: invalid value encountered in divide\n",
      "  ret = ret.dtype.type(ret / rcount)\n",
      "/home/mischa/miniconda3/envs/bf/lib/python3.10/site-packages/numpy/core/_methods.py:265: RuntimeWarning: Degrees of freedom <= 0 for slice\n",
      "  ret = _var(a, axis=axis, dtype=dtype, out=out, ddof=ddof,\n",
      "/home/mischa/miniconda3/envs/bf/lib/python3.10/site-packages/numpy/core/_methods.py:223: RuntimeWarning: invalid value encountered in divide\n",
      "  arrmean = um.true_divide(arrmean, div, out=arrmean, casting='unsafe',\n",
      "/home/mischa/miniconda3/envs/bf/lib/python3.10/site-packages/numpy/core/_methods.py:257: RuntimeWarning: invalid value encountered in divide\n",
      "  ret = ret.dtype.type(ret / rcount)\n"
     ]
    },
    {
     "name": "stdout",
     "output_type": "stream",
     "text": [
      "2009iat5.txt done\n",
      "Initial shape: 51321\n",
      "After removing no age IDs: 30839\n",
      "After removing invalid IDs: 30839\n",
      "After excluding zero latency IDs: 30737\n",
      "After excluding != 120 trials IDs: 30237\n",
      "After excluding more than 50% error IDs: 30225\n",
      "After excluding zero error IDs: 29172\n",
      "Successfully read datafile 2009iat6.txt .\n",
      "Converting to X and y arrays...\n",
      "IDs with less than 20 trials <200 ms or >10 seconds: (29079, 120, 3)\n",
      "IDs with 60 trials for each condition, 60 trials for both picture and word stimuli: (29079, 120, 3)\n",
      "Final shape of RTs chunk (after once more excluding cases w/ missing age or trials):  (29079, 120, 4)\n",
      "Final shape of outcomes chunk:  (29079, 120, 4)\n"
     ]
    },
    {
     "name": "stderr",
     "output_type": "stream",
     "text": [
      "/home/mischa/miniconda3/envs/bf/lib/python3.10/site-packages/numpy/core/fromnumeric.py:3432: RuntimeWarning: Mean of empty slice.\n",
      "  return _methods._mean(a, axis=axis, dtype=dtype,\n",
      "/home/mischa/miniconda3/envs/bf/lib/python3.10/site-packages/numpy/core/_methods.py:190: RuntimeWarning: invalid value encountered in divide\n",
      "  ret = ret.dtype.type(ret / rcount)\n",
      "/home/mischa/miniconda3/envs/bf/lib/python3.10/site-packages/numpy/core/_methods.py:265: RuntimeWarning: Degrees of freedom <= 0 for slice\n",
      "  ret = _var(a, axis=axis, dtype=dtype, out=out, ddof=ddof,\n",
      "/home/mischa/miniconda3/envs/bf/lib/python3.10/site-packages/numpy/core/_methods.py:223: RuntimeWarning: invalid value encountered in divide\n",
      "  arrmean = um.true_divide(arrmean, div, out=arrmean, casting='unsafe',\n",
      "/home/mischa/miniconda3/envs/bf/lib/python3.10/site-packages/numpy/core/_methods.py:257: RuntimeWarning: invalid value encountered in divide\n",
      "  ret = ret.dtype.type(ret / rcount)\n"
     ]
    },
    {
     "name": "stdout",
     "output_type": "stream",
     "text": [
      "2009iat6.txt done\n",
      "Initial shape: 52346\n",
      "After removing no age IDs: 27588\n",
      "After removing invalid IDs: 27588\n",
      "After excluding zero latency IDs: 27531\n",
      "After excluding != 120 trials IDs: 26958\n",
      "After excluding more than 50% error IDs: 26951\n",
      "After excluding zero error IDs: 25461\n",
      "Successfully read datafile 2009iat7.txt .\n",
      "Converting to X and y arrays...\n",
      "IDs with less than 20 trials <200 ms or >10 seconds: (25426, 120, 3)\n",
      "IDs with 60 trials for each condition, 60 trials for both picture and word stimuli: (25426, 120, 3)\n",
      "Final shape of RTs chunk (after once more excluding cases w/ missing age or trials):  (25426, 120, 4)\n",
      "Final shape of outcomes chunk:  (25426, 120, 4)\n"
     ]
    },
    {
     "name": "stderr",
     "output_type": "stream",
     "text": [
      "/home/mischa/miniconda3/envs/bf/lib/python3.10/site-packages/numpy/core/fromnumeric.py:3432: RuntimeWarning: Mean of empty slice.\n",
      "  return _methods._mean(a, axis=axis, dtype=dtype,\n",
      "/home/mischa/miniconda3/envs/bf/lib/python3.10/site-packages/numpy/core/_methods.py:190: RuntimeWarning: invalid value encountered in divide\n",
      "  ret = ret.dtype.type(ret / rcount)\n",
      "/home/mischa/miniconda3/envs/bf/lib/python3.10/site-packages/numpy/core/_methods.py:265: RuntimeWarning: Degrees of freedom <= 0 for slice\n",
      "  ret = _var(a, axis=axis, dtype=dtype, out=out, ddof=ddof,\n",
      "/home/mischa/miniconda3/envs/bf/lib/python3.10/site-packages/numpy/core/_methods.py:223: RuntimeWarning: invalid value encountered in divide\n",
      "  arrmean = um.true_divide(arrmean, div, out=arrmean, casting='unsafe',\n",
      "/home/mischa/miniconda3/envs/bf/lib/python3.10/site-packages/numpy/core/_methods.py:257: RuntimeWarning: invalid value encountered in divide\n",
      "  ret = ret.dtype.type(ret / rcount)\n"
     ]
    },
    {
     "name": "stdout",
     "output_type": "stream",
     "text": [
      "2009iat7.txt done\n",
      "Initial shape: 43978\n",
      "After removing no age IDs: 26850\n",
      "After removing invalid IDs: 26850\n",
      "After excluding zero latency IDs: 26719\n",
      "After excluding != 120 trials IDs: 26559\n",
      "After excluding more than 50% error IDs: 26541\n",
      "After excluding zero error IDs: 25759\n",
      "Successfully read datafile 2009iat8.txt .\n",
      "Converting to X and y arrays...\n",
      "IDs with less than 20 trials <200 ms or >10 seconds: (25653, 120, 3)\n",
      "IDs with 60 trials for each condition, 60 trials for both picture and word stimuli: (25653, 120, 3)\n",
      "Final shape of RTs chunk (after once more excluding cases w/ missing age or trials):  (25653, 120, 4)\n",
      "Final shape of outcomes chunk:  (25653, 120, 4)\n"
     ]
    },
    {
     "name": "stderr",
     "output_type": "stream",
     "text": [
      "/home/mischa/miniconda3/envs/bf/lib/python3.10/site-packages/numpy/core/fromnumeric.py:3432: RuntimeWarning: Mean of empty slice.\n",
      "  return _methods._mean(a, axis=axis, dtype=dtype,\n",
      "/home/mischa/miniconda3/envs/bf/lib/python3.10/site-packages/numpy/core/_methods.py:190: RuntimeWarning: invalid value encountered in divide\n",
      "  ret = ret.dtype.type(ret / rcount)\n",
      "/home/mischa/miniconda3/envs/bf/lib/python3.10/site-packages/numpy/core/_methods.py:265: RuntimeWarning: Degrees of freedom <= 0 for slice\n",
      "  ret = _var(a, axis=axis, dtype=dtype, out=out, ddof=ddof,\n",
      "/home/mischa/miniconda3/envs/bf/lib/python3.10/site-packages/numpy/core/_methods.py:223: RuntimeWarning: invalid value encountered in divide\n",
      "  arrmean = um.true_divide(arrmean, div, out=arrmean, casting='unsafe',\n",
      "/home/mischa/miniconda3/envs/bf/lib/python3.10/site-packages/numpy/core/_methods.py:257: RuntimeWarning: invalid value encountered in divide\n",
      "  ret = ret.dtype.type(ret / rcount)\n"
     ]
    },
    {
     "name": "stdout",
     "output_type": "stream",
     "text": [
      "2009iat8.txt done\n",
      "Initial shape: 50663\n",
      "After removing no age IDs: 32308\n",
      "After removing invalid IDs: 32308\n",
      "After excluding zero latency IDs: 32162\n",
      "After excluding != 120 trials IDs: 31922\n",
      "After excluding more than 50% error IDs: 31902\n",
      "After excluding zero error IDs: 30864\n",
      "Successfully read datafile 2010iat.txt .\n",
      "Converting to X and y arrays...\n",
      "IDs with less than 20 trials <200 ms or >10 seconds: (30753, 120, 3)\n",
      "IDs with 60 trials for each condition, 60 trials for both picture and word stimuli: (30753, 120, 3)\n",
      "Final shape of RTs chunk (after once more excluding cases w/ missing age or trials):  (30753, 120, 4)\n",
      "Final shape of outcomes chunk:  (30753, 120, 4)\n"
     ]
    },
    {
     "name": "stderr",
     "output_type": "stream",
     "text": [
      "/home/mischa/miniconda3/envs/bf/lib/python3.10/site-packages/numpy/core/fromnumeric.py:3432: RuntimeWarning: Mean of empty slice.\n",
      "  return _methods._mean(a, axis=axis, dtype=dtype,\n",
      "/home/mischa/miniconda3/envs/bf/lib/python3.10/site-packages/numpy/core/_methods.py:190: RuntimeWarning: invalid value encountered in divide\n",
      "  ret = ret.dtype.type(ret / rcount)\n",
      "/home/mischa/miniconda3/envs/bf/lib/python3.10/site-packages/numpy/core/_methods.py:265: RuntimeWarning: Degrees of freedom <= 0 for slice\n",
      "  ret = _var(a, axis=axis, dtype=dtype, out=out, ddof=ddof,\n",
      "/home/mischa/miniconda3/envs/bf/lib/python3.10/site-packages/numpy/core/_methods.py:223: RuntimeWarning: invalid value encountered in divide\n",
      "  arrmean = um.true_divide(arrmean, div, out=arrmean, casting='unsafe',\n",
      "/home/mischa/miniconda3/envs/bf/lib/python3.10/site-packages/numpy/core/_methods.py:257: RuntimeWarning: invalid value encountered in divide\n",
      "  ret = ret.dtype.type(ret / rcount)\n"
     ]
    },
    {
     "name": "stdout",
     "output_type": "stream",
     "text": [
      "2010iat.txt done\n",
      "Initial shape: 50765\n",
      "After removing no age IDs: 32256\n",
      "After removing invalid IDs: 32256\n",
      "After excluding zero latency IDs: 32068\n",
      "After excluding != 120 trials IDs: 31862\n",
      "After excluding more than 50% error IDs: 31845\n",
      "After excluding zero error IDs: 30860\n",
      "Successfully read datafile 2010iat2.txt .\n",
      "Converting to X and y arrays...\n",
      "IDs with less than 20 trials <200 ms or >10 seconds: (30739, 120, 3)\n",
      "IDs with 60 trials for each condition, 60 trials for both picture and word stimuli: (30739, 120, 3)\n",
      "Final shape of RTs chunk (after once more excluding cases w/ missing age or trials):  (30739, 120, 4)\n",
      "Final shape of outcomes chunk:  (30739, 120, 4)\n"
     ]
    },
    {
     "name": "stderr",
     "output_type": "stream",
     "text": [
      "/home/mischa/miniconda3/envs/bf/lib/python3.10/site-packages/numpy/core/fromnumeric.py:3432: RuntimeWarning: Mean of empty slice.\n",
      "  return _methods._mean(a, axis=axis, dtype=dtype,\n",
      "/home/mischa/miniconda3/envs/bf/lib/python3.10/site-packages/numpy/core/_methods.py:190: RuntimeWarning: invalid value encountered in divide\n",
      "  ret = ret.dtype.type(ret / rcount)\n",
      "/home/mischa/miniconda3/envs/bf/lib/python3.10/site-packages/numpy/core/_methods.py:265: RuntimeWarning: Degrees of freedom <= 0 for slice\n",
      "  ret = _var(a, axis=axis, dtype=dtype, out=out, ddof=ddof,\n",
      "/home/mischa/miniconda3/envs/bf/lib/python3.10/site-packages/numpy/core/_methods.py:223: RuntimeWarning: invalid value encountered in divide\n",
      "  arrmean = um.true_divide(arrmean, div, out=arrmean, casting='unsafe',\n",
      "/home/mischa/miniconda3/envs/bf/lib/python3.10/site-packages/numpy/core/_methods.py:257: RuntimeWarning: invalid value encountered in divide\n",
      "  ret = ret.dtype.type(ret / rcount)\n"
     ]
    },
    {
     "name": "stdout",
     "output_type": "stream",
     "text": [
      "2010iat2.txt done\n",
      "Initial shape: 50770\n",
      "After removing no age IDs: 32162\n",
      "After removing invalid IDs: 32162\n",
      "After excluding zero latency IDs: 31977\n",
      "After excluding != 120 trials IDs: 31735\n",
      "After excluding more than 50% error IDs: 31697\n",
      "After excluding zero error IDs: 30667\n",
      "Successfully read datafile 2010iat3.txt .\n",
      "Converting to X and y arrays...\n",
      "IDs with less than 20 trials <200 ms or >10 seconds: (30529, 120, 3)\n",
      "IDs with 60 trials for each condition, 60 trials for both picture and word stimuli: (30529, 120, 3)\n",
      "Final shape of RTs chunk (after once more excluding cases w/ missing age or trials):  (30529, 120, 4)\n",
      "Final shape of outcomes chunk:  (30529, 120, 4)\n"
     ]
    },
    {
     "name": "stderr",
     "output_type": "stream",
     "text": [
      "/home/mischa/miniconda3/envs/bf/lib/python3.10/site-packages/numpy/core/fromnumeric.py:3432: RuntimeWarning: Mean of empty slice.\n",
      "  return _methods._mean(a, axis=axis, dtype=dtype,\n",
      "/home/mischa/miniconda3/envs/bf/lib/python3.10/site-packages/numpy/core/_methods.py:190: RuntimeWarning: invalid value encountered in divide\n",
      "  ret = ret.dtype.type(ret / rcount)\n",
      "/home/mischa/miniconda3/envs/bf/lib/python3.10/site-packages/numpy/core/_methods.py:265: RuntimeWarning: Degrees of freedom <= 0 for slice\n",
      "  ret = _var(a, axis=axis, dtype=dtype, out=out, ddof=ddof,\n",
      "/home/mischa/miniconda3/envs/bf/lib/python3.10/site-packages/numpy/core/_methods.py:223: RuntimeWarning: invalid value encountered in divide\n",
      "  arrmean = um.true_divide(arrmean, div, out=arrmean, casting='unsafe',\n",
      "/home/mischa/miniconda3/envs/bf/lib/python3.10/site-packages/numpy/core/_methods.py:257: RuntimeWarning: invalid value encountered in divide\n",
      "  ret = ret.dtype.type(ret / rcount)\n"
     ]
    },
    {
     "name": "stdout",
     "output_type": "stream",
     "text": [
      "2010iat3.txt done\n",
      "Initial shape: 50721\n",
      "After removing no age IDs: 34066\n",
      "After removing invalid IDs: 34066\n",
      "After excluding zero latency IDs: 33943\n",
      "After excluding != 120 trials IDs: 33712\n",
      "After excluding more than 50% error IDs: 33682\n",
      "After excluding zero error IDs: 32433\n",
      "Successfully read datafile 2010iat4.txt .\n",
      "Converting to X and y arrays...\n",
      "IDs with less than 20 trials <200 ms or >10 seconds: (32277, 120, 3)\n",
      "IDs with 60 trials for each condition, 60 trials for both picture and word stimuli: (32276, 120, 3)\n",
      "Final shape of RTs chunk (after once more excluding cases w/ missing age or trials):  (32276, 120, 4)\n",
      "Final shape of outcomes chunk:  (32276, 120, 4)\n"
     ]
    },
    {
     "name": "stderr",
     "output_type": "stream",
     "text": [
      "/home/mischa/miniconda3/envs/bf/lib/python3.10/site-packages/numpy/core/fromnumeric.py:3432: RuntimeWarning: Mean of empty slice.\n",
      "  return _methods._mean(a, axis=axis, dtype=dtype,\n",
      "/home/mischa/miniconda3/envs/bf/lib/python3.10/site-packages/numpy/core/_methods.py:190: RuntimeWarning: invalid value encountered in divide\n",
      "  ret = ret.dtype.type(ret / rcount)\n",
      "/home/mischa/miniconda3/envs/bf/lib/python3.10/site-packages/numpy/core/_methods.py:265: RuntimeWarning: Degrees of freedom <= 0 for slice\n",
      "  ret = _var(a, axis=axis, dtype=dtype, out=out, ddof=ddof,\n",
      "/home/mischa/miniconda3/envs/bf/lib/python3.10/site-packages/numpy/core/_methods.py:223: RuntimeWarning: invalid value encountered in divide\n",
      "  arrmean = um.true_divide(arrmean, div, out=arrmean, casting='unsafe',\n",
      "/home/mischa/miniconda3/envs/bf/lib/python3.10/site-packages/numpy/core/_methods.py:257: RuntimeWarning: invalid value encountered in divide\n",
      "  ret = ret.dtype.type(ret / rcount)\n"
     ]
    },
    {
     "name": "stdout",
     "output_type": "stream",
     "text": [
      "2010iat4.txt done\n",
      "Initial shape: 50735\n",
      "After removing no age IDs: 31666\n",
      "After removing invalid IDs: 31666\n",
      "After excluding zero latency IDs: 31568\n",
      "After excluding != 120 trials IDs: 31329\n",
      "After excluding more than 50% error IDs: 31301\n",
      "After excluding zero error IDs: 30398\n",
      "Successfully read datafile 2010iat5.txt .\n",
      "Converting to X and y arrays...\n",
      "IDs with less than 20 trials <200 ms or >10 seconds: (30176, 120, 3)\n",
      "IDs with 60 trials for each condition, 60 trials for both picture and word stimuli: (30176, 120, 3)\n",
      "Final shape of RTs chunk (after once more excluding cases w/ missing age or trials):  (30176, 120, 4)\n",
      "Final shape of outcomes chunk:  (30176, 120, 4)\n"
     ]
    },
    {
     "name": "stderr",
     "output_type": "stream",
     "text": [
      "/home/mischa/miniconda3/envs/bf/lib/python3.10/site-packages/numpy/core/fromnumeric.py:3432: RuntimeWarning: Mean of empty slice.\n",
      "  return _methods._mean(a, axis=axis, dtype=dtype,\n",
      "/home/mischa/miniconda3/envs/bf/lib/python3.10/site-packages/numpy/core/_methods.py:190: RuntimeWarning: invalid value encountered in divide\n",
      "  ret = ret.dtype.type(ret / rcount)\n",
      "/home/mischa/miniconda3/envs/bf/lib/python3.10/site-packages/numpy/core/_methods.py:265: RuntimeWarning: Degrees of freedom <= 0 for slice\n",
      "  ret = _var(a, axis=axis, dtype=dtype, out=out, ddof=ddof,\n",
      "/home/mischa/miniconda3/envs/bf/lib/python3.10/site-packages/numpy/core/_methods.py:223: RuntimeWarning: invalid value encountered in divide\n",
      "  arrmean = um.true_divide(arrmean, div, out=arrmean, casting='unsafe',\n",
      "/home/mischa/miniconda3/envs/bf/lib/python3.10/site-packages/numpy/core/_methods.py:257: RuntimeWarning: invalid value encountered in divide\n",
      "  ret = ret.dtype.type(ret / rcount)\n"
     ]
    },
    {
     "name": "stdout",
     "output_type": "stream",
     "text": [
      "2010iat5.txt done\n",
      "Initial shape: 41355\n",
      "After removing no age IDs: 25573\n",
      "After removing invalid IDs: 25573\n",
      "After excluding zero latency IDs: 25485\n",
      "After excluding != 120 trials IDs: 25290\n",
      "After excluding more than 50% error IDs: 25266\n",
      "After excluding zero error IDs: 24502\n",
      "Successfully read datafile 2010iat6.txt .\n",
      "Converting to X and y arrays...\n",
      "IDs with less than 20 trials <200 ms or >10 seconds: (24332, 120, 3)\n",
      "IDs with 60 trials for each condition, 60 trials for both picture and word stimuli: (24332, 120, 3)\n",
      "Final shape of RTs chunk (after once more excluding cases w/ missing age or trials):  (24332, 120, 4)\n",
      "Final shape of outcomes chunk:  (24332, 120, 4)\n"
     ]
    },
    {
     "name": "stderr",
     "output_type": "stream",
     "text": [
      "/home/mischa/miniconda3/envs/bf/lib/python3.10/site-packages/numpy/core/fromnumeric.py:3432: RuntimeWarning: Mean of empty slice.\n",
      "  return _methods._mean(a, axis=axis, dtype=dtype,\n",
      "/home/mischa/miniconda3/envs/bf/lib/python3.10/site-packages/numpy/core/_methods.py:190: RuntimeWarning: invalid value encountered in divide\n",
      "  ret = ret.dtype.type(ret / rcount)\n",
      "/home/mischa/miniconda3/envs/bf/lib/python3.10/site-packages/numpy/core/_methods.py:265: RuntimeWarning: Degrees of freedom <= 0 for slice\n",
      "  ret = _var(a, axis=axis, dtype=dtype, out=out, ddof=ddof,\n",
      "/home/mischa/miniconda3/envs/bf/lib/python3.10/site-packages/numpy/core/_methods.py:223: RuntimeWarning: invalid value encountered in divide\n",
      "  arrmean = um.true_divide(arrmean, div, out=arrmean, casting='unsafe',\n",
      "/home/mischa/miniconda3/envs/bf/lib/python3.10/site-packages/numpy/core/_methods.py:257: RuntimeWarning: invalid value encountered in divide\n",
      "  ret = ret.dtype.type(ret / rcount)\n"
     ]
    },
    {
     "name": "stdout",
     "output_type": "stream",
     "text": [
      "2010iat6.txt done\n",
      "Initial shape: 50758\n",
      "After removing no age IDs: 32461\n",
      "After removing invalid IDs: 32461\n",
      "After excluding zero latency IDs: 32367\n",
      "After excluding != 120 trials IDs: 32130\n",
      "After excluding more than 50% error IDs: 32103\n",
      "After excluding zero error IDs: 31059\n",
      "Successfully read datafile 2011iat.txt .\n",
      "Converting to X and y arrays...\n",
      "IDs with less than 20 trials <200 ms or >10 seconds: (30818, 120, 3)\n",
      "IDs with 60 trials for each condition, 60 trials for both picture and word stimuli: (30818, 120, 3)\n",
      "Final shape of RTs chunk (after once more excluding cases w/ missing age or trials):  (30818, 120, 4)\n",
      "Final shape of outcomes chunk:  (30818, 120, 4)\n"
     ]
    },
    {
     "name": "stderr",
     "output_type": "stream",
     "text": [
      "/home/mischa/miniconda3/envs/bf/lib/python3.10/site-packages/numpy/core/fromnumeric.py:3432: RuntimeWarning: Mean of empty slice.\n",
      "  return _methods._mean(a, axis=axis, dtype=dtype,\n",
      "/home/mischa/miniconda3/envs/bf/lib/python3.10/site-packages/numpy/core/_methods.py:190: RuntimeWarning: invalid value encountered in divide\n",
      "  ret = ret.dtype.type(ret / rcount)\n",
      "/home/mischa/miniconda3/envs/bf/lib/python3.10/site-packages/numpy/core/_methods.py:265: RuntimeWarning: Degrees of freedom <= 0 for slice\n",
      "  ret = _var(a, axis=axis, dtype=dtype, out=out, ddof=ddof,\n",
      "/home/mischa/miniconda3/envs/bf/lib/python3.10/site-packages/numpy/core/_methods.py:223: RuntimeWarning: invalid value encountered in divide\n",
      "  arrmean = um.true_divide(arrmean, div, out=arrmean, casting='unsafe',\n",
      "/home/mischa/miniconda3/envs/bf/lib/python3.10/site-packages/numpy/core/_methods.py:257: RuntimeWarning: invalid value encountered in divide\n",
      "  ret = ret.dtype.type(ret / rcount)\n"
     ]
    },
    {
     "name": "stdout",
     "output_type": "stream",
     "text": [
      "2011iat.txt done\n",
      "Initial shape: 50863\n",
      "After removing no age IDs: 31273\n",
      "After removing invalid IDs: 31273\n",
      "After excluding zero latency IDs: 31184\n",
      "After excluding != 120 trials IDs: 30912\n",
      "After excluding more than 50% error IDs: 30875\n",
      "After excluding zero error IDs: 29968\n",
      "Successfully read datafile 2011iat2.txt .\n",
      "Converting to X and y arrays...\n",
      "IDs with less than 20 trials <200 ms or >10 seconds: (29727, 120, 3)\n",
      "IDs with 60 trials for each condition, 60 trials for both picture and word stimuli: (29727, 120, 3)\n",
      "Final shape of RTs chunk (after once more excluding cases w/ missing age or trials):  (29727, 120, 4)\n",
      "Final shape of outcomes chunk:  (29727, 120, 4)\n"
     ]
    },
    {
     "name": "stderr",
     "output_type": "stream",
     "text": [
      "/home/mischa/miniconda3/envs/bf/lib/python3.10/site-packages/numpy/core/fromnumeric.py:3432: RuntimeWarning: Mean of empty slice.\n",
      "  return _methods._mean(a, axis=axis, dtype=dtype,\n",
      "/home/mischa/miniconda3/envs/bf/lib/python3.10/site-packages/numpy/core/_methods.py:190: RuntimeWarning: invalid value encountered in divide\n",
      "  ret = ret.dtype.type(ret / rcount)\n",
      "/home/mischa/miniconda3/envs/bf/lib/python3.10/site-packages/numpy/core/_methods.py:265: RuntimeWarning: Degrees of freedom <= 0 for slice\n",
      "  ret = _var(a, axis=axis, dtype=dtype, out=out, ddof=ddof,\n",
      "/home/mischa/miniconda3/envs/bf/lib/python3.10/site-packages/numpy/core/_methods.py:223: RuntimeWarning: invalid value encountered in divide\n",
      "  arrmean = um.true_divide(arrmean, div, out=arrmean, casting='unsafe',\n",
      "/home/mischa/miniconda3/envs/bf/lib/python3.10/site-packages/numpy/core/_methods.py:257: RuntimeWarning: invalid value encountered in divide\n",
      "  ret = ret.dtype.type(ret / rcount)\n"
     ]
    },
    {
     "name": "stdout",
     "output_type": "stream",
     "text": [
      "2011iat2.txt done\n",
      "Initial shape: 50822\n",
      "After removing no age IDs: 32046\n",
      "After removing invalid IDs: 32046\n",
      "After excluding zero latency IDs: 31971\n",
      "After excluding != 120 trials IDs: 31700\n",
      "After excluding more than 50% error IDs: 31659\n",
      "After excluding zero error IDs: 30583\n",
      "Successfully read datafile 2011iat3.txt .\n",
      "Converting to X and y arrays...\n",
      "IDs with less than 20 trials <200 ms or >10 seconds: (30317, 120, 3)\n",
      "IDs with 60 trials for each condition, 60 trials for both picture and word stimuli: (30317, 120, 3)\n",
      "Final shape of RTs chunk (after once more excluding cases w/ missing age or trials):  (30317, 120, 4)\n",
      "Final shape of outcomes chunk:  (30317, 120, 4)\n"
     ]
    },
    {
     "name": "stderr",
     "output_type": "stream",
     "text": [
      "/home/mischa/miniconda3/envs/bf/lib/python3.10/site-packages/numpy/core/fromnumeric.py:3432: RuntimeWarning: Mean of empty slice.\n",
      "  return _methods._mean(a, axis=axis, dtype=dtype,\n",
      "/home/mischa/miniconda3/envs/bf/lib/python3.10/site-packages/numpy/core/_methods.py:190: RuntimeWarning: invalid value encountered in divide\n",
      "  ret = ret.dtype.type(ret / rcount)\n",
      "/home/mischa/miniconda3/envs/bf/lib/python3.10/site-packages/numpy/core/_methods.py:265: RuntimeWarning: Degrees of freedom <= 0 for slice\n",
      "  ret = _var(a, axis=axis, dtype=dtype, out=out, ddof=ddof,\n",
      "/home/mischa/miniconda3/envs/bf/lib/python3.10/site-packages/numpy/core/_methods.py:223: RuntimeWarning: invalid value encountered in divide\n",
      "  arrmean = um.true_divide(arrmean, div, out=arrmean, casting='unsafe',\n",
      "/home/mischa/miniconda3/envs/bf/lib/python3.10/site-packages/numpy/core/_methods.py:257: RuntimeWarning: invalid value encountered in divide\n",
      "  ret = ret.dtype.type(ret / rcount)\n"
     ]
    },
    {
     "name": "stdout",
     "output_type": "stream",
     "text": [
      "2011iat3.txt done\n",
      "Initial shape: 50768\n",
      "After removing no age IDs: 33593\n",
      "After removing invalid IDs: 33593\n",
      "After excluding zero latency IDs: 33545\n",
      "After excluding != 120 trials IDs: 33199\n",
      "After excluding more than 50% error IDs: 33165\n",
      "After excluding zero error IDs: 32086\n",
      "Successfully read datafile 2011iat4.txt .\n",
      "Converting to X and y arrays...\n",
      "IDs with less than 20 trials <200 ms or >10 seconds: (31823, 120, 3)\n",
      "IDs with 60 trials for each condition, 60 trials for both picture and word stimuli: (31823, 120, 3)\n",
      "Final shape of RTs chunk (after once more excluding cases w/ missing age or trials):  (31823, 120, 4)\n",
      "Final shape of outcomes chunk:  (31823, 120, 4)\n"
     ]
    },
    {
     "name": "stderr",
     "output_type": "stream",
     "text": [
      "/home/mischa/miniconda3/envs/bf/lib/python3.10/site-packages/numpy/core/fromnumeric.py:3432: RuntimeWarning: Mean of empty slice.\n",
      "  return _methods._mean(a, axis=axis, dtype=dtype,\n",
      "/home/mischa/miniconda3/envs/bf/lib/python3.10/site-packages/numpy/core/_methods.py:190: RuntimeWarning: invalid value encountered in divide\n",
      "  ret = ret.dtype.type(ret / rcount)\n",
      "/home/mischa/miniconda3/envs/bf/lib/python3.10/site-packages/numpy/core/_methods.py:265: RuntimeWarning: Degrees of freedom <= 0 for slice\n",
      "  ret = _var(a, axis=axis, dtype=dtype, out=out, ddof=ddof,\n",
      "/home/mischa/miniconda3/envs/bf/lib/python3.10/site-packages/numpy/core/_methods.py:223: RuntimeWarning: invalid value encountered in divide\n",
      "  arrmean = um.true_divide(arrmean, div, out=arrmean, casting='unsafe',\n",
      "/home/mischa/miniconda3/envs/bf/lib/python3.10/site-packages/numpy/core/_methods.py:257: RuntimeWarning: invalid value encountered in divide\n",
      "  ret = ret.dtype.type(ret / rcount)\n"
     ]
    },
    {
     "name": "stdout",
     "output_type": "stream",
     "text": [
      "2011iat4.txt done\n",
      "Initial shape: 50792\n",
      "After removing no age IDs: 31833\n",
      "After removing invalid IDs: 31833\n",
      "After excluding zero latency IDs: 31762\n",
      "After excluding != 120 trials IDs: 31466\n",
      "After excluding more than 50% error IDs: 31427\n",
      "After excluding zero error IDs: 30619\n",
      "Successfully read datafile 2011iat5.txt .\n",
      "Converting to X and y arrays...\n",
      "IDs with less than 20 trials <200 ms or >10 seconds: (30397, 120, 3)\n",
      "IDs with 60 trials for each condition, 60 trials for both picture and word stimuli: (30397, 120, 3)\n",
      "Final shape of RTs chunk (after once more excluding cases w/ missing age or trials):  (30397, 120, 4)\n",
      "Final shape of outcomes chunk:  (30397, 120, 4)\n"
     ]
    },
    {
     "name": "stderr",
     "output_type": "stream",
     "text": [
      "/home/mischa/miniconda3/envs/bf/lib/python3.10/site-packages/numpy/core/fromnumeric.py:3432: RuntimeWarning: Mean of empty slice.\n",
      "  return _methods._mean(a, axis=axis, dtype=dtype,\n",
      "/home/mischa/miniconda3/envs/bf/lib/python3.10/site-packages/numpy/core/_methods.py:190: RuntimeWarning: invalid value encountered in divide\n",
      "  ret = ret.dtype.type(ret / rcount)\n",
      "/home/mischa/miniconda3/envs/bf/lib/python3.10/site-packages/numpy/core/_methods.py:265: RuntimeWarning: Degrees of freedom <= 0 for slice\n",
      "  ret = _var(a, axis=axis, dtype=dtype, out=out, ddof=ddof,\n",
      "/home/mischa/miniconda3/envs/bf/lib/python3.10/site-packages/numpy/core/_methods.py:223: RuntimeWarning: invalid value encountered in divide\n",
      "  arrmean = um.true_divide(arrmean, div, out=arrmean, casting='unsafe',\n",
      "/home/mischa/miniconda3/envs/bf/lib/python3.10/site-packages/numpy/core/_methods.py:257: RuntimeWarning: invalid value encountered in divide\n",
      "  ret = ret.dtype.type(ret / rcount)\n"
     ]
    },
    {
     "name": "stdout",
     "output_type": "stream",
     "text": [
      "2011iat5.txt done\n",
      "Initial shape: 23429\n",
      "After removing no age IDs: 13980\n",
      "After removing invalid IDs: 13980\n",
      "After excluding zero latency IDs: 13937\n",
      "After excluding != 120 trials IDs: 13808\n",
      "After excluding more than 50% error IDs: 13783\n",
      "After excluding zero error IDs: 13438\n",
      "Successfully read datafile 2011iat6.txt .\n",
      "Converting to X and y arrays...\n",
      "IDs with less than 20 trials <200 ms or >10 seconds: (13315, 120, 3)\n",
      "IDs with 60 trials for each condition, 60 trials for both picture and word stimuli: (13315, 120, 3)\n",
      "Final shape of RTs chunk (after once more excluding cases w/ missing age or trials):  (13315, 120, 4)\n",
      "Final shape of outcomes chunk:  (13315, 120, 4)\n"
     ]
    },
    {
     "name": "stderr",
     "output_type": "stream",
     "text": [
      "/home/mischa/miniconda3/envs/bf/lib/python3.10/site-packages/numpy/core/fromnumeric.py:3432: RuntimeWarning: Mean of empty slice.\n",
      "  return _methods._mean(a, axis=axis, dtype=dtype,\n",
      "/home/mischa/miniconda3/envs/bf/lib/python3.10/site-packages/numpy/core/_methods.py:190: RuntimeWarning: invalid value encountered in divide\n",
      "  ret = ret.dtype.type(ret / rcount)\n",
      "/home/mischa/miniconda3/envs/bf/lib/python3.10/site-packages/numpy/core/_methods.py:265: RuntimeWarning: Degrees of freedom <= 0 for slice\n",
      "  ret = _var(a, axis=axis, dtype=dtype, out=out, ddof=ddof,\n",
      "/home/mischa/miniconda3/envs/bf/lib/python3.10/site-packages/numpy/core/_methods.py:223: RuntimeWarning: invalid value encountered in divide\n",
      "  arrmean = um.true_divide(arrmean, div, out=arrmean, casting='unsafe',\n",
      "/home/mischa/miniconda3/envs/bf/lib/python3.10/site-packages/numpy/core/_methods.py:257: RuntimeWarning: invalid value encountered in divide\n",
      "  ret = ret.dtype.type(ret / rcount)\n"
     ]
    },
    {
     "name": "stdout",
     "output_type": "stream",
     "text": [
      "2011iat6.txt done\n",
      "Initial shape: 48555\n",
      "After removing no age IDs: 22395\n",
      "After removing invalid IDs: 22395\n",
      "After excluding zero latency IDs: 22365\n",
      "After excluding != 120 trials IDs: 22156\n",
      "After excluding more than 50% error IDs: 22140\n",
      "After excluding zero error IDs: 21491\n",
      "Successfully read datafile 2012iat.txt .\n",
      "Converting to X and y arrays...\n",
      "IDs with less than 20 trials <200 ms or >10 seconds: (21275, 120, 3)\n",
      "IDs with 60 trials for each condition, 60 trials for both picture and word stimuli: (21275, 120, 3)\n",
      "Final shape of RTs chunk (after once more excluding cases w/ missing age or trials):  (21275, 120, 4)\n",
      "Final shape of outcomes chunk:  (21275, 120, 4)\n"
     ]
    },
    {
     "name": "stderr",
     "output_type": "stream",
     "text": [
      "/home/mischa/miniconda3/envs/bf/lib/python3.10/site-packages/numpy/core/fromnumeric.py:3432: RuntimeWarning: Mean of empty slice.\n",
      "  return _methods._mean(a, axis=axis, dtype=dtype,\n",
      "/home/mischa/miniconda3/envs/bf/lib/python3.10/site-packages/numpy/core/_methods.py:190: RuntimeWarning: invalid value encountered in divide\n",
      "  ret = ret.dtype.type(ret / rcount)\n",
      "/home/mischa/miniconda3/envs/bf/lib/python3.10/site-packages/numpy/core/_methods.py:265: RuntimeWarning: Degrees of freedom <= 0 for slice\n",
      "  ret = _var(a, axis=axis, dtype=dtype, out=out, ddof=ddof,\n",
      "/home/mischa/miniconda3/envs/bf/lib/python3.10/site-packages/numpy/core/_methods.py:223: RuntimeWarning: invalid value encountered in divide\n",
      "  arrmean = um.true_divide(arrmean, div, out=arrmean, casting='unsafe',\n",
      "/home/mischa/miniconda3/envs/bf/lib/python3.10/site-packages/numpy/core/_methods.py:257: RuntimeWarning: invalid value encountered in divide\n",
      "  ret = ret.dtype.type(ret / rcount)\n"
     ]
    },
    {
     "name": "stdout",
     "output_type": "stream",
     "text": [
      "2012iat.txt done\n",
      "Initial shape: 51088\n",
      "After removing no age IDs: 29128\n",
      "After removing invalid IDs: 29128\n",
      "After excluding zero latency IDs: 29088\n",
      "After excluding != 120 trials IDs: 28807\n",
      "After excluding more than 50% error IDs: 28786\n",
      "After excluding zero error IDs: 27774\n",
      "Successfully read datafile 2012iat2.txt .\n",
      "Converting to X and y arrays...\n",
      "IDs with less than 20 trials <200 ms or >10 seconds: (27539, 120, 3)\n",
      "IDs with 60 trials for each condition, 60 trials for both picture and word stimuli: (27539, 120, 3)\n",
      "Final shape of RTs chunk (after once more excluding cases w/ missing age or trials):  (27539, 120, 4)\n",
      "Final shape of outcomes chunk:  (27539, 120, 4)\n"
     ]
    },
    {
     "name": "stderr",
     "output_type": "stream",
     "text": [
      "/home/mischa/miniconda3/envs/bf/lib/python3.10/site-packages/numpy/core/fromnumeric.py:3432: RuntimeWarning: Mean of empty slice.\n",
      "  return _methods._mean(a, axis=axis, dtype=dtype,\n",
      "/home/mischa/miniconda3/envs/bf/lib/python3.10/site-packages/numpy/core/_methods.py:190: RuntimeWarning: invalid value encountered in divide\n",
      "  ret = ret.dtype.type(ret / rcount)\n",
      "/home/mischa/miniconda3/envs/bf/lib/python3.10/site-packages/numpy/core/_methods.py:265: RuntimeWarning: Degrees of freedom <= 0 for slice\n",
      "  ret = _var(a, axis=axis, dtype=dtype, out=out, ddof=ddof,\n",
      "/home/mischa/miniconda3/envs/bf/lib/python3.10/site-packages/numpy/core/_methods.py:223: RuntimeWarning: invalid value encountered in divide\n",
      "  arrmean = um.true_divide(arrmean, div, out=arrmean, casting='unsafe',\n",
      "/home/mischa/miniconda3/envs/bf/lib/python3.10/site-packages/numpy/core/_methods.py:257: RuntimeWarning: invalid value encountered in divide\n",
      "  ret = ret.dtype.type(ret / rcount)\n"
     ]
    },
    {
     "name": "stdout",
     "output_type": "stream",
     "text": [
      "2012iat2.txt done\n",
      "Initial shape: 50939\n",
      "After removing no age IDs: 4737\n",
      "After removing invalid IDs: 4737\n",
      "After excluding zero latency IDs: 4731\n",
      "After excluding != 120 trials IDs: 4696\n",
      "After excluding more than 50% error IDs: 4686\n",
      "After excluding zero error IDs: 4529\n",
      "Successfully read datafile 2012iat3.txt .\n",
      "Converting to X and y arrays...\n",
      "IDs with less than 20 trials <200 ms or >10 seconds: (4497, 120, 3)\n",
      "IDs with 60 trials for each condition, 60 trials for both picture and word stimuli: (4497, 120, 3)\n",
      "Final shape of RTs chunk (after once more excluding cases w/ missing age or trials):  (4497, 120, 4)\n",
      "Final shape of outcomes chunk:  (4497, 120, 4)\n"
     ]
    },
    {
     "name": "stderr",
     "output_type": "stream",
     "text": [
      "/home/mischa/miniconda3/envs/bf/lib/python3.10/site-packages/numpy/core/fromnumeric.py:3432: RuntimeWarning: Mean of empty slice.\n",
      "  return _methods._mean(a, axis=axis, dtype=dtype,\n",
      "/home/mischa/miniconda3/envs/bf/lib/python3.10/site-packages/numpy/core/_methods.py:190: RuntimeWarning: invalid value encountered in divide\n",
      "  ret = ret.dtype.type(ret / rcount)\n",
      "/home/mischa/miniconda3/envs/bf/lib/python3.10/site-packages/numpy/core/_methods.py:265: RuntimeWarning: Degrees of freedom <= 0 for slice\n",
      "  ret = _var(a, axis=axis, dtype=dtype, out=out, ddof=ddof,\n",
      "/home/mischa/miniconda3/envs/bf/lib/python3.10/site-packages/numpy/core/_methods.py:223: RuntimeWarning: invalid value encountered in divide\n",
      "  arrmean = um.true_divide(arrmean, div, out=arrmean, casting='unsafe',\n",
      "/home/mischa/miniconda3/envs/bf/lib/python3.10/site-packages/numpy/core/_methods.py:257: RuntimeWarning: invalid value encountered in divide\n",
      "  ret = ret.dtype.type(ret / rcount)\n"
     ]
    },
    {
     "name": "stdout",
     "output_type": "stream",
     "text": [
      "2012iat3.txt done\n",
      "Initial shape: 50796\n",
      "After removing no age IDs: 32726\n",
      "After removing invalid IDs: 32726\n",
      "After excluding zero latency IDs: 32682\n",
      "After excluding != 120 trials IDs: 32409\n",
      "After excluding more than 50% error IDs: 32377\n",
      "After excluding zero error IDs: 31303\n",
      "Successfully read datafile 2012iat4.txt .\n",
      "Converting to X and y arrays...\n",
      "IDs with less than 20 trials <200 ms or >10 seconds: (31105, 120, 3)\n",
      "IDs with 60 trials for each condition, 60 trials for both picture and word stimuli: (31105, 120, 3)\n",
      "Final shape of RTs chunk (after once more excluding cases w/ missing age or trials):  (31105, 120, 4)\n",
      "Final shape of outcomes chunk:  (31105, 120, 4)\n"
     ]
    },
    {
     "name": "stderr",
     "output_type": "stream",
     "text": [
      "/home/mischa/miniconda3/envs/bf/lib/python3.10/site-packages/numpy/core/fromnumeric.py:3432: RuntimeWarning: Mean of empty slice.\n",
      "  return _methods._mean(a, axis=axis, dtype=dtype,\n",
      "/home/mischa/miniconda3/envs/bf/lib/python3.10/site-packages/numpy/core/_methods.py:190: RuntimeWarning: invalid value encountered in divide\n",
      "  ret = ret.dtype.type(ret / rcount)\n",
      "/home/mischa/miniconda3/envs/bf/lib/python3.10/site-packages/numpy/core/_methods.py:265: RuntimeWarning: Degrees of freedom <= 0 for slice\n",
      "  ret = _var(a, axis=axis, dtype=dtype, out=out, ddof=ddof,\n",
      "/home/mischa/miniconda3/envs/bf/lib/python3.10/site-packages/numpy/core/_methods.py:223: RuntimeWarning: invalid value encountered in divide\n",
      "  arrmean = um.true_divide(arrmean, div, out=arrmean, casting='unsafe',\n",
      "/home/mischa/miniconda3/envs/bf/lib/python3.10/site-packages/numpy/core/_methods.py:257: RuntimeWarning: invalid value encountered in divide\n",
      "  ret = ret.dtype.type(ret / rcount)\n"
     ]
    },
    {
     "name": "stdout",
     "output_type": "stream",
     "text": [
      "2012iat4.txt done\n",
      "Initial shape: 50700\n",
      "After removing no age IDs: 32395\n",
      "After removing invalid IDs: 32395\n",
      "After excluding zero latency IDs: 32337\n",
      "After excluding != 120 trials IDs: 32055\n",
      "After excluding more than 50% error IDs: 32018\n",
      "After excluding zero error IDs: 31110\n",
      "Successfully read datafile 2012iat5.txt .\n",
      "Converting to X and y arrays...\n",
      "IDs with less than 20 trials <200 ms or >10 seconds: (30878, 120, 3)\n",
      "IDs with 60 trials for each condition, 60 trials for both picture and word stimuli: (30878, 120, 3)\n",
      "Final shape of RTs chunk (after once more excluding cases w/ missing age or trials):  (30878, 120, 4)\n",
      "Final shape of outcomes chunk:  (30878, 120, 4)\n"
     ]
    },
    {
     "name": "stderr",
     "output_type": "stream",
     "text": [
      "/home/mischa/miniconda3/envs/bf/lib/python3.10/site-packages/numpy/core/fromnumeric.py:3432: RuntimeWarning: Mean of empty slice.\n",
      "  return _methods._mean(a, axis=axis, dtype=dtype,\n",
      "/home/mischa/miniconda3/envs/bf/lib/python3.10/site-packages/numpy/core/_methods.py:190: RuntimeWarning: invalid value encountered in divide\n",
      "  ret = ret.dtype.type(ret / rcount)\n",
      "/home/mischa/miniconda3/envs/bf/lib/python3.10/site-packages/numpy/core/_methods.py:265: RuntimeWarning: Degrees of freedom <= 0 for slice\n",
      "  ret = _var(a, axis=axis, dtype=dtype, out=out, ddof=ddof,\n",
      "/home/mischa/miniconda3/envs/bf/lib/python3.10/site-packages/numpy/core/_methods.py:223: RuntimeWarning: invalid value encountered in divide\n",
      "  arrmean = um.true_divide(arrmean, div, out=arrmean, casting='unsafe',\n",
      "/home/mischa/miniconda3/envs/bf/lib/python3.10/site-packages/numpy/core/_methods.py:257: RuntimeWarning: invalid value encountered in divide\n",
      "  ret = ret.dtype.type(ret / rcount)\n"
     ]
    },
    {
     "name": "stdout",
     "output_type": "stream",
     "text": [
      "2012iat5.txt done\n",
      "Initial shape: 27879\n",
      "After removing no age IDs: 16988\n",
      "After removing invalid IDs: 16988\n",
      "After excluding zero latency IDs: 16958\n",
      "After excluding != 120 trials IDs: 16804\n",
      "After excluding more than 50% error IDs: 16785\n",
      "After excluding zero error IDs: 16326\n",
      "Successfully read datafile 2012iat6.txt .\n",
      "Converting to X and y arrays...\n",
      "IDs with less than 20 trials <200 ms or >10 seconds: (16215, 120, 3)\n",
      "IDs with 60 trials for each condition, 60 trials for both picture and word stimuli: (16215, 120, 3)\n",
      "Final shape of RTs chunk (after once more excluding cases w/ missing age or trials):  (16215, 120, 4)\n",
      "Final shape of outcomes chunk:  (16215, 120, 4)\n"
     ]
    },
    {
     "name": "stderr",
     "output_type": "stream",
     "text": [
      "/home/mischa/miniconda3/envs/bf/lib/python3.10/site-packages/numpy/core/fromnumeric.py:3432: RuntimeWarning: Mean of empty slice.\n",
      "  return _methods._mean(a, axis=axis, dtype=dtype,\n",
      "/home/mischa/miniconda3/envs/bf/lib/python3.10/site-packages/numpy/core/_methods.py:190: RuntimeWarning: invalid value encountered in divide\n",
      "  ret = ret.dtype.type(ret / rcount)\n",
      "/home/mischa/miniconda3/envs/bf/lib/python3.10/site-packages/numpy/core/_methods.py:265: RuntimeWarning: Degrees of freedom <= 0 for slice\n",
      "  ret = _var(a, axis=axis, dtype=dtype, out=out, ddof=ddof,\n",
      "/home/mischa/miniconda3/envs/bf/lib/python3.10/site-packages/numpy/core/_methods.py:223: RuntimeWarning: invalid value encountered in divide\n",
      "  arrmean = um.true_divide(arrmean, div, out=arrmean, casting='unsafe',\n",
      "/home/mischa/miniconda3/envs/bf/lib/python3.10/site-packages/numpy/core/_methods.py:257: RuntimeWarning: invalid value encountered in divide\n",
      "  ret = ret.dtype.type(ret / rcount)\n"
     ]
    },
    {
     "name": "stdout",
     "output_type": "stream",
     "text": [
      "2012iat6.txt done\n",
      "Initial shape: 50782\n",
      "After removing no age IDs: 32026\n",
      "After removing invalid IDs: 32026\n",
      "After excluding zero latency IDs: 31996\n",
      "After excluding != 120 trials IDs: 31744\n",
      "After excluding more than 50% error IDs: 31711\n",
      "After excluding zero error IDs: 30801\n",
      "Successfully read datafile 2013iat.txt .\n",
      "Converting to X and y arrays...\n",
      "IDs with less than 20 trials <200 ms or >10 seconds: (30571, 120, 3)\n",
      "IDs with 60 trials for each condition, 60 trials for both picture and word stimuli: (30571, 120, 3)\n",
      "Final shape of RTs chunk (after once more excluding cases w/ missing age or trials):  (30571, 120, 4)\n",
      "Final shape of outcomes chunk:  (30571, 120, 4)\n"
     ]
    },
    {
     "name": "stderr",
     "output_type": "stream",
     "text": [
      "/home/mischa/miniconda3/envs/bf/lib/python3.10/site-packages/numpy/core/fromnumeric.py:3432: RuntimeWarning: Mean of empty slice.\n",
      "  return _methods._mean(a, axis=axis, dtype=dtype,\n",
      "/home/mischa/miniconda3/envs/bf/lib/python3.10/site-packages/numpy/core/_methods.py:190: RuntimeWarning: invalid value encountered in divide\n",
      "  ret = ret.dtype.type(ret / rcount)\n",
      "/home/mischa/miniconda3/envs/bf/lib/python3.10/site-packages/numpy/core/_methods.py:265: RuntimeWarning: Degrees of freedom <= 0 for slice\n",
      "  ret = _var(a, axis=axis, dtype=dtype, out=out, ddof=ddof,\n",
      "/home/mischa/miniconda3/envs/bf/lib/python3.10/site-packages/numpy/core/_methods.py:223: RuntimeWarning: invalid value encountered in divide\n",
      "  arrmean = um.true_divide(arrmean, div, out=arrmean, casting='unsafe',\n",
      "/home/mischa/miniconda3/envs/bf/lib/python3.10/site-packages/numpy/core/_methods.py:257: RuntimeWarning: invalid value encountered in divide\n",
      "  ret = ret.dtype.type(ret / rcount)\n"
     ]
    },
    {
     "name": "stdout",
     "output_type": "stream",
     "text": [
      "2013iat.txt done\n",
      "Initial shape: 50738\n",
      "After removing no age IDs: 31391\n",
      "After removing invalid IDs: 31391\n",
      "After excluding zero latency IDs: 31354\n",
      "After excluding != 120 trials IDs: 31120\n",
      "After excluding more than 50% error IDs: 31076\n",
      "After excluding zero error IDs: 30206\n",
      "Successfully read datafile 2013iat2.txt .\n",
      "Converting to X and y arrays...\n",
      "IDs with less than 20 trials <200 ms or >10 seconds: (29972, 120, 3)\n",
      "IDs with 60 trials for each condition, 60 trials for both picture and word stimuli: (29972, 120, 3)\n",
      "Final shape of RTs chunk (after once more excluding cases w/ missing age or trials):  (29972, 120, 4)\n",
      "Final shape of outcomes chunk:  (29972, 120, 4)\n"
     ]
    },
    {
     "name": "stderr",
     "output_type": "stream",
     "text": [
      "/home/mischa/miniconda3/envs/bf/lib/python3.10/site-packages/numpy/core/fromnumeric.py:3432: RuntimeWarning: Mean of empty slice.\n",
      "  return _methods._mean(a, axis=axis, dtype=dtype,\n",
      "/home/mischa/miniconda3/envs/bf/lib/python3.10/site-packages/numpy/core/_methods.py:190: RuntimeWarning: invalid value encountered in divide\n",
      "  ret = ret.dtype.type(ret / rcount)\n",
      "/home/mischa/miniconda3/envs/bf/lib/python3.10/site-packages/numpy/core/_methods.py:265: RuntimeWarning: Degrees of freedom <= 0 for slice\n",
      "  ret = _var(a, axis=axis, dtype=dtype, out=out, ddof=ddof,\n",
      "/home/mischa/miniconda3/envs/bf/lib/python3.10/site-packages/numpy/core/_methods.py:223: RuntimeWarning: invalid value encountered in divide\n",
      "  arrmean = um.true_divide(arrmean, div, out=arrmean, casting='unsafe',\n",
      "/home/mischa/miniconda3/envs/bf/lib/python3.10/site-packages/numpy/core/_methods.py:257: RuntimeWarning: invalid value encountered in divide\n",
      "  ret = ret.dtype.type(ret / rcount)\n"
     ]
    },
    {
     "name": "stdout",
     "output_type": "stream",
     "text": [
      "2013iat2.txt done\n",
      "Initial shape: 41817\n",
      "After removing no age IDs: 17332\n",
      "After removing invalid IDs: 17332\n",
      "After excluding zero latency IDs: 17323\n",
      "After excluding != 120 trials IDs: 17212\n",
      "After excluding more than 50% error IDs: 17198\n",
      "After excluding zero error IDs: 16520\n",
      "Successfully read datafile 2013iat3.txt .\n",
      "Converting to X and y arrays...\n",
      "IDs with less than 20 trials <200 ms or >10 seconds: (16423, 120, 3)\n",
      "IDs with 60 trials for each condition, 60 trials for both picture and word stimuli: (16423, 120, 3)\n",
      "Final shape of RTs chunk (after once more excluding cases w/ missing age or trials):  (16423, 120, 4)\n",
      "Final shape of outcomes chunk:  (16423, 120, 4)\n"
     ]
    },
    {
     "name": "stderr",
     "output_type": "stream",
     "text": [
      "/home/mischa/miniconda3/envs/bf/lib/python3.10/site-packages/numpy/core/fromnumeric.py:3432: RuntimeWarning: Mean of empty slice.\n",
      "  return _methods._mean(a, axis=axis, dtype=dtype,\n",
      "/home/mischa/miniconda3/envs/bf/lib/python3.10/site-packages/numpy/core/_methods.py:190: RuntimeWarning: invalid value encountered in divide\n",
      "  ret = ret.dtype.type(ret / rcount)\n",
      "/home/mischa/miniconda3/envs/bf/lib/python3.10/site-packages/numpy/core/_methods.py:265: RuntimeWarning: Degrees of freedom <= 0 for slice\n",
      "  ret = _var(a, axis=axis, dtype=dtype, out=out, ddof=ddof,\n",
      "/home/mischa/miniconda3/envs/bf/lib/python3.10/site-packages/numpy/core/_methods.py:223: RuntimeWarning: invalid value encountered in divide\n",
      "  arrmean = um.true_divide(arrmean, div, out=arrmean, casting='unsafe',\n",
      "/home/mischa/miniconda3/envs/bf/lib/python3.10/site-packages/numpy/core/_methods.py:257: RuntimeWarning: invalid value encountered in divide\n",
      "  ret = ret.dtype.type(ret / rcount)\n"
     ]
    },
    {
     "name": "stdout",
     "output_type": "stream",
     "text": [
      "2013iat3.txt done\n",
      "Initial shape: 50664\n",
      "After removing no age IDs: 33012\n",
      "After removing invalid IDs: 33012\n",
      "After excluding zero latency IDs: 32991\n",
      "After excluding != 120 trials IDs: 32751\n",
      "After excluding more than 50% error IDs: 32715\n",
      "After excluding zero error IDs: 31777\n",
      "Successfully read datafile 2013iat4.txt .\n",
      "Converting to X and y arrays...\n",
      "IDs with less than 20 trials <200 ms or >10 seconds: (31561, 120, 3)\n",
      "IDs with 60 trials for each condition, 60 trials for both picture and word stimuli: (31561, 120, 3)\n",
      "Final shape of RTs chunk (after once more excluding cases w/ missing age or trials):  (31561, 120, 4)\n",
      "Final shape of outcomes chunk:  (31561, 120, 4)\n"
     ]
    },
    {
     "name": "stderr",
     "output_type": "stream",
     "text": [
      "/home/mischa/miniconda3/envs/bf/lib/python3.10/site-packages/numpy/core/fromnumeric.py:3432: RuntimeWarning: Mean of empty slice.\n",
      "  return _methods._mean(a, axis=axis, dtype=dtype,\n",
      "/home/mischa/miniconda3/envs/bf/lib/python3.10/site-packages/numpy/core/_methods.py:190: RuntimeWarning: invalid value encountered in divide\n",
      "  ret = ret.dtype.type(ret / rcount)\n",
      "/home/mischa/miniconda3/envs/bf/lib/python3.10/site-packages/numpy/core/_methods.py:265: RuntimeWarning: Degrees of freedom <= 0 for slice\n",
      "  ret = _var(a, axis=axis, dtype=dtype, out=out, ddof=ddof,\n",
      "/home/mischa/miniconda3/envs/bf/lib/python3.10/site-packages/numpy/core/_methods.py:223: RuntimeWarning: invalid value encountered in divide\n",
      "  arrmean = um.true_divide(arrmean, div, out=arrmean, casting='unsafe',\n",
      "/home/mischa/miniconda3/envs/bf/lib/python3.10/site-packages/numpy/core/_methods.py:257: RuntimeWarning: invalid value encountered in divide\n",
      "  ret = ret.dtype.type(ret / rcount)\n"
     ]
    },
    {
     "name": "stdout",
     "output_type": "stream",
     "text": [
      "2013iat4.txt done\n",
      "Initial shape: 50704\n",
      "After removing no age IDs: 31734\n",
      "After removing invalid IDs: 31734\n",
      "After excluding zero latency IDs: 31701\n",
      "After excluding != 120 trials IDs: 31478\n",
      "After excluding more than 50% error IDs: 31448\n",
      "After excluding zero error IDs: 30547\n",
      "Successfully read datafile 2013iat5.txt .\n",
      "Converting to X and y arrays...\n",
      "IDs with less than 20 trials <200 ms or >10 seconds: (30299, 120, 3)\n",
      "IDs with 60 trials for each condition, 60 trials for both picture and word stimuli: (30299, 120, 3)\n",
      "Final shape of RTs chunk (after once more excluding cases w/ missing age or trials):  (30299, 120, 4)\n",
      "Final shape of outcomes chunk:  (30299, 120, 4)\n"
     ]
    },
    {
     "name": "stderr",
     "output_type": "stream",
     "text": [
      "/home/mischa/miniconda3/envs/bf/lib/python3.10/site-packages/numpy/core/fromnumeric.py:3432: RuntimeWarning: Mean of empty slice.\n",
      "  return _methods._mean(a, axis=axis, dtype=dtype,\n",
      "/home/mischa/miniconda3/envs/bf/lib/python3.10/site-packages/numpy/core/_methods.py:190: RuntimeWarning: invalid value encountered in divide\n",
      "  ret = ret.dtype.type(ret / rcount)\n",
      "/home/mischa/miniconda3/envs/bf/lib/python3.10/site-packages/numpy/core/_methods.py:265: RuntimeWarning: Degrees of freedom <= 0 for slice\n",
      "  ret = _var(a, axis=axis, dtype=dtype, out=out, ddof=ddof,\n",
      "/home/mischa/miniconda3/envs/bf/lib/python3.10/site-packages/numpy/core/_methods.py:223: RuntimeWarning: invalid value encountered in divide\n",
      "  arrmean = um.true_divide(arrmean, div, out=arrmean, casting='unsafe',\n",
      "/home/mischa/miniconda3/envs/bf/lib/python3.10/site-packages/numpy/core/_methods.py:257: RuntimeWarning: invalid value encountered in divide\n",
      "  ret = ret.dtype.type(ret / rcount)\n"
     ]
    },
    {
     "name": "stdout",
     "output_type": "stream",
     "text": [
      "2013iat5.txt done\n",
      "Initial shape: 3015\n",
      "After removing no age IDs: 1684\n",
      "After removing invalid IDs: 1684\n",
      "After excluding zero latency IDs: 1681\n",
      "After excluding != 120 trials IDs: 1669\n",
      "After excluding more than 50% error IDs: 1668\n",
      "After excluding zero error IDs: 1606\n",
      "Successfully read datafile 2013iat6.txt .\n",
      "Converting to X and y arrays...\n",
      "IDs with less than 20 trials <200 ms or >10 seconds: (1592, 120, 3)\n",
      "IDs with 60 trials for each condition, 60 trials for both picture and word stimuli: (1592, 120, 3)\n",
      "Final shape of RTs chunk (after once more excluding cases w/ missing age or trials):  (1592, 120, 4)\n",
      "Final shape of outcomes chunk:  (1592, 120, 4)\n"
     ]
    },
    {
     "name": "stderr",
     "output_type": "stream",
     "text": [
      "/home/mischa/miniconda3/envs/bf/lib/python3.10/site-packages/numpy/core/fromnumeric.py:3432: RuntimeWarning: Mean of empty slice.\n",
      "  return _methods._mean(a, axis=axis, dtype=dtype,\n",
      "/home/mischa/miniconda3/envs/bf/lib/python3.10/site-packages/numpy/core/_methods.py:190: RuntimeWarning: invalid value encountered in divide\n",
      "  ret = ret.dtype.type(ret / rcount)\n",
      "/home/mischa/miniconda3/envs/bf/lib/python3.10/site-packages/numpy/core/_methods.py:265: RuntimeWarning: Degrees of freedom <= 0 for slice\n",
      "  ret = _var(a, axis=axis, dtype=dtype, out=out, ddof=ddof,\n",
      "/home/mischa/miniconda3/envs/bf/lib/python3.10/site-packages/numpy/core/_methods.py:223: RuntimeWarning: invalid value encountered in divide\n",
      "  arrmean = um.true_divide(arrmean, div, out=arrmean, casting='unsafe',\n",
      "/home/mischa/miniconda3/envs/bf/lib/python3.10/site-packages/numpy/core/_methods.py:257: RuntimeWarning: invalid value encountered in divide\n",
      "  ret = ret.dtype.type(ret / rcount)\n"
     ]
    },
    {
     "name": "stdout",
     "output_type": "stream",
     "text": [
      "2013iat6.txt done\n",
      "Initial shape: 50737\n",
      "After removing no age IDs: 31885\n",
      "After removing invalid IDs: 31885\n",
      "After excluding zero latency IDs: 31861\n",
      "After excluding != 120 trials IDs: 31576\n",
      "After excluding more than 50% error IDs: 31538\n",
      "After excluding zero error IDs: 30516\n",
      "Successfully read datafile 2014JanOctiat.txt .\n",
      "Converting to X and y arrays...\n",
      "IDs with less than 20 trials <200 ms or >10 seconds: (30339, 120, 3)\n",
      "IDs with 60 trials for each condition, 60 trials for both picture and word stimuli: (30339, 120, 3)\n",
      "Final shape of RTs chunk (after once more excluding cases w/ missing age or trials):  (30339, 120, 4)\n",
      "Final shape of outcomes chunk:  (30339, 120, 4)\n"
     ]
    },
    {
     "name": "stderr",
     "output_type": "stream",
     "text": [
      "/home/mischa/miniconda3/envs/bf/lib/python3.10/site-packages/numpy/core/fromnumeric.py:3432: RuntimeWarning: Mean of empty slice.\n",
      "  return _methods._mean(a, axis=axis, dtype=dtype,\n",
      "/home/mischa/miniconda3/envs/bf/lib/python3.10/site-packages/numpy/core/_methods.py:190: RuntimeWarning: invalid value encountered in divide\n",
      "  ret = ret.dtype.type(ret / rcount)\n",
      "/home/mischa/miniconda3/envs/bf/lib/python3.10/site-packages/numpy/core/_methods.py:265: RuntimeWarning: Degrees of freedom <= 0 for slice\n",
      "  ret = _var(a, axis=axis, dtype=dtype, out=out, ddof=ddof,\n",
      "/home/mischa/miniconda3/envs/bf/lib/python3.10/site-packages/numpy/core/_methods.py:223: RuntimeWarning: invalid value encountered in divide\n",
      "  arrmean = um.true_divide(arrmean, div, out=arrmean, casting='unsafe',\n",
      "/home/mischa/miniconda3/envs/bf/lib/python3.10/site-packages/numpy/core/_methods.py:257: RuntimeWarning: invalid value encountered in divide\n",
      "  ret = ret.dtype.type(ret / rcount)\n"
     ]
    },
    {
     "name": "stdout",
     "output_type": "stream",
     "text": [
      "2014JanOctiat.txt done\n",
      "Initial shape: 50775\n",
      "After removing no age IDs: 30802\n",
      "After removing invalid IDs: 30802\n",
      "After excluding zero latency IDs: 30781\n",
      "After excluding != 120 trials IDs: 30559\n",
      "After excluding more than 50% error IDs: 30520\n",
      "After excluding zero error IDs: 29578\n",
      "Successfully read datafile 2014JanOctiat2.txt .\n",
      "Converting to X and y arrays...\n",
      "IDs with less than 20 trials <200 ms or >10 seconds: (29408, 120, 3)\n",
      "IDs with 60 trials for each condition, 60 trials for both picture and word stimuli: (29408, 120, 3)\n",
      "Final shape of RTs chunk (after once more excluding cases w/ missing age or trials):  (29408, 120, 4)\n",
      "Final shape of outcomes chunk:  (29408, 120, 4)\n"
     ]
    },
    {
     "name": "stderr",
     "output_type": "stream",
     "text": [
      "/home/mischa/miniconda3/envs/bf/lib/python3.10/site-packages/numpy/core/fromnumeric.py:3432: RuntimeWarning: Mean of empty slice.\n",
      "  return _methods._mean(a, axis=axis, dtype=dtype,\n",
      "/home/mischa/miniconda3/envs/bf/lib/python3.10/site-packages/numpy/core/_methods.py:190: RuntimeWarning: invalid value encountered in divide\n",
      "  ret = ret.dtype.type(ret / rcount)\n",
      "/home/mischa/miniconda3/envs/bf/lib/python3.10/site-packages/numpy/core/_methods.py:265: RuntimeWarning: Degrees of freedom <= 0 for slice\n",
      "  ret = _var(a, axis=axis, dtype=dtype, out=out, ddof=ddof,\n",
      "/home/mischa/miniconda3/envs/bf/lib/python3.10/site-packages/numpy/core/_methods.py:223: RuntimeWarning: invalid value encountered in divide\n",
      "  arrmean = um.true_divide(arrmean, div, out=arrmean, casting='unsafe',\n",
      "/home/mischa/miniconda3/envs/bf/lib/python3.10/site-packages/numpy/core/_methods.py:257: RuntimeWarning: invalid value encountered in divide\n",
      "  ret = ret.dtype.type(ret / rcount)\n"
     ]
    },
    {
     "name": "stdout",
     "output_type": "stream",
     "text": [
      "2014JanOctiat2.txt done\n",
      "Initial shape: 50743\n",
      "After removing no age IDs: 31561\n",
      "After removing invalid IDs: 31561\n",
      "After excluding zero latency IDs: 31546\n",
      "After excluding != 120 trials IDs: 31359\n",
      "After excluding more than 50% error IDs: 31331\n",
      "After excluding zero error IDs: 30058\n",
      "Successfully read datafile 2014JanOctiat3.txt .\n",
      "Converting to X and y arrays...\n",
      "IDs with less than 20 trials <200 ms or >10 seconds: (29899, 120, 3)\n",
      "IDs with 60 trials for each condition, 60 trials for both picture and word stimuli: (29899, 120, 3)\n",
      "Final shape of RTs chunk (after once more excluding cases w/ missing age or trials):  (29899, 120, 4)\n",
      "Final shape of outcomes chunk:  (29899, 120, 4)\n"
     ]
    },
    {
     "name": "stderr",
     "output_type": "stream",
     "text": [
      "/home/mischa/miniconda3/envs/bf/lib/python3.10/site-packages/numpy/core/fromnumeric.py:3432: RuntimeWarning: Mean of empty slice.\n",
      "  return _methods._mean(a, axis=axis, dtype=dtype,\n",
      "/home/mischa/miniconda3/envs/bf/lib/python3.10/site-packages/numpy/core/_methods.py:190: RuntimeWarning: invalid value encountered in divide\n",
      "  ret = ret.dtype.type(ret / rcount)\n",
      "/home/mischa/miniconda3/envs/bf/lib/python3.10/site-packages/numpy/core/_methods.py:265: RuntimeWarning: Degrees of freedom <= 0 for slice\n",
      "  ret = _var(a, axis=axis, dtype=dtype, out=out, ddof=ddof,\n",
      "/home/mischa/miniconda3/envs/bf/lib/python3.10/site-packages/numpy/core/_methods.py:223: RuntimeWarning: invalid value encountered in divide\n",
      "  arrmean = um.true_divide(arrmean, div, out=arrmean, casting='unsafe',\n",
      "/home/mischa/miniconda3/envs/bf/lib/python3.10/site-packages/numpy/core/_methods.py:257: RuntimeWarning: invalid value encountered in divide\n",
      "  ret = ret.dtype.type(ret / rcount)\n"
     ]
    },
    {
     "name": "stdout",
     "output_type": "stream",
     "text": [
      "2014JanOctiat3.txt done\n",
      "Initial shape: 50749\n",
      "After removing no age IDs: 32511\n",
      "After removing invalid IDs: 32511\n",
      "After excluding zero latency IDs: 32495\n",
      "After excluding != 120 trials IDs: 32225\n",
      "After excluding more than 50% error IDs: 32195\n",
      "After excluding zero error IDs: 31189\n",
      "Successfully read datafile 2014JanOctiat4.txt .\n",
      "Converting to X and y arrays...\n",
      "IDs with less than 20 trials <200 ms or >10 seconds: (31005, 120, 3)\n",
      "IDs with 60 trials for each condition, 60 trials for both picture and word stimuli: (31005, 120, 3)\n",
      "Final shape of RTs chunk (after once more excluding cases w/ missing age or trials):  (31005, 120, 4)\n",
      "Final shape of outcomes chunk:  (31005, 120, 4)\n"
     ]
    },
    {
     "name": "stderr",
     "output_type": "stream",
     "text": [
      "/home/mischa/miniconda3/envs/bf/lib/python3.10/site-packages/numpy/core/fromnumeric.py:3432: RuntimeWarning: Mean of empty slice.\n",
      "  return _methods._mean(a, axis=axis, dtype=dtype,\n",
      "/home/mischa/miniconda3/envs/bf/lib/python3.10/site-packages/numpy/core/_methods.py:190: RuntimeWarning: invalid value encountered in divide\n",
      "  ret = ret.dtype.type(ret / rcount)\n",
      "/home/mischa/miniconda3/envs/bf/lib/python3.10/site-packages/numpy/core/_methods.py:265: RuntimeWarning: Degrees of freedom <= 0 for slice\n",
      "  ret = _var(a, axis=axis, dtype=dtype, out=out, ddof=ddof,\n",
      "/home/mischa/miniconda3/envs/bf/lib/python3.10/site-packages/numpy/core/_methods.py:223: RuntimeWarning: invalid value encountered in divide\n",
      "  arrmean = um.true_divide(arrmean, div, out=arrmean, casting='unsafe',\n",
      "/home/mischa/miniconda3/envs/bf/lib/python3.10/site-packages/numpy/core/_methods.py:257: RuntimeWarning: invalid value encountered in divide\n",
      "  ret = ret.dtype.type(ret / rcount)\n"
     ]
    },
    {
     "name": "stdout",
     "output_type": "stream",
     "text": [
      "2014JanOctiat4.txt done\n",
      "Initial shape: 8787\n",
      "After removing no age IDs: 5660\n",
      "After removing invalid IDs: 5660\n",
      "After excluding zero latency IDs: 5654\n",
      "After excluding != 120 trials IDs: 5617\n",
      "After excluding more than 50% error IDs: 5612\n",
      "After excluding zero error IDs: 5431\n",
      "Successfully read datafile 2014JanOctiat5.txt .\n",
      "Converting to X and y arrays...\n",
      "IDs with less than 20 trials <200 ms or >10 seconds: (5407, 120, 3)\n",
      "IDs with 60 trials for each condition, 60 trials for both picture and word stimuli: (5407, 120, 3)\n",
      "Final shape of RTs chunk (after once more excluding cases w/ missing age or trials):  (5407, 120, 4)\n",
      "Final shape of outcomes chunk:  (5407, 120, 4)\n"
     ]
    },
    {
     "name": "stderr",
     "output_type": "stream",
     "text": [
      "/home/mischa/miniconda3/envs/bf/lib/python3.10/site-packages/numpy/core/fromnumeric.py:3432: RuntimeWarning: Mean of empty slice.\n",
      "  return _methods._mean(a, axis=axis, dtype=dtype,\n",
      "/home/mischa/miniconda3/envs/bf/lib/python3.10/site-packages/numpy/core/_methods.py:190: RuntimeWarning: invalid value encountered in divide\n",
      "  ret = ret.dtype.type(ret / rcount)\n",
      "/home/mischa/miniconda3/envs/bf/lib/python3.10/site-packages/numpy/core/_methods.py:265: RuntimeWarning: Degrees of freedom <= 0 for slice\n",
      "  ret = _var(a, axis=axis, dtype=dtype, out=out, ddof=ddof,\n",
      "/home/mischa/miniconda3/envs/bf/lib/python3.10/site-packages/numpy/core/_methods.py:223: RuntimeWarning: invalid value encountered in divide\n",
      "  arrmean = um.true_divide(arrmean, div, out=arrmean, casting='unsafe',\n",
      "/home/mischa/miniconda3/envs/bf/lib/python3.10/site-packages/numpy/core/_methods.py:257: RuntimeWarning: invalid value encountered in divide\n",
      "  ret = ret.dtype.type(ret / rcount)\n"
     ]
    },
    {
     "name": "stdout",
     "output_type": "stream",
     "text": [
      "2014JanOctiat5.txt done\n",
      "Initial shape: 97050\n",
      "After removing no age IDs: 60042\n",
      "After removing invalid IDs: 60042\n",
      "After excluding zero latency IDs: 59902\n",
      "After excluding != 120 trials IDs: 59484\n",
      "After excluding more than 50% error IDs: 59445\n",
      "After excluding zero error IDs: 56830\n",
      "Successfully read datafile 2014Oct2015Janiat.txt .\n",
      "Converting to X and y arrays...\n",
      "IDs with less than 20 trials <200 ms or >10 seconds: (56575, 120, 3)\n",
      "IDs with 60 trials for each condition, 60 trials for both picture and word stimuli: (56574, 120, 3)\n",
      "Final shape of RTs chunk (after once more excluding cases w/ missing age or trials):  (56574, 120, 4)\n",
      "Final shape of outcomes chunk:  (56574, 120, 4)\n"
     ]
    },
    {
     "name": "stderr",
     "output_type": "stream",
     "text": [
      "/home/mischa/miniconda3/envs/bf/lib/python3.10/site-packages/numpy/core/fromnumeric.py:3432: RuntimeWarning: Mean of empty slice.\n",
      "  return _methods._mean(a, axis=axis, dtype=dtype,\n",
      "/home/mischa/miniconda3/envs/bf/lib/python3.10/site-packages/numpy/core/_methods.py:190: RuntimeWarning: invalid value encountered in divide\n",
      "  ret = ret.dtype.type(ret / rcount)\n",
      "/home/mischa/miniconda3/envs/bf/lib/python3.10/site-packages/numpy/core/_methods.py:265: RuntimeWarning: Degrees of freedom <= 0 for slice\n",
      "  ret = _var(a, axis=axis, dtype=dtype, out=out, ddof=ddof,\n",
      "/home/mischa/miniconda3/envs/bf/lib/python3.10/site-packages/numpy/core/_methods.py:223: RuntimeWarning: invalid value encountered in divide\n",
      "  arrmean = um.true_divide(arrmean, div, out=arrmean, casting='unsafe',\n",
      "/home/mischa/miniconda3/envs/bf/lib/python3.10/site-packages/numpy/core/_methods.py:257: RuntimeWarning: invalid value encountered in divide\n",
      "  ret = ret.dtype.type(ret / rcount)\n"
     ]
    },
    {
     "name": "stdout",
     "output_type": "stream",
     "text": [
      "2014Oct2015Janiat.txt done\n",
      "Initial shape: 44185\n",
      "After removing no age IDs: 26390\n",
      "After removing invalid IDs: 26390\n",
      "After excluding zero latency IDs: 26333\n",
      "After excluding != 120 trials IDs: 25999\n",
      "After excluding more than 50% error IDs: 25978\n",
      "After excluding zero error IDs: 25039\n",
      "Successfully read datafile 2015FebMariat.txt .\n",
      "Converting to X and y arrays...\n",
      "IDs with less than 20 trials <200 ms or >10 seconds: (24889, 120, 3)\n",
      "IDs with 60 trials for each condition, 60 trials for both picture and word stimuli: (24889, 120, 3)\n",
      "Final shape of RTs chunk (after once more excluding cases w/ missing age or trials):  (24889, 120, 4)\n",
      "Final shape of outcomes chunk:  (24889, 120, 4)\n"
     ]
    },
    {
     "name": "stderr",
     "output_type": "stream",
     "text": [
      "/home/mischa/miniconda3/envs/bf/lib/python3.10/site-packages/numpy/core/fromnumeric.py:3432: RuntimeWarning: Mean of empty slice.\n",
      "  return _methods._mean(a, axis=axis, dtype=dtype,\n",
      "/home/mischa/miniconda3/envs/bf/lib/python3.10/site-packages/numpy/core/_methods.py:190: RuntimeWarning: invalid value encountered in divide\n",
      "  ret = ret.dtype.type(ret / rcount)\n",
      "/home/mischa/miniconda3/envs/bf/lib/python3.10/site-packages/numpy/core/_methods.py:265: RuntimeWarning: Degrees of freedom <= 0 for slice\n",
      "  ret = _var(a, axis=axis, dtype=dtype, out=out, ddof=ddof,\n",
      "/home/mischa/miniconda3/envs/bf/lib/python3.10/site-packages/numpy/core/_methods.py:223: RuntimeWarning: invalid value encountered in divide\n",
      "  arrmean = um.true_divide(arrmean, div, out=arrmean, casting='unsafe',\n",
      "/home/mischa/miniconda3/envs/bf/lib/python3.10/site-packages/numpy/core/_methods.py:257: RuntimeWarning: invalid value encountered in divide\n",
      "  ret = ret.dtype.type(ret / rcount)\n"
     ]
    },
    {
     "name": "stdout",
     "output_type": "stream",
     "text": [
      "2015FebMariat.txt done\n",
      "Initial shape: 50932\n",
      "After removing no age IDs: 28689\n",
      "After removing invalid IDs: 28689\n",
      "After excluding zero latency IDs: 28616\n",
      "After excluding != 120 trials IDs: 28290\n",
      "After excluding more than 50% error IDs: 28255\n",
      "After excluding zero error IDs: 27252\n",
      "Successfully read datafile 2015MarDeciat.txt .\n",
      "Converting to X and y arrays...\n",
      "IDs with less than 20 trials <200 ms or >10 seconds: (27063, 120, 3)\n",
      "IDs with 60 trials for each condition, 60 trials for both picture and word stimuli: (27063, 120, 3)\n",
      "Final shape of RTs chunk (after once more excluding cases w/ missing age or trials):  (27063, 120, 4)\n",
      "Final shape of outcomes chunk:  (27063, 120, 4)\n"
     ]
    },
    {
     "name": "stderr",
     "output_type": "stream",
     "text": [
      "/home/mischa/miniconda3/envs/bf/lib/python3.10/site-packages/numpy/core/fromnumeric.py:3432: RuntimeWarning: Mean of empty slice.\n",
      "  return _methods._mean(a, axis=axis, dtype=dtype,\n",
      "/home/mischa/miniconda3/envs/bf/lib/python3.10/site-packages/numpy/core/_methods.py:190: RuntimeWarning: invalid value encountered in divide\n",
      "  ret = ret.dtype.type(ret / rcount)\n",
      "/home/mischa/miniconda3/envs/bf/lib/python3.10/site-packages/numpy/core/_methods.py:265: RuntimeWarning: Degrees of freedom <= 0 for slice\n",
      "  ret = _var(a, axis=axis, dtype=dtype, out=out, ddof=ddof,\n",
      "/home/mischa/miniconda3/envs/bf/lib/python3.10/site-packages/numpy/core/_methods.py:223: RuntimeWarning: invalid value encountered in divide\n",
      "  arrmean = um.true_divide(arrmean, div, out=arrmean, casting='unsafe',\n",
      "/home/mischa/miniconda3/envs/bf/lib/python3.10/site-packages/numpy/core/_methods.py:257: RuntimeWarning: invalid value encountered in divide\n",
      "  ret = ret.dtype.type(ret / rcount)\n"
     ]
    },
    {
     "name": "stdout",
     "output_type": "stream",
     "text": [
      "2015MarDeciat.txt done\n",
      "Initial shape: 50741\n",
      "After removing no age IDs: 28400\n",
      "After removing invalid IDs: 28400\n",
      "After excluding zero latency IDs: 28314\n",
      "After excluding != 120 trials IDs: 28124\n",
      "After excluding more than 50% error IDs: 28090\n",
      "After excluding zero error IDs: 27022\n",
      "Successfully read datafile 2015MarDeciat2.txt .\n",
      "Converting to X and y arrays...\n",
      "IDs with less than 20 trials <200 ms or >10 seconds: (26835, 120, 3)\n",
      "IDs with 60 trials for each condition, 60 trials for both picture and word stimuli: (26834, 120, 3)\n",
      "Final shape of RTs chunk (after once more excluding cases w/ missing age or trials):  (26834, 120, 4)\n",
      "Final shape of outcomes chunk:  (26834, 120, 4)\n"
     ]
    },
    {
     "name": "stderr",
     "output_type": "stream",
     "text": [
      "/home/mischa/miniconda3/envs/bf/lib/python3.10/site-packages/numpy/core/fromnumeric.py:3432: RuntimeWarning: Mean of empty slice.\n",
      "  return _methods._mean(a, axis=axis, dtype=dtype,\n",
      "/home/mischa/miniconda3/envs/bf/lib/python3.10/site-packages/numpy/core/_methods.py:190: RuntimeWarning: invalid value encountered in divide\n",
      "  ret = ret.dtype.type(ret / rcount)\n",
      "/home/mischa/miniconda3/envs/bf/lib/python3.10/site-packages/numpy/core/_methods.py:265: RuntimeWarning: Degrees of freedom <= 0 for slice\n",
      "  ret = _var(a, axis=axis, dtype=dtype, out=out, ddof=ddof,\n",
      "/home/mischa/miniconda3/envs/bf/lib/python3.10/site-packages/numpy/core/_methods.py:223: RuntimeWarning: invalid value encountered in divide\n",
      "  arrmean = um.true_divide(arrmean, div, out=arrmean, casting='unsafe',\n",
      "/home/mischa/miniconda3/envs/bf/lib/python3.10/site-packages/numpy/core/_methods.py:257: RuntimeWarning: invalid value encountered in divide\n",
      "  ret = ret.dtype.type(ret / rcount)\n"
     ]
    },
    {
     "name": "stdout",
     "output_type": "stream",
     "text": [
      "2015MarDeciat2.txt done\n",
      "Initial shape: 50695\n",
      "After removing no age IDs: 29864\n",
      "After removing invalid IDs: 29864\n",
      "After excluding zero latency IDs: 29815\n",
      "After excluding != 120 trials IDs: 29619\n",
      "After excluding more than 50% error IDs: 29602\n",
      "After excluding zero error IDs: 28110\n",
      "Successfully read datafile 2015MarDeciat3.txt .\n",
      "Converting to X and y arrays...\n",
      "IDs with less than 20 trials <200 ms or >10 seconds: (28014, 120, 3)\n",
      "IDs with 60 trials for each condition, 60 trials for both picture and word stimuli: (28014, 120, 3)\n",
      "Final shape of RTs chunk (after once more excluding cases w/ missing age or trials):  (28014, 120, 4)\n",
      "Final shape of outcomes chunk:  (28014, 120, 4)\n"
     ]
    },
    {
     "name": "stderr",
     "output_type": "stream",
     "text": [
      "/home/mischa/miniconda3/envs/bf/lib/python3.10/site-packages/numpy/core/fromnumeric.py:3432: RuntimeWarning: Mean of empty slice.\n",
      "  return _methods._mean(a, axis=axis, dtype=dtype,\n",
      "/home/mischa/miniconda3/envs/bf/lib/python3.10/site-packages/numpy/core/_methods.py:190: RuntimeWarning: invalid value encountered in divide\n",
      "  ret = ret.dtype.type(ret / rcount)\n",
      "/home/mischa/miniconda3/envs/bf/lib/python3.10/site-packages/numpy/core/_methods.py:265: RuntimeWarning: Degrees of freedom <= 0 for slice\n",
      "  ret = _var(a, axis=axis, dtype=dtype, out=out, ddof=ddof,\n",
      "/home/mischa/miniconda3/envs/bf/lib/python3.10/site-packages/numpy/core/_methods.py:223: RuntimeWarning: invalid value encountered in divide\n",
      "  arrmean = um.true_divide(arrmean, div, out=arrmean, casting='unsafe',\n",
      "/home/mischa/miniconda3/envs/bf/lib/python3.10/site-packages/numpy/core/_methods.py:257: RuntimeWarning: invalid value encountered in divide\n",
      "  ret = ret.dtype.type(ret / rcount)\n"
     ]
    },
    {
     "name": "stdout",
     "output_type": "stream",
     "text": [
      "2015MarDeciat3.txt done\n",
      "Initial shape: 51496\n",
      "After removing no age IDs: 19426\n",
      "After removing invalid IDs: 19426\n",
      "After excluding zero latency IDs: 19397\n",
      "After excluding != 120 trials IDs: 19136\n",
      "After excluding more than 50% error IDs: 19117\n",
      "After excluding zero error IDs: 18188\n",
      "Successfully read datafile 2015MarDeciat4.txt .\n",
      "Converting to X and y arrays...\n",
      "IDs with less than 20 trials <200 ms or >10 seconds: (18131, 120, 3)\n",
      "IDs with 60 trials for each condition, 60 trials for both picture and word stimuli: (18131, 120, 3)\n",
      "Final shape of RTs chunk (after once more excluding cases w/ missing age or trials):  (18131, 120, 4)\n",
      "Final shape of outcomes chunk:  (18131, 120, 4)\n"
     ]
    },
    {
     "name": "stderr",
     "output_type": "stream",
     "text": [
      "/home/mischa/miniconda3/envs/bf/lib/python3.10/site-packages/numpy/core/fromnumeric.py:3432: RuntimeWarning: Mean of empty slice.\n",
      "  return _methods._mean(a, axis=axis, dtype=dtype,\n",
      "/home/mischa/miniconda3/envs/bf/lib/python3.10/site-packages/numpy/core/_methods.py:190: RuntimeWarning: invalid value encountered in divide\n",
      "  ret = ret.dtype.type(ret / rcount)\n",
      "/home/mischa/miniconda3/envs/bf/lib/python3.10/site-packages/numpy/core/_methods.py:265: RuntimeWarning: Degrees of freedom <= 0 for slice\n",
      "  ret = _var(a, axis=axis, dtype=dtype, out=out, ddof=ddof,\n",
      "/home/mischa/miniconda3/envs/bf/lib/python3.10/site-packages/numpy/core/_methods.py:223: RuntimeWarning: invalid value encountered in divide\n",
      "  arrmean = um.true_divide(arrmean, div, out=arrmean, casting='unsafe',\n",
      "/home/mischa/miniconda3/envs/bf/lib/python3.10/site-packages/numpy/core/_methods.py:257: RuntimeWarning: invalid value encountered in divide\n",
      "  ret = ret.dtype.type(ret / rcount)\n"
     ]
    },
    {
     "name": "stdout",
     "output_type": "stream",
     "text": [
      "2015MarDeciat4.txt done\n",
      "Initial shape: 50867\n",
      "After removing no age IDs: 21198\n",
      "After removing invalid IDs: 21198\n",
      "After excluding zero latency IDs: 21176\n",
      "After excluding != 120 trials IDs: 20959\n",
      "After excluding more than 50% error IDs: 20950\n",
      "After excluding zero error IDs: 20321\n",
      "Successfully read datafile 2015MarDeciat5.txt .\n",
      "Converting to X and y arrays...\n",
      "IDs with less than 20 trials <200 ms or >10 seconds: (20285, 120, 3)\n",
      "IDs with 60 trials for each condition, 60 trials for both picture and word stimuli: (20285, 120, 3)\n",
      "Final shape of RTs chunk (after once more excluding cases w/ missing age or trials):  (20285, 120, 4)\n",
      "Final shape of outcomes chunk:  (20285, 120, 4)\n"
     ]
    },
    {
     "name": "stderr",
     "output_type": "stream",
     "text": [
      "/home/mischa/miniconda3/envs/bf/lib/python3.10/site-packages/numpy/core/fromnumeric.py:3432: RuntimeWarning: Mean of empty slice.\n",
      "  return _methods._mean(a, axis=axis, dtype=dtype,\n",
      "/home/mischa/miniconda3/envs/bf/lib/python3.10/site-packages/numpy/core/_methods.py:190: RuntimeWarning: invalid value encountered in divide\n",
      "  ret = ret.dtype.type(ret / rcount)\n",
      "/home/mischa/miniconda3/envs/bf/lib/python3.10/site-packages/numpy/core/_methods.py:265: RuntimeWarning: Degrees of freedom <= 0 for slice\n",
      "  ret = _var(a, axis=axis, dtype=dtype, out=out, ddof=ddof,\n",
      "/home/mischa/miniconda3/envs/bf/lib/python3.10/site-packages/numpy/core/_methods.py:223: RuntimeWarning: invalid value encountered in divide\n",
      "  arrmean = um.true_divide(arrmean, div, out=arrmean, casting='unsafe',\n",
      "/home/mischa/miniconda3/envs/bf/lib/python3.10/site-packages/numpy/core/_methods.py:257: RuntimeWarning: invalid value encountered in divide\n",
      "  ret = ret.dtype.type(ret / rcount)\n"
     ]
    },
    {
     "name": "stdout",
     "output_type": "stream",
     "text": [
      "2015MarDeciat5.txt done\n",
      "Initial shape: 50857\n",
      "After removing no age IDs: 23712\n",
      "After removing invalid IDs: 23712\n",
      "After excluding zero latency IDs: 23673\n",
      "After excluding != 120 trials IDs: 23504\n",
      "After excluding more than 50% error IDs: 23487\n",
      "After excluding zero error IDs: 22737\n",
      "Successfully read datafile 2015MarDeciat6.txt .\n",
      "Converting to X and y arrays...\n",
      "IDs with less than 20 trials <200 ms or >10 seconds: (22638, 120, 3)\n",
      "IDs with 60 trials for each condition, 60 trials for both picture and word stimuli: (22638, 120, 3)\n",
      "Final shape of RTs chunk (after once more excluding cases w/ missing age or trials):  (22638, 120, 4)\n",
      "Final shape of outcomes chunk:  (22638, 120, 4)\n"
     ]
    },
    {
     "name": "stderr",
     "output_type": "stream",
     "text": [
      "/home/mischa/miniconda3/envs/bf/lib/python3.10/site-packages/numpy/core/fromnumeric.py:3432: RuntimeWarning: Mean of empty slice.\n",
      "  return _methods._mean(a, axis=axis, dtype=dtype,\n",
      "/home/mischa/miniconda3/envs/bf/lib/python3.10/site-packages/numpy/core/_methods.py:190: RuntimeWarning: invalid value encountered in divide\n",
      "  ret = ret.dtype.type(ret / rcount)\n",
      "/home/mischa/miniconda3/envs/bf/lib/python3.10/site-packages/numpy/core/_methods.py:265: RuntimeWarning: Degrees of freedom <= 0 for slice\n",
      "  ret = _var(a, axis=axis, dtype=dtype, out=out, ddof=ddof,\n",
      "/home/mischa/miniconda3/envs/bf/lib/python3.10/site-packages/numpy/core/_methods.py:223: RuntimeWarning: invalid value encountered in divide\n",
      "  arrmean = um.true_divide(arrmean, div, out=arrmean, casting='unsafe',\n",
      "/home/mischa/miniconda3/envs/bf/lib/python3.10/site-packages/numpy/core/_methods.py:257: RuntimeWarning: invalid value encountered in divide\n",
      "  ret = ret.dtype.type(ret / rcount)\n"
     ]
    },
    {
     "name": "stdout",
     "output_type": "stream",
     "text": [
      "2015MarDeciat6.txt done\n",
      "Initial shape: 50802\n",
      "After removing no age IDs: 25492\n",
      "After removing invalid IDs: 25492\n",
      "After excluding zero latency IDs: 25441\n",
      "After excluding != 120 trials IDs: 25230\n",
      "After excluding more than 50% error IDs: 25208\n",
      "After excluding zero error IDs: 24299\n",
      "Successfully read datafile 2015MarDeciat7.txt .\n",
      "Converting to X and y arrays...\n",
      "IDs with less than 20 trials <200 ms or >10 seconds: (24141, 120, 3)\n",
      "IDs with 60 trials for each condition, 60 trials for both picture and word stimuli: (24141, 120, 3)\n",
      "Final shape of RTs chunk (after once more excluding cases w/ missing age or trials):  (24141, 120, 4)\n",
      "Final shape of outcomes chunk:  (24141, 120, 4)\n"
     ]
    },
    {
     "name": "stderr",
     "output_type": "stream",
     "text": [
      "/home/mischa/miniconda3/envs/bf/lib/python3.10/site-packages/numpy/core/fromnumeric.py:3432: RuntimeWarning: Mean of empty slice.\n",
      "  return _methods._mean(a, axis=axis, dtype=dtype,\n",
      "/home/mischa/miniconda3/envs/bf/lib/python3.10/site-packages/numpy/core/_methods.py:190: RuntimeWarning: invalid value encountered in divide\n",
      "  ret = ret.dtype.type(ret / rcount)\n",
      "/home/mischa/miniconda3/envs/bf/lib/python3.10/site-packages/numpy/core/_methods.py:265: RuntimeWarning: Degrees of freedom <= 0 for slice\n",
      "  ret = _var(a, axis=axis, dtype=dtype, out=out, ddof=ddof,\n",
      "/home/mischa/miniconda3/envs/bf/lib/python3.10/site-packages/numpy/core/_methods.py:223: RuntimeWarning: invalid value encountered in divide\n",
      "  arrmean = um.true_divide(arrmean, div, out=arrmean, casting='unsafe',\n",
      "/home/mischa/miniconda3/envs/bf/lib/python3.10/site-packages/numpy/core/_methods.py:257: RuntimeWarning: invalid value encountered in divide\n",
      "  ret = ret.dtype.type(ret / rcount)\n"
     ]
    },
    {
     "name": "stdout",
     "output_type": "stream",
     "text": [
      "2015MarDeciat7.txt done\n",
      "Initial shape: 50661\n",
      "After removing no age IDs: 26780\n",
      "After removing invalid IDs: 26780\n",
      "After excluding zero latency IDs: 26711\n",
      "After excluding != 120 trials IDs: 26491\n",
      "After excluding more than 50% error IDs: 26468\n",
      "After excluding zero error IDs: 25565\n",
      "Successfully read datafile 2015MarDeciat8.txt .\n",
      "Converting to X and y arrays...\n",
      "IDs with less than 20 trials <200 ms or >10 seconds: (25414, 120, 3)\n",
      "IDs with 60 trials for each condition, 60 trials for both picture and word stimuli: (25414, 120, 3)\n",
      "Final shape of RTs chunk (after once more excluding cases w/ missing age or trials):  (25414, 120, 4)\n",
      "Final shape of outcomes chunk:  (25414, 120, 4)\n"
     ]
    },
    {
     "name": "stderr",
     "output_type": "stream",
     "text": [
      "/home/mischa/miniconda3/envs/bf/lib/python3.10/site-packages/numpy/core/fromnumeric.py:3432: RuntimeWarning: Mean of empty slice.\n",
      "  return _methods._mean(a, axis=axis, dtype=dtype,\n",
      "/home/mischa/miniconda3/envs/bf/lib/python3.10/site-packages/numpy/core/_methods.py:190: RuntimeWarning: invalid value encountered in divide\n",
      "  ret = ret.dtype.type(ret / rcount)\n",
      "/home/mischa/miniconda3/envs/bf/lib/python3.10/site-packages/numpy/core/_methods.py:265: RuntimeWarning: Degrees of freedom <= 0 for slice\n",
      "  ret = _var(a, axis=axis, dtype=dtype, out=out, ddof=ddof,\n",
      "/home/mischa/miniconda3/envs/bf/lib/python3.10/site-packages/numpy/core/_methods.py:223: RuntimeWarning: invalid value encountered in divide\n",
      "  arrmean = um.true_divide(arrmean, div, out=arrmean, casting='unsafe',\n",
      "/home/mischa/miniconda3/envs/bf/lib/python3.10/site-packages/numpy/core/_methods.py:257: RuntimeWarning: invalid value encountered in divide\n",
      "  ret = ret.dtype.type(ret / rcount)\n"
     ]
    },
    {
     "name": "stdout",
     "output_type": "stream",
     "text": [
      "2015MarDeciat8.txt done\n",
      "Initial shape: 41786\n",
      "After removing no age IDs: 19336\n",
      "After removing invalid IDs: 19336\n",
      "After excluding zero latency IDs: 19284\n",
      "After excluding != 120 trials IDs: 19127\n",
      "After excluding more than 50% error IDs: 19107\n",
      "After excluding zero error IDs: 18475\n",
      "Successfully read datafile 2015MarDeciat9.txt .\n",
      "Converting to X and y arrays...\n",
      "IDs with less than 20 trials <200 ms or >10 seconds: (18363, 120, 3)\n",
      "IDs with 60 trials for each condition, 60 trials for both picture and word stimuli: (18363, 120, 3)\n",
      "Final shape of RTs chunk (after once more excluding cases w/ missing age or trials):  (18363, 120, 4)\n",
      "Final shape of outcomes chunk:  (18363, 120, 4)\n"
     ]
    },
    {
     "name": "stderr",
     "output_type": "stream",
     "text": [
      "/home/mischa/miniconda3/envs/bf/lib/python3.10/site-packages/numpy/core/fromnumeric.py:3432: RuntimeWarning: Mean of empty slice.\n",
      "  return _methods._mean(a, axis=axis, dtype=dtype,\n",
      "/home/mischa/miniconda3/envs/bf/lib/python3.10/site-packages/numpy/core/_methods.py:190: RuntimeWarning: invalid value encountered in divide\n",
      "  ret = ret.dtype.type(ret / rcount)\n",
      "/home/mischa/miniconda3/envs/bf/lib/python3.10/site-packages/numpy/core/_methods.py:265: RuntimeWarning: Degrees of freedom <= 0 for slice\n",
      "  ret = _var(a, axis=axis, dtype=dtype, out=out, ddof=ddof,\n",
      "/home/mischa/miniconda3/envs/bf/lib/python3.10/site-packages/numpy/core/_methods.py:223: RuntimeWarning: invalid value encountered in divide\n",
      "  arrmean = um.true_divide(arrmean, div, out=arrmean, casting='unsafe',\n",
      "/home/mischa/miniconda3/envs/bf/lib/python3.10/site-packages/numpy/core/_methods.py:257: RuntimeWarning: invalid value encountered in divide\n",
      "  ret = ret.dtype.type(ret / rcount)\n"
     ]
    },
    {
     "name": "stdout",
     "output_type": "stream",
     "text": [
      "2015MarDeciat9.txt done\n",
      "Initial shape: 50745\n",
      "After removing no age IDs: 27143\n",
      "After removing invalid IDs: 27143\n",
      "After excluding zero latency IDs: 27088\n",
      "After excluding != 120 trials IDs: 26896\n",
      "After excluding more than 50% error IDs: 26873\n",
      "After excluding zero error IDs: 25836\n",
      "Successfully read datafile 2016JanSepiat.txt .\n",
      "Converting to X and y arrays...\n",
      "IDs with less than 20 trials <200 ms or >10 seconds: (25685, 120, 3)\n",
      "IDs with 60 trials for each condition, 60 trials for both picture and word stimuli: (25685, 120, 3)\n",
      "Final shape of RTs chunk (after once more excluding cases w/ missing age or trials):  (25685, 120, 4)\n",
      "Final shape of outcomes chunk:  (25685, 120, 4)\n"
     ]
    },
    {
     "name": "stderr",
     "output_type": "stream",
     "text": [
      "/home/mischa/miniconda3/envs/bf/lib/python3.10/site-packages/numpy/core/fromnumeric.py:3432: RuntimeWarning: Mean of empty slice.\n",
      "  return _methods._mean(a, axis=axis, dtype=dtype,\n",
      "/home/mischa/miniconda3/envs/bf/lib/python3.10/site-packages/numpy/core/_methods.py:190: RuntimeWarning: invalid value encountered in divide\n",
      "  ret = ret.dtype.type(ret / rcount)\n",
      "/home/mischa/miniconda3/envs/bf/lib/python3.10/site-packages/numpy/core/_methods.py:265: RuntimeWarning: Degrees of freedom <= 0 for slice\n",
      "  ret = _var(a, axis=axis, dtype=dtype, out=out, ddof=ddof,\n",
      "/home/mischa/miniconda3/envs/bf/lib/python3.10/site-packages/numpy/core/_methods.py:223: RuntimeWarning: invalid value encountered in divide\n",
      "  arrmean = um.true_divide(arrmean, div, out=arrmean, casting='unsafe',\n",
      "/home/mischa/miniconda3/envs/bf/lib/python3.10/site-packages/numpy/core/_methods.py:257: RuntimeWarning: invalid value encountered in divide\n",
      "  ret = ret.dtype.type(ret / rcount)\n"
     ]
    },
    {
     "name": "stdout",
     "output_type": "stream",
     "text": [
      "2016JanSepiat.txt done\n",
      "Initial shape: 50741\n",
      "After removing no age IDs: 27562\n",
      "After removing invalid IDs: 27562\n",
      "After excluding zero latency IDs: 27480\n",
      "After excluding != 120 trials IDs: 27268\n",
      "After excluding more than 50% error IDs: 27249\n",
      "After excluding zero error IDs: 26324\n",
      "Successfully read datafile 2016JanSepiat2.txt .\n",
      "Converting to X and y arrays...\n",
      "IDs with less than 20 trials <200 ms or >10 seconds: (26179, 120, 3)\n",
      "IDs with 60 trials for each condition, 60 trials for both picture and word stimuli: (26178, 120, 3)\n",
      "Final shape of RTs chunk (after once more excluding cases w/ missing age or trials):  (26178, 120, 4)\n",
      "Final shape of outcomes chunk:  (26178, 120, 4)\n"
     ]
    },
    {
     "name": "stderr",
     "output_type": "stream",
     "text": [
      "/home/mischa/miniconda3/envs/bf/lib/python3.10/site-packages/numpy/core/fromnumeric.py:3432: RuntimeWarning: Mean of empty slice.\n",
      "  return _methods._mean(a, axis=axis, dtype=dtype,\n",
      "/home/mischa/miniconda3/envs/bf/lib/python3.10/site-packages/numpy/core/_methods.py:190: RuntimeWarning: invalid value encountered in divide\n",
      "  ret = ret.dtype.type(ret / rcount)\n",
      "/home/mischa/miniconda3/envs/bf/lib/python3.10/site-packages/numpy/core/_methods.py:265: RuntimeWarning: Degrees of freedom <= 0 for slice\n",
      "  ret = _var(a, axis=axis, dtype=dtype, out=out, ddof=ddof,\n",
      "/home/mischa/miniconda3/envs/bf/lib/python3.10/site-packages/numpy/core/_methods.py:223: RuntimeWarning: invalid value encountered in divide\n",
      "  arrmean = um.true_divide(arrmean, div, out=arrmean, casting='unsafe',\n",
      "/home/mischa/miniconda3/envs/bf/lib/python3.10/site-packages/numpy/core/_methods.py:257: RuntimeWarning: invalid value encountered in divide\n",
      "  ret = ret.dtype.type(ret / rcount)\n"
     ]
    },
    {
     "name": "stdout",
     "output_type": "stream",
     "text": [
      "2016JanSepiat2.txt done\n",
      "Initial shape: 50723\n",
      "After removing no age IDs: 27589\n",
      "After removing invalid IDs: 27589\n",
      "After excluding zero latency IDs: 27530\n",
      "After excluding != 120 trials IDs: 27353\n",
      "After excluding more than 50% error IDs: 27333\n",
      "After excluding zero error IDs: 26274\n",
      "Successfully read datafile 2016JanSepiat3.txt .\n",
      "Converting to X and y arrays...\n",
      "IDs with less than 20 trials <200 ms or >10 seconds: (26115, 120, 3)\n",
      "IDs with 60 trials for each condition, 60 trials for both picture and word stimuli: (26115, 120, 3)\n",
      "Final shape of RTs chunk (after once more excluding cases w/ missing age or trials):  (26115, 120, 4)\n",
      "Final shape of outcomes chunk:  (26115, 120, 4)\n"
     ]
    },
    {
     "name": "stderr",
     "output_type": "stream",
     "text": [
      "/home/mischa/miniconda3/envs/bf/lib/python3.10/site-packages/numpy/core/fromnumeric.py:3432: RuntimeWarning: Mean of empty slice.\n",
      "  return _methods._mean(a, axis=axis, dtype=dtype,\n",
      "/home/mischa/miniconda3/envs/bf/lib/python3.10/site-packages/numpy/core/_methods.py:190: RuntimeWarning: invalid value encountered in divide\n",
      "  ret = ret.dtype.type(ret / rcount)\n",
      "/home/mischa/miniconda3/envs/bf/lib/python3.10/site-packages/numpy/core/_methods.py:265: RuntimeWarning: Degrees of freedom <= 0 for slice\n",
      "  ret = _var(a, axis=axis, dtype=dtype, out=out, ddof=ddof,\n",
      "/home/mischa/miniconda3/envs/bf/lib/python3.10/site-packages/numpy/core/_methods.py:223: RuntimeWarning: invalid value encountered in divide\n",
      "  arrmean = um.true_divide(arrmean, div, out=arrmean, casting='unsafe',\n",
      "/home/mischa/miniconda3/envs/bf/lib/python3.10/site-packages/numpy/core/_methods.py:257: RuntimeWarning: invalid value encountered in divide\n",
      "  ret = ret.dtype.type(ret / rcount)\n"
     ]
    },
    {
     "name": "stdout",
     "output_type": "stream",
     "text": [
      "2016JanSepiat3.txt done\n",
      "Initial shape: 26085\n",
      "After removing no age IDs: 13639\n",
      "After removing invalid IDs: 13639\n",
      "After excluding zero latency IDs: 13620\n",
      "After excluding != 120 trials IDs: 13367\n",
      "After excluding more than 50% error IDs: 13356\n",
      "After excluding zero error IDs: 12840\n",
      "Successfully read datafile 2016JanSepiat4.txt .\n",
      "Converting to X and y arrays...\n",
      "IDs with less than 20 trials <200 ms or >10 seconds: (12761, 120, 3)\n",
      "IDs with 60 trials for each condition, 60 trials for both picture and word stimuli: (12761, 120, 3)\n",
      "Final shape of RTs chunk (after once more excluding cases w/ missing age or trials):  (12761, 120, 4)\n",
      "Final shape of outcomes chunk:  (12761, 120, 4)\n"
     ]
    },
    {
     "name": "stderr",
     "output_type": "stream",
     "text": [
      "/home/mischa/miniconda3/envs/bf/lib/python3.10/site-packages/numpy/core/fromnumeric.py:3432: RuntimeWarning: Mean of empty slice.\n",
      "  return _methods._mean(a, axis=axis, dtype=dtype,\n",
      "/home/mischa/miniconda3/envs/bf/lib/python3.10/site-packages/numpy/core/_methods.py:190: RuntimeWarning: invalid value encountered in divide\n",
      "  ret = ret.dtype.type(ret / rcount)\n",
      "/home/mischa/miniconda3/envs/bf/lib/python3.10/site-packages/numpy/core/_methods.py:265: RuntimeWarning: Degrees of freedom <= 0 for slice\n",
      "  ret = _var(a, axis=axis, dtype=dtype, out=out, ddof=ddof,\n",
      "/home/mischa/miniconda3/envs/bf/lib/python3.10/site-packages/numpy/core/_methods.py:223: RuntimeWarning: invalid value encountered in divide\n",
      "  arrmean = um.true_divide(arrmean, div, out=arrmean, casting='unsafe',\n",
      "/home/mischa/miniconda3/envs/bf/lib/python3.10/site-packages/numpy/core/_methods.py:257: RuntimeWarning: invalid value encountered in divide\n",
      "  ret = ret.dtype.type(ret / rcount)\n"
     ]
    },
    {
     "name": "stdout",
     "output_type": "stream",
     "text": [
      "2016JanSepiat4.txt done\n",
      "Initial shape: 50733\n",
      "After removing no age IDs: 25914\n",
      "After removing invalid IDs: 25914\n",
      "After excluding zero latency IDs: 25871\n",
      "After excluding != 120 trials IDs: 25673\n",
      "After excluding more than 50% error IDs: 25654\n",
      "After excluding zero error IDs: 24573\n",
      "Successfully read datafile 2016JanSepiat5.txt .\n",
      "Converting to X and y arrays...\n",
      "IDs with less than 20 trials <200 ms or >10 seconds: (24438, 120, 3)\n",
      "IDs with 60 trials for each condition, 60 trials for both picture and word stimuli: (24438, 120, 3)\n",
      "Final shape of RTs chunk (after once more excluding cases w/ missing age or trials):  (24438, 120, 4)\n",
      "Final shape of outcomes chunk:  (24438, 120, 4)\n"
     ]
    },
    {
     "name": "stderr",
     "output_type": "stream",
     "text": [
      "/home/mischa/miniconda3/envs/bf/lib/python3.10/site-packages/numpy/core/fromnumeric.py:3432: RuntimeWarning: Mean of empty slice.\n",
      "  return _methods._mean(a, axis=axis, dtype=dtype,\n",
      "/home/mischa/miniconda3/envs/bf/lib/python3.10/site-packages/numpy/core/_methods.py:190: RuntimeWarning: invalid value encountered in divide\n",
      "  ret = ret.dtype.type(ret / rcount)\n",
      "/home/mischa/miniconda3/envs/bf/lib/python3.10/site-packages/numpy/core/_methods.py:265: RuntimeWarning: Degrees of freedom <= 0 for slice\n",
      "  ret = _var(a, axis=axis, dtype=dtype, out=out, ddof=ddof,\n",
      "/home/mischa/miniconda3/envs/bf/lib/python3.10/site-packages/numpy/core/_methods.py:223: RuntimeWarning: invalid value encountered in divide\n",
      "  arrmean = um.true_divide(arrmean, div, out=arrmean, casting='unsafe',\n",
      "/home/mischa/miniconda3/envs/bf/lib/python3.10/site-packages/numpy/core/_methods.py:257: RuntimeWarning: invalid value encountered in divide\n",
      "  ret = ret.dtype.type(ret / rcount)\n"
     ]
    },
    {
     "name": "stdout",
     "output_type": "stream",
     "text": [
      "2016JanSepiat5.txt done\n",
      "Initial shape: 50770\n",
      "After removing no age IDs: 27651\n",
      "After removing invalid IDs: 27651\n",
      "After excluding zero latency IDs: 27634\n",
      "After excluding != 120 trials IDs: 27343\n",
      "After excluding more than 50% error IDs: 27336\n",
      "After excluding zero error IDs: 25826\n",
      "Successfully read datafile 2016JanSepiat6.txt .\n",
      "Converting to X and y arrays...\n",
      "IDs with less than 20 trials <200 ms or >10 seconds: (25766, 120, 3)\n",
      "IDs with 60 trials for each condition, 60 trials for both picture and word stimuli: (25766, 120, 3)\n",
      "Final shape of RTs chunk (after once more excluding cases w/ missing age or trials):  (25766, 120, 4)\n",
      "Final shape of outcomes chunk:  (25766, 120, 4)\n"
     ]
    },
    {
     "name": "stderr",
     "output_type": "stream",
     "text": [
      "/home/mischa/miniconda3/envs/bf/lib/python3.10/site-packages/numpy/core/fromnumeric.py:3432: RuntimeWarning: Mean of empty slice.\n",
      "  return _methods._mean(a, axis=axis, dtype=dtype,\n",
      "/home/mischa/miniconda3/envs/bf/lib/python3.10/site-packages/numpy/core/_methods.py:190: RuntimeWarning: invalid value encountered in divide\n",
      "  ret = ret.dtype.type(ret / rcount)\n",
      "/home/mischa/miniconda3/envs/bf/lib/python3.10/site-packages/numpy/core/_methods.py:265: RuntimeWarning: Degrees of freedom <= 0 for slice\n",
      "  ret = _var(a, axis=axis, dtype=dtype, out=out, ddof=ddof,\n",
      "/home/mischa/miniconda3/envs/bf/lib/python3.10/site-packages/numpy/core/_methods.py:223: RuntimeWarning: invalid value encountered in divide\n",
      "  arrmean = um.true_divide(arrmean, div, out=arrmean, casting='unsafe',\n",
      "/home/mischa/miniconda3/envs/bf/lib/python3.10/site-packages/numpy/core/_methods.py:257: RuntimeWarning: invalid value encountered in divide\n",
      "  ret = ret.dtype.type(ret / rcount)\n"
     ]
    },
    {
     "name": "stdout",
     "output_type": "stream",
     "text": [
      "2016JanSepiat6.txt done\n",
      "Initial shape: 50636\n",
      "After removing no age IDs: 29448\n",
      "After removing invalid IDs: 29448\n",
      "After excluding zero latency IDs: 29406\n",
      "After excluding != 120 trials IDs: 29148\n",
      "After excluding more than 50% error IDs: 29135\n",
      "After excluding zero error IDs: 27573\n",
      "Successfully read datafile 2016JanSepiat7.txt .\n",
      "Converting to X and y arrays...\n",
      "IDs with less than 20 trials <200 ms or >10 seconds: (27505, 120, 3)\n",
      "IDs with 60 trials for each condition, 60 trials for both picture and word stimuli: (27505, 120, 3)\n",
      "Final shape of RTs chunk (after once more excluding cases w/ missing age or trials):  (27505, 120, 4)\n",
      "Final shape of outcomes chunk:  (27505, 120, 4)\n"
     ]
    },
    {
     "name": "stderr",
     "output_type": "stream",
     "text": [
      "/home/mischa/miniconda3/envs/bf/lib/python3.10/site-packages/numpy/core/fromnumeric.py:3432: RuntimeWarning: Mean of empty slice.\n",
      "  return _methods._mean(a, axis=axis, dtype=dtype,\n",
      "/home/mischa/miniconda3/envs/bf/lib/python3.10/site-packages/numpy/core/_methods.py:190: RuntimeWarning: invalid value encountered in divide\n",
      "  ret = ret.dtype.type(ret / rcount)\n",
      "/home/mischa/miniconda3/envs/bf/lib/python3.10/site-packages/numpy/core/_methods.py:265: RuntimeWarning: Degrees of freedom <= 0 for slice\n",
      "  ret = _var(a, axis=axis, dtype=dtype, out=out, ddof=ddof,\n",
      "/home/mischa/miniconda3/envs/bf/lib/python3.10/site-packages/numpy/core/_methods.py:223: RuntimeWarning: invalid value encountered in divide\n",
      "  arrmean = um.true_divide(arrmean, div, out=arrmean, casting='unsafe',\n",
      "/home/mischa/miniconda3/envs/bf/lib/python3.10/site-packages/numpy/core/_methods.py:257: RuntimeWarning: invalid value encountered in divide\n",
      "  ret = ret.dtype.type(ret / rcount)\n"
     ]
    },
    {
     "name": "stdout",
     "output_type": "stream",
     "text": [
      "2016JanSepiat7.txt done\n",
      "Initial shape: 50488\n",
      "After removing no age IDs: 29560\n",
      "After removing invalid IDs: 29560\n",
      "After excluding zero latency IDs: 29517\n",
      "After excluding != 120 trials IDs: 29343\n",
      "After excluding more than 50% error IDs: 29327\n",
      "After excluding zero error IDs: 27879\n",
      "Successfully read datafile 2016JanSepiat8.txt .\n",
      "Converting to X and y arrays...\n",
      "IDs with less than 20 trials <200 ms or >10 seconds: (27766, 120, 3)\n",
      "IDs with 60 trials for each condition, 60 trials for both picture and word stimuli: (27766, 120, 3)\n",
      "Final shape of RTs chunk (after once more excluding cases w/ missing age or trials):  (27766, 120, 4)\n",
      "Final shape of outcomes chunk:  (27766, 120, 4)\n"
     ]
    },
    {
     "name": "stderr",
     "output_type": "stream",
     "text": [
      "/home/mischa/miniconda3/envs/bf/lib/python3.10/site-packages/numpy/core/fromnumeric.py:3432: RuntimeWarning: Mean of empty slice.\n",
      "  return _methods._mean(a, axis=axis, dtype=dtype,\n",
      "/home/mischa/miniconda3/envs/bf/lib/python3.10/site-packages/numpy/core/_methods.py:190: RuntimeWarning: invalid value encountered in divide\n",
      "  ret = ret.dtype.type(ret / rcount)\n",
      "/home/mischa/miniconda3/envs/bf/lib/python3.10/site-packages/numpy/core/_methods.py:265: RuntimeWarning: Degrees of freedom <= 0 for slice\n",
      "  ret = _var(a, axis=axis, dtype=dtype, out=out, ddof=ddof,\n",
      "/home/mischa/miniconda3/envs/bf/lib/python3.10/site-packages/numpy/core/_methods.py:223: RuntimeWarning: invalid value encountered in divide\n",
      "  arrmean = um.true_divide(arrmean, div, out=arrmean, casting='unsafe',\n",
      "/home/mischa/miniconda3/envs/bf/lib/python3.10/site-packages/numpy/core/_methods.py:257: RuntimeWarning: invalid value encountered in divide\n",
      "  ret = ret.dtype.type(ret / rcount)\n"
     ]
    },
    {
     "name": "stdout",
     "output_type": "stream",
     "text": [
      "2016JanSepiat8.txt done\n",
      "Initial shape: 967\n",
      "After removing no age IDs: 559\n",
      "After removing invalid IDs: 559\n",
      "After excluding zero latency IDs: 559\n",
      "After excluding != 120 trials IDs: 556\n",
      "After excluding more than 50% error IDs: 556\n",
      "After excluding zero error IDs: 532\n",
      "Successfully read datafile 2016JanSepiat9.txt .\n",
      "Converting to X and y arrays...\n",
      "IDs with less than 20 trials <200 ms or >10 seconds: (525, 120, 3)\n",
      "IDs with 60 trials for each condition, 60 trials for both picture and word stimuli: (525, 120, 3)\n",
      "Final shape of RTs chunk (after once more excluding cases w/ missing age or trials):  (525, 120, 4)\n",
      "Final shape of outcomes chunk:  (525, 120, 4)\n"
     ]
    },
    {
     "name": "stderr",
     "output_type": "stream",
     "text": [
      "/home/mischa/miniconda3/envs/bf/lib/python3.10/site-packages/numpy/core/fromnumeric.py:3432: RuntimeWarning: Mean of empty slice.\n",
      "  return _methods._mean(a, axis=axis, dtype=dtype,\n",
      "/home/mischa/miniconda3/envs/bf/lib/python3.10/site-packages/numpy/core/_methods.py:190: RuntimeWarning: invalid value encountered in divide\n",
      "  ret = ret.dtype.type(ret / rcount)\n",
      "/home/mischa/miniconda3/envs/bf/lib/python3.10/site-packages/numpy/core/_methods.py:265: RuntimeWarning: Degrees of freedom <= 0 for slice\n",
      "  ret = _var(a, axis=axis, dtype=dtype, out=out, ddof=ddof,\n",
      "/home/mischa/miniconda3/envs/bf/lib/python3.10/site-packages/numpy/core/_methods.py:223: RuntimeWarning: invalid value encountered in divide\n",
      "  arrmean = um.true_divide(arrmean, div, out=arrmean, casting='unsafe',\n",
      "/home/mischa/miniconda3/envs/bf/lib/python3.10/site-packages/numpy/core/_methods.py:257: RuntimeWarning: invalid value encountered in divide\n",
      "  ret = ret.dtype.type(ret / rcount)\n"
     ]
    },
    {
     "name": "stdout",
     "output_type": "stream",
     "text": [
      "2016JanSepiat9.txt done\n",
      "Initial shape: 25680\n",
      "After removing no age IDs: 16024\n",
      "After removing invalid IDs: 16024\n",
      "After excluding zero latency IDs: 15963\n",
      "After excluding != 120 trials IDs: 15886\n",
      "After excluding more than 50% error IDs: 15864\n",
      "After excluding zero error IDs: 14785\n",
      "Successfully read datafile 2016iat.txt .\n",
      "Converting to X and y arrays...\n",
      "IDs with less than 20 trials <200 ms or >10 seconds: (14726, 120, 3)\n",
      "IDs with 60 trials for each condition, 60 trials for both picture and word stimuli: (14726, 120, 3)\n",
      "Final shape of RTs chunk (after once more excluding cases w/ missing age or trials):  (14726, 120, 4)\n",
      "Final shape of outcomes chunk:  (14726, 120, 4)\n"
     ]
    },
    {
     "name": "stderr",
     "output_type": "stream",
     "text": [
      "/home/mischa/miniconda3/envs/bf/lib/python3.10/site-packages/numpy/core/fromnumeric.py:3432: RuntimeWarning: Mean of empty slice.\n",
      "  return _methods._mean(a, axis=axis, dtype=dtype,\n",
      "/home/mischa/miniconda3/envs/bf/lib/python3.10/site-packages/numpy/core/_methods.py:190: RuntimeWarning: invalid value encountered in divide\n",
      "  ret = ret.dtype.type(ret / rcount)\n",
      "/home/mischa/miniconda3/envs/bf/lib/python3.10/site-packages/numpy/core/_methods.py:265: RuntimeWarning: Degrees of freedom <= 0 for slice\n",
      "  ret = _var(a, axis=axis, dtype=dtype, out=out, ddof=ddof,\n",
      "/home/mischa/miniconda3/envs/bf/lib/python3.10/site-packages/numpy/core/_methods.py:223: RuntimeWarning: invalid value encountered in divide\n",
      "  arrmean = um.true_divide(arrmean, div, out=arrmean, casting='unsafe',\n",
      "/home/mischa/miniconda3/envs/bf/lib/python3.10/site-packages/numpy/core/_methods.py:257: RuntimeWarning: invalid value encountered in divide\n",
      "  ret = ret.dtype.type(ret / rcount)\n"
     ]
    },
    {
     "name": "stdout",
     "output_type": "stream",
     "text": [
      "2016iat.txt done\n",
      "Initial shape: 25577\n",
      "After removing no age IDs: 15749\n",
      "After removing invalid IDs: 15749\n",
      "After excluding zero latency IDs: 15655\n",
      "After excluding != 120 trials IDs: 15569\n",
      "After excluding more than 50% error IDs: 15553\n",
      "After excluding zero error IDs: 14604\n",
      "Successfully read datafile 2016iat2.txt .\n",
      "Converting to X and y arrays...\n",
      "IDs with less than 20 trials <200 ms or >10 seconds: (14506, 120, 3)\n",
      "IDs with 60 trials for each condition, 60 trials for both picture and word stimuli: (14506, 120, 3)\n",
      "Final shape of RTs chunk (after once more excluding cases w/ missing age or trials):  (14506, 120, 4)\n",
      "Final shape of outcomes chunk:  (14506, 120, 4)\n"
     ]
    },
    {
     "name": "stderr",
     "output_type": "stream",
     "text": [
      "/home/mischa/miniconda3/envs/bf/lib/python3.10/site-packages/numpy/core/fromnumeric.py:3432: RuntimeWarning: Mean of empty slice.\n",
      "  return _methods._mean(a, axis=axis, dtype=dtype,\n",
      "/home/mischa/miniconda3/envs/bf/lib/python3.10/site-packages/numpy/core/_methods.py:190: RuntimeWarning: invalid value encountered in divide\n",
      "  ret = ret.dtype.type(ret / rcount)\n",
      "/home/mischa/miniconda3/envs/bf/lib/python3.10/site-packages/numpy/core/_methods.py:265: RuntimeWarning: Degrees of freedom <= 0 for slice\n",
      "  ret = _var(a, axis=axis, dtype=dtype, out=out, ddof=ddof,\n",
      "/home/mischa/miniconda3/envs/bf/lib/python3.10/site-packages/numpy/core/_methods.py:223: RuntimeWarning: invalid value encountered in divide\n",
      "  arrmean = um.true_divide(arrmean, div, out=arrmean, casting='unsafe',\n",
      "/home/mischa/miniconda3/envs/bf/lib/python3.10/site-packages/numpy/core/_methods.py:257: RuntimeWarning: invalid value encountered in divide\n",
      "  ret = ret.dtype.type(ret / rcount)\n"
     ]
    },
    {
     "name": "stdout",
     "output_type": "stream",
     "text": [
      "2016iat2.txt done\n",
      "Initial shape: 25602\n",
      "After removing no age IDs: 15332\n",
      "After removing invalid IDs: 15332\n",
      "After excluding zero latency IDs: 15251\n",
      "After excluding != 120 trials IDs: 15192\n",
      "After excluding more than 50% error IDs: 15177\n",
      "After excluding zero error IDs: 14299\n",
      "Successfully read datafile 2016iat3.txt .\n",
      "Converting to X and y arrays...\n",
      "IDs with less than 20 trials <200 ms or >10 seconds: (14212, 120, 3)\n",
      "IDs with 60 trials for each condition, 60 trials for both picture and word stimuli: (14212, 120, 3)\n",
      "Final shape of RTs chunk (after once more excluding cases w/ missing age or trials):  (14212, 120, 4)\n",
      "Final shape of outcomes chunk:  (14212, 120, 4)\n"
     ]
    },
    {
     "name": "stderr",
     "output_type": "stream",
     "text": [
      "/home/mischa/miniconda3/envs/bf/lib/python3.10/site-packages/numpy/core/fromnumeric.py:3432: RuntimeWarning: Mean of empty slice.\n",
      "  return _methods._mean(a, axis=axis, dtype=dtype,\n",
      "/home/mischa/miniconda3/envs/bf/lib/python3.10/site-packages/numpy/core/_methods.py:190: RuntimeWarning: invalid value encountered in divide\n",
      "  ret = ret.dtype.type(ret / rcount)\n",
      "/home/mischa/miniconda3/envs/bf/lib/python3.10/site-packages/numpy/core/_methods.py:265: RuntimeWarning: Degrees of freedom <= 0 for slice\n",
      "  ret = _var(a, axis=axis, dtype=dtype, out=out, ddof=ddof,\n",
      "/home/mischa/miniconda3/envs/bf/lib/python3.10/site-packages/numpy/core/_methods.py:223: RuntimeWarning: invalid value encountered in divide\n",
      "  arrmean = um.true_divide(arrmean, div, out=arrmean, casting='unsafe',\n",
      "/home/mischa/miniconda3/envs/bf/lib/python3.10/site-packages/numpy/core/_methods.py:257: RuntimeWarning: invalid value encountered in divide\n",
      "  ret = ret.dtype.type(ret / rcount)\n"
     ]
    },
    {
     "name": "stdout",
     "output_type": "stream",
     "text": [
      "2016iat3.txt done\n",
      "Initial shape: 25668\n",
      "After removing no age IDs: 14950\n",
      "After removing invalid IDs: 14950\n",
      "After excluding zero latency IDs: 14872\n",
      "After excluding != 120 trials IDs: 14831\n",
      "After excluding more than 50% error IDs: 14815\n",
      "After excluding zero error IDs: 13875\n",
      "Successfully read datafile 2016iat4.txt .\n",
      "Converting to X and y arrays...\n",
      "IDs with less than 20 trials <200 ms or >10 seconds: (13789, 120, 3)\n",
      "IDs with 60 trials for each condition, 60 trials for both picture and word stimuli: (13789, 120, 3)\n",
      "Final shape of RTs chunk (after once more excluding cases w/ missing age or trials):  (13789, 120, 4)\n",
      "Final shape of outcomes chunk:  (13789, 120, 4)\n"
     ]
    },
    {
     "name": "stderr",
     "output_type": "stream",
     "text": [
      "/home/mischa/miniconda3/envs/bf/lib/python3.10/site-packages/numpy/core/fromnumeric.py:3432: RuntimeWarning: Mean of empty slice.\n",
      "  return _methods._mean(a, axis=axis, dtype=dtype,\n",
      "/home/mischa/miniconda3/envs/bf/lib/python3.10/site-packages/numpy/core/_methods.py:190: RuntimeWarning: invalid value encountered in divide\n",
      "  ret = ret.dtype.type(ret / rcount)\n",
      "/home/mischa/miniconda3/envs/bf/lib/python3.10/site-packages/numpy/core/_methods.py:265: RuntimeWarning: Degrees of freedom <= 0 for slice\n",
      "  ret = _var(a, axis=axis, dtype=dtype, out=out, ddof=ddof,\n",
      "/home/mischa/miniconda3/envs/bf/lib/python3.10/site-packages/numpy/core/_methods.py:223: RuntimeWarning: invalid value encountered in divide\n",
      "  arrmean = um.true_divide(arrmean, div, out=arrmean, casting='unsafe',\n",
      "/home/mischa/miniconda3/envs/bf/lib/python3.10/site-packages/numpy/core/_methods.py:257: RuntimeWarning: invalid value encountered in divide\n",
      "  ret = ret.dtype.type(ret / rcount)\n"
     ]
    },
    {
     "name": "stdout",
     "output_type": "stream",
     "text": [
      "2016iat4.txt done\n",
      "Initial shape: 2425\n",
      "After removing no age IDs: 1399\n",
      "After removing invalid IDs: 1399\n",
      "After excluding zero latency IDs: 1397\n",
      "After excluding != 120 trials IDs: 1393\n",
      "After excluding more than 50% error IDs: 1393\n",
      "After excluding zero error IDs: 1265\n",
      "Successfully read datafile 2016iat5.txt .\n",
      "Converting to X and y arrays...\n",
      "IDs with less than 20 trials <200 ms or >10 seconds: (1259, 120, 3)\n",
      "IDs with 60 trials for each condition, 60 trials for both picture and word stimuli: (1259, 120, 3)\n",
      "Final shape of RTs chunk (after once more excluding cases w/ missing age or trials):  (1259, 120, 4)\n",
      "Final shape of outcomes chunk:  (1259, 120, 4)\n"
     ]
    },
    {
     "name": "stderr",
     "output_type": "stream",
     "text": [
      "/home/mischa/miniconda3/envs/bf/lib/python3.10/site-packages/numpy/core/fromnumeric.py:3432: RuntimeWarning: Mean of empty slice.\n",
      "  return _methods._mean(a, axis=axis, dtype=dtype,\n",
      "/home/mischa/miniconda3/envs/bf/lib/python3.10/site-packages/numpy/core/_methods.py:190: RuntimeWarning: invalid value encountered in divide\n",
      "  ret = ret.dtype.type(ret / rcount)\n",
      "/home/mischa/miniconda3/envs/bf/lib/python3.10/site-packages/numpy/core/_methods.py:265: RuntimeWarning: Degrees of freedom <= 0 for slice\n",
      "  ret = _var(a, axis=axis, dtype=dtype, out=out, ddof=ddof,\n",
      "/home/mischa/miniconda3/envs/bf/lib/python3.10/site-packages/numpy/core/_methods.py:223: RuntimeWarning: invalid value encountered in divide\n",
      "  arrmean = um.true_divide(arrmean, div, out=arrmean, casting='unsafe',\n",
      "/home/mischa/miniconda3/envs/bf/lib/python3.10/site-packages/numpy/core/_methods.py:257: RuntimeWarning: invalid value encountered in divide\n",
      "  ret = ret.dtype.type(ret / rcount)\n"
     ]
    },
    {
     "name": "stdout",
     "output_type": "stream",
     "text": [
      "2016iat5.txt done\n",
      "Initial shape: 25701\n",
      "After removing no age IDs: 15764\n",
      "After removing invalid IDs: 15764\n",
      "After excluding zero latency IDs: 15696\n",
      "After excluding != 120 trials IDs: 15613\n",
      "After excluding more than 50% error IDs: 15607\n",
      "After excluding zero error IDs: 14534\n",
      "Successfully read datafile 2017iat.txt .\n",
      "Converting to X and y arrays...\n",
      "IDs with less than 20 trials <200 ms or >10 seconds: (14453, 120, 3)\n",
      "IDs with 60 trials for each condition, 60 trials for both picture and word stimuli: (14453, 120, 3)\n",
      "Final shape of RTs chunk (after once more excluding cases w/ missing age or trials):  (14453, 120, 4)\n",
      "Final shape of outcomes chunk:  (14453, 120, 4)\n"
     ]
    },
    {
     "name": "stderr",
     "output_type": "stream",
     "text": [
      "/home/mischa/miniconda3/envs/bf/lib/python3.10/site-packages/numpy/core/fromnumeric.py:3432: RuntimeWarning: Mean of empty slice.\n",
      "  return _methods._mean(a, axis=axis, dtype=dtype,\n",
      "/home/mischa/miniconda3/envs/bf/lib/python3.10/site-packages/numpy/core/_methods.py:190: RuntimeWarning: invalid value encountered in divide\n",
      "  ret = ret.dtype.type(ret / rcount)\n",
      "/home/mischa/miniconda3/envs/bf/lib/python3.10/site-packages/numpy/core/_methods.py:265: RuntimeWarning: Degrees of freedom <= 0 for slice\n",
      "  ret = _var(a, axis=axis, dtype=dtype, out=out, ddof=ddof,\n",
      "/home/mischa/miniconda3/envs/bf/lib/python3.10/site-packages/numpy/core/_methods.py:223: RuntimeWarning: invalid value encountered in divide\n",
      "  arrmean = um.true_divide(arrmean, div, out=arrmean, casting='unsafe',\n",
      "/home/mischa/miniconda3/envs/bf/lib/python3.10/site-packages/numpy/core/_methods.py:257: RuntimeWarning: invalid value encountered in divide\n",
      "  ret = ret.dtype.type(ret / rcount)\n"
     ]
    },
    {
     "name": "stdout",
     "output_type": "stream",
     "text": [
      "2017iat.txt done\n",
      "Initial shape: 25478\n",
      "After removing no age IDs: 15816\n",
      "After removing invalid IDs: 15816\n",
      "After excluding zero latency IDs: 15717\n",
      "After excluding != 120 trials IDs: 15686\n",
      "After excluding more than 50% error IDs: 15676\n",
      "After excluding zero error IDs: 14671\n",
      "Successfully read datafile 2017iat10.txt .\n",
      "Converting to X and y arrays...\n",
      "IDs with less than 20 trials <200 ms or >10 seconds: (14591, 120, 3)\n",
      "IDs with 60 trials for each condition, 60 trials for both picture and word stimuli: (14591, 120, 3)\n",
      "Final shape of RTs chunk (after once more excluding cases w/ missing age or trials):  (14591, 120, 4)\n",
      "Final shape of outcomes chunk:  (14591, 120, 4)\n"
     ]
    },
    {
     "name": "stderr",
     "output_type": "stream",
     "text": [
      "/home/mischa/miniconda3/envs/bf/lib/python3.10/site-packages/numpy/core/fromnumeric.py:3432: RuntimeWarning: Mean of empty slice.\n",
      "  return _methods._mean(a, axis=axis, dtype=dtype,\n",
      "/home/mischa/miniconda3/envs/bf/lib/python3.10/site-packages/numpy/core/_methods.py:190: RuntimeWarning: invalid value encountered in divide\n",
      "  ret = ret.dtype.type(ret / rcount)\n",
      "/home/mischa/miniconda3/envs/bf/lib/python3.10/site-packages/numpy/core/_methods.py:265: RuntimeWarning: Degrees of freedom <= 0 for slice\n",
      "  ret = _var(a, axis=axis, dtype=dtype, out=out, ddof=ddof,\n",
      "/home/mischa/miniconda3/envs/bf/lib/python3.10/site-packages/numpy/core/_methods.py:223: RuntimeWarning: invalid value encountered in divide\n",
      "  arrmean = um.true_divide(arrmean, div, out=arrmean, casting='unsafe',\n",
      "/home/mischa/miniconda3/envs/bf/lib/python3.10/site-packages/numpy/core/_methods.py:257: RuntimeWarning: invalid value encountered in divide\n",
      "  ret = ret.dtype.type(ret / rcount)\n"
     ]
    },
    {
     "name": "stdout",
     "output_type": "stream",
     "text": [
      "2017iat10.txt done\n",
      "Initial shape: 25497\n",
      "After removing no age IDs: 15768\n",
      "After removing invalid IDs: 15768\n",
      "After excluding zero latency IDs: 15639\n",
      "After excluding != 120 trials IDs: 15602\n",
      "After excluding more than 50% error IDs: 15583\n",
      "After excluding zero error IDs: 14663\n",
      "Successfully read datafile 2017iat11.txt .\n",
      "Converting to X and y arrays...\n",
      "IDs with less than 20 trials <200 ms or >10 seconds: (14581, 120, 3)\n",
      "IDs with 60 trials for each condition, 60 trials for both picture and word stimuli: (14581, 120, 3)\n",
      "Final shape of RTs chunk (after once more excluding cases w/ missing age or trials):  (14581, 120, 4)\n",
      "Final shape of outcomes chunk:  (14581, 120, 4)\n"
     ]
    },
    {
     "name": "stderr",
     "output_type": "stream",
     "text": [
      "/home/mischa/miniconda3/envs/bf/lib/python3.10/site-packages/numpy/core/fromnumeric.py:3432: RuntimeWarning: Mean of empty slice.\n",
      "  return _methods._mean(a, axis=axis, dtype=dtype,\n",
      "/home/mischa/miniconda3/envs/bf/lib/python3.10/site-packages/numpy/core/_methods.py:190: RuntimeWarning: invalid value encountered in divide\n",
      "  ret = ret.dtype.type(ret / rcount)\n",
      "/home/mischa/miniconda3/envs/bf/lib/python3.10/site-packages/numpy/core/_methods.py:265: RuntimeWarning: Degrees of freedom <= 0 for slice\n",
      "  ret = _var(a, axis=axis, dtype=dtype, out=out, ddof=ddof,\n",
      "/home/mischa/miniconda3/envs/bf/lib/python3.10/site-packages/numpy/core/_methods.py:223: RuntimeWarning: invalid value encountered in divide\n",
      "  arrmean = um.true_divide(arrmean, div, out=arrmean, casting='unsafe',\n",
      "/home/mischa/miniconda3/envs/bf/lib/python3.10/site-packages/numpy/core/_methods.py:257: RuntimeWarning: invalid value encountered in divide\n",
      "  ret = ret.dtype.type(ret / rcount)\n"
     ]
    },
    {
     "name": "stdout",
     "output_type": "stream",
     "text": [
      "2017iat11.txt done\n",
      "Initial shape: 25425\n",
      "After removing no age IDs: 15400\n",
      "After removing invalid IDs: 15400\n",
      "After excluding zero latency IDs: 15282\n",
      "After excluding != 120 trials IDs: 15236\n",
      "After excluding more than 50% error IDs: 15224\n",
      "After excluding zero error IDs: 14317\n",
      "Successfully read datafile 2017iat12.txt .\n",
      "Converting to X and y arrays...\n",
      "IDs with less than 20 trials <200 ms or >10 seconds: (14241, 120, 3)\n",
      "IDs with 60 trials for each condition, 60 trials for both picture and word stimuli: (14241, 120, 3)\n",
      "Final shape of RTs chunk (after once more excluding cases w/ missing age or trials):  (14241, 120, 4)\n",
      "Final shape of outcomes chunk:  (14241, 120, 4)\n"
     ]
    },
    {
     "name": "stderr",
     "output_type": "stream",
     "text": [
      "/home/mischa/miniconda3/envs/bf/lib/python3.10/site-packages/numpy/core/fromnumeric.py:3432: RuntimeWarning: Mean of empty slice.\n",
      "  return _methods._mean(a, axis=axis, dtype=dtype,\n",
      "/home/mischa/miniconda3/envs/bf/lib/python3.10/site-packages/numpy/core/_methods.py:190: RuntimeWarning: invalid value encountered in divide\n",
      "  ret = ret.dtype.type(ret / rcount)\n",
      "/home/mischa/miniconda3/envs/bf/lib/python3.10/site-packages/numpy/core/_methods.py:265: RuntimeWarning: Degrees of freedom <= 0 for slice\n",
      "  ret = _var(a, axis=axis, dtype=dtype, out=out, ddof=ddof,\n",
      "/home/mischa/miniconda3/envs/bf/lib/python3.10/site-packages/numpy/core/_methods.py:223: RuntimeWarning: invalid value encountered in divide\n",
      "  arrmean = um.true_divide(arrmean, div, out=arrmean, casting='unsafe',\n",
      "/home/mischa/miniconda3/envs/bf/lib/python3.10/site-packages/numpy/core/_methods.py:257: RuntimeWarning: invalid value encountered in divide\n",
      "  ret = ret.dtype.type(ret / rcount)\n"
     ]
    },
    {
     "name": "stdout",
     "output_type": "stream",
     "text": [
      "2017iat12.txt done\n",
      "Initial shape: 25743\n",
      "After removing no age IDs: 14823\n",
      "After removing invalid IDs: 14823\n",
      "After excluding zero latency IDs: 14696\n",
      "After excluding != 120 trials IDs: 14643\n",
      "After excluding more than 50% error IDs: 14628\n",
      "After excluding zero error IDs: 13733\n",
      "Successfully read datafile 2017iat13.txt .\n",
      "Converting to X and y arrays...\n",
      "IDs with less than 20 trials <200 ms or >10 seconds: (13628, 120, 3)\n",
      "IDs with 60 trials for each condition, 60 trials for both picture and word stimuli: (13628, 120, 3)\n",
      "Final shape of RTs chunk (after once more excluding cases w/ missing age or trials):  (13628, 120, 4)\n",
      "Final shape of outcomes chunk:  (13628, 120, 4)\n"
     ]
    },
    {
     "name": "stderr",
     "output_type": "stream",
     "text": [
      "/home/mischa/miniconda3/envs/bf/lib/python3.10/site-packages/numpy/core/fromnumeric.py:3432: RuntimeWarning: Mean of empty slice.\n",
      "  return _methods._mean(a, axis=axis, dtype=dtype,\n",
      "/home/mischa/miniconda3/envs/bf/lib/python3.10/site-packages/numpy/core/_methods.py:190: RuntimeWarning: invalid value encountered in divide\n",
      "  ret = ret.dtype.type(ret / rcount)\n",
      "/home/mischa/miniconda3/envs/bf/lib/python3.10/site-packages/numpy/core/_methods.py:265: RuntimeWarning: Degrees of freedom <= 0 for slice\n",
      "  ret = _var(a, axis=axis, dtype=dtype, out=out, ddof=ddof,\n",
      "/home/mischa/miniconda3/envs/bf/lib/python3.10/site-packages/numpy/core/_methods.py:223: RuntimeWarning: invalid value encountered in divide\n",
      "  arrmean = um.true_divide(arrmean, div, out=arrmean, casting='unsafe',\n",
      "/home/mischa/miniconda3/envs/bf/lib/python3.10/site-packages/numpy/core/_methods.py:257: RuntimeWarning: invalid value encountered in divide\n",
      "  ret = ret.dtype.type(ret / rcount)\n"
     ]
    },
    {
     "name": "stdout",
     "output_type": "stream",
     "text": [
      "2017iat13.txt done\n",
      "Initial shape: 1364\n",
      "After removing no age IDs: 788\n",
      "After removing invalid IDs: 788\n",
      "After excluding zero latency IDs: 785\n",
      "After excluding != 120 trials IDs: 783\n",
      "After excluding more than 50% error IDs: 783\n",
      "After excluding zero error IDs: 718\n",
      "Successfully read datafile 2017iat14.txt .\n",
      "Converting to X and y arrays...\n",
      "IDs with less than 20 trials <200 ms or >10 seconds: (718, 120, 3)\n",
      "IDs with 60 trials for each condition, 60 trials for both picture and word stimuli: (718, 120, 3)\n",
      "Final shape of RTs chunk (after once more excluding cases w/ missing age or trials):  (718, 120, 4)\n",
      "Final shape of outcomes chunk:  (718, 120, 4)\n"
     ]
    },
    {
     "name": "stderr",
     "output_type": "stream",
     "text": [
      "/home/mischa/miniconda3/envs/bf/lib/python3.10/site-packages/numpy/core/fromnumeric.py:3432: RuntimeWarning: Mean of empty slice.\n",
      "  return _methods._mean(a, axis=axis, dtype=dtype,\n",
      "/home/mischa/miniconda3/envs/bf/lib/python3.10/site-packages/numpy/core/_methods.py:190: RuntimeWarning: invalid value encountered in divide\n",
      "  ret = ret.dtype.type(ret / rcount)\n",
      "/home/mischa/miniconda3/envs/bf/lib/python3.10/site-packages/numpy/core/_methods.py:265: RuntimeWarning: Degrees of freedom <= 0 for slice\n",
      "  ret = _var(a, axis=axis, dtype=dtype, out=out, ddof=ddof,\n",
      "/home/mischa/miniconda3/envs/bf/lib/python3.10/site-packages/numpy/core/_methods.py:223: RuntimeWarning: invalid value encountered in divide\n",
      "  arrmean = um.true_divide(arrmean, div, out=arrmean, casting='unsafe',\n",
      "/home/mischa/miniconda3/envs/bf/lib/python3.10/site-packages/numpy/core/_methods.py:257: RuntimeWarning: invalid value encountered in divide\n",
      "  ret = ret.dtype.type(ret / rcount)\n"
     ]
    },
    {
     "name": "stdout",
     "output_type": "stream",
     "text": [
      "2017iat14.txt done\n",
      "Initial shape: 25545\n",
      "After removing no age IDs: 15711\n",
      "After removing invalid IDs: 15711\n",
      "After excluding zero latency IDs: 15655\n",
      "After excluding != 120 trials IDs: 15605\n",
      "After excluding more than 50% error IDs: 15598\n",
      "After excluding zero error IDs: 14569\n",
      "Successfully read datafile 2017iat2.txt .\n",
      "Converting to X and y arrays...\n",
      "IDs with less than 20 trials <200 ms or >10 seconds: (14508, 120, 3)\n",
      "IDs with 60 trials for each condition, 60 trials for both picture and word stimuli: (14508, 120, 3)\n",
      "Final shape of RTs chunk (after once more excluding cases w/ missing age or trials):  (14508, 120, 4)\n",
      "Final shape of outcomes chunk:  (14508, 120, 4)\n"
     ]
    },
    {
     "name": "stderr",
     "output_type": "stream",
     "text": [
      "/home/mischa/miniconda3/envs/bf/lib/python3.10/site-packages/numpy/core/fromnumeric.py:3432: RuntimeWarning: Mean of empty slice.\n",
      "  return _methods._mean(a, axis=axis, dtype=dtype,\n",
      "/home/mischa/miniconda3/envs/bf/lib/python3.10/site-packages/numpy/core/_methods.py:190: RuntimeWarning: invalid value encountered in divide\n",
      "  ret = ret.dtype.type(ret / rcount)\n",
      "/home/mischa/miniconda3/envs/bf/lib/python3.10/site-packages/numpy/core/_methods.py:265: RuntimeWarning: Degrees of freedom <= 0 for slice\n",
      "  ret = _var(a, axis=axis, dtype=dtype, out=out, ddof=ddof,\n",
      "/home/mischa/miniconda3/envs/bf/lib/python3.10/site-packages/numpy/core/_methods.py:223: RuntimeWarning: invalid value encountered in divide\n",
      "  arrmean = um.true_divide(arrmean, div, out=arrmean, casting='unsafe',\n",
      "/home/mischa/miniconda3/envs/bf/lib/python3.10/site-packages/numpy/core/_methods.py:257: RuntimeWarning: invalid value encountered in divide\n",
      "  ret = ret.dtype.type(ret / rcount)\n"
     ]
    },
    {
     "name": "stdout",
     "output_type": "stream",
     "text": [
      "2017iat2.txt done\n",
      "Initial shape: 25647\n",
      "After removing no age IDs: 15112\n",
      "After removing invalid IDs: 15112\n",
      "After excluding zero latency IDs: 15034\n",
      "After excluding != 120 trials IDs: 14986\n",
      "After excluding more than 50% error IDs: 14973\n",
      "After excluding zero error IDs: 14005\n",
      "Successfully read datafile 2017iat3.txt .\n",
      "Converting to X and y arrays...\n",
      "IDs with less than 20 trials <200 ms or >10 seconds: (13937, 120, 3)\n",
      "IDs with 60 trials for each condition, 60 trials for both picture and word stimuli: (13937, 120, 3)\n",
      "Final shape of RTs chunk (after once more excluding cases w/ missing age or trials):  (13937, 120, 4)\n",
      "Final shape of outcomes chunk:  (13937, 120, 4)\n"
     ]
    },
    {
     "name": "stderr",
     "output_type": "stream",
     "text": [
      "/home/mischa/miniconda3/envs/bf/lib/python3.10/site-packages/numpy/core/fromnumeric.py:3432: RuntimeWarning: Mean of empty slice.\n",
      "  return _methods._mean(a, axis=axis, dtype=dtype,\n",
      "/home/mischa/miniconda3/envs/bf/lib/python3.10/site-packages/numpy/core/_methods.py:190: RuntimeWarning: invalid value encountered in divide\n",
      "  ret = ret.dtype.type(ret / rcount)\n",
      "/home/mischa/miniconda3/envs/bf/lib/python3.10/site-packages/numpy/core/_methods.py:265: RuntimeWarning: Degrees of freedom <= 0 for slice\n",
      "  ret = _var(a, axis=axis, dtype=dtype, out=out, ddof=ddof,\n",
      "/home/mischa/miniconda3/envs/bf/lib/python3.10/site-packages/numpy/core/_methods.py:223: RuntimeWarning: invalid value encountered in divide\n",
      "  arrmean = um.true_divide(arrmean, div, out=arrmean, casting='unsafe',\n",
      "/home/mischa/miniconda3/envs/bf/lib/python3.10/site-packages/numpy/core/_methods.py:257: RuntimeWarning: invalid value encountered in divide\n",
      "  ret = ret.dtype.type(ret / rcount)\n"
     ]
    },
    {
     "name": "stdout",
     "output_type": "stream",
     "text": [
      "2017iat3.txt done\n",
      "Initial shape: 25603\n",
      "After removing no age IDs: 15134\n",
      "After removing invalid IDs: 15134\n",
      "After excluding zero latency IDs: 15069\n",
      "After excluding != 120 trials IDs: 15013\n",
      "After excluding more than 50% error IDs: 14998\n",
      "After excluding zero error IDs: 14068\n",
      "Successfully read datafile 2017iat4.txt .\n",
      "Converting to X and y arrays...\n",
      "IDs with less than 20 trials <200 ms or >10 seconds: (13971, 120, 3)\n",
      "IDs with 60 trials for each condition, 60 trials for both picture and word stimuli: (13971, 120, 3)\n",
      "Final shape of RTs chunk (after once more excluding cases w/ missing age or trials):  (13971, 120, 4)\n",
      "Final shape of outcomes chunk:  (13971, 120, 4)\n"
     ]
    },
    {
     "name": "stderr",
     "output_type": "stream",
     "text": [
      "/home/mischa/miniconda3/envs/bf/lib/python3.10/site-packages/numpy/core/fromnumeric.py:3432: RuntimeWarning: Mean of empty slice.\n",
      "  return _methods._mean(a, axis=axis, dtype=dtype,\n",
      "/home/mischa/miniconda3/envs/bf/lib/python3.10/site-packages/numpy/core/_methods.py:190: RuntimeWarning: invalid value encountered in divide\n",
      "  ret = ret.dtype.type(ret / rcount)\n",
      "/home/mischa/miniconda3/envs/bf/lib/python3.10/site-packages/numpy/core/_methods.py:265: RuntimeWarning: Degrees of freedom <= 0 for slice\n",
      "  ret = _var(a, axis=axis, dtype=dtype, out=out, ddof=ddof,\n",
      "/home/mischa/miniconda3/envs/bf/lib/python3.10/site-packages/numpy/core/_methods.py:223: RuntimeWarning: invalid value encountered in divide\n",
      "  arrmean = um.true_divide(arrmean, div, out=arrmean, casting='unsafe',\n",
      "/home/mischa/miniconda3/envs/bf/lib/python3.10/site-packages/numpy/core/_methods.py:257: RuntimeWarning: invalid value encountered in divide\n",
      "  ret = ret.dtype.type(ret / rcount)\n"
     ]
    },
    {
     "name": "stdout",
     "output_type": "stream",
     "text": [
      "2017iat4.txt done\n",
      "Initial shape: 25563\n",
      "After removing no age IDs: 14916\n",
      "After removing invalid IDs: 14916\n",
      "After excluding zero latency IDs: 14831\n",
      "After excluding != 120 trials IDs: 14782\n",
      "After excluding more than 50% error IDs: 14771\n",
      "After excluding zero error IDs: 13880\n",
      "Successfully read datafile 2017iat5.txt .\n",
      "Converting to X and y arrays...\n",
      "IDs with less than 20 trials <200 ms or >10 seconds: (13784, 120, 3)\n",
      "IDs with 60 trials for each condition, 60 trials for both picture and word stimuli: (13784, 120, 3)\n",
      "Final shape of RTs chunk (after once more excluding cases w/ missing age or trials):  (13784, 120, 4)\n",
      "Final shape of outcomes chunk:  (13784, 120, 4)\n"
     ]
    },
    {
     "name": "stderr",
     "output_type": "stream",
     "text": [
      "/home/mischa/miniconda3/envs/bf/lib/python3.10/site-packages/numpy/core/fromnumeric.py:3432: RuntimeWarning: Mean of empty slice.\n",
      "  return _methods._mean(a, axis=axis, dtype=dtype,\n",
      "/home/mischa/miniconda3/envs/bf/lib/python3.10/site-packages/numpy/core/_methods.py:190: RuntimeWarning: invalid value encountered in divide\n",
      "  ret = ret.dtype.type(ret / rcount)\n",
      "/home/mischa/miniconda3/envs/bf/lib/python3.10/site-packages/numpy/core/_methods.py:265: RuntimeWarning: Degrees of freedom <= 0 for slice\n",
      "  ret = _var(a, axis=axis, dtype=dtype, out=out, ddof=ddof,\n",
      "/home/mischa/miniconda3/envs/bf/lib/python3.10/site-packages/numpy/core/_methods.py:223: RuntimeWarning: invalid value encountered in divide\n",
      "  arrmean = um.true_divide(arrmean, div, out=arrmean, casting='unsafe',\n",
      "/home/mischa/miniconda3/envs/bf/lib/python3.10/site-packages/numpy/core/_methods.py:257: RuntimeWarning: invalid value encountered in divide\n",
      "  ret = ret.dtype.type(ret / rcount)\n"
     ]
    },
    {
     "name": "stdout",
     "output_type": "stream",
     "text": [
      "2017iat5.txt done\n",
      "Initial shape: 25758\n",
      "After removing no age IDs: 14385\n",
      "After removing invalid IDs: 14385\n",
      "After excluding zero latency IDs: 14320\n",
      "After excluding != 120 trials IDs: 14275\n",
      "After excluding more than 50% error IDs: 14260\n",
      "After excluding zero error IDs: 13357\n",
      "Successfully read datafile 2017iat6.txt .\n",
      "Converting to X and y arrays...\n",
      "IDs with less than 20 trials <200 ms or >10 seconds: (13275, 120, 3)\n",
      "IDs with 60 trials for each condition, 60 trials for both picture and word stimuli: (13275, 120, 3)\n",
      "Final shape of RTs chunk (after once more excluding cases w/ missing age or trials):  (13275, 120, 4)\n",
      "Final shape of outcomes chunk:  (13275, 120, 4)\n"
     ]
    },
    {
     "name": "stderr",
     "output_type": "stream",
     "text": [
      "/home/mischa/miniconda3/envs/bf/lib/python3.10/site-packages/numpy/core/fromnumeric.py:3432: RuntimeWarning: Mean of empty slice.\n",
      "  return _methods._mean(a, axis=axis, dtype=dtype,\n",
      "/home/mischa/miniconda3/envs/bf/lib/python3.10/site-packages/numpy/core/_methods.py:190: RuntimeWarning: invalid value encountered in divide\n",
      "  ret = ret.dtype.type(ret / rcount)\n",
      "/home/mischa/miniconda3/envs/bf/lib/python3.10/site-packages/numpy/core/_methods.py:265: RuntimeWarning: Degrees of freedom <= 0 for slice\n",
      "  ret = _var(a, axis=axis, dtype=dtype, out=out, ddof=ddof,\n",
      "/home/mischa/miniconda3/envs/bf/lib/python3.10/site-packages/numpy/core/_methods.py:223: RuntimeWarning: invalid value encountered in divide\n",
      "  arrmean = um.true_divide(arrmean, div, out=arrmean, casting='unsafe',\n",
      "/home/mischa/miniconda3/envs/bf/lib/python3.10/site-packages/numpy/core/_methods.py:257: RuntimeWarning: invalid value encountered in divide\n",
      "  ret = ret.dtype.type(ret / rcount)\n"
     ]
    },
    {
     "name": "stdout",
     "output_type": "stream",
     "text": [
      "2017iat6.txt done\n",
      "Initial shape: 25772\n",
      "After removing no age IDs: 14765\n",
      "After removing invalid IDs: 14765\n",
      "After excluding zero latency IDs: 14721\n",
      "After excluding != 120 trials IDs: 14559\n",
      "After excluding more than 50% error IDs: 14553\n",
      "After excluding zero error IDs: 13389\n",
      "Successfully read datafile 2017iat7.txt .\n",
      "Converting to X and y arrays...\n",
      "IDs with less than 20 trials <200 ms or >10 seconds: (13364, 120, 3)\n",
      "IDs with 60 trials for each condition, 60 trials for both picture and word stimuli: (13364, 120, 3)\n",
      "Final shape of RTs chunk (after once more excluding cases w/ missing age or trials):  (13364, 120, 4)\n",
      "Final shape of outcomes chunk:  (13364, 120, 4)\n"
     ]
    },
    {
     "name": "stderr",
     "output_type": "stream",
     "text": [
      "/home/mischa/miniconda3/envs/bf/lib/python3.10/site-packages/numpy/core/fromnumeric.py:3432: RuntimeWarning: Mean of empty slice.\n",
      "  return _methods._mean(a, axis=axis, dtype=dtype,\n",
      "/home/mischa/miniconda3/envs/bf/lib/python3.10/site-packages/numpy/core/_methods.py:190: RuntimeWarning: invalid value encountered in divide\n",
      "  ret = ret.dtype.type(ret / rcount)\n",
      "/home/mischa/miniconda3/envs/bf/lib/python3.10/site-packages/numpy/core/_methods.py:265: RuntimeWarning: Degrees of freedom <= 0 for slice\n",
      "  ret = _var(a, axis=axis, dtype=dtype, out=out, ddof=ddof,\n",
      "/home/mischa/miniconda3/envs/bf/lib/python3.10/site-packages/numpy/core/_methods.py:223: RuntimeWarning: invalid value encountered in divide\n",
      "  arrmean = um.true_divide(arrmean, div, out=arrmean, casting='unsafe',\n",
      "/home/mischa/miniconda3/envs/bf/lib/python3.10/site-packages/numpy/core/_methods.py:257: RuntimeWarning: invalid value encountered in divide\n",
      "  ret = ret.dtype.type(ret / rcount)\n"
     ]
    },
    {
     "name": "stdout",
     "output_type": "stream",
     "text": [
      "2017iat7.txt done\n",
      "Initial shape: 25573\n",
      "After removing no age IDs: 16121\n",
      "After removing invalid IDs: 16121\n",
      "After excluding zero latency IDs: 16071\n",
      "After excluding != 120 trials IDs: 16031\n",
      "After excluding more than 50% error IDs: 16018\n",
      "After excluding zero error IDs: 14727\n",
      "Successfully read datafile 2017iat8.txt .\n",
      "Converting to X and y arrays...\n",
      "IDs with less than 20 trials <200 ms or >10 seconds: (14698, 120, 3)\n",
      "IDs with 60 trials for each condition, 60 trials for both picture and word stimuli: (14698, 120, 3)\n",
      "Final shape of RTs chunk (after once more excluding cases w/ missing age or trials):  (14698, 120, 4)\n",
      "Final shape of outcomes chunk:  (14698, 120, 4)\n"
     ]
    },
    {
     "name": "stderr",
     "output_type": "stream",
     "text": [
      "/home/mischa/miniconda3/envs/bf/lib/python3.10/site-packages/numpy/core/fromnumeric.py:3432: RuntimeWarning: Mean of empty slice.\n",
      "  return _methods._mean(a, axis=axis, dtype=dtype,\n",
      "/home/mischa/miniconda3/envs/bf/lib/python3.10/site-packages/numpy/core/_methods.py:190: RuntimeWarning: invalid value encountered in divide\n",
      "  ret = ret.dtype.type(ret / rcount)\n",
      "/home/mischa/miniconda3/envs/bf/lib/python3.10/site-packages/numpy/core/_methods.py:265: RuntimeWarning: Degrees of freedom <= 0 for slice\n",
      "  ret = _var(a, axis=axis, dtype=dtype, out=out, ddof=ddof,\n",
      "/home/mischa/miniconda3/envs/bf/lib/python3.10/site-packages/numpy/core/_methods.py:223: RuntimeWarning: invalid value encountered in divide\n",
      "  arrmean = um.true_divide(arrmean, div, out=arrmean, casting='unsafe',\n",
      "/home/mischa/miniconda3/envs/bf/lib/python3.10/site-packages/numpy/core/_methods.py:257: RuntimeWarning: invalid value encountered in divide\n",
      "  ret = ret.dtype.type(ret / rcount)\n"
     ]
    },
    {
     "name": "stdout",
     "output_type": "stream",
     "text": [
      "2017iat8.txt done\n",
      "Initial shape: 25714\n",
      "After removing no age IDs: 16057\n",
      "After removing invalid IDs: 16057\n",
      "After excluding zero latency IDs: 15954\n",
      "After excluding != 120 trials IDs: 15913\n",
      "After excluding more than 50% error IDs: 15894\n",
      "After excluding zero error IDs: 14890\n",
      "Successfully read datafile 2017iat9.txt .\n",
      "Converting to X and y arrays...\n",
      "IDs with less than 20 trials <200 ms or >10 seconds: (14816, 120, 3)\n",
      "IDs with 60 trials for each condition, 60 trials for both picture and word stimuli: (14816, 120, 3)\n",
      "Final shape of RTs chunk (after once more excluding cases w/ missing age or trials):  (14816, 120, 4)\n",
      "Final shape of outcomes chunk:  (14816, 120, 4)\n"
     ]
    },
    {
     "name": "stderr",
     "output_type": "stream",
     "text": [
      "/home/mischa/miniconda3/envs/bf/lib/python3.10/site-packages/numpy/core/fromnumeric.py:3432: RuntimeWarning: Mean of empty slice.\n",
      "  return _methods._mean(a, axis=axis, dtype=dtype,\n",
      "/home/mischa/miniconda3/envs/bf/lib/python3.10/site-packages/numpy/core/_methods.py:190: RuntimeWarning: invalid value encountered in divide\n",
      "  ret = ret.dtype.type(ret / rcount)\n",
      "/home/mischa/miniconda3/envs/bf/lib/python3.10/site-packages/numpy/core/_methods.py:265: RuntimeWarning: Degrees of freedom <= 0 for slice\n",
      "  ret = _var(a, axis=axis, dtype=dtype, out=out, ddof=ddof,\n",
      "/home/mischa/miniconda3/envs/bf/lib/python3.10/site-packages/numpy/core/_methods.py:223: RuntimeWarning: invalid value encountered in divide\n",
      "  arrmean = um.true_divide(arrmean, div, out=arrmean, casting='unsafe',\n",
      "/home/mischa/miniconda3/envs/bf/lib/python3.10/site-packages/numpy/core/_methods.py:257: RuntimeWarning: invalid value encountered in divide\n",
      "  ret = ret.dtype.type(ret / rcount)\n"
     ]
    },
    {
     "name": "stdout",
     "output_type": "stream",
     "text": [
      "2017iat9.txt done\n",
      "Initial shape: 25496\n",
      "After removing no age IDs: 15641\n",
      "After removing invalid IDs: 15641\n",
      "After excluding zero latency IDs: 15530\n",
      "After excluding != 120 trials IDs: 15503\n",
      "After excluding more than 50% error IDs: 15487\n",
      "After excluding zero error IDs: 14469\n",
      "Successfully read datafile 2018iat.txt .\n",
      "Converting to X and y arrays...\n",
      "IDs with less than 20 trials <200 ms or >10 seconds: (14394, 120, 3)\n",
      "IDs with 60 trials for each condition, 60 trials for both picture and word stimuli: (14394, 120, 3)\n",
      "Final shape of RTs chunk (after once more excluding cases w/ missing age or trials):  (14394, 120, 4)\n",
      "Final shape of outcomes chunk:  (14394, 120, 4)\n"
     ]
    },
    {
     "name": "stderr",
     "output_type": "stream",
     "text": [
      "/home/mischa/miniconda3/envs/bf/lib/python3.10/site-packages/numpy/core/fromnumeric.py:3432: RuntimeWarning: Mean of empty slice.\n",
      "  return _methods._mean(a, axis=axis, dtype=dtype,\n",
      "/home/mischa/miniconda3/envs/bf/lib/python3.10/site-packages/numpy/core/_methods.py:190: RuntimeWarning: invalid value encountered in divide\n",
      "  ret = ret.dtype.type(ret / rcount)\n",
      "/home/mischa/miniconda3/envs/bf/lib/python3.10/site-packages/numpy/core/_methods.py:265: RuntimeWarning: Degrees of freedom <= 0 for slice\n",
      "  ret = _var(a, axis=axis, dtype=dtype, out=out, ddof=ddof,\n",
      "/home/mischa/miniconda3/envs/bf/lib/python3.10/site-packages/numpy/core/_methods.py:223: RuntimeWarning: invalid value encountered in divide\n",
      "  arrmean = um.true_divide(arrmean, div, out=arrmean, casting='unsafe',\n",
      "/home/mischa/miniconda3/envs/bf/lib/python3.10/site-packages/numpy/core/_methods.py:257: RuntimeWarning: invalid value encountered in divide\n",
      "  ret = ret.dtype.type(ret / rcount)\n"
     ]
    },
    {
     "name": "stdout",
     "output_type": "stream",
     "text": [
      "2018iat.txt done\n",
      "Initial shape: 25681\n",
      "After removing no age IDs: 15580\n",
      "After removing invalid IDs: 15580\n",
      "After excluding zero latency IDs: 15452\n",
      "After excluding != 120 trials IDs: 15418\n",
      "After excluding more than 50% error IDs: 15409\n",
      "After excluding zero error IDs: 14465\n",
      "Successfully read datafile 2018iat10.txt .\n",
      "Converting to X and y arrays...\n",
      "IDs with less than 20 trials <200 ms or >10 seconds: (14363, 120, 3)\n",
      "IDs with 60 trials for each condition, 60 trials for both picture and word stimuli: (14363, 120, 3)\n",
      "Final shape of RTs chunk (after once more excluding cases w/ missing age or trials):  (14363, 120, 4)\n",
      "Final shape of outcomes chunk:  (14363, 120, 4)\n"
     ]
    },
    {
     "name": "stderr",
     "output_type": "stream",
     "text": [
      "/home/mischa/miniconda3/envs/bf/lib/python3.10/site-packages/numpy/core/fromnumeric.py:3432: RuntimeWarning: Mean of empty slice.\n",
      "  return _methods._mean(a, axis=axis, dtype=dtype,\n",
      "/home/mischa/miniconda3/envs/bf/lib/python3.10/site-packages/numpy/core/_methods.py:190: RuntimeWarning: invalid value encountered in divide\n",
      "  ret = ret.dtype.type(ret / rcount)\n",
      "/home/mischa/miniconda3/envs/bf/lib/python3.10/site-packages/numpy/core/_methods.py:265: RuntimeWarning: Degrees of freedom <= 0 for slice\n",
      "  ret = _var(a, axis=axis, dtype=dtype, out=out, ddof=ddof,\n",
      "/home/mischa/miniconda3/envs/bf/lib/python3.10/site-packages/numpy/core/_methods.py:223: RuntimeWarning: invalid value encountered in divide\n",
      "  arrmean = um.true_divide(arrmean, div, out=arrmean, casting='unsafe',\n",
      "/home/mischa/miniconda3/envs/bf/lib/python3.10/site-packages/numpy/core/_methods.py:257: RuntimeWarning: invalid value encountered in divide\n",
      "  ret = ret.dtype.type(ret / rcount)\n"
     ]
    },
    {
     "name": "stdout",
     "output_type": "stream",
     "text": [
      "2018iat10.txt done\n",
      "Initial shape: 25513\n",
      "After removing no age IDs: 15582\n",
      "After removing invalid IDs: 15582\n",
      "After excluding zero latency IDs: 15472\n",
      "After excluding != 120 trials IDs: 15441\n",
      "After excluding more than 50% error IDs: 15420\n",
      "After excluding zero error IDs: 14395\n",
      "Successfully read datafile 2018iat11.txt .\n",
      "Converting to X and y arrays...\n",
      "IDs with less than 20 trials <200 ms or >10 seconds: (14300, 120, 3)\n",
      "IDs with 60 trials for each condition, 60 trials for both picture and word stimuli: (14300, 120, 3)\n",
      "Final shape of RTs chunk (after once more excluding cases w/ missing age or trials):  (14300, 120, 4)\n",
      "Final shape of outcomes chunk:  (14300, 120, 4)\n"
     ]
    },
    {
     "name": "stderr",
     "output_type": "stream",
     "text": [
      "/home/mischa/miniconda3/envs/bf/lib/python3.10/site-packages/numpy/core/fromnumeric.py:3432: RuntimeWarning: Mean of empty slice.\n",
      "  return _methods._mean(a, axis=axis, dtype=dtype,\n",
      "/home/mischa/miniconda3/envs/bf/lib/python3.10/site-packages/numpy/core/_methods.py:190: RuntimeWarning: invalid value encountered in divide\n",
      "  ret = ret.dtype.type(ret / rcount)\n",
      "/home/mischa/miniconda3/envs/bf/lib/python3.10/site-packages/numpy/core/_methods.py:265: RuntimeWarning: Degrees of freedom <= 0 for slice\n",
      "  ret = _var(a, axis=axis, dtype=dtype, out=out, ddof=ddof,\n",
      "/home/mischa/miniconda3/envs/bf/lib/python3.10/site-packages/numpy/core/_methods.py:223: RuntimeWarning: invalid value encountered in divide\n",
      "  arrmean = um.true_divide(arrmean, div, out=arrmean, casting='unsafe',\n",
      "/home/mischa/miniconda3/envs/bf/lib/python3.10/site-packages/numpy/core/_methods.py:257: RuntimeWarning: invalid value encountered in divide\n",
      "  ret = ret.dtype.type(ret / rcount)\n"
     ]
    },
    {
     "name": "stdout",
     "output_type": "stream",
     "text": [
      "2018iat11.txt done\n",
      "Initial shape: 25530\n",
      "After removing no age IDs: 14803\n",
      "After removing invalid IDs: 14803\n",
      "After excluding zero latency IDs: 14678\n",
      "After excluding != 120 trials IDs: 14654\n",
      "After excluding more than 50% error IDs: 14629\n",
      "After excluding zero error IDs: 13736\n",
      "Successfully read datafile 2018iat12.txt .\n",
      "Converting to X and y arrays...\n",
      "IDs with less than 20 trials <200 ms or >10 seconds: (13639, 120, 3)\n",
      "IDs with 60 trials for each condition, 60 trials for both picture and word stimuli: (13639, 120, 3)\n",
      "Final shape of RTs chunk (after once more excluding cases w/ missing age or trials):  (13639, 120, 4)\n",
      "Final shape of outcomes chunk:  (13639, 120, 4)\n"
     ]
    },
    {
     "name": "stderr",
     "output_type": "stream",
     "text": [
      "/home/mischa/miniconda3/envs/bf/lib/python3.10/site-packages/numpy/core/fromnumeric.py:3432: RuntimeWarning: Mean of empty slice.\n",
      "  return _methods._mean(a, axis=axis, dtype=dtype,\n",
      "/home/mischa/miniconda3/envs/bf/lib/python3.10/site-packages/numpy/core/_methods.py:190: RuntimeWarning: invalid value encountered in divide\n",
      "  ret = ret.dtype.type(ret / rcount)\n",
      "/home/mischa/miniconda3/envs/bf/lib/python3.10/site-packages/numpy/core/_methods.py:265: RuntimeWarning: Degrees of freedom <= 0 for slice\n",
      "  ret = _var(a, axis=axis, dtype=dtype, out=out, ddof=ddof,\n",
      "/home/mischa/miniconda3/envs/bf/lib/python3.10/site-packages/numpy/core/_methods.py:223: RuntimeWarning: invalid value encountered in divide\n",
      "  arrmean = um.true_divide(arrmean, div, out=arrmean, casting='unsafe',\n",
      "/home/mischa/miniconda3/envs/bf/lib/python3.10/site-packages/numpy/core/_methods.py:257: RuntimeWarning: invalid value encountered in divide\n",
      "  ret = ret.dtype.type(ret / rcount)\n"
     ]
    },
    {
     "name": "stdout",
     "output_type": "stream",
     "text": [
      "2018iat12.txt done\n",
      "Initial shape: 8008\n",
      "After removing no age IDs: 4416\n",
      "After removing invalid IDs: 4416\n",
      "After excluding zero latency IDs: 4389\n",
      "After excluding != 120 trials IDs: 4385\n",
      "After excluding more than 50% error IDs: 4376\n",
      "After excluding zero error IDs: 4052\n",
      "Successfully read datafile 2018iat13.txt .\n",
      "Converting to X and y arrays...\n",
      "IDs with less than 20 trials <200 ms or >10 seconds: (4020, 120, 3)\n",
      "IDs with 60 trials for each condition, 60 trials for both picture and word stimuli: (4020, 120, 3)\n",
      "Final shape of RTs chunk (after once more excluding cases w/ missing age or trials):  (4020, 120, 4)\n",
      "Final shape of outcomes chunk:  (4020, 120, 4)\n"
     ]
    },
    {
     "name": "stderr",
     "output_type": "stream",
     "text": [
      "/home/mischa/miniconda3/envs/bf/lib/python3.10/site-packages/numpy/core/fromnumeric.py:3432: RuntimeWarning: Mean of empty slice.\n",
      "  return _methods._mean(a, axis=axis, dtype=dtype,\n",
      "/home/mischa/miniconda3/envs/bf/lib/python3.10/site-packages/numpy/core/_methods.py:190: RuntimeWarning: invalid value encountered in divide\n",
      "  ret = ret.dtype.type(ret / rcount)\n",
      "/home/mischa/miniconda3/envs/bf/lib/python3.10/site-packages/numpy/core/_methods.py:265: RuntimeWarning: Degrees of freedom <= 0 for slice\n",
      "  ret = _var(a, axis=axis, dtype=dtype, out=out, ddof=ddof,\n",
      "/home/mischa/miniconda3/envs/bf/lib/python3.10/site-packages/numpy/core/_methods.py:223: RuntimeWarning: invalid value encountered in divide\n",
      "  arrmean = um.true_divide(arrmean, div, out=arrmean, casting='unsafe',\n",
      "/home/mischa/miniconda3/envs/bf/lib/python3.10/site-packages/numpy/core/_methods.py:257: RuntimeWarning: invalid value encountered in divide\n",
      "  ret = ret.dtype.type(ret / rcount)\n"
     ]
    },
    {
     "name": "stdout",
     "output_type": "stream",
     "text": [
      "2018iat13.txt done\n",
      "Initial shape: 25630\n",
      "After removing no age IDs: 15408\n",
      "After removing invalid IDs: 15408\n",
      "After excluding zero latency IDs: 15299\n",
      "After excluding != 120 trials IDs: 15255\n",
      "After excluding more than 50% error IDs: 15247\n",
      "After excluding zero error IDs: 14363\n",
      "Successfully read datafile 2018iat2.txt .\n",
      "Converting to X and y arrays...\n",
      "IDs with less than 20 trials <200 ms or >10 seconds: (14257, 120, 3)\n",
      "IDs with 60 trials for each condition, 60 trials for both picture and word stimuli: (14257, 120, 3)\n",
      "Final shape of RTs chunk (after once more excluding cases w/ missing age or trials):  (14257, 120, 4)\n",
      "Final shape of outcomes chunk:  (14257, 120, 4)\n"
     ]
    },
    {
     "name": "stderr",
     "output_type": "stream",
     "text": [
      "/home/mischa/miniconda3/envs/bf/lib/python3.10/site-packages/numpy/core/fromnumeric.py:3432: RuntimeWarning: Mean of empty slice.\n",
      "  return _methods._mean(a, axis=axis, dtype=dtype,\n",
      "/home/mischa/miniconda3/envs/bf/lib/python3.10/site-packages/numpy/core/_methods.py:190: RuntimeWarning: invalid value encountered in divide\n",
      "  ret = ret.dtype.type(ret / rcount)\n",
      "/home/mischa/miniconda3/envs/bf/lib/python3.10/site-packages/numpy/core/_methods.py:265: RuntimeWarning: Degrees of freedom <= 0 for slice\n",
      "  ret = _var(a, axis=axis, dtype=dtype, out=out, ddof=ddof,\n",
      "/home/mischa/miniconda3/envs/bf/lib/python3.10/site-packages/numpy/core/_methods.py:223: RuntimeWarning: invalid value encountered in divide\n",
      "  arrmean = um.true_divide(arrmean, div, out=arrmean, casting='unsafe',\n",
      "/home/mischa/miniconda3/envs/bf/lib/python3.10/site-packages/numpy/core/_methods.py:257: RuntimeWarning: invalid value encountered in divide\n",
      "  ret = ret.dtype.type(ret / rcount)\n"
     ]
    },
    {
     "name": "stdout",
     "output_type": "stream",
     "text": [
      "2018iat2.txt done\n",
      "Initial shape: 25904\n",
      "After removing no age IDs: 15330\n",
      "After removing invalid IDs: 15330\n",
      "After excluding zero latency IDs: 15221\n",
      "After excluding != 120 trials IDs: 15173\n",
      "After excluding more than 50% error IDs: 15155\n",
      "After excluding zero error IDs: 14293\n",
      "Successfully read datafile 2018iat3.txt .\n",
      "Converting to X and y arrays...\n",
      "IDs with less than 20 trials <200 ms or >10 seconds: (14210, 120, 3)\n",
      "IDs with 60 trials for each condition, 60 trials for both picture and word stimuli: (14210, 120, 3)\n",
      "Final shape of RTs chunk (after once more excluding cases w/ missing age or trials):  (14210, 120, 4)\n",
      "Final shape of outcomes chunk:  (14210, 120, 4)\n"
     ]
    },
    {
     "name": "stderr",
     "output_type": "stream",
     "text": [
      "/home/mischa/miniconda3/envs/bf/lib/python3.10/site-packages/numpy/core/fromnumeric.py:3432: RuntimeWarning: Mean of empty slice.\n",
      "  return _methods._mean(a, axis=axis, dtype=dtype,\n",
      "/home/mischa/miniconda3/envs/bf/lib/python3.10/site-packages/numpy/core/_methods.py:190: RuntimeWarning: invalid value encountered in divide\n",
      "  ret = ret.dtype.type(ret / rcount)\n",
      "/home/mischa/miniconda3/envs/bf/lib/python3.10/site-packages/numpy/core/_methods.py:265: RuntimeWarning: Degrees of freedom <= 0 for slice\n",
      "  ret = _var(a, axis=axis, dtype=dtype, out=out, ddof=ddof,\n",
      "/home/mischa/miniconda3/envs/bf/lib/python3.10/site-packages/numpy/core/_methods.py:223: RuntimeWarning: invalid value encountered in divide\n",
      "  arrmean = um.true_divide(arrmean, div, out=arrmean, casting='unsafe',\n",
      "/home/mischa/miniconda3/envs/bf/lib/python3.10/site-packages/numpy/core/_methods.py:257: RuntimeWarning: invalid value encountered in divide\n",
      "  ret = ret.dtype.type(ret / rcount)\n"
     ]
    },
    {
     "name": "stdout",
     "output_type": "stream",
     "text": [
      "2018iat3.txt done\n",
      "Initial shape: 25835\n",
      "After removing no age IDs: 14998\n",
      "After removing invalid IDs: 14998\n",
      "After excluding zero latency IDs: 14900\n",
      "After excluding != 120 trials IDs: 14859\n",
      "After excluding more than 50% error IDs: 14847\n",
      "After excluding zero error IDs: 13998\n",
      "Successfully read datafile 2018iat4.txt .\n",
      "Converting to X and y arrays...\n",
      "IDs with less than 20 trials <200 ms or >10 seconds: (13931, 120, 3)\n",
      "IDs with 60 trials for each condition, 60 trials for both picture and word stimuli: (13931, 120, 3)\n",
      "Final shape of RTs chunk (after once more excluding cases w/ missing age or trials):  (13931, 120, 4)\n",
      "Final shape of outcomes chunk:  (13931, 120, 4)\n"
     ]
    },
    {
     "name": "stderr",
     "output_type": "stream",
     "text": [
      "/home/mischa/miniconda3/envs/bf/lib/python3.10/site-packages/numpy/core/fromnumeric.py:3432: RuntimeWarning: Mean of empty slice.\n",
      "  return _methods._mean(a, axis=axis, dtype=dtype,\n",
      "/home/mischa/miniconda3/envs/bf/lib/python3.10/site-packages/numpy/core/_methods.py:190: RuntimeWarning: invalid value encountered in divide\n",
      "  ret = ret.dtype.type(ret / rcount)\n",
      "/home/mischa/miniconda3/envs/bf/lib/python3.10/site-packages/numpy/core/_methods.py:265: RuntimeWarning: Degrees of freedom <= 0 for slice\n",
      "  ret = _var(a, axis=axis, dtype=dtype, out=out, ddof=ddof,\n",
      "/home/mischa/miniconda3/envs/bf/lib/python3.10/site-packages/numpy/core/_methods.py:223: RuntimeWarning: invalid value encountered in divide\n",
      "  arrmean = um.true_divide(arrmean, div, out=arrmean, casting='unsafe',\n",
      "/home/mischa/miniconda3/envs/bf/lib/python3.10/site-packages/numpy/core/_methods.py:257: RuntimeWarning: invalid value encountered in divide\n",
      "  ret = ret.dtype.type(ret / rcount)\n"
     ]
    },
    {
     "name": "stdout",
     "output_type": "stream",
     "text": [
      "2018iat4.txt done\n",
      "Initial shape: 25609\n",
      "After removing no age IDs: 14402\n",
      "After removing invalid IDs: 14402\n",
      "After excluding zero latency IDs: 14301\n",
      "After excluding != 120 trials IDs: 14267\n",
      "After excluding more than 50% error IDs: 14255\n",
      "After excluding zero error IDs: 13358\n",
      "Successfully read datafile 2018iat5.txt .\n",
      "Converting to X and y arrays...\n",
      "IDs with less than 20 trials <200 ms or >10 seconds: (13283, 120, 3)\n",
      "IDs with 60 trials for each condition, 60 trials for both picture and word stimuli: (13283, 120, 3)\n",
      "Final shape of RTs chunk (after once more excluding cases w/ missing age or trials):  (13283, 120, 4)\n",
      "Final shape of outcomes chunk:  (13283, 120, 4)\n"
     ]
    },
    {
     "name": "stderr",
     "output_type": "stream",
     "text": [
      "/home/mischa/miniconda3/envs/bf/lib/python3.10/site-packages/numpy/core/fromnumeric.py:3432: RuntimeWarning: Mean of empty slice.\n",
      "  return _methods._mean(a, axis=axis, dtype=dtype,\n",
      "/home/mischa/miniconda3/envs/bf/lib/python3.10/site-packages/numpy/core/_methods.py:190: RuntimeWarning: invalid value encountered in divide\n",
      "  ret = ret.dtype.type(ret / rcount)\n",
      "/home/mischa/miniconda3/envs/bf/lib/python3.10/site-packages/numpy/core/_methods.py:265: RuntimeWarning: Degrees of freedom <= 0 for slice\n",
      "  ret = _var(a, axis=axis, dtype=dtype, out=out, ddof=ddof,\n",
      "/home/mischa/miniconda3/envs/bf/lib/python3.10/site-packages/numpy/core/_methods.py:223: RuntimeWarning: invalid value encountered in divide\n",
      "  arrmean = um.true_divide(arrmean, div, out=arrmean, casting='unsafe',\n",
      "/home/mischa/miniconda3/envs/bf/lib/python3.10/site-packages/numpy/core/_methods.py:257: RuntimeWarning: invalid value encountered in divide\n",
      "  ret = ret.dtype.type(ret / rcount)\n"
     ]
    },
    {
     "name": "stdout",
     "output_type": "stream",
     "text": [
      "2018iat5.txt done\n",
      "Initial shape: 25668\n",
      "After removing no age IDs: 15023\n",
      "After removing invalid IDs: 15023\n",
      "After excluding zero latency IDs: 14947\n",
      "After excluding != 120 trials IDs: 14897\n",
      "After excluding more than 50% error IDs: 14884\n",
      "After excluding zero error IDs: 13679\n",
      "Successfully read datafile 2018iat6.txt .\n",
      "Converting to X and y arrays...\n",
      "IDs with less than 20 trials <200 ms or >10 seconds: (13597, 120, 3)\n",
      "IDs with 60 trials for each condition, 60 trials for both picture and word stimuli: (13597, 120, 3)\n",
      "Final shape of RTs chunk (after once more excluding cases w/ missing age or trials):  (13597, 120, 4)\n",
      "Final shape of outcomes chunk:  (13597, 120, 4)\n"
     ]
    },
    {
     "name": "stderr",
     "output_type": "stream",
     "text": [
      "/home/mischa/miniconda3/envs/bf/lib/python3.10/site-packages/numpy/core/fromnumeric.py:3432: RuntimeWarning: Mean of empty slice.\n",
      "  return _methods._mean(a, axis=axis, dtype=dtype,\n",
      "/home/mischa/miniconda3/envs/bf/lib/python3.10/site-packages/numpy/core/_methods.py:190: RuntimeWarning: invalid value encountered in divide\n",
      "  ret = ret.dtype.type(ret / rcount)\n",
      "/home/mischa/miniconda3/envs/bf/lib/python3.10/site-packages/numpy/core/_methods.py:265: RuntimeWarning: Degrees of freedom <= 0 for slice\n",
      "  ret = _var(a, axis=axis, dtype=dtype, out=out, ddof=ddof,\n",
      "/home/mischa/miniconda3/envs/bf/lib/python3.10/site-packages/numpy/core/_methods.py:223: RuntimeWarning: invalid value encountered in divide\n",
      "  arrmean = um.true_divide(arrmean, div, out=arrmean, casting='unsafe',\n",
      "/home/mischa/miniconda3/envs/bf/lib/python3.10/site-packages/numpy/core/_methods.py:257: RuntimeWarning: invalid value encountered in divide\n",
      "  ret = ret.dtype.type(ret / rcount)\n"
     ]
    },
    {
     "name": "stdout",
     "output_type": "stream",
     "text": [
      "2018iat6.txt done\n",
      "Initial shape: 25706\n",
      "After removing no age IDs: 16232\n",
      "After removing invalid IDs: 16232\n",
      "After excluding zero latency IDs: 16163\n",
      "After excluding != 120 trials IDs: 16123\n",
      "After excluding more than 50% error IDs: 16112\n",
      "After excluding zero error IDs: 14692\n",
      "Successfully read datafile 2018iat7.txt .\n",
      "Converting to X and y arrays...\n",
      "IDs with less than 20 trials <200 ms or >10 seconds: (14654, 120, 3)\n",
      "IDs with 60 trials for each condition, 60 trials for both picture and word stimuli: (14654, 120, 3)\n",
      "Final shape of RTs chunk (after once more excluding cases w/ missing age or trials):  (14654, 120, 4)\n",
      "Final shape of outcomes chunk:  (14654, 120, 4)\n"
     ]
    },
    {
     "name": "stderr",
     "output_type": "stream",
     "text": [
      "/home/mischa/miniconda3/envs/bf/lib/python3.10/site-packages/numpy/core/fromnumeric.py:3432: RuntimeWarning: Mean of empty slice.\n",
      "  return _methods._mean(a, axis=axis, dtype=dtype,\n",
      "/home/mischa/miniconda3/envs/bf/lib/python3.10/site-packages/numpy/core/_methods.py:190: RuntimeWarning: invalid value encountered in divide\n",
      "  ret = ret.dtype.type(ret / rcount)\n",
      "/home/mischa/miniconda3/envs/bf/lib/python3.10/site-packages/numpy/core/_methods.py:265: RuntimeWarning: Degrees of freedom <= 0 for slice\n",
      "  ret = _var(a, axis=axis, dtype=dtype, out=out, ddof=ddof,\n",
      "/home/mischa/miniconda3/envs/bf/lib/python3.10/site-packages/numpy/core/_methods.py:223: RuntimeWarning: invalid value encountered in divide\n",
      "  arrmean = um.true_divide(arrmean, div, out=arrmean, casting='unsafe',\n",
      "/home/mischa/miniconda3/envs/bf/lib/python3.10/site-packages/numpy/core/_methods.py:257: RuntimeWarning: invalid value encountered in divide\n",
      "  ret = ret.dtype.type(ret / rcount)\n"
     ]
    },
    {
     "name": "stdout",
     "output_type": "stream",
     "text": [
      "2018iat7.txt done\n",
      "Initial shape: 25577\n",
      "After removing no age IDs: 16316\n",
      "After removing invalid IDs: 16316\n",
      "After excluding zero latency IDs: 16227\n",
      "After excluding != 120 trials IDs: 16187\n",
      "After excluding more than 50% error IDs: 16175\n",
      "After excluding zero error IDs: 14999\n",
      "Successfully read datafile 2018iat8.txt .\n",
      "Converting to X and y arrays...\n",
      "IDs with less than 20 trials <200 ms or >10 seconds: (14934, 120, 3)\n",
      "IDs with 60 trials for each condition, 60 trials for both picture and word stimuli: (14934, 120, 3)\n",
      "Final shape of RTs chunk (after once more excluding cases w/ missing age or trials):  (14934, 120, 4)\n",
      "Final shape of outcomes chunk:  (14934, 120, 4)\n"
     ]
    },
    {
     "name": "stderr",
     "output_type": "stream",
     "text": [
      "/home/mischa/miniconda3/envs/bf/lib/python3.10/site-packages/numpy/core/fromnumeric.py:3432: RuntimeWarning: Mean of empty slice.\n",
      "  return _methods._mean(a, axis=axis, dtype=dtype,\n",
      "/home/mischa/miniconda3/envs/bf/lib/python3.10/site-packages/numpy/core/_methods.py:190: RuntimeWarning: invalid value encountered in divide\n",
      "  ret = ret.dtype.type(ret / rcount)\n",
      "/home/mischa/miniconda3/envs/bf/lib/python3.10/site-packages/numpy/core/_methods.py:265: RuntimeWarning: Degrees of freedom <= 0 for slice\n",
      "  ret = _var(a, axis=axis, dtype=dtype, out=out, ddof=ddof,\n",
      "/home/mischa/miniconda3/envs/bf/lib/python3.10/site-packages/numpy/core/_methods.py:223: RuntimeWarning: invalid value encountered in divide\n",
      "  arrmean = um.true_divide(arrmean, div, out=arrmean, casting='unsafe',\n",
      "/home/mischa/miniconda3/envs/bf/lib/python3.10/site-packages/numpy/core/_methods.py:257: RuntimeWarning: invalid value encountered in divide\n",
      "  ret = ret.dtype.type(ret / rcount)\n"
     ]
    },
    {
     "name": "stdout",
     "output_type": "stream",
     "text": [
      "2018iat8.txt done\n",
      "Initial shape: 25803\n",
      "After removing no age IDs: 15900\n",
      "After removing invalid IDs: 15900\n",
      "After excluding zero latency IDs: 15792\n",
      "After excluding != 120 trials IDs: 15764\n",
      "After excluding more than 50% error IDs: 15749\n",
      "After excluding zero error IDs: 14757\n",
      "Successfully read datafile 2018iat9.txt .\n",
      "Converting to X and y arrays...\n",
      "IDs with less than 20 trials <200 ms or >10 seconds: (14668, 120, 3)\n",
      "IDs with 60 trials for each condition, 60 trials for both picture and word stimuli: (14668, 120, 3)\n",
      "Final shape of RTs chunk (after once more excluding cases w/ missing age or trials):  (14668, 120, 4)\n",
      "Final shape of outcomes chunk:  (14668, 120, 4)\n"
     ]
    },
    {
     "name": "stderr",
     "output_type": "stream",
     "text": [
      "/home/mischa/miniconda3/envs/bf/lib/python3.10/site-packages/numpy/core/fromnumeric.py:3432: RuntimeWarning: Mean of empty slice.\n",
      "  return _methods._mean(a, axis=axis, dtype=dtype,\n",
      "/home/mischa/miniconda3/envs/bf/lib/python3.10/site-packages/numpy/core/_methods.py:190: RuntimeWarning: invalid value encountered in divide\n",
      "  ret = ret.dtype.type(ret / rcount)\n",
      "/home/mischa/miniconda3/envs/bf/lib/python3.10/site-packages/numpy/core/_methods.py:265: RuntimeWarning: Degrees of freedom <= 0 for slice\n",
      "  ret = _var(a, axis=axis, dtype=dtype, out=out, ddof=ddof,\n",
      "/home/mischa/miniconda3/envs/bf/lib/python3.10/site-packages/numpy/core/_methods.py:223: RuntimeWarning: invalid value encountered in divide\n",
      "  arrmean = um.true_divide(arrmean, div, out=arrmean, casting='unsafe',\n",
      "/home/mischa/miniconda3/envs/bf/lib/python3.10/site-packages/numpy/core/_methods.py:257: RuntimeWarning: invalid value encountered in divide\n",
      "  ret = ret.dtype.type(ret / rcount)\n"
     ]
    },
    {
     "name": "stdout",
     "output_type": "stream",
     "text": [
      "2018iat9.txt done\n",
      "Initial shape: 25782\n",
      "After removing no age IDs: 15660\n",
      "After removing invalid IDs: 15660\n",
      "After excluding zero latency IDs: 15557\n",
      "After excluding != 120 trials IDs: 15536\n",
      "After excluding more than 50% error IDs: 15521\n",
      "After excluding zero error IDs: 14313\n",
      "Successfully read datafile 2019iat.txt .\n",
      "Converting to X and y arrays...\n",
      "IDs with less than 20 trials <200 ms or >10 seconds: (14222, 120, 3)\n",
      "IDs with 60 trials for each condition, 60 trials for both picture and word stimuli: (14222, 120, 3)\n",
      "Final shape of RTs chunk (after once more excluding cases w/ missing age or trials):  (14222, 120, 4)\n",
      "Final shape of outcomes chunk:  (14222, 120, 4)\n"
     ]
    },
    {
     "name": "stderr",
     "output_type": "stream",
     "text": [
      "/home/mischa/miniconda3/envs/bf/lib/python3.10/site-packages/numpy/core/fromnumeric.py:3432: RuntimeWarning: Mean of empty slice.\n",
      "  return _methods._mean(a, axis=axis, dtype=dtype,\n",
      "/home/mischa/miniconda3/envs/bf/lib/python3.10/site-packages/numpy/core/_methods.py:190: RuntimeWarning: invalid value encountered in divide\n",
      "  ret = ret.dtype.type(ret / rcount)\n",
      "/home/mischa/miniconda3/envs/bf/lib/python3.10/site-packages/numpy/core/_methods.py:265: RuntimeWarning: Degrees of freedom <= 0 for slice\n",
      "  ret = _var(a, axis=axis, dtype=dtype, out=out, ddof=ddof,\n",
      "/home/mischa/miniconda3/envs/bf/lib/python3.10/site-packages/numpy/core/_methods.py:223: RuntimeWarning: invalid value encountered in divide\n",
      "  arrmean = um.true_divide(arrmean, div, out=arrmean, casting='unsafe',\n",
      "/home/mischa/miniconda3/envs/bf/lib/python3.10/site-packages/numpy/core/_methods.py:257: RuntimeWarning: invalid value encountered in divide\n",
      "  ret = ret.dtype.type(ret / rcount)\n"
     ]
    },
    {
     "name": "stdout",
     "output_type": "stream",
     "text": [
      "2019iat.txt done\n",
      "Initial shape: 25881\n",
      "After removing no age IDs: 16509\n",
      "After removing invalid IDs: 16509\n",
      "After excluding zero latency IDs: 16369\n",
      "After excluding != 120 trials IDs: 16352\n",
      "After excluding more than 50% error IDs: 16327\n",
      "After excluding zero error IDs: 15305\n",
      "Successfully read datafile 2019iat10.txt .\n",
      "Converting to X and y arrays...\n",
      "IDs with less than 20 trials <200 ms or >10 seconds: (15208, 120, 3)\n",
      "IDs with 60 trials for each condition, 60 trials for both picture and word stimuli: (15208, 120, 3)\n",
      "Final shape of RTs chunk (after once more excluding cases w/ missing age or trials):  (15208, 120, 4)\n",
      "Final shape of outcomes chunk:  (15208, 120, 4)\n"
     ]
    },
    {
     "name": "stderr",
     "output_type": "stream",
     "text": [
      "/home/mischa/miniconda3/envs/bf/lib/python3.10/site-packages/numpy/core/fromnumeric.py:3432: RuntimeWarning: Mean of empty slice.\n",
      "  return _methods._mean(a, axis=axis, dtype=dtype,\n",
      "/home/mischa/miniconda3/envs/bf/lib/python3.10/site-packages/numpy/core/_methods.py:190: RuntimeWarning: invalid value encountered in divide\n",
      "  ret = ret.dtype.type(ret / rcount)\n",
      "/home/mischa/miniconda3/envs/bf/lib/python3.10/site-packages/numpy/core/_methods.py:265: RuntimeWarning: Degrees of freedom <= 0 for slice\n",
      "  ret = _var(a, axis=axis, dtype=dtype, out=out, ddof=ddof,\n",
      "/home/mischa/miniconda3/envs/bf/lib/python3.10/site-packages/numpy/core/_methods.py:223: RuntimeWarning: invalid value encountered in divide\n",
      "  arrmean = um.true_divide(arrmean, div, out=arrmean, casting='unsafe',\n",
      "/home/mischa/miniconda3/envs/bf/lib/python3.10/site-packages/numpy/core/_methods.py:257: RuntimeWarning: invalid value encountered in divide\n",
      "  ret = ret.dtype.type(ret / rcount)\n"
     ]
    },
    {
     "name": "stdout",
     "output_type": "stream",
     "text": [
      "2019iat10.txt done\n",
      "Initial shape: 25545\n",
      "After removing no age IDs: 16183\n",
      "After removing invalid IDs: 16183\n",
      "After excluding zero latency IDs: 16055\n",
      "After excluding != 120 trials IDs: 16029\n",
      "After excluding more than 50% error IDs: 16008\n",
      "After excluding zero error IDs: 14973\n",
      "Successfully read datafile 2019iat11.txt .\n",
      "Converting to X and y arrays...\n",
      "IDs with less than 20 trials <200 ms or >10 seconds: (14882, 120, 3)\n",
      "IDs with 60 trials for each condition, 60 trials for both picture and word stimuli: (14882, 120, 3)\n",
      "Final shape of RTs chunk (after once more excluding cases w/ missing age or trials):  (14882, 120, 4)\n",
      "Final shape of outcomes chunk:  (14882, 120, 4)\n"
     ]
    },
    {
     "name": "stderr",
     "output_type": "stream",
     "text": [
      "/home/mischa/miniconda3/envs/bf/lib/python3.10/site-packages/numpy/core/fromnumeric.py:3432: RuntimeWarning: Mean of empty slice.\n",
      "  return _methods._mean(a, axis=axis, dtype=dtype,\n",
      "/home/mischa/miniconda3/envs/bf/lib/python3.10/site-packages/numpy/core/_methods.py:190: RuntimeWarning: invalid value encountered in divide\n",
      "  ret = ret.dtype.type(ret / rcount)\n",
      "/home/mischa/miniconda3/envs/bf/lib/python3.10/site-packages/numpy/core/_methods.py:265: RuntimeWarning: Degrees of freedom <= 0 for slice\n",
      "  ret = _var(a, axis=axis, dtype=dtype, out=out, ddof=ddof,\n",
      "/home/mischa/miniconda3/envs/bf/lib/python3.10/site-packages/numpy/core/_methods.py:223: RuntimeWarning: invalid value encountered in divide\n",
      "  arrmean = um.true_divide(arrmean, div, out=arrmean, casting='unsafe',\n",
      "/home/mischa/miniconda3/envs/bf/lib/python3.10/site-packages/numpy/core/_methods.py:257: RuntimeWarning: invalid value encountered in divide\n",
      "  ret = ret.dtype.type(ret / rcount)\n"
     ]
    },
    {
     "name": "stdout",
     "output_type": "stream",
     "text": [
      "2019iat11.txt done\n",
      "Initial shape: 25572\n",
      "After removing no age IDs: 15893\n",
      "After removing invalid IDs: 15893\n",
      "After excluding zero latency IDs: 15735\n",
      "After excluding != 120 trials IDs: 15706\n",
      "After excluding more than 50% error IDs: 15678\n",
      "After excluding zero error IDs: 14726\n",
      "Successfully read datafile 2019iat12.txt .\n",
      "Converting to X and y arrays...\n",
      "IDs with less than 20 trials <200 ms or >10 seconds: (14614, 120, 3)\n",
      "IDs with 60 trials for each condition, 60 trials for both picture and word stimuli: (14614, 120, 3)\n",
      "Final shape of RTs chunk (after once more excluding cases w/ missing age or trials):  (14614, 120, 4)\n",
      "Final shape of outcomes chunk:  (14614, 120, 4)\n"
     ]
    },
    {
     "name": "stderr",
     "output_type": "stream",
     "text": [
      "/home/mischa/miniconda3/envs/bf/lib/python3.10/site-packages/numpy/core/fromnumeric.py:3432: RuntimeWarning: Mean of empty slice.\n",
      "  return _methods._mean(a, axis=axis, dtype=dtype,\n",
      "/home/mischa/miniconda3/envs/bf/lib/python3.10/site-packages/numpy/core/_methods.py:190: RuntimeWarning: invalid value encountered in divide\n",
      "  ret = ret.dtype.type(ret / rcount)\n",
      "/home/mischa/miniconda3/envs/bf/lib/python3.10/site-packages/numpy/core/_methods.py:265: RuntimeWarning: Degrees of freedom <= 0 for slice\n",
      "  ret = _var(a, axis=axis, dtype=dtype, out=out, ddof=ddof,\n",
      "/home/mischa/miniconda3/envs/bf/lib/python3.10/site-packages/numpy/core/_methods.py:223: RuntimeWarning: invalid value encountered in divide\n",
      "  arrmean = um.true_divide(arrmean, div, out=arrmean, casting='unsafe',\n",
      "/home/mischa/miniconda3/envs/bf/lib/python3.10/site-packages/numpy/core/_methods.py:257: RuntimeWarning: invalid value encountered in divide\n",
      "  ret = ret.dtype.type(ret / rcount)\n"
     ]
    },
    {
     "name": "stdout",
     "output_type": "stream",
     "text": [
      "2019iat12.txt done\n",
      "Initial shape: 19850\n",
      "After removing no age IDs: 11981\n",
      "After removing invalid IDs: 11981\n",
      "After excluding zero latency IDs: 11864\n",
      "After excluding != 120 trials IDs: 11841\n",
      "After excluding more than 50% error IDs: 11823\n",
      "After excluding zero error IDs: 11051\n",
      "Successfully read datafile 2019iat13.txt .\n",
      "Converting to X and y arrays...\n",
      "IDs with less than 20 trials <200 ms or >10 seconds: (10967, 120, 3)\n",
      "IDs with 60 trials for each condition, 60 trials for both picture and word stimuli: (10967, 120, 3)\n",
      "Final shape of RTs chunk (after once more excluding cases w/ missing age or trials):  (10967, 120, 4)\n",
      "Final shape of outcomes chunk:  (10967, 120, 4)\n"
     ]
    },
    {
     "name": "stderr",
     "output_type": "stream",
     "text": [
      "/home/mischa/miniconda3/envs/bf/lib/python3.10/site-packages/numpy/core/fromnumeric.py:3432: RuntimeWarning: Mean of empty slice.\n",
      "  return _methods._mean(a, axis=axis, dtype=dtype,\n",
      "/home/mischa/miniconda3/envs/bf/lib/python3.10/site-packages/numpy/core/_methods.py:190: RuntimeWarning: invalid value encountered in divide\n",
      "  ret = ret.dtype.type(ret / rcount)\n",
      "/home/mischa/miniconda3/envs/bf/lib/python3.10/site-packages/numpy/core/_methods.py:265: RuntimeWarning: Degrees of freedom <= 0 for slice\n",
      "  ret = _var(a, axis=axis, dtype=dtype, out=out, ddof=ddof,\n",
      "/home/mischa/miniconda3/envs/bf/lib/python3.10/site-packages/numpy/core/_methods.py:223: RuntimeWarning: invalid value encountered in divide\n",
      "  arrmean = um.true_divide(arrmean, div, out=arrmean, casting='unsafe',\n",
      "/home/mischa/miniconda3/envs/bf/lib/python3.10/site-packages/numpy/core/_methods.py:257: RuntimeWarning: invalid value encountered in divide\n",
      "  ret = ret.dtype.type(ret / rcount)\n"
     ]
    },
    {
     "name": "stdout",
     "output_type": "stream",
     "text": [
      "2019iat13.txt done\n",
      "Initial shape: 25897\n",
      "After removing no age IDs: 15495\n",
      "After removing invalid IDs: 15495\n",
      "After excluding zero latency IDs: 15374\n",
      "After excluding != 120 trials IDs: 15352\n",
      "After excluding more than 50% error IDs: 15335\n",
      "After excluding zero error IDs: 14311\n",
      "Successfully read datafile 2019iat2.txt .\n",
      "Converting to X and y arrays...\n",
      "IDs with less than 20 trials <200 ms or >10 seconds: (14219, 120, 3)\n",
      "IDs with 60 trials for each condition, 60 trials for both picture and word stimuli: (14219, 120, 3)\n",
      "Final shape of RTs chunk (after once more excluding cases w/ missing age or trials):  (14219, 120, 4)\n",
      "Final shape of outcomes chunk:  (14219, 120, 4)\n"
     ]
    },
    {
     "name": "stderr",
     "output_type": "stream",
     "text": [
      "/home/mischa/miniconda3/envs/bf/lib/python3.10/site-packages/numpy/core/fromnumeric.py:3432: RuntimeWarning: Mean of empty slice.\n",
      "  return _methods._mean(a, axis=axis, dtype=dtype,\n",
      "/home/mischa/miniconda3/envs/bf/lib/python3.10/site-packages/numpy/core/_methods.py:190: RuntimeWarning: invalid value encountered in divide\n",
      "  ret = ret.dtype.type(ret / rcount)\n",
      "/home/mischa/miniconda3/envs/bf/lib/python3.10/site-packages/numpy/core/_methods.py:265: RuntimeWarning: Degrees of freedom <= 0 for slice\n",
      "  ret = _var(a, axis=axis, dtype=dtype, out=out, ddof=ddof,\n",
      "/home/mischa/miniconda3/envs/bf/lib/python3.10/site-packages/numpy/core/_methods.py:223: RuntimeWarning: invalid value encountered in divide\n",
      "  arrmean = um.true_divide(arrmean, div, out=arrmean, casting='unsafe',\n",
      "/home/mischa/miniconda3/envs/bf/lib/python3.10/site-packages/numpy/core/_methods.py:257: RuntimeWarning: invalid value encountered in divide\n",
      "  ret = ret.dtype.type(ret / rcount)\n"
     ]
    },
    {
     "name": "stdout",
     "output_type": "stream",
     "text": [
      "2019iat2.txt done\n",
      "Initial shape: 25621\n",
      "After removing no age IDs: 15153\n",
      "After removing invalid IDs: 15153\n",
      "After excluding zero latency IDs: 15031\n",
      "After excluding != 120 trials IDs: 15013\n",
      "After excluding more than 50% error IDs: 14996\n",
      "After excluding zero error IDs: 14014\n",
      "Successfully read datafile 2019iat3.txt .\n",
      "Converting to X and y arrays...\n",
      "IDs with less than 20 trials <200 ms or >10 seconds: (13920, 120, 3)\n",
      "IDs with 60 trials for each condition, 60 trials for both picture and word stimuli: (13920, 120, 3)\n",
      "Final shape of RTs chunk (after once more excluding cases w/ missing age or trials):  (13920, 120, 4)\n",
      "Final shape of outcomes chunk:  (13920, 120, 4)\n"
     ]
    },
    {
     "name": "stderr",
     "output_type": "stream",
     "text": [
      "/home/mischa/miniconda3/envs/bf/lib/python3.10/site-packages/numpy/core/fromnumeric.py:3432: RuntimeWarning: Mean of empty slice.\n",
      "  return _methods._mean(a, axis=axis, dtype=dtype,\n",
      "/home/mischa/miniconda3/envs/bf/lib/python3.10/site-packages/numpy/core/_methods.py:190: RuntimeWarning: invalid value encountered in divide\n",
      "  ret = ret.dtype.type(ret / rcount)\n",
      "/home/mischa/miniconda3/envs/bf/lib/python3.10/site-packages/numpy/core/_methods.py:265: RuntimeWarning: Degrees of freedom <= 0 for slice\n",
      "  ret = _var(a, axis=axis, dtype=dtype, out=out, ddof=ddof,\n",
      "/home/mischa/miniconda3/envs/bf/lib/python3.10/site-packages/numpy/core/_methods.py:223: RuntimeWarning: invalid value encountered in divide\n",
      "  arrmean = um.true_divide(arrmean, div, out=arrmean, casting='unsafe',\n",
      "/home/mischa/miniconda3/envs/bf/lib/python3.10/site-packages/numpy/core/_methods.py:257: RuntimeWarning: invalid value encountered in divide\n",
      "  ret = ret.dtype.type(ret / rcount)\n"
     ]
    },
    {
     "name": "stdout",
     "output_type": "stream",
     "text": [
      "2019iat3.txt done\n",
      "Initial shape: 25678\n",
      "After removing no age IDs: 15001\n",
      "After removing invalid IDs: 15001\n",
      "After excluding zero latency IDs: 14878\n",
      "After excluding != 120 trials IDs: 14862\n",
      "After excluding more than 50% error IDs: 14841\n",
      "After excluding zero error IDs: 13932\n",
      "Successfully read datafile 2019iat4.txt .\n",
      "Converting to X and y arrays...\n",
      "IDs with less than 20 trials <200 ms or >10 seconds: (13843, 120, 3)\n",
      "IDs with 60 trials for each condition, 60 trials for both picture and word stimuli: (13843, 120, 3)\n",
      "Final shape of RTs chunk (after once more excluding cases w/ missing age or trials):  (13843, 120, 4)\n",
      "Final shape of outcomes chunk:  (13843, 120, 4)\n"
     ]
    },
    {
     "name": "stderr",
     "output_type": "stream",
     "text": [
      "/home/mischa/miniconda3/envs/bf/lib/python3.10/site-packages/numpy/core/fromnumeric.py:3432: RuntimeWarning: Mean of empty slice.\n",
      "  return _methods._mean(a, axis=axis, dtype=dtype,\n",
      "/home/mischa/miniconda3/envs/bf/lib/python3.10/site-packages/numpy/core/_methods.py:190: RuntimeWarning: invalid value encountered in divide\n",
      "  ret = ret.dtype.type(ret / rcount)\n",
      "/home/mischa/miniconda3/envs/bf/lib/python3.10/site-packages/numpy/core/_methods.py:265: RuntimeWarning: Degrees of freedom <= 0 for slice\n",
      "  ret = _var(a, axis=axis, dtype=dtype, out=out, ddof=ddof,\n",
      "/home/mischa/miniconda3/envs/bf/lib/python3.10/site-packages/numpy/core/_methods.py:223: RuntimeWarning: invalid value encountered in divide\n",
      "  arrmean = um.true_divide(arrmean, div, out=arrmean, casting='unsafe',\n",
      "/home/mischa/miniconda3/envs/bf/lib/python3.10/site-packages/numpy/core/_methods.py:257: RuntimeWarning: invalid value encountered in divide\n",
      "  ret = ret.dtype.type(ret / rcount)\n"
     ]
    },
    {
     "name": "stdout",
     "output_type": "stream",
     "text": [
      "2019iat4.txt done\n",
      "Initial shape: 25528\n",
      "After removing no age IDs: 14697\n",
      "After removing invalid IDs: 14697\n",
      "After excluding zero latency IDs: 14587\n",
      "After excluding != 120 trials IDs: 14562\n",
      "After excluding more than 50% error IDs: 14547\n",
      "After excluding zero error IDs: 13611\n",
      "Successfully read datafile 2019iat5.txt .\n",
      "Converting to X and y arrays...\n",
      "IDs with less than 20 trials <200 ms or >10 seconds: (13512, 120, 3)\n",
      "IDs with 60 trials for each condition, 60 trials for both picture and word stimuli: (13512, 120, 3)\n",
      "Final shape of RTs chunk (after once more excluding cases w/ missing age or trials):  (13512, 120, 4)\n",
      "Final shape of outcomes chunk:  (13512, 120, 4)\n"
     ]
    },
    {
     "name": "stderr",
     "output_type": "stream",
     "text": [
      "/home/mischa/miniconda3/envs/bf/lib/python3.10/site-packages/numpy/core/fromnumeric.py:3432: RuntimeWarning: Mean of empty slice.\n",
      "  return _methods._mean(a, axis=axis, dtype=dtype,\n",
      "/home/mischa/miniconda3/envs/bf/lib/python3.10/site-packages/numpy/core/_methods.py:190: RuntimeWarning: invalid value encountered in divide\n",
      "  ret = ret.dtype.type(ret / rcount)\n",
      "/home/mischa/miniconda3/envs/bf/lib/python3.10/site-packages/numpy/core/_methods.py:265: RuntimeWarning: Degrees of freedom <= 0 for slice\n",
      "  ret = _var(a, axis=axis, dtype=dtype, out=out, ddof=ddof,\n",
      "/home/mischa/miniconda3/envs/bf/lib/python3.10/site-packages/numpy/core/_methods.py:223: RuntimeWarning: invalid value encountered in divide\n",
      "  arrmean = um.true_divide(arrmean, div, out=arrmean, casting='unsafe',\n",
      "/home/mischa/miniconda3/envs/bf/lib/python3.10/site-packages/numpy/core/_methods.py:257: RuntimeWarning: invalid value encountered in divide\n",
      "  ret = ret.dtype.type(ret / rcount)\n"
     ]
    },
    {
     "name": "stdout",
     "output_type": "stream",
     "text": [
      "2019iat5.txt done\n",
      "Initial shape: 25552\n",
      "After removing no age IDs: 15509\n",
      "After removing invalid IDs: 15509\n",
      "After excluding zero latency IDs: 15430\n",
      "After excluding != 120 trials IDs: 15401\n",
      "After excluding more than 50% error IDs: 15392\n",
      "After excluding zero error IDs: 14081\n",
      "Successfully read datafile 2019iat6.txt .\n",
      "Converting to X and y arrays...\n",
      "IDs with less than 20 trials <200 ms or >10 seconds: (14016, 120, 3)\n",
      "IDs with 60 trials for each condition, 60 trials for both picture and word stimuli: (14016, 120, 3)\n",
      "Final shape of RTs chunk (after once more excluding cases w/ missing age or trials):  (14016, 120, 4)\n",
      "Final shape of outcomes chunk:  (14016, 120, 4)\n"
     ]
    },
    {
     "name": "stderr",
     "output_type": "stream",
     "text": [
      "/home/mischa/miniconda3/envs/bf/lib/python3.10/site-packages/numpy/core/fromnumeric.py:3432: RuntimeWarning: Mean of empty slice.\n",
      "  return _methods._mean(a, axis=axis, dtype=dtype,\n",
      "/home/mischa/miniconda3/envs/bf/lib/python3.10/site-packages/numpy/core/_methods.py:190: RuntimeWarning: invalid value encountered in divide\n",
      "  ret = ret.dtype.type(ret / rcount)\n",
      "/home/mischa/miniconda3/envs/bf/lib/python3.10/site-packages/numpy/core/_methods.py:265: RuntimeWarning: Degrees of freedom <= 0 for slice\n",
      "  ret = _var(a, axis=axis, dtype=dtype, out=out, ddof=ddof,\n",
      "/home/mischa/miniconda3/envs/bf/lib/python3.10/site-packages/numpy/core/_methods.py:223: RuntimeWarning: invalid value encountered in divide\n",
      "  arrmean = um.true_divide(arrmean, div, out=arrmean, casting='unsafe',\n",
      "/home/mischa/miniconda3/envs/bf/lib/python3.10/site-packages/numpy/core/_methods.py:257: RuntimeWarning: invalid value encountered in divide\n",
      "  ret = ret.dtype.type(ret / rcount)\n"
     ]
    },
    {
     "name": "stdout",
     "output_type": "stream",
     "text": [
      "2019iat6.txt done\n",
      "Initial shape: 25538\n",
      "After removing no age IDs: 16329\n",
      "After removing invalid IDs: 16329\n",
      "After excluding zero latency IDs: 16257\n",
      "After excluding != 120 trials IDs: 16229\n",
      "After excluding more than 50% error IDs: 16223\n",
      "After excluding zero error IDs: 14743\n",
      "Successfully read datafile 2019iat7.txt .\n",
      "Converting to X and y arrays...\n",
      "IDs with less than 20 trials <200 ms or >10 seconds: (14704, 120, 3)\n",
      "IDs with 60 trials for each condition, 60 trials for both picture and word stimuli: (14704, 120, 3)\n",
      "Final shape of RTs chunk (after once more excluding cases w/ missing age or trials):  (14704, 120, 4)\n",
      "Final shape of outcomes chunk:  (14704, 120, 4)\n"
     ]
    },
    {
     "name": "stderr",
     "output_type": "stream",
     "text": [
      "/home/mischa/miniconda3/envs/bf/lib/python3.10/site-packages/numpy/core/fromnumeric.py:3432: RuntimeWarning: Mean of empty slice.\n",
      "  return _methods._mean(a, axis=axis, dtype=dtype,\n",
      "/home/mischa/miniconda3/envs/bf/lib/python3.10/site-packages/numpy/core/_methods.py:190: RuntimeWarning: invalid value encountered in divide\n",
      "  ret = ret.dtype.type(ret / rcount)\n",
      "/home/mischa/miniconda3/envs/bf/lib/python3.10/site-packages/numpy/core/_methods.py:265: RuntimeWarning: Degrees of freedom <= 0 for slice\n",
      "  ret = _var(a, axis=axis, dtype=dtype, out=out, ddof=ddof,\n",
      "/home/mischa/miniconda3/envs/bf/lib/python3.10/site-packages/numpy/core/_methods.py:223: RuntimeWarning: invalid value encountered in divide\n",
      "  arrmean = um.true_divide(arrmean, div, out=arrmean, casting='unsafe',\n",
      "/home/mischa/miniconda3/envs/bf/lib/python3.10/site-packages/numpy/core/_methods.py:257: RuntimeWarning: invalid value encountered in divide\n",
      "  ret = ret.dtype.type(ret / rcount)\n"
     ]
    },
    {
     "name": "stdout",
     "output_type": "stream",
     "text": [
      "2019iat7.txt done\n",
      "Initial shape: 25610\n",
      "After removing no age IDs: 15679\n",
      "After removing invalid IDs: 15679\n",
      "After excluding zero latency IDs: 15597\n",
      "After excluding != 120 trials IDs: 15577\n",
      "After excluding more than 50% error IDs: 15573\n",
      "After excluding zero error IDs: 14425\n",
      "Successfully read datafile 2019iat8.txt .\n",
      "Converting to X and y arrays...\n",
      "IDs with less than 20 trials <200 ms or >10 seconds: (14330, 120, 3)\n",
      "IDs with 60 trials for each condition, 60 trials for both picture and word stimuli: (14330, 120, 3)\n",
      "Final shape of RTs chunk (after once more excluding cases w/ missing age or trials):  (14330, 120, 4)\n",
      "Final shape of outcomes chunk:  (14330, 120, 4)\n"
     ]
    },
    {
     "name": "stderr",
     "output_type": "stream",
     "text": [
      "/home/mischa/miniconda3/envs/bf/lib/python3.10/site-packages/numpy/core/fromnumeric.py:3432: RuntimeWarning: Mean of empty slice.\n",
      "  return _methods._mean(a, axis=axis, dtype=dtype,\n",
      "/home/mischa/miniconda3/envs/bf/lib/python3.10/site-packages/numpy/core/_methods.py:190: RuntimeWarning: invalid value encountered in divide\n",
      "  ret = ret.dtype.type(ret / rcount)\n",
      "/home/mischa/miniconda3/envs/bf/lib/python3.10/site-packages/numpy/core/_methods.py:265: RuntimeWarning: Degrees of freedom <= 0 for slice\n",
      "  ret = _var(a, axis=axis, dtype=dtype, out=out, ddof=ddof,\n",
      "/home/mischa/miniconda3/envs/bf/lib/python3.10/site-packages/numpy/core/_methods.py:223: RuntimeWarning: invalid value encountered in divide\n",
      "  arrmean = um.true_divide(arrmean, div, out=arrmean, casting='unsafe',\n",
      "/home/mischa/miniconda3/envs/bf/lib/python3.10/site-packages/numpy/core/_methods.py:257: RuntimeWarning: invalid value encountered in divide\n",
      "  ret = ret.dtype.type(ret / rcount)\n"
     ]
    },
    {
     "name": "stdout",
     "output_type": "stream",
     "text": [
      "2019iat8.txt done\n",
      "Initial shape: 19804\n",
      "After removing no age IDs: 11900\n",
      "After removing invalid IDs: 11900\n",
      "After excluding zero latency IDs: 11797\n",
      "After excluding != 120 trials IDs: 11769\n",
      "After excluding more than 50% error IDs: 11757\n",
      "After excluding zero error IDs: 11021\n",
      "Successfully read datafile 2019iat9.txt .\n",
      "Converting to X and y arrays...\n",
      "IDs with less than 20 trials <200 ms or >10 seconds: (10956, 120, 3)\n",
      "IDs with 60 trials for each condition, 60 trials for both picture and word stimuli: (10956, 120, 3)\n",
      "Final shape of RTs chunk (after once more excluding cases w/ missing age or trials):  (10956, 120, 4)\n",
      "Final shape of outcomes chunk:  (10956, 120, 4)\n"
     ]
    },
    {
     "name": "stderr",
     "output_type": "stream",
     "text": [
      "/home/mischa/miniconda3/envs/bf/lib/python3.10/site-packages/numpy/core/fromnumeric.py:3432: RuntimeWarning: Mean of empty slice.\n",
      "  return _methods._mean(a, axis=axis, dtype=dtype,\n",
      "/home/mischa/miniconda3/envs/bf/lib/python3.10/site-packages/numpy/core/_methods.py:190: RuntimeWarning: invalid value encountered in divide\n",
      "  ret = ret.dtype.type(ret / rcount)\n",
      "/home/mischa/miniconda3/envs/bf/lib/python3.10/site-packages/numpy/core/_methods.py:265: RuntimeWarning: Degrees of freedom <= 0 for slice\n",
      "  ret = _var(a, axis=axis, dtype=dtype, out=out, ddof=ddof,\n",
      "/home/mischa/miniconda3/envs/bf/lib/python3.10/site-packages/numpy/core/_methods.py:223: RuntimeWarning: invalid value encountered in divide\n",
      "  arrmean = um.true_divide(arrmean, div, out=arrmean, casting='unsafe',\n",
      "/home/mischa/miniconda3/envs/bf/lib/python3.10/site-packages/numpy/core/_methods.py:257: RuntimeWarning: invalid value encountered in divide\n",
      "  ret = ret.dtype.type(ret / rcount)\n"
     ]
    },
    {
     "name": "stdout",
     "output_type": "stream",
     "text": [
      "2019iat9.txt done\n",
      "Initial shape: 25702\n",
      "After removing no age IDs: 16139\n",
      "After removing invalid IDs: 16139\n",
      "After excluding zero latency IDs: 16023\n",
      "After excluding != 120 trials IDs: 15991\n",
      "After excluding more than 50% error IDs: 15969\n",
      "After excluding zero error IDs: 14842\n",
      "Successfully read datafile 2020iat.txt .\n",
      "Converting to X and y arrays...\n",
      "IDs with less than 20 trials <200 ms or >10 seconds: (14728, 120, 3)\n",
      "IDs with 60 trials for each condition, 60 trials for both picture and word stimuli: (14728, 120, 3)\n",
      "Final shape of RTs chunk (after once more excluding cases w/ missing age or trials):  (14728, 120, 4)\n",
      "Final shape of outcomes chunk:  (14728, 120, 4)\n"
     ]
    },
    {
     "name": "stderr",
     "output_type": "stream",
     "text": [
      "/home/mischa/miniconda3/envs/bf/lib/python3.10/site-packages/numpy/core/fromnumeric.py:3432: RuntimeWarning: Mean of empty slice.\n",
      "  return _methods._mean(a, axis=axis, dtype=dtype,\n",
      "/home/mischa/miniconda3/envs/bf/lib/python3.10/site-packages/numpy/core/_methods.py:190: RuntimeWarning: invalid value encountered in divide\n",
      "  ret = ret.dtype.type(ret / rcount)\n",
      "/home/mischa/miniconda3/envs/bf/lib/python3.10/site-packages/numpy/core/_methods.py:265: RuntimeWarning: Degrees of freedom <= 0 for slice\n",
      "  ret = _var(a, axis=axis, dtype=dtype, out=out, ddof=ddof,\n",
      "/home/mischa/miniconda3/envs/bf/lib/python3.10/site-packages/numpy/core/_methods.py:223: RuntimeWarning: invalid value encountered in divide\n",
      "  arrmean = um.true_divide(arrmean, div, out=arrmean, casting='unsafe',\n",
      "/home/mischa/miniconda3/envs/bf/lib/python3.10/site-packages/numpy/core/_methods.py:257: RuntimeWarning: invalid value encountered in divide\n",
      "  ret = ret.dtype.type(ret / rcount)\n"
     ]
    },
    {
     "name": "stdout",
     "output_type": "stream",
     "text": [
      "2020iat.txt done\n",
      "Initial shape: 25435\n",
      "After removing no age IDs: 16173\n",
      "After removing invalid IDs: 16173\n",
      "After excluding zero latency IDs: 16144\n",
      "After excluding != 120 trials IDs: 16121\n",
      "After excluding more than 50% error IDs: 16114\n",
      "After excluding zero error IDs: 14306\n",
      "Successfully read datafile 2020iat10.txt .\n",
      "Converting to X and y arrays...\n",
      "IDs with less than 20 trials <200 ms or >10 seconds: (14293, 120, 3)\n",
      "IDs with 60 trials for each condition, 60 trials for both picture and word stimuli: (14293, 120, 3)\n",
      "Final shape of RTs chunk (after once more excluding cases w/ missing age or trials):  (14293, 120, 4)\n",
      "Final shape of outcomes chunk:  (14293, 120, 4)\n"
     ]
    },
    {
     "name": "stderr",
     "output_type": "stream",
     "text": [
      "/home/mischa/miniconda3/envs/bf/lib/python3.10/site-packages/numpy/core/fromnumeric.py:3432: RuntimeWarning: Mean of empty slice.\n",
      "  return _methods._mean(a, axis=axis, dtype=dtype,\n",
      "/home/mischa/miniconda3/envs/bf/lib/python3.10/site-packages/numpy/core/_methods.py:190: RuntimeWarning: invalid value encountered in divide\n",
      "  ret = ret.dtype.type(ret / rcount)\n",
      "/home/mischa/miniconda3/envs/bf/lib/python3.10/site-packages/numpy/core/_methods.py:265: RuntimeWarning: Degrees of freedom <= 0 for slice\n",
      "  ret = _var(a, axis=axis, dtype=dtype, out=out, ddof=ddof,\n",
      "/home/mischa/miniconda3/envs/bf/lib/python3.10/site-packages/numpy/core/_methods.py:223: RuntimeWarning: invalid value encountered in divide\n",
      "  arrmean = um.true_divide(arrmean, div, out=arrmean, casting='unsafe',\n",
      "/home/mischa/miniconda3/envs/bf/lib/python3.10/site-packages/numpy/core/_methods.py:257: RuntimeWarning: invalid value encountered in divide\n",
      "  ret = ret.dtype.type(ret / rcount)\n"
     ]
    },
    {
     "name": "stdout",
     "output_type": "stream",
     "text": [
      "2020iat10.txt done\n",
      "Initial shape: 25546\n",
      "After removing no age IDs: 16929\n",
      "After removing invalid IDs: 16929\n",
      "After excluding zero latency IDs: 16893\n",
      "After excluding != 120 trials IDs: 16870\n",
      "After excluding more than 50% error IDs: 16870\n",
      "After excluding zero error IDs: 14812\n",
      "Successfully read datafile 2020iat11.txt .\n",
      "Converting to X and y arrays...\n",
      "IDs with less than 20 trials <200 ms or >10 seconds: (14802, 120, 3)\n",
      "IDs with 60 trials for each condition, 60 trials for both picture and word stimuli: (14802, 120, 3)\n",
      "Final shape of RTs chunk (after once more excluding cases w/ missing age or trials):  (14802, 120, 4)\n",
      "Final shape of outcomes chunk:  (14802, 120, 4)\n"
     ]
    },
    {
     "name": "stderr",
     "output_type": "stream",
     "text": [
      "/home/mischa/miniconda3/envs/bf/lib/python3.10/site-packages/numpy/core/fromnumeric.py:3432: RuntimeWarning: Mean of empty slice.\n",
      "  return _methods._mean(a, axis=axis, dtype=dtype,\n",
      "/home/mischa/miniconda3/envs/bf/lib/python3.10/site-packages/numpy/core/_methods.py:190: RuntimeWarning: invalid value encountered in divide\n",
      "  ret = ret.dtype.type(ret / rcount)\n",
      "/home/mischa/miniconda3/envs/bf/lib/python3.10/site-packages/numpy/core/_methods.py:265: RuntimeWarning: Degrees of freedom <= 0 for slice\n",
      "  ret = _var(a, axis=axis, dtype=dtype, out=out, ddof=ddof,\n",
      "/home/mischa/miniconda3/envs/bf/lib/python3.10/site-packages/numpy/core/_methods.py:223: RuntimeWarning: invalid value encountered in divide\n",
      "  arrmean = um.true_divide(arrmean, div, out=arrmean, casting='unsafe',\n",
      "/home/mischa/miniconda3/envs/bf/lib/python3.10/site-packages/numpy/core/_methods.py:257: RuntimeWarning: invalid value encountered in divide\n",
      "  ret = ret.dtype.type(ret / rcount)\n"
     ]
    },
    {
     "name": "stdout",
     "output_type": "stream",
     "text": [
      "2020iat11.txt done\n",
      "Initial shape: 25639\n",
      "After removing no age IDs: 17587\n",
      "After removing invalid IDs: 17587\n",
      "After excluding zero latency IDs: 17540\n",
      "After excluding != 120 trials IDs: 17514\n",
      "After excluding more than 50% error IDs: 17509\n",
      "After excluding zero error IDs: 15504\n",
      "Successfully read datafile 2020iat12.txt .\n",
      "Converting to X and y arrays...\n",
      "IDs with less than 20 trials <200 ms or >10 seconds: (15491, 120, 3)\n",
      "IDs with 60 trials for each condition, 60 trials for both picture and word stimuli: (15491, 120, 3)\n",
      "Final shape of RTs chunk (after once more excluding cases w/ missing age or trials):  (15491, 120, 4)\n",
      "Final shape of outcomes chunk:  (15491, 120, 4)\n"
     ]
    },
    {
     "name": "stderr",
     "output_type": "stream",
     "text": [
      "/home/mischa/miniconda3/envs/bf/lib/python3.10/site-packages/numpy/core/fromnumeric.py:3432: RuntimeWarning: Mean of empty slice.\n",
      "  return _methods._mean(a, axis=axis, dtype=dtype,\n",
      "/home/mischa/miniconda3/envs/bf/lib/python3.10/site-packages/numpy/core/_methods.py:190: RuntimeWarning: invalid value encountered in divide\n",
      "  ret = ret.dtype.type(ret / rcount)\n",
      "/home/mischa/miniconda3/envs/bf/lib/python3.10/site-packages/numpy/core/_methods.py:265: RuntimeWarning: Degrees of freedom <= 0 for slice\n",
      "  ret = _var(a, axis=axis, dtype=dtype, out=out, ddof=ddof,\n",
      "/home/mischa/miniconda3/envs/bf/lib/python3.10/site-packages/numpy/core/_methods.py:223: RuntimeWarning: invalid value encountered in divide\n",
      "  arrmean = um.true_divide(arrmean, div, out=arrmean, casting='unsafe',\n",
      "/home/mischa/miniconda3/envs/bf/lib/python3.10/site-packages/numpy/core/_methods.py:257: RuntimeWarning: invalid value encountered in divide\n",
      "  ret = ret.dtype.type(ret / rcount)\n"
     ]
    },
    {
     "name": "stdout",
     "output_type": "stream",
     "text": [
      "2020iat12.txt done\n",
      "Initial shape: 25719\n",
      "After removing no age IDs: 17748\n",
      "After removing invalid IDs: 17748\n",
      "After excluding zero latency IDs: 17684\n",
      "After excluding != 120 trials IDs: 17658\n",
      "After excluding more than 50% error IDs: 17653\n",
      "After excluding zero error IDs: 15642\n",
      "Successfully read datafile 2020iat13.txt .\n",
      "Converting to X and y arrays...\n",
      "IDs with less than 20 trials <200 ms or >10 seconds: (15618, 120, 3)\n",
      "IDs with 60 trials for each condition, 60 trials for both picture and word stimuli: (15618, 120, 3)\n",
      "Final shape of RTs chunk (after once more excluding cases w/ missing age or trials):  (15618, 120, 4)\n",
      "Final shape of outcomes chunk:  (15618, 120, 4)\n"
     ]
    },
    {
     "name": "stderr",
     "output_type": "stream",
     "text": [
      "/home/mischa/miniconda3/envs/bf/lib/python3.10/site-packages/numpy/core/fromnumeric.py:3432: RuntimeWarning: Mean of empty slice.\n",
      "  return _methods._mean(a, axis=axis, dtype=dtype,\n",
      "/home/mischa/miniconda3/envs/bf/lib/python3.10/site-packages/numpy/core/_methods.py:190: RuntimeWarning: invalid value encountered in divide\n",
      "  ret = ret.dtype.type(ret / rcount)\n",
      "/home/mischa/miniconda3/envs/bf/lib/python3.10/site-packages/numpy/core/_methods.py:265: RuntimeWarning: Degrees of freedom <= 0 for slice\n",
      "  ret = _var(a, axis=axis, dtype=dtype, out=out, ddof=ddof,\n",
      "/home/mischa/miniconda3/envs/bf/lib/python3.10/site-packages/numpy/core/_methods.py:223: RuntimeWarning: invalid value encountered in divide\n",
      "  arrmean = um.true_divide(arrmean, div, out=arrmean, casting='unsafe',\n",
      "/home/mischa/miniconda3/envs/bf/lib/python3.10/site-packages/numpy/core/_methods.py:257: RuntimeWarning: invalid value encountered in divide\n",
      "  ret = ret.dtype.type(ret / rcount)\n"
     ]
    },
    {
     "name": "stdout",
     "output_type": "stream",
     "text": [
      "2020iat13.txt done\n",
      "Initial shape: 25701\n",
      "After removing no age IDs: 17592\n",
      "After removing invalid IDs: 17592\n",
      "After excluding zero latency IDs: 17530\n",
      "After excluding != 120 trials IDs: 17505\n",
      "After excluding more than 50% error IDs: 17500\n",
      "After excluding zero error IDs: 15666\n",
      "Successfully read datafile 2020iat14.txt .\n",
      "Converting to X and y arrays...\n",
      "IDs with less than 20 trials <200 ms or >10 seconds: (15639, 120, 3)\n",
      "IDs with 60 trials for each condition, 60 trials for both picture and word stimuli: (15639, 120, 3)\n",
      "Final shape of RTs chunk (after once more excluding cases w/ missing age or trials):  (15639, 120, 4)\n",
      "Final shape of outcomes chunk:  (15639, 120, 4)\n"
     ]
    },
    {
     "name": "stderr",
     "output_type": "stream",
     "text": [
      "/home/mischa/miniconda3/envs/bf/lib/python3.10/site-packages/numpy/core/fromnumeric.py:3432: RuntimeWarning: Mean of empty slice.\n",
      "  return _methods._mean(a, axis=axis, dtype=dtype,\n",
      "/home/mischa/miniconda3/envs/bf/lib/python3.10/site-packages/numpy/core/_methods.py:190: RuntimeWarning: invalid value encountered in divide\n",
      "  ret = ret.dtype.type(ret / rcount)\n",
      "/home/mischa/miniconda3/envs/bf/lib/python3.10/site-packages/numpy/core/_methods.py:265: RuntimeWarning: Degrees of freedom <= 0 for slice\n",
      "  ret = _var(a, axis=axis, dtype=dtype, out=out, ddof=ddof,\n",
      "/home/mischa/miniconda3/envs/bf/lib/python3.10/site-packages/numpy/core/_methods.py:223: RuntimeWarning: invalid value encountered in divide\n",
      "  arrmean = um.true_divide(arrmean, div, out=arrmean, casting='unsafe',\n",
      "/home/mischa/miniconda3/envs/bf/lib/python3.10/site-packages/numpy/core/_methods.py:257: RuntimeWarning: invalid value encountered in divide\n",
      "  ret = ret.dtype.type(ret / rcount)\n"
     ]
    },
    {
     "name": "stdout",
     "output_type": "stream",
     "text": [
      "2020iat14.txt done\n",
      "Initial shape: 25668\n",
      "After removing no age IDs: 17320\n",
      "After removing invalid IDs: 17320\n",
      "After excluding zero latency IDs: 17242\n",
      "After excluding != 120 trials IDs: 17224\n",
      "After excluding more than 50% error IDs: 17208\n",
      "After excluding zero error IDs: 15580\n",
      "Successfully read datafile 2020iat15.txt .\n",
      "Converting to X and y arrays...\n",
      "IDs with less than 20 trials <200 ms or >10 seconds: (15530, 120, 3)\n",
      "IDs with 60 trials for each condition, 60 trials for both picture and word stimuli: (15530, 120, 3)\n",
      "Final shape of RTs chunk (after once more excluding cases w/ missing age or trials):  (15530, 120, 4)\n",
      "Final shape of outcomes chunk:  (15530, 120, 4)\n"
     ]
    },
    {
     "name": "stderr",
     "output_type": "stream",
     "text": [
      "/home/mischa/miniconda3/envs/bf/lib/python3.10/site-packages/numpy/core/fromnumeric.py:3432: RuntimeWarning: Mean of empty slice.\n",
      "  return _methods._mean(a, axis=axis, dtype=dtype,\n",
      "/home/mischa/miniconda3/envs/bf/lib/python3.10/site-packages/numpy/core/_methods.py:190: RuntimeWarning: invalid value encountered in divide\n",
      "  ret = ret.dtype.type(ret / rcount)\n",
      "/home/mischa/miniconda3/envs/bf/lib/python3.10/site-packages/numpy/core/_methods.py:265: RuntimeWarning: Degrees of freedom <= 0 for slice\n",
      "  ret = _var(a, axis=axis, dtype=dtype, out=out, ddof=ddof,\n",
      "/home/mischa/miniconda3/envs/bf/lib/python3.10/site-packages/numpy/core/_methods.py:223: RuntimeWarning: invalid value encountered in divide\n",
      "  arrmean = um.true_divide(arrmean, div, out=arrmean, casting='unsafe',\n",
      "/home/mischa/miniconda3/envs/bf/lib/python3.10/site-packages/numpy/core/_methods.py:257: RuntimeWarning: invalid value encountered in divide\n",
      "  ret = ret.dtype.type(ret / rcount)\n"
     ]
    },
    {
     "name": "stdout",
     "output_type": "stream",
     "text": [
      "2020iat15.txt done\n",
      "Initial shape: 25633\n",
      "After removing no age IDs: 17001\n",
      "After removing invalid IDs: 17001\n",
      "After excluding zero latency IDs: 16881\n",
      "After excluding != 120 trials IDs: 16860\n",
      "After excluding more than 50% error IDs: 16844\n",
      "After excluding zero error IDs: 15351\n",
      "Successfully read datafile 2020iat16.txt .\n",
      "Converting to X and y arrays...\n",
      "IDs with less than 20 trials <200 ms or >10 seconds: (15304, 120, 3)\n",
      "IDs with 60 trials for each condition, 60 trials for both picture and word stimuli: (15304, 120, 3)\n",
      "Final shape of RTs chunk (after once more excluding cases w/ missing age or trials):  (15304, 120, 4)\n",
      "Final shape of outcomes chunk:  (15304, 120, 4)\n"
     ]
    },
    {
     "name": "stderr",
     "output_type": "stream",
     "text": [
      "/home/mischa/miniconda3/envs/bf/lib/python3.10/site-packages/numpy/core/fromnumeric.py:3432: RuntimeWarning: Mean of empty slice.\n",
      "  return _methods._mean(a, axis=axis, dtype=dtype,\n",
      "/home/mischa/miniconda3/envs/bf/lib/python3.10/site-packages/numpy/core/_methods.py:190: RuntimeWarning: invalid value encountered in divide\n",
      "  ret = ret.dtype.type(ret / rcount)\n",
      "/home/mischa/miniconda3/envs/bf/lib/python3.10/site-packages/numpy/core/_methods.py:265: RuntimeWarning: Degrees of freedom <= 0 for slice\n",
      "  ret = _var(a, axis=axis, dtype=dtype, out=out, ddof=ddof,\n",
      "/home/mischa/miniconda3/envs/bf/lib/python3.10/site-packages/numpy/core/_methods.py:223: RuntimeWarning: invalid value encountered in divide\n",
      "  arrmean = um.true_divide(arrmean, div, out=arrmean, casting='unsafe',\n",
      "/home/mischa/miniconda3/envs/bf/lib/python3.10/site-packages/numpy/core/_methods.py:257: RuntimeWarning: invalid value encountered in divide\n",
      "  ret = ret.dtype.type(ret / rcount)\n"
     ]
    },
    {
     "name": "stdout",
     "output_type": "stream",
     "text": [
      "2020iat16.txt done\n",
      "Initial shape: 25465\n",
      "After removing no age IDs: 16932\n",
      "After removing invalid IDs: 16932\n",
      "After excluding zero latency IDs: 16814\n",
      "After excluding != 120 trials IDs: 16786\n",
      "After excluding more than 50% error IDs: 16770\n",
      "After excluding zero error IDs: 15373\n",
      "Successfully read datafile 2020iat17.txt .\n",
      "Converting to X and y arrays...\n",
      "IDs with less than 20 trials <200 ms or >10 seconds: (15315, 120, 3)\n",
      "IDs with 60 trials for each condition, 60 trials for both picture and word stimuli: (15315, 120, 3)\n",
      "Final shape of RTs chunk (after once more excluding cases w/ missing age or trials):  (15315, 120, 4)\n",
      "Final shape of outcomes chunk:  (15315, 120, 4)\n"
     ]
    },
    {
     "name": "stderr",
     "output_type": "stream",
     "text": [
      "/home/mischa/miniconda3/envs/bf/lib/python3.10/site-packages/numpy/core/fromnumeric.py:3432: RuntimeWarning: Mean of empty slice.\n",
      "  return _methods._mean(a, axis=axis, dtype=dtype,\n",
      "/home/mischa/miniconda3/envs/bf/lib/python3.10/site-packages/numpy/core/_methods.py:190: RuntimeWarning: invalid value encountered in divide\n",
      "  ret = ret.dtype.type(ret / rcount)\n",
      "/home/mischa/miniconda3/envs/bf/lib/python3.10/site-packages/numpy/core/_methods.py:265: RuntimeWarning: Degrees of freedom <= 0 for slice\n",
      "  ret = _var(a, axis=axis, dtype=dtype, out=out, ddof=ddof,\n",
      "/home/mischa/miniconda3/envs/bf/lib/python3.10/site-packages/numpy/core/_methods.py:223: RuntimeWarning: invalid value encountered in divide\n",
      "  arrmean = um.true_divide(arrmean, div, out=arrmean, casting='unsafe',\n",
      "/home/mischa/miniconda3/envs/bf/lib/python3.10/site-packages/numpy/core/_methods.py:257: RuntimeWarning: invalid value encountered in divide\n",
      "  ret = ret.dtype.type(ret / rcount)\n"
     ]
    },
    {
     "name": "stdout",
     "output_type": "stream",
     "text": [
      "2020iat17.txt done\n",
      "Initial shape: 25529\n",
      "After removing no age IDs: 16947\n",
      "After removing invalid IDs: 16947\n",
      "After excluding zero latency IDs: 16844\n",
      "After excluding != 120 trials IDs: 16824\n",
      "After excluding more than 50% error IDs: 16817\n",
      "After excluding zero error IDs: 15288\n",
      "Successfully read datafile 2020iat18.txt .\n",
      "Converting to X and y arrays...\n",
      "IDs with less than 20 trials <200 ms or >10 seconds: (15254, 120, 3)\n",
      "IDs with 60 trials for each condition, 60 trials for both picture and word stimuli: (15254, 120, 3)\n",
      "Final shape of RTs chunk (after once more excluding cases w/ missing age or trials):  (15254, 120, 4)\n",
      "Final shape of outcomes chunk:  (15254, 120, 4)\n"
     ]
    },
    {
     "name": "stderr",
     "output_type": "stream",
     "text": [
      "/home/mischa/miniconda3/envs/bf/lib/python3.10/site-packages/numpy/core/fromnumeric.py:3432: RuntimeWarning: Mean of empty slice.\n",
      "  return _methods._mean(a, axis=axis, dtype=dtype,\n",
      "/home/mischa/miniconda3/envs/bf/lib/python3.10/site-packages/numpy/core/_methods.py:190: RuntimeWarning: invalid value encountered in divide\n",
      "  ret = ret.dtype.type(ret / rcount)\n",
      "/home/mischa/miniconda3/envs/bf/lib/python3.10/site-packages/numpy/core/_methods.py:265: RuntimeWarning: Degrees of freedom <= 0 for slice\n",
      "  ret = _var(a, axis=axis, dtype=dtype, out=out, ddof=ddof,\n",
      "/home/mischa/miniconda3/envs/bf/lib/python3.10/site-packages/numpy/core/_methods.py:223: RuntimeWarning: invalid value encountered in divide\n",
      "  arrmean = um.true_divide(arrmean, div, out=arrmean, casting='unsafe',\n",
      "/home/mischa/miniconda3/envs/bf/lib/python3.10/site-packages/numpy/core/_methods.py:257: RuntimeWarning: invalid value encountered in divide\n",
      "  ret = ret.dtype.type(ret / rcount)\n"
     ]
    },
    {
     "name": "stdout",
     "output_type": "stream",
     "text": [
      "2020iat18.txt done\n",
      "Initial shape: 25600\n",
      "After removing no age IDs: 16859\n",
      "After removing invalid IDs: 16859\n",
      "After excluding zero latency IDs: 16734\n",
      "After excluding != 120 trials IDs: 16715\n",
      "After excluding more than 50% error IDs: 16710\n",
      "After excluding zero error IDs: 15225\n",
      "Successfully read datafile 2020iat19.txt .\n",
      "Converting to X and y arrays...\n",
      "IDs with less than 20 trials <200 ms or >10 seconds: (15172, 120, 3)\n",
      "IDs with 60 trials for each condition, 60 trials for both picture and word stimuli: (15172, 120, 3)\n",
      "Final shape of RTs chunk (after once more excluding cases w/ missing age or trials):  (15172, 120, 4)\n",
      "Final shape of outcomes chunk:  (15172, 120, 4)\n"
     ]
    },
    {
     "name": "stderr",
     "output_type": "stream",
     "text": [
      "/home/mischa/miniconda3/envs/bf/lib/python3.10/site-packages/numpy/core/fromnumeric.py:3432: RuntimeWarning: Mean of empty slice.\n",
      "  return _methods._mean(a, axis=axis, dtype=dtype,\n",
      "/home/mischa/miniconda3/envs/bf/lib/python3.10/site-packages/numpy/core/_methods.py:190: RuntimeWarning: invalid value encountered in divide\n",
      "  ret = ret.dtype.type(ret / rcount)\n",
      "/home/mischa/miniconda3/envs/bf/lib/python3.10/site-packages/numpy/core/_methods.py:265: RuntimeWarning: Degrees of freedom <= 0 for slice\n",
      "  ret = _var(a, axis=axis, dtype=dtype, out=out, ddof=ddof,\n",
      "/home/mischa/miniconda3/envs/bf/lib/python3.10/site-packages/numpy/core/_methods.py:223: RuntimeWarning: invalid value encountered in divide\n",
      "  arrmean = um.true_divide(arrmean, div, out=arrmean, casting='unsafe',\n",
      "/home/mischa/miniconda3/envs/bf/lib/python3.10/site-packages/numpy/core/_methods.py:257: RuntimeWarning: invalid value encountered in divide\n",
      "  ret = ret.dtype.type(ret / rcount)\n"
     ]
    },
    {
     "name": "stdout",
     "output_type": "stream",
     "text": [
      "2020iat19.txt done\n",
      "Initial shape: 25766\n",
      "After removing no age IDs: 16233\n",
      "After removing invalid IDs: 16233\n",
      "After excluding zero latency IDs: 16093\n",
      "After excluding != 120 trials IDs: 16068\n",
      "After excluding more than 50% error IDs: 16042\n",
      "After excluding zero error IDs: 14999\n",
      "Successfully read datafile 2020iat2.txt .\n",
      "Converting to X and y arrays...\n",
      "IDs with less than 20 trials <200 ms or >10 seconds: (14895, 120, 3)\n",
      "IDs with 60 trials for each condition, 60 trials for both picture and word stimuli: (14895, 120, 3)\n",
      "Final shape of RTs chunk (after once more excluding cases w/ missing age or trials):  (14895, 120, 4)\n",
      "Final shape of outcomes chunk:  (14895, 120, 4)\n"
     ]
    },
    {
     "name": "stderr",
     "output_type": "stream",
     "text": [
      "/home/mischa/miniconda3/envs/bf/lib/python3.10/site-packages/numpy/core/fromnumeric.py:3432: RuntimeWarning: Mean of empty slice.\n",
      "  return _methods._mean(a, axis=axis, dtype=dtype,\n",
      "/home/mischa/miniconda3/envs/bf/lib/python3.10/site-packages/numpy/core/_methods.py:190: RuntimeWarning: invalid value encountered in divide\n",
      "  ret = ret.dtype.type(ret / rcount)\n",
      "/home/mischa/miniconda3/envs/bf/lib/python3.10/site-packages/numpy/core/_methods.py:265: RuntimeWarning: Degrees of freedom <= 0 for slice\n",
      "  ret = _var(a, axis=axis, dtype=dtype, out=out, ddof=ddof,\n",
      "/home/mischa/miniconda3/envs/bf/lib/python3.10/site-packages/numpy/core/_methods.py:223: RuntimeWarning: invalid value encountered in divide\n",
      "  arrmean = um.true_divide(arrmean, div, out=arrmean, casting='unsafe',\n",
      "/home/mischa/miniconda3/envs/bf/lib/python3.10/site-packages/numpy/core/_methods.py:257: RuntimeWarning: invalid value encountered in divide\n",
      "  ret = ret.dtype.type(ret / rcount)\n"
     ]
    },
    {
     "name": "stdout",
     "output_type": "stream",
     "text": [
      "2020iat2.txt done\n",
      "Initial shape: 25646\n",
      "After removing no age IDs: 16847\n",
      "After removing invalid IDs: 16847\n",
      "After excluding zero latency IDs: 16721\n",
      "After excluding != 120 trials IDs: 16695\n",
      "After excluding more than 50% error IDs: 16683\n",
      "After excluding zero error IDs: 15228\n",
      "Successfully read datafile 2020iat20.txt .\n",
      "Converting to X and y arrays...\n",
      "IDs with less than 20 trials <200 ms or >10 seconds: (15173, 120, 3)\n",
      "IDs with 60 trials for each condition, 60 trials for both picture and word stimuli: (15173, 120, 3)\n",
      "Final shape of RTs chunk (after once more excluding cases w/ missing age or trials):  (15173, 120, 4)\n",
      "Final shape of outcomes chunk:  (15173, 120, 4)\n"
     ]
    },
    {
     "name": "stderr",
     "output_type": "stream",
     "text": [
      "/home/mischa/miniconda3/envs/bf/lib/python3.10/site-packages/numpy/core/fromnumeric.py:3432: RuntimeWarning: Mean of empty slice.\n",
      "  return _methods._mean(a, axis=axis, dtype=dtype,\n",
      "/home/mischa/miniconda3/envs/bf/lib/python3.10/site-packages/numpy/core/_methods.py:190: RuntimeWarning: invalid value encountered in divide\n",
      "  ret = ret.dtype.type(ret / rcount)\n",
      "/home/mischa/miniconda3/envs/bf/lib/python3.10/site-packages/numpy/core/_methods.py:265: RuntimeWarning: Degrees of freedom <= 0 for slice\n",
      "  ret = _var(a, axis=axis, dtype=dtype, out=out, ddof=ddof,\n",
      "/home/mischa/miniconda3/envs/bf/lib/python3.10/site-packages/numpy/core/_methods.py:223: RuntimeWarning: invalid value encountered in divide\n",
      "  arrmean = um.true_divide(arrmean, div, out=arrmean, casting='unsafe',\n",
      "/home/mischa/miniconda3/envs/bf/lib/python3.10/site-packages/numpy/core/_methods.py:257: RuntimeWarning: invalid value encountered in divide\n",
      "  ret = ret.dtype.type(ret / rcount)\n"
     ]
    },
    {
     "name": "stdout",
     "output_type": "stream",
     "text": [
      "2020iat20.txt done\n",
      "Initial shape: 25635\n",
      "After removing no age IDs: 16889\n",
      "After removing invalid IDs: 16889\n",
      "After excluding zero latency IDs: 16774\n",
      "After excluding != 120 trials IDs: 16752\n",
      "After excluding more than 50% error IDs: 16744\n",
      "After excluding zero error IDs: 15206\n",
      "Successfully read datafile 2020iat21.txt .\n",
      "Converting to X and y arrays...\n",
      "IDs with less than 20 trials <200 ms or >10 seconds: (15154, 120, 3)\n",
      "IDs with 60 trials for each condition, 60 trials for both picture and word stimuli: (15154, 120, 3)\n",
      "Final shape of RTs chunk (after once more excluding cases w/ missing age or trials):  (15154, 120, 4)\n",
      "Final shape of outcomes chunk:  (15154, 120, 4)\n"
     ]
    },
    {
     "name": "stderr",
     "output_type": "stream",
     "text": [
      "/home/mischa/miniconda3/envs/bf/lib/python3.10/site-packages/numpy/core/fromnumeric.py:3432: RuntimeWarning: Mean of empty slice.\n",
      "  return _methods._mean(a, axis=axis, dtype=dtype,\n",
      "/home/mischa/miniconda3/envs/bf/lib/python3.10/site-packages/numpy/core/_methods.py:190: RuntimeWarning: invalid value encountered in divide\n",
      "  ret = ret.dtype.type(ret / rcount)\n",
      "/home/mischa/miniconda3/envs/bf/lib/python3.10/site-packages/numpy/core/_methods.py:265: RuntimeWarning: Degrees of freedom <= 0 for slice\n",
      "  ret = _var(a, axis=axis, dtype=dtype, out=out, ddof=ddof,\n",
      "/home/mischa/miniconda3/envs/bf/lib/python3.10/site-packages/numpy/core/_methods.py:223: RuntimeWarning: invalid value encountered in divide\n",
      "  arrmean = um.true_divide(arrmean, div, out=arrmean, casting='unsafe',\n",
      "/home/mischa/miniconda3/envs/bf/lib/python3.10/site-packages/numpy/core/_methods.py:257: RuntimeWarning: invalid value encountered in divide\n",
      "  ret = ret.dtype.type(ret / rcount)\n"
     ]
    },
    {
     "name": "stdout",
     "output_type": "stream",
     "text": [
      "2020iat21.txt done\n",
      "Initial shape: 25556\n",
      "After removing no age IDs: 17086\n",
      "After removing invalid IDs: 17086\n",
      "After excluding zero latency IDs: 16953\n",
      "After excluding != 120 trials IDs: 16932\n",
      "After excluding more than 50% error IDs: 16915\n",
      "After excluding zero error IDs: 15321\n",
      "Successfully read datafile 2020iat22.txt .\n",
      "Converting to X and y arrays...\n",
      "IDs with less than 20 trials <200 ms or >10 seconds: (15267, 120, 3)\n",
      "IDs with 60 trials for each condition, 60 trials for both picture and word stimuli: (15267, 120, 3)\n",
      "Final shape of RTs chunk (after once more excluding cases w/ missing age or trials):  (15267, 120, 4)\n",
      "Final shape of outcomes chunk:  (15267, 120, 4)\n"
     ]
    },
    {
     "name": "stderr",
     "output_type": "stream",
     "text": [
      "/home/mischa/miniconda3/envs/bf/lib/python3.10/site-packages/numpy/core/fromnumeric.py:3432: RuntimeWarning: Mean of empty slice.\n",
      "  return _methods._mean(a, axis=axis, dtype=dtype,\n",
      "/home/mischa/miniconda3/envs/bf/lib/python3.10/site-packages/numpy/core/_methods.py:190: RuntimeWarning: invalid value encountered in divide\n",
      "  ret = ret.dtype.type(ret / rcount)\n",
      "/home/mischa/miniconda3/envs/bf/lib/python3.10/site-packages/numpy/core/_methods.py:265: RuntimeWarning: Degrees of freedom <= 0 for slice\n",
      "  ret = _var(a, axis=axis, dtype=dtype, out=out, ddof=ddof,\n",
      "/home/mischa/miniconda3/envs/bf/lib/python3.10/site-packages/numpy/core/_methods.py:223: RuntimeWarning: invalid value encountered in divide\n",
      "  arrmean = um.true_divide(arrmean, div, out=arrmean, casting='unsafe',\n",
      "/home/mischa/miniconda3/envs/bf/lib/python3.10/site-packages/numpy/core/_methods.py:257: RuntimeWarning: invalid value encountered in divide\n",
      "  ret = ret.dtype.type(ret / rcount)\n"
     ]
    },
    {
     "name": "stdout",
     "output_type": "stream",
     "text": [
      "2020iat22.txt done\n",
      "Initial shape: 25455\n",
      "After removing no age IDs: 16496\n",
      "After removing invalid IDs: 16496\n",
      "After excluding zero latency IDs: 16377\n",
      "After excluding != 120 trials IDs: 16350\n",
      "After excluding more than 50% error IDs: 16337\n",
      "After excluding zero error IDs: 14884\n",
      "Successfully read datafile 2020iat23.txt .\n",
      "Converting to X and y arrays...\n",
      "IDs with less than 20 trials <200 ms or >10 seconds: (14820, 120, 3)\n",
      "IDs with 60 trials for each condition, 60 trials for both picture and word stimuli: (14820, 120, 3)\n",
      "Final shape of RTs chunk (after once more excluding cases w/ missing age or trials):  (14820, 120, 4)\n",
      "Final shape of outcomes chunk:  (14820, 120, 4)\n"
     ]
    },
    {
     "name": "stderr",
     "output_type": "stream",
     "text": [
      "/home/mischa/miniconda3/envs/bf/lib/python3.10/site-packages/numpy/core/fromnumeric.py:3432: RuntimeWarning: Mean of empty slice.\n",
      "  return _methods._mean(a, axis=axis, dtype=dtype,\n",
      "/home/mischa/miniconda3/envs/bf/lib/python3.10/site-packages/numpy/core/_methods.py:190: RuntimeWarning: invalid value encountered in divide\n",
      "  ret = ret.dtype.type(ret / rcount)\n",
      "/home/mischa/miniconda3/envs/bf/lib/python3.10/site-packages/numpy/core/_methods.py:265: RuntimeWarning: Degrees of freedom <= 0 for slice\n",
      "  ret = _var(a, axis=axis, dtype=dtype, out=out, ddof=ddof,\n",
      "/home/mischa/miniconda3/envs/bf/lib/python3.10/site-packages/numpy/core/_methods.py:223: RuntimeWarning: invalid value encountered in divide\n",
      "  arrmean = um.true_divide(arrmean, div, out=arrmean, casting='unsafe',\n",
      "/home/mischa/miniconda3/envs/bf/lib/python3.10/site-packages/numpy/core/_methods.py:257: RuntimeWarning: invalid value encountered in divide\n",
      "  ret = ret.dtype.type(ret / rcount)\n"
     ]
    },
    {
     "name": "stdout",
     "output_type": "stream",
     "text": [
      "2020iat23.txt done\n",
      "Initial shape: 25541\n",
      "After removing no age IDs: 16362\n",
      "After removing invalid IDs: 16362\n",
      "After excluding zero latency IDs: 16246\n",
      "After excluding != 120 trials IDs: 16212\n",
      "After excluding more than 50% error IDs: 16197\n",
      "After excluding zero error IDs: 14694\n",
      "Successfully read datafile 2020iat24.txt .\n",
      "Converting to X and y arrays...\n",
      "IDs with less than 20 trials <200 ms or >10 seconds: (14647, 120, 3)\n",
      "IDs with 60 trials for each condition, 60 trials for both picture and word stimuli: (14647, 120, 3)\n",
      "Final shape of RTs chunk (after once more excluding cases w/ missing age or trials):  (14647, 120, 4)\n",
      "Final shape of outcomes chunk:  (14647, 120, 4)\n"
     ]
    },
    {
     "name": "stderr",
     "output_type": "stream",
     "text": [
      "/home/mischa/miniconda3/envs/bf/lib/python3.10/site-packages/numpy/core/fromnumeric.py:3432: RuntimeWarning: Mean of empty slice.\n",
      "  return _methods._mean(a, axis=axis, dtype=dtype,\n",
      "/home/mischa/miniconda3/envs/bf/lib/python3.10/site-packages/numpy/core/_methods.py:190: RuntimeWarning: invalid value encountered in divide\n",
      "  ret = ret.dtype.type(ret / rcount)\n",
      "/home/mischa/miniconda3/envs/bf/lib/python3.10/site-packages/numpy/core/_methods.py:265: RuntimeWarning: Degrees of freedom <= 0 for slice\n",
      "  ret = _var(a, axis=axis, dtype=dtype, out=out, ddof=ddof,\n",
      "/home/mischa/miniconda3/envs/bf/lib/python3.10/site-packages/numpy/core/_methods.py:223: RuntimeWarning: invalid value encountered in divide\n",
      "  arrmean = um.true_divide(arrmean, div, out=arrmean, casting='unsafe',\n",
      "/home/mischa/miniconda3/envs/bf/lib/python3.10/site-packages/numpy/core/_methods.py:257: RuntimeWarning: invalid value encountered in divide\n",
      "  ret = ret.dtype.type(ret / rcount)\n"
     ]
    },
    {
     "name": "stdout",
     "output_type": "stream",
     "text": [
      "2020iat24.txt done\n",
      "Initial shape: 13325\n",
      "After removing no age IDs: 8366\n",
      "After removing invalid IDs: 8366\n",
      "After excluding zero latency IDs: 8307\n",
      "After excluding != 120 trials IDs: 8288\n",
      "After excluding more than 50% error IDs: 8282\n",
      "After excluding zero error IDs: 7513\n",
      "Successfully read datafile 2020iat25.txt .\n",
      "Converting to X and y arrays...\n",
      "IDs with less than 20 trials <200 ms or >10 seconds: (7490, 120, 3)\n",
      "IDs with 60 trials for each condition, 60 trials for both picture and word stimuli: (7490, 120, 3)\n",
      "Final shape of RTs chunk (after once more excluding cases w/ missing age or trials):  (7490, 120, 4)\n",
      "Final shape of outcomes chunk:  (7490, 120, 4)\n"
     ]
    },
    {
     "name": "stderr",
     "output_type": "stream",
     "text": [
      "/home/mischa/miniconda3/envs/bf/lib/python3.10/site-packages/numpy/core/fromnumeric.py:3432: RuntimeWarning: Mean of empty slice.\n",
      "  return _methods._mean(a, axis=axis, dtype=dtype,\n",
      "/home/mischa/miniconda3/envs/bf/lib/python3.10/site-packages/numpy/core/_methods.py:190: RuntimeWarning: invalid value encountered in divide\n",
      "  ret = ret.dtype.type(ret / rcount)\n",
      "/home/mischa/miniconda3/envs/bf/lib/python3.10/site-packages/numpy/core/_methods.py:265: RuntimeWarning: Degrees of freedom <= 0 for slice\n",
      "  ret = _var(a, axis=axis, dtype=dtype, out=out, ddof=ddof,\n",
      "/home/mischa/miniconda3/envs/bf/lib/python3.10/site-packages/numpy/core/_methods.py:223: RuntimeWarning: invalid value encountered in divide\n",
      "  arrmean = um.true_divide(arrmean, div, out=arrmean, casting='unsafe',\n",
      "/home/mischa/miniconda3/envs/bf/lib/python3.10/site-packages/numpy/core/_methods.py:257: RuntimeWarning: invalid value encountered in divide\n",
      "  ret = ret.dtype.type(ret / rcount)\n"
     ]
    },
    {
     "name": "stdout",
     "output_type": "stream",
     "text": [
      "2020iat25.txt done\n",
      "Initial shape: 25578\n",
      "After removing no age IDs: 15673\n",
      "After removing invalid IDs: 15673\n",
      "After excluding zero latency IDs: 15522\n",
      "After excluding != 120 trials IDs: 15491\n",
      "After excluding more than 50% error IDs: 15473\n",
      "After excluding zero error IDs: 14511\n",
      "Successfully read datafile 2020iat3.txt .\n",
      "Converting to X and y arrays...\n",
      "IDs with less than 20 trials <200 ms or >10 seconds: (14357, 120, 3)\n",
      "IDs with 60 trials for each condition, 60 trials for both picture and word stimuli: (14357, 120, 3)\n",
      "Final shape of RTs chunk (after once more excluding cases w/ missing age or trials):  (14357, 120, 4)\n",
      "Final shape of outcomes chunk:  (14357, 120, 4)\n"
     ]
    },
    {
     "name": "stderr",
     "output_type": "stream",
     "text": [
      "/home/mischa/miniconda3/envs/bf/lib/python3.10/site-packages/numpy/core/fromnumeric.py:3432: RuntimeWarning: Mean of empty slice.\n",
      "  return _methods._mean(a, axis=axis, dtype=dtype,\n",
      "/home/mischa/miniconda3/envs/bf/lib/python3.10/site-packages/numpy/core/_methods.py:190: RuntimeWarning: invalid value encountered in divide\n",
      "  ret = ret.dtype.type(ret / rcount)\n",
      "/home/mischa/miniconda3/envs/bf/lib/python3.10/site-packages/numpy/core/_methods.py:265: RuntimeWarning: Degrees of freedom <= 0 for slice\n",
      "  ret = _var(a, axis=axis, dtype=dtype, out=out, ddof=ddof,\n",
      "/home/mischa/miniconda3/envs/bf/lib/python3.10/site-packages/numpy/core/_methods.py:223: RuntimeWarning: invalid value encountered in divide\n",
      "  arrmean = um.true_divide(arrmean, div, out=arrmean, casting='unsafe',\n",
      "/home/mischa/miniconda3/envs/bf/lib/python3.10/site-packages/numpy/core/_methods.py:257: RuntimeWarning: invalid value encountered in divide\n",
      "  ret = ret.dtype.type(ret / rcount)\n"
     ]
    },
    {
     "name": "stdout",
     "output_type": "stream",
     "text": [
      "2020iat3.txt done\n",
      "Initial shape: 25571\n",
      "After removing no age IDs: 16529\n",
      "After removing invalid IDs: 16529\n",
      "After excluding zero latency IDs: 16388\n",
      "After excluding != 120 trials IDs: 16356\n",
      "After excluding more than 50% error IDs: 16339\n",
      "After excluding zero error IDs: 15286\n",
      "Successfully read datafile 2020iat4.txt .\n",
      "Converting to X and y arrays...\n",
      "IDs with less than 20 trials <200 ms or >10 seconds: (15208, 120, 3)\n",
      "IDs with 60 trials for each condition, 60 trials for both picture and word stimuli: (15208, 120, 3)\n",
      "Final shape of RTs chunk (after once more excluding cases w/ missing age or trials):  (15208, 120, 4)\n",
      "Final shape of outcomes chunk:  (15208, 120, 4)\n"
     ]
    },
    {
     "name": "stderr",
     "output_type": "stream",
     "text": [
      "/home/mischa/miniconda3/envs/bf/lib/python3.10/site-packages/numpy/core/fromnumeric.py:3432: RuntimeWarning: Mean of empty slice.\n",
      "  return _methods._mean(a, axis=axis, dtype=dtype,\n",
      "/home/mischa/miniconda3/envs/bf/lib/python3.10/site-packages/numpy/core/_methods.py:190: RuntimeWarning: invalid value encountered in divide\n",
      "  ret = ret.dtype.type(ret / rcount)\n",
      "/home/mischa/miniconda3/envs/bf/lib/python3.10/site-packages/numpy/core/_methods.py:265: RuntimeWarning: Degrees of freedom <= 0 for slice\n",
      "  ret = _var(a, axis=axis, dtype=dtype, out=out, ddof=ddof,\n",
      "/home/mischa/miniconda3/envs/bf/lib/python3.10/site-packages/numpy/core/_methods.py:223: RuntimeWarning: invalid value encountered in divide\n",
      "  arrmean = um.true_divide(arrmean, div, out=arrmean, casting='unsafe',\n",
      "/home/mischa/miniconda3/envs/bf/lib/python3.10/site-packages/numpy/core/_methods.py:257: RuntimeWarning: invalid value encountered in divide\n",
      "  ret = ret.dtype.type(ret / rcount)\n"
     ]
    },
    {
     "name": "stdout",
     "output_type": "stream",
     "text": [
      "2020iat4.txt done\n",
      "Initial shape: 25685\n",
      "After removing no age IDs: 16324\n",
      "After removing invalid IDs: 16324\n",
      "After excluding zero latency IDs: 16227\n",
      "After excluding != 120 trials IDs: 16194\n",
      "After excluding more than 50% error IDs: 16179\n",
      "After excluding zero error IDs: 14894\n",
      "Successfully read datafile 2020iat5.txt .\n",
      "Converting to X and y arrays...\n",
      "IDs with less than 20 trials <200 ms or >10 seconds: (14848, 120, 3)\n",
      "IDs with 60 trials for each condition, 60 trials for both picture and word stimuli: (14848, 120, 3)\n",
      "Final shape of RTs chunk (after once more excluding cases w/ missing age or trials):  (14848, 120, 4)\n",
      "Final shape of outcomes chunk:  (14848, 120, 4)\n"
     ]
    },
    {
     "name": "stderr",
     "output_type": "stream",
     "text": [
      "/home/mischa/miniconda3/envs/bf/lib/python3.10/site-packages/numpy/core/fromnumeric.py:3432: RuntimeWarning: Mean of empty slice.\n",
      "  return _methods._mean(a, axis=axis, dtype=dtype,\n",
      "/home/mischa/miniconda3/envs/bf/lib/python3.10/site-packages/numpy/core/_methods.py:190: RuntimeWarning: invalid value encountered in divide\n",
      "  ret = ret.dtype.type(ret / rcount)\n",
      "/home/mischa/miniconda3/envs/bf/lib/python3.10/site-packages/numpy/core/_methods.py:265: RuntimeWarning: Degrees of freedom <= 0 for slice\n",
      "  ret = _var(a, axis=axis, dtype=dtype, out=out, ddof=ddof,\n",
      "/home/mischa/miniconda3/envs/bf/lib/python3.10/site-packages/numpy/core/_methods.py:223: RuntimeWarning: invalid value encountered in divide\n",
      "  arrmean = um.true_divide(arrmean, div, out=arrmean, casting='unsafe',\n",
      "/home/mischa/miniconda3/envs/bf/lib/python3.10/site-packages/numpy/core/_methods.py:257: RuntimeWarning: invalid value encountered in divide\n",
      "  ret = ret.dtype.type(ret / rcount)\n"
     ]
    },
    {
     "name": "stdout",
     "output_type": "stream",
     "text": [
      "2020iat5.txt done\n",
      "Initial shape: 25525\n",
      "After removing no age IDs: 15676\n",
      "After removing invalid IDs: 15676\n",
      "After excluding zero latency IDs: 15644\n",
      "After excluding != 120 trials IDs: 15622\n",
      "After excluding more than 50% error IDs: 15619\n",
      "After excluding zero error IDs: 13910\n",
      "Successfully read datafile 2020iat6.txt .\n",
      "Converting to X and y arrays...\n",
      "IDs with less than 20 trials <200 ms or >10 seconds: (13898, 120, 3)\n",
      "IDs with 60 trials for each condition, 60 trials for both picture and word stimuli: (13898, 120, 3)\n",
      "Final shape of RTs chunk (after once more excluding cases w/ missing age or trials):  (13898, 120, 4)\n",
      "Final shape of outcomes chunk:  (13898, 120, 4)\n"
     ]
    },
    {
     "name": "stderr",
     "output_type": "stream",
     "text": [
      "/home/mischa/miniconda3/envs/bf/lib/python3.10/site-packages/numpy/core/fromnumeric.py:3432: RuntimeWarning: Mean of empty slice.\n",
      "  return _methods._mean(a, axis=axis, dtype=dtype,\n",
      "/home/mischa/miniconda3/envs/bf/lib/python3.10/site-packages/numpy/core/_methods.py:190: RuntimeWarning: invalid value encountered in divide\n",
      "  ret = ret.dtype.type(ret / rcount)\n",
      "/home/mischa/miniconda3/envs/bf/lib/python3.10/site-packages/numpy/core/_methods.py:265: RuntimeWarning: Degrees of freedom <= 0 for slice\n",
      "  ret = _var(a, axis=axis, dtype=dtype, out=out, ddof=ddof,\n",
      "/home/mischa/miniconda3/envs/bf/lib/python3.10/site-packages/numpy/core/_methods.py:223: RuntimeWarning: invalid value encountered in divide\n",
      "  arrmean = um.true_divide(arrmean, div, out=arrmean, casting='unsafe',\n",
      "/home/mischa/miniconda3/envs/bf/lib/python3.10/site-packages/numpy/core/_methods.py:257: RuntimeWarning: invalid value encountered in divide\n",
      "  ret = ret.dtype.type(ret / rcount)\n"
     ]
    },
    {
     "name": "stdout",
     "output_type": "stream",
     "text": [
      "2020iat6.txt done\n",
      "Initial shape: 25476\n",
      "After removing no age IDs: 15998\n",
      "After removing invalid IDs: 15998\n",
      "After excluding zero latency IDs: 15966\n",
      "After excluding != 120 trials IDs: 15943\n",
      "After excluding more than 50% error IDs: 15937\n",
      "After excluding zero error IDs: 14038\n",
      "Successfully read datafile 2020iat7.txt .\n",
      "Converting to X and y arrays...\n",
      "IDs with less than 20 trials <200 ms or >10 seconds: (14026, 120, 3)\n",
      "IDs with 60 trials for each condition, 60 trials for both picture and word stimuli: (14026, 120, 3)\n",
      "Final shape of RTs chunk (after once more excluding cases w/ missing age or trials):  (14026, 120, 4)\n",
      "Final shape of outcomes chunk:  (14026, 120, 4)\n"
     ]
    },
    {
     "name": "stderr",
     "output_type": "stream",
     "text": [
      "/home/mischa/miniconda3/envs/bf/lib/python3.10/site-packages/numpy/core/fromnumeric.py:3432: RuntimeWarning: Mean of empty slice.\n",
      "  return _methods._mean(a, axis=axis, dtype=dtype,\n",
      "/home/mischa/miniconda3/envs/bf/lib/python3.10/site-packages/numpy/core/_methods.py:190: RuntimeWarning: invalid value encountered in divide\n",
      "  ret = ret.dtype.type(ret / rcount)\n",
      "/home/mischa/miniconda3/envs/bf/lib/python3.10/site-packages/numpy/core/_methods.py:265: RuntimeWarning: Degrees of freedom <= 0 for slice\n",
      "  ret = _var(a, axis=axis, dtype=dtype, out=out, ddof=ddof,\n",
      "/home/mischa/miniconda3/envs/bf/lib/python3.10/site-packages/numpy/core/_methods.py:223: RuntimeWarning: invalid value encountered in divide\n",
      "  arrmean = um.true_divide(arrmean, div, out=arrmean, casting='unsafe',\n",
      "/home/mischa/miniconda3/envs/bf/lib/python3.10/site-packages/numpy/core/_methods.py:257: RuntimeWarning: invalid value encountered in divide\n",
      "  ret = ret.dtype.type(ret / rcount)\n"
     ]
    },
    {
     "name": "stdout",
     "output_type": "stream",
     "text": [
      "2020iat7.txt done\n",
      "Initial shape: 25584\n",
      "After removing no age IDs: 16663\n",
      "After removing invalid IDs: 16663\n",
      "After excluding zero latency IDs: 16637\n",
      "After excluding != 120 trials IDs: 16614\n",
      "After excluding more than 50% error IDs: 16610\n",
      "After excluding zero error IDs: 14644\n",
      "Successfully read datafile 2020iat8.txt .\n",
      "Converting to X and y arrays...\n",
      "IDs with less than 20 trials <200 ms or >10 seconds: (14635, 120, 3)\n",
      "IDs with 60 trials for each condition, 60 trials for both picture and word stimuli: (14635, 120, 3)\n",
      "Final shape of RTs chunk (after once more excluding cases w/ missing age or trials):  (14635, 120, 4)\n",
      "Final shape of outcomes chunk:  (14635, 120, 4)\n"
     ]
    },
    {
     "name": "stderr",
     "output_type": "stream",
     "text": [
      "/home/mischa/miniconda3/envs/bf/lib/python3.10/site-packages/numpy/core/fromnumeric.py:3432: RuntimeWarning: Mean of empty slice.\n",
      "  return _methods._mean(a, axis=axis, dtype=dtype,\n",
      "/home/mischa/miniconda3/envs/bf/lib/python3.10/site-packages/numpy/core/_methods.py:190: RuntimeWarning: invalid value encountered in divide\n",
      "  ret = ret.dtype.type(ret / rcount)\n",
      "/home/mischa/miniconda3/envs/bf/lib/python3.10/site-packages/numpy/core/_methods.py:265: RuntimeWarning: Degrees of freedom <= 0 for slice\n",
      "  ret = _var(a, axis=axis, dtype=dtype, out=out, ddof=ddof,\n",
      "/home/mischa/miniconda3/envs/bf/lib/python3.10/site-packages/numpy/core/_methods.py:223: RuntimeWarning: invalid value encountered in divide\n",
      "  arrmean = um.true_divide(arrmean, div, out=arrmean, casting='unsafe',\n",
      "/home/mischa/miniconda3/envs/bf/lib/python3.10/site-packages/numpy/core/_methods.py:257: RuntimeWarning: invalid value encountered in divide\n",
      "  ret = ret.dtype.type(ret / rcount)\n"
     ]
    },
    {
     "name": "stdout",
     "output_type": "stream",
     "text": [
      "2020iat8.txt done\n",
      "Initial shape: 25533\n",
      "After removing no age IDs: 16676\n",
      "After removing invalid IDs: 16676\n",
      "After excluding zero latency IDs: 16638\n",
      "After excluding != 120 trials IDs: 16612\n",
      "After excluding more than 50% error IDs: 16612\n",
      "After excluding zero error IDs: 14621\n",
      "Successfully read datafile 2020iat9.txt .\n",
      "Converting to X and y arrays...\n",
      "IDs with less than 20 trials <200 ms or >10 seconds: (14608, 120, 3)\n",
      "IDs with 60 trials for each condition, 60 trials for both picture and word stimuli: (14608, 120, 3)\n",
      "Final shape of RTs chunk (after once more excluding cases w/ missing age or trials):  (14608, 120, 4)\n",
      "Final shape of outcomes chunk:  (14608, 120, 4)\n"
     ]
    },
    {
     "name": "stderr",
     "output_type": "stream",
     "text": [
      "/home/mischa/miniconda3/envs/bf/lib/python3.10/site-packages/numpy/core/fromnumeric.py:3432: RuntimeWarning: Mean of empty slice.\n",
      "  return _methods._mean(a, axis=axis, dtype=dtype,\n",
      "/home/mischa/miniconda3/envs/bf/lib/python3.10/site-packages/numpy/core/_methods.py:190: RuntimeWarning: invalid value encountered in divide\n",
      "  ret = ret.dtype.type(ret / rcount)\n",
      "/home/mischa/miniconda3/envs/bf/lib/python3.10/site-packages/numpy/core/_methods.py:265: RuntimeWarning: Degrees of freedom <= 0 for slice\n",
      "  ret = _var(a, axis=axis, dtype=dtype, out=out, ddof=ddof,\n",
      "/home/mischa/miniconda3/envs/bf/lib/python3.10/site-packages/numpy/core/_methods.py:223: RuntimeWarning: invalid value encountered in divide\n",
      "  arrmean = um.true_divide(arrmean, div, out=arrmean, casting='unsafe',\n",
      "/home/mischa/miniconda3/envs/bf/lib/python3.10/site-packages/numpy/core/_methods.py:257: RuntimeWarning: invalid value encountered in divide\n",
      "  ret = ret.dtype.type(ret / rcount)\n"
     ]
    },
    {
     "name": "stdout",
     "output_type": "stream",
     "text": [
      "2020iat9.txt done\n",
      "Initial shape: 25581\n",
      "After removing no age IDs: 15193\n",
      "After removing invalid IDs: 15193\n",
      "After excluding zero latency IDs: 15092\n",
      "After excluding != 120 trials IDs: 15060\n",
      "After excluding more than 50% error IDs: 15056\n",
      "After excluding zero error IDs: 13487\n",
      "Successfully read datafile 2021iat.txt .\n",
      "Converting to X and y arrays...\n",
      "IDs with less than 20 trials <200 ms or >10 seconds: (13447, 120, 3)\n",
      "IDs with 60 trials for each condition, 60 trials for both picture and word stimuli: (13447, 120, 3)\n",
      "Final shape of RTs chunk (after once more excluding cases w/ missing age or trials):  (13447, 120, 4)\n",
      "Final shape of outcomes chunk:  (13447, 120, 4)\n"
     ]
    },
    {
     "name": "stderr",
     "output_type": "stream",
     "text": [
      "/home/mischa/miniconda3/envs/bf/lib/python3.10/site-packages/numpy/core/fromnumeric.py:3432: RuntimeWarning: Mean of empty slice.\n",
      "  return _methods._mean(a, axis=axis, dtype=dtype,\n",
      "/home/mischa/miniconda3/envs/bf/lib/python3.10/site-packages/numpy/core/_methods.py:190: RuntimeWarning: invalid value encountered in divide\n",
      "  ret = ret.dtype.type(ret / rcount)\n",
      "/home/mischa/miniconda3/envs/bf/lib/python3.10/site-packages/numpy/core/_methods.py:265: RuntimeWarning: Degrees of freedom <= 0 for slice\n",
      "  ret = _var(a, axis=axis, dtype=dtype, out=out, ddof=ddof,\n",
      "/home/mischa/miniconda3/envs/bf/lib/python3.10/site-packages/numpy/core/_methods.py:223: RuntimeWarning: invalid value encountered in divide\n",
      "  arrmean = um.true_divide(arrmean, div, out=arrmean, casting='unsafe',\n",
      "/home/mischa/miniconda3/envs/bf/lib/python3.10/site-packages/numpy/core/_methods.py:257: RuntimeWarning: invalid value encountered in divide\n",
      "  ret = ret.dtype.type(ret / rcount)\n"
     ]
    },
    {
     "name": "stdout",
     "output_type": "stream",
     "text": [
      "2021iat.txt done\n",
      "Initial shape: 25764\n",
      "After removing no age IDs: 12185\n",
      "After removing invalid IDs: 12185\n",
      "After excluding zero latency IDs: 12092\n",
      "After excluding != 120 trials IDs: 12077\n",
      "After excluding more than 50% error IDs: 12072\n",
      "After excluding zero error IDs: 10859\n",
      "Successfully read datafile 2021iat10.txt .\n",
      "Converting to X and y arrays...\n",
      "IDs with less than 20 trials <200 ms or >10 seconds: (10822, 120, 3)\n",
      "IDs with 60 trials for each condition, 60 trials for both picture and word stimuli: (10822, 120, 3)\n",
      "Final shape of RTs chunk (after once more excluding cases w/ missing age or trials):  (10822, 120, 4)\n",
      "Final shape of outcomes chunk:  (10822, 120, 4)\n"
     ]
    },
    {
     "name": "stderr",
     "output_type": "stream",
     "text": [
      "/home/mischa/miniconda3/envs/bf/lib/python3.10/site-packages/numpy/core/fromnumeric.py:3432: RuntimeWarning: Mean of empty slice.\n",
      "  return _methods._mean(a, axis=axis, dtype=dtype,\n",
      "/home/mischa/miniconda3/envs/bf/lib/python3.10/site-packages/numpy/core/_methods.py:190: RuntimeWarning: invalid value encountered in divide\n",
      "  ret = ret.dtype.type(ret / rcount)\n",
      "/home/mischa/miniconda3/envs/bf/lib/python3.10/site-packages/numpy/core/_methods.py:265: RuntimeWarning: Degrees of freedom <= 0 for slice\n",
      "  ret = _var(a, axis=axis, dtype=dtype, out=out, ddof=ddof,\n",
      "/home/mischa/miniconda3/envs/bf/lib/python3.10/site-packages/numpy/core/_methods.py:223: RuntimeWarning: invalid value encountered in divide\n",
      "  arrmean = um.true_divide(arrmean, div, out=arrmean, casting='unsafe',\n",
      "/home/mischa/miniconda3/envs/bf/lib/python3.10/site-packages/numpy/core/_methods.py:257: RuntimeWarning: invalid value encountered in divide\n",
      "  ret = ret.dtype.type(ret / rcount)\n"
     ]
    },
    {
     "name": "stdout",
     "output_type": "stream",
     "text": [
      "2021iat10.txt done\n",
      "Initial shape: 25411\n",
      "After removing no age IDs: 12739\n",
      "After removing invalid IDs: 12739\n",
      "After excluding zero latency IDs: 12645\n",
      "After excluding != 120 trials IDs: 12622\n",
      "After excluding more than 50% error IDs: 12613\n",
      "After excluding zero error IDs: 11304\n",
      "Successfully read datafile 2021iat11.txt .\n",
      "Converting to X and y arrays...\n",
      "IDs with less than 20 trials <200 ms or >10 seconds: (11284, 120, 3)\n",
      "IDs with 60 trials for each condition, 60 trials for both picture and word stimuli: (11284, 120, 3)\n",
      "Final shape of RTs chunk (after once more excluding cases w/ missing age or trials):  (11284, 120, 4)\n",
      "Final shape of outcomes chunk:  (11284, 120, 4)\n"
     ]
    },
    {
     "name": "stderr",
     "output_type": "stream",
     "text": [
      "/home/mischa/miniconda3/envs/bf/lib/python3.10/site-packages/numpy/core/fromnumeric.py:3432: RuntimeWarning: Mean of empty slice.\n",
      "  return _methods._mean(a, axis=axis, dtype=dtype,\n",
      "/home/mischa/miniconda3/envs/bf/lib/python3.10/site-packages/numpy/core/_methods.py:190: RuntimeWarning: invalid value encountered in divide\n",
      "  ret = ret.dtype.type(ret / rcount)\n",
      "/home/mischa/miniconda3/envs/bf/lib/python3.10/site-packages/numpy/core/_methods.py:265: RuntimeWarning: Degrees of freedom <= 0 for slice\n",
      "  ret = _var(a, axis=axis, dtype=dtype, out=out, ddof=ddof,\n",
      "/home/mischa/miniconda3/envs/bf/lib/python3.10/site-packages/numpy/core/_methods.py:223: RuntimeWarning: invalid value encountered in divide\n",
      "  arrmean = um.true_divide(arrmean, div, out=arrmean, casting='unsafe',\n",
      "/home/mischa/miniconda3/envs/bf/lib/python3.10/site-packages/numpy/core/_methods.py:257: RuntimeWarning: invalid value encountered in divide\n",
      "  ret = ret.dtype.type(ret / rcount)\n"
     ]
    },
    {
     "name": "stdout",
     "output_type": "stream",
     "text": [
      "2021iat11.txt done\n",
      "Initial shape: 25782\n",
      "After removing no age IDs: 12874\n",
      "After removing invalid IDs: 12874\n",
      "After excluding zero latency IDs: 12794\n",
      "After excluding != 120 trials IDs: 12780\n",
      "After excluding more than 50% error IDs: 12776\n",
      "After excluding zero error IDs: 11399\n",
      "Successfully read datafile 2021iat12.txt .\n",
      "Converting to X and y arrays...\n",
      "IDs with less than 20 trials <200 ms or >10 seconds: (11366, 120, 3)\n",
      "IDs with 60 trials for each condition, 60 trials for both picture and word stimuli: (11366, 120, 3)\n",
      "Final shape of RTs chunk (after once more excluding cases w/ missing age or trials):  (11366, 120, 4)\n",
      "Final shape of outcomes chunk:  (11366, 120, 4)\n"
     ]
    },
    {
     "name": "stderr",
     "output_type": "stream",
     "text": [
      "/home/mischa/miniconda3/envs/bf/lib/python3.10/site-packages/numpy/core/fromnumeric.py:3432: RuntimeWarning: Mean of empty slice.\n",
      "  return _methods._mean(a, axis=axis, dtype=dtype,\n",
      "/home/mischa/miniconda3/envs/bf/lib/python3.10/site-packages/numpy/core/_methods.py:190: RuntimeWarning: invalid value encountered in divide\n",
      "  ret = ret.dtype.type(ret / rcount)\n",
      "/home/mischa/miniconda3/envs/bf/lib/python3.10/site-packages/numpy/core/_methods.py:265: RuntimeWarning: Degrees of freedom <= 0 for slice\n",
      "  ret = _var(a, axis=axis, dtype=dtype, out=out, ddof=ddof,\n",
      "/home/mischa/miniconda3/envs/bf/lib/python3.10/site-packages/numpy/core/_methods.py:223: RuntimeWarning: invalid value encountered in divide\n",
      "  arrmean = um.true_divide(arrmean, div, out=arrmean, casting='unsafe',\n",
      "/home/mischa/miniconda3/envs/bf/lib/python3.10/site-packages/numpy/core/_methods.py:257: RuntimeWarning: invalid value encountered in divide\n",
      "  ret = ret.dtype.type(ret / rcount)\n"
     ]
    },
    {
     "name": "stdout",
     "output_type": "stream",
     "text": [
      "2021iat12.txt done\n",
      "Initial shape: 25833\n",
      "After removing no age IDs: 13303\n",
      "After removing invalid IDs: 13303\n",
      "After excluding zero latency IDs: 13219\n",
      "After excluding != 120 trials IDs: 13195\n",
      "After excluding more than 50% error IDs: 13191\n",
      "After excluding zero error IDs: 11851\n",
      "Successfully read datafile 2021iat13.txt .\n",
      "Converting to X and y arrays...\n",
      "IDs with less than 20 trials <200 ms or >10 seconds: (11837, 120, 3)\n",
      "IDs with 60 trials for each condition, 60 trials for both picture and word stimuli: (11837, 120, 3)\n",
      "Final shape of RTs chunk (after once more excluding cases w/ missing age or trials):  (11837, 120, 4)\n",
      "Final shape of outcomes chunk:  (11837, 120, 4)\n"
     ]
    },
    {
     "name": "stderr",
     "output_type": "stream",
     "text": [
      "/home/mischa/miniconda3/envs/bf/lib/python3.10/site-packages/numpy/core/fromnumeric.py:3432: RuntimeWarning: Mean of empty slice.\n",
      "  return _methods._mean(a, axis=axis, dtype=dtype,\n",
      "/home/mischa/miniconda3/envs/bf/lib/python3.10/site-packages/numpy/core/_methods.py:190: RuntimeWarning: invalid value encountered in divide\n",
      "  ret = ret.dtype.type(ret / rcount)\n",
      "/home/mischa/miniconda3/envs/bf/lib/python3.10/site-packages/numpy/core/_methods.py:265: RuntimeWarning: Degrees of freedom <= 0 for slice\n",
      "  ret = _var(a, axis=axis, dtype=dtype, out=out, ddof=ddof,\n",
      "/home/mischa/miniconda3/envs/bf/lib/python3.10/site-packages/numpy/core/_methods.py:223: RuntimeWarning: invalid value encountered in divide\n",
      "  arrmean = um.true_divide(arrmean, div, out=arrmean, casting='unsafe',\n",
      "/home/mischa/miniconda3/envs/bf/lib/python3.10/site-packages/numpy/core/_methods.py:257: RuntimeWarning: invalid value encountered in divide\n",
      "  ret = ret.dtype.type(ret / rcount)\n"
     ]
    },
    {
     "name": "stdout",
     "output_type": "stream",
     "text": [
      "2021iat13.txt done\n",
      "Initial shape: 25642\n",
      "After removing no age IDs: 12377\n",
      "After removing invalid IDs: 12377\n",
      "After excluding zero latency IDs: 12264\n",
      "After excluding != 120 trials IDs: 12248\n",
      "After excluding more than 50% error IDs: 12242\n",
      "After excluding zero error IDs: 11175\n",
      "Successfully read datafile 2021iat14.txt .\n",
      "Converting to X and y arrays...\n",
      "IDs with less than 20 trials <200 ms or >10 seconds: (11124, 120, 3)\n",
      "IDs with 60 trials for each condition, 60 trials for both picture and word stimuli: (11124, 120, 3)\n",
      "Final shape of RTs chunk (after once more excluding cases w/ missing age or trials):  (11124, 120, 4)\n",
      "Final shape of outcomes chunk:  (11124, 120, 4)\n"
     ]
    },
    {
     "name": "stderr",
     "output_type": "stream",
     "text": [
      "/home/mischa/miniconda3/envs/bf/lib/python3.10/site-packages/numpy/core/fromnumeric.py:3432: RuntimeWarning: Mean of empty slice.\n",
      "  return _methods._mean(a, axis=axis, dtype=dtype,\n",
      "/home/mischa/miniconda3/envs/bf/lib/python3.10/site-packages/numpy/core/_methods.py:190: RuntimeWarning: invalid value encountered in divide\n",
      "  ret = ret.dtype.type(ret / rcount)\n",
      "/home/mischa/miniconda3/envs/bf/lib/python3.10/site-packages/numpy/core/_methods.py:265: RuntimeWarning: Degrees of freedom <= 0 for slice\n",
      "  ret = _var(a, axis=axis, dtype=dtype, out=out, ddof=ddof,\n",
      "/home/mischa/miniconda3/envs/bf/lib/python3.10/site-packages/numpy/core/_methods.py:223: RuntimeWarning: invalid value encountered in divide\n",
      "  arrmean = um.true_divide(arrmean, div, out=arrmean, casting='unsafe',\n",
      "/home/mischa/miniconda3/envs/bf/lib/python3.10/site-packages/numpy/core/_methods.py:257: RuntimeWarning: invalid value encountered in divide\n",
      "  ret = ret.dtype.type(ret / rcount)\n"
     ]
    },
    {
     "name": "stdout",
     "output_type": "stream",
     "text": [
      "2021iat14.txt done\n",
      "Initial shape: 25446\n",
      "After removing no age IDs: 11681\n",
      "After removing invalid IDs: 11681\n",
      "After excluding zero latency IDs: 11568\n",
      "After excluding != 120 trials IDs: 11551\n",
      "After excluding more than 50% error IDs: 11540\n",
      "After excluding zero error IDs: 10525\n",
      "Successfully read datafile 2021iat15.txt .\n",
      "Converting to X and y arrays...\n",
      "IDs with less than 20 trials <200 ms or >10 seconds: (10478, 120, 3)\n",
      "IDs with 60 trials for each condition, 60 trials for both picture and word stimuli: (10478, 120, 3)\n",
      "Final shape of RTs chunk (after once more excluding cases w/ missing age or trials):  (10478, 120, 4)\n",
      "Final shape of outcomes chunk:  (10478, 120, 4)\n"
     ]
    },
    {
     "name": "stderr",
     "output_type": "stream",
     "text": [
      "/home/mischa/miniconda3/envs/bf/lib/python3.10/site-packages/numpy/core/fromnumeric.py:3432: RuntimeWarning: Mean of empty slice.\n",
      "  return _methods._mean(a, axis=axis, dtype=dtype,\n",
      "/home/mischa/miniconda3/envs/bf/lib/python3.10/site-packages/numpy/core/_methods.py:190: RuntimeWarning: invalid value encountered in divide\n",
      "  ret = ret.dtype.type(ret / rcount)\n",
      "/home/mischa/miniconda3/envs/bf/lib/python3.10/site-packages/numpy/core/_methods.py:265: RuntimeWarning: Degrees of freedom <= 0 for slice\n",
      "  ret = _var(a, axis=axis, dtype=dtype, out=out, ddof=ddof,\n",
      "/home/mischa/miniconda3/envs/bf/lib/python3.10/site-packages/numpy/core/_methods.py:223: RuntimeWarning: invalid value encountered in divide\n",
      "  arrmean = um.true_divide(arrmean, div, out=arrmean, casting='unsafe',\n",
      "/home/mischa/miniconda3/envs/bf/lib/python3.10/site-packages/numpy/core/_methods.py:257: RuntimeWarning: invalid value encountered in divide\n",
      "  ret = ret.dtype.type(ret / rcount)\n"
     ]
    },
    {
     "name": "stdout",
     "output_type": "stream",
     "text": [
      "2021iat15.txt done\n",
      "Initial shape: 25648\n",
      "After removing no age IDs: 11647\n",
      "After removing invalid IDs: 11647\n",
      "After excluding zero latency IDs: 11519\n",
      "After excluding != 120 trials IDs: 11494\n",
      "After excluding more than 50% error IDs: 11487\n",
      "After excluding zero error IDs: 10556\n",
      "Successfully read datafile 2021iat16.txt .\n",
      "Converting to X and y arrays...\n",
      "IDs with less than 20 trials <200 ms or >10 seconds: (10500, 120, 3)\n",
      "IDs with 60 trials for each condition, 60 trials for both picture and word stimuli: (10500, 120, 3)\n",
      "Final shape of RTs chunk (after once more excluding cases w/ missing age or trials):  (10500, 120, 4)\n",
      "Final shape of outcomes chunk:  (10500, 120, 4)\n"
     ]
    },
    {
     "name": "stderr",
     "output_type": "stream",
     "text": [
      "/home/mischa/miniconda3/envs/bf/lib/python3.10/site-packages/numpy/core/fromnumeric.py:3432: RuntimeWarning: Mean of empty slice.\n",
      "  return _methods._mean(a, axis=axis, dtype=dtype,\n",
      "/home/mischa/miniconda3/envs/bf/lib/python3.10/site-packages/numpy/core/_methods.py:190: RuntimeWarning: invalid value encountered in divide\n",
      "  ret = ret.dtype.type(ret / rcount)\n",
      "/home/mischa/miniconda3/envs/bf/lib/python3.10/site-packages/numpy/core/_methods.py:265: RuntimeWarning: Degrees of freedom <= 0 for slice\n",
      "  ret = _var(a, axis=axis, dtype=dtype, out=out, ddof=ddof,\n",
      "/home/mischa/miniconda3/envs/bf/lib/python3.10/site-packages/numpy/core/_methods.py:223: RuntimeWarning: invalid value encountered in divide\n",
      "  arrmean = um.true_divide(arrmean, div, out=arrmean, casting='unsafe',\n",
      "/home/mischa/miniconda3/envs/bf/lib/python3.10/site-packages/numpy/core/_methods.py:257: RuntimeWarning: invalid value encountered in divide\n",
      "  ret = ret.dtype.type(ret / rcount)\n"
     ]
    },
    {
     "name": "stdout",
     "output_type": "stream",
     "text": [
      "2021iat16.txt done\n",
      "Initial shape: 25754\n",
      "After removing no age IDs: 11603\n",
      "After removing invalid IDs: 11603\n",
      "After excluding zero latency IDs: 11466\n",
      "After excluding != 120 trials IDs: 11462\n",
      "After excluding more than 50% error IDs: 11452\n",
      "After excluding zero error IDs: 10514\n",
      "Successfully read datafile 2021iat17.txt .\n",
      "Converting to X and y arrays...\n",
      "IDs with less than 20 trials <200 ms or >10 seconds: (10473, 120, 3)\n",
      "IDs with 60 trials for each condition, 60 trials for both picture and word stimuli: (10473, 120, 3)\n",
      "Final shape of RTs chunk (after once more excluding cases w/ missing age or trials):  (10473, 120, 4)\n",
      "Final shape of outcomes chunk:  (10473, 120, 4)\n"
     ]
    },
    {
     "name": "stderr",
     "output_type": "stream",
     "text": [
      "/home/mischa/miniconda3/envs/bf/lib/python3.10/site-packages/numpy/core/fromnumeric.py:3432: RuntimeWarning: Mean of empty slice.\n",
      "  return _methods._mean(a, axis=axis, dtype=dtype,\n",
      "/home/mischa/miniconda3/envs/bf/lib/python3.10/site-packages/numpy/core/_methods.py:190: RuntimeWarning: invalid value encountered in divide\n",
      "  ret = ret.dtype.type(ret / rcount)\n",
      "/home/mischa/miniconda3/envs/bf/lib/python3.10/site-packages/numpy/core/_methods.py:265: RuntimeWarning: Degrees of freedom <= 0 for slice\n",
      "  ret = _var(a, axis=axis, dtype=dtype, out=out, ddof=ddof,\n",
      "/home/mischa/miniconda3/envs/bf/lib/python3.10/site-packages/numpy/core/_methods.py:223: RuntimeWarning: invalid value encountered in divide\n",
      "  arrmean = um.true_divide(arrmean, div, out=arrmean, casting='unsafe',\n",
      "/home/mischa/miniconda3/envs/bf/lib/python3.10/site-packages/numpy/core/_methods.py:257: RuntimeWarning: invalid value encountered in divide\n",
      "  ret = ret.dtype.type(ret / rcount)\n"
     ]
    },
    {
     "name": "stdout",
     "output_type": "stream",
     "text": [
      "2021iat17.txt done\n",
      "Initial shape: 25781\n",
      "After removing no age IDs: 11633\n",
      "After removing invalid IDs: 11633\n",
      "After excluding zero latency IDs: 11496\n",
      "After excluding != 120 trials IDs: 11478\n",
      "After excluding more than 50% error IDs: 11468\n",
      "After excluding zero error IDs: 10538\n",
      "Successfully read datafile 2021iat18.txt .\n",
      "Converting to X and y arrays...\n",
      "IDs with less than 20 trials <200 ms or >10 seconds: (10486, 120, 3)\n",
      "IDs with 60 trials for each condition, 60 trials for both picture and word stimuli: (10486, 120, 3)\n",
      "Final shape of RTs chunk (after once more excluding cases w/ missing age or trials):  (10486, 120, 4)\n",
      "Final shape of outcomes chunk:  (10486, 120, 4)\n"
     ]
    },
    {
     "name": "stderr",
     "output_type": "stream",
     "text": [
      "/home/mischa/miniconda3/envs/bf/lib/python3.10/site-packages/numpy/core/fromnumeric.py:3432: RuntimeWarning: Mean of empty slice.\n",
      "  return _methods._mean(a, axis=axis, dtype=dtype,\n",
      "/home/mischa/miniconda3/envs/bf/lib/python3.10/site-packages/numpy/core/_methods.py:190: RuntimeWarning: invalid value encountered in divide\n",
      "  ret = ret.dtype.type(ret / rcount)\n",
      "/home/mischa/miniconda3/envs/bf/lib/python3.10/site-packages/numpy/core/_methods.py:265: RuntimeWarning: Degrees of freedom <= 0 for slice\n",
      "  ret = _var(a, axis=axis, dtype=dtype, out=out, ddof=ddof,\n",
      "/home/mischa/miniconda3/envs/bf/lib/python3.10/site-packages/numpy/core/_methods.py:223: RuntimeWarning: invalid value encountered in divide\n",
      "  arrmean = um.true_divide(arrmean, div, out=arrmean, casting='unsafe',\n",
      "/home/mischa/miniconda3/envs/bf/lib/python3.10/site-packages/numpy/core/_methods.py:257: RuntimeWarning: invalid value encountered in divide\n",
      "  ret = ret.dtype.type(ret / rcount)\n"
     ]
    },
    {
     "name": "stdout",
     "output_type": "stream",
     "text": [
      "2021iat18.txt done\n",
      "Initial shape: 25826\n",
      "After removing no age IDs: 11276\n",
      "After removing invalid IDs: 11276\n",
      "After excluding zero latency IDs: 11149\n",
      "After excluding != 120 trials IDs: 11138\n",
      "After excluding more than 50% error IDs: 11124\n",
      "After excluding zero error IDs: 10226\n",
      "Successfully read datafile 2021iat19.txt .\n",
      "Converting to X and y arrays...\n",
      "IDs with less than 20 trials <200 ms or >10 seconds: (10173, 120, 3)\n",
      "IDs with 60 trials for each condition, 60 trials for both picture and word stimuli: (10173, 120, 3)\n",
      "Final shape of RTs chunk (after once more excluding cases w/ missing age or trials):  (10173, 120, 4)\n",
      "Final shape of outcomes chunk:  (10173, 120, 4)\n"
     ]
    },
    {
     "name": "stderr",
     "output_type": "stream",
     "text": [
      "/home/mischa/miniconda3/envs/bf/lib/python3.10/site-packages/numpy/core/fromnumeric.py:3432: RuntimeWarning: Mean of empty slice.\n",
      "  return _methods._mean(a, axis=axis, dtype=dtype,\n",
      "/home/mischa/miniconda3/envs/bf/lib/python3.10/site-packages/numpy/core/_methods.py:190: RuntimeWarning: invalid value encountered in divide\n",
      "  ret = ret.dtype.type(ret / rcount)\n",
      "/home/mischa/miniconda3/envs/bf/lib/python3.10/site-packages/numpy/core/_methods.py:265: RuntimeWarning: Degrees of freedom <= 0 for slice\n",
      "  ret = _var(a, axis=axis, dtype=dtype, out=out, ddof=ddof,\n",
      "/home/mischa/miniconda3/envs/bf/lib/python3.10/site-packages/numpy/core/_methods.py:223: RuntimeWarning: invalid value encountered in divide\n",
      "  arrmean = um.true_divide(arrmean, div, out=arrmean, casting='unsafe',\n",
      "/home/mischa/miniconda3/envs/bf/lib/python3.10/site-packages/numpy/core/_methods.py:257: RuntimeWarning: invalid value encountered in divide\n",
      "  ret = ret.dtype.type(ret / rcount)\n"
     ]
    },
    {
     "name": "stdout",
     "output_type": "stream",
     "text": [
      "2021iat19.txt done\n",
      "Initial shape: 25592\n",
      "After removing no age IDs: 12825\n",
      "After removing invalid IDs: 12825\n",
      "After excluding zero latency IDs: 12744\n",
      "After excluding != 120 trials IDs: 12723\n",
      "After excluding more than 50% error IDs: 12717\n",
      "After excluding zero error IDs: 11469\n",
      "Successfully read datafile 2021iat2.txt .\n",
      "Converting to X and y arrays...\n",
      "IDs with less than 20 trials <200 ms or >10 seconds: (11442, 120, 3)\n",
      "IDs with 60 trials for each condition, 60 trials for both picture and word stimuli: (11442, 120, 3)\n",
      "Final shape of RTs chunk (after once more excluding cases w/ missing age or trials):  (11442, 120, 4)\n",
      "Final shape of outcomes chunk:  (11442, 120, 4)\n"
     ]
    },
    {
     "name": "stderr",
     "output_type": "stream",
     "text": [
      "/home/mischa/miniconda3/envs/bf/lib/python3.10/site-packages/numpy/core/fromnumeric.py:3432: RuntimeWarning: Mean of empty slice.\n",
      "  return _methods._mean(a, axis=axis, dtype=dtype,\n",
      "/home/mischa/miniconda3/envs/bf/lib/python3.10/site-packages/numpy/core/_methods.py:190: RuntimeWarning: invalid value encountered in divide\n",
      "  ret = ret.dtype.type(ret / rcount)\n",
      "/home/mischa/miniconda3/envs/bf/lib/python3.10/site-packages/numpy/core/_methods.py:265: RuntimeWarning: Degrees of freedom <= 0 for slice\n",
      "  ret = _var(a, axis=axis, dtype=dtype, out=out, ddof=ddof,\n",
      "/home/mischa/miniconda3/envs/bf/lib/python3.10/site-packages/numpy/core/_methods.py:223: RuntimeWarning: invalid value encountered in divide\n",
      "  arrmean = um.true_divide(arrmean, div, out=arrmean, casting='unsafe',\n",
      "/home/mischa/miniconda3/envs/bf/lib/python3.10/site-packages/numpy/core/_methods.py:257: RuntimeWarning: invalid value encountered in divide\n",
      "  ret = ret.dtype.type(ret / rcount)\n"
     ]
    },
    {
     "name": "stdout",
     "output_type": "stream",
     "text": [
      "2021iat2.txt done\n",
      "Initial shape: 14593\n",
      "After removing no age IDs: 6562\n",
      "After removing invalid IDs: 6562\n",
      "After excluding zero latency IDs: 6492\n",
      "After excluding != 120 trials IDs: 6481\n",
      "After excluding more than 50% error IDs: 6478\n",
      "After excluding zero error IDs: 5886\n",
      "Successfully read datafile 2021iat20.txt .\n",
      "Converting to X and y arrays...\n",
      "IDs with less than 20 trials <200 ms or >10 seconds: (5868, 120, 3)\n",
      "IDs with 60 trials for each condition, 60 trials for both picture and word stimuli: (5868, 120, 3)\n",
      "Final shape of RTs chunk (after once more excluding cases w/ missing age or trials):  (5868, 120, 4)\n",
      "Final shape of outcomes chunk:  (5868, 120, 4)\n"
     ]
    },
    {
     "name": "stderr",
     "output_type": "stream",
     "text": [
      "/home/mischa/miniconda3/envs/bf/lib/python3.10/site-packages/numpy/core/fromnumeric.py:3432: RuntimeWarning: Mean of empty slice.\n",
      "  return _methods._mean(a, axis=axis, dtype=dtype,\n",
      "/home/mischa/miniconda3/envs/bf/lib/python3.10/site-packages/numpy/core/_methods.py:190: RuntimeWarning: invalid value encountered in divide\n",
      "  ret = ret.dtype.type(ret / rcount)\n",
      "/home/mischa/miniconda3/envs/bf/lib/python3.10/site-packages/numpy/core/_methods.py:265: RuntimeWarning: Degrees of freedom <= 0 for slice\n",
      "  ret = _var(a, axis=axis, dtype=dtype, out=out, ddof=ddof,\n",
      "/home/mischa/miniconda3/envs/bf/lib/python3.10/site-packages/numpy/core/_methods.py:223: RuntimeWarning: invalid value encountered in divide\n",
      "  arrmean = um.true_divide(arrmean, div, out=arrmean, casting='unsafe',\n",
      "/home/mischa/miniconda3/envs/bf/lib/python3.10/site-packages/numpy/core/_methods.py:257: RuntimeWarning: invalid value encountered in divide\n",
      "  ret = ret.dtype.type(ret / rcount)\n"
     ]
    },
    {
     "name": "stdout",
     "output_type": "stream",
     "text": [
      "2021iat20.txt done\n",
      "Initial shape: 25587\n",
      "After removing no age IDs: 12593\n",
      "After removing invalid IDs: 12593\n",
      "After excluding zero latency IDs: 12508\n",
      "After excluding != 120 trials IDs: 12492\n",
      "After excluding more than 50% error IDs: 12486\n",
      "After excluding zero error IDs: 11306\n",
      "Successfully read datafile 2021iat3.txt .\n",
      "Converting to X and y arrays...\n",
      "IDs with less than 20 trials <200 ms or >10 seconds: (11270, 120, 3)\n",
      "IDs with 60 trials for each condition, 60 trials for both picture and word stimuli: (11270, 120, 3)\n",
      "Final shape of RTs chunk (after once more excluding cases w/ missing age or trials):  (11270, 120, 4)\n",
      "Final shape of outcomes chunk:  (11270, 120, 4)\n"
     ]
    },
    {
     "name": "stderr",
     "output_type": "stream",
     "text": [
      "/home/mischa/miniconda3/envs/bf/lib/python3.10/site-packages/numpy/core/fromnumeric.py:3432: RuntimeWarning: Mean of empty slice.\n",
      "  return _methods._mean(a, axis=axis, dtype=dtype,\n",
      "/home/mischa/miniconda3/envs/bf/lib/python3.10/site-packages/numpy/core/_methods.py:190: RuntimeWarning: invalid value encountered in divide\n",
      "  ret = ret.dtype.type(ret / rcount)\n",
      "/home/mischa/miniconda3/envs/bf/lib/python3.10/site-packages/numpy/core/_methods.py:265: RuntimeWarning: Degrees of freedom <= 0 for slice\n",
      "  ret = _var(a, axis=axis, dtype=dtype, out=out, ddof=ddof,\n",
      "/home/mischa/miniconda3/envs/bf/lib/python3.10/site-packages/numpy/core/_methods.py:223: RuntimeWarning: invalid value encountered in divide\n",
      "  arrmean = um.true_divide(arrmean, div, out=arrmean, casting='unsafe',\n",
      "/home/mischa/miniconda3/envs/bf/lib/python3.10/site-packages/numpy/core/_methods.py:257: RuntimeWarning: invalid value encountered in divide\n",
      "  ret = ret.dtype.type(ret / rcount)\n"
     ]
    },
    {
     "name": "stdout",
     "output_type": "stream",
     "text": [
      "2021iat3.txt done\n",
      "Initial shape: 25508\n",
      "After removing no age IDs: 12759\n",
      "After removing invalid IDs: 12759\n",
      "After excluding zero latency IDs: 12687\n",
      "After excluding != 120 trials IDs: 12672\n",
      "After excluding more than 50% error IDs: 12665\n",
      "After excluding zero error IDs: 11463\n",
      "Successfully read datafile 2021iat4.txt .\n",
      "Converting to X and y arrays...\n",
      "IDs with less than 20 trials <200 ms or >10 seconds: (11428, 120, 3)\n",
      "IDs with 60 trials for each condition, 60 trials for both picture and word stimuli: (11428, 120, 3)\n",
      "Final shape of RTs chunk (after once more excluding cases w/ missing age or trials):  (11428, 120, 4)\n",
      "Final shape of outcomes chunk:  (11428, 120, 4)\n"
     ]
    },
    {
     "name": "stderr",
     "output_type": "stream",
     "text": [
      "/home/mischa/miniconda3/envs/bf/lib/python3.10/site-packages/numpy/core/fromnumeric.py:3432: RuntimeWarning: Mean of empty slice.\n",
      "  return _methods._mean(a, axis=axis, dtype=dtype,\n",
      "/home/mischa/miniconda3/envs/bf/lib/python3.10/site-packages/numpy/core/_methods.py:190: RuntimeWarning: invalid value encountered in divide\n",
      "  ret = ret.dtype.type(ret / rcount)\n",
      "/home/mischa/miniconda3/envs/bf/lib/python3.10/site-packages/numpy/core/_methods.py:265: RuntimeWarning: Degrees of freedom <= 0 for slice\n",
      "  ret = _var(a, axis=axis, dtype=dtype, out=out, ddof=ddof,\n",
      "/home/mischa/miniconda3/envs/bf/lib/python3.10/site-packages/numpy/core/_methods.py:223: RuntimeWarning: invalid value encountered in divide\n",
      "  arrmean = um.true_divide(arrmean, div, out=arrmean, casting='unsafe',\n",
      "/home/mischa/miniconda3/envs/bf/lib/python3.10/site-packages/numpy/core/_methods.py:257: RuntimeWarning: invalid value encountered in divide\n",
      "  ret = ret.dtype.type(ret / rcount)\n"
     ]
    },
    {
     "name": "stdout",
     "output_type": "stream",
     "text": [
      "2021iat4.txt done\n",
      "Initial shape: 25552\n",
      "After removing no age IDs: 12238\n",
      "After removing invalid IDs: 12238\n",
      "After excluding zero latency IDs: 12162\n",
      "After excluding != 120 trials IDs: 12152\n",
      "After excluding more than 50% error IDs: 12147\n",
      "After excluding zero error IDs: 10929\n",
      "Successfully read datafile 2021iat5.txt .\n",
      "Converting to X and y arrays...\n",
      "IDs with less than 20 trials <200 ms or >10 seconds: (10893, 120, 3)\n",
      "IDs with 60 trials for each condition, 60 trials for both picture and word stimuli: (10893, 120, 3)\n",
      "Final shape of RTs chunk (after once more excluding cases w/ missing age or trials):  (10893, 120, 4)\n",
      "Final shape of outcomes chunk:  (10893, 120, 4)\n"
     ]
    },
    {
     "name": "stderr",
     "output_type": "stream",
     "text": [
      "/home/mischa/miniconda3/envs/bf/lib/python3.10/site-packages/numpy/core/fromnumeric.py:3432: RuntimeWarning: Mean of empty slice.\n",
      "  return _methods._mean(a, axis=axis, dtype=dtype,\n",
      "/home/mischa/miniconda3/envs/bf/lib/python3.10/site-packages/numpy/core/_methods.py:190: RuntimeWarning: invalid value encountered in divide\n",
      "  ret = ret.dtype.type(ret / rcount)\n",
      "/home/mischa/miniconda3/envs/bf/lib/python3.10/site-packages/numpy/core/_methods.py:265: RuntimeWarning: Degrees of freedom <= 0 for slice\n",
      "  ret = _var(a, axis=axis, dtype=dtype, out=out, ddof=ddof,\n",
      "/home/mischa/miniconda3/envs/bf/lib/python3.10/site-packages/numpy/core/_methods.py:223: RuntimeWarning: invalid value encountered in divide\n",
      "  arrmean = um.true_divide(arrmean, div, out=arrmean, casting='unsafe',\n",
      "/home/mischa/miniconda3/envs/bf/lib/python3.10/site-packages/numpy/core/_methods.py:257: RuntimeWarning: invalid value encountered in divide\n",
      "  ret = ret.dtype.type(ret / rcount)\n"
     ]
    },
    {
     "name": "stdout",
     "output_type": "stream",
     "text": [
      "2021iat5.txt done\n",
      "Initial shape: 25631\n",
      "After removing no age IDs: 12448\n",
      "After removing invalid IDs: 12448\n",
      "After excluding zero latency IDs: 12354\n",
      "After excluding != 120 trials IDs: 12336\n",
      "After excluding more than 50% error IDs: 12325\n",
      "After excluding zero error IDs: 11119\n",
      "Successfully read datafile 2021iat6.txt .\n",
      "Converting to X and y arrays...\n",
      "IDs with less than 20 trials <200 ms or >10 seconds: (11087, 120, 3)\n",
      "IDs with 60 trials for each condition, 60 trials for both picture and word stimuli: (11087, 120, 3)\n",
      "Final shape of RTs chunk (after once more excluding cases w/ missing age or trials):  (11087, 120, 4)\n",
      "Final shape of outcomes chunk:  (11087, 120, 4)\n"
     ]
    },
    {
     "name": "stderr",
     "output_type": "stream",
     "text": [
      "/home/mischa/miniconda3/envs/bf/lib/python3.10/site-packages/numpy/core/fromnumeric.py:3432: RuntimeWarning: Mean of empty slice.\n",
      "  return _methods._mean(a, axis=axis, dtype=dtype,\n",
      "/home/mischa/miniconda3/envs/bf/lib/python3.10/site-packages/numpy/core/_methods.py:190: RuntimeWarning: invalid value encountered in divide\n",
      "  ret = ret.dtype.type(ret / rcount)\n",
      "/home/mischa/miniconda3/envs/bf/lib/python3.10/site-packages/numpy/core/_methods.py:265: RuntimeWarning: Degrees of freedom <= 0 for slice\n",
      "  ret = _var(a, axis=axis, dtype=dtype, out=out, ddof=ddof,\n",
      "/home/mischa/miniconda3/envs/bf/lib/python3.10/site-packages/numpy/core/_methods.py:223: RuntimeWarning: invalid value encountered in divide\n",
      "  arrmean = um.true_divide(arrmean, div, out=arrmean, casting='unsafe',\n",
      "/home/mischa/miniconda3/envs/bf/lib/python3.10/site-packages/numpy/core/_methods.py:257: RuntimeWarning: invalid value encountered in divide\n",
      "  ret = ret.dtype.type(ret / rcount)\n"
     ]
    },
    {
     "name": "stdout",
     "output_type": "stream",
     "text": [
      "2021iat6.txt done\n",
      "Initial shape: 25518\n",
      "After removing no age IDs: 11751\n",
      "After removing invalid IDs: 11751\n",
      "After excluding zero latency IDs: 11661\n",
      "After excluding != 120 trials IDs: 11647\n",
      "After excluding more than 50% error IDs: 11638\n",
      "After excluding zero error IDs: 10602\n",
      "Successfully read datafile 2021iat7.txt .\n",
      "Converting to X and y arrays...\n",
      "IDs with less than 20 trials <200 ms or >10 seconds: (10565, 120, 3)\n",
      "IDs with 60 trials for each condition, 60 trials for both picture and word stimuli: (10565, 120, 3)\n",
      "Final shape of RTs chunk (after once more excluding cases w/ missing age or trials):  (10565, 120, 4)\n",
      "Final shape of outcomes chunk:  (10565, 120, 4)\n"
     ]
    },
    {
     "name": "stderr",
     "output_type": "stream",
     "text": [
      "/home/mischa/miniconda3/envs/bf/lib/python3.10/site-packages/numpy/core/fromnumeric.py:3432: RuntimeWarning: Mean of empty slice.\n",
      "  return _methods._mean(a, axis=axis, dtype=dtype,\n",
      "/home/mischa/miniconda3/envs/bf/lib/python3.10/site-packages/numpy/core/_methods.py:190: RuntimeWarning: invalid value encountered in divide\n",
      "  ret = ret.dtype.type(ret / rcount)\n",
      "/home/mischa/miniconda3/envs/bf/lib/python3.10/site-packages/numpy/core/_methods.py:265: RuntimeWarning: Degrees of freedom <= 0 for slice\n",
      "  ret = _var(a, axis=axis, dtype=dtype, out=out, ddof=ddof,\n",
      "/home/mischa/miniconda3/envs/bf/lib/python3.10/site-packages/numpy/core/_methods.py:223: RuntimeWarning: invalid value encountered in divide\n",
      "  arrmean = um.true_divide(arrmean, div, out=arrmean, casting='unsafe',\n",
      "/home/mischa/miniconda3/envs/bf/lib/python3.10/site-packages/numpy/core/_methods.py:257: RuntimeWarning: invalid value encountered in divide\n",
      "  ret = ret.dtype.type(ret / rcount)\n"
     ]
    },
    {
     "name": "stdout",
     "output_type": "stream",
     "text": [
      "2021iat7.txt done\n",
      "Initial shape: 25758\n",
      "After removing no age IDs: 11984\n",
      "After removing invalid IDs: 11984\n",
      "After excluding zero latency IDs: 11888\n",
      "After excluding != 120 trials IDs: 11873\n",
      "After excluding more than 50% error IDs: 11868\n",
      "After excluding zero error IDs: 10741\n",
      "Successfully read datafile 2021iat8.txt .\n",
      "Converting to X and y arrays...\n",
      "IDs with less than 20 trials <200 ms or >10 seconds: (10702, 120, 3)\n",
      "IDs with 60 trials for each condition, 60 trials for both picture and word stimuli: (10702, 120, 3)\n",
      "Final shape of RTs chunk (after once more excluding cases w/ missing age or trials):  (10702, 120, 4)\n",
      "Final shape of outcomes chunk:  (10702, 120, 4)\n"
     ]
    },
    {
     "name": "stderr",
     "output_type": "stream",
     "text": [
      "/home/mischa/miniconda3/envs/bf/lib/python3.10/site-packages/numpy/core/fromnumeric.py:3432: RuntimeWarning: Mean of empty slice.\n",
      "  return _methods._mean(a, axis=axis, dtype=dtype,\n",
      "/home/mischa/miniconda3/envs/bf/lib/python3.10/site-packages/numpy/core/_methods.py:190: RuntimeWarning: invalid value encountered in divide\n",
      "  ret = ret.dtype.type(ret / rcount)\n",
      "/home/mischa/miniconda3/envs/bf/lib/python3.10/site-packages/numpy/core/_methods.py:265: RuntimeWarning: Degrees of freedom <= 0 for slice\n",
      "  ret = _var(a, axis=axis, dtype=dtype, out=out, ddof=ddof,\n",
      "/home/mischa/miniconda3/envs/bf/lib/python3.10/site-packages/numpy/core/_methods.py:223: RuntimeWarning: invalid value encountered in divide\n",
      "  arrmean = um.true_divide(arrmean, div, out=arrmean, casting='unsafe',\n",
      "/home/mischa/miniconda3/envs/bf/lib/python3.10/site-packages/numpy/core/_methods.py:257: RuntimeWarning: invalid value encountered in divide\n",
      "  ret = ret.dtype.type(ret / rcount)\n"
     ]
    },
    {
     "name": "stdout",
     "output_type": "stream",
     "text": [
      "2021iat8.txt done\n",
      "Initial shape: 25714\n",
      "After removing no age IDs: 11961\n",
      "After removing invalid IDs: 11961\n",
      "After excluding zero latency IDs: 11885\n",
      "After excluding != 120 trials IDs: 11869\n",
      "After excluding more than 50% error IDs: 11859\n",
      "After excluding zero error IDs: 10757\n",
      "Successfully read datafile 2021iat9.txt .\n",
      "Converting to X and y arrays...\n",
      "IDs with less than 20 trials <200 ms or >10 seconds: (10720, 120, 3)\n",
      "IDs with 60 trials for each condition, 60 trials for both picture and word stimuli: (10720, 120, 3)\n",
      "Final shape of RTs chunk (after once more excluding cases w/ missing age or trials):  (10720, 120, 4)\n",
      "Final shape of outcomes chunk:  (10720, 120, 4)\n"
     ]
    },
    {
     "name": "stderr",
     "output_type": "stream",
     "text": [
      "/home/mischa/miniconda3/envs/bf/lib/python3.10/site-packages/numpy/core/fromnumeric.py:3432: RuntimeWarning: Mean of empty slice.\n",
      "  return _methods._mean(a, axis=axis, dtype=dtype,\n",
      "/home/mischa/miniconda3/envs/bf/lib/python3.10/site-packages/numpy/core/_methods.py:190: RuntimeWarning: invalid value encountered in divide\n",
      "  ret = ret.dtype.type(ret / rcount)\n",
      "/home/mischa/miniconda3/envs/bf/lib/python3.10/site-packages/numpy/core/_methods.py:265: RuntimeWarning: Degrees of freedom <= 0 for slice\n",
      "  ret = _var(a, axis=axis, dtype=dtype, out=out, ddof=ddof,\n",
      "/home/mischa/miniconda3/envs/bf/lib/python3.10/site-packages/numpy/core/_methods.py:223: RuntimeWarning: invalid value encountered in divide\n",
      "  arrmean = um.true_divide(arrmean, div, out=arrmean, casting='unsafe',\n",
      "/home/mischa/miniconda3/envs/bf/lib/python3.10/site-packages/numpy/core/_methods.py:257: RuntimeWarning: invalid value encountered in divide\n",
      "  ret = ret.dtype.type(ret / rcount)\n"
     ]
    },
    {
     "name": "stdout",
     "output_type": "stream",
     "text": [
      "2021iat9.txt done\n",
      "Initial shape: 25744\n",
      "After removing no age IDs: 11840\n",
      "After removing invalid IDs: 11840\n",
      "After excluding zero latency IDs: 11720\n",
      "After excluding != 120 trials IDs: 11704\n",
      "After excluding more than 50% error IDs: 11692\n",
      "After excluding zero error IDs: 10552\n",
      "Successfully read datafile 20221iat.txt .\n",
      "Converting to X and y arrays...\n",
      "IDs with less than 20 trials <200 ms or >10 seconds: (10518, 120, 3)\n",
      "IDs with 60 trials for each condition, 60 trials for both picture and word stimuli: (10518, 120, 3)\n",
      "Final shape of RTs chunk (after once more excluding cases w/ missing age or trials):  (10518, 120, 4)\n",
      "Final shape of outcomes chunk:  (10518, 120, 4)\n"
     ]
    },
    {
     "name": "stderr",
     "output_type": "stream",
     "text": [
      "/home/mischa/miniconda3/envs/bf/lib/python3.10/site-packages/numpy/core/fromnumeric.py:3432: RuntimeWarning: Mean of empty slice.\n",
      "  return _methods._mean(a, axis=axis, dtype=dtype,\n",
      "/home/mischa/miniconda3/envs/bf/lib/python3.10/site-packages/numpy/core/_methods.py:190: RuntimeWarning: invalid value encountered in divide\n",
      "  ret = ret.dtype.type(ret / rcount)\n",
      "/home/mischa/miniconda3/envs/bf/lib/python3.10/site-packages/numpy/core/_methods.py:265: RuntimeWarning: Degrees of freedom <= 0 for slice\n",
      "  ret = _var(a, axis=axis, dtype=dtype, out=out, ddof=ddof,\n",
      "/home/mischa/miniconda3/envs/bf/lib/python3.10/site-packages/numpy/core/_methods.py:223: RuntimeWarning: invalid value encountered in divide\n",
      "  arrmean = um.true_divide(arrmean, div, out=arrmean, casting='unsafe',\n",
      "/home/mischa/miniconda3/envs/bf/lib/python3.10/site-packages/numpy/core/_methods.py:257: RuntimeWarning: invalid value encountered in divide\n",
      "  ret = ret.dtype.type(ret / rcount)\n"
     ]
    },
    {
     "name": "stdout",
     "output_type": "stream",
     "text": [
      "20221iat.txt done\n",
      "Initial shape: 25631\n",
      "After removing no age IDs: 11732\n",
      "After removing invalid IDs: 11732\n",
      "After excluding zero latency IDs: 11610\n",
      "After excluding != 120 trials IDs: 11593\n",
      "After excluding more than 50% error IDs: 11579\n",
      "After excluding zero error IDs: 10632\n",
      "Successfully read datafile 20221iat2.txt .\n",
      "Converting to X and y arrays...\n",
      "IDs with less than 20 trials <200 ms or >10 seconds: (10592, 120, 3)\n",
      "IDs with 60 trials for each condition, 60 trials for both picture and word stimuli: (10592, 120, 3)\n",
      "Final shape of RTs chunk (after once more excluding cases w/ missing age or trials):  (10592, 120, 4)\n",
      "Final shape of outcomes chunk:  (10592, 120, 4)\n"
     ]
    },
    {
     "name": "stderr",
     "output_type": "stream",
     "text": [
      "/home/mischa/miniconda3/envs/bf/lib/python3.10/site-packages/numpy/core/fromnumeric.py:3432: RuntimeWarning: Mean of empty slice.\n",
      "  return _methods._mean(a, axis=axis, dtype=dtype,\n",
      "/home/mischa/miniconda3/envs/bf/lib/python3.10/site-packages/numpy/core/_methods.py:190: RuntimeWarning: invalid value encountered in divide\n",
      "  ret = ret.dtype.type(ret / rcount)\n",
      "/home/mischa/miniconda3/envs/bf/lib/python3.10/site-packages/numpy/core/_methods.py:265: RuntimeWarning: Degrees of freedom <= 0 for slice\n",
      "  ret = _var(a, axis=axis, dtype=dtype, out=out, ddof=ddof,\n",
      "/home/mischa/miniconda3/envs/bf/lib/python3.10/site-packages/numpy/core/_methods.py:223: RuntimeWarning: invalid value encountered in divide\n",
      "  arrmean = um.true_divide(arrmean, div, out=arrmean, casting='unsafe',\n",
      "/home/mischa/miniconda3/envs/bf/lib/python3.10/site-packages/numpy/core/_methods.py:257: RuntimeWarning: invalid value encountered in divide\n",
      "  ret = ret.dtype.type(ret / rcount)\n"
     ]
    },
    {
     "name": "stdout",
     "output_type": "stream",
     "text": [
      "20221iat2.txt done\n",
      "Initial shape: 25567\n",
      "After removing no age IDs: 21546\n",
      "After removing invalid IDs: 21546\n",
      "After excluding zero latency IDs: 21282\n",
      "After excluding != 120 trials IDs: 20981\n",
      "After excluding more than 50% error IDs: 20956\n",
      "After excluding zero error IDs: 19309\n",
      "Successfully read datafile 20221iat3.txt .\n",
      "Converting to X and y arrays...\n",
      "IDs with less than 20 trials <200 ms or >10 seconds: (19176, 120, 3)\n",
      "IDs with 60 trials for each condition, 60 trials for both picture and word stimuli: (19176, 120, 3)\n",
      "Final shape of RTs chunk (after once more excluding cases w/ missing age or trials):  (19176, 120, 4)\n",
      "Final shape of outcomes chunk:  (19176, 120, 4)\n"
     ]
    },
    {
     "name": "stderr",
     "output_type": "stream",
     "text": [
      "/home/mischa/miniconda3/envs/bf/lib/python3.10/site-packages/numpy/core/fromnumeric.py:3432: RuntimeWarning: Mean of empty slice.\n",
      "  return _methods._mean(a, axis=axis, dtype=dtype,\n",
      "/home/mischa/miniconda3/envs/bf/lib/python3.10/site-packages/numpy/core/_methods.py:190: RuntimeWarning: invalid value encountered in divide\n",
      "  ret = ret.dtype.type(ret / rcount)\n",
      "/home/mischa/miniconda3/envs/bf/lib/python3.10/site-packages/numpy/core/_methods.py:265: RuntimeWarning: Degrees of freedom <= 0 for slice\n",
      "  ret = _var(a, axis=axis, dtype=dtype, out=out, ddof=ddof,\n",
      "/home/mischa/miniconda3/envs/bf/lib/python3.10/site-packages/numpy/core/_methods.py:223: RuntimeWarning: invalid value encountered in divide\n",
      "  arrmean = um.true_divide(arrmean, div, out=arrmean, casting='unsafe',\n",
      "/home/mischa/miniconda3/envs/bf/lib/python3.10/site-packages/numpy/core/_methods.py:257: RuntimeWarning: invalid value encountered in divide\n",
      "  ret = ret.dtype.type(ret / rcount)\n"
     ]
    },
    {
     "name": "stdout",
     "output_type": "stream",
     "text": [
      "20221iat3.txt done\n",
      "Initial shape: 25571\n",
      "After removing no age IDs: 12755\n",
      "After removing invalid IDs: 12755\n",
      "After excluding zero latency IDs: 12572\n",
      "After excluding != 120 trials IDs: 12386\n",
      "After excluding more than 50% error IDs: 12376\n",
      "After excluding zero error IDs: 11442\n",
      "Successfully read datafile 20221iat4.txt .\n",
      "Converting to X and y arrays...\n",
      "IDs with less than 20 trials <200 ms or >10 seconds: (11368, 120, 3)\n",
      "IDs with 60 trials for each condition, 60 trials for both picture and word stimuli: (11368, 120, 3)\n",
      "Final shape of RTs chunk (after once more excluding cases w/ missing age or trials):  (11368, 120, 4)\n",
      "Final shape of outcomes chunk:  (11368, 120, 4)\n"
     ]
    },
    {
     "name": "stderr",
     "output_type": "stream",
     "text": [
      "/home/mischa/miniconda3/envs/bf/lib/python3.10/site-packages/numpy/core/fromnumeric.py:3432: RuntimeWarning: Mean of empty slice.\n",
      "  return _methods._mean(a, axis=axis, dtype=dtype,\n",
      "/home/mischa/miniconda3/envs/bf/lib/python3.10/site-packages/numpy/core/_methods.py:190: RuntimeWarning: invalid value encountered in divide\n",
      "  ret = ret.dtype.type(ret / rcount)\n",
      "/home/mischa/miniconda3/envs/bf/lib/python3.10/site-packages/numpy/core/_methods.py:265: RuntimeWarning: Degrees of freedom <= 0 for slice\n",
      "  ret = _var(a, axis=axis, dtype=dtype, out=out, ddof=ddof,\n",
      "/home/mischa/miniconda3/envs/bf/lib/python3.10/site-packages/numpy/core/_methods.py:223: RuntimeWarning: invalid value encountered in divide\n",
      "  arrmean = um.true_divide(arrmean, div, out=arrmean, casting='unsafe',\n",
      "/home/mischa/miniconda3/envs/bf/lib/python3.10/site-packages/numpy/core/_methods.py:257: RuntimeWarning: invalid value encountered in divide\n",
      "  ret = ret.dtype.type(ret / rcount)\n"
     ]
    },
    {
     "name": "stdout",
     "output_type": "stream",
     "text": [
      "20221iat4.txt done\n",
      "Initial shape: 25701\n",
      "After removing no age IDs: 16036\n",
      "After removing invalid IDs: 16036\n",
      "After excluding zero latency IDs: 15816\n",
      "After excluding != 120 trials IDs: 15313\n",
      "After excluding more than 50% error IDs: 15287\n",
      "After excluding zero error IDs: 14248\n",
      "Successfully read datafile 20221iat5.txt .\n",
      "Converting to X and y arrays...\n",
      "IDs with less than 20 trials <200 ms or >10 seconds: (14164, 120, 3)\n",
      "IDs with 60 trials for each condition, 60 trials for both picture and word stimuli: (14164, 120, 3)\n",
      "Final shape of RTs chunk (after once more excluding cases w/ missing age or trials):  (14164, 120, 4)\n",
      "Final shape of outcomes chunk:  (14164, 120, 4)\n"
     ]
    },
    {
     "name": "stderr",
     "output_type": "stream",
     "text": [
      "/home/mischa/miniconda3/envs/bf/lib/python3.10/site-packages/numpy/core/fromnumeric.py:3432: RuntimeWarning: Mean of empty slice.\n",
      "  return _methods._mean(a, axis=axis, dtype=dtype,\n",
      "/home/mischa/miniconda3/envs/bf/lib/python3.10/site-packages/numpy/core/_methods.py:190: RuntimeWarning: invalid value encountered in divide\n",
      "  ret = ret.dtype.type(ret / rcount)\n",
      "/home/mischa/miniconda3/envs/bf/lib/python3.10/site-packages/numpy/core/_methods.py:265: RuntimeWarning: Degrees of freedom <= 0 for slice\n",
      "  ret = _var(a, axis=axis, dtype=dtype, out=out, ddof=ddof,\n",
      "/home/mischa/miniconda3/envs/bf/lib/python3.10/site-packages/numpy/core/_methods.py:223: RuntimeWarning: invalid value encountered in divide\n",
      "  arrmean = um.true_divide(arrmean, div, out=arrmean, casting='unsafe',\n",
      "/home/mischa/miniconda3/envs/bf/lib/python3.10/site-packages/numpy/core/_methods.py:257: RuntimeWarning: invalid value encountered in divide\n",
      "  ret = ret.dtype.type(ret / rcount)\n"
     ]
    },
    {
     "name": "stdout",
     "output_type": "stream",
     "text": [
      "20221iat5.txt done\n",
      "Initial shape: 25735\n",
      "After removing no age IDs: 25730\n",
      "After removing invalid IDs: 25730\n",
      "After excluding zero latency IDs: 25333\n",
      "After excluding != 120 trials IDs: 24374\n",
      "After excluding more than 50% error IDs: 24335\n",
      "After excluding zero error IDs: 22345\n",
      "Successfully read datafile 20221iat6.txt .\n",
      "Converting to X and y arrays...\n",
      "IDs with less than 20 trials <200 ms or >10 seconds: (22214, 120, 3)\n",
      "IDs with 60 trials for each condition, 60 trials for both picture and word stimuli: (22214, 120, 3)\n",
      "Final shape of RTs chunk (after once more excluding cases w/ missing age or trials):  (22214, 120, 4)\n",
      "Final shape of outcomes chunk:  (22214, 120, 4)\n"
     ]
    },
    {
     "name": "stderr",
     "output_type": "stream",
     "text": [
      "/home/mischa/miniconda3/envs/bf/lib/python3.10/site-packages/numpy/core/fromnumeric.py:3432: RuntimeWarning: Mean of empty slice.\n",
      "  return _methods._mean(a, axis=axis, dtype=dtype,\n",
      "/home/mischa/miniconda3/envs/bf/lib/python3.10/site-packages/numpy/core/_methods.py:190: RuntimeWarning: invalid value encountered in divide\n",
      "  ret = ret.dtype.type(ret / rcount)\n",
      "/home/mischa/miniconda3/envs/bf/lib/python3.10/site-packages/numpy/core/_methods.py:265: RuntimeWarning: Degrees of freedom <= 0 for slice\n",
      "  ret = _var(a, axis=axis, dtype=dtype, out=out, ddof=ddof,\n",
      "/home/mischa/miniconda3/envs/bf/lib/python3.10/site-packages/numpy/core/_methods.py:223: RuntimeWarning: invalid value encountered in divide\n",
      "  arrmean = um.true_divide(arrmean, div, out=arrmean, casting='unsafe',\n",
      "/home/mischa/miniconda3/envs/bf/lib/python3.10/site-packages/numpy/core/_methods.py:257: RuntimeWarning: invalid value encountered in divide\n",
      "  ret = ret.dtype.type(ret / rcount)\n"
     ]
    },
    {
     "name": "stdout",
     "output_type": "stream",
     "text": [
      "20221iat6.txt done\n",
      "Initial shape: 25779\n",
      "After removing no age IDs: 25775\n",
      "After removing invalid IDs: 25775\n",
      "After excluding zero latency IDs: 25485\n",
      "After excluding != 120 trials IDs: 24662\n",
      "After excluding more than 50% error IDs: 24636\n",
      "After excluding zero error IDs: 22399\n",
      "Successfully read datafile 20221iat7.txt .\n",
      "Converting to X and y arrays...\n",
      "IDs with less than 20 trials <200 ms or >10 seconds: (22320, 120, 3)\n",
      "IDs with 60 trials for each condition, 60 trials for both picture and word stimuli: (22320, 120, 3)\n",
      "Final shape of RTs chunk (after once more excluding cases w/ missing age or trials):  (22320, 120, 4)\n",
      "Final shape of outcomes chunk:  (22320, 120, 4)\n"
     ]
    },
    {
     "name": "stderr",
     "output_type": "stream",
     "text": [
      "/home/mischa/miniconda3/envs/bf/lib/python3.10/site-packages/numpy/core/fromnumeric.py:3432: RuntimeWarning: Mean of empty slice.\n",
      "  return _methods._mean(a, axis=axis, dtype=dtype,\n",
      "/home/mischa/miniconda3/envs/bf/lib/python3.10/site-packages/numpy/core/_methods.py:190: RuntimeWarning: invalid value encountered in divide\n",
      "  ret = ret.dtype.type(ret / rcount)\n",
      "/home/mischa/miniconda3/envs/bf/lib/python3.10/site-packages/numpy/core/_methods.py:265: RuntimeWarning: Degrees of freedom <= 0 for slice\n",
      "  ret = _var(a, axis=axis, dtype=dtype, out=out, ddof=ddof,\n",
      "/home/mischa/miniconda3/envs/bf/lib/python3.10/site-packages/numpy/core/_methods.py:223: RuntimeWarning: invalid value encountered in divide\n",
      "  arrmean = um.true_divide(arrmean, div, out=arrmean, casting='unsafe',\n",
      "/home/mischa/miniconda3/envs/bf/lib/python3.10/site-packages/numpy/core/_methods.py:257: RuntimeWarning: invalid value encountered in divide\n",
      "  ret = ret.dtype.type(ret / rcount)\n"
     ]
    },
    {
     "name": "stdout",
     "output_type": "stream",
     "text": [
      "20221iat7.txt done\n",
      "Initial shape: 3460\n",
      "After removing no age IDs: 3459\n",
      "After removing invalid IDs: 3459\n",
      "After excluding zero latency IDs: 3428\n",
      "After excluding != 120 trials IDs: 3338\n",
      "After excluding more than 50% error IDs: 3338\n",
      "After excluding zero error IDs: 3048\n",
      "Successfully read datafile 20221iat8.txt .\n",
      "Converting to X and y arrays...\n",
      "IDs with less than 20 trials <200 ms or >10 seconds: (3030, 120, 3)\n",
      "IDs with 60 trials for each condition, 60 trials for both picture and word stimuli: (3030, 120, 3)\n",
      "Final shape of RTs chunk (after once more excluding cases w/ missing age or trials):  (3030, 120, 4)\n",
      "Final shape of outcomes chunk:  (3030, 120, 4)\n"
     ]
    },
    {
     "name": "stderr",
     "output_type": "stream",
     "text": [
      "/home/mischa/miniconda3/envs/bf/lib/python3.10/site-packages/numpy/core/fromnumeric.py:3432: RuntimeWarning: Mean of empty slice.\n",
      "  return _methods._mean(a, axis=axis, dtype=dtype,\n",
      "/home/mischa/miniconda3/envs/bf/lib/python3.10/site-packages/numpy/core/_methods.py:190: RuntimeWarning: invalid value encountered in divide\n",
      "  ret = ret.dtype.type(ret / rcount)\n",
      "/home/mischa/miniconda3/envs/bf/lib/python3.10/site-packages/numpy/core/_methods.py:265: RuntimeWarning: Degrees of freedom <= 0 for slice\n",
      "  ret = _var(a, axis=axis, dtype=dtype, out=out, ddof=ddof,\n",
      "/home/mischa/miniconda3/envs/bf/lib/python3.10/site-packages/numpy/core/_methods.py:223: RuntimeWarning: invalid value encountered in divide\n",
      "  arrmean = um.true_divide(arrmean, div, out=arrmean, casting='unsafe',\n",
      "/home/mischa/miniconda3/envs/bf/lib/python3.10/site-packages/numpy/core/_methods.py:257: RuntimeWarning: invalid value encountered in divide\n",
      "  ret = ret.dtype.type(ret / rcount)\n"
     ]
    },
    {
     "name": "stdout",
     "output_type": "stream",
     "text": [
      "20221iat8.txt done\n",
      "Initial shape: 25793\n",
      "After removing no age IDs: 25785\n",
      "After removing invalid IDs: 25785\n",
      "After excluding zero latency IDs: 25521\n",
      "After excluding != 120 trials IDs: 24678\n",
      "After excluding more than 50% error IDs: 24663\n",
      "After excluding zero error IDs: 22475\n",
      "Successfully read datafile 20222iat.txt .\n",
      "Converting to X and y arrays...\n",
      "IDs with less than 20 trials <200 ms or >10 seconds: (22410, 120, 3)\n",
      "IDs with 60 trials for each condition, 60 trials for both picture and word stimuli: (22410, 120, 3)\n",
      "Final shape of RTs chunk (after once more excluding cases w/ missing age or trials):  (22410, 120, 4)\n",
      "Final shape of outcomes chunk:  (22410, 120, 4)\n"
     ]
    },
    {
     "name": "stderr",
     "output_type": "stream",
     "text": [
      "/home/mischa/miniconda3/envs/bf/lib/python3.10/site-packages/numpy/core/fromnumeric.py:3432: RuntimeWarning: Mean of empty slice.\n",
      "  return _methods._mean(a, axis=axis, dtype=dtype,\n",
      "/home/mischa/miniconda3/envs/bf/lib/python3.10/site-packages/numpy/core/_methods.py:190: RuntimeWarning: invalid value encountered in divide\n",
      "  ret = ret.dtype.type(ret / rcount)\n",
      "/home/mischa/miniconda3/envs/bf/lib/python3.10/site-packages/numpy/core/_methods.py:265: RuntimeWarning: Degrees of freedom <= 0 for slice\n",
      "  ret = _var(a, axis=axis, dtype=dtype, out=out, ddof=ddof,\n",
      "/home/mischa/miniconda3/envs/bf/lib/python3.10/site-packages/numpy/core/_methods.py:223: RuntimeWarning: invalid value encountered in divide\n",
      "  arrmean = um.true_divide(arrmean, div, out=arrmean, casting='unsafe',\n",
      "/home/mischa/miniconda3/envs/bf/lib/python3.10/site-packages/numpy/core/_methods.py:257: RuntimeWarning: invalid value encountered in divide\n",
      "  ret = ret.dtype.type(ret / rcount)\n"
     ]
    },
    {
     "name": "stdout",
     "output_type": "stream",
     "text": [
      "20222iat.txt done\n",
      "Initial shape: 25723\n",
      "After removing no age IDs: 25713\n",
      "After removing invalid IDs: 25713\n",
      "After excluding zero latency IDs: 25346\n",
      "After excluding != 120 trials IDs: 24570\n",
      "After excluding more than 50% error IDs: 24547\n",
      "After excluding zero error IDs: 22717\n",
      "Successfully read datafile 20222iat2.txt .\n",
      "Converting to X and y arrays...\n",
      "IDs with less than 20 trials <200 ms or >10 seconds: (22611, 120, 3)\n",
      "IDs with 60 trials for each condition, 60 trials for both picture and word stimuli: (22611, 120, 3)\n",
      "Final shape of RTs chunk (after once more excluding cases w/ missing age or trials):  (22611, 120, 4)\n",
      "Final shape of outcomes chunk:  (22611, 120, 4)\n"
     ]
    },
    {
     "name": "stderr",
     "output_type": "stream",
     "text": [
      "/home/mischa/miniconda3/envs/bf/lib/python3.10/site-packages/numpy/core/fromnumeric.py:3432: RuntimeWarning: Mean of empty slice.\n",
      "  return _methods._mean(a, axis=axis, dtype=dtype,\n",
      "/home/mischa/miniconda3/envs/bf/lib/python3.10/site-packages/numpy/core/_methods.py:190: RuntimeWarning: invalid value encountered in divide\n",
      "  ret = ret.dtype.type(ret / rcount)\n",
      "/home/mischa/miniconda3/envs/bf/lib/python3.10/site-packages/numpy/core/_methods.py:265: RuntimeWarning: Degrees of freedom <= 0 for slice\n",
      "  ret = _var(a, axis=axis, dtype=dtype, out=out, ddof=ddof,\n",
      "/home/mischa/miniconda3/envs/bf/lib/python3.10/site-packages/numpy/core/_methods.py:223: RuntimeWarning: invalid value encountered in divide\n",
      "  arrmean = um.true_divide(arrmean, div, out=arrmean, casting='unsafe',\n",
      "/home/mischa/miniconda3/envs/bf/lib/python3.10/site-packages/numpy/core/_methods.py:257: RuntimeWarning: invalid value encountered in divide\n",
      "  ret = ret.dtype.type(ret / rcount)\n"
     ]
    },
    {
     "name": "stdout",
     "output_type": "stream",
     "text": [
      "20222iat2.txt done\n",
      "Initial shape: 25693\n",
      "After removing no age IDs: 25691\n",
      "After removing invalid IDs: 25691\n",
      "After excluding zero latency IDs: 25260\n",
      "After excluding != 120 trials IDs: 24483\n",
      "After excluding more than 50% error IDs: 24457\n",
      "After excluding zero error IDs: 22741\n",
      "Successfully read datafile 20222iat3.txt .\n",
      "Converting to X and y arrays...\n",
      "IDs with less than 20 trials <200 ms or >10 seconds: (22614, 120, 3)\n",
      "IDs with 60 trials for each condition, 60 trials for both picture and word stimuli: (22614, 120, 3)\n",
      "Final shape of RTs chunk (after once more excluding cases w/ missing age or trials):  (22614, 120, 4)\n",
      "Final shape of outcomes chunk:  (22614, 120, 4)\n"
     ]
    },
    {
     "name": "stderr",
     "output_type": "stream",
     "text": [
      "/home/mischa/miniconda3/envs/bf/lib/python3.10/site-packages/numpy/core/fromnumeric.py:3432: RuntimeWarning: Mean of empty slice.\n",
      "  return _methods._mean(a, axis=axis, dtype=dtype,\n",
      "/home/mischa/miniconda3/envs/bf/lib/python3.10/site-packages/numpy/core/_methods.py:190: RuntimeWarning: invalid value encountered in divide\n",
      "  ret = ret.dtype.type(ret / rcount)\n",
      "/home/mischa/miniconda3/envs/bf/lib/python3.10/site-packages/numpy/core/_methods.py:265: RuntimeWarning: Degrees of freedom <= 0 for slice\n",
      "  ret = _var(a, axis=axis, dtype=dtype, out=out, ddof=ddof,\n",
      "/home/mischa/miniconda3/envs/bf/lib/python3.10/site-packages/numpy/core/_methods.py:223: RuntimeWarning: invalid value encountered in divide\n",
      "  arrmean = um.true_divide(arrmean, div, out=arrmean, casting='unsafe',\n",
      "/home/mischa/miniconda3/envs/bf/lib/python3.10/site-packages/numpy/core/_methods.py:257: RuntimeWarning: invalid value encountered in divide\n",
      "  ret = ret.dtype.type(ret / rcount)\n"
     ]
    },
    {
     "name": "stdout",
     "output_type": "stream",
     "text": [
      "20222iat3.txt done\n",
      "Initial shape: 25550\n",
      "After removing no age IDs: 25540\n",
      "After removing invalid IDs: 25540\n",
      "After excluding zero latency IDs: 25263\n",
      "After excluding != 120 trials IDs: 24489\n",
      "After excluding more than 50% error IDs: 24449\n",
      "After excluding zero error IDs: 22686\n",
      "Successfully read datafile 20222iat4.txt .\n",
      "Converting to X and y arrays...\n",
      "IDs with less than 20 trials <200 ms or >10 seconds: (22483, 120, 3)\n",
      "IDs with 60 trials for each condition, 60 trials for both picture and word stimuli: (22483, 120, 3)\n",
      "Final shape of RTs chunk (after once more excluding cases w/ missing age or trials):  (22483, 120, 4)\n",
      "Final shape of outcomes chunk:  (22483, 120, 4)\n"
     ]
    },
    {
     "name": "stderr",
     "output_type": "stream",
     "text": [
      "/home/mischa/miniconda3/envs/bf/lib/python3.10/site-packages/numpy/core/fromnumeric.py:3432: RuntimeWarning: Mean of empty slice.\n",
      "  return _methods._mean(a, axis=axis, dtype=dtype,\n",
      "/home/mischa/miniconda3/envs/bf/lib/python3.10/site-packages/numpy/core/_methods.py:190: RuntimeWarning: invalid value encountered in divide\n",
      "  ret = ret.dtype.type(ret / rcount)\n",
      "/home/mischa/miniconda3/envs/bf/lib/python3.10/site-packages/numpy/core/_methods.py:265: RuntimeWarning: Degrees of freedom <= 0 for slice\n",
      "  ret = _var(a, axis=axis, dtype=dtype, out=out, ddof=ddof,\n",
      "/home/mischa/miniconda3/envs/bf/lib/python3.10/site-packages/numpy/core/_methods.py:223: RuntimeWarning: invalid value encountered in divide\n",
      "  arrmean = um.true_divide(arrmean, div, out=arrmean, casting='unsafe',\n",
      "/home/mischa/miniconda3/envs/bf/lib/python3.10/site-packages/numpy/core/_methods.py:257: RuntimeWarning: invalid value encountered in divide\n",
      "  ret = ret.dtype.type(ret / rcount)\n"
     ]
    },
    {
     "name": "stdout",
     "output_type": "stream",
     "text": [
      "20222iat4.txt done\n",
      "Initial shape: 25757\n",
      "After removing no age IDs: 25750\n",
      "After removing invalid IDs: 25750\n",
      "After excluding zero latency IDs: 25732\n",
      "After excluding != 120 trials IDs: 24812\n",
      "After excluding more than 50% error IDs: 24708\n",
      "After excluding zero error IDs: 23066\n",
      "Successfully read datafile 20222iat5.txt .\n",
      "Converting to X and y arrays...\n",
      "IDs with less than 20 trials <200 ms or >10 seconds: (22673, 120, 3)\n",
      "IDs with 60 trials for each condition, 60 trials for both picture and word stimuli: (22673, 120, 3)\n",
      "Final shape of RTs chunk (after once more excluding cases w/ missing age or trials):  (22673, 120, 4)\n",
      "Final shape of outcomes chunk:  (22673, 120, 4)\n"
     ]
    },
    {
     "name": "stderr",
     "output_type": "stream",
     "text": [
      "/home/mischa/miniconda3/envs/bf/lib/python3.10/site-packages/numpy/core/fromnumeric.py:3432: RuntimeWarning: Mean of empty slice.\n",
      "  return _methods._mean(a, axis=axis, dtype=dtype,\n",
      "/home/mischa/miniconda3/envs/bf/lib/python3.10/site-packages/numpy/core/_methods.py:190: RuntimeWarning: invalid value encountered in divide\n",
      "  ret = ret.dtype.type(ret / rcount)\n",
      "/home/mischa/miniconda3/envs/bf/lib/python3.10/site-packages/numpy/core/_methods.py:265: RuntimeWarning: Degrees of freedom <= 0 for slice\n",
      "  ret = _var(a, axis=axis, dtype=dtype, out=out, ddof=ddof,\n",
      "/home/mischa/miniconda3/envs/bf/lib/python3.10/site-packages/numpy/core/_methods.py:223: RuntimeWarning: invalid value encountered in divide\n",
      "  arrmean = um.true_divide(arrmean, div, out=arrmean, casting='unsafe',\n",
      "/home/mischa/miniconda3/envs/bf/lib/python3.10/site-packages/numpy/core/_methods.py:257: RuntimeWarning: invalid value encountered in divide\n",
      "  ret = ret.dtype.type(ret / rcount)\n"
     ]
    },
    {
     "name": "stdout",
     "output_type": "stream",
     "text": [
      "20222iat5.txt done\n",
      "Initial shape: 21578\n",
      "After removing no age IDs: 21556\n",
      "After removing invalid IDs: 21556\n",
      "After excluding zero latency IDs: 21549\n",
      "After excluding != 120 trials IDs: 20715\n",
      "After excluding more than 50% error IDs: 20629\n",
      "After excluding zero error IDs: 19152\n",
      "Successfully read datafile 20222iat6.txt .\n",
      "Converting to X and y arrays...\n",
      "IDs with less than 20 trials <200 ms or >10 seconds: (18855, 120, 3)\n",
      "IDs with 60 trials for each condition, 60 trials for both picture and word stimuli: (18855, 120, 3)\n",
      "Final shape of RTs chunk (after once more excluding cases w/ missing age or trials):  (18855, 120, 4)\n",
      "Final shape of outcomes chunk:  (18855, 120, 4)\n"
     ]
    },
    {
     "name": "stderr",
     "output_type": "stream",
     "text": [
      "/home/mischa/miniconda3/envs/bf/lib/python3.10/site-packages/numpy/core/fromnumeric.py:3432: RuntimeWarning: Mean of empty slice.\n",
      "  return _methods._mean(a, axis=axis, dtype=dtype,\n",
      "/home/mischa/miniconda3/envs/bf/lib/python3.10/site-packages/numpy/core/_methods.py:190: RuntimeWarning: invalid value encountered in divide\n",
      "  ret = ret.dtype.type(ret / rcount)\n",
      "/home/mischa/miniconda3/envs/bf/lib/python3.10/site-packages/numpy/core/_methods.py:265: RuntimeWarning: Degrees of freedom <= 0 for slice\n",
      "  ret = _var(a, axis=axis, dtype=dtype, out=out, ddof=ddof,\n",
      "/home/mischa/miniconda3/envs/bf/lib/python3.10/site-packages/numpy/core/_methods.py:223: RuntimeWarning: invalid value encountered in divide\n",
      "  arrmean = um.true_divide(arrmean, div, out=arrmean, casting='unsafe',\n",
      "/home/mischa/miniconda3/envs/bf/lib/python3.10/site-packages/numpy/core/_methods.py:257: RuntimeWarning: invalid value encountered in divide\n",
      "  ret = ret.dtype.type(ret / rcount)\n"
     ]
    },
    {
     "name": "stdout",
     "output_type": "stream",
     "text": [
      "20222iat6.txt done\n",
      "Initial shape: 25650\n",
      "After removing no age IDs: 25643\n",
      "After removing invalid IDs: 25643\n",
      "After excluding zero latency IDs: 25629\n",
      "After excluding != 120 trials IDs: 24720\n",
      "After excluding more than 50% error IDs: 24649\n",
      "After excluding zero error IDs: 22740\n",
      "Successfully read datafile 20231iat.txt .\n",
      "Converting to X and y arrays...\n",
      "IDs with less than 20 trials <200 ms or >10 seconds: (22409, 120, 3)\n",
      "IDs with 60 trials for each condition, 60 trials for both picture and word stimuli: (22409, 120, 3)\n",
      "Final shape of RTs chunk (after once more excluding cases w/ missing age or trials):  (22409, 120, 4)\n",
      "Final shape of outcomes chunk:  (22409, 120, 4)\n"
     ]
    },
    {
     "name": "stderr",
     "output_type": "stream",
     "text": [
      "/home/mischa/miniconda3/envs/bf/lib/python3.10/site-packages/numpy/core/fromnumeric.py:3432: RuntimeWarning: Mean of empty slice.\n",
      "  return _methods._mean(a, axis=axis, dtype=dtype,\n",
      "/home/mischa/miniconda3/envs/bf/lib/python3.10/site-packages/numpy/core/_methods.py:190: RuntimeWarning: invalid value encountered in divide\n",
      "  ret = ret.dtype.type(ret / rcount)\n",
      "/home/mischa/miniconda3/envs/bf/lib/python3.10/site-packages/numpy/core/_methods.py:265: RuntimeWarning: Degrees of freedom <= 0 for slice\n",
      "  ret = _var(a, axis=axis, dtype=dtype, out=out, ddof=ddof,\n",
      "/home/mischa/miniconda3/envs/bf/lib/python3.10/site-packages/numpy/core/_methods.py:223: RuntimeWarning: invalid value encountered in divide\n",
      "  arrmean = um.true_divide(arrmean, div, out=arrmean, casting='unsafe',\n",
      "/home/mischa/miniconda3/envs/bf/lib/python3.10/site-packages/numpy/core/_methods.py:257: RuntimeWarning: invalid value encountered in divide\n",
      "  ret = ret.dtype.type(ret / rcount)\n"
     ]
    },
    {
     "name": "stdout",
     "output_type": "stream",
     "text": [
      "20231iat.txt done\n",
      "Initial shape: 25556\n",
      "After removing no age IDs: 25549\n",
      "After removing invalid IDs: 25549\n",
      "After excluding zero latency IDs: 25532\n",
      "After excluding != 120 trials IDs: 24626\n",
      "After excluding more than 50% error IDs: 24528\n",
      "After excluding zero error IDs: 22750\n",
      "Successfully read datafile 20231iat2.txt .\n",
      "Converting to X and y arrays...\n",
      "IDs with less than 20 trials <200 ms or >10 seconds: (22377, 120, 3)\n",
      "IDs with 60 trials for each condition, 60 trials for both picture and word stimuli: (22377, 120, 3)\n",
      "Final shape of RTs chunk (after once more excluding cases w/ missing age or trials):  (22377, 120, 4)\n",
      "Final shape of outcomes chunk:  (22377, 120, 4)\n"
     ]
    },
    {
     "name": "stderr",
     "output_type": "stream",
     "text": [
      "/home/mischa/miniconda3/envs/bf/lib/python3.10/site-packages/numpy/core/fromnumeric.py:3432: RuntimeWarning: Mean of empty slice.\n",
      "  return _methods._mean(a, axis=axis, dtype=dtype,\n",
      "/home/mischa/miniconda3/envs/bf/lib/python3.10/site-packages/numpy/core/_methods.py:190: RuntimeWarning: invalid value encountered in divide\n",
      "  ret = ret.dtype.type(ret / rcount)\n",
      "/home/mischa/miniconda3/envs/bf/lib/python3.10/site-packages/numpy/core/_methods.py:265: RuntimeWarning: Degrees of freedom <= 0 for slice\n",
      "  ret = _var(a, axis=axis, dtype=dtype, out=out, ddof=ddof,\n",
      "/home/mischa/miniconda3/envs/bf/lib/python3.10/site-packages/numpy/core/_methods.py:223: RuntimeWarning: invalid value encountered in divide\n",
      "  arrmean = um.true_divide(arrmean, div, out=arrmean, casting='unsafe',\n",
      "/home/mischa/miniconda3/envs/bf/lib/python3.10/site-packages/numpy/core/_methods.py:257: RuntimeWarning: invalid value encountered in divide\n",
      "  ret = ret.dtype.type(ret / rcount)\n"
     ]
    },
    {
     "name": "stdout",
     "output_type": "stream",
     "text": [
      "20231iat2.txt done\n",
      "Initial shape: 25795\n",
      "After removing no age IDs: 25785\n",
      "After removing invalid IDs: 25785\n",
      "After excluding zero latency IDs: 25768\n",
      "After excluding != 120 trials IDs: 24855\n",
      "After excluding more than 50% error IDs: 24763\n",
      "After excluding zero error IDs: 23034\n",
      "Successfully read datafile 20231iat3.txt .\n",
      "Converting to X and y arrays...\n",
      "IDs with less than 20 trials <200 ms or >10 seconds: (22638, 120, 3)\n",
      "IDs with 60 trials for each condition, 60 trials for both picture and word stimuli: (22638, 120, 3)\n",
      "Final shape of RTs chunk (after once more excluding cases w/ missing age or trials):  (22638, 120, 4)\n",
      "Final shape of outcomes chunk:  (22638, 120, 4)\n"
     ]
    },
    {
     "name": "stderr",
     "output_type": "stream",
     "text": [
      "/home/mischa/miniconda3/envs/bf/lib/python3.10/site-packages/numpy/core/fromnumeric.py:3432: RuntimeWarning: Mean of empty slice.\n",
      "  return _methods._mean(a, axis=axis, dtype=dtype,\n",
      "/home/mischa/miniconda3/envs/bf/lib/python3.10/site-packages/numpy/core/_methods.py:190: RuntimeWarning: invalid value encountered in divide\n",
      "  ret = ret.dtype.type(ret / rcount)\n",
      "/home/mischa/miniconda3/envs/bf/lib/python3.10/site-packages/numpy/core/_methods.py:265: RuntimeWarning: Degrees of freedom <= 0 for slice\n",
      "  ret = _var(a, axis=axis, dtype=dtype, out=out, ddof=ddof,\n",
      "/home/mischa/miniconda3/envs/bf/lib/python3.10/site-packages/numpy/core/_methods.py:223: RuntimeWarning: invalid value encountered in divide\n",
      "  arrmean = um.true_divide(arrmean, div, out=arrmean, casting='unsafe',\n",
      "/home/mischa/miniconda3/envs/bf/lib/python3.10/site-packages/numpy/core/_methods.py:257: RuntimeWarning: invalid value encountered in divide\n",
      "  ret = ret.dtype.type(ret / rcount)\n"
     ]
    },
    {
     "name": "stdout",
     "output_type": "stream",
     "text": [
      "20231iat3.txt done\n",
      "Initial shape: 25795\n",
      "After removing no age IDs: 25789\n",
      "After removing invalid IDs: 25789\n",
      "After excluding zero latency IDs: 25776\n",
      "After excluding != 120 trials IDs: 24855\n",
      "After excluding more than 50% error IDs: 24771\n",
      "After excluding zero error IDs: 23118\n",
      "Successfully read datafile 20231iat4.txt .\n",
      "Converting to X and y arrays...\n",
      "IDs with less than 20 trials <200 ms or >10 seconds: (22758, 120, 3)\n",
      "IDs with 60 trials for each condition, 60 trials for both picture and word stimuli: (22758, 120, 3)\n",
      "Final shape of RTs chunk (after once more excluding cases w/ missing age or trials):  (22758, 120, 4)\n",
      "Final shape of outcomes chunk:  (22758, 120, 4)\n"
     ]
    },
    {
     "name": "stderr",
     "output_type": "stream",
     "text": [
      "/home/mischa/miniconda3/envs/bf/lib/python3.10/site-packages/numpy/core/fromnumeric.py:3432: RuntimeWarning: Mean of empty slice.\n",
      "  return _methods._mean(a, axis=axis, dtype=dtype,\n",
      "/home/mischa/miniconda3/envs/bf/lib/python3.10/site-packages/numpy/core/_methods.py:190: RuntimeWarning: invalid value encountered in divide\n",
      "  ret = ret.dtype.type(ret / rcount)\n",
      "/home/mischa/miniconda3/envs/bf/lib/python3.10/site-packages/numpy/core/_methods.py:265: RuntimeWarning: Degrees of freedom <= 0 for slice\n",
      "  ret = _var(a, axis=axis, dtype=dtype, out=out, ddof=ddof,\n",
      "/home/mischa/miniconda3/envs/bf/lib/python3.10/site-packages/numpy/core/_methods.py:223: RuntimeWarning: invalid value encountered in divide\n",
      "  arrmean = um.true_divide(arrmean, div, out=arrmean, casting='unsafe',\n",
      "/home/mischa/miniconda3/envs/bf/lib/python3.10/site-packages/numpy/core/_methods.py:257: RuntimeWarning: invalid value encountered in divide\n",
      "  ret = ret.dtype.type(ret / rcount)\n"
     ]
    },
    {
     "name": "stdout",
     "output_type": "stream",
     "text": [
      "20231iat4.txt done\n",
      "Initial shape: 25924\n",
      "After removing no age IDs: 25921\n",
      "After removing invalid IDs: 25921\n",
      "After excluding zero latency IDs: 25905\n",
      "After excluding != 120 trials IDs: 25012\n",
      "After excluding more than 50% error IDs: 24923\n",
      "After excluding zero error IDs: 22978\n",
      "Successfully read datafile 20231iat5.txt .\n",
      "Converting to X and y arrays...\n",
      "IDs with less than 20 trials <200 ms or >10 seconds: (22650, 120, 3)\n",
      "IDs with 60 trials for each condition, 60 trials for both picture and word stimuli: (22650, 120, 3)\n",
      "Final shape of RTs chunk (after once more excluding cases w/ missing age or trials):  (22650, 120, 4)\n",
      "Final shape of outcomes chunk:  (22650, 120, 4)\n"
     ]
    },
    {
     "name": "stderr",
     "output_type": "stream",
     "text": [
      "/home/mischa/miniconda3/envs/bf/lib/python3.10/site-packages/numpy/core/fromnumeric.py:3432: RuntimeWarning: Mean of empty slice.\n",
      "  return _methods._mean(a, axis=axis, dtype=dtype,\n",
      "/home/mischa/miniconda3/envs/bf/lib/python3.10/site-packages/numpy/core/_methods.py:190: RuntimeWarning: invalid value encountered in divide\n",
      "  ret = ret.dtype.type(ret / rcount)\n",
      "/home/mischa/miniconda3/envs/bf/lib/python3.10/site-packages/numpy/core/_methods.py:265: RuntimeWarning: Degrees of freedom <= 0 for slice\n",
      "  ret = _var(a, axis=axis, dtype=dtype, out=out, ddof=ddof,\n",
      "/home/mischa/miniconda3/envs/bf/lib/python3.10/site-packages/numpy/core/_methods.py:223: RuntimeWarning: invalid value encountered in divide\n",
      "  arrmean = um.true_divide(arrmean, div, out=arrmean, casting='unsafe',\n",
      "/home/mischa/miniconda3/envs/bf/lib/python3.10/site-packages/numpy/core/_methods.py:257: RuntimeWarning: invalid value encountered in divide\n",
      "  ret = ret.dtype.type(ret / rcount)\n"
     ]
    },
    {
     "name": "stdout",
     "output_type": "stream",
     "text": [
      "20231iat5.txt done\n",
      "Initial shape: 7446\n",
      "After removing no age IDs: 7446\n",
      "After removing invalid IDs: 7446\n",
      "After excluding zero latency IDs: 7438\n",
      "After excluding != 120 trials IDs: 7207\n",
      "After excluding more than 50% error IDs: 7186\n",
      "After excluding zero error IDs: 6532\n",
      "Successfully read datafile 20231iat6.txt .\n",
      "Converting to X and y arrays...\n",
      "IDs with less than 20 trials <200 ms or >10 seconds: (6476, 120, 3)\n",
      "IDs with 60 trials for each condition, 60 trials for both picture and word stimuli: (6476, 120, 3)\n",
      "Final shape of RTs chunk (after once more excluding cases w/ missing age or trials):  (6476, 120, 4)\n",
      "Final shape of outcomes chunk:  (6476, 120, 4)\n"
     ]
    },
    {
     "name": "stderr",
     "output_type": "stream",
     "text": [
      "/home/mischa/miniconda3/envs/bf/lib/python3.10/site-packages/numpy/core/fromnumeric.py:3432: RuntimeWarning: Mean of empty slice.\n",
      "  return _methods._mean(a, axis=axis, dtype=dtype,\n",
      "/home/mischa/miniconda3/envs/bf/lib/python3.10/site-packages/numpy/core/_methods.py:190: RuntimeWarning: invalid value encountered in divide\n",
      "  ret = ret.dtype.type(ret / rcount)\n",
      "/home/mischa/miniconda3/envs/bf/lib/python3.10/site-packages/numpy/core/_methods.py:265: RuntimeWarning: Degrees of freedom <= 0 for slice\n",
      "  ret = _var(a, axis=axis, dtype=dtype, out=out, ddof=ddof,\n",
      "/home/mischa/miniconda3/envs/bf/lib/python3.10/site-packages/numpy/core/_methods.py:223: RuntimeWarning: invalid value encountered in divide\n",
      "  arrmean = um.true_divide(arrmean, div, out=arrmean, casting='unsafe',\n",
      "/home/mischa/miniconda3/envs/bf/lib/python3.10/site-packages/numpy/core/_methods.py:257: RuntimeWarning: invalid value encountered in divide\n",
      "  ret = ret.dtype.type(ret / rcount)\n"
     ]
    },
    {
     "name": "stdout",
     "output_type": "stream",
     "text": [
      "20231iat6.txt done\n",
      "Initial shape: 25754\n",
      "After removing no age IDs: 25742\n",
      "After removing invalid IDs: 25742\n",
      "After excluding zero latency IDs: 25730\n",
      "After excluding != 120 trials IDs: 24807\n",
      "After excluding more than 50% error IDs: 24722\n",
      "After excluding zero error IDs: 22664\n",
      "Successfully read datafile 20232iat.txt .\n",
      "Converting to X and y arrays...\n",
      "IDs with less than 20 trials <200 ms or >10 seconds: (22449, 120, 3)\n",
      "IDs with 60 trials for each condition, 60 trials for both picture and word stimuli: (22449, 120, 3)\n",
      "Final shape of RTs chunk (after once more excluding cases w/ missing age or trials):  (22449, 120, 4)\n",
      "Final shape of outcomes chunk:  (22449, 120, 4)\n"
     ]
    },
    {
     "name": "stderr",
     "output_type": "stream",
     "text": [
      "/home/mischa/miniconda3/envs/bf/lib/python3.10/site-packages/numpy/core/fromnumeric.py:3432: RuntimeWarning: Mean of empty slice.\n",
      "  return _methods._mean(a, axis=axis, dtype=dtype,\n",
      "/home/mischa/miniconda3/envs/bf/lib/python3.10/site-packages/numpy/core/_methods.py:190: RuntimeWarning: invalid value encountered in divide\n",
      "  ret = ret.dtype.type(ret / rcount)\n",
      "/home/mischa/miniconda3/envs/bf/lib/python3.10/site-packages/numpy/core/_methods.py:265: RuntimeWarning: Degrees of freedom <= 0 for slice\n",
      "  ret = _var(a, axis=axis, dtype=dtype, out=out, ddof=ddof,\n",
      "/home/mischa/miniconda3/envs/bf/lib/python3.10/site-packages/numpy/core/_methods.py:223: RuntimeWarning: invalid value encountered in divide\n",
      "  arrmean = um.true_divide(arrmean, div, out=arrmean, casting='unsafe',\n",
      "/home/mischa/miniconda3/envs/bf/lib/python3.10/site-packages/numpy/core/_methods.py:257: RuntimeWarning: invalid value encountered in divide\n",
      "  ret = ret.dtype.type(ret / rcount)\n"
     ]
    },
    {
     "name": "stdout",
     "output_type": "stream",
     "text": [
      "20232iat.txt done\n",
      "Initial shape: 25588\n",
      "After removing no age IDs: 25579\n",
      "After removing invalid IDs: 25579\n",
      "After excluding zero latency IDs: 25570\n",
      "After excluding != 120 trials IDs: 24310\n",
      "After excluding more than 50% error IDs: 24257\n",
      "After excluding zero error IDs: 22137\n",
      "Successfully read datafile 20232iat2.txt .\n",
      "Converting to X and y arrays...\n",
      "IDs with less than 20 trials <200 ms or >10 seconds: (21902, 120, 3)\n",
      "IDs with 60 trials for each condition, 60 trials for both picture and word stimuli: (21902, 120, 3)\n",
      "Final shape of RTs chunk (after once more excluding cases w/ missing age or trials):  (21902, 120, 4)\n",
      "Final shape of outcomes chunk:  (21902, 120, 4)\n"
     ]
    },
    {
     "name": "stderr",
     "output_type": "stream",
     "text": [
      "/home/mischa/miniconda3/envs/bf/lib/python3.10/site-packages/numpy/core/fromnumeric.py:3432: RuntimeWarning: Mean of empty slice.\n",
      "  return _methods._mean(a, axis=axis, dtype=dtype,\n",
      "/home/mischa/miniconda3/envs/bf/lib/python3.10/site-packages/numpy/core/_methods.py:190: RuntimeWarning: invalid value encountered in divide\n",
      "  ret = ret.dtype.type(ret / rcount)\n",
      "/home/mischa/miniconda3/envs/bf/lib/python3.10/site-packages/numpy/core/_methods.py:265: RuntimeWarning: Degrees of freedom <= 0 for slice\n",
      "  ret = _var(a, axis=axis, dtype=dtype, out=out, ddof=ddof,\n",
      "/home/mischa/miniconda3/envs/bf/lib/python3.10/site-packages/numpy/core/_methods.py:223: RuntimeWarning: invalid value encountered in divide\n",
      "  arrmean = um.true_divide(arrmean, div, out=arrmean, casting='unsafe',\n",
      "/home/mischa/miniconda3/envs/bf/lib/python3.10/site-packages/numpy/core/_methods.py:257: RuntimeWarning: invalid value encountered in divide\n",
      "  ret = ret.dtype.type(ret / rcount)\n"
     ]
    },
    {
     "name": "stdout",
     "output_type": "stream",
     "text": [
      "20232iat2.txt done\n",
      "Initial shape: 25716\n",
      "After removing no age IDs: 25709\n",
      "After removing invalid IDs: 25709\n",
      "After excluding zero latency IDs: 25699\n",
      "After excluding != 120 trials IDs: 24454\n",
      "After excluding more than 50% error IDs: 24410\n",
      "After excluding zero error IDs: 22290\n",
      "Successfully read datafile 20232iat3.txt .\n",
      "Converting to X and y arrays...\n",
      "IDs with less than 20 trials <200 ms or >10 seconds: (22042, 120, 3)\n",
      "IDs with 60 trials for each condition, 60 trials for both picture and word stimuli: (22042, 120, 3)\n",
      "Final shape of RTs chunk (after once more excluding cases w/ missing age or trials):  (22042, 120, 4)\n",
      "Final shape of outcomes chunk:  (22042, 120, 4)\n"
     ]
    },
    {
     "name": "stderr",
     "output_type": "stream",
     "text": [
      "/home/mischa/miniconda3/envs/bf/lib/python3.10/site-packages/numpy/core/fromnumeric.py:3432: RuntimeWarning: Mean of empty slice.\n",
      "  return _methods._mean(a, axis=axis, dtype=dtype,\n",
      "/home/mischa/miniconda3/envs/bf/lib/python3.10/site-packages/numpy/core/_methods.py:190: RuntimeWarning: invalid value encountered in divide\n",
      "  ret = ret.dtype.type(ret / rcount)\n",
      "/home/mischa/miniconda3/envs/bf/lib/python3.10/site-packages/numpy/core/_methods.py:265: RuntimeWarning: Degrees of freedom <= 0 for slice\n",
      "  ret = _var(a, axis=axis, dtype=dtype, out=out, ddof=ddof,\n",
      "/home/mischa/miniconda3/envs/bf/lib/python3.10/site-packages/numpy/core/_methods.py:223: RuntimeWarning: invalid value encountered in divide\n",
      "  arrmean = um.true_divide(arrmean, div, out=arrmean, casting='unsafe',\n",
      "/home/mischa/miniconda3/envs/bf/lib/python3.10/site-packages/numpy/core/_methods.py:257: RuntimeWarning: invalid value encountered in divide\n",
      "  ret = ret.dtype.type(ret / rcount)\n"
     ]
    },
    {
     "name": "stdout",
     "output_type": "stream",
     "text": [
      "20232iat3.txt done\n",
      "Initial shape: 25749\n",
      "After removing no age IDs: 25743\n",
      "After removing invalid IDs: 25743\n",
      "After excluding zero latency IDs: 25733\n",
      "After excluding != 120 trials IDs: 24563\n",
      "After excluding more than 50% error IDs: 24482\n",
      "After excluding zero error IDs: 22367\n",
      "Successfully read datafile 20232iat4.txt .\n",
      "Converting to X and y arrays...\n",
      "IDs with less than 20 trials <200 ms or >10 seconds: (22142, 120, 3)\n",
      "IDs with 60 trials for each condition, 60 trials for both picture and word stimuli: (22142, 120, 3)\n",
      "Final shape of RTs chunk (after once more excluding cases w/ missing age or trials):  (22142, 120, 4)\n",
      "Final shape of outcomes chunk:  (22142, 120, 4)\n"
     ]
    },
    {
     "name": "stderr",
     "output_type": "stream",
     "text": [
      "/home/mischa/miniconda3/envs/bf/lib/python3.10/site-packages/numpy/core/fromnumeric.py:3432: RuntimeWarning: Mean of empty slice.\n",
      "  return _methods._mean(a, axis=axis, dtype=dtype,\n",
      "/home/mischa/miniconda3/envs/bf/lib/python3.10/site-packages/numpy/core/_methods.py:190: RuntimeWarning: invalid value encountered in divide\n",
      "  ret = ret.dtype.type(ret / rcount)\n",
      "/home/mischa/miniconda3/envs/bf/lib/python3.10/site-packages/numpy/core/_methods.py:265: RuntimeWarning: Degrees of freedom <= 0 for slice\n",
      "  ret = _var(a, axis=axis, dtype=dtype, out=out, ddof=ddof,\n",
      "/home/mischa/miniconda3/envs/bf/lib/python3.10/site-packages/numpy/core/_methods.py:223: RuntimeWarning: invalid value encountered in divide\n",
      "  arrmean = um.true_divide(arrmean, div, out=arrmean, casting='unsafe',\n",
      "/home/mischa/miniconda3/envs/bf/lib/python3.10/site-packages/numpy/core/_methods.py:257: RuntimeWarning: invalid value encountered in divide\n",
      "  ret = ret.dtype.type(ret / rcount)\n"
     ]
    },
    {
     "name": "stdout",
     "output_type": "stream",
     "text": [
      "20232iat4.txt done\n",
      "Initial shape: 14414\n",
      "After removing no age IDs: 14395\n",
      "After removing invalid IDs: 14395\n",
      "After excluding zero latency IDs: 14392\n",
      "After excluding != 120 trials IDs: 13620\n",
      "After excluding more than 50% error IDs: 13589\n",
      "After excluding zero error IDs: 12457\n",
      "Successfully read datafile 20232iat5.txt .\n",
      "Converting to X and y arrays...\n",
      "IDs with less than 20 trials <200 ms or >10 seconds: (12331, 120, 3)\n",
      "IDs with 60 trials for each condition, 60 trials for both picture and word stimuli: (12331, 120, 3)\n",
      "Final shape of RTs chunk (after once more excluding cases w/ missing age or trials):  (12331, 120, 4)\n",
      "Final shape of outcomes chunk:  (12331, 120, 4)\n"
     ]
    },
    {
     "name": "stderr",
     "output_type": "stream",
     "text": [
      "/home/mischa/miniconda3/envs/bf/lib/python3.10/site-packages/numpy/core/fromnumeric.py:3432: RuntimeWarning: Mean of empty slice.\n",
      "  return _methods._mean(a, axis=axis, dtype=dtype,\n",
      "/home/mischa/miniconda3/envs/bf/lib/python3.10/site-packages/numpy/core/_methods.py:190: RuntimeWarning: invalid value encountered in divide\n",
      "  ret = ret.dtype.type(ret / rcount)\n",
      "/home/mischa/miniconda3/envs/bf/lib/python3.10/site-packages/numpy/core/_methods.py:265: RuntimeWarning: Degrees of freedom <= 0 for slice\n",
      "  ret = _var(a, axis=axis, dtype=dtype, out=out, ddof=ddof,\n",
      "/home/mischa/miniconda3/envs/bf/lib/python3.10/site-packages/numpy/core/_methods.py:223: RuntimeWarning: invalid value encountered in divide\n",
      "  arrmean = um.true_divide(arrmean, div, out=arrmean, casting='unsafe',\n",
      "/home/mischa/miniconda3/envs/bf/lib/python3.10/site-packages/numpy/core/_methods.py:257: RuntimeWarning: invalid value encountered in divide\n",
      "  ret = ret.dtype.type(ret / rcount)\n"
     ]
    },
    {
     "name": "stdout",
     "output_type": "stream",
     "text": [
      "20232iat5.txt done\n",
      "Initial shape: 5604\n",
      "After removing no age IDs: 4550\n",
      "After removing invalid IDs: 4550\n",
      "After excluding zero latency IDs: 4546\n",
      "After excluding != 120 trials IDs: 3367\n",
      "After excluding more than 50% error IDs: 3363\n",
      "After excluding zero error IDs: 3276\n",
      "Successfully read datafile 2003iat.txt .\n",
      "Converting to X and y arrays...\n",
      "IDs with less than 20 trials <200 ms or >10 seconds: (3267, 120, 3)\n",
      "IDs with 60 trials for each condition, 60 trials for both picture and word stimuli: (3267, 120, 3)\n",
      "Final shape of RTs chunk (after once more excluding cases w/ missing age or trials):  (3267, 120, 4)\n",
      "Final shape of outcomes chunk:  (3267, 120, 4)\n"
     ]
    },
    {
     "name": "stderr",
     "output_type": "stream",
     "text": [
      "/home/mischa/miniconda3/envs/bf/lib/python3.10/site-packages/numpy/core/fromnumeric.py:3432: RuntimeWarning: Mean of empty slice.\n",
      "  return _methods._mean(a, axis=axis, dtype=dtype,\n",
      "/home/mischa/miniconda3/envs/bf/lib/python3.10/site-packages/numpy/core/_methods.py:190: RuntimeWarning: invalid value encountered in divide\n",
      "  ret = ret.dtype.type(ret / rcount)\n",
      "/home/mischa/miniconda3/envs/bf/lib/python3.10/site-packages/numpy/core/_methods.py:265: RuntimeWarning: Degrees of freedom <= 0 for slice\n",
      "  ret = _var(a, axis=axis, dtype=dtype, out=out, ddof=ddof,\n",
      "/home/mischa/miniconda3/envs/bf/lib/python3.10/site-packages/numpy/core/_methods.py:223: RuntimeWarning: invalid value encountered in divide\n",
      "  arrmean = um.true_divide(arrmean, div, out=arrmean, casting='unsafe',\n",
      "/home/mischa/miniconda3/envs/bf/lib/python3.10/site-packages/numpy/core/_methods.py:257: RuntimeWarning: invalid value encountered in divide\n",
      "  ret = ret.dtype.type(ret / rcount)\n"
     ]
    },
    {
     "name": "stdout",
     "output_type": "stream",
     "text": [
      "2003iat.txt done\n",
      "Initial shape: 25354\n",
      "After removing no age IDs: 4225\n",
      "After removing invalid IDs: 4225\n",
      "After excluding zero latency IDs: 4220\n",
      "After excluding != 120 trials IDs: 2050\n",
      "After excluding more than 50% error IDs: 2047\n",
      "After excluding zero error IDs: 1994\n",
      "Successfully read datafile 2004iat.txt .\n",
      "Converting to X and y arrays...\n",
      "IDs with less than 20 trials <200 ms or >10 seconds: (1981, 120, 3)\n",
      "IDs with 60 trials for each condition, 60 trials for both picture and word stimuli: (1981, 120, 3)\n",
      "Final shape of RTs chunk (after once more excluding cases w/ missing age or trials):  (1981, 120, 4)\n",
      "Final shape of outcomes chunk:  (1981, 120, 4)\n"
     ]
    },
    {
     "name": "stderr",
     "output_type": "stream",
     "text": [
      "/home/mischa/miniconda3/envs/bf/lib/python3.10/site-packages/numpy/core/fromnumeric.py:3432: RuntimeWarning: Mean of empty slice.\n",
      "  return _methods._mean(a, axis=axis, dtype=dtype,\n",
      "/home/mischa/miniconda3/envs/bf/lib/python3.10/site-packages/numpy/core/_methods.py:190: RuntimeWarning: invalid value encountered in divide\n",
      "  ret = ret.dtype.type(ret / rcount)\n",
      "/home/mischa/miniconda3/envs/bf/lib/python3.10/site-packages/numpy/core/_methods.py:265: RuntimeWarning: Degrees of freedom <= 0 for slice\n",
      "  ret = _var(a, axis=axis, dtype=dtype, out=out, ddof=ddof,\n",
      "/home/mischa/miniconda3/envs/bf/lib/python3.10/site-packages/numpy/core/_methods.py:223: RuntimeWarning: invalid value encountered in divide\n",
      "  arrmean = um.true_divide(arrmean, div, out=arrmean, casting='unsafe',\n",
      "/home/mischa/miniconda3/envs/bf/lib/python3.10/site-packages/numpy/core/_methods.py:257: RuntimeWarning: invalid value encountered in divide\n",
      "  ret = ret.dtype.type(ret / rcount)\n"
     ]
    },
    {
     "name": "stdout",
     "output_type": "stream",
     "text": [
      "2004iat.txt done\n",
      "Initial shape: 25330\n",
      "After removing no age IDs: 20306\n",
      "After removing invalid IDs: 20306\n",
      "After excluding zero latency IDs: 20300\n",
      "After excluding != 120 trials IDs: 12142\n",
      "After excluding more than 50% error IDs: 12129\n",
      "After excluding zero error IDs: 11705\n",
      "Successfully read datafile 2005iat.txt .\n",
      "Converting to X and y arrays...\n",
      "IDs with less than 20 trials <200 ms or >10 seconds: (11634, 120, 3)\n",
      "IDs with 60 trials for each condition, 60 trials for both picture and word stimuli: (11633, 120, 3)\n",
      "Final shape of RTs chunk (after once more excluding cases w/ missing age or trials):  (11633, 120, 4)\n",
      "Final shape of outcomes chunk:  (11633, 120, 4)\n"
     ]
    },
    {
     "name": "stderr",
     "output_type": "stream",
     "text": [
      "/home/mischa/miniconda3/envs/bf/lib/python3.10/site-packages/numpy/core/fromnumeric.py:3432: RuntimeWarning: Mean of empty slice.\n",
      "  return _methods._mean(a, axis=axis, dtype=dtype,\n",
      "/home/mischa/miniconda3/envs/bf/lib/python3.10/site-packages/numpy/core/_methods.py:190: RuntimeWarning: invalid value encountered in divide\n",
      "  ret = ret.dtype.type(ret / rcount)\n",
      "/home/mischa/miniconda3/envs/bf/lib/python3.10/site-packages/numpy/core/_methods.py:265: RuntimeWarning: Degrees of freedom <= 0 for slice\n",
      "  ret = _var(a, axis=axis, dtype=dtype, out=out, ddof=ddof,\n",
      "/home/mischa/miniconda3/envs/bf/lib/python3.10/site-packages/numpy/core/_methods.py:223: RuntimeWarning: invalid value encountered in divide\n",
      "  arrmean = um.true_divide(arrmean, div, out=arrmean, casting='unsafe',\n",
      "/home/mischa/miniconda3/envs/bf/lib/python3.10/site-packages/numpy/core/_methods.py:257: RuntimeWarning: invalid value encountered in divide\n",
      "  ret = ret.dtype.type(ret / rcount)\n"
     ]
    },
    {
     "name": "stdout",
     "output_type": "stream",
     "text": [
      "2005iat.txt done\n",
      "Initial shape: 25293\n",
      "After removing no age IDs: 20392\n",
      "After removing invalid IDs: 20392\n",
      "After excluding zero latency IDs: 20387\n",
      "After excluding != 120 trials IDs: 10331\n",
      "After excluding more than 50% error IDs: 10323\n",
      "After excluding zero error IDs: 9973\n",
      "Successfully read datafile 2005iat2.txt .\n",
      "Converting to X and y arrays...\n",
      "IDs with less than 20 trials <200 ms or >10 seconds: (9922, 120, 3)\n",
      "IDs with 60 trials for each condition, 60 trials for both picture and word stimuli: (9919, 120, 3)\n",
      "Final shape of RTs chunk (after once more excluding cases w/ missing age or trials):  (9919, 120, 4)\n",
      "Final shape of outcomes chunk:  (9919, 120, 4)\n"
     ]
    },
    {
     "name": "stderr",
     "output_type": "stream",
     "text": [
      "/home/mischa/miniconda3/envs/bf/lib/python3.10/site-packages/numpy/core/fromnumeric.py:3432: RuntimeWarning: Mean of empty slice.\n",
      "  return _methods._mean(a, axis=axis, dtype=dtype,\n",
      "/home/mischa/miniconda3/envs/bf/lib/python3.10/site-packages/numpy/core/_methods.py:190: RuntimeWarning: invalid value encountered in divide\n",
      "  ret = ret.dtype.type(ret / rcount)\n",
      "/home/mischa/miniconda3/envs/bf/lib/python3.10/site-packages/numpy/core/_methods.py:265: RuntimeWarning: Degrees of freedom <= 0 for slice\n",
      "  ret = _var(a, axis=axis, dtype=dtype, out=out, ddof=ddof,\n",
      "/home/mischa/miniconda3/envs/bf/lib/python3.10/site-packages/numpy/core/_methods.py:223: RuntimeWarning: invalid value encountered in divide\n",
      "  arrmean = um.true_divide(arrmean, div, out=arrmean, casting='unsafe',\n",
      "/home/mischa/miniconda3/envs/bf/lib/python3.10/site-packages/numpy/core/_methods.py:257: RuntimeWarning: invalid value encountered in divide\n",
      "  ret = ret.dtype.type(ret / rcount)\n"
     ]
    },
    {
     "name": "stdout",
     "output_type": "stream",
     "text": [
      "2005iat2.txt done\n",
      "Initial shape: 25421\n",
      "After removing no age IDs: 19176\n",
      "After removing invalid IDs: 19176\n",
      "After excluding zero latency IDs: 19167\n",
      "After excluding != 120 trials IDs: 9630\n",
      "After excluding more than 50% error IDs: 9620\n",
      "After excluding zero error IDs: 9297\n",
      "Successfully read datafile 2005iat3.txt .\n",
      "Converting to X and y arrays...\n",
      "IDs with less than 20 trials <200 ms or >10 seconds: (9236, 120, 3)\n",
      "IDs with 60 trials for each condition, 60 trials for both picture and word stimuli: (9232, 120, 3)\n",
      "Final shape of RTs chunk (after once more excluding cases w/ missing age or trials):  (9232, 120, 4)\n",
      "Final shape of outcomes chunk:  (9232, 120, 4)\n"
     ]
    },
    {
     "name": "stderr",
     "output_type": "stream",
     "text": [
      "/home/mischa/miniconda3/envs/bf/lib/python3.10/site-packages/numpy/core/fromnumeric.py:3432: RuntimeWarning: Mean of empty slice.\n",
      "  return _methods._mean(a, axis=axis, dtype=dtype,\n",
      "/home/mischa/miniconda3/envs/bf/lib/python3.10/site-packages/numpy/core/_methods.py:190: RuntimeWarning: invalid value encountered in divide\n",
      "  ret = ret.dtype.type(ret / rcount)\n",
      "/home/mischa/miniconda3/envs/bf/lib/python3.10/site-packages/numpy/core/_methods.py:265: RuntimeWarning: Degrees of freedom <= 0 for slice\n",
      "  ret = _var(a, axis=axis, dtype=dtype, out=out, ddof=ddof,\n",
      "/home/mischa/miniconda3/envs/bf/lib/python3.10/site-packages/numpy/core/_methods.py:223: RuntimeWarning: invalid value encountered in divide\n",
      "  arrmean = um.true_divide(arrmean, div, out=arrmean, casting='unsafe',\n",
      "/home/mischa/miniconda3/envs/bf/lib/python3.10/site-packages/numpy/core/_methods.py:257: RuntimeWarning: invalid value encountered in divide\n",
      "  ret = ret.dtype.type(ret / rcount)\n"
     ]
    },
    {
     "name": "stdout",
     "output_type": "stream",
     "text": [
      "2005iat3.txt done\n",
      "Initial shape: 25498\n",
      "After removing no age IDs: 20945\n",
      "After removing invalid IDs: 20945\n",
      "After excluding zero latency IDs: 20938\n",
      "After excluding != 120 trials IDs: 19640\n",
      "After excluding more than 50% error IDs: 19626\n",
      "After excluding zero error IDs: 18889\n",
      "Successfully read datafile 2005iat4.txt .\n",
      "Converting to X and y arrays...\n",
      "IDs with less than 20 trials <200 ms or >10 seconds: (18774, 120, 3)\n",
      "IDs with 60 trials for each condition, 60 trials for both picture and word stimuli: (18774, 120, 3)\n",
      "Final shape of RTs chunk (after once more excluding cases w/ missing age or trials):  (18774, 120, 4)\n",
      "Final shape of outcomes chunk:  (18774, 120, 4)\n"
     ]
    },
    {
     "name": "stderr",
     "output_type": "stream",
     "text": [
      "/home/mischa/miniconda3/envs/bf/lib/python3.10/site-packages/numpy/core/fromnumeric.py:3432: RuntimeWarning: Mean of empty slice.\n",
      "  return _methods._mean(a, axis=axis, dtype=dtype,\n",
      "/home/mischa/miniconda3/envs/bf/lib/python3.10/site-packages/numpy/core/_methods.py:190: RuntimeWarning: invalid value encountered in divide\n",
      "  ret = ret.dtype.type(ret / rcount)\n",
      "/home/mischa/miniconda3/envs/bf/lib/python3.10/site-packages/numpy/core/_methods.py:265: RuntimeWarning: Degrees of freedom <= 0 for slice\n",
      "  ret = _var(a, axis=axis, dtype=dtype, out=out, ddof=ddof,\n",
      "/home/mischa/miniconda3/envs/bf/lib/python3.10/site-packages/numpy/core/_methods.py:223: RuntimeWarning: invalid value encountered in divide\n",
      "  arrmean = um.true_divide(arrmean, div, out=arrmean, casting='unsafe',\n",
      "/home/mischa/miniconda3/envs/bf/lib/python3.10/site-packages/numpy/core/_methods.py:257: RuntimeWarning: invalid value encountered in divide\n",
      "  ret = ret.dtype.type(ret / rcount)\n"
     ]
    },
    {
     "name": "stdout",
     "output_type": "stream",
     "text": [
      "2005iat4.txt done\n",
      "Initial shape: 25598\n",
      "After removing no age IDs: 20340\n",
      "After removing invalid IDs: 20340\n",
      "After excluding zero latency IDs: 20325\n",
      "After excluding != 120 trials IDs: 20238\n",
      "After excluding more than 50% error IDs: 20209\n",
      "After excluding zero error IDs: 19544\n",
      "Successfully read datafile 2005iat5.txt .\n",
      "Converting to X and y arrays...\n",
      "IDs with less than 20 trials <200 ms or >10 seconds: (19417, 120, 3)\n",
      "IDs with 60 trials for each condition, 60 trials for both picture and word stimuli: (19417, 120, 3)\n",
      "Final shape of RTs chunk (after once more excluding cases w/ missing age or trials):  (19417, 120, 4)\n",
      "Final shape of outcomes chunk:  (19417, 120, 4)\n"
     ]
    },
    {
     "name": "stderr",
     "output_type": "stream",
     "text": [
      "/home/mischa/miniconda3/envs/bf/lib/python3.10/site-packages/numpy/core/fromnumeric.py:3432: RuntimeWarning: Mean of empty slice.\n",
      "  return _methods._mean(a, axis=axis, dtype=dtype,\n",
      "/home/mischa/miniconda3/envs/bf/lib/python3.10/site-packages/numpy/core/_methods.py:190: RuntimeWarning: invalid value encountered in divide\n",
      "  ret = ret.dtype.type(ret / rcount)\n",
      "/home/mischa/miniconda3/envs/bf/lib/python3.10/site-packages/numpy/core/_methods.py:265: RuntimeWarning: Degrees of freedom <= 0 for slice\n",
      "  ret = _var(a, axis=axis, dtype=dtype, out=out, ddof=ddof,\n",
      "/home/mischa/miniconda3/envs/bf/lib/python3.10/site-packages/numpy/core/_methods.py:223: RuntimeWarning: invalid value encountered in divide\n",
      "  arrmean = um.true_divide(arrmean, div, out=arrmean, casting='unsafe',\n",
      "/home/mischa/miniconda3/envs/bf/lib/python3.10/site-packages/numpy/core/_methods.py:257: RuntimeWarning: invalid value encountered in divide\n",
      "  ret = ret.dtype.type(ret / rcount)\n"
     ]
    },
    {
     "name": "stdout",
     "output_type": "stream",
     "text": [
      "2005iat5.txt done\n",
      "Initial shape: 881\n",
      "After removing no age IDs: 718\n",
      "After removing invalid IDs: 718\n",
      "After excluding zero latency IDs: 718\n",
      "After excluding != 120 trials IDs: 713\n",
      "After excluding more than 50% error IDs: 713\n",
      "After excluding zero error IDs: 684\n",
      "Successfully read datafile 2005iat6.txt .\n",
      "Converting to X and y arrays...\n",
      "IDs with less than 20 trials <200 ms or >10 seconds: (684, 120, 3)\n",
      "IDs with 60 trials for each condition, 60 trials for both picture and word stimuli: (684, 120, 3)\n",
      "Final shape of RTs chunk (after once more excluding cases w/ missing age or trials):  (684, 120, 4)\n",
      "Final shape of outcomes chunk:  (684, 120, 4)\n"
     ]
    },
    {
     "name": "stderr",
     "output_type": "stream",
     "text": [
      "/home/mischa/miniconda3/envs/bf/lib/python3.10/site-packages/numpy/core/fromnumeric.py:3432: RuntimeWarning: Mean of empty slice.\n",
      "  return _methods._mean(a, axis=axis, dtype=dtype,\n",
      "/home/mischa/miniconda3/envs/bf/lib/python3.10/site-packages/numpy/core/_methods.py:190: RuntimeWarning: invalid value encountered in divide\n",
      "  ret = ret.dtype.type(ret / rcount)\n",
      "/home/mischa/miniconda3/envs/bf/lib/python3.10/site-packages/numpy/core/_methods.py:265: RuntimeWarning: Degrees of freedom <= 0 for slice\n",
      "  ret = _var(a, axis=axis, dtype=dtype, out=out, ddof=ddof,\n",
      "/home/mischa/miniconda3/envs/bf/lib/python3.10/site-packages/numpy/core/_methods.py:223: RuntimeWarning: invalid value encountered in divide\n",
      "  arrmean = um.true_divide(arrmean, div, out=arrmean, casting='unsafe',\n",
      "/home/mischa/miniconda3/envs/bf/lib/python3.10/site-packages/numpy/core/_methods.py:257: RuntimeWarning: invalid value encountered in divide\n",
      "  ret = ret.dtype.type(ret / rcount)\n"
     ]
    },
    {
     "name": "stdout",
     "output_type": "stream",
     "text": [
      "2005iat6.txt done\n",
      "Initial shape: 25484\n",
      "After removing no age IDs: 20299\n",
      "After removing invalid IDs: 20299\n",
      "After excluding zero latency IDs: 20290\n",
      "After excluding != 120 trials IDs: 20201\n",
      "After excluding more than 50% error IDs: 20179\n",
      "After excluding zero error IDs: 19428\n",
      "Successfully read datafile 2006iat.txt .\n",
      "Converting to X and y arrays...\n",
      "IDs with less than 20 trials <200 ms or >10 seconds: (19321, 120, 3)\n",
      "IDs with 60 trials for each condition, 60 trials for both picture and word stimuli: (19321, 120, 3)\n",
      "Final shape of RTs chunk (after once more excluding cases w/ missing age or trials):  (19321, 120, 4)\n",
      "Final shape of outcomes chunk:  (19321, 120, 4)\n"
     ]
    },
    {
     "name": "stderr",
     "output_type": "stream",
     "text": [
      "/home/mischa/miniconda3/envs/bf/lib/python3.10/site-packages/numpy/core/fromnumeric.py:3432: RuntimeWarning: Mean of empty slice.\n",
      "  return _methods._mean(a, axis=axis, dtype=dtype,\n",
      "/home/mischa/miniconda3/envs/bf/lib/python3.10/site-packages/numpy/core/_methods.py:190: RuntimeWarning: invalid value encountered in divide\n",
      "  ret = ret.dtype.type(ret / rcount)\n",
      "/home/mischa/miniconda3/envs/bf/lib/python3.10/site-packages/numpy/core/_methods.py:265: RuntimeWarning: Degrees of freedom <= 0 for slice\n",
      "  ret = _var(a, axis=axis, dtype=dtype, out=out, ddof=ddof,\n",
      "/home/mischa/miniconda3/envs/bf/lib/python3.10/site-packages/numpy/core/_methods.py:223: RuntimeWarning: invalid value encountered in divide\n",
      "  arrmean = um.true_divide(arrmean, div, out=arrmean, casting='unsafe',\n",
      "/home/mischa/miniconda3/envs/bf/lib/python3.10/site-packages/numpy/core/_methods.py:257: RuntimeWarning: invalid value encountered in divide\n",
      "  ret = ret.dtype.type(ret / rcount)\n"
     ]
    },
    {
     "name": "stdout",
     "output_type": "stream",
     "text": [
      "2006iat.txt done\n",
      "Initial shape: 25627\n",
      "After removing no age IDs: 20302\n",
      "After removing invalid IDs: 20302\n",
      "After excluding zero latency IDs: 20294\n",
      "After excluding != 120 trials IDs: 20154\n",
      "After excluding more than 50% error IDs: 20129\n",
      "After excluding zero error IDs: 19433\n",
      "Successfully read datafile 2006iat2.txt .\n",
      "Converting to X and y arrays...\n",
      "IDs with less than 20 trials <200 ms or >10 seconds: (19285, 120, 3)\n",
      "IDs with 60 trials for each condition, 60 trials for both picture and word stimuli: (19285, 120, 3)\n",
      "Final shape of RTs chunk (after once more excluding cases w/ missing age or trials):  (19285, 120, 4)\n",
      "Final shape of outcomes chunk:  (19285, 120, 4)\n"
     ]
    },
    {
     "name": "stderr",
     "output_type": "stream",
     "text": [
      "/home/mischa/miniconda3/envs/bf/lib/python3.10/site-packages/numpy/core/fromnumeric.py:3432: RuntimeWarning: Mean of empty slice.\n",
      "  return _methods._mean(a, axis=axis, dtype=dtype,\n",
      "/home/mischa/miniconda3/envs/bf/lib/python3.10/site-packages/numpy/core/_methods.py:190: RuntimeWarning: invalid value encountered in divide\n",
      "  ret = ret.dtype.type(ret / rcount)\n",
      "/home/mischa/miniconda3/envs/bf/lib/python3.10/site-packages/numpy/core/_methods.py:265: RuntimeWarning: Degrees of freedom <= 0 for slice\n",
      "  ret = _var(a, axis=axis, dtype=dtype, out=out, ddof=ddof,\n",
      "/home/mischa/miniconda3/envs/bf/lib/python3.10/site-packages/numpy/core/_methods.py:223: RuntimeWarning: invalid value encountered in divide\n",
      "  arrmean = um.true_divide(arrmean, div, out=arrmean, casting='unsafe',\n",
      "/home/mischa/miniconda3/envs/bf/lib/python3.10/site-packages/numpy/core/_methods.py:257: RuntimeWarning: invalid value encountered in divide\n",
      "  ret = ret.dtype.type(ret / rcount)\n"
     ]
    },
    {
     "name": "stdout",
     "output_type": "stream",
     "text": [
      "2006iat2.txt done\n",
      "Initial shape: 25433\n",
      "After removing no age IDs: 20147\n",
      "After removing invalid IDs: 20147\n",
      "After excluding zero latency IDs: 20140\n",
      "After excluding != 120 trials IDs: 20027\n",
      "After excluding more than 50% error IDs: 20016\n",
      "After excluding zero error IDs: 19265\n",
      "Successfully read datafile 2006iat3.txt .\n",
      "Converting to X and y arrays...\n",
      "IDs with less than 20 trials <200 ms or >10 seconds: (19134, 120, 3)\n",
      "IDs with 60 trials for each condition, 60 trials for both picture and word stimuli: (19134, 120, 3)\n",
      "Final shape of RTs chunk (after once more excluding cases w/ missing age or trials):  (19134, 120, 4)\n",
      "Final shape of outcomes chunk:  (19134, 120, 4)\n"
     ]
    },
    {
     "name": "stderr",
     "output_type": "stream",
     "text": [
      "/home/mischa/miniconda3/envs/bf/lib/python3.10/site-packages/numpy/core/fromnumeric.py:3432: RuntimeWarning: Mean of empty slice.\n",
      "  return _methods._mean(a, axis=axis, dtype=dtype,\n",
      "/home/mischa/miniconda3/envs/bf/lib/python3.10/site-packages/numpy/core/_methods.py:190: RuntimeWarning: invalid value encountered in divide\n",
      "  ret = ret.dtype.type(ret / rcount)\n",
      "/home/mischa/miniconda3/envs/bf/lib/python3.10/site-packages/numpy/core/_methods.py:265: RuntimeWarning: Degrees of freedom <= 0 for slice\n",
      "  ret = _var(a, axis=axis, dtype=dtype, out=out, ddof=ddof,\n",
      "/home/mischa/miniconda3/envs/bf/lib/python3.10/site-packages/numpy/core/_methods.py:223: RuntimeWarning: invalid value encountered in divide\n",
      "  arrmean = um.true_divide(arrmean, div, out=arrmean, casting='unsafe',\n",
      "/home/mischa/miniconda3/envs/bf/lib/python3.10/site-packages/numpy/core/_methods.py:257: RuntimeWarning: invalid value encountered in divide\n",
      "  ret = ret.dtype.type(ret / rcount)\n"
     ]
    },
    {
     "name": "stdout",
     "output_type": "stream",
     "text": [
      "2006iat3.txt done\n",
      "Initial shape: 13633\n",
      "After removing no age IDs: 10920\n",
      "After removing invalid IDs: 10920\n",
      "After excluding zero latency IDs: 10916\n",
      "After excluding != 120 trials IDs: 10869\n",
      "After excluding more than 50% error IDs: 10858\n",
      "After excluding zero error IDs: 10469\n",
      "Successfully read datafile 2006iat4.txt .\n",
      "Converting to X and y arrays...\n",
      "IDs with less than 20 trials <200 ms or >10 seconds: (10403, 120, 3)\n",
      "IDs with 60 trials for each condition, 60 trials for both picture and word stimuli: (10403, 120, 3)\n",
      "Final shape of RTs chunk (after once more excluding cases w/ missing age or trials):  (10403, 120, 4)\n",
      "Final shape of outcomes chunk:  (10403, 120, 4)\n"
     ]
    },
    {
     "name": "stderr",
     "output_type": "stream",
     "text": [
      "/home/mischa/miniconda3/envs/bf/lib/python3.10/site-packages/numpy/core/fromnumeric.py:3432: RuntimeWarning: Mean of empty slice.\n",
      "  return _methods._mean(a, axis=axis, dtype=dtype,\n",
      "/home/mischa/miniconda3/envs/bf/lib/python3.10/site-packages/numpy/core/_methods.py:190: RuntimeWarning: invalid value encountered in divide\n",
      "  ret = ret.dtype.type(ret / rcount)\n",
      "/home/mischa/miniconda3/envs/bf/lib/python3.10/site-packages/numpy/core/_methods.py:265: RuntimeWarning: Degrees of freedom <= 0 for slice\n",
      "  ret = _var(a, axis=axis, dtype=dtype, out=out, ddof=ddof,\n",
      "/home/mischa/miniconda3/envs/bf/lib/python3.10/site-packages/numpy/core/_methods.py:223: RuntimeWarning: invalid value encountered in divide\n",
      "  arrmean = um.true_divide(arrmean, div, out=arrmean, casting='unsafe',\n",
      "/home/mischa/miniconda3/envs/bf/lib/python3.10/site-packages/numpy/core/_methods.py:257: RuntimeWarning: invalid value encountered in divide\n",
      "  ret = ret.dtype.type(ret / rcount)\n"
     ]
    },
    {
     "name": "stdout",
     "output_type": "stream",
     "text": [
      "2006iat4.txt done\n",
      "Initial shape: 0\n",
      "After removing no age IDs: 0\n",
      "After removing invalid IDs: 0\n",
      "After excluding zero latency IDs: 0\n",
      "After excluding != 120 trials IDs: 0\n",
      "After excluding more than 50% error IDs: 0\n",
      "After excluding zero error IDs: 0\n",
      "Successfully read datafile 2006iat5.txt .\n",
      "Converting to X and y arrays...\n",
      "Initial shape: 0\n",
      "After removing no age IDs: 0\n",
      "After removing invalid IDs: 0\n",
      "After excluding zero latency IDs: 0\n",
      "After excluding != 120 trials IDs: 0\n",
      "After excluding more than 50% error IDs: 0\n",
      "After excluding zero error IDs: 0\n",
      "Successfully read datafile 2006iat6.txt .\n",
      "Converting to X and y arrays...\n",
      "Initial shape: 0\n",
      "After removing no age IDs: 0\n",
      "After removing invalid IDs: 0\n",
      "After excluding zero latency IDs: 0\n",
      "After excluding != 120 trials IDs: 0\n",
      "After excluding more than 50% error IDs: 0\n",
      "After excluding zero error IDs: 0\n",
      "Successfully read datafile 2007iat.txt .\n",
      "Converting to X and y arrays...\n",
      "Initial shape: 0\n",
      "After removing no age IDs: 0\n",
      "After removing invalid IDs: 0\n",
      "After excluding zero latency IDs: 0\n",
      "After excluding != 120 trials IDs: 0\n",
      "After excluding more than 50% error IDs: 0\n",
      "After excluding zero error IDs: 0\n",
      "Successfully read datafile 2007iat2.txt .\n",
      "Converting to X and y arrays...\n",
      "Initial shape: 0\n",
      "After removing no age IDs: 0\n",
      "After removing invalid IDs: 0\n",
      "After excluding zero latency IDs: 0\n",
      "After excluding != 120 trials IDs: 0\n",
      "After excluding more than 50% error IDs: 0\n",
      "After excluding zero error IDs: 0\n",
      "Successfully read datafile 2007iat3.txt .\n",
      "Converting to X and y arrays...\n",
      "Initial shape: 0\n",
      "After removing no age IDs: 0\n",
      "After removing invalid IDs: 0\n",
      "After excluding zero latency IDs: 0\n",
      "After excluding != 120 trials IDs: 0\n",
      "After excluding more than 50% error IDs: 0\n",
      "After excluding zero error IDs: 0\n",
      "Successfully read datafile 2007iat4.txt .\n",
      "Converting to X and y arrays...\n",
      "Initial shape: 0\n",
      "After removing no age IDs: 0\n",
      "After removing invalid IDs: 0\n",
      "After excluding zero latency IDs: 0\n",
      "After excluding != 120 trials IDs: 0\n",
      "After excluding more than 50% error IDs: 0\n",
      "After excluding zero error IDs: 0\n",
      "Successfully read datafile 2007iat5.txt .\n",
      "Converting to X and y arrays...\n",
      "Initial shape: 0\n",
      "After removing no age IDs: 0\n",
      "After removing invalid IDs: 0\n",
      "After excluding zero latency IDs: 0\n",
      "After excluding != 120 trials IDs: 0\n",
      "After excluding more than 50% error IDs: 0\n",
      "After excluding zero error IDs: 0\n",
      "Successfully read datafile 2007iat6.txt .\n",
      "Converting to X and y arrays...\n",
      "Initial shape: 0\n",
      "After removing no age IDs: 0\n",
      "After removing invalid IDs: 0\n",
      "After excluding zero latency IDs: 0\n",
      "After excluding != 120 trials IDs: 0\n",
      "After excluding more than 50% error IDs: 0\n",
      "After excluding zero error IDs: 0\n",
      "Successfully read datafile 2007iat7.txt .\n",
      "Converting to X and y arrays...\n",
      "Initial shape: 0\n",
      "After removing no age IDs: 0\n",
      "After removing invalid IDs: 0\n",
      "After excluding zero latency IDs: 0\n",
      "After excluding != 120 trials IDs: 0\n",
      "After excluding more than 50% error IDs: 0\n",
      "After excluding zero error IDs: 0\n",
      "Successfully read datafile 2007iat8.txt .\n",
      "Converting to X and y arrays...\n",
      "Initial shape: 0\n",
      "After removing no age IDs: 0\n",
      "After removing invalid IDs: 0\n",
      "After excluding zero latency IDs: 0\n",
      "After excluding != 120 trials IDs: 0\n",
      "After excluding more than 50% error IDs: 0\n",
      "After excluding zero error IDs: 0\n",
      "Successfully read datafile 2008iat.txt .\n",
      "Converting to X and y arrays...\n",
      "Initial shape: 0\n",
      "After removing no age IDs: 0\n",
      "After removing invalid IDs: 0\n",
      "After excluding zero latency IDs: 0\n",
      "After excluding != 120 trials IDs: 0\n",
      "After excluding more than 50% error IDs: 0\n",
      "After excluding zero error IDs: 0\n",
      "Successfully read datafile 2008iat2.txt .\n",
      "Converting to X and y arrays...\n",
      "Initial shape: 0\n",
      "After removing no age IDs: 0\n",
      "After removing invalid IDs: 0\n",
      "After excluding zero latency IDs: 0\n",
      "After excluding != 120 trials IDs: 0\n",
      "After excluding more than 50% error IDs: 0\n",
      "After excluding zero error IDs: 0\n",
      "Successfully read datafile 2008iat3.txt .\n",
      "Converting to X and y arrays...\n",
      "Initial shape: 0\n",
      "After removing no age IDs: 0\n",
      "After removing invalid IDs: 0\n",
      "After excluding zero latency IDs: 0\n",
      "After excluding != 120 trials IDs: 0\n",
      "After excluding more than 50% error IDs: 0\n",
      "After excluding zero error IDs: 0\n",
      "Successfully read datafile 2008iat4.txt .\n",
      "Converting to X and y arrays...\n",
      "Initial shape: 0\n",
      "After removing no age IDs: 0\n",
      "After removing invalid IDs: 0\n",
      "After excluding zero latency IDs: 0\n",
      "After excluding != 120 trials IDs: 0\n",
      "After excluding more than 50% error IDs: 0\n",
      "After excluding zero error IDs: 0\n",
      "Successfully read datafile 2008iat5.txt .\n",
      "Converting to X and y arrays...\n",
      "Initial shape: 0\n",
      "After removing no age IDs: 0\n",
      "After removing invalid IDs: 0\n",
      "After excluding zero latency IDs: 0\n",
      "After excluding != 120 trials IDs: 0\n",
      "After excluding more than 50% error IDs: 0\n",
      "After excluding zero error IDs: 0\n",
      "Successfully read datafile 2008iat6.txt .\n",
      "Converting to X and y arrays...\n",
      "Initial shape: 0\n",
      "After removing no age IDs: 0\n",
      "After removing invalid IDs: 0\n",
      "After excluding zero latency IDs: 0\n",
      "After excluding != 120 trials IDs: 0\n",
      "After excluding more than 50% error IDs: 0\n",
      "After excluding zero error IDs: 0\n",
      "Successfully read datafile 2009iat.txt .\n",
      "Converting to X and y arrays...\n",
      "Initial shape: 0\n",
      "After removing no age IDs: 0\n",
      "After removing invalid IDs: 0\n",
      "After excluding zero latency IDs: 0\n",
      "After excluding != 120 trials IDs: 0\n",
      "After excluding more than 50% error IDs: 0\n",
      "After excluding zero error IDs: 0\n",
      "Successfully read datafile 2009iat2.txt .\n",
      "Converting to X and y arrays...\n",
      "Initial shape: 0\n",
      "After removing no age IDs: 0\n",
      "After removing invalid IDs: 0\n",
      "After excluding zero latency IDs: 0\n",
      "After excluding != 120 trials IDs: 0\n",
      "After excluding more than 50% error IDs: 0\n",
      "After excluding zero error IDs: 0\n",
      "Successfully read datafile 2009iat3.txt .\n",
      "Converting to X and y arrays...\n",
      "Initial shape: 0\n",
      "After removing no age IDs: 0\n",
      "After removing invalid IDs: 0\n",
      "After excluding zero latency IDs: 0\n",
      "After excluding != 120 trials IDs: 0\n",
      "After excluding more than 50% error IDs: 0\n",
      "After excluding zero error IDs: 0\n",
      "Successfully read datafile 2009iat4.txt .\n",
      "Converting to X and y arrays...\n",
      "Initial shape: 0\n",
      "After removing no age IDs: 0\n",
      "After removing invalid IDs: 0\n",
      "After excluding zero latency IDs: 0\n",
      "After excluding != 120 trials IDs: 0\n",
      "After excluding more than 50% error IDs: 0\n",
      "After excluding zero error IDs: 0\n",
      "Successfully read datafile 2009iat5.txt .\n",
      "Converting to X and y arrays...\n",
      "Initial shape: 0\n",
      "After removing no age IDs: 0\n",
      "After removing invalid IDs: 0\n",
      "After excluding zero latency IDs: 0\n",
      "After excluding != 120 trials IDs: 0\n",
      "After excluding more than 50% error IDs: 0\n",
      "After excluding zero error IDs: 0\n",
      "Successfully read datafile 2009iat6.txt .\n",
      "Converting to X and y arrays...\n",
      "Initial shape: 0\n",
      "After removing no age IDs: 0\n",
      "After removing invalid IDs: 0\n",
      "After excluding zero latency IDs: 0\n",
      "After excluding != 120 trials IDs: 0\n",
      "After excluding more than 50% error IDs: 0\n",
      "After excluding zero error IDs: 0\n",
      "Successfully read datafile 2009iat7.txt .\n",
      "Converting to X and y arrays...\n",
      "Initial shape: 0\n",
      "After removing no age IDs: 0\n",
      "After removing invalid IDs: 0\n",
      "After excluding zero latency IDs: 0\n",
      "After excluding != 120 trials IDs: 0\n",
      "After excluding more than 50% error IDs: 0\n",
      "After excluding zero error IDs: 0\n",
      "Successfully read datafile 2009iat8.txt .\n",
      "Converting to X and y arrays...\n",
      "Initial shape: 0\n",
      "After removing no age IDs: 0\n",
      "After removing invalid IDs: 0\n",
      "After excluding zero latency IDs: 0\n",
      "After excluding != 120 trials IDs: 0\n",
      "After excluding more than 50% error IDs: 0\n",
      "After excluding zero error IDs: 0\n",
      "Successfully read datafile 2010iat.txt .\n",
      "Converting to X and y arrays...\n",
      "Initial shape: 0\n",
      "After removing no age IDs: 0\n",
      "After removing invalid IDs: 0\n",
      "After excluding zero latency IDs: 0\n",
      "After excluding != 120 trials IDs: 0\n",
      "After excluding more than 50% error IDs: 0\n",
      "After excluding zero error IDs: 0\n",
      "Successfully read datafile 2010iat2.txt .\n",
      "Converting to X and y arrays...\n",
      "Initial shape: 0\n",
      "After removing no age IDs: 0\n",
      "After removing invalid IDs: 0\n",
      "After excluding zero latency IDs: 0\n",
      "After excluding != 120 trials IDs: 0\n",
      "After excluding more than 50% error IDs: 0\n",
      "After excluding zero error IDs: 0\n",
      "Successfully read datafile 2010iat3.txt .\n",
      "Converting to X and y arrays...\n",
      "Initial shape: 0\n",
      "After removing no age IDs: 0\n",
      "After removing invalid IDs: 0\n",
      "After excluding zero latency IDs: 0\n",
      "After excluding != 120 trials IDs: 0\n",
      "After excluding more than 50% error IDs: 0\n",
      "After excluding zero error IDs: 0\n",
      "Successfully read datafile 2010iat4.txt .\n",
      "Converting to X and y arrays...\n"
     ]
    },
    {
     "name": "stdout",
     "output_type": "stream",
     "text": [
      "Initial shape: 0\n",
      "After removing no age IDs: 0\n",
      "After removing invalid IDs: 0\n",
      "After excluding zero latency IDs: 0\n",
      "After excluding != 120 trials IDs: 0\n",
      "After excluding more than 50% error IDs: 0\n",
      "After excluding zero error IDs: 0\n",
      "Successfully read datafile 2010iat5.txt .\n",
      "Converting to X and y arrays...\n",
      "Initial shape: 0\n",
      "After removing no age IDs: 0\n",
      "After removing invalid IDs: 0\n",
      "After excluding zero latency IDs: 0\n",
      "After excluding != 120 trials IDs: 0\n",
      "After excluding more than 50% error IDs: 0\n",
      "After excluding zero error IDs: 0\n",
      "Successfully read datafile 2010iat6.txt .\n",
      "Converting to X and y arrays...\n",
      "Initial shape: 0\n",
      "After removing no age IDs: 0\n",
      "After removing invalid IDs: 0\n",
      "After excluding zero latency IDs: 0\n",
      "After excluding != 120 trials IDs: 0\n",
      "After excluding more than 50% error IDs: 0\n",
      "After excluding zero error IDs: 0\n",
      "Successfully read datafile 2011iat.txt .\n",
      "Converting to X and y arrays...\n",
      "Initial shape: 0\n",
      "After removing no age IDs: 0\n",
      "After removing invalid IDs: 0\n",
      "After excluding zero latency IDs: 0\n",
      "After excluding != 120 trials IDs: 0\n",
      "After excluding more than 50% error IDs: 0\n",
      "After excluding zero error IDs: 0\n",
      "Successfully read datafile 2011iat2.txt .\n",
      "Converting to X and y arrays...\n",
      "Initial shape: 0\n",
      "After removing no age IDs: 0\n",
      "After removing invalid IDs: 0\n",
      "After excluding zero latency IDs: 0\n",
      "After excluding != 120 trials IDs: 0\n",
      "After excluding more than 50% error IDs: 0\n",
      "After excluding zero error IDs: 0\n",
      "Successfully read datafile 2011iat3.txt .\n",
      "Converting to X and y arrays...\n",
      "Initial shape: 0\n",
      "After removing no age IDs: 0\n",
      "After removing invalid IDs: 0\n",
      "After excluding zero latency IDs: 0\n",
      "After excluding != 120 trials IDs: 0\n",
      "After excluding more than 50% error IDs: 0\n",
      "After excluding zero error IDs: 0\n",
      "Successfully read datafile 2011iat4.txt .\n",
      "Converting to X and y arrays...\n",
      "Initial shape: 0\n",
      "After removing no age IDs: 0\n",
      "After removing invalid IDs: 0\n",
      "After excluding zero latency IDs: 0\n",
      "After excluding != 120 trials IDs: 0\n",
      "After excluding more than 50% error IDs: 0\n",
      "After excluding zero error IDs: 0\n",
      "Successfully read datafile 2011iat5.txt .\n",
      "Converting to X and y arrays...\n",
      "Initial shape: 0\n",
      "After removing no age IDs: 0\n",
      "After removing invalid IDs: 0\n",
      "After excluding zero latency IDs: 0\n",
      "After excluding != 120 trials IDs: 0\n",
      "After excluding more than 50% error IDs: 0\n",
      "After excluding zero error IDs: 0\n",
      "Successfully read datafile 2011iat6.txt .\n",
      "Converting to X and y arrays...\n",
      "Initial shape: 0\n",
      "After removing no age IDs: 0\n",
      "After removing invalid IDs: 0\n",
      "After excluding zero latency IDs: 0\n",
      "After excluding != 120 trials IDs: 0\n",
      "After excluding more than 50% error IDs: 0\n",
      "After excluding zero error IDs: 0\n",
      "Successfully read datafile 2012iat.txt .\n",
      "Converting to X and y arrays...\n",
      "Initial shape: 0\n",
      "After removing no age IDs: 0\n",
      "After removing invalid IDs: 0\n",
      "After excluding zero latency IDs: 0\n",
      "After excluding != 120 trials IDs: 0\n",
      "After excluding more than 50% error IDs: 0\n",
      "After excluding zero error IDs: 0\n",
      "Successfully read datafile 2012iat2.txt .\n",
      "Converting to X and y arrays...\n",
      "Initial shape: 0\n",
      "After removing no age IDs: 0\n",
      "After removing invalid IDs: 0\n",
      "After excluding zero latency IDs: 0\n",
      "After excluding != 120 trials IDs: 0\n",
      "After excluding more than 50% error IDs: 0\n",
      "After excluding zero error IDs: 0\n",
      "Successfully read datafile 2012iat3.txt .\n",
      "Converting to X and y arrays...\n",
      "Initial shape: 0\n",
      "After removing no age IDs: 0\n",
      "After removing invalid IDs: 0\n",
      "After excluding zero latency IDs: 0\n",
      "After excluding != 120 trials IDs: 0\n",
      "After excluding more than 50% error IDs: 0\n",
      "After excluding zero error IDs: 0\n",
      "Successfully read datafile 2012iat4.txt .\n",
      "Converting to X and y arrays...\n",
      "Initial shape: 0\n",
      "After removing no age IDs: 0\n",
      "After removing invalid IDs: 0\n",
      "After excluding zero latency IDs: 0\n",
      "After excluding != 120 trials IDs: 0\n",
      "After excluding more than 50% error IDs: 0\n",
      "After excluding zero error IDs: 0\n",
      "Successfully read datafile 2012iat5.txt .\n",
      "Converting to X and y arrays...\n",
      "Initial shape: 0\n",
      "After removing no age IDs: 0\n",
      "After removing invalid IDs: 0\n",
      "After excluding zero latency IDs: 0\n",
      "After excluding != 120 trials IDs: 0\n",
      "After excluding more than 50% error IDs: 0\n",
      "After excluding zero error IDs: 0\n",
      "Successfully read datafile 2012iat6.txt .\n",
      "Converting to X and y arrays...\n",
      "Initial shape: 0\n",
      "After removing no age IDs: 0\n",
      "After removing invalid IDs: 0\n",
      "After excluding zero latency IDs: 0\n",
      "After excluding != 120 trials IDs: 0\n",
      "After excluding more than 50% error IDs: 0\n",
      "After excluding zero error IDs: 0\n",
      "Successfully read datafile 2013iat.txt .\n",
      "Converting to X and y arrays...\n",
      "Initial shape: 0\n",
      "After removing no age IDs: 0\n",
      "After removing invalid IDs: 0\n",
      "After excluding zero latency IDs: 0\n",
      "After excluding != 120 trials IDs: 0\n",
      "After excluding more than 50% error IDs: 0\n",
      "After excluding zero error IDs: 0\n",
      "Successfully read datafile 2013iat2.txt .\n",
      "Converting to X and y arrays...\n",
      "Initial shape: 0\n",
      "After removing no age IDs: 0\n",
      "After removing invalid IDs: 0\n",
      "After excluding zero latency IDs: 0\n",
      "After excluding != 120 trials IDs: 0\n",
      "After excluding more than 50% error IDs: 0\n",
      "After excluding zero error IDs: 0\n",
      "Successfully read datafile 2013iat3.txt .\n",
      "Converting to X and y arrays...\n",
      "Initial shape: 0\n",
      "After removing no age IDs: 0\n",
      "After removing invalid IDs: 0\n",
      "After excluding zero latency IDs: 0\n",
      "After excluding != 120 trials IDs: 0\n",
      "After excluding more than 50% error IDs: 0\n",
      "After excluding zero error IDs: 0\n",
      "Successfully read datafile 2013iat4.txt .\n",
      "Converting to X and y arrays...\n",
      "Initial shape: 0\n",
      "After removing no age IDs: 0\n",
      "After removing invalid IDs: 0\n",
      "After excluding zero latency IDs: 0\n",
      "After excluding != 120 trials IDs: 0\n",
      "After excluding more than 50% error IDs: 0\n",
      "After excluding zero error IDs: 0\n",
      "Successfully read datafile 2013iat5.txt .\n",
      "Converting to X and y arrays...\n",
      "Initial shape: 0\n",
      "After removing no age IDs: 0\n",
      "After removing invalid IDs: 0\n",
      "After excluding zero latency IDs: 0\n",
      "After excluding != 120 trials IDs: 0\n",
      "After excluding more than 50% error IDs: 0\n",
      "After excluding zero error IDs: 0\n",
      "Successfully read datafile 2013iat6.txt .\n",
      "Converting to X and y arrays...\n",
      "Initial shape: 2\n",
      "After removing no age IDs: 2\n",
      "After removing invalid IDs: 2\n",
      "After excluding zero latency IDs: 2\n",
      "After excluding != 120 trials IDs: 0\n",
      "After excluding more than 50% error IDs: 0\n",
      "After excluding zero error IDs: 0\n",
      "Successfully read datafile 2014JanOctiat.txt .\n",
      "Converting to X and y arrays...\n",
      "Initial shape: 0\n",
      "After removing no age IDs: 0\n",
      "After removing invalid IDs: 0\n",
      "After excluding zero latency IDs: 0\n",
      "After excluding != 120 trials IDs: 0\n",
      "After excluding more than 50% error IDs: 0\n",
      "After excluding zero error IDs: 0\n",
      "Successfully read datafile 2014JanOctiat2.txt .\n",
      "Converting to X and y arrays...\n",
      "Initial shape: 0\n",
      "After removing no age IDs: 0\n",
      "After removing invalid IDs: 0\n",
      "After excluding zero latency IDs: 0\n",
      "After excluding != 120 trials IDs: 0\n",
      "After excluding more than 50% error IDs: 0\n",
      "After excluding zero error IDs: 0\n",
      "Successfully read datafile 2014JanOctiat3.txt .\n",
      "Converting to X and y arrays...\n",
      "Initial shape: 0\n",
      "After removing no age IDs: 0\n",
      "After removing invalid IDs: 0\n",
      "After excluding zero latency IDs: 0\n",
      "After excluding != 120 trials IDs: 0\n",
      "After excluding more than 50% error IDs: 0\n",
      "After excluding zero error IDs: 0\n",
      "Successfully read datafile 2014JanOctiat4.txt .\n",
      "Converting to X and y arrays...\n",
      "Initial shape: 0\n",
      "After removing no age IDs: 0\n",
      "After removing invalid IDs: 0\n",
      "After excluding zero latency IDs: 0\n",
      "After excluding != 120 trials IDs: 0\n",
      "After excluding more than 50% error IDs: 0\n",
      "After excluding zero error IDs: 0\n",
      "Successfully read datafile 2014JanOctiat5.txt .\n",
      "Converting to X and y arrays...\n",
      "Initial shape: 0\n",
      "After removing no age IDs: 0\n",
      "After removing invalid IDs: 0\n",
      "After excluding zero latency IDs: 0\n",
      "After excluding != 120 trials IDs: 0\n",
      "After excluding more than 50% error IDs: 0\n",
      "After excluding zero error IDs: 0\n",
      "Successfully read datafile 2014Oct2015Janiat.txt .\n",
      "Converting to X and y arrays...\n",
      "Initial shape: 0\n",
      "After removing no age IDs: 0\n",
      "After removing invalid IDs: 0\n",
      "After excluding zero latency IDs: 0\n",
      "After excluding != 120 trials IDs: 0\n",
      "After excluding more than 50% error IDs: 0\n",
      "After excluding zero error IDs: 0\n",
      "Successfully read datafile 2015FebMariat.txt .\n",
      "Converting to X and y arrays...\n",
      "Initial shape: 0\n",
      "After removing no age IDs: 0\n",
      "After removing invalid IDs: 0\n",
      "After excluding zero latency IDs: 0\n",
      "After excluding != 120 trials IDs: 0\n",
      "After excluding more than 50% error IDs: 0\n",
      "After excluding zero error IDs: 0\n",
      "Successfully read datafile 2015MarDeciat.txt .\n",
      "Converting to X and y arrays...\n"
     ]
    },
    {
     "name": "stdout",
     "output_type": "stream",
     "text": [
      "Initial shape: 2\n",
      "After removing no age IDs: 0\n",
      "After removing invalid IDs: 0\n",
      "After excluding zero latency IDs: 0\n",
      "After excluding != 120 trials IDs: 0\n",
      "After excluding more than 50% error IDs: 0\n",
      "After excluding zero error IDs: 0\n",
      "Successfully read datafile 2015MarDeciat2.txt .\n",
      "Converting to X and y arrays...\n",
      "Initial shape: 0\n",
      "After removing no age IDs: 0\n",
      "After removing invalid IDs: 0\n",
      "After excluding zero latency IDs: 0\n",
      "After excluding != 120 trials IDs: 0\n",
      "After excluding more than 50% error IDs: 0\n",
      "After excluding zero error IDs: 0\n",
      "Successfully read datafile 2015MarDeciat3.txt .\n",
      "Converting to X and y arrays...\n",
      "Initial shape: 0\n",
      "After removing no age IDs: 0\n",
      "After removing invalid IDs: 0\n",
      "After excluding zero latency IDs: 0\n",
      "After excluding != 120 trials IDs: 0\n",
      "After excluding more than 50% error IDs: 0\n",
      "After excluding zero error IDs: 0\n",
      "Successfully read datafile 2015MarDeciat4.txt .\n",
      "Converting to X and y arrays...\n",
      "Initial shape: 0\n",
      "After removing no age IDs: 0\n",
      "After removing invalid IDs: 0\n",
      "After excluding zero latency IDs: 0\n",
      "After excluding != 120 trials IDs: 0\n",
      "After excluding more than 50% error IDs: 0\n",
      "After excluding zero error IDs: 0\n",
      "Successfully read datafile 2015MarDeciat5.txt .\n",
      "Converting to X and y arrays...\n",
      "Initial shape: 0\n",
      "After removing no age IDs: 0\n",
      "After removing invalid IDs: 0\n",
      "After excluding zero latency IDs: 0\n",
      "After excluding != 120 trials IDs: 0\n",
      "After excluding more than 50% error IDs: 0\n",
      "After excluding zero error IDs: 0\n",
      "Successfully read datafile 2015MarDeciat6.txt .\n",
      "Converting to X and y arrays...\n",
      "Initial shape: 0\n",
      "After removing no age IDs: 0\n",
      "After removing invalid IDs: 0\n",
      "After excluding zero latency IDs: 0\n",
      "After excluding != 120 trials IDs: 0\n",
      "After excluding more than 50% error IDs: 0\n",
      "After excluding zero error IDs: 0\n",
      "Successfully read datafile 2015MarDeciat7.txt .\n",
      "Converting to X and y arrays...\n",
      "Initial shape: 0\n",
      "After removing no age IDs: 0\n",
      "After removing invalid IDs: 0\n",
      "After excluding zero latency IDs: 0\n",
      "After excluding != 120 trials IDs: 0\n",
      "After excluding more than 50% error IDs: 0\n",
      "After excluding zero error IDs: 0\n",
      "Successfully read datafile 2015MarDeciat8.txt .\n",
      "Converting to X and y arrays...\n",
      "Initial shape: 0\n",
      "After removing no age IDs: 0\n",
      "After removing invalid IDs: 0\n",
      "After excluding zero latency IDs: 0\n",
      "After excluding != 120 trials IDs: 0\n",
      "After excluding more than 50% error IDs: 0\n",
      "After excluding zero error IDs: 0\n",
      "Successfully read datafile 2015MarDeciat9.txt .\n",
      "Converting to X and y arrays...\n",
      "Initial shape: 0\n",
      "After removing no age IDs: 0\n",
      "After removing invalid IDs: 0\n",
      "After excluding zero latency IDs: 0\n",
      "After excluding != 120 trials IDs: 0\n",
      "After excluding more than 50% error IDs: 0\n",
      "After excluding zero error IDs: 0\n",
      "Successfully read datafile 2016JanSepiat.txt .\n",
      "Converting to X and y arrays...\n",
      "Initial shape: 0\n",
      "After removing no age IDs: 0\n",
      "After removing invalid IDs: 0\n",
      "After excluding zero latency IDs: 0\n",
      "After excluding != 120 trials IDs: 0\n",
      "After excluding more than 50% error IDs: 0\n",
      "After excluding zero error IDs: 0\n",
      "Successfully read datafile 2016JanSepiat2.txt .\n",
      "Converting to X and y arrays...\n",
      "Initial shape: 0\n",
      "After removing no age IDs: 0\n",
      "After removing invalid IDs: 0\n",
      "After excluding zero latency IDs: 0\n",
      "After excluding != 120 trials IDs: 0\n",
      "After excluding more than 50% error IDs: 0\n",
      "After excluding zero error IDs: 0\n",
      "Successfully read datafile 2016JanSepiat3.txt .\n",
      "Converting to X and y arrays...\n",
      "Initial shape: 0\n",
      "After removing no age IDs: 0\n",
      "After removing invalid IDs: 0\n",
      "After excluding zero latency IDs: 0\n",
      "After excluding != 120 trials IDs: 0\n",
      "After excluding more than 50% error IDs: 0\n",
      "After excluding zero error IDs: 0\n",
      "Successfully read datafile 2016JanSepiat4.txt .\n",
      "Converting to X and y arrays...\n",
      "Initial shape: 0\n",
      "After removing no age IDs: 0\n",
      "After removing invalid IDs: 0\n",
      "After excluding zero latency IDs: 0\n",
      "After excluding != 120 trials IDs: 0\n",
      "After excluding more than 50% error IDs: 0\n",
      "After excluding zero error IDs: 0\n",
      "Successfully read datafile 2016JanSepiat5.txt .\n",
      "Converting to X and y arrays...\n",
      "Initial shape: 0\n",
      "After removing no age IDs: 0\n",
      "After removing invalid IDs: 0\n",
      "After excluding zero latency IDs: 0\n",
      "After excluding != 120 trials IDs: 0\n",
      "After excluding more than 50% error IDs: 0\n",
      "After excluding zero error IDs: 0\n",
      "Successfully read datafile 2016JanSepiat6.txt .\n",
      "Converting to X and y arrays...\n",
      "Initial shape: 0\n",
      "After removing no age IDs: 0\n",
      "After removing invalid IDs: 0\n",
      "After excluding zero latency IDs: 0\n",
      "After excluding != 120 trials IDs: 0\n",
      "After excluding more than 50% error IDs: 0\n",
      "After excluding zero error IDs: 0\n",
      "Successfully read datafile 2016JanSepiat7.txt .\n",
      "Converting to X and y arrays...\n",
      "Initial shape: 0\n",
      "After removing no age IDs: 0\n",
      "After removing invalid IDs: 0\n",
      "After excluding zero latency IDs: 0\n",
      "After excluding != 120 trials IDs: 0\n",
      "After excluding more than 50% error IDs: 0\n",
      "After excluding zero error IDs: 0\n",
      "Successfully read datafile 2016JanSepiat8.txt .\n",
      "Converting to X and y arrays...\n",
      "Initial shape: 0\n",
      "After removing no age IDs: 0\n",
      "After removing invalid IDs: 0\n",
      "After excluding zero latency IDs: 0\n",
      "After excluding != 120 trials IDs: 0\n",
      "After excluding more than 50% error IDs: 0\n",
      "After excluding zero error IDs: 0\n",
      "Successfully read datafile 2016JanSepiat9.txt .\n",
      "Converting to X and y arrays...\n",
      "Initial shape: 25918\n",
      "After removing no age IDs: 16203\n",
      "After removing invalid IDs: 16203\n",
      "After excluding zero latency IDs: 16120\n",
      "After excluding != 120 trials IDs: 16018\n",
      "After excluding more than 50% error IDs: 16009\n",
      "After excluding zero error IDs: 14812\n",
      "Successfully read datafile 2016iat.txt .\n",
      "Converting to X and y arrays...\n",
      "IDs with less than 20 trials <200 ms or >10 seconds: (14766, 120, 3)\n",
      "IDs with 60 trials for each condition, 60 trials for both picture and word stimuli: (14766, 120, 3)\n",
      "Final shape of RTs chunk (after once more excluding cases w/ missing age or trials):  (14766, 120, 4)\n",
      "Final shape of outcomes chunk:  (14766, 120, 4)\n"
     ]
    },
    {
     "name": "stderr",
     "output_type": "stream",
     "text": [
      "/home/mischa/miniconda3/envs/bf/lib/python3.10/site-packages/numpy/core/fromnumeric.py:3432: RuntimeWarning: Mean of empty slice.\n",
      "  return _methods._mean(a, axis=axis, dtype=dtype,\n",
      "/home/mischa/miniconda3/envs/bf/lib/python3.10/site-packages/numpy/core/_methods.py:190: RuntimeWarning: invalid value encountered in divide\n",
      "  ret = ret.dtype.type(ret / rcount)\n",
      "/home/mischa/miniconda3/envs/bf/lib/python3.10/site-packages/numpy/core/_methods.py:265: RuntimeWarning: Degrees of freedom <= 0 for slice\n",
      "  ret = _var(a, axis=axis, dtype=dtype, out=out, ddof=ddof,\n",
      "/home/mischa/miniconda3/envs/bf/lib/python3.10/site-packages/numpy/core/_methods.py:223: RuntimeWarning: invalid value encountered in divide\n",
      "  arrmean = um.true_divide(arrmean, div, out=arrmean, casting='unsafe',\n",
      "/home/mischa/miniconda3/envs/bf/lib/python3.10/site-packages/numpy/core/_methods.py:257: RuntimeWarning: invalid value encountered in divide\n",
      "  ret = ret.dtype.type(ret / rcount)\n"
     ]
    },
    {
     "name": "stdout",
     "output_type": "stream",
     "text": [
      "2016iat.txt done\n",
      "Initial shape: 25920\n",
      "After removing no age IDs: 16003\n",
      "After removing invalid IDs: 16003\n",
      "After excluding zero latency IDs: 15921\n",
      "After excluding != 120 trials IDs: 15843\n",
      "After excluding more than 50% error IDs: 15819\n",
      "After excluding zero error IDs: 14855\n",
      "Successfully read datafile 2016iat2.txt .\n",
      "Converting to X and y arrays...\n",
      "IDs with less than 20 trials <200 ms or >10 seconds: (14765, 120, 3)\n",
      "IDs with 60 trials for each condition, 60 trials for both picture and word stimuli: (14765, 120, 3)\n",
      "Final shape of RTs chunk (after once more excluding cases w/ missing age or trials):  (14765, 120, 4)\n",
      "Final shape of outcomes chunk:  (14765, 120, 4)\n"
     ]
    },
    {
     "name": "stderr",
     "output_type": "stream",
     "text": [
      "/home/mischa/miniconda3/envs/bf/lib/python3.10/site-packages/numpy/core/fromnumeric.py:3432: RuntimeWarning: Mean of empty slice.\n",
      "  return _methods._mean(a, axis=axis, dtype=dtype,\n",
      "/home/mischa/miniconda3/envs/bf/lib/python3.10/site-packages/numpy/core/_methods.py:190: RuntimeWarning: invalid value encountered in divide\n",
      "  ret = ret.dtype.type(ret / rcount)\n",
      "/home/mischa/miniconda3/envs/bf/lib/python3.10/site-packages/numpy/core/_methods.py:265: RuntimeWarning: Degrees of freedom <= 0 for slice\n",
      "  ret = _var(a, axis=axis, dtype=dtype, out=out, ddof=ddof,\n",
      "/home/mischa/miniconda3/envs/bf/lib/python3.10/site-packages/numpy/core/_methods.py:223: RuntimeWarning: invalid value encountered in divide\n",
      "  arrmean = um.true_divide(arrmean, div, out=arrmean, casting='unsafe',\n",
      "/home/mischa/miniconda3/envs/bf/lib/python3.10/site-packages/numpy/core/_methods.py:257: RuntimeWarning: invalid value encountered in divide\n",
      "  ret = ret.dtype.type(ret / rcount)\n"
     ]
    },
    {
     "name": "stdout",
     "output_type": "stream",
     "text": [
      "2016iat2.txt done\n",
      "Initial shape: 26011\n",
      "After removing no age IDs: 15373\n",
      "After removing invalid IDs: 15373\n",
      "After excluding zero latency IDs: 15283\n",
      "After excluding != 120 trials IDs: 15231\n",
      "After excluding more than 50% error IDs: 15224\n",
      "After excluding zero error IDs: 14296\n",
      "Successfully read datafile 2016iat3.txt .\n",
      "Converting to X and y arrays...\n",
      "IDs with less than 20 trials <200 ms or >10 seconds: (14204, 120, 3)\n",
      "IDs with 60 trials for each condition, 60 trials for both picture and word stimuli: (14204, 120, 3)\n",
      "Final shape of RTs chunk (after once more excluding cases w/ missing age or trials):  (14204, 120, 4)\n",
      "Final shape of outcomes chunk:  (14204, 120, 4)\n"
     ]
    },
    {
     "name": "stderr",
     "output_type": "stream",
     "text": [
      "/home/mischa/miniconda3/envs/bf/lib/python3.10/site-packages/numpy/core/fromnumeric.py:3432: RuntimeWarning: Mean of empty slice.\n",
      "  return _methods._mean(a, axis=axis, dtype=dtype,\n",
      "/home/mischa/miniconda3/envs/bf/lib/python3.10/site-packages/numpy/core/_methods.py:190: RuntimeWarning: invalid value encountered in divide\n",
      "  ret = ret.dtype.type(ret / rcount)\n",
      "/home/mischa/miniconda3/envs/bf/lib/python3.10/site-packages/numpy/core/_methods.py:265: RuntimeWarning: Degrees of freedom <= 0 for slice\n",
      "  ret = _var(a, axis=axis, dtype=dtype, out=out, ddof=ddof,\n",
      "/home/mischa/miniconda3/envs/bf/lib/python3.10/site-packages/numpy/core/_methods.py:223: RuntimeWarning: invalid value encountered in divide\n",
      "  arrmean = um.true_divide(arrmean, div, out=arrmean, casting='unsafe',\n",
      "/home/mischa/miniconda3/envs/bf/lib/python3.10/site-packages/numpy/core/_methods.py:257: RuntimeWarning: invalid value encountered in divide\n",
      "  ret = ret.dtype.type(ret / rcount)\n"
     ]
    },
    {
     "name": "stdout",
     "output_type": "stream",
     "text": [
      "2016iat3.txt done\n",
      "Initial shape: 25946\n",
      "After removing no age IDs: 15142\n",
      "After removing invalid IDs: 15142\n",
      "After excluding zero latency IDs: 15071\n",
      "After excluding != 120 trials IDs: 15030\n",
      "After excluding more than 50% error IDs: 15020\n",
      "After excluding zero error IDs: 14033\n",
      "Successfully read datafile 2016iat4.txt .\n",
      "Converting to X and y arrays...\n",
      "IDs with less than 20 trials <200 ms or >10 seconds: (13955, 120, 3)\n",
      "IDs with 60 trials for each condition, 60 trials for both picture and word stimuli: (13955, 120, 3)\n",
      "Final shape of RTs chunk (after once more excluding cases w/ missing age or trials):  (13955, 120, 4)\n",
      "Final shape of outcomes chunk:  (13955, 120, 4)\n"
     ]
    },
    {
     "name": "stderr",
     "output_type": "stream",
     "text": [
      "/home/mischa/miniconda3/envs/bf/lib/python3.10/site-packages/numpy/core/fromnumeric.py:3432: RuntimeWarning: Mean of empty slice.\n",
      "  return _methods._mean(a, axis=axis, dtype=dtype,\n",
      "/home/mischa/miniconda3/envs/bf/lib/python3.10/site-packages/numpy/core/_methods.py:190: RuntimeWarning: invalid value encountered in divide\n",
      "  ret = ret.dtype.type(ret / rcount)\n",
      "/home/mischa/miniconda3/envs/bf/lib/python3.10/site-packages/numpy/core/_methods.py:265: RuntimeWarning: Degrees of freedom <= 0 for slice\n",
      "  ret = _var(a, axis=axis, dtype=dtype, out=out, ddof=ddof,\n",
      "/home/mischa/miniconda3/envs/bf/lib/python3.10/site-packages/numpy/core/_methods.py:223: RuntimeWarning: invalid value encountered in divide\n",
      "  arrmean = um.true_divide(arrmean, div, out=arrmean, casting='unsafe',\n",
      "/home/mischa/miniconda3/envs/bf/lib/python3.10/site-packages/numpy/core/_methods.py:257: RuntimeWarning: invalid value encountered in divide\n",
      "  ret = ret.dtype.type(ret / rcount)\n"
     ]
    },
    {
     "name": "stdout",
     "output_type": "stream",
     "text": [
      "2016iat4.txt done\n",
      "Initial shape: 2498\n",
      "After removing no age IDs: 1418\n",
      "After removing invalid IDs: 1418\n",
      "After excluding zero latency IDs: 1417\n",
      "After excluding != 120 trials IDs: 1409\n",
      "After excluding more than 50% error IDs: 1409\n",
      "After excluding zero error IDs: 1300\n",
      "Successfully read datafile 2016iat5.txt .\n",
      "Converting to X and y arrays...\n",
      "IDs with less than 20 trials <200 ms or >10 seconds: (1297, 120, 3)\n",
      "IDs with 60 trials for each condition, 60 trials for both picture and word stimuli: (1297, 120, 3)\n",
      "Final shape of RTs chunk (after once more excluding cases w/ missing age or trials):  (1297, 120, 4)\n",
      "Final shape of outcomes chunk:  (1297, 120, 4)\n"
     ]
    },
    {
     "name": "stderr",
     "output_type": "stream",
     "text": [
      "/home/mischa/miniconda3/envs/bf/lib/python3.10/site-packages/numpy/core/fromnumeric.py:3432: RuntimeWarning: Mean of empty slice.\n",
      "  return _methods._mean(a, axis=axis, dtype=dtype,\n",
      "/home/mischa/miniconda3/envs/bf/lib/python3.10/site-packages/numpy/core/_methods.py:190: RuntimeWarning: invalid value encountered in divide\n",
      "  ret = ret.dtype.type(ret / rcount)\n",
      "/home/mischa/miniconda3/envs/bf/lib/python3.10/site-packages/numpy/core/_methods.py:265: RuntimeWarning: Degrees of freedom <= 0 for slice\n",
      "  ret = _var(a, axis=axis, dtype=dtype, out=out, ddof=ddof,\n",
      "/home/mischa/miniconda3/envs/bf/lib/python3.10/site-packages/numpy/core/_methods.py:223: RuntimeWarning: invalid value encountered in divide\n",
      "  arrmean = um.true_divide(arrmean, div, out=arrmean, casting='unsafe',\n",
      "/home/mischa/miniconda3/envs/bf/lib/python3.10/site-packages/numpy/core/_methods.py:257: RuntimeWarning: invalid value encountered in divide\n",
      "  ret = ret.dtype.type(ret / rcount)\n"
     ]
    },
    {
     "name": "stdout",
     "output_type": "stream",
     "text": [
      "2016iat5.txt done\n",
      "Initial shape: 25895\n",
      "After removing no age IDs: 15757\n",
      "After removing invalid IDs: 15757\n",
      "After excluding zero latency IDs: 15689\n",
      "After excluding != 120 trials IDs: 15615\n",
      "After excluding more than 50% error IDs: 15597\n",
      "After excluding zero error IDs: 14473\n",
      "Successfully read datafile 2017iat.txt .\n",
      "Converting to X and y arrays...\n",
      "IDs with less than 20 trials <200 ms or >10 seconds: (14392, 120, 3)\n",
      "IDs with 60 trials for each condition, 60 trials for both picture and word stimuli: (14392, 120, 3)\n",
      "Final shape of RTs chunk (after once more excluding cases w/ missing age or trials):  (14392, 120, 4)\n",
      "Final shape of outcomes chunk:  (14392, 120, 4)\n"
     ]
    },
    {
     "name": "stderr",
     "output_type": "stream",
     "text": [
      "/home/mischa/miniconda3/envs/bf/lib/python3.10/site-packages/numpy/core/fromnumeric.py:3432: RuntimeWarning: Mean of empty slice.\n",
      "  return _methods._mean(a, axis=axis, dtype=dtype,\n",
      "/home/mischa/miniconda3/envs/bf/lib/python3.10/site-packages/numpy/core/_methods.py:190: RuntimeWarning: invalid value encountered in divide\n",
      "  ret = ret.dtype.type(ret / rcount)\n",
      "/home/mischa/miniconda3/envs/bf/lib/python3.10/site-packages/numpy/core/_methods.py:265: RuntimeWarning: Degrees of freedom <= 0 for slice\n",
      "  ret = _var(a, axis=axis, dtype=dtype, out=out, ddof=ddof,\n",
      "/home/mischa/miniconda3/envs/bf/lib/python3.10/site-packages/numpy/core/_methods.py:223: RuntimeWarning: invalid value encountered in divide\n",
      "  arrmean = um.true_divide(arrmean, div, out=arrmean, casting='unsafe',\n",
      "/home/mischa/miniconda3/envs/bf/lib/python3.10/site-packages/numpy/core/_methods.py:257: RuntimeWarning: invalid value encountered in divide\n",
      "  ret = ret.dtype.type(ret / rcount)\n"
     ]
    },
    {
     "name": "stdout",
     "output_type": "stream",
     "text": [
      "2017iat.txt done\n",
      "Initial shape: 26059\n",
      "After removing no age IDs: 15939\n",
      "After removing invalid IDs: 15939\n",
      "After excluding zero latency IDs: 15840\n",
      "After excluding != 120 trials IDs: 15800\n",
      "After excluding more than 50% error IDs: 15789\n",
      "After excluding zero error IDs: 14776\n",
      "Successfully read datafile 2017iat10.txt .\n",
      "Converting to X and y arrays...\n",
      "IDs with less than 20 trials <200 ms or >10 seconds: (14702, 120, 3)\n",
      "IDs with 60 trials for each condition, 60 trials for both picture and word stimuli: (14702, 120, 3)\n",
      "Final shape of RTs chunk (after once more excluding cases w/ missing age or trials):  (14702, 120, 4)\n",
      "Final shape of outcomes chunk:  (14702, 120, 4)\n"
     ]
    },
    {
     "name": "stderr",
     "output_type": "stream",
     "text": [
      "/home/mischa/miniconda3/envs/bf/lib/python3.10/site-packages/numpy/core/fromnumeric.py:3432: RuntimeWarning: Mean of empty slice.\n",
      "  return _methods._mean(a, axis=axis, dtype=dtype,\n",
      "/home/mischa/miniconda3/envs/bf/lib/python3.10/site-packages/numpy/core/_methods.py:190: RuntimeWarning: invalid value encountered in divide\n",
      "  ret = ret.dtype.type(ret / rcount)\n",
      "/home/mischa/miniconda3/envs/bf/lib/python3.10/site-packages/numpy/core/_methods.py:265: RuntimeWarning: Degrees of freedom <= 0 for slice\n",
      "  ret = _var(a, axis=axis, dtype=dtype, out=out, ddof=ddof,\n",
      "/home/mischa/miniconda3/envs/bf/lib/python3.10/site-packages/numpy/core/_methods.py:223: RuntimeWarning: invalid value encountered in divide\n",
      "  arrmean = um.true_divide(arrmean, div, out=arrmean, casting='unsafe',\n",
      "/home/mischa/miniconda3/envs/bf/lib/python3.10/site-packages/numpy/core/_methods.py:257: RuntimeWarning: invalid value encountered in divide\n",
      "  ret = ret.dtype.type(ret / rcount)\n"
     ]
    },
    {
     "name": "stdout",
     "output_type": "stream",
     "text": [
      "2017iat10.txt done\n",
      "Initial shape: 26049\n",
      "After removing no age IDs: 16072\n",
      "After removing invalid IDs: 16072\n",
      "After excluding zero latency IDs: 15941\n",
      "After excluding != 120 trials IDs: 15887\n",
      "After excluding more than 50% error IDs: 15875\n",
      "After excluding zero error IDs: 14833\n",
      "Successfully read datafile 2017iat11.txt .\n",
      "Converting to X and y arrays...\n",
      "IDs with less than 20 trials <200 ms or >10 seconds: (14741, 120, 3)\n",
      "IDs with 60 trials for each condition, 60 trials for both picture and word stimuli: (14741, 120, 3)\n",
      "Final shape of RTs chunk (after once more excluding cases w/ missing age or trials):  (14741, 120, 4)\n",
      "Final shape of outcomes chunk:  (14741, 120, 4)\n"
     ]
    },
    {
     "name": "stderr",
     "output_type": "stream",
     "text": [
      "/home/mischa/miniconda3/envs/bf/lib/python3.10/site-packages/numpy/core/fromnumeric.py:3432: RuntimeWarning: Mean of empty slice.\n",
      "  return _methods._mean(a, axis=axis, dtype=dtype,\n",
      "/home/mischa/miniconda3/envs/bf/lib/python3.10/site-packages/numpy/core/_methods.py:190: RuntimeWarning: invalid value encountered in divide\n",
      "  ret = ret.dtype.type(ret / rcount)\n",
      "/home/mischa/miniconda3/envs/bf/lib/python3.10/site-packages/numpy/core/_methods.py:265: RuntimeWarning: Degrees of freedom <= 0 for slice\n",
      "  ret = _var(a, axis=axis, dtype=dtype, out=out, ddof=ddof,\n",
      "/home/mischa/miniconda3/envs/bf/lib/python3.10/site-packages/numpy/core/_methods.py:223: RuntimeWarning: invalid value encountered in divide\n",
      "  arrmean = um.true_divide(arrmean, div, out=arrmean, casting='unsafe',\n",
      "/home/mischa/miniconda3/envs/bf/lib/python3.10/site-packages/numpy/core/_methods.py:257: RuntimeWarning: invalid value encountered in divide\n",
      "  ret = ret.dtype.type(ret / rcount)\n"
     ]
    },
    {
     "name": "stdout",
     "output_type": "stream",
     "text": [
      "2017iat11.txt done\n",
      "Initial shape: 26121\n",
      "After removing no age IDs: 15717\n",
      "After removing invalid IDs: 15717\n",
      "After excluding zero latency IDs: 15581\n",
      "After excluding != 120 trials IDs: 15518\n",
      "After excluding more than 50% error IDs: 15505\n",
      "After excluding zero error IDs: 14579\n",
      "Successfully read datafile 2017iat12.txt .\n",
      "Converting to X and y arrays...\n",
      "IDs with less than 20 trials <200 ms or >10 seconds: (14497, 120, 3)\n",
      "IDs with 60 trials for each condition, 60 trials for both picture and word stimuli: (14497, 120, 3)\n",
      "Final shape of RTs chunk (after once more excluding cases w/ missing age or trials):  (14497, 120, 4)\n",
      "Final shape of outcomes chunk:  (14497, 120, 4)\n"
     ]
    },
    {
     "name": "stderr",
     "output_type": "stream",
     "text": [
      "/home/mischa/miniconda3/envs/bf/lib/python3.10/site-packages/numpy/core/fromnumeric.py:3432: RuntimeWarning: Mean of empty slice.\n",
      "  return _methods._mean(a, axis=axis, dtype=dtype,\n",
      "/home/mischa/miniconda3/envs/bf/lib/python3.10/site-packages/numpy/core/_methods.py:190: RuntimeWarning: invalid value encountered in divide\n",
      "  ret = ret.dtype.type(ret / rcount)\n",
      "/home/mischa/miniconda3/envs/bf/lib/python3.10/site-packages/numpy/core/_methods.py:265: RuntimeWarning: Degrees of freedom <= 0 for slice\n",
      "  ret = _var(a, axis=axis, dtype=dtype, out=out, ddof=ddof,\n",
      "/home/mischa/miniconda3/envs/bf/lib/python3.10/site-packages/numpy/core/_methods.py:223: RuntimeWarning: invalid value encountered in divide\n",
      "  arrmean = um.true_divide(arrmean, div, out=arrmean, casting='unsafe',\n",
      "/home/mischa/miniconda3/envs/bf/lib/python3.10/site-packages/numpy/core/_methods.py:257: RuntimeWarning: invalid value encountered in divide\n",
      "  ret = ret.dtype.type(ret / rcount)\n"
     ]
    },
    {
     "name": "stdout",
     "output_type": "stream",
     "text": [
      "2017iat12.txt done\n",
      "Initial shape: 25852\n",
      "After removing no age IDs: 14598\n",
      "After removing invalid IDs: 14598\n",
      "After excluding zero latency IDs: 14498\n",
      "After excluding != 120 trials IDs: 14469\n",
      "After excluding more than 50% error IDs: 14458\n",
      "After excluding zero error IDs: 13508\n",
      "Successfully read datafile 2017iat13.txt .\n",
      "Converting to X and y arrays...\n",
      "IDs with less than 20 trials <200 ms or >10 seconds: (13421, 120, 3)\n",
      "IDs with 60 trials for each condition, 60 trials for both picture and word stimuli: (13421, 120, 3)\n",
      "Final shape of RTs chunk (after once more excluding cases w/ missing age or trials):  (13421, 120, 4)\n",
      "Final shape of outcomes chunk:  (13421, 120, 4)\n"
     ]
    },
    {
     "name": "stderr",
     "output_type": "stream",
     "text": [
      "/home/mischa/miniconda3/envs/bf/lib/python3.10/site-packages/numpy/core/fromnumeric.py:3432: RuntimeWarning: Mean of empty slice.\n",
      "  return _methods._mean(a, axis=axis, dtype=dtype,\n",
      "/home/mischa/miniconda3/envs/bf/lib/python3.10/site-packages/numpy/core/_methods.py:190: RuntimeWarning: invalid value encountered in divide\n",
      "  ret = ret.dtype.type(ret / rcount)\n",
      "/home/mischa/miniconda3/envs/bf/lib/python3.10/site-packages/numpy/core/_methods.py:265: RuntimeWarning: Degrees of freedom <= 0 for slice\n",
      "  ret = _var(a, axis=axis, dtype=dtype, out=out, ddof=ddof,\n",
      "/home/mischa/miniconda3/envs/bf/lib/python3.10/site-packages/numpy/core/_methods.py:223: RuntimeWarning: invalid value encountered in divide\n",
      "  arrmean = um.true_divide(arrmean, div, out=arrmean, casting='unsafe',\n",
      "/home/mischa/miniconda3/envs/bf/lib/python3.10/site-packages/numpy/core/_methods.py:257: RuntimeWarning: invalid value encountered in divide\n",
      "  ret = ret.dtype.type(ret / rcount)\n"
     ]
    },
    {
     "name": "stdout",
     "output_type": "stream",
     "text": [
      "2017iat13.txt done\n",
      "Initial shape: 1263\n",
      "After removing no age IDs: 694\n",
      "After removing invalid IDs: 694\n",
      "After excluding zero latency IDs: 691\n",
      "After excluding != 120 trials IDs: 690\n",
      "After excluding more than 50% error IDs: 688\n",
      "After excluding zero error IDs: 656\n",
      "Successfully read datafile 2017iat14.txt .\n",
      "Converting to X and y arrays...\n",
      "IDs with less than 20 trials <200 ms or >10 seconds: (654, 120, 3)\n",
      "IDs with 60 trials for each condition, 60 trials for both picture and word stimuli: (654, 120, 3)\n",
      "Final shape of RTs chunk (after once more excluding cases w/ missing age or trials):  (654, 120, 4)\n",
      "Final shape of outcomes chunk:  (654, 120, 4)\n"
     ]
    },
    {
     "name": "stderr",
     "output_type": "stream",
     "text": [
      "/home/mischa/miniconda3/envs/bf/lib/python3.10/site-packages/numpy/core/fromnumeric.py:3432: RuntimeWarning: Mean of empty slice.\n",
      "  return _methods._mean(a, axis=axis, dtype=dtype,\n",
      "/home/mischa/miniconda3/envs/bf/lib/python3.10/site-packages/numpy/core/_methods.py:190: RuntimeWarning: invalid value encountered in divide\n",
      "  ret = ret.dtype.type(ret / rcount)\n",
      "/home/mischa/miniconda3/envs/bf/lib/python3.10/site-packages/numpy/core/_methods.py:265: RuntimeWarning: Degrees of freedom <= 0 for slice\n",
      "  ret = _var(a, axis=axis, dtype=dtype, out=out, ddof=ddof,\n",
      "/home/mischa/miniconda3/envs/bf/lib/python3.10/site-packages/numpy/core/_methods.py:223: RuntimeWarning: invalid value encountered in divide\n",
      "  arrmean = um.true_divide(arrmean, div, out=arrmean, casting='unsafe',\n",
      "/home/mischa/miniconda3/envs/bf/lib/python3.10/site-packages/numpy/core/_methods.py:257: RuntimeWarning: invalid value encountered in divide\n",
      "  ret = ret.dtype.type(ret / rcount)\n"
     ]
    },
    {
     "name": "stdout",
     "output_type": "stream",
     "text": [
      "2017iat14.txt done\n",
      "Initial shape: 25991\n",
      "After removing no age IDs: 15984\n",
      "After removing invalid IDs: 15984\n",
      "After excluding zero latency IDs: 15922\n",
      "After excluding != 120 trials IDs: 15867\n",
      "After excluding more than 50% error IDs: 15862\n",
      "After excluding zero error IDs: 14735\n",
      "Successfully read datafile 2017iat2.txt .\n",
      "Converting to X and y arrays...\n",
      "IDs with less than 20 trials <200 ms or >10 seconds: (14697, 120, 3)\n",
      "IDs with 60 trials for each condition, 60 trials for both picture and word stimuli: (14697, 120, 3)\n",
      "Final shape of RTs chunk (after once more excluding cases w/ missing age or trials):  (14697, 120, 4)\n",
      "Final shape of outcomes chunk:  (14697, 120, 4)\n"
     ]
    },
    {
     "name": "stderr",
     "output_type": "stream",
     "text": [
      "/home/mischa/miniconda3/envs/bf/lib/python3.10/site-packages/numpy/core/fromnumeric.py:3432: RuntimeWarning: Mean of empty slice.\n",
      "  return _methods._mean(a, axis=axis, dtype=dtype,\n",
      "/home/mischa/miniconda3/envs/bf/lib/python3.10/site-packages/numpy/core/_methods.py:190: RuntimeWarning: invalid value encountered in divide\n",
      "  ret = ret.dtype.type(ret / rcount)\n",
      "/home/mischa/miniconda3/envs/bf/lib/python3.10/site-packages/numpy/core/_methods.py:265: RuntimeWarning: Degrees of freedom <= 0 for slice\n",
      "  ret = _var(a, axis=axis, dtype=dtype, out=out, ddof=ddof,\n",
      "/home/mischa/miniconda3/envs/bf/lib/python3.10/site-packages/numpy/core/_methods.py:223: RuntimeWarning: invalid value encountered in divide\n",
      "  arrmean = um.true_divide(arrmean, div, out=arrmean, casting='unsafe',\n",
      "/home/mischa/miniconda3/envs/bf/lib/python3.10/site-packages/numpy/core/_methods.py:257: RuntimeWarning: invalid value encountered in divide\n",
      "  ret = ret.dtype.type(ret / rcount)\n"
     ]
    },
    {
     "name": "stdout",
     "output_type": "stream",
     "text": [
      "2017iat2.txt done\n",
      "Initial shape: 25905\n",
      "After removing no age IDs: 15598\n",
      "After removing invalid IDs: 15598\n",
      "After excluding zero latency IDs: 15531\n",
      "After excluding != 120 trials IDs: 15484\n",
      "After excluding more than 50% error IDs: 15471\n",
      "After excluding zero error IDs: 14473\n",
      "Successfully read datafile 2017iat3.txt .\n",
      "Converting to X and y arrays...\n",
      "IDs with less than 20 trials <200 ms or >10 seconds: (14401, 120, 3)\n",
      "IDs with 60 trials for each condition, 60 trials for both picture and word stimuli: (14401, 120, 3)\n",
      "Final shape of RTs chunk (after once more excluding cases w/ missing age or trials):  (14401, 120, 4)\n",
      "Final shape of outcomes chunk:  (14401, 120, 4)\n"
     ]
    },
    {
     "name": "stderr",
     "output_type": "stream",
     "text": [
      "/home/mischa/miniconda3/envs/bf/lib/python3.10/site-packages/numpy/core/fromnumeric.py:3432: RuntimeWarning: Mean of empty slice.\n",
      "  return _methods._mean(a, axis=axis, dtype=dtype,\n",
      "/home/mischa/miniconda3/envs/bf/lib/python3.10/site-packages/numpy/core/_methods.py:190: RuntimeWarning: invalid value encountered in divide\n",
      "  ret = ret.dtype.type(ret / rcount)\n",
      "/home/mischa/miniconda3/envs/bf/lib/python3.10/site-packages/numpy/core/_methods.py:265: RuntimeWarning: Degrees of freedom <= 0 for slice\n",
      "  ret = _var(a, axis=axis, dtype=dtype, out=out, ddof=ddof,\n",
      "/home/mischa/miniconda3/envs/bf/lib/python3.10/site-packages/numpy/core/_methods.py:223: RuntimeWarning: invalid value encountered in divide\n",
      "  arrmean = um.true_divide(arrmean, div, out=arrmean, casting='unsafe',\n",
      "/home/mischa/miniconda3/envs/bf/lib/python3.10/site-packages/numpy/core/_methods.py:257: RuntimeWarning: invalid value encountered in divide\n",
      "  ret = ret.dtype.type(ret / rcount)\n"
     ]
    },
    {
     "name": "stdout",
     "output_type": "stream",
     "text": [
      "2017iat3.txt done\n",
      "Initial shape: 26014\n",
      "After removing no age IDs: 15364\n",
      "After removing invalid IDs: 15364\n",
      "After excluding zero latency IDs: 15294\n",
      "After excluding != 120 trials IDs: 15241\n",
      "After excluding more than 50% error IDs: 15222\n",
      "After excluding zero error IDs: 14194\n",
      "Successfully read datafile 2017iat4.txt .\n",
      "Converting to X and y arrays...\n",
      "IDs with less than 20 trials <200 ms or >10 seconds: (14113, 120, 3)\n",
      "IDs with 60 trials for each condition, 60 trials for both picture and word stimuli: (14113, 120, 3)\n",
      "Final shape of RTs chunk (after once more excluding cases w/ missing age or trials):  (14113, 120, 4)\n",
      "Final shape of outcomes chunk:  (14113, 120, 4)\n"
     ]
    },
    {
     "name": "stderr",
     "output_type": "stream",
     "text": [
      "/home/mischa/miniconda3/envs/bf/lib/python3.10/site-packages/numpy/core/fromnumeric.py:3432: RuntimeWarning: Mean of empty slice.\n",
      "  return _methods._mean(a, axis=axis, dtype=dtype,\n",
      "/home/mischa/miniconda3/envs/bf/lib/python3.10/site-packages/numpy/core/_methods.py:190: RuntimeWarning: invalid value encountered in divide\n",
      "  ret = ret.dtype.type(ret / rcount)\n",
      "/home/mischa/miniconda3/envs/bf/lib/python3.10/site-packages/numpy/core/_methods.py:265: RuntimeWarning: Degrees of freedom <= 0 for slice\n",
      "  ret = _var(a, axis=axis, dtype=dtype, out=out, ddof=ddof,\n",
      "/home/mischa/miniconda3/envs/bf/lib/python3.10/site-packages/numpy/core/_methods.py:223: RuntimeWarning: invalid value encountered in divide\n",
      "  arrmean = um.true_divide(arrmean, div, out=arrmean, casting='unsafe',\n",
      "/home/mischa/miniconda3/envs/bf/lib/python3.10/site-packages/numpy/core/_methods.py:257: RuntimeWarning: invalid value encountered in divide\n",
      "  ret = ret.dtype.type(ret / rcount)\n"
     ]
    },
    {
     "name": "stdout",
     "output_type": "stream",
     "text": [
      "2017iat4.txt done\n",
      "Initial shape: 26001\n",
      "After removing no age IDs: 15001\n",
      "After removing invalid IDs: 15001\n",
      "After excluding zero latency IDs: 14920\n",
      "After excluding != 120 trials IDs: 14875\n",
      "After excluding more than 50% error IDs: 14858\n",
      "After excluding zero error IDs: 14004\n",
      "Successfully read datafile 2017iat5.txt .\n",
      "Converting to X and y arrays...\n",
      "IDs with less than 20 trials <200 ms or >10 seconds: (13901, 120, 3)\n",
      "IDs with 60 trials for each condition, 60 trials for both picture and word stimuli: (13901, 120, 3)\n",
      "Final shape of RTs chunk (after once more excluding cases w/ missing age or trials):  (13901, 120, 4)\n",
      "Final shape of outcomes chunk:  (13901, 120, 4)\n"
     ]
    },
    {
     "name": "stderr",
     "output_type": "stream",
     "text": [
      "/home/mischa/miniconda3/envs/bf/lib/python3.10/site-packages/numpy/core/fromnumeric.py:3432: RuntimeWarning: Mean of empty slice.\n",
      "  return _methods._mean(a, axis=axis, dtype=dtype,\n",
      "/home/mischa/miniconda3/envs/bf/lib/python3.10/site-packages/numpy/core/_methods.py:190: RuntimeWarning: invalid value encountered in divide\n",
      "  ret = ret.dtype.type(ret / rcount)\n",
      "/home/mischa/miniconda3/envs/bf/lib/python3.10/site-packages/numpy/core/_methods.py:265: RuntimeWarning: Degrees of freedom <= 0 for slice\n",
      "  ret = _var(a, axis=axis, dtype=dtype, out=out, ddof=ddof,\n",
      "/home/mischa/miniconda3/envs/bf/lib/python3.10/site-packages/numpy/core/_methods.py:223: RuntimeWarning: invalid value encountered in divide\n",
      "  arrmean = um.true_divide(arrmean, div, out=arrmean, casting='unsafe',\n",
      "/home/mischa/miniconda3/envs/bf/lib/python3.10/site-packages/numpy/core/_methods.py:257: RuntimeWarning: invalid value encountered in divide\n",
      "  ret = ret.dtype.type(ret / rcount)\n"
     ]
    },
    {
     "name": "stdout",
     "output_type": "stream",
     "text": [
      "2017iat5.txt done\n",
      "Initial shape: 25909\n",
      "After removing no age IDs: 14612\n",
      "After removing invalid IDs: 14612\n",
      "After excluding zero latency IDs: 14550\n",
      "After excluding != 120 trials IDs: 14518\n",
      "After excluding more than 50% error IDs: 14503\n",
      "After excluding zero error IDs: 13538\n",
      "Successfully read datafile 2017iat6.txt .\n",
      "Converting to X and y arrays...\n",
      "IDs with less than 20 trials <200 ms or >10 seconds: (13450, 120, 3)\n",
      "IDs with 60 trials for each condition, 60 trials for both picture and word stimuli: (13450, 120, 3)\n",
      "Final shape of RTs chunk (after once more excluding cases w/ missing age or trials):  (13450, 120, 4)\n",
      "Final shape of outcomes chunk:  (13450, 120, 4)\n"
     ]
    },
    {
     "name": "stderr",
     "output_type": "stream",
     "text": [
      "/home/mischa/miniconda3/envs/bf/lib/python3.10/site-packages/numpy/core/fromnumeric.py:3432: RuntimeWarning: Mean of empty slice.\n",
      "  return _methods._mean(a, axis=axis, dtype=dtype,\n",
      "/home/mischa/miniconda3/envs/bf/lib/python3.10/site-packages/numpy/core/_methods.py:190: RuntimeWarning: invalid value encountered in divide\n",
      "  ret = ret.dtype.type(ret / rcount)\n",
      "/home/mischa/miniconda3/envs/bf/lib/python3.10/site-packages/numpy/core/_methods.py:265: RuntimeWarning: Degrees of freedom <= 0 for slice\n",
      "  ret = _var(a, axis=axis, dtype=dtype, out=out, ddof=ddof,\n",
      "/home/mischa/miniconda3/envs/bf/lib/python3.10/site-packages/numpy/core/_methods.py:223: RuntimeWarning: invalid value encountered in divide\n",
      "  arrmean = um.true_divide(arrmean, div, out=arrmean, casting='unsafe',\n",
      "/home/mischa/miniconda3/envs/bf/lib/python3.10/site-packages/numpy/core/_methods.py:257: RuntimeWarning: invalid value encountered in divide\n",
      "  ret = ret.dtype.type(ret / rcount)\n"
     ]
    },
    {
     "name": "stdout",
     "output_type": "stream",
     "text": [
      "2017iat6.txt done\n",
      "Initial shape: 25975\n",
      "After removing no age IDs: 14887\n",
      "After removing invalid IDs: 14887\n",
      "After excluding zero latency IDs: 14858\n",
      "After excluding != 120 trials IDs: 14700\n",
      "After excluding more than 50% error IDs: 14692\n",
      "After excluding zero error IDs: 13459\n",
      "Successfully read datafile 2017iat7.txt .\n",
      "Converting to X and y arrays...\n",
      "IDs with less than 20 trials <200 ms or >10 seconds: (13429, 120, 3)\n",
      "IDs with 60 trials for each condition, 60 trials for both picture and word stimuli: (13429, 120, 3)\n",
      "Final shape of RTs chunk (after once more excluding cases w/ missing age or trials):  (13429, 120, 4)\n",
      "Final shape of outcomes chunk:  (13429, 120, 4)\n"
     ]
    },
    {
     "name": "stderr",
     "output_type": "stream",
     "text": [
      "/home/mischa/miniconda3/envs/bf/lib/python3.10/site-packages/numpy/core/fromnumeric.py:3432: RuntimeWarning: Mean of empty slice.\n",
      "  return _methods._mean(a, axis=axis, dtype=dtype,\n",
      "/home/mischa/miniconda3/envs/bf/lib/python3.10/site-packages/numpy/core/_methods.py:190: RuntimeWarning: invalid value encountered in divide\n",
      "  ret = ret.dtype.type(ret / rcount)\n",
      "/home/mischa/miniconda3/envs/bf/lib/python3.10/site-packages/numpy/core/_methods.py:265: RuntimeWarning: Degrees of freedom <= 0 for slice\n",
      "  ret = _var(a, axis=axis, dtype=dtype, out=out, ddof=ddof,\n",
      "/home/mischa/miniconda3/envs/bf/lib/python3.10/site-packages/numpy/core/_methods.py:223: RuntimeWarning: invalid value encountered in divide\n",
      "  arrmean = um.true_divide(arrmean, div, out=arrmean, casting='unsafe',\n",
      "/home/mischa/miniconda3/envs/bf/lib/python3.10/site-packages/numpy/core/_methods.py:257: RuntimeWarning: invalid value encountered in divide\n",
      "  ret = ret.dtype.type(ret / rcount)\n"
     ]
    },
    {
     "name": "stdout",
     "output_type": "stream",
     "text": [
      "2017iat7.txt done\n",
      "Initial shape: 25977\n",
      "After removing no age IDs: 16274\n",
      "After removing invalid IDs: 16274\n",
      "After excluding zero latency IDs: 16212\n",
      "After excluding != 120 trials IDs: 16163\n",
      "After excluding more than 50% error IDs: 16153\n",
      "After excluding zero error IDs: 14799\n",
      "Successfully read datafile 2017iat8.txt .\n",
      "Converting to X and y arrays...\n",
      "IDs with less than 20 trials <200 ms or >10 seconds: (14774, 120, 3)\n",
      "IDs with 60 trials for each condition, 60 trials for both picture and word stimuli: (14774, 120, 3)\n",
      "Final shape of RTs chunk (after once more excluding cases w/ missing age or trials):  (14774, 120, 4)\n",
      "Final shape of outcomes chunk:  (14774, 120, 4)\n"
     ]
    },
    {
     "name": "stderr",
     "output_type": "stream",
     "text": [
      "/home/mischa/miniconda3/envs/bf/lib/python3.10/site-packages/numpy/core/fromnumeric.py:3432: RuntimeWarning: Mean of empty slice.\n",
      "  return _methods._mean(a, axis=axis, dtype=dtype,\n",
      "/home/mischa/miniconda3/envs/bf/lib/python3.10/site-packages/numpy/core/_methods.py:190: RuntimeWarning: invalid value encountered in divide\n",
      "  ret = ret.dtype.type(ret / rcount)\n",
      "/home/mischa/miniconda3/envs/bf/lib/python3.10/site-packages/numpy/core/_methods.py:265: RuntimeWarning: Degrees of freedom <= 0 for slice\n",
      "  ret = _var(a, axis=axis, dtype=dtype, out=out, ddof=ddof,\n",
      "/home/mischa/miniconda3/envs/bf/lib/python3.10/site-packages/numpy/core/_methods.py:223: RuntimeWarning: invalid value encountered in divide\n",
      "  arrmean = um.true_divide(arrmean, div, out=arrmean, casting='unsafe',\n",
      "/home/mischa/miniconda3/envs/bf/lib/python3.10/site-packages/numpy/core/_methods.py:257: RuntimeWarning: invalid value encountered in divide\n",
      "  ret = ret.dtype.type(ret / rcount)\n"
     ]
    },
    {
     "name": "stdout",
     "output_type": "stream",
     "text": [
      "2017iat8.txt done\n",
      "Initial shape: 25811\n",
      "After removing no age IDs: 16001\n",
      "After removing invalid IDs: 16001\n",
      "After excluding zero latency IDs: 15894\n",
      "After excluding != 120 trials IDs: 15848\n",
      "After excluding more than 50% error IDs: 15833\n",
      "After excluding zero error IDs: 14770\n",
      "Successfully read datafile 2017iat9.txt .\n",
      "Converting to X and y arrays...\n",
      "IDs with less than 20 trials <200 ms or >10 seconds: (14713, 120, 3)\n",
      "IDs with 60 trials for each condition, 60 trials for both picture and word stimuli: (14713, 120, 3)\n",
      "Final shape of RTs chunk (after once more excluding cases w/ missing age or trials):  (14713, 120, 4)\n",
      "Final shape of outcomes chunk:  (14713, 120, 4)\n"
     ]
    },
    {
     "name": "stderr",
     "output_type": "stream",
     "text": [
      "/home/mischa/miniconda3/envs/bf/lib/python3.10/site-packages/numpy/core/fromnumeric.py:3432: RuntimeWarning: Mean of empty slice.\n",
      "  return _methods._mean(a, axis=axis, dtype=dtype,\n",
      "/home/mischa/miniconda3/envs/bf/lib/python3.10/site-packages/numpy/core/_methods.py:190: RuntimeWarning: invalid value encountered in divide\n",
      "  ret = ret.dtype.type(ret / rcount)\n",
      "/home/mischa/miniconda3/envs/bf/lib/python3.10/site-packages/numpy/core/_methods.py:265: RuntimeWarning: Degrees of freedom <= 0 for slice\n",
      "  ret = _var(a, axis=axis, dtype=dtype, out=out, ddof=ddof,\n",
      "/home/mischa/miniconda3/envs/bf/lib/python3.10/site-packages/numpy/core/_methods.py:223: RuntimeWarning: invalid value encountered in divide\n",
      "  arrmean = um.true_divide(arrmean, div, out=arrmean, casting='unsafe',\n",
      "/home/mischa/miniconda3/envs/bf/lib/python3.10/site-packages/numpy/core/_methods.py:257: RuntimeWarning: invalid value encountered in divide\n",
      "  ret = ret.dtype.type(ret / rcount)\n"
     ]
    },
    {
     "name": "stdout",
     "output_type": "stream",
     "text": [
      "2017iat9.txt done\n",
      "Initial shape: 26047\n",
      "After removing no age IDs: 15763\n",
      "After removing invalid IDs: 15763\n",
      "After excluding zero latency IDs: 15634\n",
      "After excluding != 120 trials IDs: 15601\n",
      "After excluding more than 50% error IDs: 15588\n",
      "After excluding zero error IDs: 14469\n",
      "Successfully read datafile 2018iat.txt .\n",
      "Converting to X and y arrays...\n",
      "IDs with less than 20 trials <200 ms or >10 seconds: (14396, 120, 3)\n",
      "IDs with 60 trials for each condition, 60 trials for both picture and word stimuli: (14396, 120, 3)\n",
      "Final shape of RTs chunk (after once more excluding cases w/ missing age or trials):  (14396, 120, 4)\n",
      "Final shape of outcomes chunk:  (14396, 120, 4)\n"
     ]
    },
    {
     "name": "stderr",
     "output_type": "stream",
     "text": [
      "/home/mischa/miniconda3/envs/bf/lib/python3.10/site-packages/numpy/core/fromnumeric.py:3432: RuntimeWarning: Mean of empty slice.\n",
      "  return _methods._mean(a, axis=axis, dtype=dtype,\n",
      "/home/mischa/miniconda3/envs/bf/lib/python3.10/site-packages/numpy/core/_methods.py:190: RuntimeWarning: invalid value encountered in divide\n",
      "  ret = ret.dtype.type(ret / rcount)\n",
      "/home/mischa/miniconda3/envs/bf/lib/python3.10/site-packages/numpy/core/_methods.py:265: RuntimeWarning: Degrees of freedom <= 0 for slice\n",
      "  ret = _var(a, axis=axis, dtype=dtype, out=out, ddof=ddof,\n",
      "/home/mischa/miniconda3/envs/bf/lib/python3.10/site-packages/numpy/core/_methods.py:223: RuntimeWarning: invalid value encountered in divide\n",
      "  arrmean = um.true_divide(arrmean, div, out=arrmean, casting='unsafe',\n",
      "/home/mischa/miniconda3/envs/bf/lib/python3.10/site-packages/numpy/core/_methods.py:257: RuntimeWarning: invalid value encountered in divide\n",
      "  ret = ret.dtype.type(ret / rcount)\n"
     ]
    },
    {
     "name": "stdout",
     "output_type": "stream",
     "text": [
      "2018iat.txt done\n",
      "Initial shape: 25886\n",
      "After removing no age IDs: 15808\n",
      "After removing invalid IDs: 15808\n",
      "After excluding zero latency IDs: 15714\n",
      "After excluding != 120 trials IDs: 15687\n",
      "After excluding more than 50% error IDs: 15675\n",
      "After excluding zero error IDs: 14587\n",
      "Successfully read datafile 2018iat10.txt .\n",
      "Converting to X and y arrays...\n",
      "IDs with less than 20 trials <200 ms or >10 seconds: (14502, 120, 3)\n",
      "IDs with 60 trials for each condition, 60 trials for both picture and word stimuli: (14502, 120, 3)\n",
      "Final shape of RTs chunk (after once more excluding cases w/ missing age or trials):  (14502, 120, 4)\n",
      "Final shape of outcomes chunk:  (14502, 120, 4)\n"
     ]
    },
    {
     "name": "stderr",
     "output_type": "stream",
     "text": [
      "/home/mischa/miniconda3/envs/bf/lib/python3.10/site-packages/numpy/core/fromnumeric.py:3432: RuntimeWarning: Mean of empty slice.\n",
      "  return _methods._mean(a, axis=axis, dtype=dtype,\n",
      "/home/mischa/miniconda3/envs/bf/lib/python3.10/site-packages/numpy/core/_methods.py:190: RuntimeWarning: invalid value encountered in divide\n",
      "  ret = ret.dtype.type(ret / rcount)\n",
      "/home/mischa/miniconda3/envs/bf/lib/python3.10/site-packages/numpy/core/_methods.py:265: RuntimeWarning: Degrees of freedom <= 0 for slice\n",
      "  ret = _var(a, axis=axis, dtype=dtype, out=out, ddof=ddof,\n",
      "/home/mischa/miniconda3/envs/bf/lib/python3.10/site-packages/numpy/core/_methods.py:223: RuntimeWarning: invalid value encountered in divide\n",
      "  arrmean = um.true_divide(arrmean, div, out=arrmean, casting='unsafe',\n",
      "/home/mischa/miniconda3/envs/bf/lib/python3.10/site-packages/numpy/core/_methods.py:257: RuntimeWarning: invalid value encountered in divide\n",
      "  ret = ret.dtype.type(ret / rcount)\n"
     ]
    },
    {
     "name": "stdout",
     "output_type": "stream",
     "text": [
      "2018iat10.txt done\n",
      "Initial shape: 25994\n",
      "After removing no age IDs: 15741\n",
      "After removing invalid IDs: 15741\n",
      "After excluding zero latency IDs: 15635\n",
      "After excluding != 120 trials IDs: 15613\n",
      "After excluding more than 50% error IDs: 15597\n",
      "After excluding zero error IDs: 14571\n",
      "Successfully read datafile 2018iat11.txt .\n",
      "Converting to X and y arrays...\n",
      "IDs with less than 20 trials <200 ms or >10 seconds: (14504, 120, 3)\n",
      "IDs with 60 trials for each condition, 60 trials for both picture and word stimuli: (14504, 120, 3)\n",
      "Final shape of RTs chunk (after once more excluding cases w/ missing age or trials):  (14504, 120, 4)\n",
      "Final shape of outcomes chunk:  (14504, 120, 4)\n"
     ]
    },
    {
     "name": "stderr",
     "output_type": "stream",
     "text": [
      "/home/mischa/miniconda3/envs/bf/lib/python3.10/site-packages/numpy/core/fromnumeric.py:3432: RuntimeWarning: Mean of empty slice.\n",
      "  return _methods._mean(a, axis=axis, dtype=dtype,\n",
      "/home/mischa/miniconda3/envs/bf/lib/python3.10/site-packages/numpy/core/_methods.py:190: RuntimeWarning: invalid value encountered in divide\n",
      "  ret = ret.dtype.type(ret / rcount)\n",
      "/home/mischa/miniconda3/envs/bf/lib/python3.10/site-packages/numpy/core/_methods.py:265: RuntimeWarning: Degrees of freedom <= 0 for slice\n",
      "  ret = _var(a, axis=axis, dtype=dtype, out=out, ddof=ddof,\n",
      "/home/mischa/miniconda3/envs/bf/lib/python3.10/site-packages/numpy/core/_methods.py:223: RuntimeWarning: invalid value encountered in divide\n",
      "  arrmean = um.true_divide(arrmean, div, out=arrmean, casting='unsafe',\n",
      "/home/mischa/miniconda3/envs/bf/lib/python3.10/site-packages/numpy/core/_methods.py:257: RuntimeWarning: invalid value encountered in divide\n",
      "  ret = ret.dtype.type(ret / rcount)\n"
     ]
    },
    {
     "name": "stdout",
     "output_type": "stream",
     "text": [
      "2018iat11.txt done\n",
      "Initial shape: 26006\n",
      "After removing no age IDs: 14931\n",
      "After removing invalid IDs: 14931\n",
      "After excluding zero latency IDs: 14827\n",
      "After excluding != 120 trials IDs: 14813\n",
      "After excluding more than 50% error IDs: 14796\n",
      "After excluding zero error IDs: 13842\n",
      "Successfully read datafile 2018iat12.txt .\n",
      "Converting to X and y arrays...\n",
      "IDs with less than 20 trials <200 ms or >10 seconds: (13730, 120, 3)\n",
      "IDs with 60 trials for each condition, 60 trials for both picture and word stimuli: (13730, 120, 3)\n",
      "Final shape of RTs chunk (after once more excluding cases w/ missing age or trials):  (13730, 120, 4)\n",
      "Final shape of outcomes chunk:  (13730, 120, 4)\n"
     ]
    },
    {
     "name": "stderr",
     "output_type": "stream",
     "text": [
      "/home/mischa/miniconda3/envs/bf/lib/python3.10/site-packages/numpy/core/fromnumeric.py:3432: RuntimeWarning: Mean of empty slice.\n",
      "  return _methods._mean(a, axis=axis, dtype=dtype,\n",
      "/home/mischa/miniconda3/envs/bf/lib/python3.10/site-packages/numpy/core/_methods.py:190: RuntimeWarning: invalid value encountered in divide\n",
      "  ret = ret.dtype.type(ret / rcount)\n",
      "/home/mischa/miniconda3/envs/bf/lib/python3.10/site-packages/numpy/core/_methods.py:265: RuntimeWarning: Degrees of freedom <= 0 for slice\n",
      "  ret = _var(a, axis=axis, dtype=dtype, out=out, ddof=ddof,\n",
      "/home/mischa/miniconda3/envs/bf/lib/python3.10/site-packages/numpy/core/_methods.py:223: RuntimeWarning: invalid value encountered in divide\n",
      "  arrmean = um.true_divide(arrmean, div, out=arrmean, casting='unsafe',\n",
      "/home/mischa/miniconda3/envs/bf/lib/python3.10/site-packages/numpy/core/_methods.py:257: RuntimeWarning: invalid value encountered in divide\n",
      "  ret = ret.dtype.type(ret / rcount)\n"
     ]
    },
    {
     "name": "stdout",
     "output_type": "stream",
     "text": [
      "2018iat12.txt done\n",
      "Initial shape: 8139\n",
      "After removing no age IDs: 4637\n",
      "After removing invalid IDs: 4637\n",
      "After excluding zero latency IDs: 4616\n",
      "After excluding != 120 trials IDs: 4610\n",
      "After excluding more than 50% error IDs: 4606\n",
      "After excluding zero error IDs: 4239\n",
      "Successfully read datafile 2018iat13.txt .\n",
      "Converting to X and y arrays...\n",
      "IDs with less than 20 trials <200 ms or >10 seconds: (4213, 120, 3)\n",
      "IDs with 60 trials for each condition, 60 trials for both picture and word stimuli: (4213, 120, 3)\n",
      "Final shape of RTs chunk (after once more excluding cases w/ missing age or trials):  (4213, 120, 4)\n",
      "Final shape of outcomes chunk:  (4213, 120, 4)\n"
     ]
    },
    {
     "name": "stderr",
     "output_type": "stream",
     "text": [
      "/home/mischa/miniconda3/envs/bf/lib/python3.10/site-packages/numpy/core/fromnumeric.py:3432: RuntimeWarning: Mean of empty slice.\n",
      "  return _methods._mean(a, axis=axis, dtype=dtype,\n",
      "/home/mischa/miniconda3/envs/bf/lib/python3.10/site-packages/numpy/core/_methods.py:190: RuntimeWarning: invalid value encountered in divide\n",
      "  ret = ret.dtype.type(ret / rcount)\n",
      "/home/mischa/miniconda3/envs/bf/lib/python3.10/site-packages/numpy/core/_methods.py:265: RuntimeWarning: Degrees of freedom <= 0 for slice\n",
      "  ret = _var(a, axis=axis, dtype=dtype, out=out, ddof=ddof,\n",
      "/home/mischa/miniconda3/envs/bf/lib/python3.10/site-packages/numpy/core/_methods.py:223: RuntimeWarning: invalid value encountered in divide\n",
      "  arrmean = um.true_divide(arrmean, div, out=arrmean, casting='unsafe',\n",
      "/home/mischa/miniconda3/envs/bf/lib/python3.10/site-packages/numpy/core/_methods.py:257: RuntimeWarning: invalid value encountered in divide\n",
      "  ret = ret.dtype.type(ret / rcount)\n"
     ]
    },
    {
     "name": "stdout",
     "output_type": "stream",
     "text": [
      "2018iat13.txt done\n",
      "Initial shape: 25931\n",
      "After removing no age IDs: 15525\n",
      "After removing invalid IDs: 15525\n",
      "After excluding zero latency IDs: 15398\n",
      "After excluding != 120 trials IDs: 15361\n",
      "After excluding more than 50% error IDs: 15352\n",
      "After excluding zero error IDs: 14411\n",
      "Successfully read datafile 2018iat2.txt .\n",
      "Converting to X and y arrays...\n",
      "IDs with less than 20 trials <200 ms or >10 seconds: (14327, 120, 3)\n",
      "IDs with 60 trials for each condition, 60 trials for both picture and word stimuli: (14327, 120, 3)\n",
      "Final shape of RTs chunk (after once more excluding cases w/ missing age or trials):  (14327, 120, 4)\n",
      "Final shape of outcomes chunk:  (14327, 120, 4)\n"
     ]
    },
    {
     "name": "stderr",
     "output_type": "stream",
     "text": [
      "/home/mischa/miniconda3/envs/bf/lib/python3.10/site-packages/numpy/core/fromnumeric.py:3432: RuntimeWarning: Mean of empty slice.\n",
      "  return _methods._mean(a, axis=axis, dtype=dtype,\n",
      "/home/mischa/miniconda3/envs/bf/lib/python3.10/site-packages/numpy/core/_methods.py:190: RuntimeWarning: invalid value encountered in divide\n",
      "  ret = ret.dtype.type(ret / rcount)\n",
      "/home/mischa/miniconda3/envs/bf/lib/python3.10/site-packages/numpy/core/_methods.py:265: RuntimeWarning: Degrees of freedom <= 0 for slice\n",
      "  ret = _var(a, axis=axis, dtype=dtype, out=out, ddof=ddof,\n",
      "/home/mischa/miniconda3/envs/bf/lib/python3.10/site-packages/numpy/core/_methods.py:223: RuntimeWarning: invalid value encountered in divide\n",
      "  arrmean = um.true_divide(arrmean, div, out=arrmean, casting='unsafe',\n",
      "/home/mischa/miniconda3/envs/bf/lib/python3.10/site-packages/numpy/core/_methods.py:257: RuntimeWarning: invalid value encountered in divide\n",
      "  ret = ret.dtype.type(ret / rcount)\n"
     ]
    },
    {
     "name": "stdout",
     "output_type": "stream",
     "text": [
      "2018iat2.txt done\n",
      "Initial shape: 25660\n",
      "After removing no age IDs: 15198\n",
      "After removing invalid IDs: 15198\n",
      "After excluding zero latency IDs: 15098\n",
      "After excluding != 120 trials IDs: 15058\n",
      "After excluding more than 50% error IDs: 15047\n",
      "After excluding zero error IDs: 14048\n",
      "Successfully read datafile 2018iat3.txt .\n",
      "Converting to X and y arrays...\n",
      "IDs with less than 20 trials <200 ms or >10 seconds: (13974, 120, 3)\n",
      "IDs with 60 trials for each condition, 60 trials for both picture and word stimuli: (13974, 120, 3)\n",
      "Final shape of RTs chunk (after once more excluding cases w/ missing age or trials):  (13974, 120, 4)\n",
      "Final shape of outcomes chunk:  (13974, 120, 4)\n"
     ]
    },
    {
     "name": "stderr",
     "output_type": "stream",
     "text": [
      "/home/mischa/miniconda3/envs/bf/lib/python3.10/site-packages/numpy/core/fromnumeric.py:3432: RuntimeWarning: Mean of empty slice.\n",
      "  return _methods._mean(a, axis=axis, dtype=dtype,\n",
      "/home/mischa/miniconda3/envs/bf/lib/python3.10/site-packages/numpy/core/_methods.py:190: RuntimeWarning: invalid value encountered in divide\n",
      "  ret = ret.dtype.type(ret / rcount)\n",
      "/home/mischa/miniconda3/envs/bf/lib/python3.10/site-packages/numpy/core/_methods.py:265: RuntimeWarning: Degrees of freedom <= 0 for slice\n",
      "  ret = _var(a, axis=axis, dtype=dtype, out=out, ddof=ddof,\n",
      "/home/mischa/miniconda3/envs/bf/lib/python3.10/site-packages/numpy/core/_methods.py:223: RuntimeWarning: invalid value encountered in divide\n",
      "  arrmean = um.true_divide(arrmean, div, out=arrmean, casting='unsafe',\n",
      "/home/mischa/miniconda3/envs/bf/lib/python3.10/site-packages/numpy/core/_methods.py:257: RuntimeWarning: invalid value encountered in divide\n",
      "  ret = ret.dtype.type(ret / rcount)\n"
     ]
    },
    {
     "name": "stdout",
     "output_type": "stream",
     "text": [
      "2018iat3.txt done\n",
      "Initial shape: 25748\n",
      "After removing no age IDs: 14968\n",
      "After removing invalid IDs: 14968\n",
      "After excluding zero latency IDs: 14848\n",
      "After excluding != 120 trials IDs: 14800\n",
      "After excluding more than 50% error IDs: 14788\n",
      "After excluding zero error IDs: 13887\n",
      "Successfully read datafile 2018iat4.txt .\n",
      "Converting to X and y arrays...\n",
      "IDs with less than 20 trials <200 ms or >10 seconds: (13819, 120, 3)\n",
      "IDs with 60 trials for each condition, 60 trials for both picture and word stimuli: (13819, 120, 3)\n",
      "Final shape of RTs chunk (after once more excluding cases w/ missing age or trials):  (13819, 120, 4)\n",
      "Final shape of outcomes chunk:  (13819, 120, 4)\n"
     ]
    },
    {
     "name": "stderr",
     "output_type": "stream",
     "text": [
      "/home/mischa/miniconda3/envs/bf/lib/python3.10/site-packages/numpy/core/fromnumeric.py:3432: RuntimeWarning: Mean of empty slice.\n",
      "  return _methods._mean(a, axis=axis, dtype=dtype,\n",
      "/home/mischa/miniconda3/envs/bf/lib/python3.10/site-packages/numpy/core/_methods.py:190: RuntimeWarning: invalid value encountered in divide\n",
      "  ret = ret.dtype.type(ret / rcount)\n",
      "/home/mischa/miniconda3/envs/bf/lib/python3.10/site-packages/numpy/core/_methods.py:265: RuntimeWarning: Degrees of freedom <= 0 for slice\n",
      "  ret = _var(a, axis=axis, dtype=dtype, out=out, ddof=ddof,\n",
      "/home/mischa/miniconda3/envs/bf/lib/python3.10/site-packages/numpy/core/_methods.py:223: RuntimeWarning: invalid value encountered in divide\n",
      "  arrmean = um.true_divide(arrmean, div, out=arrmean, casting='unsafe',\n",
      "/home/mischa/miniconda3/envs/bf/lib/python3.10/site-packages/numpy/core/_methods.py:257: RuntimeWarning: invalid value encountered in divide\n",
      "  ret = ret.dtype.type(ret / rcount)\n"
     ]
    },
    {
     "name": "stdout",
     "output_type": "stream",
     "text": [
      "2018iat4.txt done\n",
      "Initial shape: 26048\n",
      "After removing no age IDs: 14759\n",
      "After removing invalid IDs: 14759\n",
      "After excluding zero latency IDs: 14664\n",
      "After excluding != 120 trials IDs: 14620\n",
      "After excluding more than 50% error IDs: 14603\n",
      "After excluding zero error IDs: 13650\n",
      "Successfully read datafile 2018iat5.txt .\n",
      "Converting to X and y arrays...\n",
      "IDs with less than 20 trials <200 ms or >10 seconds: (13575, 120, 3)\n",
      "IDs with 60 trials for each condition, 60 trials for both picture and word stimuli: (13575, 120, 3)\n",
      "Final shape of RTs chunk (after once more excluding cases w/ missing age or trials):  (13575, 120, 4)\n",
      "Final shape of outcomes chunk:  (13575, 120, 4)\n"
     ]
    },
    {
     "name": "stderr",
     "output_type": "stream",
     "text": [
      "/home/mischa/miniconda3/envs/bf/lib/python3.10/site-packages/numpy/core/fromnumeric.py:3432: RuntimeWarning: Mean of empty slice.\n",
      "  return _methods._mean(a, axis=axis, dtype=dtype,\n",
      "/home/mischa/miniconda3/envs/bf/lib/python3.10/site-packages/numpy/core/_methods.py:190: RuntimeWarning: invalid value encountered in divide\n",
      "  ret = ret.dtype.type(ret / rcount)\n",
      "/home/mischa/miniconda3/envs/bf/lib/python3.10/site-packages/numpy/core/_methods.py:265: RuntimeWarning: Degrees of freedom <= 0 for slice\n",
      "  ret = _var(a, axis=axis, dtype=dtype, out=out, ddof=ddof,\n",
      "/home/mischa/miniconda3/envs/bf/lib/python3.10/site-packages/numpy/core/_methods.py:223: RuntimeWarning: invalid value encountered in divide\n",
      "  arrmean = um.true_divide(arrmean, div, out=arrmean, casting='unsafe',\n",
      "/home/mischa/miniconda3/envs/bf/lib/python3.10/site-packages/numpy/core/_methods.py:257: RuntimeWarning: invalid value encountered in divide\n",
      "  ret = ret.dtype.type(ret / rcount)\n"
     ]
    },
    {
     "name": "stdout",
     "output_type": "stream",
     "text": [
      "2018iat5.txt done\n",
      "Initial shape: 25995\n",
      "After removing no age IDs: 14995\n",
      "After removing invalid IDs: 14995\n",
      "After excluding zero latency IDs: 14922\n",
      "After excluding != 120 trials IDs: 14886\n",
      "After excluding more than 50% error IDs: 14876\n",
      "After excluding zero error IDs: 13689\n",
      "Successfully read datafile 2018iat6.txt .\n",
      "Converting to X and y arrays...\n",
      "IDs with less than 20 trials <200 ms or >10 seconds: (13603, 120, 3)\n",
      "IDs with 60 trials for each condition, 60 trials for both picture and word stimuli: (13603, 120, 3)\n",
      "Final shape of RTs chunk (after once more excluding cases w/ missing age or trials):  (13603, 120, 4)\n",
      "Final shape of outcomes chunk:  (13603, 120, 4)\n"
     ]
    },
    {
     "name": "stderr",
     "output_type": "stream",
     "text": [
      "/home/mischa/miniconda3/envs/bf/lib/python3.10/site-packages/numpy/core/fromnumeric.py:3432: RuntimeWarning: Mean of empty slice.\n",
      "  return _methods._mean(a, axis=axis, dtype=dtype,\n",
      "/home/mischa/miniconda3/envs/bf/lib/python3.10/site-packages/numpy/core/_methods.py:190: RuntimeWarning: invalid value encountered in divide\n",
      "  ret = ret.dtype.type(ret / rcount)\n",
      "/home/mischa/miniconda3/envs/bf/lib/python3.10/site-packages/numpy/core/_methods.py:265: RuntimeWarning: Degrees of freedom <= 0 for slice\n",
      "  ret = _var(a, axis=axis, dtype=dtype, out=out, ddof=ddof,\n",
      "/home/mischa/miniconda3/envs/bf/lib/python3.10/site-packages/numpy/core/_methods.py:223: RuntimeWarning: invalid value encountered in divide\n",
      "  arrmean = um.true_divide(arrmean, div, out=arrmean, casting='unsafe',\n",
      "/home/mischa/miniconda3/envs/bf/lib/python3.10/site-packages/numpy/core/_methods.py:257: RuntimeWarning: invalid value encountered in divide\n",
      "  ret = ret.dtype.type(ret / rcount)\n"
     ]
    },
    {
     "name": "stdout",
     "output_type": "stream",
     "text": [
      "2018iat6.txt done\n",
      "Initial shape: 25772\n",
      "After removing no age IDs: 16215\n",
      "After removing invalid IDs: 16215\n",
      "After excluding zero latency IDs: 16155\n",
      "After excluding != 120 trials IDs: 16120\n",
      "After excluding more than 50% error IDs: 16111\n",
      "After excluding zero error IDs: 14696\n",
      "Successfully read datafile 2018iat7.txt .\n",
      "Converting to X and y arrays...\n",
      "IDs with less than 20 trials <200 ms or >10 seconds: (14668, 120, 3)\n",
      "IDs with 60 trials for each condition, 60 trials for both picture and word stimuli: (14668, 120, 3)\n",
      "Final shape of RTs chunk (after once more excluding cases w/ missing age or trials):  (14668, 120, 4)\n",
      "Final shape of outcomes chunk:  (14668, 120, 4)\n"
     ]
    },
    {
     "name": "stderr",
     "output_type": "stream",
     "text": [
      "/home/mischa/miniconda3/envs/bf/lib/python3.10/site-packages/numpy/core/fromnumeric.py:3432: RuntimeWarning: Mean of empty slice.\n",
      "  return _methods._mean(a, axis=axis, dtype=dtype,\n",
      "/home/mischa/miniconda3/envs/bf/lib/python3.10/site-packages/numpy/core/_methods.py:190: RuntimeWarning: invalid value encountered in divide\n",
      "  ret = ret.dtype.type(ret / rcount)\n",
      "/home/mischa/miniconda3/envs/bf/lib/python3.10/site-packages/numpy/core/_methods.py:265: RuntimeWarning: Degrees of freedom <= 0 for slice\n",
      "  ret = _var(a, axis=axis, dtype=dtype, out=out, ddof=ddof,\n",
      "/home/mischa/miniconda3/envs/bf/lib/python3.10/site-packages/numpy/core/_methods.py:223: RuntimeWarning: invalid value encountered in divide\n",
      "  arrmean = um.true_divide(arrmean, div, out=arrmean, casting='unsafe',\n",
      "/home/mischa/miniconda3/envs/bf/lib/python3.10/site-packages/numpy/core/_methods.py:257: RuntimeWarning: invalid value encountered in divide\n",
      "  ret = ret.dtype.type(ret / rcount)\n"
     ]
    },
    {
     "name": "stdout",
     "output_type": "stream",
     "text": [
      "2018iat7.txt done\n",
      "Initial shape: 25892\n",
      "After removing no age IDs: 16608\n",
      "After removing invalid IDs: 16608\n",
      "After excluding zero latency IDs: 16530\n",
      "After excluding != 120 trials IDs: 16484\n",
      "After excluding more than 50% error IDs: 16477\n",
      "After excluding zero error IDs: 15176\n",
      "Successfully read datafile 2018iat8.txt .\n",
      "Converting to X and y arrays...\n",
      "IDs with less than 20 trials <200 ms or >10 seconds: (15125, 120, 3)\n",
      "IDs with 60 trials for each condition, 60 trials for both picture and word stimuli: (15125, 120, 3)\n",
      "Final shape of RTs chunk (after once more excluding cases w/ missing age or trials):  (15125, 120, 4)\n",
      "Final shape of outcomes chunk:  (15125, 120, 4)\n"
     ]
    },
    {
     "name": "stderr",
     "output_type": "stream",
     "text": [
      "/home/mischa/miniconda3/envs/bf/lib/python3.10/site-packages/numpy/core/fromnumeric.py:3432: RuntimeWarning: Mean of empty slice.\n",
      "  return _methods._mean(a, axis=axis, dtype=dtype,\n",
      "/home/mischa/miniconda3/envs/bf/lib/python3.10/site-packages/numpy/core/_methods.py:190: RuntimeWarning: invalid value encountered in divide\n",
      "  ret = ret.dtype.type(ret / rcount)\n",
      "/home/mischa/miniconda3/envs/bf/lib/python3.10/site-packages/numpy/core/_methods.py:265: RuntimeWarning: Degrees of freedom <= 0 for slice\n",
      "  ret = _var(a, axis=axis, dtype=dtype, out=out, ddof=ddof,\n",
      "/home/mischa/miniconda3/envs/bf/lib/python3.10/site-packages/numpy/core/_methods.py:223: RuntimeWarning: invalid value encountered in divide\n",
      "  arrmean = um.true_divide(arrmean, div, out=arrmean, casting='unsafe',\n",
      "/home/mischa/miniconda3/envs/bf/lib/python3.10/site-packages/numpy/core/_methods.py:257: RuntimeWarning: invalid value encountered in divide\n",
      "  ret = ret.dtype.type(ret / rcount)\n"
     ]
    },
    {
     "name": "stdout",
     "output_type": "stream",
     "text": [
      "2018iat8.txt done\n",
      "Initial shape: 25731\n",
      "After removing no age IDs: 15580\n",
      "After removing invalid IDs: 15580\n",
      "After excluding zero latency IDs: 15495\n",
      "After excluding != 120 trials IDs: 15476\n",
      "After excluding more than 50% error IDs: 15461\n",
      "After excluding zero error IDs: 14434\n",
      "Successfully read datafile 2018iat9.txt .\n",
      "Converting to X and y arrays...\n",
      "IDs with less than 20 trials <200 ms or >10 seconds: (14353, 120, 3)\n",
      "IDs with 60 trials for each condition, 60 trials for both picture and word stimuli: (14353, 120, 3)\n",
      "Final shape of RTs chunk (after once more excluding cases w/ missing age or trials):  (14353, 120, 4)\n",
      "Final shape of outcomes chunk:  (14353, 120, 4)\n"
     ]
    },
    {
     "name": "stderr",
     "output_type": "stream",
     "text": [
      "/home/mischa/miniconda3/envs/bf/lib/python3.10/site-packages/numpy/core/fromnumeric.py:3432: RuntimeWarning: Mean of empty slice.\n",
      "  return _methods._mean(a, axis=axis, dtype=dtype,\n",
      "/home/mischa/miniconda3/envs/bf/lib/python3.10/site-packages/numpy/core/_methods.py:190: RuntimeWarning: invalid value encountered in divide\n",
      "  ret = ret.dtype.type(ret / rcount)\n",
      "/home/mischa/miniconda3/envs/bf/lib/python3.10/site-packages/numpy/core/_methods.py:265: RuntimeWarning: Degrees of freedom <= 0 for slice\n",
      "  ret = _var(a, axis=axis, dtype=dtype, out=out, ddof=ddof,\n",
      "/home/mischa/miniconda3/envs/bf/lib/python3.10/site-packages/numpy/core/_methods.py:223: RuntimeWarning: invalid value encountered in divide\n",
      "  arrmean = um.true_divide(arrmean, div, out=arrmean, casting='unsafe',\n",
      "/home/mischa/miniconda3/envs/bf/lib/python3.10/site-packages/numpy/core/_methods.py:257: RuntimeWarning: invalid value encountered in divide\n",
      "  ret = ret.dtype.type(ret / rcount)\n"
     ]
    },
    {
     "name": "stdout",
     "output_type": "stream",
     "text": [
      "2018iat9.txt done\n",
      "Initial shape: 25718\n",
      "After removing no age IDs: 15451\n",
      "After removing invalid IDs: 15451\n",
      "After excluding zero latency IDs: 15363\n",
      "After excluding != 120 trials IDs: 15341\n",
      "After excluding more than 50% error IDs: 15326\n",
      "After excluding zero error IDs: 14131\n",
      "Successfully read datafile 2019iat.txt .\n",
      "Converting to X and y arrays...\n",
      "IDs with less than 20 trials <200 ms or >10 seconds: (14043, 120, 3)\n",
      "IDs with 60 trials for each condition, 60 trials for both picture and word stimuli: (14043, 120, 3)\n",
      "Final shape of RTs chunk (after once more excluding cases w/ missing age or trials):  (14043, 120, 4)\n",
      "Final shape of outcomes chunk:  (14043, 120, 4)\n"
     ]
    },
    {
     "name": "stderr",
     "output_type": "stream",
     "text": [
      "/home/mischa/miniconda3/envs/bf/lib/python3.10/site-packages/numpy/core/fromnumeric.py:3432: RuntimeWarning: Mean of empty slice.\n",
      "  return _methods._mean(a, axis=axis, dtype=dtype,\n",
      "/home/mischa/miniconda3/envs/bf/lib/python3.10/site-packages/numpy/core/_methods.py:190: RuntimeWarning: invalid value encountered in divide\n",
      "  ret = ret.dtype.type(ret / rcount)\n",
      "/home/mischa/miniconda3/envs/bf/lib/python3.10/site-packages/numpy/core/_methods.py:265: RuntimeWarning: Degrees of freedom <= 0 for slice\n",
      "  ret = _var(a, axis=axis, dtype=dtype, out=out, ddof=ddof,\n",
      "/home/mischa/miniconda3/envs/bf/lib/python3.10/site-packages/numpy/core/_methods.py:223: RuntimeWarning: invalid value encountered in divide\n",
      "  arrmean = um.true_divide(arrmean, div, out=arrmean, casting='unsafe',\n",
      "/home/mischa/miniconda3/envs/bf/lib/python3.10/site-packages/numpy/core/_methods.py:257: RuntimeWarning: invalid value encountered in divide\n",
      "  ret = ret.dtype.type(ret / rcount)\n"
     ]
    },
    {
     "name": "stdout",
     "output_type": "stream",
     "text": [
      "2019iat.txt done\n",
      "Initial shape: 25631\n",
      "After removing no age IDs: 16188\n",
      "After removing invalid IDs: 16188\n",
      "After excluding zero latency IDs: 16059\n",
      "After excluding != 120 trials IDs: 16032\n",
      "After excluding more than 50% error IDs: 16015\n",
      "After excluding zero error IDs: 14959\n",
      "Successfully read datafile 2019iat10.txt .\n",
      "Converting to X and y arrays...\n",
      "IDs with less than 20 trials <200 ms or >10 seconds: (14862, 120, 3)\n",
      "IDs with 60 trials for each condition, 60 trials for both picture and word stimuli: (14862, 120, 3)\n",
      "Final shape of RTs chunk (after once more excluding cases w/ missing age or trials):  (14862, 120, 4)\n",
      "Final shape of outcomes chunk:  (14862, 120, 4)\n"
     ]
    },
    {
     "name": "stderr",
     "output_type": "stream",
     "text": [
      "/home/mischa/miniconda3/envs/bf/lib/python3.10/site-packages/numpy/core/fromnumeric.py:3432: RuntimeWarning: Mean of empty slice.\n",
      "  return _methods._mean(a, axis=axis, dtype=dtype,\n",
      "/home/mischa/miniconda3/envs/bf/lib/python3.10/site-packages/numpy/core/_methods.py:190: RuntimeWarning: invalid value encountered in divide\n",
      "  ret = ret.dtype.type(ret / rcount)\n",
      "/home/mischa/miniconda3/envs/bf/lib/python3.10/site-packages/numpy/core/_methods.py:265: RuntimeWarning: Degrees of freedom <= 0 for slice\n",
      "  ret = _var(a, axis=axis, dtype=dtype, out=out, ddof=ddof,\n",
      "/home/mischa/miniconda3/envs/bf/lib/python3.10/site-packages/numpy/core/_methods.py:223: RuntimeWarning: invalid value encountered in divide\n",
      "  arrmean = um.true_divide(arrmean, div, out=arrmean, casting='unsafe',\n",
      "/home/mischa/miniconda3/envs/bf/lib/python3.10/site-packages/numpy/core/_methods.py:257: RuntimeWarning: invalid value encountered in divide\n",
      "  ret = ret.dtype.type(ret / rcount)\n"
     ]
    },
    {
     "name": "stdout",
     "output_type": "stream",
     "text": [
      "2019iat10.txt done\n",
      "Initial shape: 26010\n",
      "After removing no age IDs: 16432\n",
      "After removing invalid IDs: 16432\n",
      "After excluding zero latency IDs: 16286\n",
      "After excluding != 120 trials IDs: 16260\n",
      "After excluding more than 50% error IDs: 16247\n",
      "After excluding zero error IDs: 15216\n",
      "Successfully read datafile 2019iat11.txt .\n",
      "Converting to X and y arrays...\n",
      "IDs with less than 20 trials <200 ms or >10 seconds: (15116, 120, 3)\n",
      "IDs with 60 trials for each condition, 60 trials for both picture and word stimuli: (15116, 120, 3)\n",
      "Final shape of RTs chunk (after once more excluding cases w/ missing age or trials):  (15116, 120, 4)\n",
      "Final shape of outcomes chunk:  (15116, 120, 4)\n"
     ]
    },
    {
     "name": "stderr",
     "output_type": "stream",
     "text": [
      "/home/mischa/miniconda3/envs/bf/lib/python3.10/site-packages/numpy/core/fromnumeric.py:3432: RuntimeWarning: Mean of empty slice.\n",
      "  return _methods._mean(a, axis=axis, dtype=dtype,\n",
      "/home/mischa/miniconda3/envs/bf/lib/python3.10/site-packages/numpy/core/_methods.py:190: RuntimeWarning: invalid value encountered in divide\n",
      "  ret = ret.dtype.type(ret / rcount)\n",
      "/home/mischa/miniconda3/envs/bf/lib/python3.10/site-packages/numpy/core/_methods.py:265: RuntimeWarning: Degrees of freedom <= 0 for slice\n",
      "  ret = _var(a, axis=axis, dtype=dtype, out=out, ddof=ddof,\n",
      "/home/mischa/miniconda3/envs/bf/lib/python3.10/site-packages/numpy/core/_methods.py:223: RuntimeWarning: invalid value encountered in divide\n",
      "  arrmean = um.true_divide(arrmean, div, out=arrmean, casting='unsafe',\n",
      "/home/mischa/miniconda3/envs/bf/lib/python3.10/site-packages/numpy/core/_methods.py:257: RuntimeWarning: invalid value encountered in divide\n",
      "  ret = ret.dtype.type(ret / rcount)\n"
     ]
    },
    {
     "name": "stdout",
     "output_type": "stream",
     "text": [
      "2019iat11.txt done\n",
      "Initial shape: 25999\n",
      "After removing no age IDs: 16224\n",
      "After removing invalid IDs: 16224\n",
      "After excluding zero latency IDs: 16047\n",
      "After excluding != 120 trials IDs: 16028\n",
      "After excluding more than 50% error IDs: 15998\n",
      "After excluding zero error IDs: 14944\n",
      "Successfully read datafile 2019iat12.txt .\n",
      "Converting to X and y arrays...\n",
      "IDs with less than 20 trials <200 ms or >10 seconds: (14844, 120, 3)\n",
      "IDs with 60 trials for each condition, 60 trials for both picture and word stimuli: (14844, 120, 3)\n",
      "Final shape of RTs chunk (after once more excluding cases w/ missing age or trials):  (14844, 120, 4)\n",
      "Final shape of outcomes chunk:  (14844, 120, 4)\n"
     ]
    },
    {
     "name": "stderr",
     "output_type": "stream",
     "text": [
      "/home/mischa/miniconda3/envs/bf/lib/python3.10/site-packages/numpy/core/fromnumeric.py:3432: RuntimeWarning: Mean of empty slice.\n",
      "  return _methods._mean(a, axis=axis, dtype=dtype,\n",
      "/home/mischa/miniconda3/envs/bf/lib/python3.10/site-packages/numpy/core/_methods.py:190: RuntimeWarning: invalid value encountered in divide\n",
      "  ret = ret.dtype.type(ret / rcount)\n",
      "/home/mischa/miniconda3/envs/bf/lib/python3.10/site-packages/numpy/core/_methods.py:265: RuntimeWarning: Degrees of freedom <= 0 for slice\n",
      "  ret = _var(a, axis=axis, dtype=dtype, out=out, ddof=ddof,\n",
      "/home/mischa/miniconda3/envs/bf/lib/python3.10/site-packages/numpy/core/_methods.py:223: RuntimeWarning: invalid value encountered in divide\n",
      "  arrmean = um.true_divide(arrmean, div, out=arrmean, casting='unsafe',\n",
      "/home/mischa/miniconda3/envs/bf/lib/python3.10/site-packages/numpy/core/_methods.py:257: RuntimeWarning: invalid value encountered in divide\n",
      "  ret = ret.dtype.type(ret / rcount)\n"
     ]
    },
    {
     "name": "stdout",
     "output_type": "stream",
     "text": [
      "2019iat12.txt done\n",
      "Initial shape: 19932\n",
      "After removing no age IDs: 12112\n",
      "After removing invalid IDs: 12112\n",
      "After excluding zero latency IDs: 12011\n",
      "After excluding != 120 trials IDs: 11992\n",
      "After excluding more than 50% error IDs: 11976\n",
      "After excluding zero error IDs: 11130\n",
      "Successfully read datafile 2019iat13.txt .\n",
      "Converting to X and y arrays...\n",
      "IDs with less than 20 trials <200 ms or >10 seconds: (11042, 120, 3)\n",
      "IDs with 60 trials for each condition, 60 trials for both picture and word stimuli: (11042, 120, 3)\n",
      "Final shape of RTs chunk (after once more excluding cases w/ missing age or trials):  (11042, 120, 4)\n",
      "Final shape of outcomes chunk:  (11042, 120, 4)\n"
     ]
    },
    {
     "name": "stderr",
     "output_type": "stream",
     "text": [
      "/home/mischa/miniconda3/envs/bf/lib/python3.10/site-packages/numpy/core/fromnumeric.py:3432: RuntimeWarning: Mean of empty slice.\n",
      "  return _methods._mean(a, axis=axis, dtype=dtype,\n",
      "/home/mischa/miniconda3/envs/bf/lib/python3.10/site-packages/numpy/core/_methods.py:190: RuntimeWarning: invalid value encountered in divide\n",
      "  ret = ret.dtype.type(ret / rcount)\n",
      "/home/mischa/miniconda3/envs/bf/lib/python3.10/site-packages/numpy/core/_methods.py:265: RuntimeWarning: Degrees of freedom <= 0 for slice\n",
      "  ret = _var(a, axis=axis, dtype=dtype, out=out, ddof=ddof,\n",
      "/home/mischa/miniconda3/envs/bf/lib/python3.10/site-packages/numpy/core/_methods.py:223: RuntimeWarning: invalid value encountered in divide\n",
      "  arrmean = um.true_divide(arrmean, div, out=arrmean, casting='unsafe',\n",
      "/home/mischa/miniconda3/envs/bf/lib/python3.10/site-packages/numpy/core/_methods.py:257: RuntimeWarning: invalid value encountered in divide\n",
      "  ret = ret.dtype.type(ret / rcount)\n"
     ]
    },
    {
     "name": "stdout",
     "output_type": "stream",
     "text": [
      "2019iat13.txt done\n",
      "Initial shape: 25625\n",
      "After removing no age IDs: 15330\n",
      "After removing invalid IDs: 15330\n",
      "After excluding zero latency IDs: 15229\n",
      "After excluding != 120 trials IDs: 15213\n",
      "After excluding more than 50% error IDs: 15196\n",
      "After excluding zero error IDs: 14167\n",
      "Successfully read datafile 2019iat2.txt .\n",
      "Converting to X and y arrays...\n",
      "IDs with less than 20 trials <200 ms or >10 seconds: (14059, 120, 3)\n",
      "IDs with 60 trials for each condition, 60 trials for both picture and word stimuli: (14059, 120, 3)\n",
      "Final shape of RTs chunk (after once more excluding cases w/ missing age or trials):  (14059, 120, 4)\n",
      "Final shape of outcomes chunk:  (14059, 120, 4)\n"
     ]
    },
    {
     "name": "stderr",
     "output_type": "stream",
     "text": [
      "/home/mischa/miniconda3/envs/bf/lib/python3.10/site-packages/numpy/core/fromnumeric.py:3432: RuntimeWarning: Mean of empty slice.\n",
      "  return _methods._mean(a, axis=axis, dtype=dtype,\n",
      "/home/mischa/miniconda3/envs/bf/lib/python3.10/site-packages/numpy/core/_methods.py:190: RuntimeWarning: invalid value encountered in divide\n",
      "  ret = ret.dtype.type(ret / rcount)\n",
      "/home/mischa/miniconda3/envs/bf/lib/python3.10/site-packages/numpy/core/_methods.py:265: RuntimeWarning: Degrees of freedom <= 0 for slice\n",
      "  ret = _var(a, axis=axis, dtype=dtype, out=out, ddof=ddof,\n",
      "/home/mischa/miniconda3/envs/bf/lib/python3.10/site-packages/numpy/core/_methods.py:223: RuntimeWarning: invalid value encountered in divide\n",
      "  arrmean = um.true_divide(arrmean, div, out=arrmean, casting='unsafe',\n",
      "/home/mischa/miniconda3/envs/bf/lib/python3.10/site-packages/numpy/core/_methods.py:257: RuntimeWarning: invalid value encountered in divide\n",
      "  ret = ret.dtype.type(ret / rcount)\n"
     ]
    },
    {
     "name": "stdout",
     "output_type": "stream",
     "text": [
      "2019iat2.txt done\n",
      "Initial shape: 25968\n",
      "After removing no age IDs: 15271\n",
      "After removing invalid IDs: 15271\n",
      "After excluding zero latency IDs: 15158\n",
      "After excluding != 120 trials IDs: 15137\n",
      "After excluding more than 50% error IDs: 15120\n",
      "After excluding zero error IDs: 14055\n",
      "Successfully read datafile 2019iat3.txt .\n",
      "Converting to X and y arrays...\n",
      "IDs with less than 20 trials <200 ms or >10 seconds: (13974, 120, 3)\n",
      "IDs with 60 trials for each condition, 60 trials for both picture and word stimuli: (13974, 120, 3)\n",
      "Final shape of RTs chunk (after once more excluding cases w/ missing age or trials):  (13974, 120, 4)\n",
      "Final shape of outcomes chunk:  (13974, 120, 4)\n"
     ]
    },
    {
     "name": "stderr",
     "output_type": "stream",
     "text": [
      "/home/mischa/miniconda3/envs/bf/lib/python3.10/site-packages/numpy/core/fromnumeric.py:3432: RuntimeWarning: Mean of empty slice.\n",
      "  return _methods._mean(a, axis=axis, dtype=dtype,\n",
      "/home/mischa/miniconda3/envs/bf/lib/python3.10/site-packages/numpy/core/_methods.py:190: RuntimeWarning: invalid value encountered in divide\n",
      "  ret = ret.dtype.type(ret / rcount)\n",
      "/home/mischa/miniconda3/envs/bf/lib/python3.10/site-packages/numpy/core/_methods.py:265: RuntimeWarning: Degrees of freedom <= 0 for slice\n",
      "  ret = _var(a, axis=axis, dtype=dtype, out=out, ddof=ddof,\n",
      "/home/mischa/miniconda3/envs/bf/lib/python3.10/site-packages/numpy/core/_methods.py:223: RuntimeWarning: invalid value encountered in divide\n",
      "  arrmean = um.true_divide(arrmean, div, out=arrmean, casting='unsafe',\n",
      "/home/mischa/miniconda3/envs/bf/lib/python3.10/site-packages/numpy/core/_methods.py:257: RuntimeWarning: invalid value encountered in divide\n",
      "  ret = ret.dtype.type(ret / rcount)\n"
     ]
    },
    {
     "name": "stdout",
     "output_type": "stream",
     "text": [
      "2019iat3.txt done\n",
      "Initial shape: 25867\n",
      "After removing no age IDs: 15117\n",
      "After removing invalid IDs: 15117\n",
      "After excluding zero latency IDs: 14996\n",
      "After excluding != 120 trials IDs: 14960\n",
      "After excluding more than 50% error IDs: 14941\n",
      "After excluding zero error IDs: 13919\n",
      "Successfully read datafile 2019iat4.txt .\n",
      "Converting to X and y arrays...\n",
      "IDs with less than 20 trials <200 ms or >10 seconds: (13822, 120, 3)\n",
      "IDs with 60 trials for each condition, 60 trials for both picture and word stimuli: (13822, 120, 3)\n",
      "Final shape of RTs chunk (after once more excluding cases w/ missing age or trials):  (13822, 120, 4)\n",
      "Final shape of outcomes chunk:  (13822, 120, 4)\n"
     ]
    },
    {
     "name": "stderr",
     "output_type": "stream",
     "text": [
      "/home/mischa/miniconda3/envs/bf/lib/python3.10/site-packages/numpy/core/fromnumeric.py:3432: RuntimeWarning: Mean of empty slice.\n",
      "  return _methods._mean(a, axis=axis, dtype=dtype,\n",
      "/home/mischa/miniconda3/envs/bf/lib/python3.10/site-packages/numpy/core/_methods.py:190: RuntimeWarning: invalid value encountered in divide\n",
      "  ret = ret.dtype.type(ret / rcount)\n",
      "/home/mischa/miniconda3/envs/bf/lib/python3.10/site-packages/numpy/core/_methods.py:265: RuntimeWarning: Degrees of freedom <= 0 for slice\n",
      "  ret = _var(a, axis=axis, dtype=dtype, out=out, ddof=ddof,\n",
      "/home/mischa/miniconda3/envs/bf/lib/python3.10/site-packages/numpy/core/_methods.py:223: RuntimeWarning: invalid value encountered in divide\n",
      "  arrmean = um.true_divide(arrmean, div, out=arrmean, casting='unsafe',\n",
      "/home/mischa/miniconda3/envs/bf/lib/python3.10/site-packages/numpy/core/_methods.py:257: RuntimeWarning: invalid value encountered in divide\n",
      "  ret = ret.dtype.type(ret / rcount)\n"
     ]
    },
    {
     "name": "stdout",
     "output_type": "stream",
     "text": [
      "2019iat4.txt done\n",
      "Initial shape: 26049\n",
      "After removing no age IDs: 14966\n",
      "After removing invalid IDs: 14966\n",
      "After excluding zero latency IDs: 14843\n",
      "After excluding != 120 trials IDs: 14817\n",
      "After excluding more than 50% error IDs: 14798\n",
      "After excluding zero error IDs: 13783\n",
      "Successfully read datafile 2019iat5.txt .\n",
      "Converting to X and y arrays...\n",
      "IDs with less than 20 trials <200 ms or >10 seconds: (13671, 120, 3)\n",
      "IDs with 60 trials for each condition, 60 trials for both picture and word stimuli: (13671, 120, 3)\n",
      "Final shape of RTs chunk (after once more excluding cases w/ missing age or trials):  (13671, 120, 4)\n",
      "Final shape of outcomes chunk:  (13671, 120, 4)\n"
     ]
    },
    {
     "name": "stderr",
     "output_type": "stream",
     "text": [
      "/home/mischa/miniconda3/envs/bf/lib/python3.10/site-packages/numpy/core/fromnumeric.py:3432: RuntimeWarning: Mean of empty slice.\n",
      "  return _methods._mean(a, axis=axis, dtype=dtype,\n",
      "/home/mischa/miniconda3/envs/bf/lib/python3.10/site-packages/numpy/core/_methods.py:190: RuntimeWarning: invalid value encountered in divide\n",
      "  ret = ret.dtype.type(ret / rcount)\n",
      "/home/mischa/miniconda3/envs/bf/lib/python3.10/site-packages/numpy/core/_methods.py:265: RuntimeWarning: Degrees of freedom <= 0 for slice\n",
      "  ret = _var(a, axis=axis, dtype=dtype, out=out, ddof=ddof,\n",
      "/home/mischa/miniconda3/envs/bf/lib/python3.10/site-packages/numpy/core/_methods.py:223: RuntimeWarning: invalid value encountered in divide\n",
      "  arrmean = um.true_divide(arrmean, div, out=arrmean, casting='unsafe',\n",
      "/home/mischa/miniconda3/envs/bf/lib/python3.10/site-packages/numpy/core/_methods.py:257: RuntimeWarning: invalid value encountered in divide\n",
      "  ret = ret.dtype.type(ret / rcount)\n"
     ]
    },
    {
     "name": "stdout",
     "output_type": "stream",
     "text": [
      "2019iat5.txt done\n",
      "Initial shape: 26000\n",
      "After removing no age IDs: 15702\n",
      "After removing invalid IDs: 15702\n",
      "After excluding zero latency IDs: 15618\n",
      "After excluding != 120 trials IDs: 15594\n",
      "After excluding more than 50% error IDs: 15580\n",
      "After excluding zero error IDs: 14173\n",
      "Successfully read datafile 2019iat6.txt .\n",
      "Converting to X and y arrays...\n",
      "IDs with less than 20 trials <200 ms or >10 seconds: (14109, 120, 3)\n",
      "IDs with 60 trials for each condition, 60 trials for both picture and word stimuli: (14109, 120, 3)\n",
      "Final shape of RTs chunk (after once more excluding cases w/ missing age or trials):  (14109, 120, 4)\n",
      "Final shape of outcomes chunk:  (14109, 120, 4)\n"
     ]
    },
    {
     "name": "stderr",
     "output_type": "stream",
     "text": [
      "/home/mischa/miniconda3/envs/bf/lib/python3.10/site-packages/numpy/core/fromnumeric.py:3432: RuntimeWarning: Mean of empty slice.\n",
      "  return _methods._mean(a, axis=axis, dtype=dtype,\n",
      "/home/mischa/miniconda3/envs/bf/lib/python3.10/site-packages/numpy/core/_methods.py:190: RuntimeWarning: invalid value encountered in divide\n",
      "  ret = ret.dtype.type(ret / rcount)\n",
      "/home/mischa/miniconda3/envs/bf/lib/python3.10/site-packages/numpy/core/_methods.py:265: RuntimeWarning: Degrees of freedom <= 0 for slice\n",
      "  ret = _var(a, axis=axis, dtype=dtype, out=out, ddof=ddof,\n",
      "/home/mischa/miniconda3/envs/bf/lib/python3.10/site-packages/numpy/core/_methods.py:223: RuntimeWarning: invalid value encountered in divide\n",
      "  arrmean = um.true_divide(arrmean, div, out=arrmean, casting='unsafe',\n",
      "/home/mischa/miniconda3/envs/bf/lib/python3.10/site-packages/numpy/core/_methods.py:257: RuntimeWarning: invalid value encountered in divide\n",
      "  ret = ret.dtype.type(ret / rcount)\n"
     ]
    },
    {
     "name": "stdout",
     "output_type": "stream",
     "text": [
      "2019iat6.txt done\n",
      "Initial shape: 25916\n",
      "After removing no age IDs: 16472\n",
      "After removing invalid IDs: 16472\n",
      "After excluding zero latency IDs: 16401\n",
      "After excluding != 120 trials IDs: 16386\n",
      "After excluding more than 50% error IDs: 16377\n",
      "After excluding zero error IDs: 14898\n",
      "Successfully read datafile 2019iat7.txt .\n",
      "Converting to X and y arrays...\n",
      "IDs with less than 20 trials <200 ms or >10 seconds: (14862, 120, 3)\n",
      "IDs with 60 trials for each condition, 60 trials for both picture and word stimuli: (14862, 120, 3)\n",
      "Final shape of RTs chunk (after once more excluding cases w/ missing age or trials):  (14862, 120, 4)\n",
      "Final shape of outcomes chunk:  (14862, 120, 4)\n"
     ]
    },
    {
     "name": "stderr",
     "output_type": "stream",
     "text": [
      "/home/mischa/miniconda3/envs/bf/lib/python3.10/site-packages/numpy/core/fromnumeric.py:3432: RuntimeWarning: Mean of empty slice.\n",
      "  return _methods._mean(a, axis=axis, dtype=dtype,\n",
      "/home/mischa/miniconda3/envs/bf/lib/python3.10/site-packages/numpy/core/_methods.py:190: RuntimeWarning: invalid value encountered in divide\n",
      "  ret = ret.dtype.type(ret / rcount)\n",
      "/home/mischa/miniconda3/envs/bf/lib/python3.10/site-packages/numpy/core/_methods.py:265: RuntimeWarning: Degrees of freedom <= 0 for slice\n",
      "  ret = _var(a, axis=axis, dtype=dtype, out=out, ddof=ddof,\n",
      "/home/mischa/miniconda3/envs/bf/lib/python3.10/site-packages/numpy/core/_methods.py:223: RuntimeWarning: invalid value encountered in divide\n",
      "  arrmean = um.true_divide(arrmean, div, out=arrmean, casting='unsafe',\n",
      "/home/mischa/miniconda3/envs/bf/lib/python3.10/site-packages/numpy/core/_methods.py:257: RuntimeWarning: invalid value encountered in divide\n",
      "  ret = ret.dtype.type(ret / rcount)\n"
     ]
    },
    {
     "name": "stdout",
     "output_type": "stream",
     "text": [
      "2019iat7.txt done\n",
      "Initial shape: 25871\n",
      "After removing no age IDs: 15878\n",
      "After removing invalid IDs: 15878\n",
      "After excluding zero latency IDs: 15792\n",
      "After excluding != 120 trials IDs: 15762\n",
      "After excluding more than 50% error IDs: 15745\n",
      "After excluding zero error IDs: 14509\n",
      "Successfully read datafile 2019iat8.txt .\n",
      "Converting to X and y arrays...\n",
      "IDs with less than 20 trials <200 ms or >10 seconds: (14425, 120, 3)\n",
      "IDs with 60 trials for each condition, 60 trials for both picture and word stimuli: (14425, 120, 3)\n",
      "Final shape of RTs chunk (after once more excluding cases w/ missing age or trials):  (14425, 120, 4)\n",
      "Final shape of outcomes chunk:  (14425, 120, 4)\n"
     ]
    },
    {
     "name": "stderr",
     "output_type": "stream",
     "text": [
      "/home/mischa/miniconda3/envs/bf/lib/python3.10/site-packages/numpy/core/fromnumeric.py:3432: RuntimeWarning: Mean of empty slice.\n",
      "  return _methods._mean(a, axis=axis, dtype=dtype,\n",
      "/home/mischa/miniconda3/envs/bf/lib/python3.10/site-packages/numpy/core/_methods.py:190: RuntimeWarning: invalid value encountered in divide\n",
      "  ret = ret.dtype.type(ret / rcount)\n",
      "/home/mischa/miniconda3/envs/bf/lib/python3.10/site-packages/numpy/core/_methods.py:265: RuntimeWarning: Degrees of freedom <= 0 for slice\n",
      "  ret = _var(a, axis=axis, dtype=dtype, out=out, ddof=ddof,\n",
      "/home/mischa/miniconda3/envs/bf/lib/python3.10/site-packages/numpy/core/_methods.py:223: RuntimeWarning: invalid value encountered in divide\n",
      "  arrmean = um.true_divide(arrmean, div, out=arrmean, casting='unsafe',\n",
      "/home/mischa/miniconda3/envs/bf/lib/python3.10/site-packages/numpy/core/_methods.py:257: RuntimeWarning: invalid value encountered in divide\n",
      "  ret = ret.dtype.type(ret / rcount)\n"
     ]
    },
    {
     "name": "stdout",
     "output_type": "stream",
     "text": [
      "2019iat8.txt done\n",
      "Initial shape: 20038\n",
      "After removing no age IDs: 12053\n",
      "After removing invalid IDs: 12053\n",
      "After excluding zero latency IDs: 11953\n",
      "After excluding != 120 trials IDs: 11928\n",
      "After excluding more than 50% error IDs: 11915\n",
      "After excluding zero error IDs: 11071\n",
      "Successfully read datafile 2019iat9.txt .\n",
      "Converting to X and y arrays...\n",
      "IDs with less than 20 trials <200 ms or >10 seconds: (11010, 120, 3)\n",
      "IDs with 60 trials for each condition, 60 trials for both picture and word stimuli: (11010, 120, 3)\n",
      "Final shape of RTs chunk (after once more excluding cases w/ missing age or trials):  (11010, 120, 4)\n",
      "Final shape of outcomes chunk:  (11010, 120, 4)\n"
     ]
    },
    {
     "name": "stderr",
     "output_type": "stream",
     "text": [
      "/home/mischa/miniconda3/envs/bf/lib/python3.10/site-packages/numpy/core/fromnumeric.py:3432: RuntimeWarning: Mean of empty slice.\n",
      "  return _methods._mean(a, axis=axis, dtype=dtype,\n",
      "/home/mischa/miniconda3/envs/bf/lib/python3.10/site-packages/numpy/core/_methods.py:190: RuntimeWarning: invalid value encountered in divide\n",
      "  ret = ret.dtype.type(ret / rcount)\n",
      "/home/mischa/miniconda3/envs/bf/lib/python3.10/site-packages/numpy/core/_methods.py:265: RuntimeWarning: Degrees of freedom <= 0 for slice\n",
      "  ret = _var(a, axis=axis, dtype=dtype, out=out, ddof=ddof,\n",
      "/home/mischa/miniconda3/envs/bf/lib/python3.10/site-packages/numpy/core/_methods.py:223: RuntimeWarning: invalid value encountered in divide\n",
      "  arrmean = um.true_divide(arrmean, div, out=arrmean, casting='unsafe',\n",
      "/home/mischa/miniconda3/envs/bf/lib/python3.10/site-packages/numpy/core/_methods.py:257: RuntimeWarning: invalid value encountered in divide\n",
      "  ret = ret.dtype.type(ret / rcount)\n"
     ]
    },
    {
     "name": "stdout",
     "output_type": "stream",
     "text": [
      "2019iat9.txt done\n",
      "Initial shape: 25822\n",
      "After removing no age IDs: 16130\n",
      "After removing invalid IDs: 16130\n",
      "After excluding zero latency IDs: 16008\n",
      "After excluding != 120 trials IDs: 15977\n",
      "After excluding more than 50% error IDs: 15949\n",
      "After excluding zero error IDs: 14782\n",
      "Successfully read datafile 2020iat.txt .\n",
      "Converting to X and y arrays...\n",
      "IDs with less than 20 trials <200 ms or >10 seconds: (14691, 120, 3)\n",
      "IDs with 60 trials for each condition, 60 trials for both picture and word stimuli: (14691, 120, 3)\n",
      "Final shape of RTs chunk (after once more excluding cases w/ missing age or trials):  (14691, 120, 4)\n",
      "Final shape of outcomes chunk:  (14691, 120, 4)\n"
     ]
    },
    {
     "name": "stderr",
     "output_type": "stream",
     "text": [
      "/home/mischa/miniconda3/envs/bf/lib/python3.10/site-packages/numpy/core/fromnumeric.py:3432: RuntimeWarning: Mean of empty slice.\n",
      "  return _methods._mean(a, axis=axis, dtype=dtype,\n",
      "/home/mischa/miniconda3/envs/bf/lib/python3.10/site-packages/numpy/core/_methods.py:190: RuntimeWarning: invalid value encountered in divide\n",
      "  ret = ret.dtype.type(ret / rcount)\n",
      "/home/mischa/miniconda3/envs/bf/lib/python3.10/site-packages/numpy/core/_methods.py:265: RuntimeWarning: Degrees of freedom <= 0 for slice\n",
      "  ret = _var(a, axis=axis, dtype=dtype, out=out, ddof=ddof,\n",
      "/home/mischa/miniconda3/envs/bf/lib/python3.10/site-packages/numpy/core/_methods.py:223: RuntimeWarning: invalid value encountered in divide\n",
      "  arrmean = um.true_divide(arrmean, div, out=arrmean, casting='unsafe',\n",
      "/home/mischa/miniconda3/envs/bf/lib/python3.10/site-packages/numpy/core/_methods.py:257: RuntimeWarning: invalid value encountered in divide\n",
      "  ret = ret.dtype.type(ret / rcount)\n"
     ]
    },
    {
     "name": "stdout",
     "output_type": "stream",
     "text": [
      "2020iat.txt done\n",
      "Initial shape: 26008\n",
      "After removing no age IDs: 16506\n",
      "After removing invalid IDs: 16506\n",
      "After excluding zero latency IDs: 16466\n",
      "After excluding != 120 trials IDs: 16438\n",
      "After excluding more than 50% error IDs: 16432\n",
      "After excluding zero error IDs: 14551\n",
      "Successfully read datafile 2020iat10.txt .\n",
      "Converting to X and y arrays...\n",
      "IDs with less than 20 trials <200 ms or >10 seconds: (14539, 120, 3)\n",
      "IDs with 60 trials for each condition, 60 trials for both picture and word stimuli: (14539, 120, 3)\n",
      "Final shape of RTs chunk (after once more excluding cases w/ missing age or trials):  (14539, 120, 4)\n",
      "Final shape of outcomes chunk:  (14539, 120, 4)\n"
     ]
    },
    {
     "name": "stderr",
     "output_type": "stream",
     "text": [
      "/home/mischa/miniconda3/envs/bf/lib/python3.10/site-packages/numpy/core/fromnumeric.py:3432: RuntimeWarning: Mean of empty slice.\n",
      "  return _methods._mean(a, axis=axis, dtype=dtype,\n",
      "/home/mischa/miniconda3/envs/bf/lib/python3.10/site-packages/numpy/core/_methods.py:190: RuntimeWarning: invalid value encountered in divide\n",
      "  ret = ret.dtype.type(ret / rcount)\n",
      "/home/mischa/miniconda3/envs/bf/lib/python3.10/site-packages/numpy/core/_methods.py:265: RuntimeWarning: Degrees of freedom <= 0 for slice\n",
      "  ret = _var(a, axis=axis, dtype=dtype, out=out, ddof=ddof,\n",
      "/home/mischa/miniconda3/envs/bf/lib/python3.10/site-packages/numpy/core/_methods.py:223: RuntimeWarning: invalid value encountered in divide\n",
      "  arrmean = um.true_divide(arrmean, div, out=arrmean, casting='unsafe',\n",
      "/home/mischa/miniconda3/envs/bf/lib/python3.10/site-packages/numpy/core/_methods.py:257: RuntimeWarning: invalid value encountered in divide\n",
      "  ret = ret.dtype.type(ret / rcount)\n"
     ]
    },
    {
     "name": "stdout",
     "output_type": "stream",
     "text": [
      "2020iat10.txt done\n",
      "Initial shape: 25839\n",
      "After removing no age IDs: 17143\n",
      "After removing invalid IDs: 17143\n",
      "After excluding zero latency IDs: 17099\n",
      "After excluding != 120 trials IDs: 17071\n",
      "After excluding more than 50% error IDs: 17066\n",
      "After excluding zero error IDs: 14992\n",
      "Successfully read datafile 2020iat11.txt .\n",
      "Converting to X and y arrays...\n",
      "IDs with less than 20 trials <200 ms or >10 seconds: (14973, 120, 3)\n",
      "IDs with 60 trials for each condition, 60 trials for both picture and word stimuli: (14973, 120, 3)\n",
      "Final shape of RTs chunk (after once more excluding cases w/ missing age or trials):  (14973, 120, 4)\n",
      "Final shape of outcomes chunk:  (14973, 120, 4)\n"
     ]
    },
    {
     "name": "stderr",
     "output_type": "stream",
     "text": [
      "/home/mischa/miniconda3/envs/bf/lib/python3.10/site-packages/numpy/core/fromnumeric.py:3432: RuntimeWarning: Mean of empty slice.\n",
      "  return _methods._mean(a, axis=axis, dtype=dtype,\n",
      "/home/mischa/miniconda3/envs/bf/lib/python3.10/site-packages/numpy/core/_methods.py:190: RuntimeWarning: invalid value encountered in divide\n",
      "  ret = ret.dtype.type(ret / rcount)\n",
      "/home/mischa/miniconda3/envs/bf/lib/python3.10/site-packages/numpy/core/_methods.py:265: RuntimeWarning: Degrees of freedom <= 0 for slice\n",
      "  ret = _var(a, axis=axis, dtype=dtype, out=out, ddof=ddof,\n",
      "/home/mischa/miniconda3/envs/bf/lib/python3.10/site-packages/numpy/core/_methods.py:223: RuntimeWarning: invalid value encountered in divide\n",
      "  arrmean = um.true_divide(arrmean, div, out=arrmean, casting='unsafe',\n",
      "/home/mischa/miniconda3/envs/bf/lib/python3.10/site-packages/numpy/core/_methods.py:257: RuntimeWarning: invalid value encountered in divide\n",
      "  ret = ret.dtype.type(ret / rcount)\n"
     ]
    },
    {
     "name": "stdout",
     "output_type": "stream",
     "text": [
      "2020iat11.txt done\n",
      "Initial shape: 25770\n",
      "After removing no age IDs: 17694\n",
      "After removing invalid IDs: 17694\n",
      "After excluding zero latency IDs: 17647\n",
      "After excluding != 120 trials IDs: 17616\n",
      "After excluding more than 50% error IDs: 17610\n",
      "After excluding zero error IDs: 15471\n",
      "Successfully read datafile 2020iat12.txt .\n",
      "Converting to X and y arrays...\n",
      "IDs with less than 20 trials <200 ms or >10 seconds: (15453, 120, 3)\n",
      "IDs with 60 trials for each condition, 60 trials for both picture and word stimuli: (15453, 120, 3)\n",
      "Final shape of RTs chunk (after once more excluding cases w/ missing age or trials):  (15453, 120, 4)\n",
      "Final shape of outcomes chunk:  (15453, 120, 4)\n"
     ]
    },
    {
     "name": "stderr",
     "output_type": "stream",
     "text": [
      "/home/mischa/miniconda3/envs/bf/lib/python3.10/site-packages/numpy/core/fromnumeric.py:3432: RuntimeWarning: Mean of empty slice.\n",
      "  return _methods._mean(a, axis=axis, dtype=dtype,\n",
      "/home/mischa/miniconda3/envs/bf/lib/python3.10/site-packages/numpy/core/_methods.py:190: RuntimeWarning: invalid value encountered in divide\n",
      "  ret = ret.dtype.type(ret / rcount)\n",
      "/home/mischa/miniconda3/envs/bf/lib/python3.10/site-packages/numpy/core/_methods.py:265: RuntimeWarning: Degrees of freedom <= 0 for slice\n",
      "  ret = _var(a, axis=axis, dtype=dtype, out=out, ddof=ddof,\n",
      "/home/mischa/miniconda3/envs/bf/lib/python3.10/site-packages/numpy/core/_methods.py:223: RuntimeWarning: invalid value encountered in divide\n",
      "  arrmean = um.true_divide(arrmean, div, out=arrmean, casting='unsafe',\n",
      "/home/mischa/miniconda3/envs/bf/lib/python3.10/site-packages/numpy/core/_methods.py:257: RuntimeWarning: invalid value encountered in divide\n",
      "  ret = ret.dtype.type(ret / rcount)\n"
     ]
    },
    {
     "name": "stdout",
     "output_type": "stream",
     "text": [
      "2020iat12.txt done\n",
      "Initial shape: 25710\n",
      "After removing no age IDs: 17721\n",
      "After removing invalid IDs: 17721\n",
      "After excluding zero latency IDs: 17669\n",
      "After excluding != 120 trials IDs: 17646\n",
      "After excluding more than 50% error IDs: 17641\n",
      "After excluding zero error IDs: 15477\n",
      "Successfully read datafile 2020iat13.txt .\n",
      "Converting to X and y arrays...\n",
      "IDs with less than 20 trials <200 ms or >10 seconds: (15453, 120, 3)\n",
      "IDs with 60 trials for each condition, 60 trials for both picture and word stimuli: (15453, 120, 3)\n",
      "Final shape of RTs chunk (after once more excluding cases w/ missing age or trials):  (15453, 120, 4)\n",
      "Final shape of outcomes chunk:  (15453, 120, 4)\n"
     ]
    },
    {
     "name": "stderr",
     "output_type": "stream",
     "text": [
      "/home/mischa/miniconda3/envs/bf/lib/python3.10/site-packages/numpy/core/fromnumeric.py:3432: RuntimeWarning: Mean of empty slice.\n",
      "  return _methods._mean(a, axis=axis, dtype=dtype,\n",
      "/home/mischa/miniconda3/envs/bf/lib/python3.10/site-packages/numpy/core/_methods.py:190: RuntimeWarning: invalid value encountered in divide\n",
      "  ret = ret.dtype.type(ret / rcount)\n",
      "/home/mischa/miniconda3/envs/bf/lib/python3.10/site-packages/numpy/core/_methods.py:265: RuntimeWarning: Degrees of freedom <= 0 for slice\n",
      "  ret = _var(a, axis=axis, dtype=dtype, out=out, ddof=ddof,\n",
      "/home/mischa/miniconda3/envs/bf/lib/python3.10/site-packages/numpy/core/_methods.py:223: RuntimeWarning: invalid value encountered in divide\n",
      "  arrmean = um.true_divide(arrmean, div, out=arrmean, casting='unsafe',\n",
      "/home/mischa/miniconda3/envs/bf/lib/python3.10/site-packages/numpy/core/_methods.py:257: RuntimeWarning: invalid value encountered in divide\n",
      "  ret = ret.dtype.type(ret / rcount)\n"
     ]
    },
    {
     "name": "stdout",
     "output_type": "stream",
     "text": [
      "2020iat13.txt done\n",
      "Initial shape: 25739\n",
      "After removing no age IDs: 17627\n",
      "After removing invalid IDs: 17627\n",
      "After excluding zero latency IDs: 17557\n",
      "After excluding != 120 trials IDs: 17528\n",
      "After excluding more than 50% error IDs: 17524\n",
      "After excluding zero error IDs: 15500\n",
      "Successfully read datafile 2020iat14.txt .\n",
      "Converting to X and y arrays...\n",
      "IDs with less than 20 trials <200 ms or >10 seconds: (15479, 120, 3)\n",
      "IDs with 60 trials for each condition, 60 trials for both picture and word stimuli: (15479, 120, 3)\n",
      "Final shape of RTs chunk (after once more excluding cases w/ missing age or trials):  (15479, 120, 4)\n",
      "Final shape of outcomes chunk:  (15479, 120, 4)\n"
     ]
    },
    {
     "name": "stderr",
     "output_type": "stream",
     "text": [
      "/home/mischa/miniconda3/envs/bf/lib/python3.10/site-packages/numpy/core/fromnumeric.py:3432: RuntimeWarning: Mean of empty slice.\n",
      "  return _methods._mean(a, axis=axis, dtype=dtype,\n",
      "/home/mischa/miniconda3/envs/bf/lib/python3.10/site-packages/numpy/core/_methods.py:190: RuntimeWarning: invalid value encountered in divide\n",
      "  ret = ret.dtype.type(ret / rcount)\n",
      "/home/mischa/miniconda3/envs/bf/lib/python3.10/site-packages/numpy/core/_methods.py:265: RuntimeWarning: Degrees of freedom <= 0 for slice\n",
      "  ret = _var(a, axis=axis, dtype=dtype, out=out, ddof=ddof,\n",
      "/home/mischa/miniconda3/envs/bf/lib/python3.10/site-packages/numpy/core/_methods.py:223: RuntimeWarning: invalid value encountered in divide\n",
      "  arrmean = um.true_divide(arrmean, div, out=arrmean, casting='unsafe',\n",
      "/home/mischa/miniconda3/envs/bf/lib/python3.10/site-packages/numpy/core/_methods.py:257: RuntimeWarning: invalid value encountered in divide\n",
      "  ret = ret.dtype.type(ret / rcount)\n"
     ]
    },
    {
     "name": "stdout",
     "output_type": "stream",
     "text": [
      "2020iat14.txt done\n",
      "Initial shape: 25728\n",
      "After removing no age IDs: 17301\n",
      "After removing invalid IDs: 17301\n",
      "After excluding zero latency IDs: 17207\n",
      "After excluding != 120 trials IDs: 17180\n",
      "After excluding more than 50% error IDs: 17169\n",
      "After excluding zero error IDs: 15316\n",
      "Successfully read datafile 2020iat15.txt .\n",
      "Converting to X and y arrays...\n",
      "IDs with less than 20 trials <200 ms or >10 seconds: (15278, 120, 3)\n",
      "IDs with 60 trials for each condition, 60 trials for both picture and word stimuli: (15278, 120, 3)\n",
      "Final shape of RTs chunk (after once more excluding cases w/ missing age or trials):  (15278, 120, 4)\n",
      "Final shape of outcomes chunk:  (15278, 120, 4)\n"
     ]
    },
    {
     "name": "stderr",
     "output_type": "stream",
     "text": [
      "/home/mischa/miniconda3/envs/bf/lib/python3.10/site-packages/numpy/core/fromnumeric.py:3432: RuntimeWarning: Mean of empty slice.\n",
      "  return _methods._mean(a, axis=axis, dtype=dtype,\n",
      "/home/mischa/miniconda3/envs/bf/lib/python3.10/site-packages/numpy/core/_methods.py:190: RuntimeWarning: invalid value encountered in divide\n",
      "  ret = ret.dtype.type(ret / rcount)\n",
      "/home/mischa/miniconda3/envs/bf/lib/python3.10/site-packages/numpy/core/_methods.py:265: RuntimeWarning: Degrees of freedom <= 0 for slice\n",
      "  ret = _var(a, axis=axis, dtype=dtype, out=out, ddof=ddof,\n",
      "/home/mischa/miniconda3/envs/bf/lib/python3.10/site-packages/numpy/core/_methods.py:223: RuntimeWarning: invalid value encountered in divide\n",
      "  arrmean = um.true_divide(arrmean, div, out=arrmean, casting='unsafe',\n",
      "/home/mischa/miniconda3/envs/bf/lib/python3.10/site-packages/numpy/core/_methods.py:257: RuntimeWarning: invalid value encountered in divide\n",
      "  ret = ret.dtype.type(ret / rcount)\n"
     ]
    },
    {
     "name": "stdout",
     "output_type": "stream",
     "text": [
      "2020iat15.txt done\n",
      "Initial shape: 25792\n",
      "After removing no age IDs: 17023\n",
      "After removing invalid IDs: 17023\n",
      "After excluding zero latency IDs: 16903\n",
      "After excluding != 120 trials IDs: 16879\n",
      "After excluding more than 50% error IDs: 16866\n",
      "After excluding zero error IDs: 15320\n",
      "Successfully read datafile 2020iat16.txt .\n",
      "Converting to X and y arrays...\n",
      "IDs with less than 20 trials <200 ms or >10 seconds: (15269, 120, 3)\n",
      "IDs with 60 trials for each condition, 60 trials for both picture and word stimuli: (15269, 120, 3)\n",
      "Final shape of RTs chunk (after once more excluding cases w/ missing age or trials):  (15269, 120, 4)\n",
      "Final shape of outcomes chunk:  (15269, 120, 4)\n"
     ]
    },
    {
     "name": "stderr",
     "output_type": "stream",
     "text": [
      "/home/mischa/miniconda3/envs/bf/lib/python3.10/site-packages/numpy/core/fromnumeric.py:3432: RuntimeWarning: Mean of empty slice.\n",
      "  return _methods._mean(a, axis=axis, dtype=dtype,\n",
      "/home/mischa/miniconda3/envs/bf/lib/python3.10/site-packages/numpy/core/_methods.py:190: RuntimeWarning: invalid value encountered in divide\n",
      "  ret = ret.dtype.type(ret / rcount)\n",
      "/home/mischa/miniconda3/envs/bf/lib/python3.10/site-packages/numpy/core/_methods.py:265: RuntimeWarning: Degrees of freedom <= 0 for slice\n",
      "  ret = _var(a, axis=axis, dtype=dtype, out=out, ddof=ddof,\n",
      "/home/mischa/miniconda3/envs/bf/lib/python3.10/site-packages/numpy/core/_methods.py:223: RuntimeWarning: invalid value encountered in divide\n",
      "  arrmean = um.true_divide(arrmean, div, out=arrmean, casting='unsafe',\n",
      "/home/mischa/miniconda3/envs/bf/lib/python3.10/site-packages/numpy/core/_methods.py:257: RuntimeWarning: invalid value encountered in divide\n",
      "  ret = ret.dtype.type(ret / rcount)\n"
     ]
    },
    {
     "name": "stdout",
     "output_type": "stream",
     "text": [
      "2020iat16.txt done\n",
      "Initial shape: 26010\n",
      "After removing no age IDs: 17334\n",
      "After removing invalid IDs: 17334\n",
      "After excluding zero latency IDs: 17203\n",
      "After excluding != 120 trials IDs: 17173\n",
      "After excluding more than 50% error IDs: 17163\n",
      "After excluding zero error IDs: 15586\n",
      "Successfully read datafile 2020iat17.txt .\n",
      "Converting to X and y arrays...\n",
      "IDs with less than 20 trials <200 ms or >10 seconds: (15529, 120, 3)\n",
      "IDs with 60 trials for each condition, 60 trials for both picture and word stimuli: (15529, 120, 3)\n",
      "Final shape of RTs chunk (after once more excluding cases w/ missing age or trials):  (15529, 120, 4)\n",
      "Final shape of outcomes chunk:  (15529, 120, 4)\n"
     ]
    },
    {
     "name": "stderr",
     "output_type": "stream",
     "text": [
      "/home/mischa/miniconda3/envs/bf/lib/python3.10/site-packages/numpy/core/fromnumeric.py:3432: RuntimeWarning: Mean of empty slice.\n",
      "  return _methods._mean(a, axis=axis, dtype=dtype,\n",
      "/home/mischa/miniconda3/envs/bf/lib/python3.10/site-packages/numpy/core/_methods.py:190: RuntimeWarning: invalid value encountered in divide\n",
      "  ret = ret.dtype.type(ret / rcount)\n",
      "/home/mischa/miniconda3/envs/bf/lib/python3.10/site-packages/numpy/core/_methods.py:265: RuntimeWarning: Degrees of freedom <= 0 for slice\n",
      "  ret = _var(a, axis=axis, dtype=dtype, out=out, ddof=ddof,\n",
      "/home/mischa/miniconda3/envs/bf/lib/python3.10/site-packages/numpy/core/_methods.py:223: RuntimeWarning: invalid value encountered in divide\n",
      "  arrmean = um.true_divide(arrmean, div, out=arrmean, casting='unsafe',\n",
      "/home/mischa/miniconda3/envs/bf/lib/python3.10/site-packages/numpy/core/_methods.py:257: RuntimeWarning: invalid value encountered in divide\n",
      "  ret = ret.dtype.type(ret / rcount)\n"
     ]
    },
    {
     "name": "stdout",
     "output_type": "stream",
     "text": [
      "2020iat17.txt done\n",
      "Initial shape: 25930\n",
      "After removing no age IDs: 17101\n",
      "After removing invalid IDs: 17101\n",
      "After excluding zero latency IDs: 17003\n",
      "After excluding != 120 trials IDs: 16975\n",
      "After excluding more than 50% error IDs: 16967\n",
      "After excluding zero error IDs: 15267\n",
      "Successfully read datafile 2020iat18.txt .\n",
      "Converting to X and y arrays...\n",
      "IDs with less than 20 trials <200 ms or >10 seconds: (15232, 120, 3)\n",
      "IDs with 60 trials for each condition, 60 trials for both picture and word stimuli: (15232, 120, 3)\n",
      "Final shape of RTs chunk (after once more excluding cases w/ missing age or trials):  (15232, 120, 4)\n",
      "Final shape of outcomes chunk:  (15232, 120, 4)\n"
     ]
    },
    {
     "name": "stderr",
     "output_type": "stream",
     "text": [
      "/home/mischa/miniconda3/envs/bf/lib/python3.10/site-packages/numpy/core/fromnumeric.py:3432: RuntimeWarning: Mean of empty slice.\n",
      "  return _methods._mean(a, axis=axis, dtype=dtype,\n",
      "/home/mischa/miniconda3/envs/bf/lib/python3.10/site-packages/numpy/core/_methods.py:190: RuntimeWarning: invalid value encountered in divide\n",
      "  ret = ret.dtype.type(ret / rcount)\n",
      "/home/mischa/miniconda3/envs/bf/lib/python3.10/site-packages/numpy/core/_methods.py:265: RuntimeWarning: Degrees of freedom <= 0 for slice\n",
      "  ret = _var(a, axis=axis, dtype=dtype, out=out, ddof=ddof,\n",
      "/home/mischa/miniconda3/envs/bf/lib/python3.10/site-packages/numpy/core/_methods.py:223: RuntimeWarning: invalid value encountered in divide\n",
      "  arrmean = um.true_divide(arrmean, div, out=arrmean, casting='unsafe',\n",
      "/home/mischa/miniconda3/envs/bf/lib/python3.10/site-packages/numpy/core/_methods.py:257: RuntimeWarning: invalid value encountered in divide\n",
      "  ret = ret.dtype.type(ret / rcount)\n"
     ]
    },
    {
     "name": "stdout",
     "output_type": "stream",
     "text": [
      "2020iat18.txt done\n",
      "Initial shape: 25834\n",
      "After removing no age IDs: 16764\n",
      "After removing invalid IDs: 16764\n",
      "After excluding zero latency IDs: 16644\n",
      "After excluding != 120 trials IDs: 16631\n",
      "After excluding more than 50% error IDs: 16628\n",
      "After excluding zero error IDs: 15095\n",
      "Successfully read datafile 2020iat19.txt .\n",
      "Converting to X and y arrays...\n",
      "IDs with less than 20 trials <200 ms or >10 seconds: (15045, 120, 3)\n",
      "IDs with 60 trials for each condition, 60 trials for both picture and word stimuli: (15045, 120, 3)\n",
      "Final shape of RTs chunk (after once more excluding cases w/ missing age or trials):  (15045, 120, 4)\n",
      "Final shape of outcomes chunk:  (15045, 120, 4)\n"
     ]
    },
    {
     "name": "stderr",
     "output_type": "stream",
     "text": [
      "/home/mischa/miniconda3/envs/bf/lib/python3.10/site-packages/numpy/core/fromnumeric.py:3432: RuntimeWarning: Mean of empty slice.\n",
      "  return _methods._mean(a, axis=axis, dtype=dtype,\n",
      "/home/mischa/miniconda3/envs/bf/lib/python3.10/site-packages/numpy/core/_methods.py:190: RuntimeWarning: invalid value encountered in divide\n",
      "  ret = ret.dtype.type(ret / rcount)\n",
      "/home/mischa/miniconda3/envs/bf/lib/python3.10/site-packages/numpy/core/_methods.py:265: RuntimeWarning: Degrees of freedom <= 0 for slice\n",
      "  ret = _var(a, axis=axis, dtype=dtype, out=out, ddof=ddof,\n",
      "/home/mischa/miniconda3/envs/bf/lib/python3.10/site-packages/numpy/core/_methods.py:223: RuntimeWarning: invalid value encountered in divide\n",
      "  arrmean = um.true_divide(arrmean, div, out=arrmean, casting='unsafe',\n",
      "/home/mischa/miniconda3/envs/bf/lib/python3.10/site-packages/numpy/core/_methods.py:257: RuntimeWarning: invalid value encountered in divide\n",
      "  ret = ret.dtype.type(ret / rcount)\n"
     ]
    },
    {
     "name": "stdout",
     "output_type": "stream",
     "text": [
      "2020iat19.txt done\n",
      "Initial shape: 25762\n",
      "After removing no age IDs: 16037\n",
      "After removing invalid IDs: 16037\n",
      "After excluding zero latency IDs: 15903\n",
      "After excluding != 120 trials IDs: 15884\n",
      "After excluding more than 50% error IDs: 15864\n",
      "After excluding zero error IDs: 14772\n",
      "Successfully read datafile 2020iat2.txt .\n",
      "Converting to X and y arrays...\n",
      "IDs with less than 20 trials <200 ms or >10 seconds: (14660, 120, 3)\n",
      "IDs with 60 trials for each condition, 60 trials for both picture and word stimuli: (14660, 120, 3)\n",
      "Final shape of RTs chunk (after once more excluding cases w/ missing age or trials):  (14660, 120, 4)\n",
      "Final shape of outcomes chunk:  (14660, 120, 4)\n"
     ]
    },
    {
     "name": "stderr",
     "output_type": "stream",
     "text": [
      "/home/mischa/miniconda3/envs/bf/lib/python3.10/site-packages/numpy/core/fromnumeric.py:3432: RuntimeWarning: Mean of empty slice.\n",
      "  return _methods._mean(a, axis=axis, dtype=dtype,\n",
      "/home/mischa/miniconda3/envs/bf/lib/python3.10/site-packages/numpy/core/_methods.py:190: RuntimeWarning: invalid value encountered in divide\n",
      "  ret = ret.dtype.type(ret / rcount)\n",
      "/home/mischa/miniconda3/envs/bf/lib/python3.10/site-packages/numpy/core/_methods.py:265: RuntimeWarning: Degrees of freedom <= 0 for slice\n",
      "  ret = _var(a, axis=axis, dtype=dtype, out=out, ddof=ddof,\n",
      "/home/mischa/miniconda3/envs/bf/lib/python3.10/site-packages/numpy/core/_methods.py:223: RuntimeWarning: invalid value encountered in divide\n",
      "  arrmean = um.true_divide(arrmean, div, out=arrmean, casting='unsafe',\n",
      "/home/mischa/miniconda3/envs/bf/lib/python3.10/site-packages/numpy/core/_methods.py:257: RuntimeWarning: invalid value encountered in divide\n",
      "  ret = ret.dtype.type(ret / rcount)\n"
     ]
    },
    {
     "name": "stdout",
     "output_type": "stream",
     "text": [
      "2020iat2.txt done\n",
      "Initial shape: 25847\n",
      "After removing no age IDs: 16816\n",
      "After removing invalid IDs: 16816\n",
      "After excluding zero latency IDs: 16709\n",
      "After excluding != 120 trials IDs: 16685\n",
      "After excluding more than 50% error IDs: 16676\n",
      "After excluding zero error IDs: 15131\n",
      "Successfully read datafile 2020iat20.txt .\n",
      "Converting to X and y arrays...\n",
      "IDs with less than 20 trials <200 ms or >10 seconds: (15086, 120, 3)\n",
      "IDs with 60 trials for each condition, 60 trials for both picture and word stimuli: (15086, 120, 3)\n",
      "Final shape of RTs chunk (after once more excluding cases w/ missing age or trials):  (15086, 120, 4)\n",
      "Final shape of outcomes chunk:  (15086, 120, 4)\n"
     ]
    },
    {
     "name": "stderr",
     "output_type": "stream",
     "text": [
      "/home/mischa/miniconda3/envs/bf/lib/python3.10/site-packages/numpy/core/fromnumeric.py:3432: RuntimeWarning: Mean of empty slice.\n",
      "  return _methods._mean(a, axis=axis, dtype=dtype,\n",
      "/home/mischa/miniconda3/envs/bf/lib/python3.10/site-packages/numpy/core/_methods.py:190: RuntimeWarning: invalid value encountered in divide\n",
      "  ret = ret.dtype.type(ret / rcount)\n",
      "/home/mischa/miniconda3/envs/bf/lib/python3.10/site-packages/numpy/core/_methods.py:265: RuntimeWarning: Degrees of freedom <= 0 for slice\n",
      "  ret = _var(a, axis=axis, dtype=dtype, out=out, ddof=ddof,\n",
      "/home/mischa/miniconda3/envs/bf/lib/python3.10/site-packages/numpy/core/_methods.py:223: RuntimeWarning: invalid value encountered in divide\n",
      "  arrmean = um.true_divide(arrmean, div, out=arrmean, casting='unsafe',\n",
      "/home/mischa/miniconda3/envs/bf/lib/python3.10/site-packages/numpy/core/_methods.py:257: RuntimeWarning: invalid value encountered in divide\n",
      "  ret = ret.dtype.type(ret / rcount)\n"
     ]
    },
    {
     "name": "stdout",
     "output_type": "stream",
     "text": [
      "2020iat20.txt done\n",
      "Initial shape: 25812\n",
      "After removing no age IDs: 17159\n",
      "After removing invalid IDs: 17159\n",
      "After excluding zero latency IDs: 17029\n",
      "After excluding != 120 trials IDs: 17006\n",
      "After excluding more than 50% error IDs: 17000\n",
      "After excluding zero error IDs: 15438\n",
      "Successfully read datafile 2020iat21.txt .\n",
      "Converting to X and y arrays...\n",
      "IDs with less than 20 trials <200 ms or >10 seconds: (15385, 120, 3)\n",
      "IDs with 60 trials for each condition, 60 trials for both picture and word stimuli: (15385, 120, 3)\n",
      "Final shape of RTs chunk (after once more excluding cases w/ missing age or trials):  (15385, 120, 4)\n",
      "Final shape of outcomes chunk:  (15385, 120, 4)\n"
     ]
    },
    {
     "name": "stderr",
     "output_type": "stream",
     "text": [
      "/home/mischa/miniconda3/envs/bf/lib/python3.10/site-packages/numpy/core/fromnumeric.py:3432: RuntimeWarning: Mean of empty slice.\n",
      "  return _methods._mean(a, axis=axis, dtype=dtype,\n",
      "/home/mischa/miniconda3/envs/bf/lib/python3.10/site-packages/numpy/core/_methods.py:190: RuntimeWarning: invalid value encountered in divide\n",
      "  ret = ret.dtype.type(ret / rcount)\n",
      "/home/mischa/miniconda3/envs/bf/lib/python3.10/site-packages/numpy/core/_methods.py:265: RuntimeWarning: Degrees of freedom <= 0 for slice\n",
      "  ret = _var(a, axis=axis, dtype=dtype, out=out, ddof=ddof,\n",
      "/home/mischa/miniconda3/envs/bf/lib/python3.10/site-packages/numpy/core/_methods.py:223: RuntimeWarning: invalid value encountered in divide\n",
      "  arrmean = um.true_divide(arrmean, div, out=arrmean, casting='unsafe',\n",
      "/home/mischa/miniconda3/envs/bf/lib/python3.10/site-packages/numpy/core/_methods.py:257: RuntimeWarning: invalid value encountered in divide\n",
      "  ret = ret.dtype.type(ret / rcount)\n"
     ]
    },
    {
     "name": "stdout",
     "output_type": "stream",
     "text": [
      "2020iat21.txt done\n",
      "Initial shape: 25892\n",
      "After removing no age IDs: 17243\n",
      "After removing invalid IDs: 17243\n",
      "After excluding zero latency IDs: 17120\n",
      "After excluding != 120 trials IDs: 17085\n",
      "After excluding more than 50% error IDs: 17072\n",
      "After excluding zero error IDs: 15377\n",
      "Successfully read datafile 2020iat22.txt .\n",
      "Converting to X and y arrays...\n",
      "IDs with less than 20 trials <200 ms or >10 seconds: (15322, 120, 3)\n",
      "IDs with 60 trials for each condition, 60 trials for both picture and word stimuli: (15322, 120, 3)\n",
      "Final shape of RTs chunk (after once more excluding cases w/ missing age or trials):  (15322, 120, 4)\n",
      "Final shape of outcomes chunk:  (15322, 120, 4)\n"
     ]
    },
    {
     "name": "stderr",
     "output_type": "stream",
     "text": [
      "/home/mischa/miniconda3/envs/bf/lib/python3.10/site-packages/numpy/core/fromnumeric.py:3432: RuntimeWarning: Mean of empty slice.\n",
      "  return _methods._mean(a, axis=axis, dtype=dtype,\n",
      "/home/mischa/miniconda3/envs/bf/lib/python3.10/site-packages/numpy/core/_methods.py:190: RuntimeWarning: invalid value encountered in divide\n",
      "  ret = ret.dtype.type(ret / rcount)\n",
      "/home/mischa/miniconda3/envs/bf/lib/python3.10/site-packages/numpy/core/_methods.py:265: RuntimeWarning: Degrees of freedom <= 0 for slice\n",
      "  ret = _var(a, axis=axis, dtype=dtype, out=out, ddof=ddof,\n",
      "/home/mischa/miniconda3/envs/bf/lib/python3.10/site-packages/numpy/core/_methods.py:223: RuntimeWarning: invalid value encountered in divide\n",
      "  arrmean = um.true_divide(arrmean, div, out=arrmean, casting='unsafe',\n",
      "/home/mischa/miniconda3/envs/bf/lib/python3.10/site-packages/numpy/core/_methods.py:257: RuntimeWarning: invalid value encountered in divide\n",
      "  ret = ret.dtype.type(ret / rcount)\n"
     ]
    },
    {
     "name": "stdout",
     "output_type": "stream",
     "text": [
      "2020iat22.txt done\n",
      "Initial shape: 26073\n",
      "After removing no age IDs: 16938\n",
      "After removing invalid IDs: 16938\n",
      "After excluding zero latency IDs: 16800\n",
      "After excluding != 120 trials IDs: 16771\n",
      "After excluding more than 50% error IDs: 16765\n",
      "After excluding zero error IDs: 15267\n",
      "Successfully read datafile 2020iat23.txt .\n",
      "Converting to X and y arrays...\n",
      "IDs with less than 20 trials <200 ms or >10 seconds: (15200, 120, 3)\n",
      "IDs with 60 trials for each condition, 60 trials for both picture and word stimuli: (15200, 120, 3)\n",
      "Final shape of RTs chunk (after once more excluding cases w/ missing age or trials):  (15200, 120, 4)\n",
      "Final shape of outcomes chunk:  (15200, 120, 4)\n"
     ]
    },
    {
     "name": "stderr",
     "output_type": "stream",
     "text": [
      "/home/mischa/miniconda3/envs/bf/lib/python3.10/site-packages/numpy/core/fromnumeric.py:3432: RuntimeWarning: Mean of empty slice.\n",
      "  return _methods._mean(a, axis=axis, dtype=dtype,\n",
      "/home/mischa/miniconda3/envs/bf/lib/python3.10/site-packages/numpy/core/_methods.py:190: RuntimeWarning: invalid value encountered in divide\n",
      "  ret = ret.dtype.type(ret / rcount)\n",
      "/home/mischa/miniconda3/envs/bf/lib/python3.10/site-packages/numpy/core/_methods.py:265: RuntimeWarning: Degrees of freedom <= 0 for slice\n",
      "  ret = _var(a, axis=axis, dtype=dtype, out=out, ddof=ddof,\n",
      "/home/mischa/miniconda3/envs/bf/lib/python3.10/site-packages/numpy/core/_methods.py:223: RuntimeWarning: invalid value encountered in divide\n",
      "  arrmean = um.true_divide(arrmean, div, out=arrmean, casting='unsafe',\n",
      "/home/mischa/miniconda3/envs/bf/lib/python3.10/site-packages/numpy/core/_methods.py:257: RuntimeWarning: invalid value encountered in divide\n",
      "  ret = ret.dtype.type(ret / rcount)\n"
     ]
    },
    {
     "name": "stdout",
     "output_type": "stream",
     "text": [
      "2020iat23.txt done\n",
      "Initial shape: 26019\n",
      "After removing no age IDs: 16597\n",
      "After removing invalid IDs: 16597\n",
      "After excluding zero latency IDs: 16468\n",
      "After excluding != 120 trials IDs: 16446\n",
      "After excluding more than 50% error IDs: 16434\n",
      "After excluding zero error IDs: 14940\n",
      "Successfully read datafile 2020iat24.txt .\n",
      "Converting to X and y arrays...\n",
      "IDs with less than 20 trials <200 ms or >10 seconds: (14881, 120, 3)\n",
      "IDs with 60 trials for each condition, 60 trials for both picture and word stimuli: (14881, 120, 3)\n",
      "Final shape of RTs chunk (after once more excluding cases w/ missing age or trials):  (14881, 120, 4)\n",
      "Final shape of outcomes chunk:  (14881, 120, 4)\n"
     ]
    },
    {
     "name": "stderr",
     "output_type": "stream",
     "text": [
      "/home/mischa/miniconda3/envs/bf/lib/python3.10/site-packages/numpy/core/fromnumeric.py:3432: RuntimeWarning: Mean of empty slice.\n",
      "  return _methods._mean(a, axis=axis, dtype=dtype,\n",
      "/home/mischa/miniconda3/envs/bf/lib/python3.10/site-packages/numpy/core/_methods.py:190: RuntimeWarning: invalid value encountered in divide\n",
      "  ret = ret.dtype.type(ret / rcount)\n",
      "/home/mischa/miniconda3/envs/bf/lib/python3.10/site-packages/numpy/core/_methods.py:265: RuntimeWarning: Degrees of freedom <= 0 for slice\n",
      "  ret = _var(a, axis=axis, dtype=dtype, out=out, ddof=ddof,\n",
      "/home/mischa/miniconda3/envs/bf/lib/python3.10/site-packages/numpy/core/_methods.py:223: RuntimeWarning: invalid value encountered in divide\n",
      "  arrmean = um.true_divide(arrmean, div, out=arrmean, casting='unsafe',\n",
      "/home/mischa/miniconda3/envs/bf/lib/python3.10/site-packages/numpy/core/_methods.py:257: RuntimeWarning: invalid value encountered in divide\n",
      "  ret = ret.dtype.type(ret / rcount)\n"
     ]
    },
    {
     "name": "stdout",
     "output_type": "stream",
     "text": [
      "2020iat24.txt done\n",
      "Initial shape: 13720\n",
      "After removing no age IDs: 8664\n",
      "After removing invalid IDs: 8664\n",
      "After excluding zero latency IDs: 8606\n",
      "After excluding != 120 trials IDs: 8590\n",
      "After excluding more than 50% error IDs: 8584\n",
      "After excluding zero error IDs: 7724\n",
      "Successfully read datafile 2020iat25.txt .\n",
      "Converting to X and y arrays...\n",
      "IDs with less than 20 trials <200 ms or >10 seconds: (7694, 120, 3)\n",
      "IDs with 60 trials for each condition, 60 trials for both picture and word stimuli: (7694, 120, 3)\n",
      "Final shape of RTs chunk (after once more excluding cases w/ missing age or trials):  (7694, 120, 4)\n",
      "Final shape of outcomes chunk:  (7694, 120, 4)\n"
     ]
    },
    {
     "name": "stderr",
     "output_type": "stream",
     "text": [
      "/home/mischa/miniconda3/envs/bf/lib/python3.10/site-packages/numpy/core/fromnumeric.py:3432: RuntimeWarning: Mean of empty slice.\n",
      "  return _methods._mean(a, axis=axis, dtype=dtype,\n",
      "/home/mischa/miniconda3/envs/bf/lib/python3.10/site-packages/numpy/core/_methods.py:190: RuntimeWarning: invalid value encountered in divide\n",
      "  ret = ret.dtype.type(ret / rcount)\n",
      "/home/mischa/miniconda3/envs/bf/lib/python3.10/site-packages/numpy/core/_methods.py:265: RuntimeWarning: Degrees of freedom <= 0 for slice\n",
      "  ret = _var(a, axis=axis, dtype=dtype, out=out, ddof=ddof,\n",
      "/home/mischa/miniconda3/envs/bf/lib/python3.10/site-packages/numpy/core/_methods.py:223: RuntimeWarning: invalid value encountered in divide\n",
      "  arrmean = um.true_divide(arrmean, div, out=arrmean, casting='unsafe',\n",
      "/home/mischa/miniconda3/envs/bf/lib/python3.10/site-packages/numpy/core/_methods.py:257: RuntimeWarning: invalid value encountered in divide\n",
      "  ret = ret.dtype.type(ret / rcount)\n"
     ]
    },
    {
     "name": "stdout",
     "output_type": "stream",
     "text": [
      "2020iat25.txt done\n",
      "Initial shape: 25957\n",
      "After removing no age IDs: 16045\n",
      "After removing invalid IDs: 16045\n",
      "After excluding zero latency IDs: 15899\n",
      "After excluding != 120 trials IDs: 15874\n",
      "After excluding more than 50% error IDs: 15860\n",
      "After excluding zero error IDs: 14745\n",
      "Successfully read datafile 2020iat3.txt .\n",
      "Converting to X and y arrays...\n",
      "IDs with less than 20 trials <200 ms or >10 seconds: (14626, 120, 3)\n",
      "IDs with 60 trials for each condition, 60 trials for both picture and word stimuli: (14626, 120, 3)\n",
      "Final shape of RTs chunk (after once more excluding cases w/ missing age or trials):  (14626, 120, 4)\n",
      "Final shape of outcomes chunk:  (14626, 120, 4)\n"
     ]
    },
    {
     "name": "stderr",
     "output_type": "stream",
     "text": [
      "/home/mischa/miniconda3/envs/bf/lib/python3.10/site-packages/numpy/core/fromnumeric.py:3432: RuntimeWarning: Mean of empty slice.\n",
      "  return _methods._mean(a, axis=axis, dtype=dtype,\n",
      "/home/mischa/miniconda3/envs/bf/lib/python3.10/site-packages/numpy/core/_methods.py:190: RuntimeWarning: invalid value encountered in divide\n",
      "  ret = ret.dtype.type(ret / rcount)\n",
      "/home/mischa/miniconda3/envs/bf/lib/python3.10/site-packages/numpy/core/_methods.py:265: RuntimeWarning: Degrees of freedom <= 0 for slice\n",
      "  ret = _var(a, axis=axis, dtype=dtype, out=out, ddof=ddof,\n",
      "/home/mischa/miniconda3/envs/bf/lib/python3.10/site-packages/numpy/core/_methods.py:223: RuntimeWarning: invalid value encountered in divide\n",
      "  arrmean = um.true_divide(arrmean, div, out=arrmean, casting='unsafe',\n",
      "/home/mischa/miniconda3/envs/bf/lib/python3.10/site-packages/numpy/core/_methods.py:257: RuntimeWarning: invalid value encountered in divide\n",
      "  ret = ret.dtype.type(ret / rcount)\n"
     ]
    },
    {
     "name": "stdout",
     "output_type": "stream",
     "text": [
      "2020iat3.txt done\n",
      "Initial shape: 25869\n",
      "After removing no age IDs: 16441\n",
      "After removing invalid IDs: 16441\n",
      "After excluding zero latency IDs: 16276\n",
      "After excluding != 120 trials IDs: 16244\n",
      "After excluding more than 50% error IDs: 16233\n",
      "After excluding zero error IDs: 15100\n",
      "Successfully read datafile 2020iat4.txt .\n",
      "Converting to X and y arrays...\n",
      "IDs with less than 20 trials <200 ms or >10 seconds: (15018, 120, 3)\n",
      "IDs with 60 trials for each condition, 60 trials for both picture and word stimuli: (15018, 120, 3)\n",
      "Final shape of RTs chunk (after once more excluding cases w/ missing age or trials):  (15018, 120, 4)\n",
      "Final shape of outcomes chunk:  (15018, 120, 4)\n"
     ]
    },
    {
     "name": "stderr",
     "output_type": "stream",
     "text": [
      "/home/mischa/miniconda3/envs/bf/lib/python3.10/site-packages/numpy/core/fromnumeric.py:3432: RuntimeWarning: Mean of empty slice.\n",
      "  return _methods._mean(a, axis=axis, dtype=dtype,\n",
      "/home/mischa/miniconda3/envs/bf/lib/python3.10/site-packages/numpy/core/_methods.py:190: RuntimeWarning: invalid value encountered in divide\n",
      "  ret = ret.dtype.type(ret / rcount)\n",
      "/home/mischa/miniconda3/envs/bf/lib/python3.10/site-packages/numpy/core/_methods.py:265: RuntimeWarning: Degrees of freedom <= 0 for slice\n",
      "  ret = _var(a, axis=axis, dtype=dtype, out=out, ddof=ddof,\n",
      "/home/mischa/miniconda3/envs/bf/lib/python3.10/site-packages/numpy/core/_methods.py:223: RuntimeWarning: invalid value encountered in divide\n",
      "  arrmean = um.true_divide(arrmean, div, out=arrmean, casting='unsafe',\n",
      "/home/mischa/miniconda3/envs/bf/lib/python3.10/site-packages/numpy/core/_methods.py:257: RuntimeWarning: invalid value encountered in divide\n",
      "  ret = ret.dtype.type(ret / rcount)\n"
     ]
    },
    {
     "name": "stdout",
     "output_type": "stream",
     "text": [
      "2020iat4.txt done\n",
      "Initial shape: 25740\n",
      "After removing no age IDs: 16093\n",
      "After removing invalid IDs: 16093\n",
      "After excluding zero latency IDs: 15976\n",
      "After excluding != 120 trials IDs: 15953\n",
      "After excluding more than 50% error IDs: 15942\n",
      "After excluding zero error IDs: 14642\n",
      "Successfully read datafile 2020iat5.txt .\n",
      "Converting to X and y arrays...\n",
      "IDs with less than 20 trials <200 ms or >10 seconds: (14582, 120, 3)\n",
      "IDs with 60 trials for each condition, 60 trials for both picture and word stimuli: (14582, 120, 3)\n",
      "Final shape of RTs chunk (after once more excluding cases w/ missing age or trials):  (14582, 120, 4)\n",
      "Final shape of outcomes chunk:  (14582, 120, 4)\n"
     ]
    },
    {
     "name": "stderr",
     "output_type": "stream",
     "text": [
      "/home/mischa/miniconda3/envs/bf/lib/python3.10/site-packages/numpy/core/fromnumeric.py:3432: RuntimeWarning: Mean of empty slice.\n",
      "  return _methods._mean(a, axis=axis, dtype=dtype,\n",
      "/home/mischa/miniconda3/envs/bf/lib/python3.10/site-packages/numpy/core/_methods.py:190: RuntimeWarning: invalid value encountered in divide\n",
      "  ret = ret.dtype.type(ret / rcount)\n",
      "/home/mischa/miniconda3/envs/bf/lib/python3.10/site-packages/numpy/core/_methods.py:265: RuntimeWarning: Degrees of freedom <= 0 for slice\n",
      "  ret = _var(a, axis=axis, dtype=dtype, out=out, ddof=ddof,\n",
      "/home/mischa/miniconda3/envs/bf/lib/python3.10/site-packages/numpy/core/_methods.py:223: RuntimeWarning: invalid value encountered in divide\n",
      "  arrmean = um.true_divide(arrmean, div, out=arrmean, casting='unsafe',\n",
      "/home/mischa/miniconda3/envs/bf/lib/python3.10/site-packages/numpy/core/_methods.py:257: RuntimeWarning: invalid value encountered in divide\n",
      "  ret = ret.dtype.type(ret / rcount)\n"
     ]
    },
    {
     "name": "stdout",
     "output_type": "stream",
     "text": [
      "2020iat5.txt done\n",
      "Initial shape: 25972\n",
      "After removing no age IDs: 15725\n",
      "After removing invalid IDs: 15725\n",
      "After excluding zero latency IDs: 15707\n",
      "After excluding != 120 trials IDs: 15685\n",
      "After excluding more than 50% error IDs: 15682\n",
      "After excluding zero error IDs: 13837\n",
      "Successfully read datafile 2020iat6.txt .\n",
      "Converting to X and y arrays...\n",
      "IDs with less than 20 trials <200 ms or >10 seconds: (13827, 120, 3)\n",
      "IDs with 60 trials for each condition, 60 trials for both picture and word stimuli: (13827, 120, 3)\n",
      "Final shape of RTs chunk (after once more excluding cases w/ missing age or trials):  (13827, 120, 4)\n",
      "Final shape of outcomes chunk:  (13827, 120, 4)\n"
     ]
    },
    {
     "name": "stderr",
     "output_type": "stream",
     "text": [
      "/home/mischa/miniconda3/envs/bf/lib/python3.10/site-packages/numpy/core/fromnumeric.py:3432: RuntimeWarning: Mean of empty slice.\n",
      "  return _methods._mean(a, axis=axis, dtype=dtype,\n",
      "/home/mischa/miniconda3/envs/bf/lib/python3.10/site-packages/numpy/core/_methods.py:190: RuntimeWarning: invalid value encountered in divide\n",
      "  ret = ret.dtype.type(ret / rcount)\n",
      "/home/mischa/miniconda3/envs/bf/lib/python3.10/site-packages/numpy/core/_methods.py:265: RuntimeWarning: Degrees of freedom <= 0 for slice\n",
      "  ret = _var(a, axis=axis, dtype=dtype, out=out, ddof=ddof,\n",
      "/home/mischa/miniconda3/envs/bf/lib/python3.10/site-packages/numpy/core/_methods.py:223: RuntimeWarning: invalid value encountered in divide\n",
      "  arrmean = um.true_divide(arrmean, div, out=arrmean, casting='unsafe',\n",
      "/home/mischa/miniconda3/envs/bf/lib/python3.10/site-packages/numpy/core/_methods.py:257: RuntimeWarning: invalid value encountered in divide\n",
      "  ret = ret.dtype.type(ret / rcount)\n"
     ]
    },
    {
     "name": "stdout",
     "output_type": "stream",
     "text": [
      "2020iat6.txt done\n",
      "Initial shape: 25952\n",
      "After removing no age IDs: 16202\n",
      "After removing invalid IDs: 16202\n",
      "After excluding zero latency IDs: 16168\n",
      "After excluding != 120 trials IDs: 16146\n",
      "After excluding more than 50% error IDs: 16142\n",
      "After excluding zero error IDs: 14179\n",
      "Successfully read datafile 2020iat7.txt .\n",
      "Converting to X and y arrays...\n",
      "IDs with less than 20 trials <200 ms or >10 seconds: (14163, 120, 3)\n",
      "IDs with 60 trials for each condition, 60 trials for both picture and word stimuli: (14163, 120, 3)\n",
      "Final shape of RTs chunk (after once more excluding cases w/ missing age or trials):  (14163, 120, 4)\n",
      "Final shape of outcomes chunk:  (14163, 120, 4)\n"
     ]
    },
    {
     "name": "stderr",
     "output_type": "stream",
     "text": [
      "/home/mischa/miniconda3/envs/bf/lib/python3.10/site-packages/numpy/core/fromnumeric.py:3432: RuntimeWarning: Mean of empty slice.\n",
      "  return _methods._mean(a, axis=axis, dtype=dtype,\n",
      "/home/mischa/miniconda3/envs/bf/lib/python3.10/site-packages/numpy/core/_methods.py:190: RuntimeWarning: invalid value encountered in divide\n",
      "  ret = ret.dtype.type(ret / rcount)\n",
      "/home/mischa/miniconda3/envs/bf/lib/python3.10/site-packages/numpy/core/_methods.py:265: RuntimeWarning: Degrees of freedom <= 0 for slice\n",
      "  ret = _var(a, axis=axis, dtype=dtype, out=out, ddof=ddof,\n",
      "/home/mischa/miniconda3/envs/bf/lib/python3.10/site-packages/numpy/core/_methods.py:223: RuntimeWarning: invalid value encountered in divide\n",
      "  arrmean = um.true_divide(arrmean, div, out=arrmean, casting='unsafe',\n",
      "/home/mischa/miniconda3/envs/bf/lib/python3.10/site-packages/numpy/core/_methods.py:257: RuntimeWarning: invalid value encountered in divide\n",
      "  ret = ret.dtype.type(ret / rcount)\n"
     ]
    },
    {
     "name": "stdout",
     "output_type": "stream",
     "text": [
      "2020iat7.txt done\n",
      "Initial shape: 25809\n",
      "After removing no age IDs: 16617\n",
      "After removing invalid IDs: 16617\n",
      "After excluding zero latency IDs: 16574\n",
      "After excluding != 120 trials IDs: 16550\n",
      "After excluding more than 50% error IDs: 16548\n",
      "After excluding zero error IDs: 14552\n",
      "Successfully read datafile 2020iat8.txt .\n",
      "Converting to X and y arrays...\n",
      "IDs with less than 20 trials <200 ms or >10 seconds: (14535, 120, 3)\n",
      "IDs with 60 trials for each condition, 60 trials for both picture and word stimuli: (14535, 120, 3)\n",
      "Final shape of RTs chunk (after once more excluding cases w/ missing age or trials):  (14535, 120, 4)\n",
      "Final shape of outcomes chunk:  (14535, 120, 4)\n"
     ]
    },
    {
     "name": "stderr",
     "output_type": "stream",
     "text": [
      "/home/mischa/miniconda3/envs/bf/lib/python3.10/site-packages/numpy/core/fromnumeric.py:3432: RuntimeWarning: Mean of empty slice.\n",
      "  return _methods._mean(a, axis=axis, dtype=dtype,\n",
      "/home/mischa/miniconda3/envs/bf/lib/python3.10/site-packages/numpy/core/_methods.py:190: RuntimeWarning: invalid value encountered in divide\n",
      "  ret = ret.dtype.type(ret / rcount)\n",
      "/home/mischa/miniconda3/envs/bf/lib/python3.10/site-packages/numpy/core/_methods.py:265: RuntimeWarning: Degrees of freedom <= 0 for slice\n",
      "  ret = _var(a, axis=axis, dtype=dtype, out=out, ddof=ddof,\n",
      "/home/mischa/miniconda3/envs/bf/lib/python3.10/site-packages/numpy/core/_methods.py:223: RuntimeWarning: invalid value encountered in divide\n",
      "  arrmean = um.true_divide(arrmean, div, out=arrmean, casting='unsafe',\n",
      "/home/mischa/miniconda3/envs/bf/lib/python3.10/site-packages/numpy/core/_methods.py:257: RuntimeWarning: invalid value encountered in divide\n",
      "  ret = ret.dtype.type(ret / rcount)\n"
     ]
    },
    {
     "name": "stdout",
     "output_type": "stream",
     "text": [
      "2020iat8.txt done\n",
      "Initial shape: 25908\n",
      "After removing no age IDs: 16818\n",
      "After removing invalid IDs: 16818\n",
      "After excluding zero latency IDs: 16777\n",
      "After excluding != 120 trials IDs: 16755\n",
      "After excluding more than 50% error IDs: 16753\n",
      "After excluding zero error IDs: 14658\n",
      "Successfully read datafile 2020iat9.txt .\n",
      "Converting to X and y arrays...\n",
      "IDs with less than 20 trials <200 ms or >10 seconds: (14643, 120, 3)\n",
      "IDs with 60 trials for each condition, 60 trials for both picture and word stimuli: (14643, 120, 3)\n",
      "Final shape of RTs chunk (after once more excluding cases w/ missing age or trials):  (14643, 120, 4)\n",
      "Final shape of outcomes chunk:  (14643, 120, 4)\n"
     ]
    },
    {
     "name": "stderr",
     "output_type": "stream",
     "text": [
      "/home/mischa/miniconda3/envs/bf/lib/python3.10/site-packages/numpy/core/fromnumeric.py:3432: RuntimeWarning: Mean of empty slice.\n",
      "  return _methods._mean(a, axis=axis, dtype=dtype,\n",
      "/home/mischa/miniconda3/envs/bf/lib/python3.10/site-packages/numpy/core/_methods.py:190: RuntimeWarning: invalid value encountered in divide\n",
      "  ret = ret.dtype.type(ret / rcount)\n",
      "/home/mischa/miniconda3/envs/bf/lib/python3.10/site-packages/numpy/core/_methods.py:265: RuntimeWarning: Degrees of freedom <= 0 for slice\n",
      "  ret = _var(a, axis=axis, dtype=dtype, out=out, ddof=ddof,\n",
      "/home/mischa/miniconda3/envs/bf/lib/python3.10/site-packages/numpy/core/_methods.py:223: RuntimeWarning: invalid value encountered in divide\n",
      "  arrmean = um.true_divide(arrmean, div, out=arrmean, casting='unsafe',\n",
      "/home/mischa/miniconda3/envs/bf/lib/python3.10/site-packages/numpy/core/_methods.py:257: RuntimeWarning: invalid value encountered in divide\n",
      "  ret = ret.dtype.type(ret / rcount)\n"
     ]
    },
    {
     "name": "stdout",
     "output_type": "stream",
     "text": [
      "2020iat9.txt done\n",
      "Initial shape: 25912\n",
      "After removing no age IDs: 15261\n",
      "After removing invalid IDs: 15261\n",
      "After excluding zero latency IDs: 15151\n",
      "After excluding != 120 trials IDs: 15118\n",
      "After excluding more than 50% error IDs: 15108\n",
      "After excluding zero error IDs: 13577\n",
      "Successfully read datafile 2021iat.txt .\n",
      "Converting to X and y arrays...\n",
      "IDs with less than 20 trials <200 ms or >10 seconds: (13543, 120, 3)\n",
      "IDs with 60 trials for each condition, 60 trials for both picture and word stimuli: (13543, 120, 3)\n",
      "Final shape of RTs chunk (after once more excluding cases w/ missing age or trials):  (13543, 120, 4)\n",
      "Final shape of outcomes chunk:  (13543, 120, 4)\n"
     ]
    },
    {
     "name": "stderr",
     "output_type": "stream",
     "text": [
      "/home/mischa/miniconda3/envs/bf/lib/python3.10/site-packages/numpy/core/fromnumeric.py:3432: RuntimeWarning: Mean of empty slice.\n",
      "  return _methods._mean(a, axis=axis, dtype=dtype,\n",
      "/home/mischa/miniconda3/envs/bf/lib/python3.10/site-packages/numpy/core/_methods.py:190: RuntimeWarning: invalid value encountered in divide\n",
      "  ret = ret.dtype.type(ret / rcount)\n",
      "/home/mischa/miniconda3/envs/bf/lib/python3.10/site-packages/numpy/core/_methods.py:265: RuntimeWarning: Degrees of freedom <= 0 for slice\n",
      "  ret = _var(a, axis=axis, dtype=dtype, out=out, ddof=ddof,\n",
      "/home/mischa/miniconda3/envs/bf/lib/python3.10/site-packages/numpy/core/_methods.py:223: RuntimeWarning: invalid value encountered in divide\n",
      "  arrmean = um.true_divide(arrmean, div, out=arrmean, casting='unsafe',\n",
      "/home/mischa/miniconda3/envs/bf/lib/python3.10/site-packages/numpy/core/_methods.py:257: RuntimeWarning: invalid value encountered in divide\n",
      "  ret = ret.dtype.type(ret / rcount)\n"
     ]
    },
    {
     "name": "stdout",
     "output_type": "stream",
     "text": [
      "2021iat.txt done\n",
      "Initial shape: 25770\n",
      "After removing no age IDs: 12354\n",
      "After removing invalid IDs: 12354\n",
      "After excluding zero latency IDs: 12259\n",
      "After excluding != 120 trials IDs: 12241\n",
      "After excluding more than 50% error IDs: 12233\n",
      "After excluding zero error IDs: 10995\n",
      "Successfully read datafile 2021iat10.txt .\n",
      "Converting to X and y arrays...\n",
      "IDs with less than 20 trials <200 ms or >10 seconds: (10967, 120, 3)\n",
      "IDs with 60 trials for each condition, 60 trials for both picture and word stimuli: (10967, 120, 3)\n",
      "Final shape of RTs chunk (after once more excluding cases w/ missing age or trials):  (10967, 120, 4)\n",
      "Final shape of outcomes chunk:  (10967, 120, 4)\n"
     ]
    },
    {
     "name": "stderr",
     "output_type": "stream",
     "text": [
      "/home/mischa/miniconda3/envs/bf/lib/python3.10/site-packages/numpy/core/fromnumeric.py:3432: RuntimeWarning: Mean of empty slice.\n",
      "  return _methods._mean(a, axis=axis, dtype=dtype,\n",
      "/home/mischa/miniconda3/envs/bf/lib/python3.10/site-packages/numpy/core/_methods.py:190: RuntimeWarning: invalid value encountered in divide\n",
      "  ret = ret.dtype.type(ret / rcount)\n",
      "/home/mischa/miniconda3/envs/bf/lib/python3.10/site-packages/numpy/core/_methods.py:265: RuntimeWarning: Degrees of freedom <= 0 for slice\n",
      "  ret = _var(a, axis=axis, dtype=dtype, out=out, ddof=ddof,\n",
      "/home/mischa/miniconda3/envs/bf/lib/python3.10/site-packages/numpy/core/_methods.py:223: RuntimeWarning: invalid value encountered in divide\n",
      "  arrmean = um.true_divide(arrmean, div, out=arrmean, casting='unsafe',\n",
      "/home/mischa/miniconda3/envs/bf/lib/python3.10/site-packages/numpy/core/_methods.py:257: RuntimeWarning: invalid value encountered in divide\n",
      "  ret = ret.dtype.type(ret / rcount)\n"
     ]
    },
    {
     "name": "stdout",
     "output_type": "stream",
     "text": [
      "2021iat10.txt done\n",
      "Initial shape: 26135\n",
      "After removing no age IDs: 13084\n",
      "After removing invalid IDs: 13084\n",
      "After excluding zero latency IDs: 13004\n",
      "After excluding != 120 trials IDs: 12991\n",
      "After excluding more than 50% error IDs: 12985\n",
      "After excluding zero error IDs: 11504\n",
      "Successfully read datafile 2021iat11.txt .\n",
      "Converting to X and y arrays...\n",
      "IDs with less than 20 trials <200 ms or >10 seconds: (11473, 120, 3)\n",
      "IDs with 60 trials for each condition, 60 trials for both picture and word stimuli: (11473, 120, 3)\n",
      "Final shape of RTs chunk (after once more excluding cases w/ missing age or trials):  (11473, 120, 4)\n",
      "Final shape of outcomes chunk:  (11473, 120, 4)\n"
     ]
    },
    {
     "name": "stderr",
     "output_type": "stream",
     "text": [
      "/home/mischa/miniconda3/envs/bf/lib/python3.10/site-packages/numpy/core/fromnumeric.py:3432: RuntimeWarning: Mean of empty slice.\n",
      "  return _methods._mean(a, axis=axis, dtype=dtype,\n",
      "/home/mischa/miniconda3/envs/bf/lib/python3.10/site-packages/numpy/core/_methods.py:190: RuntimeWarning: invalid value encountered in divide\n",
      "  ret = ret.dtype.type(ret / rcount)\n",
      "/home/mischa/miniconda3/envs/bf/lib/python3.10/site-packages/numpy/core/_methods.py:265: RuntimeWarning: Degrees of freedom <= 0 for slice\n",
      "  ret = _var(a, axis=axis, dtype=dtype, out=out, ddof=ddof,\n",
      "/home/mischa/miniconda3/envs/bf/lib/python3.10/site-packages/numpy/core/_methods.py:223: RuntimeWarning: invalid value encountered in divide\n",
      "  arrmean = um.true_divide(arrmean, div, out=arrmean, casting='unsafe',\n",
      "/home/mischa/miniconda3/envs/bf/lib/python3.10/site-packages/numpy/core/_methods.py:257: RuntimeWarning: invalid value encountered in divide\n",
      "  ret = ret.dtype.type(ret / rcount)\n"
     ]
    },
    {
     "name": "stdout",
     "output_type": "stream",
     "text": [
      "2021iat11.txt done\n",
      "Initial shape: 25712\n",
      "After removing no age IDs: 12621\n",
      "After removing invalid IDs: 12621\n",
      "After excluding zero latency IDs: 12544\n",
      "After excluding != 120 trials IDs: 12523\n",
      "After excluding more than 50% error IDs: 12517\n",
      "After excluding zero error IDs: 11065\n",
      "Successfully read datafile 2021iat12.txt .\n",
      "Converting to X and y arrays...\n",
      "IDs with less than 20 trials <200 ms or >10 seconds: (11045, 120, 3)\n",
      "IDs with 60 trials for each condition, 60 trials for both picture and word stimuli: (11045, 120, 3)\n",
      "Final shape of RTs chunk (after once more excluding cases w/ missing age or trials):  (11045, 120, 4)\n",
      "Final shape of outcomes chunk:  (11045, 120, 4)\n"
     ]
    },
    {
     "name": "stderr",
     "output_type": "stream",
     "text": [
      "/home/mischa/miniconda3/envs/bf/lib/python3.10/site-packages/numpy/core/fromnumeric.py:3432: RuntimeWarning: Mean of empty slice.\n",
      "  return _methods._mean(a, axis=axis, dtype=dtype,\n",
      "/home/mischa/miniconda3/envs/bf/lib/python3.10/site-packages/numpy/core/_methods.py:190: RuntimeWarning: invalid value encountered in divide\n",
      "  ret = ret.dtype.type(ret / rcount)\n",
      "/home/mischa/miniconda3/envs/bf/lib/python3.10/site-packages/numpy/core/_methods.py:265: RuntimeWarning: Degrees of freedom <= 0 for slice\n",
      "  ret = _var(a, axis=axis, dtype=dtype, out=out, ddof=ddof,\n",
      "/home/mischa/miniconda3/envs/bf/lib/python3.10/site-packages/numpy/core/_methods.py:223: RuntimeWarning: invalid value encountered in divide\n",
      "  arrmean = um.true_divide(arrmean, div, out=arrmean, casting='unsafe',\n",
      "/home/mischa/miniconda3/envs/bf/lib/python3.10/site-packages/numpy/core/_methods.py:257: RuntimeWarning: invalid value encountered in divide\n",
      "  ret = ret.dtype.type(ret / rcount)\n"
     ]
    },
    {
     "name": "stdout",
     "output_type": "stream",
     "text": [
      "2021iat12.txt done\n",
      "Initial shape: 25684\n",
      "After removing no age IDs: 13134\n",
      "After removing invalid IDs: 13134\n",
      "After excluding zero latency IDs: 13047\n",
      "After excluding != 120 trials IDs: 13023\n",
      "After excluding more than 50% error IDs: 13018\n",
      "After excluding zero error IDs: 11578\n",
      "Successfully read datafile 2021iat13.txt .\n",
      "Converting to X and y arrays...\n",
      "IDs with less than 20 trials <200 ms or >10 seconds: (11555, 120, 3)\n",
      "IDs with 60 trials for each condition, 60 trials for both picture and word stimuli: (11555, 120, 3)\n",
      "Final shape of RTs chunk (after once more excluding cases w/ missing age or trials):  (11555, 120, 4)\n",
      "Final shape of outcomes chunk:  (11555, 120, 4)\n"
     ]
    },
    {
     "name": "stderr",
     "output_type": "stream",
     "text": [
      "/home/mischa/miniconda3/envs/bf/lib/python3.10/site-packages/numpy/core/fromnumeric.py:3432: RuntimeWarning: Mean of empty slice.\n",
      "  return _methods._mean(a, axis=axis, dtype=dtype,\n",
      "/home/mischa/miniconda3/envs/bf/lib/python3.10/site-packages/numpy/core/_methods.py:190: RuntimeWarning: invalid value encountered in divide\n",
      "  ret = ret.dtype.type(ret / rcount)\n",
      "/home/mischa/miniconda3/envs/bf/lib/python3.10/site-packages/numpy/core/_methods.py:265: RuntimeWarning: Degrees of freedom <= 0 for slice\n",
      "  ret = _var(a, axis=axis, dtype=dtype, out=out, ddof=ddof,\n",
      "/home/mischa/miniconda3/envs/bf/lib/python3.10/site-packages/numpy/core/_methods.py:223: RuntimeWarning: invalid value encountered in divide\n",
      "  arrmean = um.true_divide(arrmean, div, out=arrmean, casting='unsafe',\n",
      "/home/mischa/miniconda3/envs/bf/lib/python3.10/site-packages/numpy/core/_methods.py:257: RuntimeWarning: invalid value encountered in divide\n",
      "  ret = ret.dtype.type(ret / rcount)\n"
     ]
    },
    {
     "name": "stdout",
     "output_type": "stream",
     "text": [
      "2021iat13.txt done\n",
      "Initial shape: 25889\n",
      "After removing no age IDs: 12403\n",
      "After removing invalid IDs: 12403\n",
      "After excluding zero latency IDs: 12291\n",
      "After excluding != 120 trials IDs: 12273\n",
      "After excluding more than 50% error IDs: 12264\n",
      "After excluding zero error IDs: 11162\n",
      "Successfully read datafile 2021iat14.txt .\n",
      "Converting to X and y arrays...\n",
      "IDs with less than 20 trials <200 ms or >10 seconds: (11115, 120, 3)\n",
      "IDs with 60 trials for each condition, 60 trials for both picture and word stimuli: (11115, 120, 3)\n",
      "Final shape of RTs chunk (after once more excluding cases w/ missing age or trials):  (11115, 120, 4)\n",
      "Final shape of outcomes chunk:  (11115, 120, 4)\n"
     ]
    },
    {
     "name": "stderr",
     "output_type": "stream",
     "text": [
      "/home/mischa/miniconda3/envs/bf/lib/python3.10/site-packages/numpy/core/fromnumeric.py:3432: RuntimeWarning: Mean of empty slice.\n",
      "  return _methods._mean(a, axis=axis, dtype=dtype,\n",
      "/home/mischa/miniconda3/envs/bf/lib/python3.10/site-packages/numpy/core/_methods.py:190: RuntimeWarning: invalid value encountered in divide\n",
      "  ret = ret.dtype.type(ret / rcount)\n",
      "/home/mischa/miniconda3/envs/bf/lib/python3.10/site-packages/numpy/core/_methods.py:265: RuntimeWarning: Degrees of freedom <= 0 for slice\n",
      "  ret = _var(a, axis=axis, dtype=dtype, out=out, ddof=ddof,\n",
      "/home/mischa/miniconda3/envs/bf/lib/python3.10/site-packages/numpy/core/_methods.py:223: RuntimeWarning: invalid value encountered in divide\n",
      "  arrmean = um.true_divide(arrmean, div, out=arrmean, casting='unsafe',\n",
      "/home/mischa/miniconda3/envs/bf/lib/python3.10/site-packages/numpy/core/_methods.py:257: RuntimeWarning: invalid value encountered in divide\n",
      "  ret = ret.dtype.type(ret / rcount)\n"
     ]
    },
    {
     "name": "stdout",
     "output_type": "stream",
     "text": [
      "2021iat14.txt done\n",
      "Initial shape: 26077\n",
      "After removing no age IDs: 12107\n",
      "After removing invalid IDs: 12107\n",
      "After excluding zero latency IDs: 11973\n",
      "After excluding != 120 trials IDs: 11960\n",
      "After excluding more than 50% error IDs: 11948\n",
      "After excluding zero error IDs: 10936\n",
      "Successfully read datafile 2021iat15.txt .\n",
      "Converting to X and y arrays...\n",
      "IDs with less than 20 trials <200 ms or >10 seconds: (10889, 120, 3)\n",
      "IDs with 60 trials for each condition, 60 trials for both picture and word stimuli: (10889, 120, 3)\n",
      "Final shape of RTs chunk (after once more excluding cases w/ missing age or trials):  (10889, 120, 4)\n",
      "Final shape of outcomes chunk:  (10889, 120, 4)\n"
     ]
    },
    {
     "name": "stderr",
     "output_type": "stream",
     "text": [
      "/home/mischa/miniconda3/envs/bf/lib/python3.10/site-packages/numpy/core/fromnumeric.py:3432: RuntimeWarning: Mean of empty slice.\n",
      "  return _methods._mean(a, axis=axis, dtype=dtype,\n",
      "/home/mischa/miniconda3/envs/bf/lib/python3.10/site-packages/numpy/core/_methods.py:190: RuntimeWarning: invalid value encountered in divide\n",
      "  ret = ret.dtype.type(ret / rcount)\n",
      "/home/mischa/miniconda3/envs/bf/lib/python3.10/site-packages/numpy/core/_methods.py:265: RuntimeWarning: Degrees of freedom <= 0 for slice\n",
      "  ret = _var(a, axis=axis, dtype=dtype, out=out, ddof=ddof,\n",
      "/home/mischa/miniconda3/envs/bf/lib/python3.10/site-packages/numpy/core/_methods.py:223: RuntimeWarning: invalid value encountered in divide\n",
      "  arrmean = um.true_divide(arrmean, div, out=arrmean, casting='unsafe',\n",
      "/home/mischa/miniconda3/envs/bf/lib/python3.10/site-packages/numpy/core/_methods.py:257: RuntimeWarning: invalid value encountered in divide\n",
      "  ret = ret.dtype.type(ret / rcount)\n"
     ]
    },
    {
     "name": "stdout",
     "output_type": "stream",
     "text": [
      "2021iat15.txt done\n",
      "Initial shape: 25931\n",
      "After removing no age IDs: 11677\n",
      "After removing invalid IDs: 11677\n",
      "After excluding zero latency IDs: 11565\n",
      "After excluding != 120 trials IDs: 11547\n",
      "After excluding more than 50% error IDs: 11539\n",
      "After excluding zero error IDs: 10560\n",
      "Successfully read datafile 2021iat16.txt .\n",
      "Converting to X and y arrays...\n",
      "IDs with less than 20 trials <200 ms or >10 seconds: (10516, 120, 3)\n",
      "IDs with 60 trials for each condition, 60 trials for both picture and word stimuli: (10516, 120, 3)\n",
      "Final shape of RTs chunk (after once more excluding cases w/ missing age or trials):  (10516, 120, 4)\n",
      "Final shape of outcomes chunk:  (10516, 120, 4)\n"
     ]
    },
    {
     "name": "stderr",
     "output_type": "stream",
     "text": [
      "/home/mischa/miniconda3/envs/bf/lib/python3.10/site-packages/numpy/core/fromnumeric.py:3432: RuntimeWarning: Mean of empty slice.\n",
      "  return _methods._mean(a, axis=axis, dtype=dtype,\n",
      "/home/mischa/miniconda3/envs/bf/lib/python3.10/site-packages/numpy/core/_methods.py:190: RuntimeWarning: invalid value encountered in divide\n",
      "  ret = ret.dtype.type(ret / rcount)\n",
      "/home/mischa/miniconda3/envs/bf/lib/python3.10/site-packages/numpy/core/_methods.py:265: RuntimeWarning: Degrees of freedom <= 0 for slice\n",
      "  ret = _var(a, axis=axis, dtype=dtype, out=out, ddof=ddof,\n",
      "/home/mischa/miniconda3/envs/bf/lib/python3.10/site-packages/numpy/core/_methods.py:223: RuntimeWarning: invalid value encountered in divide\n",
      "  arrmean = um.true_divide(arrmean, div, out=arrmean, casting='unsafe',\n",
      "/home/mischa/miniconda3/envs/bf/lib/python3.10/site-packages/numpy/core/_methods.py:257: RuntimeWarning: invalid value encountered in divide\n",
      "  ret = ret.dtype.type(ret / rcount)\n"
     ]
    },
    {
     "name": "stdout",
     "output_type": "stream",
     "text": [
      "2021iat16.txt done\n",
      "Initial shape: 25802\n",
      "After removing no age IDs: 11554\n",
      "After removing invalid IDs: 11554\n",
      "After excluding zero latency IDs: 11434\n",
      "After excluding != 120 trials IDs: 11411\n",
      "After excluding more than 50% error IDs: 11400\n",
      "After excluding zero error IDs: 10338\n",
      "Successfully read datafile 2021iat17.txt .\n",
      "Converting to X and y arrays...\n",
      "IDs with less than 20 trials <200 ms or >10 seconds: (10294, 120, 3)\n",
      "IDs with 60 trials for each condition, 60 trials for both picture and word stimuli: (10294, 120, 3)\n",
      "Final shape of RTs chunk (after once more excluding cases w/ missing age or trials):  (10294, 120, 4)\n",
      "Final shape of outcomes chunk:  (10294, 120, 4)\n"
     ]
    },
    {
     "name": "stderr",
     "output_type": "stream",
     "text": [
      "/home/mischa/miniconda3/envs/bf/lib/python3.10/site-packages/numpy/core/fromnumeric.py:3432: RuntimeWarning: Mean of empty slice.\n",
      "  return _methods._mean(a, axis=axis, dtype=dtype,\n",
      "/home/mischa/miniconda3/envs/bf/lib/python3.10/site-packages/numpy/core/_methods.py:190: RuntimeWarning: invalid value encountered in divide\n",
      "  ret = ret.dtype.type(ret / rcount)\n",
      "/home/mischa/miniconda3/envs/bf/lib/python3.10/site-packages/numpy/core/_methods.py:265: RuntimeWarning: Degrees of freedom <= 0 for slice\n",
      "  ret = _var(a, axis=axis, dtype=dtype, out=out, ddof=ddof,\n",
      "/home/mischa/miniconda3/envs/bf/lib/python3.10/site-packages/numpy/core/_methods.py:223: RuntimeWarning: invalid value encountered in divide\n",
      "  arrmean = um.true_divide(arrmean, div, out=arrmean, casting='unsafe',\n",
      "/home/mischa/miniconda3/envs/bf/lib/python3.10/site-packages/numpy/core/_methods.py:257: RuntimeWarning: invalid value encountered in divide\n",
      "  ret = ret.dtype.type(ret / rcount)\n"
     ]
    },
    {
     "name": "stdout",
     "output_type": "stream",
     "text": [
      "2021iat17.txt done\n",
      "Initial shape: 25816\n",
      "After removing no age IDs: 11654\n",
      "After removing invalid IDs: 11654\n",
      "After excluding zero latency IDs: 11526\n",
      "After excluding != 120 trials IDs: 11516\n",
      "After excluding more than 50% error IDs: 11509\n",
      "After excluding zero error IDs: 10472\n",
      "Successfully read datafile 2021iat18.txt .\n",
      "Converting to X and y arrays...\n",
      "IDs with less than 20 trials <200 ms or >10 seconds: (10425, 120, 3)\n",
      "IDs with 60 trials for each condition, 60 trials for both picture and word stimuli: (10425, 120, 3)\n",
      "Final shape of RTs chunk (after once more excluding cases w/ missing age or trials):  (10425, 120, 4)\n",
      "Final shape of outcomes chunk:  (10425, 120, 4)\n"
     ]
    },
    {
     "name": "stderr",
     "output_type": "stream",
     "text": [
      "/home/mischa/miniconda3/envs/bf/lib/python3.10/site-packages/numpy/core/fromnumeric.py:3432: RuntimeWarning: Mean of empty slice.\n",
      "  return _methods._mean(a, axis=axis, dtype=dtype,\n",
      "/home/mischa/miniconda3/envs/bf/lib/python3.10/site-packages/numpy/core/_methods.py:190: RuntimeWarning: invalid value encountered in divide\n",
      "  ret = ret.dtype.type(ret / rcount)\n",
      "/home/mischa/miniconda3/envs/bf/lib/python3.10/site-packages/numpy/core/_methods.py:265: RuntimeWarning: Degrees of freedom <= 0 for slice\n",
      "  ret = _var(a, axis=axis, dtype=dtype, out=out, ddof=ddof,\n",
      "/home/mischa/miniconda3/envs/bf/lib/python3.10/site-packages/numpy/core/_methods.py:223: RuntimeWarning: invalid value encountered in divide\n",
      "  arrmean = um.true_divide(arrmean, div, out=arrmean, casting='unsafe',\n",
      "/home/mischa/miniconda3/envs/bf/lib/python3.10/site-packages/numpy/core/_methods.py:257: RuntimeWarning: invalid value encountered in divide\n",
      "  ret = ret.dtype.type(ret / rcount)\n"
     ]
    },
    {
     "name": "stdout",
     "output_type": "stream",
     "text": [
      "2021iat18.txt done\n",
      "Initial shape: 25767\n",
      "After removing no age IDs: 11099\n",
      "After removing invalid IDs: 11099\n",
      "After excluding zero latency IDs: 10990\n",
      "After excluding != 120 trials IDs: 10978\n",
      "After excluding more than 50% error IDs: 10967\n",
      "After excluding zero error IDs: 10010\n",
      "Successfully read datafile 2021iat19.txt .\n",
      "Converting to X and y arrays...\n",
      "IDs with less than 20 trials <200 ms or >10 seconds: (9975, 120, 3)\n",
      "IDs with 60 trials for each condition, 60 trials for both picture and word stimuli: (9975, 120, 3)\n",
      "Final shape of RTs chunk (after once more excluding cases w/ missing age or trials):  (9975, 120, 4)\n",
      "Final shape of outcomes chunk:  (9975, 120, 4)\n"
     ]
    },
    {
     "name": "stderr",
     "output_type": "stream",
     "text": [
      "/home/mischa/miniconda3/envs/bf/lib/python3.10/site-packages/numpy/core/fromnumeric.py:3432: RuntimeWarning: Mean of empty slice.\n",
      "  return _methods._mean(a, axis=axis, dtype=dtype,\n",
      "/home/mischa/miniconda3/envs/bf/lib/python3.10/site-packages/numpy/core/_methods.py:190: RuntimeWarning: invalid value encountered in divide\n",
      "  ret = ret.dtype.type(ret / rcount)\n",
      "/home/mischa/miniconda3/envs/bf/lib/python3.10/site-packages/numpy/core/_methods.py:265: RuntimeWarning: Degrees of freedom <= 0 for slice\n",
      "  ret = _var(a, axis=axis, dtype=dtype, out=out, ddof=ddof,\n",
      "/home/mischa/miniconda3/envs/bf/lib/python3.10/site-packages/numpy/core/_methods.py:223: RuntimeWarning: invalid value encountered in divide\n",
      "  arrmean = um.true_divide(arrmean, div, out=arrmean, casting='unsafe',\n",
      "/home/mischa/miniconda3/envs/bf/lib/python3.10/site-packages/numpy/core/_methods.py:257: RuntimeWarning: invalid value encountered in divide\n",
      "  ret = ret.dtype.type(ret / rcount)\n"
     ]
    },
    {
     "name": "stdout",
     "output_type": "stream",
     "text": [
      "2021iat19.txt done\n",
      "Initial shape: 25909\n",
      "After removing no age IDs: 12888\n",
      "After removing invalid IDs: 12888\n",
      "After excluding zero latency IDs: 12811\n",
      "After excluding != 120 trials IDs: 12796\n",
      "After excluding more than 50% error IDs: 12790\n",
      "After excluding zero error IDs: 11424\n",
      "Successfully read datafile 2021iat2.txt .\n",
      "Converting to X and y arrays...\n",
      "IDs with less than 20 trials <200 ms or >10 seconds: (11395, 120, 3)\n",
      "IDs with 60 trials for each condition, 60 trials for both picture and word stimuli: (11395, 120, 3)\n",
      "Final shape of RTs chunk (after once more excluding cases w/ missing age or trials):  (11395, 120, 4)\n",
      "Final shape of outcomes chunk:  (11395, 120, 4)\n"
     ]
    },
    {
     "name": "stderr",
     "output_type": "stream",
     "text": [
      "/home/mischa/miniconda3/envs/bf/lib/python3.10/site-packages/numpy/core/fromnumeric.py:3432: RuntimeWarning: Mean of empty slice.\n",
      "  return _methods._mean(a, axis=axis, dtype=dtype,\n",
      "/home/mischa/miniconda3/envs/bf/lib/python3.10/site-packages/numpy/core/_methods.py:190: RuntimeWarning: invalid value encountered in divide\n",
      "  ret = ret.dtype.type(ret / rcount)\n",
      "/home/mischa/miniconda3/envs/bf/lib/python3.10/site-packages/numpy/core/_methods.py:265: RuntimeWarning: Degrees of freedom <= 0 for slice\n",
      "  ret = _var(a, axis=axis, dtype=dtype, out=out, ddof=ddof,\n",
      "/home/mischa/miniconda3/envs/bf/lib/python3.10/site-packages/numpy/core/_methods.py:223: RuntimeWarning: invalid value encountered in divide\n",
      "  arrmean = um.true_divide(arrmean, div, out=arrmean, casting='unsafe',\n",
      "/home/mischa/miniconda3/envs/bf/lib/python3.10/site-packages/numpy/core/_methods.py:257: RuntimeWarning: invalid value encountered in divide\n",
      "  ret = ret.dtype.type(ret / rcount)\n"
     ]
    },
    {
     "name": "stdout",
     "output_type": "stream",
     "text": [
      "2021iat2.txt done\n",
      "Initial shape: 14652\n",
      "After removing no age IDs: 6722\n",
      "After removing invalid IDs: 6722\n",
      "After excluding zero latency IDs: 6666\n",
      "After excluding != 120 trials IDs: 6661\n",
      "After excluding more than 50% error IDs: 6660\n",
      "After excluding zero error IDs: 6055\n",
      "Successfully read datafile 2021iat20.txt .\n",
      "Converting to X and y arrays...\n",
      "IDs with less than 20 trials <200 ms or >10 seconds: (6025, 120, 3)\n",
      "IDs with 60 trials for each condition, 60 trials for both picture and word stimuli: (6025, 120, 3)\n",
      "Final shape of RTs chunk (after once more excluding cases w/ missing age or trials):  (6025, 120, 4)\n",
      "Final shape of outcomes chunk:  (6025, 120, 4)\n"
     ]
    },
    {
     "name": "stderr",
     "output_type": "stream",
     "text": [
      "/home/mischa/miniconda3/envs/bf/lib/python3.10/site-packages/numpy/core/fromnumeric.py:3432: RuntimeWarning: Mean of empty slice.\n",
      "  return _methods._mean(a, axis=axis, dtype=dtype,\n",
      "/home/mischa/miniconda3/envs/bf/lib/python3.10/site-packages/numpy/core/_methods.py:190: RuntimeWarning: invalid value encountered in divide\n",
      "  ret = ret.dtype.type(ret / rcount)\n",
      "/home/mischa/miniconda3/envs/bf/lib/python3.10/site-packages/numpy/core/_methods.py:265: RuntimeWarning: Degrees of freedom <= 0 for slice\n",
      "  ret = _var(a, axis=axis, dtype=dtype, out=out, ddof=ddof,\n",
      "/home/mischa/miniconda3/envs/bf/lib/python3.10/site-packages/numpy/core/_methods.py:223: RuntimeWarning: invalid value encountered in divide\n",
      "  arrmean = um.true_divide(arrmean, div, out=arrmean, casting='unsafe',\n",
      "/home/mischa/miniconda3/envs/bf/lib/python3.10/site-packages/numpy/core/_methods.py:257: RuntimeWarning: invalid value encountered in divide\n",
      "  ret = ret.dtype.type(ret / rcount)\n"
     ]
    },
    {
     "name": "stdout",
     "output_type": "stream",
     "text": [
      "2021iat20.txt done\n",
      "Initial shape: 25852\n",
      "After removing no age IDs: 12945\n",
      "After removing invalid IDs: 12945\n",
      "After excluding zero latency IDs: 12852\n",
      "After excluding != 120 trials IDs: 12840\n",
      "After excluding more than 50% error IDs: 12832\n",
      "After excluding zero error IDs: 11537\n",
      "Successfully read datafile 2021iat3.txt .\n",
      "Converting to X and y arrays...\n",
      "IDs with less than 20 trials <200 ms or >10 seconds: (11503, 120, 3)\n",
      "IDs with 60 trials for each condition, 60 trials for both picture and word stimuli: (11503, 120, 3)\n",
      "Final shape of RTs chunk (after once more excluding cases w/ missing age or trials):  (11503, 120, 4)\n",
      "Final shape of outcomes chunk:  (11503, 120, 4)\n"
     ]
    },
    {
     "name": "stderr",
     "output_type": "stream",
     "text": [
      "/home/mischa/miniconda3/envs/bf/lib/python3.10/site-packages/numpy/core/fromnumeric.py:3432: RuntimeWarning: Mean of empty slice.\n",
      "  return _methods._mean(a, axis=axis, dtype=dtype,\n",
      "/home/mischa/miniconda3/envs/bf/lib/python3.10/site-packages/numpy/core/_methods.py:190: RuntimeWarning: invalid value encountered in divide\n",
      "  ret = ret.dtype.type(ret / rcount)\n",
      "/home/mischa/miniconda3/envs/bf/lib/python3.10/site-packages/numpy/core/_methods.py:265: RuntimeWarning: Degrees of freedom <= 0 for slice\n",
      "  ret = _var(a, axis=axis, dtype=dtype, out=out, ddof=ddof,\n",
      "/home/mischa/miniconda3/envs/bf/lib/python3.10/site-packages/numpy/core/_methods.py:223: RuntimeWarning: invalid value encountered in divide\n",
      "  arrmean = um.true_divide(arrmean, div, out=arrmean, casting='unsafe',\n",
      "/home/mischa/miniconda3/envs/bf/lib/python3.10/site-packages/numpy/core/_methods.py:257: RuntimeWarning: invalid value encountered in divide\n",
      "  ret = ret.dtype.type(ret / rcount)\n"
     ]
    },
    {
     "name": "stdout",
     "output_type": "stream",
     "text": [
      "2021iat3.txt done\n",
      "Initial shape: 25948\n",
      "After removing no age IDs: 12691\n",
      "After removing invalid IDs: 12691\n",
      "After excluding zero latency IDs: 12621\n",
      "After excluding != 120 trials IDs: 12604\n",
      "After excluding more than 50% error IDs: 12602\n",
      "After excluding zero error IDs: 11284\n",
      "Successfully read datafile 2021iat4.txt .\n",
      "Converting to X and y arrays...\n",
      "IDs with less than 20 trials <200 ms or >10 seconds: (11250, 120, 3)\n",
      "IDs with 60 trials for each condition, 60 trials for both picture and word stimuli: (11250, 120, 3)\n",
      "Final shape of RTs chunk (after once more excluding cases w/ missing age or trials):  (11250, 120, 4)\n",
      "Final shape of outcomes chunk:  (11250, 120, 4)\n"
     ]
    },
    {
     "name": "stderr",
     "output_type": "stream",
     "text": [
      "/home/mischa/miniconda3/envs/bf/lib/python3.10/site-packages/numpy/core/fromnumeric.py:3432: RuntimeWarning: Mean of empty slice.\n",
      "  return _methods._mean(a, axis=axis, dtype=dtype,\n",
      "/home/mischa/miniconda3/envs/bf/lib/python3.10/site-packages/numpy/core/_methods.py:190: RuntimeWarning: invalid value encountered in divide\n",
      "  ret = ret.dtype.type(ret / rcount)\n",
      "/home/mischa/miniconda3/envs/bf/lib/python3.10/site-packages/numpy/core/_methods.py:265: RuntimeWarning: Degrees of freedom <= 0 for slice\n",
      "  ret = _var(a, axis=axis, dtype=dtype, out=out, ddof=ddof,\n",
      "/home/mischa/miniconda3/envs/bf/lib/python3.10/site-packages/numpy/core/_methods.py:223: RuntimeWarning: invalid value encountered in divide\n",
      "  arrmean = um.true_divide(arrmean, div, out=arrmean, casting='unsafe',\n",
      "/home/mischa/miniconda3/envs/bf/lib/python3.10/site-packages/numpy/core/_methods.py:257: RuntimeWarning: invalid value encountered in divide\n",
      "  ret = ret.dtype.type(ret / rcount)\n"
     ]
    },
    {
     "name": "stdout",
     "output_type": "stream",
     "text": [
      "2021iat4.txt done\n",
      "Initial shape: 25941\n",
      "After removing no age IDs: 12360\n",
      "After removing invalid IDs: 12360\n",
      "After excluding zero latency IDs: 12268\n",
      "After excluding != 120 trials IDs: 12251\n",
      "After excluding more than 50% error IDs: 12239\n",
      "After excluding zero error IDs: 10991\n",
      "Successfully read datafile 2021iat5.txt .\n",
      "Converting to X and y arrays...\n",
      "IDs with less than 20 trials <200 ms or >10 seconds: (10962, 120, 3)\n",
      "IDs with 60 trials for each condition, 60 trials for both picture and word stimuli: (10962, 120, 3)\n",
      "Final shape of RTs chunk (after once more excluding cases w/ missing age or trials):  (10962, 120, 4)\n",
      "Final shape of outcomes chunk:  (10962, 120, 4)\n"
     ]
    },
    {
     "name": "stderr",
     "output_type": "stream",
     "text": [
      "/home/mischa/miniconda3/envs/bf/lib/python3.10/site-packages/numpy/core/fromnumeric.py:3432: RuntimeWarning: Mean of empty slice.\n",
      "  return _methods._mean(a, axis=axis, dtype=dtype,\n",
      "/home/mischa/miniconda3/envs/bf/lib/python3.10/site-packages/numpy/core/_methods.py:190: RuntimeWarning: invalid value encountered in divide\n",
      "  ret = ret.dtype.type(ret / rcount)\n",
      "/home/mischa/miniconda3/envs/bf/lib/python3.10/site-packages/numpy/core/_methods.py:265: RuntimeWarning: Degrees of freedom <= 0 for slice\n",
      "  ret = _var(a, axis=axis, dtype=dtype, out=out, ddof=ddof,\n",
      "/home/mischa/miniconda3/envs/bf/lib/python3.10/site-packages/numpy/core/_methods.py:223: RuntimeWarning: invalid value encountered in divide\n",
      "  arrmean = um.true_divide(arrmean, div, out=arrmean, casting='unsafe',\n",
      "/home/mischa/miniconda3/envs/bf/lib/python3.10/site-packages/numpy/core/_methods.py:257: RuntimeWarning: invalid value encountered in divide\n",
      "  ret = ret.dtype.type(ret / rcount)\n"
     ]
    },
    {
     "name": "stdout",
     "output_type": "stream",
     "text": [
      "2021iat5.txt done\n",
      "Initial shape: 25847\n",
      "After removing no age IDs: 12255\n",
      "After removing invalid IDs: 12255\n",
      "After excluding zero latency IDs: 12163\n",
      "After excluding != 120 trials IDs: 12149\n",
      "After excluding more than 50% error IDs: 12140\n",
      "After excluding zero error IDs: 10908\n",
      "Successfully read datafile 2021iat6.txt .\n",
      "Converting to X and y arrays...\n",
      "IDs with less than 20 trials <200 ms or >10 seconds: (10875, 120, 3)\n",
      "IDs with 60 trials for each condition, 60 trials for both picture and word stimuli: (10875, 120, 3)\n",
      "Final shape of RTs chunk (after once more excluding cases w/ missing age or trials):  (10875, 120, 4)\n",
      "Final shape of outcomes chunk:  (10875, 120, 4)\n"
     ]
    },
    {
     "name": "stderr",
     "output_type": "stream",
     "text": [
      "/home/mischa/miniconda3/envs/bf/lib/python3.10/site-packages/numpy/core/fromnumeric.py:3432: RuntimeWarning: Mean of empty slice.\n",
      "  return _methods._mean(a, axis=axis, dtype=dtype,\n",
      "/home/mischa/miniconda3/envs/bf/lib/python3.10/site-packages/numpy/core/_methods.py:190: RuntimeWarning: invalid value encountered in divide\n",
      "  ret = ret.dtype.type(ret / rcount)\n",
      "/home/mischa/miniconda3/envs/bf/lib/python3.10/site-packages/numpy/core/_methods.py:265: RuntimeWarning: Degrees of freedom <= 0 for slice\n",
      "  ret = _var(a, axis=axis, dtype=dtype, out=out, ddof=ddof,\n",
      "/home/mischa/miniconda3/envs/bf/lib/python3.10/site-packages/numpy/core/_methods.py:223: RuntimeWarning: invalid value encountered in divide\n",
      "  arrmean = um.true_divide(arrmean, div, out=arrmean, casting='unsafe',\n",
      "/home/mischa/miniconda3/envs/bf/lib/python3.10/site-packages/numpy/core/_methods.py:257: RuntimeWarning: invalid value encountered in divide\n",
      "  ret = ret.dtype.type(ret / rcount)\n"
     ]
    },
    {
     "name": "stdout",
     "output_type": "stream",
     "text": [
      "2021iat6.txt done\n",
      "Initial shape: 26000\n",
      "After removing no age IDs: 11960\n",
      "After removing invalid IDs: 11960\n",
      "After excluding zero latency IDs: 11888\n",
      "After excluding != 120 trials IDs: 11876\n",
      "After excluding more than 50% error IDs: 11871\n",
      "After excluding zero error IDs: 10765\n",
      "Successfully read datafile 2021iat7.txt .\n",
      "Converting to X and y arrays...\n",
      "IDs with less than 20 trials <200 ms or >10 seconds: (10727, 120, 3)\n",
      "IDs with 60 trials for each condition, 60 trials for both picture and word stimuli: (10727, 120, 3)\n",
      "Final shape of RTs chunk (after once more excluding cases w/ missing age or trials):  (10727, 120, 4)\n",
      "Final shape of outcomes chunk:  (10727, 120, 4)\n"
     ]
    },
    {
     "name": "stderr",
     "output_type": "stream",
     "text": [
      "/home/mischa/miniconda3/envs/bf/lib/python3.10/site-packages/numpy/core/fromnumeric.py:3432: RuntimeWarning: Mean of empty slice.\n",
      "  return _methods._mean(a, axis=axis, dtype=dtype,\n",
      "/home/mischa/miniconda3/envs/bf/lib/python3.10/site-packages/numpy/core/_methods.py:190: RuntimeWarning: invalid value encountered in divide\n",
      "  ret = ret.dtype.type(ret / rcount)\n",
      "/home/mischa/miniconda3/envs/bf/lib/python3.10/site-packages/numpy/core/_methods.py:265: RuntimeWarning: Degrees of freedom <= 0 for slice\n",
      "  ret = _var(a, axis=axis, dtype=dtype, out=out, ddof=ddof,\n",
      "/home/mischa/miniconda3/envs/bf/lib/python3.10/site-packages/numpy/core/_methods.py:223: RuntimeWarning: invalid value encountered in divide\n",
      "  arrmean = um.true_divide(arrmean, div, out=arrmean, casting='unsafe',\n",
      "/home/mischa/miniconda3/envs/bf/lib/python3.10/site-packages/numpy/core/_methods.py:257: RuntimeWarning: invalid value encountered in divide\n",
      "  ret = ret.dtype.type(ret / rcount)\n"
     ]
    },
    {
     "name": "stdout",
     "output_type": "stream",
     "text": [
      "2021iat7.txt done\n",
      "Initial shape: 25764\n",
      "After removing no age IDs: 11932\n",
      "After removing invalid IDs: 11932\n",
      "After excluding zero latency IDs: 11849\n",
      "After excluding != 120 trials IDs: 11839\n",
      "After excluding more than 50% error IDs: 11833\n",
      "After excluding zero error IDs: 10680\n",
      "Successfully read datafile 2021iat8.txt .\n",
      "Converting to X and y arrays...\n",
      "IDs with less than 20 trials <200 ms or >10 seconds: (10641, 120, 3)\n",
      "IDs with 60 trials for each condition, 60 trials for both picture and word stimuli: (10641, 120, 3)\n",
      "Final shape of RTs chunk (after once more excluding cases w/ missing age or trials):  (10641, 120, 4)\n",
      "Final shape of outcomes chunk:  (10641, 120, 4)\n"
     ]
    },
    {
     "name": "stderr",
     "output_type": "stream",
     "text": [
      "/home/mischa/miniconda3/envs/bf/lib/python3.10/site-packages/numpy/core/fromnumeric.py:3432: RuntimeWarning: Mean of empty slice.\n",
      "  return _methods._mean(a, axis=axis, dtype=dtype,\n",
      "/home/mischa/miniconda3/envs/bf/lib/python3.10/site-packages/numpy/core/_methods.py:190: RuntimeWarning: invalid value encountered in divide\n",
      "  ret = ret.dtype.type(ret / rcount)\n",
      "/home/mischa/miniconda3/envs/bf/lib/python3.10/site-packages/numpy/core/_methods.py:265: RuntimeWarning: Degrees of freedom <= 0 for slice\n",
      "  ret = _var(a, axis=axis, dtype=dtype, out=out, ddof=ddof,\n",
      "/home/mischa/miniconda3/envs/bf/lib/python3.10/site-packages/numpy/core/_methods.py:223: RuntimeWarning: invalid value encountered in divide\n",
      "  arrmean = um.true_divide(arrmean, div, out=arrmean, casting='unsafe',\n",
      "/home/mischa/miniconda3/envs/bf/lib/python3.10/site-packages/numpy/core/_methods.py:257: RuntimeWarning: invalid value encountered in divide\n",
      "  ret = ret.dtype.type(ret / rcount)\n"
     ]
    },
    {
     "name": "stdout",
     "output_type": "stream",
     "text": [
      "2021iat8.txt done\n",
      "Initial shape: 25800\n",
      "After removing no age IDs: 11921\n",
      "After removing invalid IDs: 11921\n",
      "After excluding zero latency IDs: 11842\n",
      "After excluding != 120 trials IDs: 11830\n",
      "After excluding more than 50% error IDs: 11825\n",
      "After excluding zero error IDs: 10720\n",
      "Successfully read datafile 2021iat9.txt .\n",
      "Converting to X and y arrays...\n",
      "IDs with less than 20 trials <200 ms or >10 seconds: (10686, 120, 3)\n",
      "IDs with 60 trials for each condition, 60 trials for both picture and word stimuli: (10686, 120, 3)\n",
      "Final shape of RTs chunk (after once more excluding cases w/ missing age or trials):  (10686, 120, 4)\n",
      "Final shape of outcomes chunk:  (10686, 120, 4)\n"
     ]
    },
    {
     "name": "stderr",
     "output_type": "stream",
     "text": [
      "/home/mischa/miniconda3/envs/bf/lib/python3.10/site-packages/numpy/core/fromnumeric.py:3432: RuntimeWarning: Mean of empty slice.\n",
      "  return _methods._mean(a, axis=axis, dtype=dtype,\n",
      "/home/mischa/miniconda3/envs/bf/lib/python3.10/site-packages/numpy/core/_methods.py:190: RuntimeWarning: invalid value encountered in divide\n",
      "  ret = ret.dtype.type(ret / rcount)\n",
      "/home/mischa/miniconda3/envs/bf/lib/python3.10/site-packages/numpy/core/_methods.py:265: RuntimeWarning: Degrees of freedom <= 0 for slice\n",
      "  ret = _var(a, axis=axis, dtype=dtype, out=out, ddof=ddof,\n",
      "/home/mischa/miniconda3/envs/bf/lib/python3.10/site-packages/numpy/core/_methods.py:223: RuntimeWarning: invalid value encountered in divide\n",
      "  arrmean = um.true_divide(arrmean, div, out=arrmean, casting='unsafe',\n",
      "/home/mischa/miniconda3/envs/bf/lib/python3.10/site-packages/numpy/core/_methods.py:257: RuntimeWarning: invalid value encountered in divide\n",
      "  ret = ret.dtype.type(ret / rcount)\n"
     ]
    },
    {
     "name": "stdout",
     "output_type": "stream",
     "text": [
      "2021iat9.txt done\n",
      "Initial shape: 25807\n",
      "After removing no age IDs: 11665\n",
      "After removing invalid IDs: 11665\n",
      "After excluding zero latency IDs: 11576\n",
      "After excluding != 120 trials IDs: 11560\n",
      "After excluding more than 50% error IDs: 11554\n",
      "After excluding zero error IDs: 10403\n",
      "Successfully read datafile 20221iat.txt .\n",
      "Converting to X and y arrays...\n",
      "IDs with less than 20 trials <200 ms or >10 seconds: (10354, 120, 3)\n",
      "IDs with 60 trials for each condition, 60 trials for both picture and word stimuli: (10354, 120, 3)\n",
      "Final shape of RTs chunk (after once more excluding cases w/ missing age or trials):  (10354, 120, 4)\n",
      "Final shape of outcomes chunk:  (10354, 120, 4)\n"
     ]
    },
    {
     "name": "stderr",
     "output_type": "stream",
     "text": [
      "/home/mischa/miniconda3/envs/bf/lib/python3.10/site-packages/numpy/core/fromnumeric.py:3432: RuntimeWarning: Mean of empty slice.\n",
      "  return _methods._mean(a, axis=axis, dtype=dtype,\n",
      "/home/mischa/miniconda3/envs/bf/lib/python3.10/site-packages/numpy/core/_methods.py:190: RuntimeWarning: invalid value encountered in divide\n",
      "  ret = ret.dtype.type(ret / rcount)\n",
      "/home/mischa/miniconda3/envs/bf/lib/python3.10/site-packages/numpy/core/_methods.py:265: RuntimeWarning: Degrees of freedom <= 0 for slice\n",
      "  ret = _var(a, axis=axis, dtype=dtype, out=out, ddof=ddof,\n",
      "/home/mischa/miniconda3/envs/bf/lib/python3.10/site-packages/numpy/core/_methods.py:223: RuntimeWarning: invalid value encountered in divide\n",
      "  arrmean = um.true_divide(arrmean, div, out=arrmean, casting='unsafe',\n",
      "/home/mischa/miniconda3/envs/bf/lib/python3.10/site-packages/numpy/core/_methods.py:257: RuntimeWarning: invalid value encountered in divide\n",
      "  ret = ret.dtype.type(ret / rcount)\n"
     ]
    },
    {
     "name": "stdout",
     "output_type": "stream",
     "text": [
      "20221iat.txt done\n",
      "Initial shape: 25957\n",
      "After removing no age IDs: 11717\n",
      "After removing invalid IDs: 11717\n",
      "After excluding zero latency IDs: 11609\n",
      "After excluding != 120 trials IDs: 11592\n",
      "After excluding more than 50% error IDs: 11583\n",
      "After excluding zero error IDs: 10550\n",
      "Successfully read datafile 20221iat2.txt .\n",
      "Converting to X and y arrays...\n",
      "IDs with less than 20 trials <200 ms or >10 seconds: (10496, 120, 3)\n",
      "IDs with 60 trials for each condition, 60 trials for both picture and word stimuli: (10496, 120, 3)\n",
      "Final shape of RTs chunk (after once more excluding cases w/ missing age or trials):  (10496, 120, 4)\n",
      "Final shape of outcomes chunk:  (10496, 120, 4)\n"
     ]
    },
    {
     "name": "stderr",
     "output_type": "stream",
     "text": [
      "/home/mischa/miniconda3/envs/bf/lib/python3.10/site-packages/numpy/core/fromnumeric.py:3432: RuntimeWarning: Mean of empty slice.\n",
      "  return _methods._mean(a, axis=axis, dtype=dtype,\n",
      "/home/mischa/miniconda3/envs/bf/lib/python3.10/site-packages/numpy/core/_methods.py:190: RuntimeWarning: invalid value encountered in divide\n",
      "  ret = ret.dtype.type(ret / rcount)\n",
      "/home/mischa/miniconda3/envs/bf/lib/python3.10/site-packages/numpy/core/_methods.py:265: RuntimeWarning: Degrees of freedom <= 0 for slice\n",
      "  ret = _var(a, axis=axis, dtype=dtype, out=out, ddof=ddof,\n",
      "/home/mischa/miniconda3/envs/bf/lib/python3.10/site-packages/numpy/core/_methods.py:223: RuntimeWarning: invalid value encountered in divide\n",
      "  arrmean = um.true_divide(arrmean, div, out=arrmean, casting='unsafe',\n",
      "/home/mischa/miniconda3/envs/bf/lib/python3.10/site-packages/numpy/core/_methods.py:257: RuntimeWarning: invalid value encountered in divide\n",
      "  ret = ret.dtype.type(ret / rcount)\n"
     ]
    },
    {
     "name": "stdout",
     "output_type": "stream",
     "text": [
      "20221iat2.txt done\n",
      "Initial shape: 25993\n",
      "After removing no age IDs: 21981\n",
      "After removing invalid IDs: 21981\n",
      "After excluding zero latency IDs: 21709\n",
      "After excluding != 120 trials IDs: 21366\n",
      "After excluding more than 50% error IDs: 21336\n",
      "After excluding zero error IDs: 19559\n",
      "Successfully read datafile 20221iat3.txt .\n",
      "Converting to X and y arrays...\n",
      "IDs with less than 20 trials <200 ms or >10 seconds: (19464, 120, 3)\n",
      "IDs with 60 trials for each condition, 60 trials for both picture and word stimuli: (19464, 120, 3)\n",
      "Final shape of RTs chunk (after once more excluding cases w/ missing age or trials):  (19464, 120, 4)\n",
      "Final shape of outcomes chunk:  (19464, 120, 4)\n"
     ]
    },
    {
     "name": "stderr",
     "output_type": "stream",
     "text": [
      "/home/mischa/miniconda3/envs/bf/lib/python3.10/site-packages/numpy/core/fromnumeric.py:3432: RuntimeWarning: Mean of empty slice.\n",
      "  return _methods._mean(a, axis=axis, dtype=dtype,\n",
      "/home/mischa/miniconda3/envs/bf/lib/python3.10/site-packages/numpy/core/_methods.py:190: RuntimeWarning: invalid value encountered in divide\n",
      "  ret = ret.dtype.type(ret / rcount)\n",
      "/home/mischa/miniconda3/envs/bf/lib/python3.10/site-packages/numpy/core/_methods.py:265: RuntimeWarning: Degrees of freedom <= 0 for slice\n",
      "  ret = _var(a, axis=axis, dtype=dtype, out=out, ddof=ddof,\n",
      "/home/mischa/miniconda3/envs/bf/lib/python3.10/site-packages/numpy/core/_methods.py:223: RuntimeWarning: invalid value encountered in divide\n",
      "  arrmean = um.true_divide(arrmean, div, out=arrmean, casting='unsafe',\n",
      "/home/mischa/miniconda3/envs/bf/lib/python3.10/site-packages/numpy/core/_methods.py:257: RuntimeWarning: invalid value encountered in divide\n",
      "  ret = ret.dtype.type(ret / rcount)\n"
     ]
    },
    {
     "name": "stdout",
     "output_type": "stream",
     "text": [
      "20221iat3.txt done\n",
      "Initial shape: 26010\n",
      "After removing no age IDs: 12980\n",
      "After removing invalid IDs: 12980\n",
      "After excluding zero latency IDs: 12815\n",
      "After excluding != 120 trials IDs: 12597\n",
      "After excluding more than 50% error IDs: 12583\n",
      "After excluding zero error IDs: 11581\n",
      "Successfully read datafile 20221iat4.txt .\n",
      "Converting to X and y arrays...\n",
      "IDs with less than 20 trials <200 ms or >10 seconds: (11519, 120, 3)\n",
      "IDs with 60 trials for each condition, 60 trials for both picture and word stimuli: (11519, 120, 3)\n",
      "Final shape of RTs chunk (after once more excluding cases w/ missing age or trials):  (11519, 120, 4)\n",
      "Final shape of outcomes chunk:  (11519, 120, 4)\n"
     ]
    },
    {
     "name": "stderr",
     "output_type": "stream",
     "text": [
      "/home/mischa/miniconda3/envs/bf/lib/python3.10/site-packages/numpy/core/fromnumeric.py:3432: RuntimeWarning: Mean of empty slice.\n",
      "  return _methods._mean(a, axis=axis, dtype=dtype,\n",
      "/home/mischa/miniconda3/envs/bf/lib/python3.10/site-packages/numpy/core/_methods.py:190: RuntimeWarning: invalid value encountered in divide\n",
      "  ret = ret.dtype.type(ret / rcount)\n",
      "/home/mischa/miniconda3/envs/bf/lib/python3.10/site-packages/numpy/core/_methods.py:265: RuntimeWarning: Degrees of freedom <= 0 for slice\n",
      "  ret = _var(a, axis=axis, dtype=dtype, out=out, ddof=ddof,\n",
      "/home/mischa/miniconda3/envs/bf/lib/python3.10/site-packages/numpy/core/_methods.py:223: RuntimeWarning: invalid value encountered in divide\n",
      "  arrmean = um.true_divide(arrmean, div, out=arrmean, casting='unsafe',\n",
      "/home/mischa/miniconda3/envs/bf/lib/python3.10/site-packages/numpy/core/_methods.py:257: RuntimeWarning: invalid value encountered in divide\n",
      "  ret = ret.dtype.type(ret / rcount)\n"
     ]
    },
    {
     "name": "stdout",
     "output_type": "stream",
     "text": [
      "20221iat4.txt done\n",
      "Initial shape: 25885\n",
      "After removing no age IDs: 16135\n",
      "After removing invalid IDs: 16135\n",
      "After excluding zero latency IDs: 15871\n",
      "After excluding != 120 trials IDs: 15352\n",
      "After excluding more than 50% error IDs: 15330\n",
      "After excluding zero error IDs: 14231\n",
      "Successfully read datafile 20221iat5.txt .\n",
      "Converting to X and y arrays...\n",
      "IDs with less than 20 trials <200 ms or >10 seconds: (14154, 120, 3)\n",
      "IDs with 60 trials for each condition, 60 trials for both picture and word stimuli: (14154, 120, 3)\n",
      "Final shape of RTs chunk (after once more excluding cases w/ missing age or trials):  (14154, 120, 4)\n",
      "Final shape of outcomes chunk:  (14154, 120, 4)\n"
     ]
    },
    {
     "name": "stderr",
     "output_type": "stream",
     "text": [
      "/home/mischa/miniconda3/envs/bf/lib/python3.10/site-packages/numpy/core/fromnumeric.py:3432: RuntimeWarning: Mean of empty slice.\n",
      "  return _methods._mean(a, axis=axis, dtype=dtype,\n",
      "/home/mischa/miniconda3/envs/bf/lib/python3.10/site-packages/numpy/core/_methods.py:190: RuntimeWarning: invalid value encountered in divide\n",
      "  ret = ret.dtype.type(ret / rcount)\n",
      "/home/mischa/miniconda3/envs/bf/lib/python3.10/site-packages/numpy/core/_methods.py:265: RuntimeWarning: Degrees of freedom <= 0 for slice\n",
      "  ret = _var(a, axis=axis, dtype=dtype, out=out, ddof=ddof,\n",
      "/home/mischa/miniconda3/envs/bf/lib/python3.10/site-packages/numpy/core/_methods.py:223: RuntimeWarning: invalid value encountered in divide\n",
      "  arrmean = um.true_divide(arrmean, div, out=arrmean, casting='unsafe',\n",
      "/home/mischa/miniconda3/envs/bf/lib/python3.10/site-packages/numpy/core/_methods.py:257: RuntimeWarning: invalid value encountered in divide\n",
      "  ret = ret.dtype.type(ret / rcount)\n"
     ]
    },
    {
     "name": "stdout",
     "output_type": "stream",
     "text": [
      "20221iat5.txt done\n",
      "Initial shape: 25810\n",
      "After removing no age IDs: 25800\n",
      "After removing invalid IDs: 25800\n",
      "After excluding zero latency IDs: 25416\n",
      "After excluding != 120 trials IDs: 24473\n",
      "After excluding more than 50% error IDs: 24444\n",
      "After excluding zero error IDs: 22346\n",
      "Successfully read datafile 20221iat6.txt .\n",
      "Converting to X and y arrays...\n",
      "IDs with less than 20 trials <200 ms or >10 seconds: (22224, 120, 3)\n",
      "IDs with 60 trials for each condition, 60 trials for both picture and word stimuli: (22224, 120, 3)\n",
      "Final shape of RTs chunk (after once more excluding cases w/ missing age or trials):  (22224, 120, 4)\n",
      "Final shape of outcomes chunk:  (22224, 120, 4)\n"
     ]
    },
    {
     "name": "stderr",
     "output_type": "stream",
     "text": [
      "/home/mischa/miniconda3/envs/bf/lib/python3.10/site-packages/numpy/core/fromnumeric.py:3432: RuntimeWarning: Mean of empty slice.\n",
      "  return _methods._mean(a, axis=axis, dtype=dtype,\n",
      "/home/mischa/miniconda3/envs/bf/lib/python3.10/site-packages/numpy/core/_methods.py:190: RuntimeWarning: invalid value encountered in divide\n",
      "  ret = ret.dtype.type(ret / rcount)\n",
      "/home/mischa/miniconda3/envs/bf/lib/python3.10/site-packages/numpy/core/_methods.py:265: RuntimeWarning: Degrees of freedom <= 0 for slice\n",
      "  ret = _var(a, axis=axis, dtype=dtype, out=out, ddof=ddof,\n",
      "/home/mischa/miniconda3/envs/bf/lib/python3.10/site-packages/numpy/core/_methods.py:223: RuntimeWarning: invalid value encountered in divide\n",
      "  arrmean = um.true_divide(arrmean, div, out=arrmean, casting='unsafe',\n",
      "/home/mischa/miniconda3/envs/bf/lib/python3.10/site-packages/numpy/core/_methods.py:257: RuntimeWarning: invalid value encountered in divide\n",
      "  ret = ret.dtype.type(ret / rcount)\n"
     ]
    },
    {
     "name": "stdout",
     "output_type": "stream",
     "text": [
      "20221iat6.txt done\n",
      "Initial shape: 25723\n",
      "After removing no age IDs: 25715\n",
      "After removing invalid IDs: 25715\n",
      "After excluding zero latency IDs: 25421\n",
      "After excluding != 120 trials IDs: 24558\n",
      "After excluding more than 50% error IDs: 24532\n",
      "After excluding zero error IDs: 22228\n",
      "Successfully read datafile 20221iat7.txt .\n",
      "Converting to X and y arrays...\n",
      "IDs with less than 20 trials <200 ms or >10 seconds: (22151, 120, 3)\n",
      "IDs with 60 trials for each condition, 60 trials for both picture and word stimuli: (22151, 120, 3)\n",
      "Final shape of RTs chunk (after once more excluding cases w/ missing age or trials):  (22151, 120, 4)\n",
      "Final shape of outcomes chunk:  (22151, 120, 4)\n"
     ]
    },
    {
     "name": "stderr",
     "output_type": "stream",
     "text": [
      "/home/mischa/miniconda3/envs/bf/lib/python3.10/site-packages/numpy/core/fromnumeric.py:3432: RuntimeWarning: Mean of empty slice.\n",
      "  return _methods._mean(a, axis=axis, dtype=dtype,\n",
      "/home/mischa/miniconda3/envs/bf/lib/python3.10/site-packages/numpy/core/_methods.py:190: RuntimeWarning: invalid value encountered in divide\n",
      "  ret = ret.dtype.type(ret / rcount)\n",
      "/home/mischa/miniconda3/envs/bf/lib/python3.10/site-packages/numpy/core/_methods.py:265: RuntimeWarning: Degrees of freedom <= 0 for slice\n",
      "  ret = _var(a, axis=axis, dtype=dtype, out=out, ddof=ddof,\n",
      "/home/mischa/miniconda3/envs/bf/lib/python3.10/site-packages/numpy/core/_methods.py:223: RuntimeWarning: invalid value encountered in divide\n",
      "  arrmean = um.true_divide(arrmean, div, out=arrmean, casting='unsafe',\n",
      "/home/mischa/miniconda3/envs/bf/lib/python3.10/site-packages/numpy/core/_methods.py:257: RuntimeWarning: invalid value encountered in divide\n",
      "  ret = ret.dtype.type(ret / rcount)\n"
     ]
    },
    {
     "name": "stdout",
     "output_type": "stream",
     "text": [
      "20221iat7.txt done\n",
      "Initial shape: 3500\n",
      "After removing no age IDs: 3500\n",
      "After removing invalid IDs: 3500\n",
      "After excluding zero latency IDs: 3463\n",
      "After excluding != 120 trials IDs: 3358\n",
      "After excluding more than 50% error IDs: 3353\n",
      "After excluding zero error IDs: 3030\n",
      "Successfully read datafile 20221iat8.txt .\n",
      "Converting to X and y arrays...\n",
      "IDs with less than 20 trials <200 ms or >10 seconds: (3021, 120, 3)\n",
      "IDs with 60 trials for each condition, 60 trials for both picture and word stimuli: (3021, 120, 3)\n",
      "Final shape of RTs chunk (after once more excluding cases w/ missing age or trials):  (3021, 120, 4)\n",
      "Final shape of outcomes chunk:  (3021, 120, 4)\n"
     ]
    },
    {
     "name": "stderr",
     "output_type": "stream",
     "text": [
      "/home/mischa/miniconda3/envs/bf/lib/python3.10/site-packages/numpy/core/fromnumeric.py:3432: RuntimeWarning: Mean of empty slice.\n",
      "  return _methods._mean(a, axis=axis, dtype=dtype,\n",
      "/home/mischa/miniconda3/envs/bf/lib/python3.10/site-packages/numpy/core/_methods.py:190: RuntimeWarning: invalid value encountered in divide\n",
      "  ret = ret.dtype.type(ret / rcount)\n",
      "/home/mischa/miniconda3/envs/bf/lib/python3.10/site-packages/numpy/core/_methods.py:265: RuntimeWarning: Degrees of freedom <= 0 for slice\n",
      "  ret = _var(a, axis=axis, dtype=dtype, out=out, ddof=ddof,\n",
      "/home/mischa/miniconda3/envs/bf/lib/python3.10/site-packages/numpy/core/_methods.py:223: RuntimeWarning: invalid value encountered in divide\n",
      "  arrmean = um.true_divide(arrmean, div, out=arrmean, casting='unsafe',\n",
      "/home/mischa/miniconda3/envs/bf/lib/python3.10/site-packages/numpy/core/_methods.py:257: RuntimeWarning: invalid value encountered in divide\n",
      "  ret = ret.dtype.type(ret / rcount)\n"
     ]
    },
    {
     "name": "stdout",
     "output_type": "stream",
     "text": [
      "20221iat8.txt done\n",
      "Initial shape: 25679\n",
      "After removing no age IDs: 25673\n",
      "After removing invalid IDs: 25673\n",
      "After excluding zero latency IDs: 25423\n",
      "After excluding != 120 trials IDs: 24649\n",
      "After excluding more than 50% error IDs: 24640\n",
      "After excluding zero error IDs: 22293\n",
      "Successfully read datafile 20222iat.txt .\n",
      "Converting to X and y arrays...\n",
      "IDs with less than 20 trials <200 ms or >10 seconds: (22229, 120, 3)\n",
      "IDs with 60 trials for each condition, 60 trials for both picture and word stimuli: (22229, 120, 3)\n",
      "Final shape of RTs chunk (after once more excluding cases w/ missing age or trials):  (22229, 120, 4)\n",
      "Final shape of outcomes chunk:  (22229, 120, 4)\n"
     ]
    },
    {
     "name": "stderr",
     "output_type": "stream",
     "text": [
      "/home/mischa/miniconda3/envs/bf/lib/python3.10/site-packages/numpy/core/fromnumeric.py:3432: RuntimeWarning: Mean of empty slice.\n",
      "  return _methods._mean(a, axis=axis, dtype=dtype,\n",
      "/home/mischa/miniconda3/envs/bf/lib/python3.10/site-packages/numpy/core/_methods.py:190: RuntimeWarning: invalid value encountered in divide\n",
      "  ret = ret.dtype.type(ret / rcount)\n",
      "/home/mischa/miniconda3/envs/bf/lib/python3.10/site-packages/numpy/core/_methods.py:265: RuntimeWarning: Degrees of freedom <= 0 for slice\n",
      "  ret = _var(a, axis=axis, dtype=dtype, out=out, ddof=ddof,\n",
      "/home/mischa/miniconda3/envs/bf/lib/python3.10/site-packages/numpy/core/_methods.py:223: RuntimeWarning: invalid value encountered in divide\n",
      "  arrmean = um.true_divide(arrmean, div, out=arrmean, casting='unsafe',\n",
      "/home/mischa/miniconda3/envs/bf/lib/python3.10/site-packages/numpy/core/_methods.py:257: RuntimeWarning: invalid value encountered in divide\n",
      "  ret = ret.dtype.type(ret / rcount)\n"
     ]
    },
    {
     "name": "stdout",
     "output_type": "stream",
     "text": [
      "20222iat.txt done\n",
      "Initial shape: 25717\n",
      "After removing no age IDs: 25712\n",
      "After removing invalid IDs: 25712\n",
      "After excluding zero latency IDs: 25368\n",
      "After excluding != 120 trials IDs: 24575\n",
      "After excluding more than 50% error IDs: 24563\n",
      "After excluding zero error IDs: 22611\n",
      "Successfully read datafile 20222iat2.txt .\n",
      "Converting to X and y arrays...\n",
      "IDs with less than 20 trials <200 ms or >10 seconds: (22517, 120, 3)\n",
      "IDs with 60 trials for each condition, 60 trials for both picture and word stimuli: (22517, 120, 3)\n",
      "Final shape of RTs chunk (after once more excluding cases w/ missing age or trials):  (22517, 120, 4)\n",
      "Final shape of outcomes chunk:  (22517, 120, 4)\n"
     ]
    },
    {
     "name": "stderr",
     "output_type": "stream",
     "text": [
      "/home/mischa/miniconda3/envs/bf/lib/python3.10/site-packages/numpy/core/fromnumeric.py:3432: RuntimeWarning: Mean of empty slice.\n",
      "  return _methods._mean(a, axis=axis, dtype=dtype,\n",
      "/home/mischa/miniconda3/envs/bf/lib/python3.10/site-packages/numpy/core/_methods.py:190: RuntimeWarning: invalid value encountered in divide\n",
      "  ret = ret.dtype.type(ret / rcount)\n",
      "/home/mischa/miniconda3/envs/bf/lib/python3.10/site-packages/numpy/core/_methods.py:265: RuntimeWarning: Degrees of freedom <= 0 for slice\n",
      "  ret = _var(a, axis=axis, dtype=dtype, out=out, ddof=ddof,\n",
      "/home/mischa/miniconda3/envs/bf/lib/python3.10/site-packages/numpy/core/_methods.py:223: RuntimeWarning: invalid value encountered in divide\n",
      "  arrmean = um.true_divide(arrmean, div, out=arrmean, casting='unsafe',\n",
      "/home/mischa/miniconda3/envs/bf/lib/python3.10/site-packages/numpy/core/_methods.py:257: RuntimeWarning: invalid value encountered in divide\n",
      "  ret = ret.dtype.type(ret / rcount)\n"
     ]
    },
    {
     "name": "stdout",
     "output_type": "stream",
     "text": [
      "20222iat2.txt done\n",
      "Initial shape: 25693\n",
      "After removing no age IDs: 25684\n",
      "After removing invalid IDs: 25684\n",
      "After excluding zero latency IDs: 25306\n",
      "After excluding != 120 trials IDs: 24564\n",
      "After excluding more than 50% error IDs: 24543\n",
      "After excluding zero error IDs: 22769\n",
      "Successfully read datafile 20222iat3.txt .\n",
      "Converting to X and y arrays...\n",
      "IDs with less than 20 trials <200 ms or >10 seconds: (22648, 120, 3)\n",
      "IDs with 60 trials for each condition, 60 trials for both picture and word stimuli: (22648, 120, 3)\n",
      "Final shape of RTs chunk (after once more excluding cases w/ missing age or trials):  (22648, 120, 4)\n",
      "Final shape of outcomes chunk:  (22648, 120, 4)\n"
     ]
    },
    {
     "name": "stderr",
     "output_type": "stream",
     "text": [
      "/home/mischa/miniconda3/envs/bf/lib/python3.10/site-packages/numpy/core/fromnumeric.py:3432: RuntimeWarning: Mean of empty slice.\n",
      "  return _methods._mean(a, axis=axis, dtype=dtype,\n",
      "/home/mischa/miniconda3/envs/bf/lib/python3.10/site-packages/numpy/core/_methods.py:190: RuntimeWarning: invalid value encountered in divide\n",
      "  ret = ret.dtype.type(ret / rcount)\n",
      "/home/mischa/miniconda3/envs/bf/lib/python3.10/site-packages/numpy/core/_methods.py:265: RuntimeWarning: Degrees of freedom <= 0 for slice\n",
      "  ret = _var(a, axis=axis, dtype=dtype, out=out, ddof=ddof,\n",
      "/home/mischa/miniconda3/envs/bf/lib/python3.10/site-packages/numpy/core/_methods.py:223: RuntimeWarning: invalid value encountered in divide\n",
      "  arrmean = um.true_divide(arrmean, div, out=arrmean, casting='unsafe',\n",
      "/home/mischa/miniconda3/envs/bf/lib/python3.10/site-packages/numpy/core/_methods.py:257: RuntimeWarning: invalid value encountered in divide\n",
      "  ret = ret.dtype.type(ret / rcount)\n"
     ]
    },
    {
     "name": "stdout",
     "output_type": "stream",
     "text": [
      "20222iat3.txt done\n",
      "Initial shape: 25860\n",
      "After removing no age IDs: 25854\n",
      "After removing invalid IDs: 25854\n",
      "After excluding zero latency IDs: 25556\n",
      "After excluding != 120 trials IDs: 24795\n",
      "After excluding more than 50% error IDs: 24746\n",
      "After excluding zero error IDs: 22918\n",
      "Successfully read datafile 20222iat4.txt .\n",
      "Converting to X and y arrays...\n",
      "IDs with less than 20 trials <200 ms or >10 seconds: (22739, 120, 3)\n",
      "IDs with 60 trials for each condition, 60 trials for both picture and word stimuli: (22739, 120, 3)\n",
      "Final shape of RTs chunk (after once more excluding cases w/ missing age or trials):  (22739, 120, 4)\n",
      "Final shape of outcomes chunk:  (22739, 120, 4)\n"
     ]
    },
    {
     "name": "stderr",
     "output_type": "stream",
     "text": [
      "/home/mischa/miniconda3/envs/bf/lib/python3.10/site-packages/numpy/core/fromnumeric.py:3432: RuntimeWarning: Mean of empty slice.\n",
      "  return _methods._mean(a, axis=axis, dtype=dtype,\n",
      "/home/mischa/miniconda3/envs/bf/lib/python3.10/site-packages/numpy/core/_methods.py:190: RuntimeWarning: invalid value encountered in divide\n",
      "  ret = ret.dtype.type(ret / rcount)\n",
      "/home/mischa/miniconda3/envs/bf/lib/python3.10/site-packages/numpy/core/_methods.py:265: RuntimeWarning: Degrees of freedom <= 0 for slice\n",
      "  ret = _var(a, axis=axis, dtype=dtype, out=out, ddof=ddof,\n",
      "/home/mischa/miniconda3/envs/bf/lib/python3.10/site-packages/numpy/core/_methods.py:223: RuntimeWarning: invalid value encountered in divide\n",
      "  arrmean = um.true_divide(arrmean, div, out=arrmean, casting='unsafe',\n",
      "/home/mischa/miniconda3/envs/bf/lib/python3.10/site-packages/numpy/core/_methods.py:257: RuntimeWarning: invalid value encountered in divide\n",
      "  ret = ret.dtype.type(ret / rcount)\n"
     ]
    },
    {
     "name": "stdout",
     "output_type": "stream",
     "text": [
      "20222iat4.txt done\n",
      "Initial shape: 25740\n",
      "After removing no age IDs: 25732\n",
      "After removing invalid IDs: 25732\n",
      "After excluding zero latency IDs: 25719\n",
      "After excluding != 120 trials IDs: 24753\n",
      "After excluding more than 50% error IDs: 24660\n",
      "After excluding zero error IDs: 22935\n",
      "Successfully read datafile 20222iat5.txt .\n",
      "Converting to X and y arrays...\n",
      "IDs with less than 20 trials <200 ms or >10 seconds: (22592, 120, 3)\n",
      "IDs with 60 trials for each condition, 60 trials for both picture and word stimuli: (22592, 120, 3)\n",
      "Final shape of RTs chunk (after once more excluding cases w/ missing age or trials):  (22592, 120, 4)\n",
      "Final shape of outcomes chunk:  (22592, 120, 4)\n"
     ]
    },
    {
     "name": "stderr",
     "output_type": "stream",
     "text": [
      "/home/mischa/miniconda3/envs/bf/lib/python3.10/site-packages/numpy/core/fromnumeric.py:3432: RuntimeWarning: Mean of empty slice.\n",
      "  return _methods._mean(a, axis=axis, dtype=dtype,\n",
      "/home/mischa/miniconda3/envs/bf/lib/python3.10/site-packages/numpy/core/_methods.py:190: RuntimeWarning: invalid value encountered in divide\n",
      "  ret = ret.dtype.type(ret / rcount)\n",
      "/home/mischa/miniconda3/envs/bf/lib/python3.10/site-packages/numpy/core/_methods.py:265: RuntimeWarning: Degrees of freedom <= 0 for slice\n",
      "  ret = _var(a, axis=axis, dtype=dtype, out=out, ddof=ddof,\n",
      "/home/mischa/miniconda3/envs/bf/lib/python3.10/site-packages/numpy/core/_methods.py:223: RuntimeWarning: invalid value encountered in divide\n",
      "  arrmean = um.true_divide(arrmean, div, out=arrmean, casting='unsafe',\n",
      "/home/mischa/miniconda3/envs/bf/lib/python3.10/site-packages/numpy/core/_methods.py:257: RuntimeWarning: invalid value encountered in divide\n",
      "  ret = ret.dtype.type(ret / rcount)\n"
     ]
    },
    {
     "name": "stdout",
     "output_type": "stream",
     "text": [
      "20222iat5.txt done\n",
      "Initial shape: 21711\n",
      "After removing no age IDs: 21698\n",
      "After removing invalid IDs: 21698\n",
      "After excluding zero latency IDs: 21688\n",
      "After excluding != 120 trials IDs: 20859\n",
      "After excluding more than 50% error IDs: 20778\n",
      "After excluding zero error IDs: 19289\n",
      "Successfully read datafile 20222iat6.txt .\n",
      "Converting to X and y arrays...\n",
      "IDs with less than 20 trials <200 ms or >10 seconds: (19002, 120, 3)\n",
      "IDs with 60 trials for each condition, 60 trials for both picture and word stimuli: (19002, 120, 3)\n",
      "Final shape of RTs chunk (after once more excluding cases w/ missing age or trials):  (19002, 120, 4)\n",
      "Final shape of outcomes chunk:  (19002, 120, 4)\n"
     ]
    },
    {
     "name": "stderr",
     "output_type": "stream",
     "text": [
      "/home/mischa/miniconda3/envs/bf/lib/python3.10/site-packages/numpy/core/fromnumeric.py:3432: RuntimeWarning: Mean of empty slice.\n",
      "  return _methods._mean(a, axis=axis, dtype=dtype,\n",
      "/home/mischa/miniconda3/envs/bf/lib/python3.10/site-packages/numpy/core/_methods.py:190: RuntimeWarning: invalid value encountered in divide\n",
      "  ret = ret.dtype.type(ret / rcount)\n",
      "/home/mischa/miniconda3/envs/bf/lib/python3.10/site-packages/numpy/core/_methods.py:265: RuntimeWarning: Degrees of freedom <= 0 for slice\n",
      "  ret = _var(a, axis=axis, dtype=dtype, out=out, ddof=ddof,\n",
      "/home/mischa/miniconda3/envs/bf/lib/python3.10/site-packages/numpy/core/_methods.py:223: RuntimeWarning: invalid value encountered in divide\n",
      "  arrmean = um.true_divide(arrmean, div, out=arrmean, casting='unsafe',\n",
      "/home/mischa/miniconda3/envs/bf/lib/python3.10/site-packages/numpy/core/_methods.py:257: RuntimeWarning: invalid value encountered in divide\n",
      "  ret = ret.dtype.type(ret / rcount)\n"
     ]
    },
    {
     "name": "stdout",
     "output_type": "stream",
     "text": [
      "20222iat6.txt done\n",
      "Initial shape: 25820\n",
      "After removing no age IDs: 25808\n",
      "After removing invalid IDs: 25808\n",
      "After excluding zero latency IDs: 25794\n",
      "After excluding != 120 trials IDs: 24879\n",
      "After excluding more than 50% error IDs: 24806\n",
      "After excluding zero error IDs: 22811\n",
      "Successfully read datafile 20231iat.txt .\n",
      "Converting to X and y arrays...\n",
      "IDs with less than 20 trials <200 ms or >10 seconds: (22539, 120, 3)\n",
      "IDs with 60 trials for each condition, 60 trials for both picture and word stimuli: (22539, 120, 3)\n",
      "Final shape of RTs chunk (after once more excluding cases w/ missing age or trials):  (22539, 120, 4)\n",
      "Final shape of outcomes chunk:  (22539, 120, 4)\n"
     ]
    },
    {
     "name": "stderr",
     "output_type": "stream",
     "text": [
      "/home/mischa/miniconda3/envs/bf/lib/python3.10/site-packages/numpy/core/fromnumeric.py:3432: RuntimeWarning: Mean of empty slice.\n",
      "  return _methods._mean(a, axis=axis, dtype=dtype,\n",
      "/home/mischa/miniconda3/envs/bf/lib/python3.10/site-packages/numpy/core/_methods.py:190: RuntimeWarning: invalid value encountered in divide\n",
      "  ret = ret.dtype.type(ret / rcount)\n",
      "/home/mischa/miniconda3/envs/bf/lib/python3.10/site-packages/numpy/core/_methods.py:265: RuntimeWarning: Degrees of freedom <= 0 for slice\n",
      "  ret = _var(a, axis=axis, dtype=dtype, out=out, ddof=ddof,\n",
      "/home/mischa/miniconda3/envs/bf/lib/python3.10/site-packages/numpy/core/_methods.py:223: RuntimeWarning: invalid value encountered in divide\n",
      "  arrmean = um.true_divide(arrmean, div, out=arrmean, casting='unsafe',\n",
      "/home/mischa/miniconda3/envs/bf/lib/python3.10/site-packages/numpy/core/_methods.py:257: RuntimeWarning: invalid value encountered in divide\n",
      "  ret = ret.dtype.type(ret / rcount)\n"
     ]
    },
    {
     "name": "stdout",
     "output_type": "stream",
     "text": [
      "20231iat.txt done\n",
      "Initial shape: 25932\n",
      "After removing no age IDs: 25924\n",
      "After removing invalid IDs: 25924\n",
      "After excluding zero latency IDs: 25916\n",
      "After excluding != 120 trials IDs: 25023\n",
      "After excluding more than 50% error IDs: 24929\n",
      "After excluding zero error IDs: 23023\n",
      "Successfully read datafile 20231iat2.txt .\n",
      "Converting to X and y arrays...\n",
      "IDs with less than 20 trials <200 ms or >10 seconds: (22717, 120, 3)\n",
      "IDs with 60 trials for each condition, 60 trials for both picture and word stimuli: (22717, 120, 3)\n",
      "Final shape of RTs chunk (after once more excluding cases w/ missing age or trials):  (22717, 120, 4)\n",
      "Final shape of outcomes chunk:  (22717, 120, 4)\n"
     ]
    },
    {
     "name": "stderr",
     "output_type": "stream",
     "text": [
      "/home/mischa/miniconda3/envs/bf/lib/python3.10/site-packages/numpy/core/fromnumeric.py:3432: RuntimeWarning: Mean of empty slice.\n",
      "  return _methods._mean(a, axis=axis, dtype=dtype,\n",
      "/home/mischa/miniconda3/envs/bf/lib/python3.10/site-packages/numpy/core/_methods.py:190: RuntimeWarning: invalid value encountered in divide\n",
      "  ret = ret.dtype.type(ret / rcount)\n",
      "/home/mischa/miniconda3/envs/bf/lib/python3.10/site-packages/numpy/core/_methods.py:265: RuntimeWarning: Degrees of freedom <= 0 for slice\n",
      "  ret = _var(a, axis=axis, dtype=dtype, out=out, ddof=ddof,\n",
      "/home/mischa/miniconda3/envs/bf/lib/python3.10/site-packages/numpy/core/_methods.py:223: RuntimeWarning: invalid value encountered in divide\n",
      "  arrmean = um.true_divide(arrmean, div, out=arrmean, casting='unsafe',\n",
      "/home/mischa/miniconda3/envs/bf/lib/python3.10/site-packages/numpy/core/_methods.py:257: RuntimeWarning: invalid value encountered in divide\n",
      "  ret = ret.dtype.type(ret / rcount)\n"
     ]
    },
    {
     "name": "stdout",
     "output_type": "stream",
     "text": [
      "20231iat2.txt done\n",
      "Initial shape: 25695\n",
      "After removing no age IDs: 25681\n",
      "After removing invalid IDs: 25681\n",
      "After excluding zero latency IDs: 25671\n",
      "After excluding != 120 trials IDs: 24760\n",
      "After excluding more than 50% error IDs: 24686\n",
      "After excluding zero error IDs: 22831\n",
      "Successfully read datafile 20231iat3.txt .\n",
      "Converting to X and y arrays...\n",
      "IDs with less than 20 trials <200 ms or >10 seconds: (22486, 120, 3)\n",
      "IDs with 60 trials for each condition, 60 trials for both picture and word stimuli: (22486, 120, 3)\n",
      "Final shape of RTs chunk (after once more excluding cases w/ missing age or trials):  (22486, 120, 4)\n",
      "Final shape of outcomes chunk:  (22486, 120, 4)\n"
     ]
    },
    {
     "name": "stderr",
     "output_type": "stream",
     "text": [
      "/home/mischa/miniconda3/envs/bf/lib/python3.10/site-packages/numpy/core/fromnumeric.py:3432: RuntimeWarning: Mean of empty slice.\n",
      "  return _methods._mean(a, axis=axis, dtype=dtype,\n",
      "/home/mischa/miniconda3/envs/bf/lib/python3.10/site-packages/numpy/core/_methods.py:190: RuntimeWarning: invalid value encountered in divide\n",
      "  ret = ret.dtype.type(ret / rcount)\n",
      "/home/mischa/miniconda3/envs/bf/lib/python3.10/site-packages/numpy/core/_methods.py:265: RuntimeWarning: Degrees of freedom <= 0 for slice\n",
      "  ret = _var(a, axis=axis, dtype=dtype, out=out, ddof=ddof,\n",
      "/home/mischa/miniconda3/envs/bf/lib/python3.10/site-packages/numpy/core/_methods.py:223: RuntimeWarning: invalid value encountered in divide\n",
      "  arrmean = um.true_divide(arrmean, div, out=arrmean, casting='unsafe',\n",
      "/home/mischa/miniconda3/envs/bf/lib/python3.10/site-packages/numpy/core/_methods.py:257: RuntimeWarning: invalid value encountered in divide\n",
      "  ret = ret.dtype.type(ret / rcount)\n"
     ]
    },
    {
     "name": "stdout",
     "output_type": "stream",
     "text": [
      "20231iat3.txt done\n",
      "Initial shape: 25662\n",
      "After removing no age IDs: 25653\n",
      "After removing invalid IDs: 25653\n",
      "After excluding zero latency IDs: 25645\n",
      "After excluding != 120 trials IDs: 24714\n",
      "After excluding more than 50% error IDs: 24644\n",
      "After excluding zero error IDs: 22925\n",
      "Successfully read datafile 20231iat4.txt .\n",
      "Converting to X and y arrays...\n",
      "IDs with less than 20 trials <200 ms or >10 seconds: (22603, 120, 3)\n",
      "IDs with 60 trials for each condition, 60 trials for both picture and word stimuli: (22603, 120, 3)\n",
      "Final shape of RTs chunk (after once more excluding cases w/ missing age or trials):  (22603, 120, 4)\n",
      "Final shape of outcomes chunk:  (22603, 120, 4)\n"
     ]
    },
    {
     "name": "stderr",
     "output_type": "stream",
     "text": [
      "/home/mischa/miniconda3/envs/bf/lib/python3.10/site-packages/numpy/core/fromnumeric.py:3432: RuntimeWarning: Mean of empty slice.\n",
      "  return _methods._mean(a, axis=axis, dtype=dtype,\n",
      "/home/mischa/miniconda3/envs/bf/lib/python3.10/site-packages/numpy/core/_methods.py:190: RuntimeWarning: invalid value encountered in divide\n",
      "  ret = ret.dtype.type(ret / rcount)\n",
      "/home/mischa/miniconda3/envs/bf/lib/python3.10/site-packages/numpy/core/_methods.py:265: RuntimeWarning: Degrees of freedom <= 0 for slice\n",
      "  ret = _var(a, axis=axis, dtype=dtype, out=out, ddof=ddof,\n",
      "/home/mischa/miniconda3/envs/bf/lib/python3.10/site-packages/numpy/core/_methods.py:223: RuntimeWarning: invalid value encountered in divide\n",
      "  arrmean = um.true_divide(arrmean, div, out=arrmean, casting='unsafe',\n",
      "/home/mischa/miniconda3/envs/bf/lib/python3.10/site-packages/numpy/core/_methods.py:257: RuntimeWarning: invalid value encountered in divide\n",
      "  ret = ret.dtype.type(ret / rcount)\n"
     ]
    },
    {
     "name": "stdout",
     "output_type": "stream",
     "text": [
      "20231iat4.txt done\n",
      "Initial shape: 25531\n",
      "After removing no age IDs: 25520\n",
      "After removing invalid IDs: 25520\n",
      "After excluding zero latency IDs: 25509\n",
      "After excluding != 120 trials IDs: 24630\n",
      "After excluding more than 50% error IDs: 24553\n",
      "After excluding zero error IDs: 22563\n",
      "Successfully read datafile 20231iat5.txt .\n",
      "Converting to X and y arrays...\n",
      "IDs with less than 20 trials <200 ms or >10 seconds: (22276, 120, 3)\n",
      "IDs with 60 trials for each condition, 60 trials for both picture and word stimuli: (22276, 120, 3)\n",
      "Final shape of RTs chunk (after once more excluding cases w/ missing age or trials):  (22276, 120, 4)\n",
      "Final shape of outcomes chunk:  (22276, 120, 4)\n"
     ]
    },
    {
     "name": "stderr",
     "output_type": "stream",
     "text": [
      "/home/mischa/miniconda3/envs/bf/lib/python3.10/site-packages/numpy/core/fromnumeric.py:3432: RuntimeWarning: Mean of empty slice.\n",
      "  return _methods._mean(a, axis=axis, dtype=dtype,\n",
      "/home/mischa/miniconda3/envs/bf/lib/python3.10/site-packages/numpy/core/_methods.py:190: RuntimeWarning: invalid value encountered in divide\n",
      "  ret = ret.dtype.type(ret / rcount)\n",
      "/home/mischa/miniconda3/envs/bf/lib/python3.10/site-packages/numpy/core/_methods.py:265: RuntimeWarning: Degrees of freedom <= 0 for slice\n",
      "  ret = _var(a, axis=axis, dtype=dtype, out=out, ddof=ddof,\n",
      "/home/mischa/miniconda3/envs/bf/lib/python3.10/site-packages/numpy/core/_methods.py:223: RuntimeWarning: invalid value encountered in divide\n",
      "  arrmean = um.true_divide(arrmean, div, out=arrmean, casting='unsafe',\n",
      "/home/mischa/miniconda3/envs/bf/lib/python3.10/site-packages/numpy/core/_methods.py:257: RuntimeWarning: invalid value encountered in divide\n",
      "  ret = ret.dtype.type(ret / rcount)\n"
     ]
    },
    {
     "name": "stdout",
     "output_type": "stream",
     "text": [
      "20231iat5.txt done\n",
      "Initial shape: 7502\n",
      "After removing no age IDs: 7502\n",
      "After removing invalid IDs: 7502\n",
      "After excluding zero latency IDs: 7498\n",
      "After excluding != 120 trials IDs: 7232\n",
      "After excluding more than 50% error IDs: 7219\n",
      "After excluding zero error IDs: 6533\n",
      "Successfully read datafile 20231iat6.txt .\n",
      "Converting to X and y arrays...\n",
      "IDs with less than 20 trials <200 ms or >10 seconds: (6463, 120, 3)\n",
      "IDs with 60 trials for each condition, 60 trials for both picture and word stimuli: (6463, 120, 3)\n",
      "Final shape of RTs chunk (after once more excluding cases w/ missing age or trials):  (6463, 120, 4)\n",
      "Final shape of outcomes chunk:  (6463, 120, 4)\n"
     ]
    },
    {
     "name": "stderr",
     "output_type": "stream",
     "text": [
      "/home/mischa/miniconda3/envs/bf/lib/python3.10/site-packages/numpy/core/fromnumeric.py:3432: RuntimeWarning: Mean of empty slice.\n",
      "  return _methods._mean(a, axis=axis, dtype=dtype,\n",
      "/home/mischa/miniconda3/envs/bf/lib/python3.10/site-packages/numpy/core/_methods.py:190: RuntimeWarning: invalid value encountered in divide\n",
      "  ret = ret.dtype.type(ret / rcount)\n",
      "/home/mischa/miniconda3/envs/bf/lib/python3.10/site-packages/numpy/core/_methods.py:265: RuntimeWarning: Degrees of freedom <= 0 for slice\n",
      "  ret = _var(a, axis=axis, dtype=dtype, out=out, ddof=ddof,\n",
      "/home/mischa/miniconda3/envs/bf/lib/python3.10/site-packages/numpy/core/_methods.py:223: RuntimeWarning: invalid value encountered in divide\n",
      "  arrmean = um.true_divide(arrmean, div, out=arrmean, casting='unsafe',\n",
      "/home/mischa/miniconda3/envs/bf/lib/python3.10/site-packages/numpy/core/_methods.py:257: RuntimeWarning: invalid value encountered in divide\n",
      "  ret = ret.dtype.type(ret / rcount)\n"
     ]
    },
    {
     "name": "stdout",
     "output_type": "stream",
     "text": [
      "20231iat6.txt done\n",
      "Initial shape: 25701\n",
      "After removing no age IDs: 25694\n",
      "After removing invalid IDs: 25694\n",
      "After excluding zero latency IDs: 25684\n",
      "After excluding != 120 trials IDs: 24861\n",
      "After excluding more than 50% error IDs: 24791\n",
      "After excluding zero error IDs: 22679\n",
      "Successfully read datafile 20232iat.txt .\n",
      "Converting to X and y arrays...\n",
      "IDs with less than 20 trials <200 ms or >10 seconds: (22448, 120, 3)\n",
      "IDs with 60 trials for each condition, 60 trials for both picture and word stimuli: (22448, 120, 3)\n",
      "Final shape of RTs chunk (after once more excluding cases w/ missing age or trials):  (22448, 120, 4)\n",
      "Final shape of outcomes chunk:  (22448, 120, 4)\n"
     ]
    },
    {
     "name": "stderr",
     "output_type": "stream",
     "text": [
      "/home/mischa/miniconda3/envs/bf/lib/python3.10/site-packages/numpy/core/fromnumeric.py:3432: RuntimeWarning: Mean of empty slice.\n",
      "  return _methods._mean(a, axis=axis, dtype=dtype,\n",
      "/home/mischa/miniconda3/envs/bf/lib/python3.10/site-packages/numpy/core/_methods.py:190: RuntimeWarning: invalid value encountered in divide\n",
      "  ret = ret.dtype.type(ret / rcount)\n",
      "/home/mischa/miniconda3/envs/bf/lib/python3.10/site-packages/numpy/core/_methods.py:265: RuntimeWarning: Degrees of freedom <= 0 for slice\n",
      "  ret = _var(a, axis=axis, dtype=dtype, out=out, ddof=ddof,\n",
      "/home/mischa/miniconda3/envs/bf/lib/python3.10/site-packages/numpy/core/_methods.py:223: RuntimeWarning: invalid value encountered in divide\n",
      "  arrmean = um.true_divide(arrmean, div, out=arrmean, casting='unsafe',\n",
      "/home/mischa/miniconda3/envs/bf/lib/python3.10/site-packages/numpy/core/_methods.py:257: RuntimeWarning: invalid value encountered in divide\n",
      "  ret = ret.dtype.type(ret / rcount)\n"
     ]
    },
    {
     "name": "stdout",
     "output_type": "stream",
     "text": [
      "20232iat.txt done\n",
      "Initial shape: 26183\n",
      "After removing no age IDs: 26167\n",
      "After removing invalid IDs: 26167\n",
      "After excluding zero latency IDs: 26161\n",
      "After excluding != 120 trials IDs: 24893\n",
      "After excluding more than 50% error IDs: 24824\n",
      "After excluding zero error IDs: 22499\n",
      "Successfully read datafile 20232iat2.txt .\n",
      "Converting to X and y arrays...\n",
      "IDs with less than 20 trials <200 ms or >10 seconds: (22280, 120, 3)\n",
      "IDs with 60 trials for each condition, 60 trials for both picture and word stimuli: (22280, 120, 3)\n",
      "Final shape of RTs chunk (after once more excluding cases w/ missing age or trials):  (22280, 120, 4)\n",
      "Final shape of outcomes chunk:  (22280, 120, 4)\n"
     ]
    },
    {
     "name": "stderr",
     "output_type": "stream",
     "text": [
      "/home/mischa/miniconda3/envs/bf/lib/python3.10/site-packages/numpy/core/fromnumeric.py:3432: RuntimeWarning: Mean of empty slice.\n",
      "  return _methods._mean(a, axis=axis, dtype=dtype,\n",
      "/home/mischa/miniconda3/envs/bf/lib/python3.10/site-packages/numpy/core/_methods.py:190: RuntimeWarning: invalid value encountered in divide\n",
      "  ret = ret.dtype.type(ret / rcount)\n",
      "/home/mischa/miniconda3/envs/bf/lib/python3.10/site-packages/numpy/core/_methods.py:265: RuntimeWarning: Degrees of freedom <= 0 for slice\n",
      "  ret = _var(a, axis=axis, dtype=dtype, out=out, ddof=ddof,\n",
      "/home/mischa/miniconda3/envs/bf/lib/python3.10/site-packages/numpy/core/_methods.py:223: RuntimeWarning: invalid value encountered in divide\n",
      "  arrmean = um.true_divide(arrmean, div, out=arrmean, casting='unsafe',\n",
      "/home/mischa/miniconda3/envs/bf/lib/python3.10/site-packages/numpy/core/_methods.py:257: RuntimeWarning: invalid value encountered in divide\n",
      "  ret = ret.dtype.type(ret / rcount)\n"
     ]
    },
    {
     "name": "stdout",
     "output_type": "stream",
     "text": [
      "20232iat2.txt done\n",
      "Initial shape: 26089\n",
      "After removing no age IDs: 26080\n",
      "After removing invalid IDs: 26080\n",
      "After excluding zero latency IDs: 26077\n",
      "After excluding != 120 trials IDs: 24816\n",
      "After excluding more than 50% error IDs: 24761\n",
      "After excluding zero error IDs: 22368\n",
      "Successfully read datafile 20232iat3.txt .\n",
      "Converting to X and y arrays...\n",
      "IDs with less than 20 trials <200 ms or >10 seconds: (22145, 120, 3)\n",
      "IDs with 60 trials for each condition, 60 trials for both picture and word stimuli: (22145, 120, 3)\n",
      "Final shape of RTs chunk (after once more excluding cases w/ missing age or trials):  (22145, 120, 4)\n",
      "Final shape of outcomes chunk:  (22145, 120, 4)\n"
     ]
    },
    {
     "name": "stderr",
     "output_type": "stream",
     "text": [
      "/home/mischa/miniconda3/envs/bf/lib/python3.10/site-packages/numpy/core/fromnumeric.py:3432: RuntimeWarning: Mean of empty slice.\n",
      "  return _methods._mean(a, axis=axis, dtype=dtype,\n",
      "/home/mischa/miniconda3/envs/bf/lib/python3.10/site-packages/numpy/core/_methods.py:190: RuntimeWarning: invalid value encountered in divide\n",
      "  ret = ret.dtype.type(ret / rcount)\n",
      "/home/mischa/miniconda3/envs/bf/lib/python3.10/site-packages/numpy/core/_methods.py:265: RuntimeWarning: Degrees of freedom <= 0 for slice\n",
      "  ret = _var(a, axis=axis, dtype=dtype, out=out, ddof=ddof,\n",
      "/home/mischa/miniconda3/envs/bf/lib/python3.10/site-packages/numpy/core/_methods.py:223: RuntimeWarning: invalid value encountered in divide\n",
      "  arrmean = um.true_divide(arrmean, div, out=arrmean, casting='unsafe',\n",
      "/home/mischa/miniconda3/envs/bf/lib/python3.10/site-packages/numpy/core/_methods.py:257: RuntimeWarning: invalid value encountered in divide\n",
      "  ret = ret.dtype.type(ret / rcount)\n"
     ]
    },
    {
     "name": "stdout",
     "output_type": "stream",
     "text": [
      "20232iat3.txt done\n",
      "Initial shape: 26013\n",
      "After removing no age IDs: 25998\n",
      "After removing invalid IDs: 25998\n",
      "After excluding zero latency IDs: 25990\n",
      "After excluding != 120 trials IDs: 24809\n",
      "After excluding more than 50% error IDs: 24750\n",
      "After excluding zero error IDs: 22540\n",
      "Successfully read datafile 20232iat4.txt .\n",
      "Converting to X and y arrays...\n",
      "IDs with less than 20 trials <200 ms or >10 seconds: (22325, 120, 3)\n",
      "IDs with 60 trials for each condition, 60 trials for both picture and word stimuli: (22325, 120, 3)\n",
      "Final shape of RTs chunk (after once more excluding cases w/ missing age or trials):  (22325, 120, 4)\n",
      "Final shape of outcomes chunk:  (22325, 120, 4)\n"
     ]
    },
    {
     "name": "stderr",
     "output_type": "stream",
     "text": [
      "/home/mischa/miniconda3/envs/bf/lib/python3.10/site-packages/numpy/core/fromnumeric.py:3432: RuntimeWarning: Mean of empty slice.\n",
      "  return _methods._mean(a, axis=axis, dtype=dtype,\n",
      "/home/mischa/miniconda3/envs/bf/lib/python3.10/site-packages/numpy/core/_methods.py:190: RuntimeWarning: invalid value encountered in divide\n",
      "  ret = ret.dtype.type(ret / rcount)\n",
      "/home/mischa/miniconda3/envs/bf/lib/python3.10/site-packages/numpy/core/_methods.py:265: RuntimeWarning: Degrees of freedom <= 0 for slice\n",
      "  ret = _var(a, axis=axis, dtype=dtype, out=out, ddof=ddof,\n",
      "/home/mischa/miniconda3/envs/bf/lib/python3.10/site-packages/numpy/core/_methods.py:223: RuntimeWarning: invalid value encountered in divide\n",
      "  arrmean = um.true_divide(arrmean, div, out=arrmean, casting='unsafe',\n",
      "/home/mischa/miniconda3/envs/bf/lib/python3.10/site-packages/numpy/core/_methods.py:257: RuntimeWarning: invalid value encountered in divide\n",
      "  ret = ret.dtype.type(ret / rcount)\n"
     ]
    },
    {
     "name": "stdout",
     "output_type": "stream",
     "text": [
      "20232iat4.txt done\n",
      "Initial shape: 14652\n",
      "After removing no age IDs: 14637\n",
      "After removing invalid IDs: 14637\n",
      "After excluding zero latency IDs: 14632\n",
      "After excluding != 120 trials IDs: 13853\n",
      "After excluding more than 50% error IDs: 13815\n",
      "After excluding zero error IDs: 12649\n",
      "Successfully read datafile 20232iat5.txt .\n",
      "Converting to X and y arrays...\n",
      "IDs with less than 20 trials <200 ms or >10 seconds: (12541, 120, 3)\n",
      "IDs with 60 trials for each condition, 60 trials for both picture and word stimuli: (12541, 120, 3)\n",
      "Final shape of RTs chunk (after once more excluding cases w/ missing age or trials):  (12541, 120, 4)\n",
      "Final shape of outcomes chunk:  (12541, 120, 4)\n"
     ]
    },
    {
     "name": "stderr",
     "output_type": "stream",
     "text": [
      "/home/mischa/miniconda3/envs/bf/lib/python3.10/site-packages/numpy/core/fromnumeric.py:3432: RuntimeWarning: Mean of empty slice.\n",
      "  return _methods._mean(a, axis=axis, dtype=dtype,\n",
      "/home/mischa/miniconda3/envs/bf/lib/python3.10/site-packages/numpy/core/_methods.py:190: RuntimeWarning: invalid value encountered in divide\n",
      "  ret = ret.dtype.type(ret / rcount)\n",
      "/home/mischa/miniconda3/envs/bf/lib/python3.10/site-packages/numpy/core/_methods.py:265: RuntimeWarning: Degrees of freedom <= 0 for slice\n",
      "  ret = _var(a, axis=axis, dtype=dtype, out=out, ddof=ddof,\n",
      "/home/mischa/miniconda3/envs/bf/lib/python3.10/site-packages/numpy/core/_methods.py:223: RuntimeWarning: invalid value encountered in divide\n",
      "  arrmean = um.true_divide(arrmean, div, out=arrmean, casting='unsafe',\n",
      "/home/mischa/miniconda3/envs/bf/lib/python3.10/site-packages/numpy/core/_methods.py:257: RuntimeWarning: invalid value encountered in divide\n",
      "  ret = ret.dtype.type(ret / rcount)\n"
     ]
    },
    {
     "name": "stdout",
     "output_type": "stream",
     "text": [
      "20232iat5.txt done\n"
     ]
    }
   ],
   "source": [
    "datasets = sorted(os.listdir(PATH))\n",
    "\n",
    "#For each chunk\n",
    "for black_not_african in (False, True):\n",
    "    \n",
    "    for dataset_name in datasets:\n",
    "    \n",
    "        # 1. Load and prepare chunk\n",
    "        try:\n",
    "            X_test, y_test = prepare_data(dataset_name, black_not_african)\n",
    "        except:\n",
    "            continue\n",
    "\n",
    "        # 2. Prepare RT summaries\n",
    "        summary_stats = process_rt_data(X_test)\n",
    "        \n",
    "        # 3. Save pickle\n",
    "        dict_to_store = {'data_array': X_test, \"outcome_array\": y_test, 'rt_summaries': summary_stats}\n",
    "        \n",
    "        pickle.dump(dict_to_store,\n",
    "                    open(\n",
    "                        PATH_TO_SAVE+ \"prepared_\"+str(black_not_african)+ str(dataset_name.replace('.txt',\n",
    "                                                                                                   '.p') ),\"wb\"))\n",
    "        print(str(dataset_name)+ \" done\")"
   ]
  }
 ],
 "metadata": {
  "kernelspec": {
   "display_name": "Python 3 (ipykernel)",
   "language": "python",
   "name": "python3"
  },
  "language_info": {
   "codemirror_mode": {
    "name": "ipython",
    "version": 3
   },
   "file_extension": ".py",
   "mimetype": "text/x-python",
   "name": "python",
   "nbconvert_exporter": "python",
   "pygments_lexer": "ipython3",
   "version": "3.10.0"
  }
 },
 "nbformat": 4,
 "nbformat_minor": 5
}
